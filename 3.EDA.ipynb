{
 "cells": [
  {
   "cell_type": "markdown",
   "metadata": {},
   "source": [
    "# Google Analytics Revenue Prediction"
   ]
  },
  {
   "cell_type": "markdown",
   "metadata": {},
   "source": [
    "## EDA"
   ]
  },
  {
   "cell_type": "markdown",
   "metadata": {},
   "source": [
    "**Environment**"
   ]
  },
  {
   "cell_type": "code",
   "execution_count": 1,
   "metadata": {},
   "outputs": [
    {
     "data": {
      "text/html": [
       "<style>.container { width:100% !important; }</style>"
      ],
      "text/plain": [
       "<IPython.core.display.HTML object>"
      ]
     },
     "metadata": {},
     "output_type": "display_data"
    }
   ],
   "source": [
    "import pandas as pd\n",
    "import numpy as np\n",
    "from datetime import datetime\n",
    "import seaborn as sns\n",
    "import matplotlib.pyplot as plt\n",
    "import math\n",
    "\n",
    "# Pandas defaults\n",
    "pd.options.display.max_columns = 500\n",
    "pd.options.display.max_rows = 500\n",
    " \n",
    "# Make jupyter bigger\n",
    "from IPython.core.display import display, HTML\n",
    "display(HTML('<style>.container { width:100% !important; }</style>'))"
   ]
  },
  {
   "cell_type": "code",
   "execution_count": 2,
   "metadata": {},
   "outputs": [],
   "source": [
    "from myfunctions import *"
   ]
  },
  {
   "cell_type": "markdown",
   "metadata": {},
   "source": [
    "**Import Dataframe**"
   ]
  },
  {
   "cell_type": "code",
   "execution_count": 3,
   "metadata": {},
   "outputs": [],
   "source": [
    "df = pd.read_csv(\"data/df3.csv\", low_memory=False)"
   ]
  },
  {
   "cell_type": "code",
   "execution_count": 4,
   "metadata": {},
   "outputs": [
    {
     "data": {
      "text/html": [
       "<div>\n",
       "<style scoped>\n",
       "    .dataframe tbody tr th:only-of-type {\n",
       "        vertical-align: middle;\n",
       "    }\n",
       "\n",
       "    .dataframe tbody tr th {\n",
       "        vertical-align: top;\n",
       "    }\n",
       "\n",
       "    .dataframe thead th {\n",
       "        text-align: right;\n",
       "    }\n",
       "</style>\n",
       "<table border=\"1\" class=\"dataframe\">\n",
       "  <thead>\n",
       "    <tr style=\"text-align: right;\">\n",
       "      <th></th>\n",
       "      <th>channelGrouping</th>\n",
       "      <th>date</th>\n",
       "      <th>fullVisitorId</th>\n",
       "      <th>visitNumber</th>\n",
       "      <th>visitStartTime</th>\n",
       "      <th>deviceBrowser</th>\n",
       "      <th>deviceCategory</th>\n",
       "      <th>deviceIsMobile</th>\n",
       "      <th>deviceOS</th>\n",
       "      <th>geoCity</th>\n",
       "      <th>geoContinent</th>\n",
       "      <th>geoCountry</th>\n",
       "      <th>geoMetro</th>\n",
       "      <th>geoDomain</th>\n",
       "      <th>geoRegion</th>\n",
       "      <th>geoSubContinent</th>\n",
       "      <th>totalsBounces</th>\n",
       "      <th>totalsHits</th>\n",
       "      <th>totalsNewVisits</th>\n",
       "      <th>totalsPageviews</th>\n",
       "      <th>trafficSourceAdContent</th>\n",
       "      <th>adwordsClickAdNetworkType</th>\n",
       "      <th>adwordsClickGclId</th>\n",
       "      <th>adwordsClickInfoPage</th>\n",
       "      <th>adwordsClickInfoSlot</th>\n",
       "      <th>trafficSourceCampaign</th>\n",
       "      <th>trafficSourceIsTrueDirect</th>\n",
       "      <th>trafficSourceKeyword</th>\n",
       "      <th>trafficSourceMedium</th>\n",
       "      <th>trafficSourceReferralPath</th>\n",
       "      <th>trafficSourceSource</th>\n",
       "      <th>totalsTransactionRevenue</th>\n",
       "    </tr>\n",
       "  </thead>\n",
       "  <tbody>\n",
       "    <tr>\n",
       "      <th>0</th>\n",
       "      <td>Organic Search</td>\n",
       "      <td>2016-09-02</td>\n",
       "      <td>1131660440785968503</td>\n",
       "      <td>1</td>\n",
       "      <td>1472830385</td>\n",
       "      <td>Chrome</td>\n",
       "      <td>desktop</td>\n",
       "      <td>False</td>\n",
       "      <td>Windows</td>\n",
       "      <td>Izmir</td>\n",
       "      <td>Asia</td>\n",
       "      <td>Turkey</td>\n",
       "      <td>Unknown</td>\n",
       "      <td>ttnet.com.tr</td>\n",
       "      <td>Izmir</td>\n",
       "      <td>Western Asia</td>\n",
       "      <td>1.0</td>\n",
       "      <td>1</td>\n",
       "      <td>1.0</td>\n",
       "      <td>1.0</td>\n",
       "      <td>NoAd</td>\n",
       "      <td>NoAdWords</td>\n",
       "      <td>0</td>\n",
       "      <td>0.0</td>\n",
       "      <td>NaN</td>\n",
       "      <td>NoCampaign</td>\n",
       "      <td>False</td>\n",
       "      <td>NoKeyword</td>\n",
       "      <td>organic</td>\n",
       "      <td>NoReferral</td>\n",
       "      <td>google</td>\n",
       "      <td>0.0</td>\n",
       "    </tr>\n",
       "    <tr>\n",
       "      <th>1</th>\n",
       "      <td>Organic Search</td>\n",
       "      <td>2016-09-02</td>\n",
       "      <td>377306020877927890</td>\n",
       "      <td>1</td>\n",
       "      <td>1472880147</td>\n",
       "      <td>Firefox</td>\n",
       "      <td>desktop</td>\n",
       "      <td>False</td>\n",
       "      <td>Macintosh</td>\n",
       "      <td>Unknown</td>\n",
       "      <td>Oceania</td>\n",
       "      <td>Australia</td>\n",
       "      <td>Unknown</td>\n",
       "      <td>dodo.net.au</td>\n",
       "      <td>Unknown</td>\n",
       "      <td>Australasia</td>\n",
       "      <td>1.0</td>\n",
       "      <td>1</td>\n",
       "      <td>1.0</td>\n",
       "      <td>1.0</td>\n",
       "      <td>NoAd</td>\n",
       "      <td>NoAdWords</td>\n",
       "      <td>0</td>\n",
       "      <td>0.0</td>\n",
       "      <td>NaN</td>\n",
       "      <td>NoCampaign</td>\n",
       "      <td>False</td>\n",
       "      <td>NoKeyword</td>\n",
       "      <td>organic</td>\n",
       "      <td>NoReferral</td>\n",
       "      <td>google</td>\n",
       "      <td>0.0</td>\n",
       "    </tr>\n",
       "    <tr>\n",
       "      <th>2</th>\n",
       "      <td>Organic Search</td>\n",
       "      <td>2016-09-02</td>\n",
       "      <td>3895546263509774583</td>\n",
       "      <td>1</td>\n",
       "      <td>1472865386</td>\n",
       "      <td>Chrome</td>\n",
       "      <td>desktop</td>\n",
       "      <td>False</td>\n",
       "      <td>Windows</td>\n",
       "      <td>Madrid</td>\n",
       "      <td>Europe</td>\n",
       "      <td>Spain</td>\n",
       "      <td>Unknown</td>\n",
       "      <td>Unknown</td>\n",
       "      <td>Community of Madrid</td>\n",
       "      <td>Southern Europe</td>\n",
       "      <td>1.0</td>\n",
       "      <td>1</td>\n",
       "      <td>1.0</td>\n",
       "      <td>1.0</td>\n",
       "      <td>NoAd</td>\n",
       "      <td>NoAdWords</td>\n",
       "      <td>0</td>\n",
       "      <td>0.0</td>\n",
       "      <td>NaN</td>\n",
       "      <td>NoCampaign</td>\n",
       "      <td>False</td>\n",
       "      <td>NoKeyword</td>\n",
       "      <td>organic</td>\n",
       "      <td>NoReferral</td>\n",
       "      <td>google</td>\n",
       "      <td>0.0</td>\n",
       "    </tr>\n",
       "    <tr>\n",
       "      <th>3</th>\n",
       "      <td>Organic Search</td>\n",
       "      <td>2016-09-02</td>\n",
       "      <td>4763447161404445595</td>\n",
       "      <td>1</td>\n",
       "      <td>1472881213</td>\n",
       "      <td>UC Browser</td>\n",
       "      <td>desktop</td>\n",
       "      <td>False</td>\n",
       "      <td>Linux</td>\n",
       "      <td>Unknown</td>\n",
       "      <td>Asia</td>\n",
       "      <td>Indonesia</td>\n",
       "      <td>Unknown</td>\n",
       "      <td>Unknown</td>\n",
       "      <td>Unknown</td>\n",
       "      <td>Southeast Asia</td>\n",
       "      <td>1.0</td>\n",
       "      <td>1</td>\n",
       "      <td>1.0</td>\n",
       "      <td>1.0</td>\n",
       "      <td>NoAd</td>\n",
       "      <td>NoAdWords</td>\n",
       "      <td>0</td>\n",
       "      <td>0.0</td>\n",
       "      <td>NaN</td>\n",
       "      <td>NoCampaign</td>\n",
       "      <td>False</td>\n",
       "      <td>google + online</td>\n",
       "      <td>organic</td>\n",
       "      <td>NoReferral</td>\n",
       "      <td>google</td>\n",
       "      <td>0.0</td>\n",
       "    </tr>\n",
       "    <tr>\n",
       "      <th>4</th>\n",
       "      <td>Organic Search</td>\n",
       "      <td>2016-09-02</td>\n",
       "      <td>27294437909732085</td>\n",
       "      <td>2</td>\n",
       "      <td>1472822600</td>\n",
       "      <td>Chrome</td>\n",
       "      <td>mobile</td>\n",
       "      <td>True</td>\n",
       "      <td>Android</td>\n",
       "      <td>Unknown</td>\n",
       "      <td>Europe</td>\n",
       "      <td>United Kingdom</td>\n",
       "      <td>Unknown</td>\n",
       "      <td>Unknown</td>\n",
       "      <td>Unknown</td>\n",
       "      <td>Northern Europe</td>\n",
       "      <td>1.0</td>\n",
       "      <td>1</td>\n",
       "      <td>0.0</td>\n",
       "      <td>1.0</td>\n",
       "      <td>NoAd</td>\n",
       "      <td>NoAdWords</td>\n",
       "      <td>0</td>\n",
       "      <td>0.0</td>\n",
       "      <td>NaN</td>\n",
       "      <td>NoCampaign</td>\n",
       "      <td>True</td>\n",
       "      <td>NoKeyword</td>\n",
       "      <td>organic</td>\n",
       "      <td>NoReferral</td>\n",
       "      <td>google</td>\n",
       "      <td>0.0</td>\n",
       "    </tr>\n",
       "  </tbody>\n",
       "</table>\n",
       "</div>"
      ],
      "text/plain": [
       "  channelGrouping        date        fullVisitorId  visitNumber  \\\n",
       "0  Organic Search  2016-09-02  1131660440785968503            1   \n",
       "1  Organic Search  2016-09-02   377306020877927890            1   \n",
       "2  Organic Search  2016-09-02  3895546263509774583            1   \n",
       "3  Organic Search  2016-09-02  4763447161404445595            1   \n",
       "4  Organic Search  2016-09-02    27294437909732085            2   \n",
       "\n",
       "   visitStartTime deviceBrowser deviceCategory  deviceIsMobile   deviceOS  \\\n",
       "0      1472830385        Chrome        desktop           False    Windows   \n",
       "1      1472880147       Firefox        desktop           False  Macintosh   \n",
       "2      1472865386        Chrome        desktop           False    Windows   \n",
       "3      1472881213    UC Browser        desktop           False      Linux   \n",
       "4      1472822600        Chrome         mobile            True    Android   \n",
       "\n",
       "   geoCity geoContinent      geoCountry geoMetro     geoDomain  \\\n",
       "0    Izmir         Asia          Turkey  Unknown  ttnet.com.tr   \n",
       "1  Unknown      Oceania       Australia  Unknown   dodo.net.au   \n",
       "2   Madrid       Europe           Spain  Unknown       Unknown   \n",
       "3  Unknown         Asia       Indonesia  Unknown       Unknown   \n",
       "4  Unknown       Europe  United Kingdom  Unknown       Unknown   \n",
       "\n",
       "             geoRegion  geoSubContinent  totalsBounces  totalsHits  \\\n",
       "0                Izmir     Western Asia            1.0           1   \n",
       "1              Unknown      Australasia            1.0           1   \n",
       "2  Community of Madrid  Southern Europe            1.0           1   \n",
       "3              Unknown   Southeast Asia            1.0           1   \n",
       "4              Unknown  Northern Europe            1.0           1   \n",
       "\n",
       "   totalsNewVisits  totalsPageviews trafficSourceAdContent  \\\n",
       "0              1.0              1.0                   NoAd   \n",
       "1              1.0              1.0                   NoAd   \n",
       "2              1.0              1.0                   NoAd   \n",
       "3              1.0              1.0                   NoAd   \n",
       "4              0.0              1.0                   NoAd   \n",
       "\n",
       "  adwordsClickAdNetworkType  adwordsClickGclId  adwordsClickInfoPage  \\\n",
       "0                 NoAdWords                  0                   0.0   \n",
       "1                 NoAdWords                  0                   0.0   \n",
       "2                 NoAdWords                  0                   0.0   \n",
       "3                 NoAdWords                  0                   0.0   \n",
       "4                 NoAdWords                  0                   0.0   \n",
       "\n",
       "  adwordsClickInfoSlot trafficSourceCampaign  trafficSourceIsTrueDirect  \\\n",
       "0                  NaN            NoCampaign                      False   \n",
       "1                  NaN            NoCampaign                      False   \n",
       "2                  NaN            NoCampaign                      False   \n",
       "3                  NaN            NoCampaign                      False   \n",
       "4                  NaN            NoCampaign                       True   \n",
       "\n",
       "  trafficSourceKeyword trafficSourceMedium trafficSourceReferralPath  \\\n",
       "0            NoKeyword             organic                NoReferral   \n",
       "1            NoKeyword             organic                NoReferral   \n",
       "2            NoKeyword             organic                NoReferral   \n",
       "3      google + online             organic                NoReferral   \n",
       "4            NoKeyword             organic                NoReferral   \n",
       "\n",
       "  trafficSourceSource  totalsTransactionRevenue  \n",
       "0              google                       0.0  \n",
       "1              google                       0.0  \n",
       "2              google                       0.0  \n",
       "3              google                       0.0  \n",
       "4              google                       0.0  "
      ]
     },
     "execution_count": 4,
     "metadata": {},
     "output_type": "execute_result"
    }
   ],
   "source": [
    "df.head()"
   ]
  },
  {
   "cell_type": "markdown",
   "metadata": {},
   "source": [
    "### EDA NUMERICAL"
   ]
  },
  {
   "cell_type": "markdown",
   "metadata": {},
   "source": [
    "Subsetting the dataframe with the numerical vars"
   ]
  },
  {
   "cell_type": "code",
   "execution_count": 5,
   "metadata": {},
   "outputs": [],
   "source": [
    "df_num = df[['totalsTransactionRevenue','totalsHits','totalsPageviews','adwordsClickInfoPage']]"
   ]
  },
  {
   "cell_type": "code",
   "execution_count": 6,
   "metadata": {},
   "outputs": [
    {
     "data": {
      "text/html": [
       "<div>\n",
       "<style scoped>\n",
       "    .dataframe tbody tr th:only-of-type {\n",
       "        vertical-align: middle;\n",
       "    }\n",
       "\n",
       "    .dataframe tbody tr th {\n",
       "        vertical-align: top;\n",
       "    }\n",
       "\n",
       "    .dataframe thead th {\n",
       "        text-align: right;\n",
       "    }\n",
       "</style>\n",
       "<table border=\"1\" class=\"dataframe\">\n",
       "  <thead>\n",
       "    <tr style=\"text-align: right;\">\n",
       "      <th></th>\n",
       "      <th>totalsTransactionRevenue</th>\n",
       "      <th>totalsHits</th>\n",
       "      <th>totalsPageviews</th>\n",
       "      <th>adwordsClickInfoPage</th>\n",
       "    </tr>\n",
       "  </thead>\n",
       "  <tbody>\n",
       "    <tr>\n",
       "      <th>0</th>\n",
       "      <td>0.0</td>\n",
       "      <td>1</td>\n",
       "      <td>1.0</td>\n",
       "      <td>0.0</td>\n",
       "    </tr>\n",
       "    <tr>\n",
       "      <th>1</th>\n",
       "      <td>0.0</td>\n",
       "      <td>1</td>\n",
       "      <td>1.0</td>\n",
       "      <td>0.0</td>\n",
       "    </tr>\n",
       "    <tr>\n",
       "      <th>2</th>\n",
       "      <td>0.0</td>\n",
       "      <td>1</td>\n",
       "      <td>1.0</td>\n",
       "      <td>0.0</td>\n",
       "    </tr>\n",
       "    <tr>\n",
       "      <th>3</th>\n",
       "      <td>0.0</td>\n",
       "      <td>1</td>\n",
       "      <td>1.0</td>\n",
       "      <td>0.0</td>\n",
       "    </tr>\n",
       "    <tr>\n",
       "      <th>4</th>\n",
       "      <td>0.0</td>\n",
       "      <td>1</td>\n",
       "      <td>1.0</td>\n",
       "      <td>0.0</td>\n",
       "    </tr>\n",
       "  </tbody>\n",
       "</table>\n",
       "</div>"
      ],
      "text/plain": [
       "   totalsTransactionRevenue  totalsHits  totalsPageviews  adwordsClickInfoPage\n",
       "0                       0.0           1              1.0                   0.0\n",
       "1                       0.0           1              1.0                   0.0\n",
       "2                       0.0           1              1.0                   0.0\n",
       "3                       0.0           1              1.0                   0.0\n",
       "4                       0.0           1              1.0                   0.0"
      ]
     },
     "execution_count": 6,
     "metadata": {},
     "output_type": "execute_result"
    }
   ],
   "source": [
    "df_num.head()"
   ]
  },
  {
   "cell_type": "code",
   "execution_count": 7,
   "metadata": {},
   "outputs": [
    {
     "data": {
      "text/html": [
       "<div>\n",
       "<style scoped>\n",
       "    .dataframe tbody tr th:only-of-type {\n",
       "        vertical-align: middle;\n",
       "    }\n",
       "\n",
       "    .dataframe tbody tr th {\n",
       "        vertical-align: top;\n",
       "    }\n",
       "\n",
       "    .dataframe thead th {\n",
       "        text-align: right;\n",
       "    }\n",
       "</style>\n",
       "<table border=\"1\" class=\"dataframe\">\n",
       "  <thead>\n",
       "    <tr style=\"text-align: right;\">\n",
       "      <th></th>\n",
       "      <th>count</th>\n",
       "      <th>mean</th>\n",
       "      <th>std</th>\n",
       "      <th>min</th>\n",
       "      <th>25%</th>\n",
       "      <th>50%</th>\n",
       "      <th>75%</th>\n",
       "      <th>max</th>\n",
       "    </tr>\n",
       "  </thead>\n",
       "  <tbody>\n",
       "    <tr>\n",
       "      <th>totalsTransactionRevenue</th>\n",
       "      <td>903553.0</td>\n",
       "      <td>1.704461e+06</td>\n",
       "      <td>5.278158e+07</td>\n",
       "      <td>0.0</td>\n",
       "      <td>0.0</td>\n",
       "      <td>0.0</td>\n",
       "      <td>0.0</td>\n",
       "      <td>2.312950e+10</td>\n",
       "    </tr>\n",
       "    <tr>\n",
       "      <th>totalsHits</th>\n",
       "      <td>903553.0</td>\n",
       "      <td>4.596866e+00</td>\n",
       "      <td>9.641905e+00</td>\n",
       "      <td>1.0</td>\n",
       "      <td>1.0</td>\n",
       "      <td>2.0</td>\n",
       "      <td>4.0</td>\n",
       "      <td>5.000000e+02</td>\n",
       "    </tr>\n",
       "    <tr>\n",
       "      <th>totalsPageviews</th>\n",
       "      <td>903553.0</td>\n",
       "      <td>3.849764e+00</td>\n",
       "      <td>7.025274e+00</td>\n",
       "      <td>1.0</td>\n",
       "      <td>1.0</td>\n",
       "      <td>1.0</td>\n",
       "      <td>4.0</td>\n",
       "      <td>4.690000e+02</td>\n",
       "    </tr>\n",
       "    <tr>\n",
       "      <th>adwordsClickInfoPage</th>\n",
       "      <td>903553.0</td>\n",
       "      <td>2.394326e-02</td>\n",
       "      <td>1.558196e-01</td>\n",
       "      <td>0.0</td>\n",
       "      <td>0.0</td>\n",
       "      <td>0.0</td>\n",
       "      <td>0.0</td>\n",
       "      <td>1.400000e+01</td>\n",
       "    </tr>\n",
       "  </tbody>\n",
       "</table>\n",
       "</div>"
      ],
      "text/plain": [
       "                             count          mean           std  min  25%  50%  \\\n",
       "totalsTransactionRevenue  903553.0  1.704461e+06  5.278158e+07  0.0  0.0  0.0   \n",
       "totalsHits                903553.0  4.596866e+00  9.641905e+00  1.0  1.0  2.0   \n",
       "totalsPageviews           903553.0  3.849764e+00  7.025274e+00  1.0  1.0  1.0   \n",
       "adwordsClickInfoPage      903553.0  2.394326e-02  1.558196e-01  0.0  0.0  0.0   \n",
       "\n",
       "                          75%           max  \n",
       "totalsTransactionRevenue  0.0  2.312950e+10  \n",
       "totalsHits                4.0  5.000000e+02  \n",
       "totalsPageviews           4.0  4.690000e+02  \n",
       "adwordsClickInfoPage      0.0  1.400000e+01  "
      ]
     },
     "execution_count": 7,
     "metadata": {},
     "output_type": "execute_result"
    }
   ],
   "source": [
    "df_num.describe().T"
   ]
  },
  {
   "cell_type": "markdown",
   "metadata": {},
   "source": [
    "#### TARGET VAR: totalsTransactionRevenue"
   ]
  },
  {
   "cell_type": "markdown",
   "metadata": {},
   "source": [
    "The target is a var called **totalsTransactionRevenue** wich is the exponential of the revenue in dollars."
   ]
  },
  {
   "cell_type": "markdown",
   "metadata": {},
   "source": [
    "In the distribution we see there are many 0: 'No Buy' and different Numerical values for the logarith of the amout."
   ]
  },
  {
   "cell_type": "code",
   "execution_count": 8,
   "metadata": {},
   "outputs": [
    {
     "data": {
      "text/plain": [
       "0.0           892038\n",
       "16990000.0       256\n",
       "18990000.0       189\n",
       "33590000.0       187\n",
       "44790000.0       170\n",
       "Name: totalsTransactionRevenue, dtype: int64"
      ]
     },
     "execution_count": 8,
     "metadata": {},
     "output_type": "execute_result"
    }
   ],
   "source": [
    "df.totalsTransactionRevenue.value_counts().head()"
   ]
  },
  {
   "cell_type": "code",
   "execution_count": 9,
   "metadata": {},
   "outputs": [
    {
     "name": "stdout",
     "output_type": "stream",
     "text": [
      "Numbers of Nulls:  0\n",
      "The description of this variable is:\n",
      " count    9.035530e+05\n",
      "mean     1.704461e+06\n",
      "std      5.278158e+07\n",
      "min      0.000000e+00\n",
      "25%      0.000000e+00\n",
      "50%      0.000000e+00\n",
      "75%      0.000000e+00\n",
      "max      2.312950e+10\n",
      "Name: totalsTransactionRevenue, dtype: float64\n"
     ]
    },
    {
     "data": {
      "image/png": "[encoded data removed]",
      "text/plain": [
       "<Figure size 432x288 with 1 Axes>"
      ]
     },
     "metadata": {
      "needs_background": "light"
     },
     "output_type": "display_data"
    },
    {
     "data": {
      "image/png": "[encoded data removed]",
      "text/plain": [
       "<Figure size 432x288 with 1 Axes>"
      ]
     },
     "metadata": {
      "needs_background": "light"
     },
     "output_type": "display_data"
    }
   ],
   "source": [
    "desc_num(df['totalsTransactionRevenue'],100, 'Revenue Exp')"
   ]
  },
  {
   "cell_type": "markdown",
   "metadata": {},
   "source": [
    "I'll review the distribution of the positive values of the column"
   ]
  },
  {
   "cell_type": "code",
   "execution_count": 10,
   "metadata": {},
   "outputs": [
    {
     "name": "stdout",
     "output_type": "stream",
     "text": [
      "Numbers of Nulls:  0\n",
      "The description of this variable is:\n",
      " count    1.151500e+04\n",
      "mean     1.337448e+08\n",
      "std      4.482852e+08\n",
      "min      1.000000e+04\n",
      "25%      2.493000e+07\n",
      "50%      4.945000e+07\n",
      "75%      1.076550e+08\n",
      "max      2.312950e+10\n",
      "Name: totalsTransactionRevenue, dtype: float64\n"
     ]
    },
    {
     "data": {
      "image/png": "[encoded data removed]",
      "text/plain": [
       "<Figure size 432x288 with 1 Axes>"
      ]
     },
     "metadata": {
      "needs_background": "light"
     },
     "output_type": "display_data"
    },
    {
     "data": {
      "image/png": "[encoded data removed]",
      "text/plain": [
       "<Figure size 432x288 with 1 Axes>"
      ]
     },
     "metadata": {
      "needs_background": "light"
     },
     "output_type": "display_data"
    }
   ],
   "source": [
    "desc_num(df['totalsTransactionRevenue'].loc[df['totalsTransactionRevenue']>0],100, 'Revenue Exp > 0')"
   ]
  },
  {
   "cell_type": "markdown",
   "metadata": {},
   "source": [
    "The distributions seams very right skeewed, and very unbalances."
   ]
  },
  {
   "cell_type": "markdown",
   "metadata": {},
   "source": [
    "I will create 2 new columns:\n",
    "* the column with the dollar revenues (log)\n",
    "* the column with boolean Buy, NotBuy"
   ]
  },
  {
   "cell_type": "code",
   "execution_count": 11,
   "metadata": {},
   "outputs": [],
   "source": [
    "df['totalsTransactionRevenueDoll'] = df['totalsTransactionRevenue'].apply(lambda x: math.log(x) if x>0 else 0)"
   ]
  },
  {
   "cell_type": "code",
   "execution_count": 12,
   "metadata": {},
   "outputs": [
    {
     "name": "stdout",
     "output_type": "stream",
     "text": [
      "Numbers of Nulls:  0\n",
      "The description of this variable is:\n",
      " count    11515.000000\n",
      "mean        17.823362\n",
      "std          1.202494\n",
      "min          9.210340\n",
      "25%         17.031582\n",
      "50%         17.716473\n",
      "75%         18.494442\n",
      "max         23.864375\n",
      "Name: totalsTransactionRevenueDoll, dtype: float64\n"
     ]
    },
    {
     "data": {
      "image/png": "[encoded data removed]",
      "text/plain": [
       "<Figure size 432x288 with 1 Axes>"
      ]
     },
     "metadata": {
      "needs_background": "light"
     },
     "output_type": "display_data"
    },
    {
     "data": {
      "image/png": "[encoded data removed]",
      "text/plain": [
       "<Figure size 432x288 with 1 Axes>"
      ]
     },
     "metadata": {
      "needs_background": "light"
     },
     "output_type": "display_data"
    }
   ],
   "source": [
    "desc_num(df['totalsTransactionRevenueDoll'].loc[df['totalsTransactionRevenueDoll']>0],100,'Revenue $ > 0')\n"
   ]
  },
  {
   "cell_type": "code",
   "execution_count": 13,
   "metadata": {},
   "outputs": [],
   "source": [
    "df['totalsIsTransaction'] = df['totalsTransactionRevenue'].apply(lambda x: True if x>0 else False)"
   ]
  },
  {
   "cell_type": "code",
   "execution_count": 14,
   "metadata": {},
   "outputs": [
    {
     "data": {
      "text/plain": [
       "False    892038\n",
       "True      11515\n",
       "Name: totalsIsTransaction, dtype: int64"
      ]
     },
     "execution_count": 14,
     "metadata": {},
     "output_type": "execute_result"
    }
   ],
   "source": [
    "df['totalsIsTransaction'].value_counts()"
   ]
  },
  {
   "cell_type": "code",
   "execution_count": 15,
   "metadata": {},
   "outputs": [],
   "source": [
    "buy = df.groupby('totalsIsTransaction')['channelGrouping'].count().reset_index()\n",
    "buy.columns = ['transaction','count']"
   ]
  },
  {
   "cell_type": "code",
   "execution_count": 16,
   "metadata": {},
   "outputs": [
    {
     "data": {
      "image/png": "[encoded data removed]",
      "text/plain": [
       "<Figure size 432x288 with 1 Axes>"
      ]
     },
     "metadata": {
      "needs_background": "light"
     },
     "output_type": "display_data"
    }
   ],
   "source": [
    "sns.barplot(x='transaction', y='count', data=buy)\n",
    "plt.title('Transactions in the Google Merchandising Shop')\n",
    "plt.show()"
   ]
  },
  {
   "cell_type": "markdown",
   "metadata": {},
   "source": [
    "#### totalsHits "
   ]
  },
  {
   "cell_type": "code",
   "execution_count": 21,
   "metadata": {},
   "outputs": [
    {
     "name": "stdout",
     "output_type": "stream",
     "text": [
      "Numbers of Nulls:  0\n",
      "The description of this variable is:\n",
      " count    903553.000000\n",
      "mean          4.596866\n",
      "std           9.641905\n",
      "min           1.000000\n",
      "25%           1.000000\n",
      "50%           2.000000\n",
      "75%           4.000000\n",
      "max         500.000000\n",
      "Name: totalsHits, dtype: float64\n"
     ]
    },
    {
     "data": {
      "image/png": "[encoded data removed]",
      "text/plain": [
       "<Figure size 432x288 with 1 Axes>"
      ]
     },
     "metadata": {
      "needs_background": "light"
     },
     "output_type": "display_data"
    },
    {
     "data": {
      "image/png": "[encoded data removed]",
      "text/plain": [
       "<Figure size 432x288 with 1 Axes>"
      ]
     },
     "metadata": {
      "needs_background": "light"
     },
     "output_type": "display_data"
    }
   ],
   "source": [
    "desc_num(df['totalsHits'], 100, 'Total Hits')"
   ]
  },
  {
   "cell_type": "code",
   "execution_count": 32,
   "metadata": {},
   "outputs": [],
   "source": [
    "hits = df.groupby('totalsHits')['channelGrouping'].count().reset_index()\n",
    "hits.columns = ['Hits','count']"
   ]
  },
  {
   "cell_type": "code",
   "execution_count": 39,
   "metadata": {},
   "outputs": [
    {
     "data": {
      "text/html": [
       "<div>\n",
       "<style scoped>\n",
       "    .dataframe tbody tr th:only-of-type {\n",
       "        vertical-align: middle;\n",
       "    }\n",
       "\n",
       "    .dataframe tbody tr th {\n",
       "        vertical-align: top;\n",
       "    }\n",
       "\n",
       "    .dataframe thead th {\n",
       "        text-align: right;\n",
       "    }\n",
       "</style>\n",
       "<table border=\"1\" class=\"dataframe\">\n",
       "  <thead>\n",
       "    <tr style=\"text-align: right;\">\n",
       "      <th></th>\n",
       "      <th>Hits</th>\n",
       "      <th>count</th>\n",
       "    </tr>\n",
       "  </thead>\n",
       "  <tbody>\n",
       "    <tr>\n",
       "      <th>273</th>\n",
       "      <td>500</td>\n",
       "      <td>10</td>\n",
       "    </tr>\n",
       "    <tr>\n",
       "      <th>272</th>\n",
       "      <td>489</td>\n",
       "      <td>1</td>\n",
       "    </tr>\n",
       "    <tr>\n",
       "      <th>271</th>\n",
       "      <td>483</td>\n",
       "      <td>1</td>\n",
       "    </tr>\n",
       "    <tr>\n",
       "      <th>270</th>\n",
       "      <td>471</td>\n",
       "      <td>1</td>\n",
       "    </tr>\n",
       "    <tr>\n",
       "      <th>269</th>\n",
       "      <td>445</td>\n",
       "      <td>1</td>\n",
       "    </tr>\n",
       "  </tbody>\n",
       "</table>\n",
       "</div>"
      ],
      "text/plain": [
       "     Hits  count\n",
       "273   500     10\n",
       "272   489      1\n",
       "271   483      1\n",
       "270   471      1\n",
       "269   445      1"
      ]
     },
     "execution_count": 39,
     "metadata": {},
     "output_type": "execute_result"
    }
   ],
   "source": [
    "hits.sort_values(by='Hits', ascending=False).head()"
   ]
  },
  {
   "cell_type": "code",
   "execution_count": 68,
   "metadata": {},
   "outputs": [
    {
     "data": {
      "image/png": "[encoded data removed]",
      "text/plain": [
       "<Figure size 432x288 with 1 Axes>"
      ]
     },
     "metadata": {
      "needs_background": "light"
     },
     "output_type": "display_data"
    }
   ],
   "source": [
    "plt.hist(hits['Hits'])\n",
    "plt.title('Histogram Hits')\n",
    "plt.xlabel('Number of Hits')\n",
    "plt.ylabel('Count')\n",
    "plt.show()\n"
   ]
  },
  {
   "cell_type": "code",
   "execution_count": 49,
   "metadata": {},
   "outputs": [
    {
     "data": {
      "image/png": "[encoded data removed]",
      "text/plain": [
       "<Figure size 432x288 with 1 Axes>"
      ]
     },
     "metadata": {
      "needs_background": "light"
     },
     "output_type": "display_data"
    }
   ],
   "source": [
    "ax = sns.scatterplot(x='totalsHits', y='totalsTransactionRevenueDoll', data=df)\n",
    "ax.set_title('Scatterplot Total Hits vs Revenue in Dollars')\n",
    "plt.show()"
   ]
  },
  {
   "cell_type": "code",
   "execution_count": 52,
   "metadata": {},
   "outputs": [
    {
     "data": {
      "image/png": "[encoded data removed]",
      "text/plain": [
       "<Figure size 432x288 with 1 Axes>"
      ]
     },
     "metadata": {
      "needs_background": "light"
     },
     "output_type": "display_data"
    }
   ],
   "source": [
    "ax = sns.scatterplot(x='totalsHits', y='totalsTransactionRevenueDoll', data=df.loc[df['totalsTransactionRevenueDoll']>0])\n",
    "ax.set_title('Scatterplot Total Hits vs Revenue in Dollars > 0')\n",
    "plt.show()"
   ]
  },
  {
   "cell_type": "markdown",
   "metadata": {},
   "source": [
    "Eventhough this var semms to have many outliers, after reviewing the data, the visits seam real, so I keep them."
   ]
  },
  {
   "cell_type": "code",
   "execution_count": null,
   "metadata": {},
   "outputs": [],
   "source": []
  }
 ],
 "metadata": {
  "kernelspec": {
   "display_name": "Python 3",
   "language": "python",
   "name": "python3"
  },
  "language_info": {
   "codemirror_mode": {
    "name": "ipython",
    "version": 3
   },
   "file_extension": ".py",
   "mimetype": "text/x-python",
   "name": "python",
   "nbconvert_exporter": "python",
   "pygments_lexer": "ipython3",
   "version": "3.7.3"
  },
  "toc": {
   "base_numbering": "3",
   "nav_menu": {},
   "number_sections": true,
   "sideBar": true,
   "skip_h1_title": true,
   "title_cell": "Table of Contents",
   "title_sidebar": "Contents",
   "toc_cell": false,
   "toc_position": {},
   "toc_section_display": true,
   "toc_window_display": false
  },
  "varInspector": {
   "cols": {
    "lenName": 16,
    "lenType": 16,
    "lenVar": 40
   },
   "kernels_config": {
    "python": {
     "delete_cmd_postfix": "",
     "delete_cmd_prefix": "del ",
     "library": "var_list.py",
     "varRefreshCmd": "print(var_dic_list())"
    },
    "r": {
     "delete_cmd_postfix": ") ",
     "delete_cmd_prefix": "rm(",
     "library": "var_list.r",
     "varRefreshCmd": "cat(var_dic_list()) "
    }
   },
   "types_to_exclude": [
    "module",
    "function",
    "builtin_function_or_method",
    "instance",
    "_Feature"
   ],
   "window_display": false
  }
 },
 "nbformat": 4,
 "nbformat_minor": 2
}
