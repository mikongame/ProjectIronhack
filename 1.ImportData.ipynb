{
 "cells": [
  {
   "cell_type": "markdown",
   "metadata": {},
   "source": [
    "# Google Analytics Revenue Prediction"
   ]
  },
  {
   "cell_type": "markdown",
   "metadata": {},
   "source": [
    "## Import Data"
   ]
  },
  {
   "cell_type": "markdown",
   "metadata": {},
   "source": [
    "**Environment**"
   ]
  },
  {
   "cell_type": "code",
   "execution_count": 1,
   "metadata": {},
   "outputs": [
    {
     "data": {
      "text/html": [
       "<style>.container { width:100% !important; }</style>"
      ],
      "text/plain": [
       "<IPython.core.display.HTML object>"
      ]
     },
     "metadata": {},
     "output_type": "display_data"
    }
   ],
   "source": [
    "import pandas as pd\n",
    "import numpy as np\n",
    "\n",
    "# Pandas defaults\n",
    "pd.options.display.max_columns = 500\n",
    "pd.options.display.max_rows = 500\n",
    " \n",
    "# Make jupyter bigger\n",
    "from IPython.core.display import display, HTML\n",
    "display(HTML('<style>.container { width:100% !important; }</style>'))"
   ]
  },
  {
   "cell_type": "code",
   "execution_count": 2,
   "metadata": {},
   "outputs": [],
   "source": [
    "from myfunctions import *"
   ]
  },
  {
   "cell_type": "markdown",
   "metadata": {},
   "source": [
    "### Import dataset"
   ]
  },
  {
   "cell_type": "code",
   "execution_count": 3,
   "metadata": {},
   "outputs": [],
   "source": [
    "# Import dataset by chunks\n",
    "size = 300000 # Number of rows for each chunk\n",
    "df_chunk = pd.read_csv(r'data/newtrain.csv', chunksize=size, low_memory=False)\n",
    "chunk_list = []  # append each chunk df here \n",
    "\n",
    "# Each chunk is in df format\n",
    "for chunk in df_chunk:  \n",
    "    #append the chunk to list\n",
    "    chunk_list.append(chunk)\n",
    "    \n",
    "# concat the list into dataframe \n",
    "df = pd.concat(chunk_list)"
   ]
  },
  {
   "cell_type": "markdown",
   "metadata": {},
   "source": [
    "### Basic info"
   ]
  },
  {
   "cell_type": "code",
   "execution_count": 4,
   "metadata": {},
   "outputs": [
    {
     "data": {
      "text/html": [
       "<div>\n",
       "<style scoped>\n",
       "    .dataframe tbody tr th:only-of-type {\n",
       "        vertical-align: middle;\n",
       "    }\n",
       "\n",
       "    .dataframe tbody tr th {\n",
       "        vertical-align: top;\n",
       "    }\n",
       "\n",
       "    .dataframe thead th {\n",
       "        text-align: right;\n",
       "    }\n",
       "</style>\n",
       "<table border=\"1\" class=\"dataframe\">\n",
       "  <thead>\n",
       "    <tr style=\"text-align: right;\">\n",
       "      <th></th>\n",
       "      <th>channelGrouping</th>\n",
       "      <th>date</th>\n",
       "      <th>fullVisitorId</th>\n",
       "      <th>sessionId</th>\n",
       "      <th>socialEngagementType</th>\n",
       "      <th>visitId</th>\n",
       "      <th>visitNumber</th>\n",
       "      <th>visitStartTime</th>\n",
       "      <th>device.browser</th>\n",
       "      <th>device.browserSize</th>\n",
       "      <th>...</th>\n",
       "      <th>trafficSource.adwordsClickInfo.isVideoAd</th>\n",
       "      <th>trafficSource.adwordsClickInfo.page</th>\n",
       "      <th>trafficSource.adwordsClickInfo.slot</th>\n",
       "      <th>trafficSource.campaign</th>\n",
       "      <th>trafficSource.campaignCode</th>\n",
       "      <th>trafficSource.isTrueDirect</th>\n",
       "      <th>trafficSource.keyword</th>\n",
       "      <th>trafficSource.medium</th>\n",
       "      <th>trafficSource.referralPath</th>\n",
       "      <th>trafficSource.source</th>\n",
       "    </tr>\n",
       "  </thead>\n",
       "  <tbody>\n",
       "    <tr>\n",
       "      <th>0</th>\n",
       "      <td>Organic Search</td>\n",
       "      <td>20160902</td>\n",
       "      <td>1131660440785968503</td>\n",
       "      <td>1131660440785968503_1472830385</td>\n",
       "      <td>Not Socially Engaged</td>\n",
       "      <td>1472830385</td>\n",
       "      <td>1</td>\n",
       "      <td>1472830385</td>\n",
       "      <td>Chrome</td>\n",
       "      <td>NaN</td>\n",
       "      <td>...</td>\n",
       "      <td>NaN</td>\n",
       "      <td>NaN</td>\n",
       "      <td>NaN</td>\n",
       "      <td>NaN</td>\n",
       "      <td>NaN</td>\n",
       "      <td>NaN</td>\n",
       "      <td>NaN</td>\n",
       "      <td>organic</td>\n",
       "      <td>NaN</td>\n",
       "      <td>google</td>\n",
       "    </tr>\n",
       "    <tr>\n",
       "      <th>1</th>\n",
       "      <td>Organic Search</td>\n",
       "      <td>20160902</td>\n",
       "      <td>377306020877927890</td>\n",
       "      <td>377306020877927890_1472880147</td>\n",
       "      <td>Not Socially Engaged</td>\n",
       "      <td>1472880147</td>\n",
       "      <td>1</td>\n",
       "      <td>1472880147</td>\n",
       "      <td>Firefox</td>\n",
       "      <td>NaN</td>\n",
       "      <td>...</td>\n",
       "      <td>NaN</td>\n",
       "      <td>NaN</td>\n",
       "      <td>NaN</td>\n",
       "      <td>NaN</td>\n",
       "      <td>NaN</td>\n",
       "      <td>NaN</td>\n",
       "      <td>NaN</td>\n",
       "      <td>organic</td>\n",
       "      <td>NaN</td>\n",
       "      <td>google</td>\n",
       "    </tr>\n",
       "    <tr>\n",
       "      <th>2</th>\n",
       "      <td>Organic Search</td>\n",
       "      <td>20160902</td>\n",
       "      <td>3895546263509774583</td>\n",
       "      <td>3895546263509774583_1472865386</td>\n",
       "      <td>Not Socially Engaged</td>\n",
       "      <td>1472865386</td>\n",
       "      <td>1</td>\n",
       "      <td>1472865386</td>\n",
       "      <td>Chrome</td>\n",
       "      <td>NaN</td>\n",
       "      <td>...</td>\n",
       "      <td>NaN</td>\n",
       "      <td>NaN</td>\n",
       "      <td>NaN</td>\n",
       "      <td>NaN</td>\n",
       "      <td>NaN</td>\n",
       "      <td>NaN</td>\n",
       "      <td>NaN</td>\n",
       "      <td>organic</td>\n",
       "      <td>NaN</td>\n",
       "      <td>google</td>\n",
       "    </tr>\n",
       "    <tr>\n",
       "      <th>3</th>\n",
       "      <td>Organic Search</td>\n",
       "      <td>20160902</td>\n",
       "      <td>4763447161404445595</td>\n",
       "      <td>4763447161404445595_1472881213</td>\n",
       "      <td>Not Socially Engaged</td>\n",
       "      <td>1472881213</td>\n",
       "      <td>1</td>\n",
       "      <td>1472881213</td>\n",
       "      <td>UC Browser</td>\n",
       "      <td>NaN</td>\n",
       "      <td>...</td>\n",
       "      <td>NaN</td>\n",
       "      <td>NaN</td>\n",
       "      <td>NaN</td>\n",
       "      <td>NaN</td>\n",
       "      <td>NaN</td>\n",
       "      <td>NaN</td>\n",
       "      <td>google + online</td>\n",
       "      <td>organic</td>\n",
       "      <td>NaN</td>\n",
       "      <td>google</td>\n",
       "    </tr>\n",
       "    <tr>\n",
       "      <th>4</th>\n",
       "      <td>Organic Search</td>\n",
       "      <td>20160902</td>\n",
       "      <td>27294437909732085</td>\n",
       "      <td>27294437909732085_1472822600</td>\n",
       "      <td>Not Socially Engaged</td>\n",
       "      <td>1472822600</td>\n",
       "      <td>2</td>\n",
       "      <td>1472822600</td>\n",
       "      <td>Chrome</td>\n",
       "      <td>NaN</td>\n",
       "      <td>...</td>\n",
       "      <td>NaN</td>\n",
       "      <td>NaN</td>\n",
       "      <td>NaN</td>\n",
       "      <td>NaN</td>\n",
       "      <td>NaN</td>\n",
       "      <td>True</td>\n",
       "      <td>NaN</td>\n",
       "      <td>organic</td>\n",
       "      <td>NaN</td>\n",
       "      <td>google</td>\n",
       "    </tr>\n",
       "  </tbody>\n",
       "</table>\n",
       "<p>5 rows × 55 columns</p>\n",
       "</div>"
      ],
      "text/plain": [
       "  channelGrouping      date        fullVisitorId  \\\n",
       "0  Organic Search  20160902  1131660440785968503   \n",
       "1  Organic Search  20160902   377306020877927890   \n",
       "2  Organic Search  20160902  3895546263509774583   \n",
       "3  Organic Search  20160902  4763447161404445595   \n",
       "4  Organic Search  20160902    27294437909732085   \n",
       "\n",
       "                        sessionId  socialEngagementType     visitId  \\\n",
       "0  1131660440785968503_1472830385  Not Socially Engaged  1472830385   \n",
       "1   377306020877927890_1472880147  Not Socially Engaged  1472880147   \n",
       "2  3895546263509774583_1472865386  Not Socially Engaged  1472865386   \n",
       "3  4763447161404445595_1472881213  Not Socially Engaged  1472881213   \n",
       "4    27294437909732085_1472822600  Not Socially Engaged  1472822600   \n",
       "\n",
       "   visitNumber  visitStartTime device.browser  device.browserSize  ...  \\\n",
       "0            1      1472830385         Chrome                 NaN  ...   \n",
       "1            1      1472880147        Firefox                 NaN  ...   \n",
       "2            1      1472865386         Chrome                 NaN  ...   \n",
       "3            1      1472881213     UC Browser                 NaN  ...   \n",
       "4            2      1472822600         Chrome                 NaN  ...   \n",
       "\n",
       "   trafficSource.adwordsClickInfo.isVideoAd  \\\n",
       "0                                       NaN   \n",
       "1                                       NaN   \n",
       "2                                       NaN   \n",
       "3                                       NaN   \n",
       "4                                       NaN   \n",
       "\n",
       "  trafficSource.adwordsClickInfo.page  trafficSource.adwordsClickInfo.slot  \\\n",
       "0                                 NaN                                  NaN   \n",
       "1                                 NaN                                  NaN   \n",
       "2                                 NaN                                  NaN   \n",
       "3                                 NaN                                  NaN   \n",
       "4                                 NaN                                  NaN   \n",
       "\n",
       "   trafficSource.campaign  trafficSource.campaignCode  \\\n",
       "0                     NaN                         NaN   \n",
       "1                     NaN                         NaN   \n",
       "2                     NaN                         NaN   \n",
       "3                     NaN                         NaN   \n",
       "4                     NaN                         NaN   \n",
       "\n",
       "   trafficSource.isTrueDirect  trafficSource.keyword  trafficSource.medium  \\\n",
       "0                         NaN                    NaN               organic   \n",
       "1                         NaN                    NaN               organic   \n",
       "2                         NaN                    NaN               organic   \n",
       "3                         NaN        google + online               organic   \n",
       "4                        True                    NaN               organic   \n",
       "\n",
       "   trafficSource.referralPath  trafficSource.source  \n",
       "0                         NaN                google  \n",
       "1                         NaN                google  \n",
       "2                         NaN                google  \n",
       "3                         NaN                google  \n",
       "4                         NaN                google  \n",
       "\n",
       "[5 rows x 55 columns]"
      ]
     },
     "execution_count": 4,
     "metadata": {},
     "output_type": "execute_result"
    }
   ],
   "source": [
    "df.head()"
   ]
  },
  {
   "cell_type": "code",
   "execution_count": 5,
   "metadata": {},
   "outputs": [
    {
     "data": {
      "text/plain": [
       "(903653, 55)"
      ]
     },
     "execution_count": 5,
     "metadata": {},
     "output_type": "execute_result"
    }
   ],
   "source": [
    "df.shape"
   ]
  },
  {
   "cell_type": "code",
   "execution_count": 6,
   "metadata": {},
   "outputs": [
    {
     "data": {
      "text/plain": [
       "channelGrouping                                       object\n",
       "date                                                   int64\n",
       "fullVisitorId                                         object\n",
       "sessionId                                             object\n",
       "socialEngagementType                                  object\n",
       "visitId                                                int64\n",
       "visitNumber                                            int64\n",
       "visitStartTime                                         int64\n",
       "device.browser                                        object\n",
       "device.browserSize                                   float64\n",
       "device.browserVersion                                float64\n",
       "device.deviceCategory                                 object\n",
       "device.flashVersion                                  float64\n",
       "device.isMobile                                         bool\n",
       "device.language                                      float64\n",
       "device.mobileDeviceBranding                          float64\n",
       "device.mobileDeviceInfo                              float64\n",
       "device.mobileDeviceMarketingName                     float64\n",
       "device.mobileDeviceModel                             float64\n",
       "device.mobileInputSelector                           float64\n",
       "device.operatingSystem                                object\n",
       "device.operatingSystemVersion                        float64\n",
       "device.screenColors                                  float64\n",
       "device.screenResolution                              float64\n",
       "geoNetwork.city                                       object\n",
       "geoNetwork.cityId                                    float64\n",
       "geoNetwork.continent                                  object\n",
       "geoNetwork.country                                    object\n",
       "geoNetwork.latitude                                  float64\n",
       "geoNetwork.longitude                                 float64\n",
       "geoNetwork.metro                                      object\n",
       "geoNetwork.networkDomain                              object\n",
       "geoNetwork.networkLocation                           float64\n",
       "geoNetwork.region                                     object\n",
       "geoNetwork.subContinent                               object\n",
       "totals.bounces                                       float64\n",
       "totals.hits                                            int64\n",
       "totals.newVisits                                     float64\n",
       "totals.pageviews                                     float64\n",
       "totals.transactionRevenue                            float64\n",
       "totals.visits                                          int64\n",
       "trafficSource.adContent                               object\n",
       "trafficSource.adwordsClickInfo.adNetworkType          object\n",
       "trafficSource.adwordsClickInfo.criteriaParameters    float64\n",
       "trafficSource.adwordsClickInfo.gclId                  object\n",
       "trafficSource.adwordsClickInfo.isVideoAd              object\n",
       "trafficSource.adwordsClickInfo.page                  float64\n",
       "trafficSource.adwordsClickInfo.slot                   object\n",
       "trafficSource.campaign                                object\n",
       "trafficSource.campaignCode                            object\n",
       "trafficSource.isTrueDirect                            object\n",
       "trafficSource.keyword                                 object\n",
       "trafficSource.medium                                  object\n",
       "trafficSource.referralPath                            object\n",
       "trafficSource.source                                  object\n",
       "dtype: object"
      ]
     },
     "execution_count": 6,
     "metadata": {},
     "output_type": "execute_result"
    }
   ],
   "source": [
    "df.dtypes"
   ]
  },
  {
   "cell_type": "code",
   "execution_count": 7,
   "metadata": {},
   "outputs": [
    {
     "data": {
      "text/plain": [
       "channelGrouping                                           0\n",
       "date                                                      0\n",
       "fullVisitorId                                             0\n",
       "sessionId                                                 0\n",
       "socialEngagementType                                      0\n",
       "visitId                                                   0\n",
       "visitNumber                                               0\n",
       "visitStartTime                                            0\n",
       "device.browser                                            8\n",
       "device.browserSize                                   903653\n",
       "device.browserVersion                                903653\n",
       "device.deviceCategory                                     0\n",
       "device.flashVersion                                  903653\n",
       "device.isMobile                                           0\n",
       "device.language                                      903653\n",
       "device.mobileDeviceBranding                          903653\n",
       "device.mobileDeviceInfo                              903653\n",
       "device.mobileDeviceMarketingName                     903653\n",
       "device.mobileDeviceModel                             903653\n",
       "device.mobileInputSelector                           903653\n",
       "device.operatingSystem                                 4695\n",
       "device.operatingSystemVersion                        903653\n",
       "device.screenColors                                  903653\n",
       "device.screenResolution                              903653\n",
       "geoNetwork.city                                      542491\n",
       "geoNetwork.cityId                                    903653\n",
       "geoNetwork.continent                                   1468\n",
       "geoNetwork.country                                     1468\n",
       "geoNetwork.latitude                                  903653\n",
       "geoNetwork.longitude                                 903653\n",
       "geoNetwork.metro                                     709995\n",
       "geoNetwork.networkDomain                             244881\n",
       "geoNetwork.networkLocation                           903653\n",
       "geoNetwork.region                                    536056\n",
       "geoNetwork.subContinent                                1468\n",
       "totals.bounces                                       453023\n",
       "totals.hits                                               0\n",
       "totals.newVisits                                     200593\n",
       "totals.pageviews                                        100\n",
       "totals.transactionRevenue                            892138\n",
       "totals.visits                                             0\n",
       "trafficSource.adContent                              892707\n",
       "trafficSource.adwordsClickInfo.adNetworkType         882193\n",
       "trafficSource.adwordsClickInfo.criteriaParameters    903653\n",
       "trafficSource.adwordsClickInfo.gclId                 882092\n",
       "trafficSource.adwordsClickInfo.isVideoAd             882193\n",
       "trafficSource.adwordsClickInfo.page                  882193\n",
       "trafficSource.adwordsClickInfo.slot                  882193\n",
       "trafficSource.campaign                               865347\n",
       "trafficSource.campaignCode                           903652\n",
       "trafficSource.isTrueDirect                           629648\n",
       "trafficSource.keyword                                869292\n",
       "trafficSource.medium                                    120\n",
       "trafficSource.referralPath                           572712\n",
       "trafficSource.source                                     69\n",
       "dtype: int64"
      ]
     },
     "execution_count": 7,
     "metadata": {},
     "output_type": "execute_result"
    }
   ],
   "source": [
    "df.isnull().sum()"
   ]
  },
  {
   "cell_type": "markdown",
   "metadata": {},
   "source": [
    "### Delete empty columns"
   ]
  },
  {
   "cell_type": "code",
   "execution_count": 8,
   "metadata": {},
   "outputs": [],
   "source": [
    "#Search the empty columns\n",
    "empty_cols = [col for col in df.columns if df[col].isnull().sum() == 903653]"
   ]
  },
  {
   "cell_type": "code",
   "execution_count": 9,
   "metadata": {},
   "outputs": [
    {
     "data": {
      "text/plain": [
       "['device.browserSize',\n",
       " 'device.browserVersion',\n",
       " 'device.flashVersion',\n",
       " 'device.language',\n",
       " 'device.mobileDeviceBranding',\n",
       " 'device.mobileDeviceInfo',\n",
       " 'device.mobileDeviceMarketingName',\n",
       " 'device.mobileDeviceModel',\n",
       " 'device.mobileInputSelector',\n",
       " 'device.operatingSystemVersion',\n",
       " 'device.screenColors',\n",
       " 'device.screenResolution',\n",
       " 'geoNetwork.cityId',\n",
       " 'geoNetwork.latitude',\n",
       " 'geoNetwork.longitude',\n",
       " 'geoNetwork.networkLocation',\n",
       " 'trafficSource.adwordsClickInfo.criteriaParameters']"
      ]
     },
     "execution_count": 9,
     "metadata": {},
     "output_type": "execute_result"
    }
   ],
   "source": [
    "empty_cols"
   ]
  },
  {
   "cell_type": "code",
   "execution_count": 10,
   "metadata": {},
   "outputs": [],
   "source": [
    "#drop the empty columns\n",
    "df = df.drop(columns=empty_cols)"
   ]
  },
  {
   "cell_type": "code",
   "execution_count": 11,
   "metadata": {},
   "outputs": [
    {
     "data": {
      "text/plain": [
       "(903653, 38)"
      ]
     },
     "execution_count": 11,
     "metadata": {},
     "output_type": "execute_result"
    }
   ],
   "source": [
    "df.shape"
   ]
  },
  {
   "cell_type": "code",
   "execution_count": 12,
   "metadata": {},
   "outputs": [
    {
     "data": {
      "text/plain": [
       "channelGrouping                                      0\n",
       "date                                                 0\n",
       "fullVisitorId                                        0\n",
       "sessionId                                            0\n",
       "socialEngagementType                                 0\n",
       "visitId                                              0\n",
       "visitNumber                                          0\n",
       "visitStartTime                                       0\n",
       "device.browser                                       8\n",
       "device.deviceCategory                                0\n",
       "device.isMobile                                      0\n",
       "device.operatingSystem                            4695\n",
       "geoNetwork.city                                 542491\n",
       "geoNetwork.continent                              1468\n",
       "geoNetwork.country                                1468\n",
       "geoNetwork.metro                                709995\n",
       "geoNetwork.networkDomain                        244881\n",
       "geoNetwork.region                               536056\n",
       "geoNetwork.subContinent                           1468\n",
       "totals.bounces                                  453023\n",
       "totals.hits                                          0\n",
       "totals.newVisits                                200593\n",
       "totals.pageviews                                   100\n",
       "totals.transactionRevenue                       892138\n",
       "totals.visits                                        0\n",
       "trafficSource.adContent                         892707\n",
       "trafficSource.adwordsClickInfo.adNetworkType    882193\n",
       "trafficSource.adwordsClickInfo.gclId            882092\n",
       "trafficSource.adwordsClickInfo.isVideoAd        882193\n",
       "trafficSource.adwordsClickInfo.page             882193\n",
       "trafficSource.adwordsClickInfo.slot             882193\n",
       "trafficSource.campaign                          865347\n",
       "trafficSource.campaignCode                      903652\n",
       "trafficSource.isTrueDirect                      629648\n",
       "trafficSource.keyword                           869292\n",
       "trafficSource.medium                               120\n",
       "trafficSource.referralPath                      572712\n",
       "trafficSource.source                                69\n",
       "dtype: int64"
      ]
     },
     "execution_count": 12,
     "metadata": {},
     "output_type": "execute_result"
    }
   ],
   "source": [
    "df.isnull().sum()"
   ]
  },
  {
   "cell_type": "markdown",
   "metadata": {},
   "source": [
    "### Export dataframe "
   ]
  },
  {
   "cell_type": "code",
   "execution_count": 13,
   "metadata": {},
   "outputs": [],
   "source": [
    "df.to_csv(\"data/df2.csv\", index=False)"
   ]
  }
 ],
 "metadata": {
  "kernelspec": {
   "display_name": "Python 3",
   "language": "python",
   "name": "python3"
  },
  "language_info": {
   "codemirror_mode": {
    "name": "ipython",
    "version": 3
   },
   "file_extension": ".py",
   "mimetype": "text/x-python",
   "name": "python",
   "nbconvert_exporter": "python",
   "pygments_lexer": "ipython3",
   "version": "3.7.3"
  },
  "toc": {
   "base_numbering": "1",
   "nav_menu": {},
   "number_sections": true,
   "sideBar": true,
   "skip_h1_title": true,
   "title_cell": "Table of Contents",
   "title_sidebar": "Contents",
   "toc_cell": false,
   "toc_position": {
    "height": "calc(100% - 180px)",
    "left": "10px",
    "top": "150px",
    "width": "190.625px"
   },
   "toc_section_display": true,
   "toc_window_display": false
  },
  "varInspector": {
   "cols": {
    "lenName": 16,
    "lenType": 16,
    "lenVar": 40
   },
   "kernels_config": {
    "python": {
     "delete_cmd_postfix": "",
     "delete_cmd_prefix": "del ",
     "library": "var_list.py",
     "varRefreshCmd": "print(var_dic_list())"
    },
    "r": {
     "delete_cmd_postfix": ") ",
     "delete_cmd_prefix": "rm(",
     "library": "var_list.r",
     "varRefreshCmd": "cat(var_dic_list()) "
    }
   },
   "types_to_exclude": [
    "module",
    "function",
    "builtin_function_or_method",
    "instance",
    "_Feature"
   ],
   "window_display": false
  }
 },
 "nbformat": 4,
 "nbformat_minor": 2
}
