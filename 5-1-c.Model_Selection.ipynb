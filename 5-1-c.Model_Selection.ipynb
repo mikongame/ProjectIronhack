{
 "cells": [
  {
   "cell_type": "markdown",
   "metadata": {},
   "source": [
    "# Google Analytics Revenue Prediction"
   ]
  },
  {
   "cell_type": "markdown",
   "metadata": {},
   "source": [
    "## Model Selection - Classification"
   ]
  },
  {
   "cell_type": "markdown",
   "metadata": {},
   "source": [
    "**Environment**"
   ]
  },
  {
   "cell_type": "code",
   "execution_count": 1,
   "metadata": {},
   "outputs": [
    {
     "name": "stderr",
     "output_type": "stream",
     "text": [
      "Using TensorFlow backend.\n"
     ]
    },
    {
     "data": {
      "text/html": [
       "<style>.container { width:100% !important; }</style>"
      ],
      "text/plain": [
       "<IPython.core.display.HTML object>"
      ]
     },
     "metadata": {},
     "output_type": "display_data"
    }
   ],
   "source": [
    "import pandas as pd\n",
    "import numpy as np\n",
    "\n",
    "from sklearn.preprocessing import OneHotEncoder\n",
    "from sklearn.utils import resample\n",
    "from sklearn.metrics import roc_auc_score\n",
    "from sklearn.metrics import roc_curve\n",
    "from sklearn.ensemble import RandomForestClassifier\n",
    "from sklearn.model_selection import train_test_split\n",
    "from sklearn.metrics import confusion_matrix\n",
    "from sklearn.metrics import accuracy_score, log_loss\n",
    "from sklearn.metrics import f1_score\n",
    "from sklearn.model_selection import GridSearchCV\n",
    "from sklearn.utils.multiclass import unique_labels\n",
    "from sklearn import metrics\n",
    "import eli5\n",
    "\n",
    "\n",
    "import matplotlib as mpl\n",
    "import matplotlib.pyplot as plt\n",
    "import seaborn as sns\n",
    "%matplotlib inline\n",
    "\n",
    "# Pandas defaults\n",
    "pd.options.display.max_columns = 500\n",
    "pd.options.display.max_rows = 500\n",
    " \n",
    "# Make jupyter bigger\n",
    "from IPython.core.display import display, HTML\n",
    "display(HTML('<style>.container { width:100% !important; }</style>'))"
   ]
  },
  {
   "cell_type": "code",
   "execution_count": 2,
   "metadata": {},
   "outputs": [],
   "source": [
    "from myfunctions import *"
   ]
  },
  {
   "cell_type": "markdown",
   "metadata": {},
   "source": [
    "**Import Dataframe**"
   ]
  },
  {
   "cell_type": "code",
   "execution_count": 3,
   "metadata": {},
   "outputs": [],
   "source": [
    "df = pd.read_csv(\"data/df5-1.csv\", low_memory=False)"
   ]
  },
  {
   "cell_type": "code",
   "execution_count": 4,
   "metadata": {},
   "outputs": [
    {
     "data": {
      "text/plain": [
       "(903455, 50)"
      ]
     },
     "execution_count": 4,
     "metadata": {},
     "output_type": "execute_result"
    }
   ],
   "source": [
    "df.shape"
   ]
  },
  {
   "cell_type": "code",
   "execution_count": 5,
   "metadata": {},
   "outputs": [
    {
     "data": {
      "text/html": [
       "<div>\n",
       "<style scoped>\n",
       "    .dataframe tbody tr th:only-of-type {\n",
       "        vertical-align: middle;\n",
       "    }\n",
       "\n",
       "    .dataframe tbody tr th {\n",
       "        vertical-align: top;\n",
       "    }\n",
       "\n",
       "    .dataframe thead th {\n",
       "        text-align: right;\n",
       "    }\n",
       "</style>\n",
       "<table border=\"1\" class=\"dataframe\">\n",
       "  <thead>\n",
       "    <tr style=\"text-align: right;\">\n",
       "      <th></th>\n",
       "      <th>channel_direct</th>\n",
       "      <th>channel_organic</th>\n",
       "      <th>channel_other</th>\n",
       "      <th>channel_paid</th>\n",
       "      <th>browser_android</th>\n",
       "      <th>browser_chrome</th>\n",
       "      <th>browser_firefox</th>\n",
       "      <th>browser_microsoft</th>\n",
       "      <th>browser_other</th>\n",
       "      <th>cat_desktop</th>\n",
       "      <th>cat_mobile</th>\n",
       "      <th>os_Android</th>\n",
       "      <th>os_Macintosh</th>\n",
       "      <th>os_Windows</th>\n",
       "      <th>os_iOS</th>\n",
       "      <th>continet_Africa</th>\n",
       "      <th>continet_Americas</th>\n",
       "      <th>continet_Asia</th>\n",
       "      <th>continet_Europe</th>\n",
       "      <th>continet_Oceania</th>\n",
       "      <th>ad_GoogleMerchandiseCollection</th>\n",
       "      <th>ad_NoAd</th>\n",
       "      <th>network_Google Search</th>\n",
       "      <th>network_NoAdWords</th>\n",
       "      <th>campaign_AW</th>\n",
       "      <th>campaign_Data Share</th>\n",
       "      <th>campaign_NoCampaign</th>\n",
       "      <th>medium_affiliate</th>\n",
       "      <th>medium_cpc</th>\n",
       "      <th>medium_cpm</th>\n",
       "      <th>medium_none</th>\n",
       "      <th>medium_organic</th>\n",
       "      <th>medium_other</th>\n",
       "      <th>referral_Google</th>\n",
       "      <th>referral_Home</th>\n",
       "      <th>referral_NoReferral</th>\n",
       "      <th>referral_Youtube</th>\n",
       "      <th>source_Google</th>\n",
       "      <th>source_Googleplex</th>\n",
       "      <th>source_Youtube</th>\n",
       "      <th>source_direct</th>\n",
       "      <th>visitNumber</th>\n",
       "      <th>deviceIsMobile</th>\n",
       "      <th>totalsBounces</th>\n",
       "      <th>totalsNewVisits</th>\n",
       "      <th>totalsPageviews</th>\n",
       "      <th>adwordsClickGclId</th>\n",
       "      <th>trafficSourceIsTrueDirect</th>\n",
       "      <th>newRandom</th>\n",
       "      <th>newConversion</th>\n",
       "    </tr>\n",
       "  </thead>\n",
       "  <tbody>\n",
       "    <tr>\n",
       "      <th>0</th>\n",
       "      <td>0</td>\n",
       "      <td>1</td>\n",
       "      <td>0</td>\n",
       "      <td>0</td>\n",
       "      <td>0</td>\n",
       "      <td>1</td>\n",
       "      <td>0</td>\n",
       "      <td>0</td>\n",
       "      <td>0</td>\n",
       "      <td>1</td>\n",
       "      <td>0</td>\n",
       "      <td>0</td>\n",
       "      <td>0</td>\n",
       "      <td>1</td>\n",
       "      <td>0</td>\n",
       "      <td>0</td>\n",
       "      <td>0</td>\n",
       "      <td>1</td>\n",
       "      <td>0</td>\n",
       "      <td>0</td>\n",
       "      <td>0</td>\n",
       "      <td>1</td>\n",
       "      <td>0</td>\n",
       "      <td>1</td>\n",
       "      <td>0</td>\n",
       "      <td>0</td>\n",
       "      <td>1</td>\n",
       "      <td>0</td>\n",
       "      <td>0</td>\n",
       "      <td>0</td>\n",
       "      <td>0</td>\n",
       "      <td>1</td>\n",
       "      <td>0</td>\n",
       "      <td>0</td>\n",
       "      <td>0</td>\n",
       "      <td>1</td>\n",
       "      <td>0</td>\n",
       "      <td>1</td>\n",
       "      <td>0</td>\n",
       "      <td>0</td>\n",
       "      <td>0</td>\n",
       "      <td>1</td>\n",
       "      <td>0</td>\n",
       "      <td>1</td>\n",
       "      <td>1</td>\n",
       "      <td>1</td>\n",
       "      <td>0</td>\n",
       "      <td>0</td>\n",
       "      <td>0.487985</td>\n",
       "      <td>0</td>\n",
       "    </tr>\n",
       "    <tr>\n",
       "      <th>1</th>\n",
       "      <td>0</td>\n",
       "      <td>1</td>\n",
       "      <td>0</td>\n",
       "      <td>0</td>\n",
       "      <td>0</td>\n",
       "      <td>0</td>\n",
       "      <td>1</td>\n",
       "      <td>0</td>\n",
       "      <td>0</td>\n",
       "      <td>1</td>\n",
       "      <td>0</td>\n",
       "      <td>0</td>\n",
       "      <td>1</td>\n",
       "      <td>0</td>\n",
       "      <td>0</td>\n",
       "      <td>0</td>\n",
       "      <td>0</td>\n",
       "      <td>0</td>\n",
       "      <td>0</td>\n",
       "      <td>1</td>\n",
       "      <td>0</td>\n",
       "      <td>1</td>\n",
       "      <td>0</td>\n",
       "      <td>1</td>\n",
       "      <td>0</td>\n",
       "      <td>0</td>\n",
       "      <td>1</td>\n",
       "      <td>0</td>\n",
       "      <td>0</td>\n",
       "      <td>0</td>\n",
       "      <td>0</td>\n",
       "      <td>1</td>\n",
       "      <td>0</td>\n",
       "      <td>0</td>\n",
       "      <td>0</td>\n",
       "      <td>1</td>\n",
       "      <td>0</td>\n",
       "      <td>1</td>\n",
       "      <td>0</td>\n",
       "      <td>0</td>\n",
       "      <td>0</td>\n",
       "      <td>1</td>\n",
       "      <td>0</td>\n",
       "      <td>1</td>\n",
       "      <td>1</td>\n",
       "      <td>1</td>\n",
       "      <td>0</td>\n",
       "      <td>0</td>\n",
       "      <td>0.305608</td>\n",
       "      <td>0</td>\n",
       "    </tr>\n",
       "    <tr>\n",
       "      <th>2</th>\n",
       "      <td>0</td>\n",
       "      <td>1</td>\n",
       "      <td>0</td>\n",
       "      <td>0</td>\n",
       "      <td>0</td>\n",
       "      <td>1</td>\n",
       "      <td>0</td>\n",
       "      <td>0</td>\n",
       "      <td>0</td>\n",
       "      <td>1</td>\n",
       "      <td>0</td>\n",
       "      <td>0</td>\n",
       "      <td>0</td>\n",
       "      <td>1</td>\n",
       "      <td>0</td>\n",
       "      <td>0</td>\n",
       "      <td>0</td>\n",
       "      <td>0</td>\n",
       "      <td>1</td>\n",
       "      <td>0</td>\n",
       "      <td>0</td>\n",
       "      <td>1</td>\n",
       "      <td>0</td>\n",
       "      <td>1</td>\n",
       "      <td>0</td>\n",
       "      <td>0</td>\n",
       "      <td>1</td>\n",
       "      <td>0</td>\n",
       "      <td>0</td>\n",
       "      <td>0</td>\n",
       "      <td>0</td>\n",
       "      <td>1</td>\n",
       "      <td>0</td>\n",
       "      <td>0</td>\n",
       "      <td>0</td>\n",
       "      <td>1</td>\n",
       "      <td>0</td>\n",
       "      <td>1</td>\n",
       "      <td>0</td>\n",
       "      <td>0</td>\n",
       "      <td>0</td>\n",
       "      <td>1</td>\n",
       "      <td>0</td>\n",
       "      <td>1</td>\n",
       "      <td>1</td>\n",
       "      <td>1</td>\n",
       "      <td>0</td>\n",
       "      <td>0</td>\n",
       "      <td>0.413922</td>\n",
       "      <td>0</td>\n",
       "    </tr>\n",
       "    <tr>\n",
       "      <th>3</th>\n",
       "      <td>0</td>\n",
       "      <td>1</td>\n",
       "      <td>0</td>\n",
       "      <td>0</td>\n",
       "      <td>0</td>\n",
       "      <td>0</td>\n",
       "      <td>0</td>\n",
       "      <td>0</td>\n",
       "      <td>1</td>\n",
       "      <td>1</td>\n",
       "      <td>0</td>\n",
       "      <td>0</td>\n",
       "      <td>0</td>\n",
       "      <td>0</td>\n",
       "      <td>0</td>\n",
       "      <td>0</td>\n",
       "      <td>0</td>\n",
       "      <td>1</td>\n",
       "      <td>0</td>\n",
       "      <td>0</td>\n",
       "      <td>0</td>\n",
       "      <td>1</td>\n",
       "      <td>0</td>\n",
       "      <td>1</td>\n",
       "      <td>0</td>\n",
       "      <td>0</td>\n",
       "      <td>1</td>\n",
       "      <td>0</td>\n",
       "      <td>0</td>\n",
       "      <td>0</td>\n",
       "      <td>0</td>\n",
       "      <td>1</td>\n",
       "      <td>0</td>\n",
       "      <td>0</td>\n",
       "      <td>0</td>\n",
       "      <td>1</td>\n",
       "      <td>0</td>\n",
       "      <td>1</td>\n",
       "      <td>0</td>\n",
       "      <td>0</td>\n",
       "      <td>0</td>\n",
       "      <td>1</td>\n",
       "      <td>0</td>\n",
       "      <td>1</td>\n",
       "      <td>1</td>\n",
       "      <td>1</td>\n",
       "      <td>0</td>\n",
       "      <td>0</td>\n",
       "      <td>0.174982</td>\n",
       "      <td>0</td>\n",
       "    </tr>\n",
       "    <tr>\n",
       "      <th>4</th>\n",
       "      <td>0</td>\n",
       "      <td>1</td>\n",
       "      <td>0</td>\n",
       "      <td>0</td>\n",
       "      <td>0</td>\n",
       "      <td>1</td>\n",
       "      <td>0</td>\n",
       "      <td>0</td>\n",
       "      <td>0</td>\n",
       "      <td>0</td>\n",
       "      <td>1</td>\n",
       "      <td>1</td>\n",
       "      <td>0</td>\n",
       "      <td>0</td>\n",
       "      <td>0</td>\n",
       "      <td>0</td>\n",
       "      <td>0</td>\n",
       "      <td>0</td>\n",
       "      <td>1</td>\n",
       "      <td>0</td>\n",
       "      <td>0</td>\n",
       "      <td>1</td>\n",
       "      <td>0</td>\n",
       "      <td>1</td>\n",
       "      <td>0</td>\n",
       "      <td>0</td>\n",
       "      <td>1</td>\n",
       "      <td>0</td>\n",
       "      <td>0</td>\n",
       "      <td>0</td>\n",
       "      <td>0</td>\n",
       "      <td>1</td>\n",
       "      <td>0</td>\n",
       "      <td>0</td>\n",
       "      <td>0</td>\n",
       "      <td>1</td>\n",
       "      <td>0</td>\n",
       "      <td>1</td>\n",
       "      <td>0</td>\n",
       "      <td>0</td>\n",
       "      <td>0</td>\n",
       "      <td>2</td>\n",
       "      <td>1</td>\n",
       "      <td>1</td>\n",
       "      <td>0</td>\n",
       "      <td>1</td>\n",
       "      <td>0</td>\n",
       "      <td>1</td>\n",
       "      <td>0.417494</td>\n",
       "      <td>0</td>\n",
       "    </tr>\n",
       "  </tbody>\n",
       "</table>\n",
       "</div>"
      ],
      "text/plain": [
       "   channel_direct  channel_organic  channel_other  channel_paid  \\\n",
       "0               0                1              0             0   \n",
       "1               0                1              0             0   \n",
       "2               0                1              0             0   \n",
       "3               0                1              0             0   \n",
       "4               0                1              0             0   \n",
       "\n",
       "   browser_android  browser_chrome  browser_firefox  browser_microsoft  \\\n",
       "0                0               1                0                  0   \n",
       "1                0               0                1                  0   \n",
       "2                0               1                0                  0   \n",
       "3                0               0                0                  0   \n",
       "4                0               1                0                  0   \n",
       "\n",
       "   browser_other  cat_desktop  cat_mobile  os_Android  os_Macintosh  \\\n",
       "0              0            1           0           0             0   \n",
       "1              0            1           0           0             1   \n",
       "2              0            1           0           0             0   \n",
       "3              1            1           0           0             0   \n",
       "4              0            0           1           1             0   \n",
       "\n",
       "   os_Windows  os_iOS  continet_Africa  continet_Americas  continet_Asia  \\\n",
       "0           1       0                0                  0              1   \n",
       "1           0       0                0                  0              0   \n",
       "2           1       0                0                  0              0   \n",
       "3           0       0                0                  0              1   \n",
       "4           0       0                0                  0              0   \n",
       "\n",
       "   continet_Europe  continet_Oceania  ad_GoogleMerchandiseCollection  ad_NoAd  \\\n",
       "0                0                 0                               0        1   \n",
       "1                0                 1                               0        1   \n",
       "2                1                 0                               0        1   \n",
       "3                0                 0                               0        1   \n",
       "4                1                 0                               0        1   \n",
       "\n",
       "   network_Google Search  network_NoAdWords  campaign_AW  campaign_Data Share  \\\n",
       "0                      0                  1            0                    0   \n",
       "1                      0                  1            0                    0   \n",
       "2                      0                  1            0                    0   \n",
       "3                      0                  1            0                    0   \n",
       "4                      0                  1            0                    0   \n",
       "\n",
       "   campaign_NoCampaign  medium_affiliate  medium_cpc  medium_cpm  medium_none  \\\n",
       "0                    1                 0           0           0            0   \n",
       "1                    1                 0           0           0            0   \n",
       "2                    1                 0           0           0            0   \n",
       "3                    1                 0           0           0            0   \n",
       "4                    1                 0           0           0            0   \n",
       "\n",
       "   medium_organic  medium_other  referral_Google  referral_Home  \\\n",
       "0               1             0                0              0   \n",
       "1               1             0                0              0   \n",
       "2               1             0                0              0   \n",
       "3               1             0                0              0   \n",
       "4               1             0                0              0   \n",
       "\n",
       "   referral_NoReferral  referral_Youtube  source_Google  source_Googleplex  \\\n",
       "0                    1                 0              1                  0   \n",
       "1                    1                 0              1                  0   \n",
       "2                    1                 0              1                  0   \n",
       "3                    1                 0              1                  0   \n",
       "4                    1                 0              1                  0   \n",
       "\n",
       "   source_Youtube  source_direct  visitNumber  deviceIsMobile  totalsBounces  \\\n",
       "0               0              0            1               0              1   \n",
       "1               0              0            1               0              1   \n",
       "2               0              0            1               0              1   \n",
       "3               0              0            1               0              1   \n",
       "4               0              0            2               1              1   \n",
       "\n",
       "   totalsNewVisits  totalsPageviews  adwordsClickGclId  \\\n",
       "0                1                1                  0   \n",
       "1                1                1                  0   \n",
       "2                1                1                  0   \n",
       "3                1                1                  0   \n",
       "4                0                1                  0   \n",
       "\n",
       "   trafficSourceIsTrueDirect  newRandom  newConversion  \n",
       "0                          0   0.487985              0  \n",
       "1                          0   0.305608              0  \n",
       "2                          0   0.413922              0  \n",
       "3                          0   0.174982              0  \n",
       "4                          1   0.417494              0  "
      ]
     },
     "execution_count": 5,
     "metadata": {},
     "output_type": "execute_result"
    }
   ],
   "source": [
    "df.head()"
   ]
  },
  {
   "cell_type": "code",
   "execution_count": 6,
   "metadata": {},
   "outputs": [
    {
     "data": {
      "text/plain": [
       "Index(['channel_direct', 'channel_organic', 'channel_other', 'channel_paid',\n",
       "       'browser_android', 'browser_chrome', 'browser_firefox',\n",
       "       'browser_microsoft', 'browser_other', 'cat_desktop', 'cat_mobile',\n",
       "       'os_Android', 'os_Macintosh', 'os_Windows', 'os_iOS', 'continet_Africa',\n",
       "       'continet_Americas', 'continet_Asia', 'continet_Europe',\n",
       "       'continet_Oceania', 'ad_GoogleMerchandiseCollection', 'ad_NoAd',\n",
       "       'network_Google Search', 'network_NoAdWords', 'campaign_AW',\n",
       "       'campaign_Data Share', 'campaign_NoCampaign', 'medium_affiliate',\n",
       "       'medium_cpc', 'medium_cpm', 'medium_none', 'medium_organic',\n",
       "       'medium_other', 'referral_Google', 'referral_Home',\n",
       "       'referral_NoReferral', 'referral_Youtube', 'source_Google',\n",
       "       'source_Googleplex', 'source_Youtube', 'source_direct', 'visitNumber',\n",
       "       'deviceIsMobile', 'totalsBounces', 'totalsNewVisits', 'totalsPageviews',\n",
       "       'adwordsClickGclId', 'trafficSourceIsTrueDirect', 'newRandom',\n",
       "       'newConversion'],\n",
       "      dtype='object')"
      ]
     },
     "execution_count": 6,
     "metadata": {},
     "output_type": "execute_result"
    }
   ],
   "source": [
    "df.columns"
   ]
  },
  {
   "cell_type": "markdown",
   "metadata": {},
   "source": [
    "### Model Selection"
   ]
  },
  {
   "cell_type": "markdown",
   "metadata": {},
   "source": [
    "In the model selection process I will take into account:<br>\n",
    "    1.- It is a binaty classification problem<br>\n",
    "    2.- The data is Sparse<br>\n",
    "    3.- The target is very unbalanced (1,29% vs 98,71)<br>\n",
    "    4.- There is a lot of data 903455 rows and 48 columns<br>"
   ]
  },
  {
   "cell_type": "markdown",
   "metadata": {},
   "source": [
    "**CONCLUSIONS:**<br>\n",
    "1.- I'll use a decision tree<br>\n",
    "2.- I'll try to balance the classes down sampling the data<br>\n",
    "3.- I'll use Under ROC Curve (AUROC) as metric<br>"
   ]
  },
  {
   "cell_type": "markdown",
   "metadata": {},
   "source": [
    "### Down sampling the dataframe"
   ]
  },
  {
   "cell_type": "markdown",
   "metadata": {},
   "source": [
    "I'll separate observations from each class into different DataFrames.\n"
   ]
  },
  {
   "cell_type": "code",
   "execution_count": 7,
   "metadata": {},
   "outputs": [],
   "source": [
    "# Separate majority and minority classes\n",
    "df_majority = df[df.newConversion==0]\n",
    "df_minority = df[df.newConversion==1]"
   ]
  },
  {
   "cell_type": "code",
   "execution_count": 8,
   "metadata": {},
   "outputs": [
    {
     "data": {
      "text/plain": [
       "(891940, 50)"
      ]
     },
     "execution_count": 8,
     "metadata": {},
     "output_type": "execute_result"
    }
   ],
   "source": [
    "df_majority.shape"
   ]
  },
  {
   "cell_type": "code",
   "execution_count": 9,
   "metadata": {},
   "outputs": [
    {
     "data": {
      "text/plain": [
       "(11515, 50)"
      ]
     },
     "execution_count": 9,
     "metadata": {},
     "output_type": "execute_result"
    }
   ],
   "source": [
    "df_minority.shape"
   ]
  },
  {
   "cell_type": "markdown",
   "metadata": {},
   "source": [
    "I'll resample the majority class without replacement, setting the number of samples to match that of the minority class.\n"
   ]
  },
  {
   "cell_type": "code",
   "execution_count": 10,
   "metadata": {},
   "outputs": [],
   "source": [
    "# Downsample majority class\n",
    "df_majority_downsampled = resample(df_majority, \n",
    "                                 replace=False,    # sample without replacement\n",
    "                                 n_samples=11515,     # to match minority class\n",
    "                                 random_state=5) # reproducible results\n",
    " "
   ]
  },
  {
   "cell_type": "markdown",
   "metadata": {},
   "source": [
    "I'll combine the down-sampled majority class DataFrame with the original minority class DataFrame."
   ]
  },
  {
   "cell_type": "code",
   "execution_count": 11,
   "metadata": {},
   "outputs": [],
   "source": [
    "# Combine minority class with downsampled majority class\n",
    "df_downsampled = pd.concat([df_majority_downsampled, df_minority])\n"
   ]
  },
  {
   "cell_type": "code",
   "execution_count": 12,
   "metadata": {},
   "outputs": [
    {
     "data": {
      "text/plain": [
       "1    11515\n",
       "0    11515\n",
       "Name: newConversion, dtype: int64"
      ]
     },
     "execution_count": 12,
     "metadata": {},
     "output_type": "execute_result"
    }
   ],
   "source": [
    "df_downsampled['newConversion'].value_counts()"
   ]
  },
  {
   "cell_type": "code",
   "execution_count": 13,
   "metadata": {},
   "outputs": [
    {
     "data": {
      "text/plain": [
       "(23030, 50)"
      ]
     },
     "execution_count": 13,
     "metadata": {},
     "output_type": "execute_result"
    }
   ],
   "source": [
    "df_downsampled.shape"
   ]
  },
  {
   "cell_type": "code",
   "execution_count": 14,
   "metadata": {},
   "outputs": [
    {
     "data": {
      "text/plain": [
       "0"
      ]
     },
     "execution_count": 14,
     "metadata": {},
     "output_type": "execute_result"
    }
   ],
   "source": [
    "df_downsampled.isnull().sum().sum()"
   ]
  },
  {
   "cell_type": "code",
   "execution_count": 15,
   "metadata": {},
   "outputs": [],
   "source": [
    "df_downsampled.to_csv(\"data/df5_1-downsampled.csv\",index=False)"
   ]
  },
  {
   "cell_type": "markdown",
   "metadata": {},
   "source": [
    "### Classification Tree: Random Forrest"
   ]
  },
  {
   "cell_type": "markdown",
   "metadata": {},
   "source": [
    "#### Split dataframe"
   ]
  },
  {
   "cell_type": "code",
   "execution_count": 16,
   "metadata": {},
   "outputs": [],
   "source": [
    "X = df_downsampled.iloc[:,:-1]\n",
    "y = df_downsampled.iloc[:,-1:]"
   ]
  },
  {
   "cell_type": "code",
   "execution_count": 17,
   "metadata": {},
   "outputs": [],
   "source": [
    "X_train, X_test, y_train, y_test = train_test_split(X, y,  stratify=y, test_size=0.2, random_state=10)"
   ]
  },
  {
   "cell_type": "markdown",
   "metadata": {},
   "source": [
    "#### Search Grid Cross Validation"
   ]
  },
  {
   "cell_type": "code",
   "execution_count": 18,
   "metadata": {},
   "outputs": [],
   "source": [
    "rfc = RandomForestClassifier(random_state=10)"
   ]
  },
  {
   "cell_type": "code",
   "execution_count": 19,
   "metadata": {},
   "outputs": [
    {
     "name": "stdout",
     "output_type": "stream",
     "text": [
      "{'bootstrap': True, 'class_weight': None, 'criterion': 'gini', 'max_depth': None, 'max_features': 'auto', 'max_leaf_nodes': None, 'min_impurity_decrease': 0.0, 'min_impurity_split': None, 'min_samples_leaf': 1, 'min_samples_split': 2, 'min_weight_fraction_leaf': 0.0, 'n_estimators': 'warn', 'n_jobs': None, 'oob_score': False, 'random_state': 10, 'verbose': 0, 'warm_start': False}\n"
     ]
    }
   ],
   "source": [
    "#Current parameters of Random Forrest Classifier\n",
    "print(rfc.get_params())"
   ]
  },
  {
   "cell_type": "markdown",
   "metadata": {},
   "source": [
    "I'll use the following parameters to hypertune the model"
   ]
  },
  {
   "cell_type": "markdown",
   "metadata": {},
   "source": [
    "n_estimators = number of trees in the foreset<br>\n",
    "max_features = max number of features considered for splitting a node<br>\n",
    "max_depth = max number of levels in each decision tree<br>\n",
    "bootstrap = method for sampling data points (with or without replacement)<br>\n",
    "criterion = the function to measure the quality of a split"
   ]
  },
  {
   "cell_type": "code",
   "execution_count": 20,
   "metadata": {},
   "outputs": [],
   "source": [
    "param_grid = { \n",
    "    'n_estimators': [10, 50, 100],\n",
    "    'max_features': ['auto', 'sqrt', 'log2'],\n",
    "    'max_depth' : [3,5,7,9],\n",
    "    'bootstrap' : [True, False],\n",
    "    'criterion': ['gini', 'entropy']   \n",
    "}"
   ]
  },
  {
   "cell_type": "code",
   "execution_count": 21,
   "metadata": {},
   "outputs": [],
   "source": [
    "CV_rfc = GridSearchCV(estimator=rfc, param_grid=param_grid, cv= 5, verbose=8)"
   ]
  },
  {
   "cell_type": "code",
   "execution_count": 22,
   "metadata": {},
   "outputs": [
    {
     "name": "stdout",
     "output_type": "stream",
     "text": [
      "Fitting 5 folds for each of 144 candidates, totalling 720 fits\n",
      "[CV] bootstrap=True, criterion=gini, max_depth=3, max_features=auto, n_estimators=10 \n",
      "[CV]  bootstrap=True, criterion=gini, max_depth=3, max_features=auto, n_estimators=10, score=0.949, total=   0.1s\n",
      "[CV] bootstrap=True, criterion=gini, max_depth=3, max_features=auto, n_estimators=10 \n",
      "[CV]  bootstrap=True, criterion=gini, max_depth=3, max_features=auto, n_estimators=10, score=0.939, total=   0.1s\n",
      "[CV] bootstrap=True, criterion=gini, max_depth=3, max_features=auto, n_estimators=10 \n"
     ]
    },
    {
     "name": "stderr",
     "output_type": "stream",
     "text": [
      "[Parallel(n_jobs=1)]: Using backend SequentialBackend with 1 concurrent workers.\n",
      "/usr/local/lib/python3.7/site-packages/sklearn/model_selection/_validation.py:514: DataConversionWarning: A column-vector y was passed when a 1d array was expected. Please change the shape of y to (n_samples,), for example using ravel().\n",
      "  estimator.fit(X_train, y_train, **fit_params)\n",
      "[Parallel(n_jobs=1)]: Done   1 out of   1 | elapsed:    0.1s remaining:    0.0s\n",
      "/usr/local/lib/python3.7/site-packages/sklearn/model_selection/_validation.py:514: DataConversionWarning: A column-vector y was passed when a 1d array was expected. Please change the shape of y to (n_samples,), for example using ravel().\n",
      "  estimator.fit(X_train, y_train, **fit_params)\n",
      "[Parallel(n_jobs=1)]: Done   2 out of   2 | elapsed:    0.2s remaining:    0.0s\n",
      "/usr/local/lib/python3.7/site-packages/sklearn/model_selection/_validation.py:514: DataConversionWarning: A column-vector y was passed when a 1d array was expected. Please change the shape of y to (n_samples,), for example using ravel().\n",
      "  estimator.fit(X_train, y_train, **fit_params)\n"
     ]
    },
    {
     "name": "stdout",
     "output_type": "stream",
     "text": [
      "[CV]  bootstrap=True, criterion=gini, max_depth=3, max_features=auto, n_estimators=10, score=0.947, total=   0.1s\n",
      "[CV] bootstrap=True, criterion=gini, max_depth=3, max_features=auto, n_estimators=10 \n",
      "[CV]  bootstrap=True, criterion=gini, max_depth=3, max_features=auto, n_estimators=10, score=0.946, total=   0.1s\n",
      "[CV] bootstrap=True, criterion=gini, max_depth=3, max_features=auto, n_estimators=10 \n",
      "[CV]  bootstrap=True, criterion=gini, max_depth=3, max_features=auto, n_estimators=10, score=0.948, total=   0.1s\n",
      "[CV] bootstrap=True, criterion=gini, max_depth=3, max_features=auto, n_estimators=50 \n"
     ]
    },
    {
     "name": "stderr",
     "output_type": "stream",
     "text": [
      "[Parallel(n_jobs=1)]: Done   3 out of   3 | elapsed:    0.2s remaining:    0.0s\n",
      "/usr/local/lib/python3.7/site-packages/sklearn/model_selection/_validation.py:514: DataConversionWarning: A column-vector y was passed when a 1d array was expected. Please change the shape of y to (n_samples,), for example using ravel().\n",
      "  estimator.fit(X_train, y_train, **fit_params)\n",
      "[Parallel(n_jobs=1)]: Done   4 out of   4 | elapsed:    0.3s remaining:    0.0s\n",
      "/usr/local/lib/python3.7/site-packages/sklearn/model_selection/_validation.py:514: DataConversionWarning: A column-vector y was passed when a 1d array was expected. Please change the shape of y to (n_samples,), for example using ravel().\n",
      "  estimator.fit(X_train, y_train, **fit_params)\n",
      "[Parallel(n_jobs=1)]: Done   5 out of   5 | elapsed:    0.4s remaining:    0.0s\n",
      "/usr/local/lib/python3.7/site-packages/sklearn/model_selection/_validation.py:514: DataConversionWarning: A column-vector y was passed when a 1d array was expected. Please change the shape of y to (n_samples,), for example using ravel().\n",
      "  estimator.fit(X_train, y_train, **fit_params)\n"
     ]
    },
    {
     "name": "stdout",
     "output_type": "stream",
     "text": [
      "[CV]  bootstrap=True, criterion=gini, max_depth=3, max_features=auto, n_estimators=50, score=0.956, total=   0.3s\n",
      "[CV] bootstrap=True, criterion=gini, max_depth=3, max_features=auto, n_estimators=50 \n"
     ]
    },
    {
     "name": "stderr",
     "output_type": "stream",
     "text": [
      "[Parallel(n_jobs=1)]: Done   6 out of   6 | elapsed:    0.6s remaining:    0.0s\n",
      "/usr/local/lib/python3.7/site-packages/sklearn/model_selection/_validation.py:514: DataConversionWarning: A column-vector y was passed when a 1d array was expected. Please change the shape of y to (n_samples,), for example using ravel().\n",
      "  estimator.fit(X_train, y_train, **fit_params)\n"
     ]
    },
    {
     "name": "stdout",
     "output_type": "stream",
     "text": [
      "[CV]  bootstrap=True, criterion=gini, max_depth=3, max_features=auto, n_estimators=50, score=0.954, total=   0.3s\n",
      "[CV] bootstrap=True, criterion=gini, max_depth=3, max_features=auto, n_estimators=50 \n"
     ]
    },
    {
     "name": "stderr",
     "output_type": "stream",
     "text": [
      "[Parallel(n_jobs=1)]: Done   7 out of   7 | elapsed:    0.9s remaining:    0.0s\n",
      "/usr/local/lib/python3.7/site-packages/sklearn/model_selection/_validation.py:514: DataConversionWarning: A column-vector y was passed when a 1d array was expected. Please change the shape of y to (n_samples,), for example using ravel().\n",
      "  estimator.fit(X_train, y_train, **fit_params)\n"
     ]
    },
    {
     "name": "stdout",
     "output_type": "stream",
     "text": [
      "[CV]  bootstrap=True, criterion=gini, max_depth=3, max_features=auto, n_estimators=50, score=0.954, total=   0.3s\n",
      "[CV] bootstrap=True, criterion=gini, max_depth=3, max_features=auto, n_estimators=50 \n"
     ]
    },
    {
     "name": "stderr",
     "output_type": "stream",
     "text": [
      "/usr/local/lib/python3.7/site-packages/sklearn/model_selection/_validation.py:514: DataConversionWarning: A column-vector y was passed when a 1d array was expected. Please change the shape of y to (n_samples,), for example using ravel().\n",
      "  estimator.fit(X_train, y_train, **fit_params)\n"
     ]
    },
    {
     "name": "stdout",
     "output_type": "stream",
     "text": [
      "[CV]  bootstrap=True, criterion=gini, max_depth=3, max_features=auto, n_estimators=50, score=0.947, total=   0.4s\n",
      "[CV] bootstrap=True, criterion=gini, max_depth=3, max_features=auto, n_estimators=50 \n"
     ]
    },
    {
     "name": "stderr",
     "output_type": "stream",
     "text": [
      "/usr/local/lib/python3.7/site-packages/sklearn/model_selection/_validation.py:514: DataConversionWarning: A column-vector y was passed when a 1d array was expected. Please change the shape of y to (n_samples,), for example using ravel().\n",
      "  estimator.fit(X_train, y_train, **fit_params)\n"
     ]
    },
    {
     "name": "stdout",
     "output_type": "stream",
     "text": [
      "[CV]  bootstrap=True, criterion=gini, max_depth=3, max_features=auto, n_estimators=50, score=0.951, total=   0.4s\n",
      "[CV] bootstrap=True, criterion=gini, max_depth=3, max_features=auto, n_estimators=100 \n"
     ]
    },
    {
     "name": "stderr",
     "output_type": "stream",
     "text": [
      "/usr/local/lib/python3.7/site-packages/sklearn/model_selection/_validation.py:514: DataConversionWarning: A column-vector y was passed when a 1d array was expected. Please change the shape of y to (n_samples,), for example using ravel().\n",
      "  estimator.fit(X_train, y_train, **fit_params)\n"
     ]
    },
    {
     "name": "stdout",
     "output_type": "stream",
     "text": [
      "[CV]  bootstrap=True, criterion=gini, max_depth=3, max_features=auto, n_estimators=100, score=0.948, total=   0.8s\n",
      "[CV] bootstrap=True, criterion=gini, max_depth=3, max_features=auto, n_estimators=100 \n"
     ]
    },
    {
     "name": "stderr",
     "output_type": "stream",
     "text": [
      "/usr/local/lib/python3.7/site-packages/sklearn/model_selection/_validation.py:514: DataConversionWarning: A column-vector y was passed when a 1d array was expected. Please change the shape of y to (n_samples,), for example using ravel().\n",
      "  estimator.fit(X_train, y_train, **fit_params)\n"
     ]
    },
    {
     "name": "stdout",
     "output_type": "stream",
     "text": [
      "[CV]  bootstrap=True, criterion=gini, max_depth=3, max_features=auto, n_estimators=100, score=0.952, total=   0.6s\n",
      "[CV] bootstrap=True, criterion=gini, max_depth=3, max_features=auto, n_estimators=100 \n"
     ]
    },
    {
     "name": "stderr",
     "output_type": "stream",
     "text": [
      "/usr/local/lib/python3.7/site-packages/sklearn/model_selection/_validation.py:514: DataConversionWarning: A column-vector y was passed when a 1d array was expected. Please change the shape of y to (n_samples,), for example using ravel().\n",
      "  estimator.fit(X_train, y_train, **fit_params)\n"
     ]
    },
    {
     "name": "stdout",
     "output_type": "stream",
     "text": [
      "[CV]  bootstrap=True, criterion=gini, max_depth=3, max_features=auto, n_estimators=100, score=0.947, total=   0.5s\n",
      "[CV] bootstrap=True, criterion=gini, max_depth=3, max_features=auto, n_estimators=100 \n"
     ]
    },
    {
     "name": "stderr",
     "output_type": "stream",
     "text": [
      "/usr/local/lib/python3.7/site-packages/sklearn/model_selection/_validation.py:514: DataConversionWarning: A column-vector y was passed when a 1d array was expected. Please change the shape of y to (n_samples,), for example using ravel().\n",
      "  estimator.fit(X_train, y_train, **fit_params)\n"
     ]
    },
    {
     "name": "stdout",
     "output_type": "stream",
     "text": [
      "[CV]  bootstrap=True, criterion=gini, max_depth=3, max_features=auto, n_estimators=100, score=0.945, total=   0.7s\n",
      "[CV] bootstrap=True, criterion=gini, max_depth=3, max_features=auto, n_estimators=100 \n"
     ]
    },
    {
     "name": "stderr",
     "output_type": "stream",
     "text": [
      "/usr/local/lib/python3.7/site-packages/sklearn/model_selection/_validation.py:514: DataConversionWarning: A column-vector y was passed when a 1d array was expected. Please change the shape of y to (n_samples,), for example using ravel().\n",
      "  estimator.fit(X_train, y_train, **fit_params)\n"
     ]
    },
    {
     "name": "stdout",
     "output_type": "stream",
     "text": [
      "[CV]  bootstrap=True, criterion=gini, max_depth=3, max_features=auto, n_estimators=100, score=0.948, total=   0.6s\n",
      "[CV] bootstrap=True, criterion=gini, max_depth=3, max_features=sqrt, n_estimators=10 \n",
      "[CV]  bootstrap=True, criterion=gini, max_depth=3, max_features=sqrt, n_estimators=10, score=0.949, total=   0.1s\n",
      "[CV] bootstrap=True, criterion=gini, max_depth=3, max_features=sqrt, n_estimators=10 \n"
     ]
    },
    {
     "name": "stderr",
     "output_type": "stream",
     "text": [
      "/usr/local/lib/python3.7/site-packages/sklearn/model_selection/_validation.py:514: DataConversionWarning: A column-vector y was passed when a 1d array was expected. Please change the shape of y to (n_samples,), for example using ravel().\n",
      "  estimator.fit(X_train, y_train, **fit_params)\n",
      "/usr/local/lib/python3.7/site-packages/sklearn/model_selection/_validation.py:514: DataConversionWarning: A column-vector y was passed when a 1d array was expected. Please change the shape of y to (n_samples,), for example using ravel().\n",
      "  estimator.fit(X_train, y_train, **fit_params)\n"
     ]
    },
    {
     "name": "stdout",
     "output_type": "stream",
     "text": [
      "[CV]  bootstrap=True, criterion=gini, max_depth=3, max_features=sqrt, n_estimators=10, score=0.939, total=   0.2s\n",
      "[CV] bootstrap=True, criterion=gini, max_depth=3, max_features=sqrt, n_estimators=10 \n",
      "[CV]  bootstrap=True, criterion=gini, max_depth=3, max_features=sqrt, n_estimators=10, score=0.947, total=   0.1s\n",
      "[CV] bootstrap=True, criterion=gini, max_depth=3, max_features=sqrt, n_estimators=10 \n"
     ]
    },
    {
     "name": "stderr",
     "output_type": "stream",
     "text": [
      "/usr/local/lib/python3.7/site-packages/sklearn/model_selection/_validation.py:514: DataConversionWarning: A column-vector y was passed when a 1d array was expected. Please change the shape of y to (n_samples,), for example using ravel().\n",
      "  estimator.fit(X_train, y_train, **fit_params)\n",
      "/usr/local/lib/python3.7/site-packages/sklearn/model_selection/_validation.py:514: DataConversionWarning: A column-vector y was passed when a 1d array was expected. Please change the shape of y to (n_samples,), for example using ravel().\n",
      "  estimator.fit(X_train, y_train, **fit_params)\n"
     ]
    },
    {
     "name": "stdout",
     "output_type": "stream",
     "text": [
      "[CV]  bootstrap=True, criterion=gini, max_depth=3, max_features=sqrt, n_estimators=10, score=0.946, total=   0.2s\n",
      "[CV] bootstrap=True, criterion=gini, max_depth=3, max_features=sqrt, n_estimators=10 \n",
      "[CV]  bootstrap=True, criterion=gini, max_depth=3, max_features=sqrt, n_estimators=10, score=0.948, total=   0.1s\n",
      "[CV] bootstrap=True, criterion=gini, max_depth=3, max_features=sqrt, n_estimators=50 \n"
     ]
    },
    {
     "name": "stderr",
     "output_type": "stream",
     "text": [
      "/usr/local/lib/python3.7/site-packages/sklearn/model_selection/_validation.py:514: DataConversionWarning: A column-vector y was passed when a 1d array was expected. Please change the shape of y to (n_samples,), for example using ravel().\n",
      "  estimator.fit(X_train, y_train, **fit_params)\n",
      "/usr/local/lib/python3.7/site-packages/sklearn/model_selection/_validation.py:514: DataConversionWarning: A column-vector y was passed when a 1d array was expected. Please change the shape of y to (n_samples,), for example using ravel().\n",
      "  estimator.fit(X_train, y_train, **fit_params)\n"
     ]
    },
    {
     "name": "stdout",
     "output_type": "stream",
     "text": [
      "[CV]  bootstrap=True, criterion=gini, max_depth=3, max_features=sqrt, n_estimators=50, score=0.956, total=   0.5s\n",
      "[CV] bootstrap=True, criterion=gini, max_depth=3, max_features=sqrt, n_estimators=50 \n"
     ]
    },
    {
     "name": "stderr",
     "output_type": "stream",
     "text": [
      "/usr/local/lib/python3.7/site-packages/sklearn/model_selection/_validation.py:514: DataConversionWarning: A column-vector y was passed when a 1d array was expected. Please change the shape of y to (n_samples,), for example using ravel().\n",
      "  estimator.fit(X_train, y_train, **fit_params)\n"
     ]
    },
    {
     "name": "stdout",
     "output_type": "stream",
     "text": [
      "[CV]  bootstrap=True, criterion=gini, max_depth=3, max_features=sqrt, n_estimators=50, score=0.954, total=   0.4s\n",
      "[CV] bootstrap=True, criterion=gini, max_depth=3, max_features=sqrt, n_estimators=50 \n"
     ]
    },
    {
     "name": "stderr",
     "output_type": "stream",
     "text": [
      "/usr/local/lib/python3.7/site-packages/sklearn/model_selection/_validation.py:514: DataConversionWarning: A column-vector y was passed when a 1d array was expected. Please change the shape of y to (n_samples,), for example using ravel().\n",
      "  estimator.fit(X_train, y_train, **fit_params)\n"
     ]
    },
    {
     "name": "stdout",
     "output_type": "stream",
     "text": [
      "[CV]  bootstrap=True, criterion=gini, max_depth=3, max_features=sqrt, n_estimators=50, score=0.954, total=   0.4s\n",
      "[CV] bootstrap=True, criterion=gini, max_depth=3, max_features=sqrt, n_estimators=50 \n"
     ]
    },
    {
     "name": "stderr",
     "output_type": "stream",
     "text": [
      "/usr/local/lib/python3.7/site-packages/sklearn/model_selection/_validation.py:514: DataConversionWarning: A column-vector y was passed when a 1d array was expected. Please change the shape of y to (n_samples,), for example using ravel().\n",
      "  estimator.fit(X_train, y_train, **fit_params)\n"
     ]
    },
    {
     "name": "stdout",
     "output_type": "stream",
     "text": [
      "[CV]  bootstrap=True, criterion=gini, max_depth=3, max_features=sqrt, n_estimators=50, score=0.947, total=   0.3s\n",
      "[CV] bootstrap=True, criterion=gini, max_depth=3, max_features=sqrt, n_estimators=50 \n"
     ]
    },
    {
     "name": "stderr",
     "output_type": "stream",
     "text": [
      "/usr/local/lib/python3.7/site-packages/sklearn/model_selection/_validation.py:514: DataConversionWarning: A column-vector y was passed when a 1d array was expected. Please change the shape of y to (n_samples,), for example using ravel().\n",
      "  estimator.fit(X_train, y_train, **fit_params)\n"
     ]
    },
    {
     "name": "stdout",
     "output_type": "stream",
     "text": [
      "[CV]  bootstrap=True, criterion=gini, max_depth=3, max_features=sqrt, n_estimators=50, score=0.951, total=   0.4s\n",
      "[CV] bootstrap=True, criterion=gini, max_depth=3, max_features=sqrt, n_estimators=100 \n"
     ]
    },
    {
     "name": "stderr",
     "output_type": "stream",
     "text": [
      "/usr/local/lib/python3.7/site-packages/sklearn/model_selection/_validation.py:514: DataConversionWarning: A column-vector y was passed when a 1d array was expected. Please change the shape of y to (n_samples,), for example using ravel().\n",
      "  estimator.fit(X_train, y_train, **fit_params)\n"
     ]
    },
    {
     "name": "stdout",
     "output_type": "stream",
     "text": [
      "[CV]  bootstrap=True, criterion=gini, max_depth=3, max_features=sqrt, n_estimators=100, score=0.948, total=   0.9s\n",
      "[CV] bootstrap=True, criterion=gini, max_depth=3, max_features=sqrt, n_estimators=100 \n"
     ]
    },
    {
     "name": "stderr",
     "output_type": "stream",
     "text": [
      "/usr/local/lib/python3.7/site-packages/sklearn/model_selection/_validation.py:514: DataConversionWarning: A column-vector y was passed when a 1d array was expected. Please change the shape of y to (n_samples,), for example using ravel().\n",
      "  estimator.fit(X_train, y_train, **fit_params)\n"
     ]
    },
    {
     "name": "stdout",
     "output_type": "stream",
     "text": [
      "[CV]  bootstrap=True, criterion=gini, max_depth=3, max_features=sqrt, n_estimators=100, score=0.952, total=   0.6s\n",
      "[CV] bootstrap=True, criterion=gini, max_depth=3, max_features=sqrt, n_estimators=100 \n"
     ]
    },
    {
     "name": "stderr",
     "output_type": "stream",
     "text": [
      "/usr/local/lib/python3.7/site-packages/sklearn/model_selection/_validation.py:514: DataConversionWarning: A column-vector y was passed when a 1d array was expected. Please change the shape of y to (n_samples,), for example using ravel().\n",
      "  estimator.fit(X_train, y_train, **fit_params)\n"
     ]
    },
    {
     "name": "stdout",
     "output_type": "stream",
     "text": [
      "[CV]  bootstrap=True, criterion=gini, max_depth=3, max_features=sqrt, n_estimators=100, score=0.947, total=   0.5s\n",
      "[CV] bootstrap=True, criterion=gini, max_depth=3, max_features=sqrt, n_estimators=100 \n"
     ]
    },
    {
     "name": "stderr",
     "output_type": "stream",
     "text": [
      "/usr/local/lib/python3.7/site-packages/sklearn/model_selection/_validation.py:514: DataConversionWarning: A column-vector y was passed when a 1d array was expected. Please change the shape of y to (n_samples,), for example using ravel().\n",
      "  estimator.fit(X_train, y_train, **fit_params)\n"
     ]
    },
    {
     "name": "stdout",
     "output_type": "stream",
     "text": [
      "[CV]  bootstrap=True, criterion=gini, max_depth=3, max_features=sqrt, n_estimators=100, score=0.945, total=   0.5s\n",
      "[CV] bootstrap=True, criterion=gini, max_depth=3, max_features=sqrt, n_estimators=100 \n"
     ]
    },
    {
     "name": "stderr",
     "output_type": "stream",
     "text": [
      "/usr/local/lib/python3.7/site-packages/sklearn/model_selection/_validation.py:514: DataConversionWarning: A column-vector y was passed when a 1d array was expected. Please change the shape of y to (n_samples,), for example using ravel().\n",
      "  estimator.fit(X_train, y_train, **fit_params)\n"
     ]
    },
    {
     "name": "stdout",
     "output_type": "stream",
     "text": [
      "[CV]  bootstrap=True, criterion=gini, max_depth=3, max_features=sqrt, n_estimators=100, score=0.948, total=   0.5s\n",
      "[CV] bootstrap=True, criterion=gini, max_depth=3, max_features=log2, n_estimators=10 \n",
      "[CV]  bootstrap=True, criterion=gini, max_depth=3, max_features=log2, n_estimators=10, score=0.907, total=   0.1s\n",
      "[CV] bootstrap=True, criterion=gini, max_depth=3, max_features=log2, n_estimators=10 \n",
      "[CV]  bootstrap=True, criterion=gini, max_depth=3, max_features=log2, n_estimators=10, score=0.908, total=   0.1s\n",
      "[CV] bootstrap=True, criterion=gini, max_depth=3, max_features=log2, n_estimators=10 \n",
      "[CV]  bootstrap=True, criterion=gini, max_depth=3, max_features=log2, n_estimators=10, score=0.913, total=   0.1s\n",
      "[CV] bootstrap=True, criterion=gini, max_depth=3, max_features=log2, n_estimators=10 \n"
     ]
    },
    {
     "name": "stderr",
     "output_type": "stream",
     "text": [
      "/usr/local/lib/python3.7/site-packages/sklearn/model_selection/_validation.py:514: DataConversionWarning: A column-vector y was passed when a 1d array was expected. Please change the shape of y to (n_samples,), for example using ravel().\n",
      "  estimator.fit(X_train, y_train, **fit_params)\n",
      "/usr/local/lib/python3.7/site-packages/sklearn/model_selection/_validation.py:514: DataConversionWarning: A column-vector y was passed when a 1d array was expected. Please change the shape of y to (n_samples,), for example using ravel().\n",
      "  estimator.fit(X_train, y_train, **fit_params)\n",
      "/usr/local/lib/python3.7/site-packages/sklearn/model_selection/_validation.py:514: DataConversionWarning: A column-vector y was passed when a 1d array was expected. Please change the shape of y to (n_samples,), for example using ravel().\n",
      "  estimator.fit(X_train, y_train, **fit_params)\n",
      "/usr/local/lib/python3.7/site-packages/sklearn/model_selection/_validation.py:514: DataConversionWarning: A column-vector y was passed when a 1d array was expected. Please change the shape of y to (n_samples,), for example using ravel().\n",
      "  estimator.fit(X_train, y_train, **fit_params)\n"
     ]
    },
    {
     "name": "stdout",
     "output_type": "stream",
     "text": [
      "[CV]  bootstrap=True, criterion=gini, max_depth=3, max_features=log2, n_estimators=10, score=0.903, total=   0.1s\n",
      "[CV] bootstrap=True, criterion=gini, max_depth=3, max_features=log2, n_estimators=10 \n",
      "[CV]  bootstrap=True, criterion=gini, max_depth=3, max_features=log2, n_estimators=10, score=0.836, total=   0.1s\n",
      "[CV] bootstrap=True, criterion=gini, max_depth=3, max_features=log2, n_estimators=50 \n"
     ]
    },
    {
     "name": "stderr",
     "output_type": "stream",
     "text": [
      "/usr/local/lib/python3.7/site-packages/sklearn/model_selection/_validation.py:514: DataConversionWarning: A column-vector y was passed when a 1d array was expected. Please change the shape of y to (n_samples,), for example using ravel().\n",
      "  estimator.fit(X_train, y_train, **fit_params)\n",
      "/usr/local/lib/python3.7/site-packages/sklearn/model_selection/_validation.py:514: DataConversionWarning: A column-vector y was passed when a 1d array was expected. Please change the shape of y to (n_samples,), for example using ravel().\n",
      "  estimator.fit(X_train, y_train, **fit_params)\n"
     ]
    },
    {
     "name": "stdout",
     "output_type": "stream",
     "text": [
      "[CV]  bootstrap=True, criterion=gini, max_depth=3, max_features=log2, n_estimators=50, score=0.929, total=   0.3s\n",
      "[CV] bootstrap=True, criterion=gini, max_depth=3, max_features=log2, n_estimators=50 \n"
     ]
    },
    {
     "name": "stderr",
     "output_type": "stream",
     "text": [
      "/usr/local/lib/python3.7/site-packages/sklearn/model_selection/_validation.py:514: DataConversionWarning: A column-vector y was passed when a 1d array was expected. Please change the shape of y to (n_samples,), for example using ravel().\n",
      "  estimator.fit(X_train, y_train, **fit_params)\n"
     ]
    },
    {
     "name": "stdout",
     "output_type": "stream",
     "text": [
      "[CV]  bootstrap=True, criterion=gini, max_depth=3, max_features=log2, n_estimators=50, score=0.936, total=   0.3s\n",
      "[CV] bootstrap=True, criterion=gini, max_depth=3, max_features=log2, n_estimators=50 \n"
     ]
    },
    {
     "name": "stderr",
     "output_type": "stream",
     "text": [
      "/usr/local/lib/python3.7/site-packages/sklearn/model_selection/_validation.py:514: DataConversionWarning: A column-vector y was passed when a 1d array was expected. Please change the shape of y to (n_samples,), for example using ravel().\n",
      "  estimator.fit(X_train, y_train, **fit_params)\n"
     ]
    },
    {
     "name": "stdout",
     "output_type": "stream",
     "text": [
      "[CV]  bootstrap=True, criterion=gini, max_depth=3, max_features=log2, n_estimators=50, score=0.936, total=   0.2s\n",
      "[CV] bootstrap=True, criterion=gini, max_depth=3, max_features=log2, n_estimators=50 \n"
     ]
    },
    {
     "name": "stderr",
     "output_type": "stream",
     "text": [
      "/usr/local/lib/python3.7/site-packages/sklearn/model_selection/_validation.py:514: DataConversionWarning: A column-vector y was passed when a 1d array was expected. Please change the shape of y to (n_samples,), for example using ravel().\n",
      "  estimator.fit(X_train, y_train, **fit_params)\n"
     ]
    },
    {
     "name": "stdout",
     "output_type": "stream",
     "text": [
      "[CV]  bootstrap=True, criterion=gini, max_depth=3, max_features=log2, n_estimators=50, score=0.927, total=   0.2s\n",
      "[CV] bootstrap=True, criterion=gini, max_depth=3, max_features=log2, n_estimators=50 \n"
     ]
    },
    {
     "name": "stderr",
     "output_type": "stream",
     "text": [
      "/usr/local/lib/python3.7/site-packages/sklearn/model_selection/_validation.py:514: DataConversionWarning: A column-vector y was passed when a 1d array was expected. Please change the shape of y to (n_samples,), for example using ravel().\n",
      "  estimator.fit(X_train, y_train, **fit_params)\n"
     ]
    },
    {
     "name": "stdout",
     "output_type": "stream",
     "text": [
      "[CV]  bootstrap=True, criterion=gini, max_depth=3, max_features=log2, n_estimators=50, score=0.928, total=   0.2s\n",
      "[CV] bootstrap=True, criterion=gini, max_depth=3, max_features=log2, n_estimators=100 \n"
     ]
    },
    {
     "name": "stderr",
     "output_type": "stream",
     "text": [
      "/usr/local/lib/python3.7/site-packages/sklearn/model_selection/_validation.py:514: DataConversionWarning: A column-vector y was passed when a 1d array was expected. Please change the shape of y to (n_samples,), for example using ravel().\n",
      "  estimator.fit(X_train, y_train, **fit_params)\n"
     ]
    },
    {
     "name": "stdout",
     "output_type": "stream",
     "text": [
      "[CV]  bootstrap=True, criterion=gini, max_depth=3, max_features=log2, n_estimators=100, score=0.926, total=   0.5s\n",
      "[CV] bootstrap=True, criterion=gini, max_depth=3, max_features=log2, n_estimators=100 \n"
     ]
    },
    {
     "name": "stderr",
     "output_type": "stream",
     "text": [
      "/usr/local/lib/python3.7/site-packages/sklearn/model_selection/_validation.py:514: DataConversionWarning: A column-vector y was passed when a 1d array was expected. Please change the shape of y to (n_samples,), for example using ravel().\n",
      "  estimator.fit(X_train, y_train, **fit_params)\n"
     ]
    },
    {
     "name": "stdout",
     "output_type": "stream",
     "text": [
      "[CV]  bootstrap=True, criterion=gini, max_depth=3, max_features=log2, n_estimators=100, score=0.936, total=   0.5s\n",
      "[CV] bootstrap=True, criterion=gini, max_depth=3, max_features=log2, n_estimators=100 \n"
     ]
    },
    {
     "name": "stderr",
     "output_type": "stream",
     "text": [
      "/usr/local/lib/python3.7/site-packages/sklearn/model_selection/_validation.py:514: DataConversionWarning: A column-vector y was passed when a 1d array was expected. Please change the shape of y to (n_samples,), for example using ravel().\n",
      "  estimator.fit(X_train, y_train, **fit_params)\n"
     ]
    },
    {
     "name": "stdout",
     "output_type": "stream",
     "text": [
      "[CV]  bootstrap=True, criterion=gini, max_depth=3, max_features=log2, n_estimators=100, score=0.931, total=   0.8s\n",
      "[CV] bootstrap=True, criterion=gini, max_depth=3, max_features=log2, n_estimators=100 \n"
     ]
    },
    {
     "name": "stderr",
     "output_type": "stream",
     "text": [
      "/usr/local/lib/python3.7/site-packages/sklearn/model_selection/_validation.py:514: DataConversionWarning: A column-vector y was passed when a 1d array was expected. Please change the shape of y to (n_samples,), for example using ravel().\n",
      "  estimator.fit(X_train, y_train, **fit_params)\n"
     ]
    },
    {
     "name": "stdout",
     "output_type": "stream",
     "text": [
      "[CV]  bootstrap=True, criterion=gini, max_depth=3, max_features=log2, n_estimators=100, score=0.919, total=   1.1s\n",
      "[CV] bootstrap=True, criterion=gini, max_depth=3, max_features=log2, n_estimators=100 \n"
     ]
    },
    {
     "name": "stderr",
     "output_type": "stream",
     "text": [
      "/usr/local/lib/python3.7/site-packages/sklearn/model_selection/_validation.py:514: DataConversionWarning: A column-vector y was passed when a 1d array was expected. Please change the shape of y to (n_samples,), for example using ravel().\n",
      "  estimator.fit(X_train, y_train, **fit_params)\n"
     ]
    },
    {
     "name": "stdout",
     "output_type": "stream",
     "text": [
      "[CV]  bootstrap=True, criterion=gini, max_depth=3, max_features=log2, n_estimators=100, score=0.928, total=   1.2s\n",
      "[CV] bootstrap=True, criterion=gini, max_depth=5, max_features=auto, n_estimators=10 \n"
     ]
    },
    {
     "name": "stderr",
     "output_type": "stream",
     "text": [
      "/usr/local/lib/python3.7/site-packages/sklearn/model_selection/_validation.py:514: DataConversionWarning: A column-vector y was passed when a 1d array was expected. Please change the shape of y to (n_samples,), for example using ravel().\n",
      "  estimator.fit(X_train, y_train, **fit_params)\n"
     ]
    },
    {
     "name": "stdout",
     "output_type": "stream",
     "text": [
      "[CV]  bootstrap=True, criterion=gini, max_depth=5, max_features=auto, n_estimators=10, score=0.947, total=   0.4s\n",
      "[CV] bootstrap=True, criterion=gini, max_depth=5, max_features=auto, n_estimators=10 \n"
     ]
    },
    {
     "name": "stderr",
     "output_type": "stream",
     "text": [
      "/usr/local/lib/python3.7/site-packages/sklearn/model_selection/_validation.py:514: DataConversionWarning: A column-vector y was passed when a 1d array was expected. Please change the shape of y to (n_samples,), for example using ravel().\n",
      "  estimator.fit(X_train, y_train, **fit_params)\n"
     ]
    },
    {
     "name": "stdout",
     "output_type": "stream",
     "text": [
      "[CV]  bootstrap=True, criterion=gini, max_depth=5, max_features=auto, n_estimators=10, score=0.960, total=   0.2s\n",
      "[CV] bootstrap=True, criterion=gini, max_depth=5, max_features=auto, n_estimators=10 \n",
      "[CV]  bootstrap=True, criterion=gini, max_depth=5, max_features=auto, n_estimators=10, score=0.944, total=   0.2s\n",
      "[CV] bootstrap=True, criterion=gini, max_depth=5, max_features=auto, n_estimators=10 \n"
     ]
    },
    {
     "name": "stderr",
     "output_type": "stream",
     "text": [
      "/usr/local/lib/python3.7/site-packages/sklearn/model_selection/_validation.py:514: DataConversionWarning: A column-vector y was passed when a 1d array was expected. Please change the shape of y to (n_samples,), for example using ravel().\n",
      "  estimator.fit(X_train, y_train, **fit_params)\n",
      "/usr/local/lib/python3.7/site-packages/sklearn/model_selection/_validation.py:514: DataConversionWarning: A column-vector y was passed when a 1d array was expected. Please change the shape of y to (n_samples,), for example using ravel().\n",
      "  estimator.fit(X_train, y_train, **fit_params)\n"
     ]
    },
    {
     "name": "stdout",
     "output_type": "stream",
     "text": [
      "[CV]  bootstrap=True, criterion=gini, max_depth=5, max_features=auto, n_estimators=10, score=0.953, total=   0.2s\n",
      "[CV] bootstrap=True, criterion=gini, max_depth=5, max_features=auto, n_estimators=10 \n",
      "[CV]  bootstrap=True, criterion=gini, max_depth=5, max_features=auto, n_estimators=10, score=0.939, total=   0.2s\n",
      "[CV] bootstrap=True, criterion=gini, max_depth=5, max_features=auto, n_estimators=50 \n"
     ]
    },
    {
     "name": "stderr",
     "output_type": "stream",
     "text": [
      "/usr/local/lib/python3.7/site-packages/sklearn/model_selection/_validation.py:514: DataConversionWarning: A column-vector y was passed when a 1d array was expected. Please change the shape of y to (n_samples,), for example using ravel().\n",
      "  estimator.fit(X_train, y_train, **fit_params)\n",
      "/usr/local/lib/python3.7/site-packages/sklearn/model_selection/_validation.py:514: DataConversionWarning: A column-vector y was passed when a 1d array was expected. Please change the shape of y to (n_samples,), for example using ravel().\n",
      "  estimator.fit(X_train, y_train, **fit_params)\n"
     ]
    },
    {
     "name": "stdout",
     "output_type": "stream",
     "text": [
      "[CV]  bootstrap=True, criterion=gini, max_depth=5, max_features=auto, n_estimators=50, score=0.957, total=   0.8s\n",
      "[CV] bootstrap=True, criterion=gini, max_depth=5, max_features=auto, n_estimators=50 \n"
     ]
    },
    {
     "name": "stderr",
     "output_type": "stream",
     "text": [
      "/usr/local/lib/python3.7/site-packages/sklearn/model_selection/_validation.py:514: DataConversionWarning: A column-vector y was passed when a 1d array was expected. Please change the shape of y to (n_samples,), for example using ravel().\n",
      "  estimator.fit(X_train, y_train, **fit_params)\n"
     ]
    },
    {
     "name": "stdout",
     "output_type": "stream",
     "text": [
      "[CV]  bootstrap=True, criterion=gini, max_depth=5, max_features=auto, n_estimators=50, score=0.959, total=   1.0s\n",
      "[CV] bootstrap=True, criterion=gini, max_depth=5, max_features=auto, n_estimators=50 \n"
     ]
    },
    {
     "name": "stderr",
     "output_type": "stream",
     "text": [
      "/usr/local/lib/python3.7/site-packages/sklearn/model_selection/_validation.py:514: DataConversionWarning: A column-vector y was passed when a 1d array was expected. Please change the shape of y to (n_samples,), for example using ravel().\n",
      "  estimator.fit(X_train, y_train, **fit_params)\n"
     ]
    },
    {
     "name": "stdout",
     "output_type": "stream",
     "text": [
      "[CV]  bootstrap=True, criterion=gini, max_depth=5, max_features=auto, n_estimators=50, score=0.956, total=   1.4s\n",
      "[CV] bootstrap=True, criterion=gini, max_depth=5, max_features=auto, n_estimators=50 \n"
     ]
    },
    {
     "name": "stderr",
     "output_type": "stream",
     "text": [
      "/usr/local/lib/python3.7/site-packages/sklearn/model_selection/_validation.py:514: DataConversionWarning: A column-vector y was passed when a 1d array was expected. Please change the shape of y to (n_samples,), for example using ravel().\n",
      "  estimator.fit(X_train, y_train, **fit_params)\n"
     ]
    },
    {
     "name": "stdout",
     "output_type": "stream",
     "text": [
      "[CV]  bootstrap=True, criterion=gini, max_depth=5, max_features=auto, n_estimators=50, score=0.956, total=   0.9s\n",
      "[CV] bootstrap=True, criterion=gini, max_depth=5, max_features=auto, n_estimators=50 \n"
     ]
    },
    {
     "name": "stderr",
     "output_type": "stream",
     "text": [
      "/usr/local/lib/python3.7/site-packages/sklearn/model_selection/_validation.py:514: DataConversionWarning: A column-vector y was passed when a 1d array was expected. Please change the shape of y to (n_samples,), for example using ravel().\n",
      "  estimator.fit(X_train, y_train, **fit_params)\n"
     ]
    },
    {
     "name": "stdout",
     "output_type": "stream",
     "text": [
      "[CV]  bootstrap=True, criterion=gini, max_depth=5, max_features=auto, n_estimators=50, score=0.960, total=   0.7s\n",
      "[CV] bootstrap=True, criterion=gini, max_depth=5, max_features=auto, n_estimators=100 \n"
     ]
    },
    {
     "name": "stderr",
     "output_type": "stream",
     "text": [
      "/usr/local/lib/python3.7/site-packages/sklearn/model_selection/_validation.py:514: DataConversionWarning: A column-vector y was passed when a 1d array was expected. Please change the shape of y to (n_samples,), for example using ravel().\n",
      "  estimator.fit(X_train, y_train, **fit_params)\n"
     ]
    },
    {
     "name": "stdout",
     "output_type": "stream",
     "text": [
      "[CV]  bootstrap=True, criterion=gini, max_depth=5, max_features=auto, n_estimators=100, score=0.956, total=   1.5s\n",
      "[CV] bootstrap=True, criterion=gini, max_depth=5, max_features=auto, n_estimators=100 \n"
     ]
    },
    {
     "name": "stderr",
     "output_type": "stream",
     "text": [
      "/usr/local/lib/python3.7/site-packages/sklearn/model_selection/_validation.py:514: DataConversionWarning: A column-vector y was passed when a 1d array was expected. Please change the shape of y to (n_samples,), for example using ravel().\n",
      "  estimator.fit(X_train, y_train, **fit_params)\n"
     ]
    },
    {
     "name": "stdout",
     "output_type": "stream",
     "text": [
      "[CV]  bootstrap=True, criterion=gini, max_depth=5, max_features=auto, n_estimators=100, score=0.960, total=   1.3s\n",
      "[CV] bootstrap=True, criterion=gini, max_depth=5, max_features=auto, n_estimators=100 \n"
     ]
    },
    {
     "name": "stderr",
     "output_type": "stream",
     "text": [
      "/usr/local/lib/python3.7/site-packages/sklearn/model_selection/_validation.py:514: DataConversionWarning: A column-vector y was passed when a 1d array was expected. Please change the shape of y to (n_samples,), for example using ravel().\n",
      "  estimator.fit(X_train, y_train, **fit_params)\n"
     ]
    },
    {
     "name": "stdout",
     "output_type": "stream",
     "text": [
      "[CV]  bootstrap=True, criterion=gini, max_depth=5, max_features=auto, n_estimators=100, score=0.955, total=   1.5s\n",
      "[CV] bootstrap=True, criterion=gini, max_depth=5, max_features=auto, n_estimators=100 \n"
     ]
    },
    {
     "name": "stderr",
     "output_type": "stream",
     "text": [
      "/usr/local/lib/python3.7/site-packages/sklearn/model_selection/_validation.py:514: DataConversionWarning: A column-vector y was passed when a 1d array was expected. Please change the shape of y to (n_samples,), for example using ravel().\n",
      "  estimator.fit(X_train, y_train, **fit_params)\n"
     ]
    },
    {
     "name": "stdout",
     "output_type": "stream",
     "text": [
      "[CV]  bootstrap=True, criterion=gini, max_depth=5, max_features=auto, n_estimators=100, score=0.956, total=   0.9s\n",
      "[CV] bootstrap=True, criterion=gini, max_depth=5, max_features=auto, n_estimators=100 \n"
     ]
    },
    {
     "name": "stderr",
     "output_type": "stream",
     "text": [
      "/usr/local/lib/python3.7/site-packages/sklearn/model_selection/_validation.py:514: DataConversionWarning: A column-vector y was passed when a 1d array was expected. Please change the shape of y to (n_samples,), for example using ravel().\n",
      "  estimator.fit(X_train, y_train, **fit_params)\n"
     ]
    },
    {
     "name": "stdout",
     "output_type": "stream",
     "text": [
      "[CV]  bootstrap=True, criterion=gini, max_depth=5, max_features=auto, n_estimators=100, score=0.958, total=   0.8s\n",
      "[CV] bootstrap=True, criterion=gini, max_depth=5, max_features=sqrt, n_estimators=10 \n",
      "[CV]  bootstrap=True, criterion=gini, max_depth=5, max_features=sqrt, n_estimators=10, score=0.947, total=   0.1s\n",
      "[CV] bootstrap=True, criterion=gini, max_depth=5, max_features=sqrt, n_estimators=10 \n",
      "[CV]  bootstrap=True, criterion=gini, max_depth=5, max_features=sqrt, n_estimators=10, score=0.960, total=   0.1s\n",
      "[CV] bootstrap=True, criterion=gini, max_depth=5, max_features=sqrt, n_estimators=10 \n"
     ]
    },
    {
     "name": "stderr",
     "output_type": "stream",
     "text": [
      "/usr/local/lib/python3.7/site-packages/sklearn/model_selection/_validation.py:514: DataConversionWarning: A column-vector y was passed when a 1d array was expected. Please change the shape of y to (n_samples,), for example using ravel().\n",
      "  estimator.fit(X_train, y_train, **fit_params)\n",
      "/usr/local/lib/python3.7/site-packages/sklearn/model_selection/_validation.py:514: DataConversionWarning: A column-vector y was passed when a 1d array was expected. Please change the shape of y to (n_samples,), for example using ravel().\n",
      "  estimator.fit(X_train, y_train, **fit_params)\n",
      "/usr/local/lib/python3.7/site-packages/sklearn/model_selection/_validation.py:514: DataConversionWarning: A column-vector y was passed when a 1d array was expected. Please change the shape of y to (n_samples,), for example using ravel().\n",
      "  estimator.fit(X_train, y_train, **fit_params)\n"
     ]
    },
    {
     "name": "stdout",
     "output_type": "stream",
     "text": [
      "[CV]  bootstrap=True, criterion=gini, max_depth=5, max_features=sqrt, n_estimators=10, score=0.944, total=   0.1s\n",
      "[CV] bootstrap=True, criterion=gini, max_depth=5, max_features=sqrt, n_estimators=10 \n",
      "[CV]  bootstrap=True, criterion=gini, max_depth=5, max_features=sqrt, n_estimators=10, score=0.953, total=   0.1s\n",
      "[CV] bootstrap=True, criterion=gini, max_depth=5, max_features=sqrt, n_estimators=10 \n"
     ]
    },
    {
     "name": "stderr",
     "output_type": "stream",
     "text": [
      "/usr/local/lib/python3.7/site-packages/sklearn/model_selection/_validation.py:514: DataConversionWarning: A column-vector y was passed when a 1d array was expected. Please change the shape of y to (n_samples,), for example using ravel().\n",
      "  estimator.fit(X_train, y_train, **fit_params)\n",
      "/usr/local/lib/python3.7/site-packages/sklearn/model_selection/_validation.py:514: DataConversionWarning: A column-vector y was passed when a 1d array was expected. Please change the shape of y to (n_samples,), for example using ravel().\n",
      "  estimator.fit(X_train, y_train, **fit_params)\n"
     ]
    },
    {
     "name": "stdout",
     "output_type": "stream",
     "text": [
      "[CV]  bootstrap=True, criterion=gini, max_depth=5, max_features=sqrt, n_estimators=10, score=0.939, total=   0.1s\n",
      "[CV] bootstrap=True, criterion=gini, max_depth=5, max_features=sqrt, n_estimators=50 \n"
     ]
    },
    {
     "name": "stderr",
     "output_type": "stream",
     "text": [
      "/usr/local/lib/python3.7/site-packages/sklearn/model_selection/_validation.py:514: DataConversionWarning: A column-vector y was passed when a 1d array was expected. Please change the shape of y to (n_samples,), for example using ravel().\n",
      "  estimator.fit(X_train, y_train, **fit_params)\n"
     ]
    },
    {
     "name": "stdout",
     "output_type": "stream",
     "text": [
      "[CV]  bootstrap=True, criterion=gini, max_depth=5, max_features=sqrt, n_estimators=50, score=0.957, total=   1.0s\n",
      "[CV] bootstrap=True, criterion=gini, max_depth=5, max_features=sqrt, n_estimators=50 \n"
     ]
    },
    {
     "name": "stderr",
     "output_type": "stream",
     "text": [
      "/usr/local/lib/python3.7/site-packages/sklearn/model_selection/_validation.py:514: DataConversionWarning: A column-vector y was passed when a 1d array was expected. Please change the shape of y to (n_samples,), for example using ravel().\n",
      "  estimator.fit(X_train, y_train, **fit_params)\n"
     ]
    },
    {
     "name": "stdout",
     "output_type": "stream",
     "text": [
      "[CV]  bootstrap=True, criterion=gini, max_depth=5, max_features=sqrt, n_estimators=50, score=0.959, total=   1.0s\n",
      "[CV] bootstrap=True, criterion=gini, max_depth=5, max_features=sqrt, n_estimators=50 \n"
     ]
    },
    {
     "name": "stderr",
     "output_type": "stream",
     "text": [
      "/usr/local/lib/python3.7/site-packages/sklearn/model_selection/_validation.py:514: DataConversionWarning: A column-vector y was passed when a 1d array was expected. Please change the shape of y to (n_samples,), for example using ravel().\n",
      "  estimator.fit(X_train, y_train, **fit_params)\n"
     ]
    },
    {
     "name": "stdout",
     "output_type": "stream",
     "text": [
      "[CV]  bootstrap=True, criterion=gini, max_depth=5, max_features=sqrt, n_estimators=50, score=0.956, total=   1.1s\n",
      "[CV] bootstrap=True, criterion=gini, max_depth=5, max_features=sqrt, n_estimators=50 \n"
     ]
    },
    {
     "name": "stderr",
     "output_type": "stream",
     "text": [
      "/usr/local/lib/python3.7/site-packages/sklearn/model_selection/_validation.py:514: DataConversionWarning: A column-vector y was passed when a 1d array was expected. Please change the shape of y to (n_samples,), for example using ravel().\n",
      "  estimator.fit(X_train, y_train, **fit_params)\n"
     ]
    },
    {
     "name": "stdout",
     "output_type": "stream",
     "text": [
      "[CV]  bootstrap=True, criterion=gini, max_depth=5, max_features=sqrt, n_estimators=50, score=0.956, total=   0.6s\n",
      "[CV] bootstrap=True, criterion=gini, max_depth=5, max_features=sqrt, n_estimators=50 \n"
     ]
    },
    {
     "name": "stderr",
     "output_type": "stream",
     "text": [
      "/usr/local/lib/python3.7/site-packages/sklearn/model_selection/_validation.py:514: DataConversionWarning: A column-vector y was passed when a 1d array was expected. Please change the shape of y to (n_samples,), for example using ravel().\n",
      "  estimator.fit(X_train, y_train, **fit_params)\n"
     ]
    },
    {
     "name": "stdout",
     "output_type": "stream",
     "text": [
      "[CV]  bootstrap=True, criterion=gini, max_depth=5, max_features=sqrt, n_estimators=50, score=0.960, total=   0.5s\n",
      "[CV] bootstrap=True, criterion=gini, max_depth=5, max_features=sqrt, n_estimators=100 \n"
     ]
    },
    {
     "name": "stderr",
     "output_type": "stream",
     "text": [
      "/usr/local/lib/python3.7/site-packages/sklearn/model_selection/_validation.py:514: DataConversionWarning: A column-vector y was passed when a 1d array was expected. Please change the shape of y to (n_samples,), for example using ravel().\n",
      "  estimator.fit(X_train, y_train, **fit_params)\n"
     ]
    },
    {
     "name": "stdout",
     "output_type": "stream",
     "text": [
      "[CV]  bootstrap=True, criterion=gini, max_depth=5, max_features=sqrt, n_estimators=100, score=0.956, total=   0.8s\n",
      "[CV] bootstrap=True, criterion=gini, max_depth=5, max_features=sqrt, n_estimators=100 \n"
     ]
    },
    {
     "name": "stderr",
     "output_type": "stream",
     "text": [
      "/usr/local/lib/python3.7/site-packages/sklearn/model_selection/_validation.py:514: DataConversionWarning: A column-vector y was passed when a 1d array was expected. Please change the shape of y to (n_samples,), for example using ravel().\n",
      "  estimator.fit(X_train, y_train, **fit_params)\n"
     ]
    },
    {
     "name": "stdout",
     "output_type": "stream",
     "text": [
      "[CV]  bootstrap=True, criterion=gini, max_depth=5, max_features=sqrt, n_estimators=100, score=0.960, total=   0.8s\n",
      "[CV] bootstrap=True, criterion=gini, max_depth=5, max_features=sqrt, n_estimators=100 \n"
     ]
    },
    {
     "name": "stderr",
     "output_type": "stream",
     "text": [
      "/usr/local/lib/python3.7/site-packages/sklearn/model_selection/_validation.py:514: DataConversionWarning: A column-vector y was passed when a 1d array was expected. Please change the shape of y to (n_samples,), for example using ravel().\n",
      "  estimator.fit(X_train, y_train, **fit_params)\n"
     ]
    },
    {
     "name": "stdout",
     "output_type": "stream",
     "text": [
      "[CV]  bootstrap=True, criterion=gini, max_depth=5, max_features=sqrt, n_estimators=100, score=0.955, total=   0.8s\n",
      "[CV] bootstrap=True, criterion=gini, max_depth=5, max_features=sqrt, n_estimators=100 \n"
     ]
    },
    {
     "name": "stderr",
     "output_type": "stream",
     "text": [
      "/usr/local/lib/python3.7/site-packages/sklearn/model_selection/_validation.py:514: DataConversionWarning: A column-vector y was passed when a 1d array was expected. Please change the shape of y to (n_samples,), for example using ravel().\n",
      "  estimator.fit(X_train, y_train, **fit_params)\n"
     ]
    },
    {
     "name": "stdout",
     "output_type": "stream",
     "text": [
      "[CV]  bootstrap=True, criterion=gini, max_depth=5, max_features=sqrt, n_estimators=100, score=0.956, total=   1.0s\n",
      "[CV] bootstrap=True, criterion=gini, max_depth=5, max_features=sqrt, n_estimators=100 \n"
     ]
    },
    {
     "name": "stderr",
     "output_type": "stream",
     "text": [
      "/usr/local/lib/python3.7/site-packages/sklearn/model_selection/_validation.py:514: DataConversionWarning: A column-vector y was passed when a 1d array was expected. Please change the shape of y to (n_samples,), for example using ravel().\n",
      "  estimator.fit(X_train, y_train, **fit_params)\n"
     ]
    },
    {
     "name": "stdout",
     "output_type": "stream",
     "text": [
      "[CV]  bootstrap=True, criterion=gini, max_depth=5, max_features=sqrt, n_estimators=100, score=0.958, total=   1.1s\n",
      "[CV] bootstrap=True, criterion=gini, max_depth=5, max_features=log2, n_estimators=10 \n",
      "[CV]  bootstrap=True, criterion=gini, max_depth=5, max_features=log2, n_estimators=10, score=0.920, total=   0.1s\n",
      "[CV] bootstrap=True, criterion=gini, max_depth=5, max_features=log2, n_estimators=10 \n",
      "[CV]  bootstrap=True, criterion=gini, max_depth=5, max_features=log2, n_estimators=10, score=0.937, total=   0.1s\n",
      "[CV] bootstrap=True, criterion=gini, max_depth=5, max_features=log2, n_estimators=10 \n"
     ]
    },
    {
     "name": "stderr",
     "output_type": "stream",
     "text": [
      "/usr/local/lib/python3.7/site-packages/sklearn/model_selection/_validation.py:514: DataConversionWarning: A column-vector y was passed when a 1d array was expected. Please change the shape of y to (n_samples,), for example using ravel().\n",
      "  estimator.fit(X_train, y_train, **fit_params)\n",
      "/usr/local/lib/python3.7/site-packages/sklearn/model_selection/_validation.py:514: DataConversionWarning: A column-vector y was passed when a 1d array was expected. Please change the shape of y to (n_samples,), for example using ravel().\n",
      "  estimator.fit(X_train, y_train, **fit_params)\n",
      "/usr/local/lib/python3.7/site-packages/sklearn/model_selection/_validation.py:514: DataConversionWarning: A column-vector y was passed when a 1d array was expected. Please change the shape of y to (n_samples,), for example using ravel().\n",
      "  estimator.fit(X_train, y_train, **fit_params)\n",
      "/usr/local/lib/python3.7/site-packages/sklearn/model_selection/_validation.py:514: DataConversionWarning: A column-vector y was passed when a 1d array was expected. Please change the shape of y to (n_samples,), for example using ravel().\n",
      "  estimator.fit(X_train, y_train, **fit_params)\n",
      "/usr/local/lib/python3.7/site-packages/sklearn/model_selection/_validation.py:514: DataConversionWarning: A column-vector y was passed when a 1d array was expected. Please change the shape of y to (n_samples,), for example using ravel().\n",
      "  estimator.fit(X_train, y_train, **fit_params)\n"
     ]
    },
    {
     "name": "stdout",
     "output_type": "stream",
     "text": [
      "[CV]  bootstrap=True, criterion=gini, max_depth=5, max_features=log2, n_estimators=10, score=0.948, total=   0.1s\n",
      "[CV] bootstrap=True, criterion=gini, max_depth=5, max_features=log2, n_estimators=10 \n",
      "[CV]  bootstrap=True, criterion=gini, max_depth=5, max_features=log2, n_estimators=10, score=0.940, total=   0.1s\n",
      "[CV] bootstrap=True, criterion=gini, max_depth=5, max_features=log2, n_estimators=10 \n",
      "[CV]  bootstrap=True, criterion=gini, max_depth=5, max_features=log2, n_estimators=10, score=0.931, total=   0.1s\n",
      "[CV] bootstrap=True, criterion=gini, max_depth=5, max_features=log2, n_estimators=50 \n"
     ]
    },
    {
     "name": "stderr",
     "output_type": "stream",
     "text": [
      "/usr/local/lib/python3.7/site-packages/sklearn/model_selection/_validation.py:514: DataConversionWarning: A column-vector y was passed when a 1d array was expected. Please change the shape of y to (n_samples,), for example using ravel().\n",
      "  estimator.fit(X_train, y_train, **fit_params)\n"
     ]
    },
    {
     "name": "stdout",
     "output_type": "stream",
     "text": [
      "[CV]  bootstrap=True, criterion=gini, max_depth=5, max_features=log2, n_estimators=50, score=0.958, total=   0.3s\n",
      "[CV] bootstrap=True, criterion=gini, max_depth=5, max_features=log2, n_estimators=50 \n"
     ]
    },
    {
     "name": "stderr",
     "output_type": "stream",
     "text": [
      "/usr/local/lib/python3.7/site-packages/sklearn/model_selection/_validation.py:514: DataConversionWarning: A column-vector y was passed when a 1d array was expected. Please change the shape of y to (n_samples,), for example using ravel().\n",
      "  estimator.fit(X_train, y_train, **fit_params)\n"
     ]
    },
    {
     "name": "stdout",
     "output_type": "stream",
     "text": [
      "[CV]  bootstrap=True, criterion=gini, max_depth=5, max_features=log2, n_estimators=50, score=0.961, total=   0.3s\n",
      "[CV] bootstrap=True, criterion=gini, max_depth=5, max_features=log2, n_estimators=50 \n"
     ]
    },
    {
     "name": "stderr",
     "output_type": "stream",
     "text": [
      "/usr/local/lib/python3.7/site-packages/sklearn/model_selection/_validation.py:514: DataConversionWarning: A column-vector y was passed when a 1d array was expected. Please change the shape of y to (n_samples,), for example using ravel().\n",
      "  estimator.fit(X_train, y_train, **fit_params)\n"
     ]
    },
    {
     "name": "stdout",
     "output_type": "stream",
     "text": [
      "[CV]  bootstrap=True, criterion=gini, max_depth=5, max_features=log2, n_estimators=50, score=0.954, total=   0.3s\n",
      "[CV] bootstrap=True, criterion=gini, max_depth=5, max_features=log2, n_estimators=50 \n"
     ]
    },
    {
     "name": "stderr",
     "output_type": "stream",
     "text": [
      "/usr/local/lib/python3.7/site-packages/sklearn/model_selection/_validation.py:514: DataConversionWarning: A column-vector y was passed when a 1d array was expected. Please change the shape of y to (n_samples,), for example using ravel().\n",
      "  estimator.fit(X_train, y_train, **fit_params)\n"
     ]
    },
    {
     "name": "stdout",
     "output_type": "stream",
     "text": [
      "[CV]  bootstrap=True, criterion=gini, max_depth=5, max_features=log2, n_estimators=50, score=0.954, total=   0.4s\n",
      "[CV] bootstrap=True, criterion=gini, max_depth=5, max_features=log2, n_estimators=50 \n"
     ]
    },
    {
     "name": "stderr",
     "output_type": "stream",
     "text": [
      "/usr/local/lib/python3.7/site-packages/sklearn/model_selection/_validation.py:514: DataConversionWarning: A column-vector y was passed when a 1d array was expected. Please change the shape of y to (n_samples,), for example using ravel().\n",
      "  estimator.fit(X_train, y_train, **fit_params)\n"
     ]
    },
    {
     "name": "stdout",
     "output_type": "stream",
     "text": [
      "[CV]  bootstrap=True, criterion=gini, max_depth=5, max_features=log2, n_estimators=50, score=0.960, total=   0.4s\n",
      "[CV] bootstrap=True, criterion=gini, max_depth=5, max_features=log2, n_estimators=100 \n"
     ]
    },
    {
     "name": "stderr",
     "output_type": "stream",
     "text": [
      "/usr/local/lib/python3.7/site-packages/sklearn/model_selection/_validation.py:514: DataConversionWarning: A column-vector y was passed when a 1d array was expected. Please change the shape of y to (n_samples,), for example using ravel().\n",
      "  estimator.fit(X_train, y_train, **fit_params)\n"
     ]
    },
    {
     "name": "stdout",
     "output_type": "stream",
     "text": [
      "[CV]  bootstrap=True, criterion=gini, max_depth=5, max_features=log2, n_estimators=100, score=0.950, total=   0.8s\n",
      "[CV] bootstrap=True, criterion=gini, max_depth=5, max_features=log2, n_estimators=100 \n"
     ]
    },
    {
     "name": "stderr",
     "output_type": "stream",
     "text": [
      "/usr/local/lib/python3.7/site-packages/sklearn/model_selection/_validation.py:514: DataConversionWarning: A column-vector y was passed when a 1d array was expected. Please change the shape of y to (n_samples,), for example using ravel().\n",
      "  estimator.fit(X_train, y_train, **fit_params)\n"
     ]
    },
    {
     "name": "stdout",
     "output_type": "stream",
     "text": [
      "[CV]  bootstrap=True, criterion=gini, max_depth=5, max_features=log2, n_estimators=100, score=0.958, total=   0.9s\n",
      "[CV] bootstrap=True, criterion=gini, max_depth=5, max_features=log2, n_estimators=100 \n"
     ]
    },
    {
     "name": "stderr",
     "output_type": "stream",
     "text": [
      "/usr/local/lib/python3.7/site-packages/sklearn/model_selection/_validation.py:514: DataConversionWarning: A column-vector y was passed when a 1d array was expected. Please change the shape of y to (n_samples,), for example using ravel().\n",
      "  estimator.fit(X_train, y_train, **fit_params)\n"
     ]
    },
    {
     "name": "stdout",
     "output_type": "stream",
     "text": [
      "[CV]  bootstrap=True, criterion=gini, max_depth=5, max_features=log2, n_estimators=100, score=0.954, total=   0.9s\n",
      "[CV] bootstrap=True, criterion=gini, max_depth=5, max_features=log2, n_estimators=100 \n"
     ]
    },
    {
     "name": "stderr",
     "output_type": "stream",
     "text": [
      "/usr/local/lib/python3.7/site-packages/sklearn/model_selection/_validation.py:514: DataConversionWarning: A column-vector y was passed when a 1d array was expected. Please change the shape of y to (n_samples,), for example using ravel().\n",
      "  estimator.fit(X_train, y_train, **fit_params)\n"
     ]
    },
    {
     "name": "stdout",
     "output_type": "stream",
     "text": [
      "[CV]  bootstrap=True, criterion=gini, max_depth=5, max_features=log2, n_estimators=100, score=0.945, total=   1.8s\n",
      "[CV] bootstrap=True, criterion=gini, max_depth=5, max_features=log2, n_estimators=100 \n"
     ]
    },
    {
     "name": "stderr",
     "output_type": "stream",
     "text": [
      "/usr/local/lib/python3.7/site-packages/sklearn/model_selection/_validation.py:514: DataConversionWarning: A column-vector y was passed when a 1d array was expected. Please change the shape of y to (n_samples,), for example using ravel().\n",
      "  estimator.fit(X_train, y_train, **fit_params)\n"
     ]
    },
    {
     "name": "stdout",
     "output_type": "stream",
     "text": [
      "[CV]  bootstrap=True, criterion=gini, max_depth=5, max_features=log2, n_estimators=100, score=0.953, total=   1.0s\n",
      "[CV] bootstrap=True, criterion=gini, max_depth=7, max_features=auto, n_estimators=10 \n",
      "[CV]  bootstrap=True, criterion=gini, max_depth=7, max_features=auto, n_estimators=10, score=0.958, total=   0.1s\n",
      "[CV] bootstrap=True, criterion=gini, max_depth=7, max_features=auto, n_estimators=10 \n"
     ]
    },
    {
     "name": "stderr",
     "output_type": "stream",
     "text": [
      "/usr/local/lib/python3.7/site-packages/sklearn/model_selection/_validation.py:514: DataConversionWarning: A column-vector y was passed when a 1d array was expected. Please change the shape of y to (n_samples,), for example using ravel().\n",
      "  estimator.fit(X_train, y_train, **fit_params)\n",
      "/usr/local/lib/python3.7/site-packages/sklearn/model_selection/_validation.py:514: DataConversionWarning: A column-vector y was passed when a 1d array was expected. Please change the shape of y to (n_samples,), for example using ravel().\n",
      "  estimator.fit(X_train, y_train, **fit_params)\n"
     ]
    },
    {
     "name": "stdout",
     "output_type": "stream",
     "text": [
      "[CV]  bootstrap=True, criterion=gini, max_depth=7, max_features=auto, n_estimators=10, score=0.959, total=   0.2s\n",
      "[CV] bootstrap=True, criterion=gini, max_depth=7, max_features=auto, n_estimators=10 \n"
     ]
    },
    {
     "name": "stderr",
     "output_type": "stream",
     "text": [
      "/usr/local/lib/python3.7/site-packages/sklearn/model_selection/_validation.py:514: DataConversionWarning: A column-vector y was passed when a 1d array was expected. Please change the shape of y to (n_samples,), for example using ravel().\n",
      "  estimator.fit(X_train, y_train, **fit_params)\n"
     ]
    },
    {
     "name": "stdout",
     "output_type": "stream",
     "text": [
      "[CV]  bootstrap=True, criterion=gini, max_depth=7, max_features=auto, n_estimators=10, score=0.957, total=   0.2s\n",
      "[CV] bootstrap=True, criterion=gini, max_depth=7, max_features=auto, n_estimators=10 \n",
      "[CV]  bootstrap=True, criterion=gini, max_depth=7, max_features=auto, n_estimators=10, score=0.957, total=   0.1s\n",
      "[CV] bootstrap=True, criterion=gini, max_depth=7, max_features=auto, n_estimators=10 \n"
     ]
    },
    {
     "name": "stderr",
     "output_type": "stream",
     "text": [
      "/usr/local/lib/python3.7/site-packages/sklearn/model_selection/_validation.py:514: DataConversionWarning: A column-vector y was passed when a 1d array was expected. Please change the shape of y to (n_samples,), for example using ravel().\n",
      "  estimator.fit(X_train, y_train, **fit_params)\n",
      "/usr/local/lib/python3.7/site-packages/sklearn/model_selection/_validation.py:514: DataConversionWarning: A column-vector y was passed when a 1d array was expected. Please change the shape of y to (n_samples,), for example using ravel().\n",
      "  estimator.fit(X_train, y_train, **fit_params)\n"
     ]
    },
    {
     "name": "stdout",
     "output_type": "stream",
     "text": [
      "[CV]  bootstrap=True, criterion=gini, max_depth=7, max_features=auto, n_estimators=10, score=0.956, total=   0.1s\n",
      "[CV] bootstrap=True, criterion=gini, max_depth=7, max_features=auto, n_estimators=50 \n"
     ]
    },
    {
     "name": "stderr",
     "output_type": "stream",
     "text": [
      "/usr/local/lib/python3.7/site-packages/sklearn/model_selection/_validation.py:514: DataConversionWarning: A column-vector y was passed when a 1d array was expected. Please change the shape of y to (n_samples,), for example using ravel().\n",
      "  estimator.fit(X_train, y_train, **fit_params)\n"
     ]
    },
    {
     "name": "stdout",
     "output_type": "stream",
     "text": [
      "[CV]  bootstrap=True, criterion=gini, max_depth=7, max_features=auto, n_estimators=50, score=0.957, total=   0.5s\n",
      "[CV] bootstrap=True, criterion=gini, max_depth=7, max_features=auto, n_estimators=50 \n"
     ]
    },
    {
     "name": "stderr",
     "output_type": "stream",
     "text": [
      "/usr/local/lib/python3.7/site-packages/sklearn/model_selection/_validation.py:514: DataConversionWarning: A column-vector y was passed when a 1d array was expected. Please change the shape of y to (n_samples,), for example using ravel().\n",
      "  estimator.fit(X_train, y_train, **fit_params)\n"
     ]
    },
    {
     "name": "stdout",
     "output_type": "stream",
     "text": [
      "[CV]  bootstrap=True, criterion=gini, max_depth=7, max_features=auto, n_estimators=50, score=0.959, total=   0.4s\n",
      "[CV] bootstrap=True, criterion=gini, max_depth=7, max_features=auto, n_estimators=50 \n"
     ]
    },
    {
     "name": "stderr",
     "output_type": "stream",
     "text": [
      "/usr/local/lib/python3.7/site-packages/sklearn/model_selection/_validation.py:514: DataConversionWarning: A column-vector y was passed when a 1d array was expected. Please change the shape of y to (n_samples,), for example using ravel().\n",
      "  estimator.fit(X_train, y_train, **fit_params)\n"
     ]
    },
    {
     "name": "stdout",
     "output_type": "stream",
     "text": [
      "[CV]  bootstrap=True, criterion=gini, max_depth=7, max_features=auto, n_estimators=50, score=0.956, total=   0.4s\n",
      "[CV] bootstrap=True, criterion=gini, max_depth=7, max_features=auto, n_estimators=50 \n"
     ]
    },
    {
     "name": "stderr",
     "output_type": "stream",
     "text": [
      "/usr/local/lib/python3.7/site-packages/sklearn/model_selection/_validation.py:514: DataConversionWarning: A column-vector y was passed when a 1d array was expected. Please change the shape of y to (n_samples,), for example using ravel().\n",
      "  estimator.fit(X_train, y_train, **fit_params)\n"
     ]
    },
    {
     "name": "stdout",
     "output_type": "stream",
     "text": [
      "[CV]  bootstrap=True, criterion=gini, max_depth=7, max_features=auto, n_estimators=50, score=0.957, total=   0.4s\n",
      "[CV] bootstrap=True, criterion=gini, max_depth=7, max_features=auto, n_estimators=50 \n"
     ]
    },
    {
     "name": "stderr",
     "output_type": "stream",
     "text": [
      "/usr/local/lib/python3.7/site-packages/sklearn/model_selection/_validation.py:514: DataConversionWarning: A column-vector y was passed when a 1d array was expected. Please change the shape of y to (n_samples,), for example using ravel().\n",
      "  estimator.fit(X_train, y_train, **fit_params)\n"
     ]
    },
    {
     "name": "stdout",
     "output_type": "stream",
     "text": [
      "[CV]  bootstrap=True, criterion=gini, max_depth=7, max_features=auto, n_estimators=50, score=0.961, total=   0.4s\n",
      "[CV] bootstrap=True, criterion=gini, max_depth=7, max_features=auto, n_estimators=100 \n"
     ]
    },
    {
     "name": "stderr",
     "output_type": "stream",
     "text": [
      "/usr/local/lib/python3.7/site-packages/sklearn/model_selection/_validation.py:514: DataConversionWarning: A column-vector y was passed when a 1d array was expected. Please change the shape of y to (n_samples,), for example using ravel().\n",
      "  estimator.fit(X_train, y_train, **fit_params)\n"
     ]
    },
    {
     "name": "stdout",
     "output_type": "stream",
     "text": [
      "[CV]  bootstrap=True, criterion=gini, max_depth=7, max_features=auto, n_estimators=100, score=0.958, total=   0.9s\n",
      "[CV] bootstrap=True, criterion=gini, max_depth=7, max_features=auto, n_estimators=100 \n"
     ]
    },
    {
     "name": "stderr",
     "output_type": "stream",
     "text": [
      "/usr/local/lib/python3.7/site-packages/sklearn/model_selection/_validation.py:514: DataConversionWarning: A column-vector y was passed when a 1d array was expected. Please change the shape of y to (n_samples,), for example using ravel().\n",
      "  estimator.fit(X_train, y_train, **fit_params)\n"
     ]
    },
    {
     "name": "stdout",
     "output_type": "stream",
     "text": [
      "[CV]  bootstrap=True, criterion=gini, max_depth=7, max_features=auto, n_estimators=100, score=0.960, total=   0.9s\n",
      "[CV] bootstrap=True, criterion=gini, max_depth=7, max_features=auto, n_estimators=100 \n"
     ]
    },
    {
     "name": "stderr",
     "output_type": "stream",
     "text": [
      "/usr/local/lib/python3.7/site-packages/sklearn/model_selection/_validation.py:514: DataConversionWarning: A column-vector y was passed when a 1d array was expected. Please change the shape of y to (n_samples,), for example using ravel().\n",
      "  estimator.fit(X_train, y_train, **fit_params)\n"
     ]
    },
    {
     "name": "stdout",
     "output_type": "stream",
     "text": [
      "[CV]  bootstrap=True, criterion=gini, max_depth=7, max_features=auto, n_estimators=100, score=0.956, total=   0.9s\n",
      "[CV] bootstrap=True, criterion=gini, max_depth=7, max_features=auto, n_estimators=100 \n"
     ]
    },
    {
     "name": "stderr",
     "output_type": "stream",
     "text": [
      "/usr/local/lib/python3.7/site-packages/sklearn/model_selection/_validation.py:514: DataConversionWarning: A column-vector y was passed when a 1d array was expected. Please change the shape of y to (n_samples,), for example using ravel().\n",
      "  estimator.fit(X_train, y_train, **fit_params)\n"
     ]
    },
    {
     "name": "stdout",
     "output_type": "stream",
     "text": [
      "[CV]  bootstrap=True, criterion=gini, max_depth=7, max_features=auto, n_estimators=100, score=0.956, total=   0.9s\n",
      "[CV] bootstrap=True, criterion=gini, max_depth=7, max_features=auto, n_estimators=100 \n"
     ]
    },
    {
     "name": "stderr",
     "output_type": "stream",
     "text": [
      "/usr/local/lib/python3.7/site-packages/sklearn/model_selection/_validation.py:514: DataConversionWarning: A column-vector y was passed when a 1d array was expected. Please change the shape of y to (n_samples,), for example using ravel().\n",
      "  estimator.fit(X_train, y_train, **fit_params)\n"
     ]
    },
    {
     "name": "stdout",
     "output_type": "stream",
     "text": [
      "[CV]  bootstrap=True, criterion=gini, max_depth=7, max_features=auto, n_estimators=100, score=0.960, total=   0.9s\n",
      "[CV] bootstrap=True, criterion=gini, max_depth=7, max_features=sqrt, n_estimators=10 \n",
      "[CV]  bootstrap=True, criterion=gini, max_depth=7, max_features=sqrt, n_estimators=10, score=0.958, total=   0.1s\n",
      "[CV] bootstrap=True, criterion=gini, max_depth=7, max_features=sqrt, n_estimators=10 \n",
      "[CV]  bootstrap=True, criterion=gini, max_depth=7, max_features=sqrt, n_estimators=10, score=0.959, total=   0.1s\n",
      "[CV] bootstrap=True, criterion=gini, max_depth=7, max_features=sqrt, n_estimators=10 \n"
     ]
    },
    {
     "name": "stderr",
     "output_type": "stream",
     "text": [
      "/usr/local/lib/python3.7/site-packages/sklearn/model_selection/_validation.py:514: DataConversionWarning: A column-vector y was passed when a 1d array was expected. Please change the shape of y to (n_samples,), for example using ravel().\n",
      "  estimator.fit(X_train, y_train, **fit_params)\n",
      "/usr/local/lib/python3.7/site-packages/sklearn/model_selection/_validation.py:514: DataConversionWarning: A column-vector y was passed when a 1d array was expected. Please change the shape of y to (n_samples,), for example using ravel().\n",
      "  estimator.fit(X_train, y_train, **fit_params)\n",
      "/usr/local/lib/python3.7/site-packages/sklearn/model_selection/_validation.py:514: DataConversionWarning: A column-vector y was passed when a 1d array was expected. Please change the shape of y to (n_samples,), for example using ravel().\n",
      "  estimator.fit(X_train, y_train, **fit_params)\n",
      "/usr/local/lib/python3.7/site-packages/sklearn/model_selection/_validation.py:514: DataConversionWarning: A column-vector y was passed when a 1d array was expected. Please change the shape of y to (n_samples,), for example using ravel().\n",
      "  estimator.fit(X_train, y_train, **fit_params)\n",
      "/usr/local/lib/python3.7/site-packages/sklearn/model_selection/_validation.py:514: DataConversionWarning: A column-vector y was passed when a 1d array was expected. Please change the shape of y to (n_samples,), for example using ravel().\n",
      "  estimator.fit(X_train, y_train, **fit_params)\n"
     ]
    },
    {
     "name": "stdout",
     "output_type": "stream",
     "text": [
      "[CV]  bootstrap=True, criterion=gini, max_depth=7, max_features=sqrt, n_estimators=10, score=0.957, total=   0.1s\n",
      "[CV] bootstrap=True, criterion=gini, max_depth=7, max_features=sqrt, n_estimators=10 \n",
      "[CV]  bootstrap=True, criterion=gini, max_depth=7, max_features=sqrt, n_estimators=10, score=0.957, total=   0.1s\n",
      "[CV] bootstrap=True, criterion=gini, max_depth=7, max_features=sqrt, n_estimators=10 \n"
     ]
    },
    {
     "name": "stderr",
     "output_type": "stream",
     "text": [
      "/usr/local/lib/python3.7/site-packages/sklearn/model_selection/_validation.py:514: DataConversionWarning: A column-vector y was passed when a 1d array was expected. Please change the shape of y to (n_samples,), for example using ravel().\n",
      "  estimator.fit(X_train, y_train, **fit_params)\n"
     ]
    },
    {
     "name": "stdout",
     "output_type": "stream",
     "text": [
      "[CV]  bootstrap=True, criterion=gini, max_depth=7, max_features=sqrt, n_estimators=10, score=0.956, total=   0.1s\n",
      "[CV] bootstrap=True, criterion=gini, max_depth=7, max_features=sqrt, n_estimators=50 \n",
      "[CV]  bootstrap=True, criterion=gini, max_depth=7, max_features=sqrt, n_estimators=50, score=0.957, total=   0.5s\n",
      "[CV] bootstrap=True, criterion=gini, max_depth=7, max_features=sqrt, n_estimators=50 \n"
     ]
    },
    {
     "name": "stderr",
     "output_type": "stream",
     "text": [
      "/usr/local/lib/python3.7/site-packages/sklearn/model_selection/_validation.py:514: DataConversionWarning: A column-vector y was passed when a 1d array was expected. Please change the shape of y to (n_samples,), for example using ravel().\n",
      "  estimator.fit(X_train, y_train, **fit_params)\n"
     ]
    },
    {
     "name": "stdout",
     "output_type": "stream",
     "text": [
      "[CV]  bootstrap=True, criterion=gini, max_depth=7, max_features=sqrt, n_estimators=50, score=0.959, total=   0.5s\n",
      "[CV] bootstrap=True, criterion=gini, max_depth=7, max_features=sqrt, n_estimators=50 \n"
     ]
    },
    {
     "name": "stderr",
     "output_type": "stream",
     "text": [
      "/usr/local/lib/python3.7/site-packages/sklearn/model_selection/_validation.py:514: DataConversionWarning: A column-vector y was passed when a 1d array was expected. Please change the shape of y to (n_samples,), for example using ravel().\n",
      "  estimator.fit(X_train, y_train, **fit_params)\n"
     ]
    },
    {
     "name": "stdout",
     "output_type": "stream",
     "text": [
      "[CV]  bootstrap=True, criterion=gini, max_depth=7, max_features=sqrt, n_estimators=50, score=0.956, total=   0.4s\n",
      "[CV] bootstrap=True, criterion=gini, max_depth=7, max_features=sqrt, n_estimators=50 \n"
     ]
    },
    {
     "name": "stderr",
     "output_type": "stream",
     "text": [
      "/usr/local/lib/python3.7/site-packages/sklearn/model_selection/_validation.py:514: DataConversionWarning: A column-vector y was passed when a 1d array was expected. Please change the shape of y to (n_samples,), for example using ravel().\n",
      "  estimator.fit(X_train, y_train, **fit_params)\n"
     ]
    },
    {
     "name": "stdout",
     "output_type": "stream",
     "text": [
      "[CV]  bootstrap=True, criterion=gini, max_depth=7, max_features=sqrt, n_estimators=50, score=0.957, total=   0.7s\n",
      "[CV] bootstrap=True, criterion=gini, max_depth=7, max_features=sqrt, n_estimators=50 \n"
     ]
    },
    {
     "name": "stderr",
     "output_type": "stream",
     "text": [
      "/usr/local/lib/python3.7/site-packages/sklearn/model_selection/_validation.py:514: DataConversionWarning: A column-vector y was passed when a 1d array was expected. Please change the shape of y to (n_samples,), for example using ravel().\n",
      "  estimator.fit(X_train, y_train, **fit_params)\n"
     ]
    },
    {
     "name": "stdout",
     "output_type": "stream",
     "text": [
      "[CV]  bootstrap=True, criterion=gini, max_depth=7, max_features=sqrt, n_estimators=50, score=0.961, total=   0.4s\n",
      "[CV] bootstrap=True, criterion=gini, max_depth=7, max_features=sqrt, n_estimators=100 \n"
     ]
    },
    {
     "name": "stderr",
     "output_type": "stream",
     "text": [
      "/usr/local/lib/python3.7/site-packages/sklearn/model_selection/_validation.py:514: DataConversionWarning: A column-vector y was passed when a 1d array was expected. Please change the shape of y to (n_samples,), for example using ravel().\n",
      "  estimator.fit(X_train, y_train, **fit_params)\n"
     ]
    },
    {
     "name": "stdout",
     "output_type": "stream",
     "text": [
      "[CV]  bootstrap=True, criterion=gini, max_depth=7, max_features=sqrt, n_estimators=100, score=0.958, total=   0.8s\n",
      "[CV] bootstrap=True, criterion=gini, max_depth=7, max_features=sqrt, n_estimators=100 \n"
     ]
    },
    {
     "name": "stderr",
     "output_type": "stream",
     "text": [
      "/usr/local/lib/python3.7/site-packages/sklearn/model_selection/_validation.py:514: DataConversionWarning: A column-vector y was passed when a 1d array was expected. Please change the shape of y to (n_samples,), for example using ravel().\n",
      "  estimator.fit(X_train, y_train, **fit_params)\n"
     ]
    },
    {
     "name": "stdout",
     "output_type": "stream",
     "text": [
      "[CV]  bootstrap=True, criterion=gini, max_depth=7, max_features=sqrt, n_estimators=100, score=0.960, total=   0.9s\n",
      "[CV] bootstrap=True, criterion=gini, max_depth=7, max_features=sqrt, n_estimators=100 \n"
     ]
    },
    {
     "name": "stderr",
     "output_type": "stream",
     "text": [
      "/usr/local/lib/python3.7/site-packages/sklearn/model_selection/_validation.py:514: DataConversionWarning: A column-vector y was passed when a 1d array was expected. Please change the shape of y to (n_samples,), for example using ravel().\n",
      "  estimator.fit(X_train, y_train, **fit_params)\n"
     ]
    },
    {
     "name": "stdout",
     "output_type": "stream",
     "text": [
      "[CV]  bootstrap=True, criterion=gini, max_depth=7, max_features=sqrt, n_estimators=100, score=0.956, total=   1.0s\n",
      "[CV] bootstrap=True, criterion=gini, max_depth=7, max_features=sqrt, n_estimators=100 \n"
     ]
    },
    {
     "name": "stderr",
     "output_type": "stream",
     "text": [
      "/usr/local/lib/python3.7/site-packages/sklearn/model_selection/_validation.py:514: DataConversionWarning: A column-vector y was passed when a 1d array was expected. Please change the shape of y to (n_samples,), for example using ravel().\n",
      "  estimator.fit(X_train, y_train, **fit_params)\n"
     ]
    },
    {
     "name": "stdout",
     "output_type": "stream",
     "text": [
      "[CV]  bootstrap=True, criterion=gini, max_depth=7, max_features=sqrt, n_estimators=100, score=0.956, total=   0.9s\n",
      "[CV] bootstrap=True, criterion=gini, max_depth=7, max_features=sqrt, n_estimators=100 \n"
     ]
    },
    {
     "name": "stderr",
     "output_type": "stream",
     "text": [
      "/usr/local/lib/python3.7/site-packages/sklearn/model_selection/_validation.py:514: DataConversionWarning: A column-vector y was passed when a 1d array was expected. Please change the shape of y to (n_samples,), for example using ravel().\n",
      "  estimator.fit(X_train, y_train, **fit_params)\n"
     ]
    },
    {
     "name": "stdout",
     "output_type": "stream",
     "text": [
      "[CV]  bootstrap=True, criterion=gini, max_depth=7, max_features=sqrt, n_estimators=100, score=0.960, total=   0.9s\n",
      "[CV] bootstrap=True, criterion=gini, max_depth=7, max_features=log2, n_estimators=10 \n",
      "[CV]  bootstrap=True, criterion=gini, max_depth=7, max_features=log2, n_estimators=10, score=0.951, total=   0.1s\n",
      "[CV] bootstrap=True, criterion=gini, max_depth=7, max_features=log2, n_estimators=10 \n"
     ]
    },
    {
     "name": "stderr",
     "output_type": "stream",
     "text": [
      "/usr/local/lib/python3.7/site-packages/sklearn/model_selection/_validation.py:514: DataConversionWarning: A column-vector y was passed when a 1d array was expected. Please change the shape of y to (n_samples,), for example using ravel().\n",
      "  estimator.fit(X_train, y_train, **fit_params)\n",
      "/usr/local/lib/python3.7/site-packages/sklearn/model_selection/_validation.py:514: DataConversionWarning: A column-vector y was passed when a 1d array was expected. Please change the shape of y to (n_samples,), for example using ravel().\n",
      "  estimator.fit(X_train, y_train, **fit_params)\n"
     ]
    },
    {
     "name": "stdout",
     "output_type": "stream",
     "text": [
      "[CV]  bootstrap=True, criterion=gini, max_depth=7, max_features=log2, n_estimators=10, score=0.948, total=   0.1s\n",
      "[CV] bootstrap=True, criterion=gini, max_depth=7, max_features=log2, n_estimators=10 \n",
      "[CV]  bootstrap=True, criterion=gini, max_depth=7, max_features=log2, n_estimators=10, score=0.946, total=   0.1s\n",
      "[CV] bootstrap=True, criterion=gini, max_depth=7, max_features=log2, n_estimators=10 \n",
      "[CV]  bootstrap=True, criterion=gini, max_depth=7, max_features=log2, n_estimators=10, score=0.944, total=   0.1s\n",
      "[CV] bootstrap=True, criterion=gini, max_depth=7, max_features=log2, n_estimators=10 \n"
     ]
    },
    {
     "name": "stderr",
     "output_type": "stream",
     "text": [
      "/usr/local/lib/python3.7/site-packages/sklearn/model_selection/_validation.py:514: DataConversionWarning: A column-vector y was passed when a 1d array was expected. Please change the shape of y to (n_samples,), for example using ravel().\n",
      "  estimator.fit(X_train, y_train, **fit_params)\n",
      "/usr/local/lib/python3.7/site-packages/sklearn/model_selection/_validation.py:514: DataConversionWarning: A column-vector y was passed when a 1d array was expected. Please change the shape of y to (n_samples,), for example using ravel().\n",
      "  estimator.fit(X_train, y_train, **fit_params)\n",
      "/usr/local/lib/python3.7/site-packages/sklearn/model_selection/_validation.py:514: DataConversionWarning: A column-vector y was passed when a 1d array was expected. Please change the shape of y to (n_samples,), for example using ravel().\n",
      "  estimator.fit(X_train, y_train, **fit_params)\n"
     ]
    },
    {
     "name": "stdout",
     "output_type": "stream",
     "text": [
      "[CV]  bootstrap=True, criterion=gini, max_depth=7, max_features=log2, n_estimators=10, score=0.960, total=   0.1s\n",
      "[CV] bootstrap=True, criterion=gini, max_depth=7, max_features=log2, n_estimators=50 \n"
     ]
    },
    {
     "name": "stderr",
     "output_type": "stream",
     "text": [
      "/usr/local/lib/python3.7/site-packages/sklearn/model_selection/_validation.py:514: DataConversionWarning: A column-vector y was passed when a 1d array was expected. Please change the shape of y to (n_samples,), for example using ravel().\n",
      "  estimator.fit(X_train, y_train, **fit_params)\n"
     ]
    },
    {
     "name": "stdout",
     "output_type": "stream",
     "text": [
      "[CV]  bootstrap=True, criterion=gini, max_depth=7, max_features=log2, n_estimators=50, score=0.958, total=   0.4s\n",
      "[CV] bootstrap=True, criterion=gini, max_depth=7, max_features=log2, n_estimators=50 \n"
     ]
    },
    {
     "name": "stderr",
     "output_type": "stream",
     "text": [
      "/usr/local/lib/python3.7/site-packages/sklearn/model_selection/_validation.py:514: DataConversionWarning: A column-vector y was passed when a 1d array was expected. Please change the shape of y to (n_samples,), for example using ravel().\n",
      "  estimator.fit(X_train, y_train, **fit_params)\n"
     ]
    },
    {
     "name": "stdout",
     "output_type": "stream",
     "text": [
      "[CV]  bootstrap=True, criterion=gini, max_depth=7, max_features=log2, n_estimators=50, score=0.958, total=   0.4s\n",
      "[CV] bootstrap=True, criterion=gini, max_depth=7, max_features=log2, n_estimators=50 \n"
     ]
    },
    {
     "name": "stderr",
     "output_type": "stream",
     "text": [
      "/usr/local/lib/python3.7/site-packages/sklearn/model_selection/_validation.py:514: DataConversionWarning: A column-vector y was passed when a 1d array was expected. Please change the shape of y to (n_samples,), for example using ravel().\n",
      "  estimator.fit(X_train, y_train, **fit_params)\n"
     ]
    },
    {
     "name": "stdout",
     "output_type": "stream",
     "text": [
      "[CV]  bootstrap=True, criterion=gini, max_depth=7, max_features=log2, n_estimators=50, score=0.957, total=   0.4s\n",
      "[CV] bootstrap=True, criterion=gini, max_depth=7, max_features=log2, n_estimators=50 \n"
     ]
    },
    {
     "name": "stderr",
     "output_type": "stream",
     "text": [
      "/usr/local/lib/python3.7/site-packages/sklearn/model_selection/_validation.py:514: DataConversionWarning: A column-vector y was passed when a 1d array was expected. Please change the shape of y to (n_samples,), for example using ravel().\n",
      "  estimator.fit(X_train, y_train, **fit_params)\n"
     ]
    },
    {
     "name": "stdout",
     "output_type": "stream",
     "text": [
      "[CV]  bootstrap=True, criterion=gini, max_depth=7, max_features=log2, n_estimators=50, score=0.954, total=   0.4s\n",
      "[CV] bootstrap=True, criterion=gini, max_depth=7, max_features=log2, n_estimators=50 \n"
     ]
    },
    {
     "name": "stderr",
     "output_type": "stream",
     "text": [
      "/usr/local/lib/python3.7/site-packages/sklearn/model_selection/_validation.py:514: DataConversionWarning: A column-vector y was passed when a 1d array was expected. Please change the shape of y to (n_samples,), for example using ravel().\n",
      "  estimator.fit(X_train, y_train, **fit_params)\n"
     ]
    },
    {
     "name": "stdout",
     "output_type": "stream",
     "text": [
      "[CV]  bootstrap=True, criterion=gini, max_depth=7, max_features=log2, n_estimators=50, score=0.961, total=   0.4s\n",
      "[CV] bootstrap=True, criterion=gini, max_depth=7, max_features=log2, n_estimators=100 \n"
     ]
    },
    {
     "name": "stderr",
     "output_type": "stream",
     "text": [
      "/usr/local/lib/python3.7/site-packages/sklearn/model_selection/_validation.py:514: DataConversionWarning: A column-vector y was passed when a 1d array was expected. Please change the shape of y to (n_samples,), for example using ravel().\n",
      "  estimator.fit(X_train, y_train, **fit_params)\n"
     ]
    },
    {
     "name": "stdout",
     "output_type": "stream",
     "text": [
      "[CV]  bootstrap=True, criterion=gini, max_depth=7, max_features=log2, n_estimators=100, score=0.958, total=   0.8s\n",
      "[CV] bootstrap=True, criterion=gini, max_depth=7, max_features=log2, n_estimators=100 \n"
     ]
    },
    {
     "name": "stderr",
     "output_type": "stream",
     "text": [
      "/usr/local/lib/python3.7/site-packages/sklearn/model_selection/_validation.py:514: DataConversionWarning: A column-vector y was passed when a 1d array was expected. Please change the shape of y to (n_samples,), for example using ravel().\n",
      "  estimator.fit(X_train, y_train, **fit_params)\n"
     ]
    },
    {
     "name": "stdout",
     "output_type": "stream",
     "text": [
      "[CV]  bootstrap=True, criterion=gini, max_depth=7, max_features=log2, n_estimators=100, score=0.960, total=   0.8s\n",
      "[CV] bootstrap=True, criterion=gini, max_depth=7, max_features=log2, n_estimators=100 \n"
     ]
    },
    {
     "name": "stderr",
     "output_type": "stream",
     "text": [
      "/usr/local/lib/python3.7/site-packages/sklearn/model_selection/_validation.py:514: DataConversionWarning: A column-vector y was passed when a 1d array was expected. Please change the shape of y to (n_samples,), for example using ravel().\n",
      "  estimator.fit(X_train, y_train, **fit_params)\n"
     ]
    },
    {
     "name": "stdout",
     "output_type": "stream",
     "text": [
      "[CV]  bootstrap=True, criterion=gini, max_depth=7, max_features=log2, n_estimators=100, score=0.957, total=   0.8s\n",
      "[CV] bootstrap=True, criterion=gini, max_depth=7, max_features=log2, n_estimators=100 \n"
     ]
    },
    {
     "name": "stderr",
     "output_type": "stream",
     "text": [
      "/usr/local/lib/python3.7/site-packages/sklearn/model_selection/_validation.py:514: DataConversionWarning: A column-vector y was passed when a 1d array was expected. Please change the shape of y to (n_samples,), for example using ravel().\n",
      "  estimator.fit(X_train, y_train, **fit_params)\n"
     ]
    },
    {
     "name": "stdout",
     "output_type": "stream",
     "text": [
      "[CV]  bootstrap=True, criterion=gini, max_depth=7, max_features=log2, n_estimators=100, score=0.954, total=   0.7s\n",
      "[CV] bootstrap=True, criterion=gini, max_depth=7, max_features=log2, n_estimators=100 \n"
     ]
    },
    {
     "name": "stderr",
     "output_type": "stream",
     "text": [
      "/usr/local/lib/python3.7/site-packages/sklearn/model_selection/_validation.py:514: DataConversionWarning: A column-vector y was passed when a 1d array was expected. Please change the shape of y to (n_samples,), for example using ravel().\n",
      "  estimator.fit(X_train, y_train, **fit_params)\n"
     ]
    },
    {
     "name": "stdout",
     "output_type": "stream",
     "text": [
      "[CV]  bootstrap=True, criterion=gini, max_depth=7, max_features=log2, n_estimators=100, score=0.960, total=   0.8s\n",
      "[CV] bootstrap=True, criterion=gini, max_depth=9, max_features=auto, n_estimators=10 \n",
      "[CV]  bootstrap=True, criterion=gini, max_depth=9, max_features=auto, n_estimators=10, score=0.956, total=   0.1s\n",
      "[CV] bootstrap=True, criterion=gini, max_depth=9, max_features=auto, n_estimators=10 \n"
     ]
    },
    {
     "name": "stderr",
     "output_type": "stream",
     "text": [
      "/usr/local/lib/python3.7/site-packages/sklearn/model_selection/_validation.py:514: DataConversionWarning: A column-vector y was passed when a 1d array was expected. Please change the shape of y to (n_samples,), for example using ravel().\n",
      "  estimator.fit(X_train, y_train, **fit_params)\n",
      "/usr/local/lib/python3.7/site-packages/sklearn/model_selection/_validation.py:514: DataConversionWarning: A column-vector y was passed when a 1d array was expected. Please change the shape of y to (n_samples,), for example using ravel().\n",
      "  estimator.fit(X_train, y_train, **fit_params)\n"
     ]
    },
    {
     "name": "stdout",
     "output_type": "stream",
     "text": [
      "[CV]  bootstrap=True, criterion=gini, max_depth=9, max_features=auto, n_estimators=10, score=0.961, total=   0.1s\n",
      "[CV] bootstrap=True, criterion=gini, max_depth=9, max_features=auto, n_estimators=10 \n",
      "[CV]  bootstrap=True, criterion=gini, max_depth=9, max_features=auto, n_estimators=10, score=0.956, total=   0.1s\n",
      "[CV] bootstrap=True, criterion=gini, max_depth=9, max_features=auto, n_estimators=10 \n"
     ]
    },
    {
     "name": "stderr",
     "output_type": "stream",
     "text": [
      "/usr/local/lib/python3.7/site-packages/sklearn/model_selection/_validation.py:514: DataConversionWarning: A column-vector y was passed when a 1d array was expected. Please change the shape of y to (n_samples,), for example using ravel().\n",
      "  estimator.fit(X_train, y_train, **fit_params)\n",
      "/usr/local/lib/python3.7/site-packages/sklearn/model_selection/_validation.py:514: DataConversionWarning: A column-vector y was passed when a 1d array was expected. Please change the shape of y to (n_samples,), for example using ravel().\n",
      "  estimator.fit(X_train, y_train, **fit_params)\n"
     ]
    },
    {
     "name": "stdout",
     "output_type": "stream",
     "text": [
      "[CV]  bootstrap=True, criterion=gini, max_depth=9, max_features=auto, n_estimators=10, score=0.957, total=   0.1s\n",
      "[CV] bootstrap=True, criterion=gini, max_depth=9, max_features=auto, n_estimators=10 \n",
      "[CV]  bootstrap=True, criterion=gini, max_depth=9, max_features=auto, n_estimators=10, score=0.958, total=   0.1s\n",
      "[CV] bootstrap=True, criterion=gini, max_depth=9, max_features=auto, n_estimators=50 \n"
     ]
    },
    {
     "name": "stderr",
     "output_type": "stream",
     "text": [
      "/usr/local/lib/python3.7/site-packages/sklearn/model_selection/_validation.py:514: DataConversionWarning: A column-vector y was passed when a 1d array was expected. Please change the shape of y to (n_samples,), for example using ravel().\n",
      "  estimator.fit(X_train, y_train, **fit_params)\n",
      "/usr/local/lib/python3.7/site-packages/sklearn/model_selection/_validation.py:514: DataConversionWarning: A column-vector y was passed when a 1d array was expected. Please change the shape of y to (n_samples,), for example using ravel().\n",
      "  estimator.fit(X_train, y_train, **fit_params)\n"
     ]
    },
    {
     "name": "stdout",
     "output_type": "stream",
     "text": [
      "[CV]  bootstrap=True, criterion=gini, max_depth=9, max_features=auto, n_estimators=50, score=0.957, total=   0.5s\n",
      "[CV] bootstrap=True, criterion=gini, max_depth=9, max_features=auto, n_estimators=50 \n"
     ]
    },
    {
     "name": "stderr",
     "output_type": "stream",
     "text": [
      "/usr/local/lib/python3.7/site-packages/sklearn/model_selection/_validation.py:514: DataConversionWarning: A column-vector y was passed when a 1d array was expected. Please change the shape of y to (n_samples,), for example using ravel().\n",
      "  estimator.fit(X_train, y_train, **fit_params)\n"
     ]
    },
    {
     "name": "stdout",
     "output_type": "stream",
     "text": [
      "[CV]  bootstrap=True, criterion=gini, max_depth=9, max_features=auto, n_estimators=50, score=0.961, total=   0.6s\n",
      "[CV] bootstrap=True, criterion=gini, max_depth=9, max_features=auto, n_estimators=50 \n"
     ]
    },
    {
     "name": "stderr",
     "output_type": "stream",
     "text": [
      "/usr/local/lib/python3.7/site-packages/sklearn/model_selection/_validation.py:514: DataConversionWarning: A column-vector y was passed when a 1d array was expected. Please change the shape of y to (n_samples,), for example using ravel().\n",
      "  estimator.fit(X_train, y_train, **fit_params)\n"
     ]
    },
    {
     "name": "stdout",
     "output_type": "stream",
     "text": [
      "[CV]  bootstrap=True, criterion=gini, max_depth=9, max_features=auto, n_estimators=50, score=0.957, total=   0.6s\n",
      "[CV] bootstrap=True, criterion=gini, max_depth=9, max_features=auto, n_estimators=50 \n"
     ]
    },
    {
     "name": "stderr",
     "output_type": "stream",
     "text": [
      "/usr/local/lib/python3.7/site-packages/sklearn/model_selection/_validation.py:514: DataConversionWarning: A column-vector y was passed when a 1d array was expected. Please change the shape of y to (n_samples,), for example using ravel().\n",
      "  estimator.fit(X_train, y_train, **fit_params)\n"
     ]
    },
    {
     "name": "stdout",
     "output_type": "stream",
     "text": [
      "[CV]  bootstrap=True, criterion=gini, max_depth=9, max_features=auto, n_estimators=50, score=0.957, total=   0.6s\n",
      "[CV] bootstrap=True, criterion=gini, max_depth=9, max_features=auto, n_estimators=50 \n"
     ]
    },
    {
     "name": "stderr",
     "output_type": "stream",
     "text": [
      "/usr/local/lib/python3.7/site-packages/sklearn/model_selection/_validation.py:514: DataConversionWarning: A column-vector y was passed when a 1d array was expected. Please change the shape of y to (n_samples,), for example using ravel().\n",
      "  estimator.fit(X_train, y_train, **fit_params)\n"
     ]
    },
    {
     "name": "stdout",
     "output_type": "stream",
     "text": [
      "[CV]  bootstrap=True, criterion=gini, max_depth=9, max_features=auto, n_estimators=50, score=0.960, total=   0.9s\n",
      "[CV] bootstrap=True, criterion=gini, max_depth=9, max_features=auto, n_estimators=100 \n"
     ]
    },
    {
     "name": "stderr",
     "output_type": "stream",
     "text": [
      "/usr/local/lib/python3.7/site-packages/sklearn/model_selection/_validation.py:514: DataConversionWarning: A column-vector y was passed when a 1d array was expected. Please change the shape of y to (n_samples,), for example using ravel().\n",
      "  estimator.fit(X_train, y_train, **fit_params)\n"
     ]
    },
    {
     "name": "stdout",
     "output_type": "stream",
     "text": [
      "[CV]  bootstrap=True, criterion=gini, max_depth=9, max_features=auto, n_estimators=100, score=0.956, total=   1.2s\n",
      "[CV] bootstrap=True, criterion=gini, max_depth=9, max_features=auto, n_estimators=100 \n"
     ]
    },
    {
     "name": "stderr",
     "output_type": "stream",
     "text": [
      "/usr/local/lib/python3.7/site-packages/sklearn/model_selection/_validation.py:514: DataConversionWarning: A column-vector y was passed when a 1d array was expected. Please change the shape of y to (n_samples,), for example using ravel().\n",
      "  estimator.fit(X_train, y_train, **fit_params)\n"
     ]
    },
    {
     "name": "stdout",
     "output_type": "stream",
     "text": [
      "[CV]  bootstrap=True, criterion=gini, max_depth=9, max_features=auto, n_estimators=100, score=0.961, total=   1.3s\n",
      "[CV] bootstrap=True, criterion=gini, max_depth=9, max_features=auto, n_estimators=100 \n"
     ]
    },
    {
     "name": "stderr",
     "output_type": "stream",
     "text": [
      "/usr/local/lib/python3.7/site-packages/sklearn/model_selection/_validation.py:514: DataConversionWarning: A column-vector y was passed when a 1d array was expected. Please change the shape of y to (n_samples,), for example using ravel().\n",
      "  estimator.fit(X_train, y_train, **fit_params)\n"
     ]
    },
    {
     "name": "stdout",
     "output_type": "stream",
     "text": [
      "[CV]  bootstrap=True, criterion=gini, max_depth=9, max_features=auto, n_estimators=100, score=0.956, total=   1.2s\n",
      "[CV] bootstrap=True, criterion=gini, max_depth=9, max_features=auto, n_estimators=100 \n"
     ]
    },
    {
     "name": "stderr",
     "output_type": "stream",
     "text": [
      "/usr/local/lib/python3.7/site-packages/sklearn/model_selection/_validation.py:514: DataConversionWarning: A column-vector y was passed when a 1d array was expected. Please change the shape of y to (n_samples,), for example using ravel().\n",
      "  estimator.fit(X_train, y_train, **fit_params)\n"
     ]
    },
    {
     "name": "stdout",
     "output_type": "stream",
     "text": [
      "[CV]  bootstrap=True, criterion=gini, max_depth=9, max_features=auto, n_estimators=100, score=0.957, total=   1.1s\n",
      "[CV] bootstrap=True, criterion=gini, max_depth=9, max_features=auto, n_estimators=100 \n"
     ]
    },
    {
     "name": "stderr",
     "output_type": "stream",
     "text": [
      "/usr/local/lib/python3.7/site-packages/sklearn/model_selection/_validation.py:514: DataConversionWarning: A column-vector y was passed when a 1d array was expected. Please change the shape of y to (n_samples,), for example using ravel().\n",
      "  estimator.fit(X_train, y_train, **fit_params)\n"
     ]
    },
    {
     "name": "stdout",
     "output_type": "stream",
     "text": [
      "[CV]  bootstrap=True, criterion=gini, max_depth=9, max_features=auto, n_estimators=100, score=0.959, total=   1.2s\n",
      "[CV] bootstrap=True, criterion=gini, max_depth=9, max_features=sqrt, n_estimators=10 \n",
      "[CV]  bootstrap=True, criterion=gini, max_depth=9, max_features=sqrt, n_estimators=10, score=0.956, total=   0.1s\n",
      "[CV] bootstrap=True, criterion=gini, max_depth=9, max_features=sqrt, n_estimators=10 \n"
     ]
    },
    {
     "name": "stderr",
     "output_type": "stream",
     "text": [
      "/usr/local/lib/python3.7/site-packages/sklearn/model_selection/_validation.py:514: DataConversionWarning: A column-vector y was passed when a 1d array was expected. Please change the shape of y to (n_samples,), for example using ravel().\n",
      "  estimator.fit(X_train, y_train, **fit_params)\n",
      "/usr/local/lib/python3.7/site-packages/sklearn/model_selection/_validation.py:514: DataConversionWarning: A column-vector y was passed when a 1d array was expected. Please change the shape of y to (n_samples,), for example using ravel().\n",
      "  estimator.fit(X_train, y_train, **fit_params)\n"
     ]
    },
    {
     "name": "stdout",
     "output_type": "stream",
     "text": [
      "[CV]  bootstrap=True, criterion=gini, max_depth=9, max_features=sqrt, n_estimators=10, score=0.961, total=   0.2s\n",
      "[CV] bootstrap=True, criterion=gini, max_depth=9, max_features=sqrt, n_estimators=10 \n",
      "[CV]  bootstrap=True, criterion=gini, max_depth=9, max_features=sqrt, n_estimators=10, score=0.956, total=   0.1s\n",
      "[CV] bootstrap=True, criterion=gini, max_depth=9, max_features=sqrt, n_estimators=10 \n"
     ]
    },
    {
     "name": "stderr",
     "output_type": "stream",
     "text": [
      "/usr/local/lib/python3.7/site-packages/sklearn/model_selection/_validation.py:514: DataConversionWarning: A column-vector y was passed when a 1d array was expected. Please change the shape of y to (n_samples,), for example using ravel().\n",
      "  estimator.fit(X_train, y_train, **fit_params)\n",
      "/usr/local/lib/python3.7/site-packages/sklearn/model_selection/_validation.py:514: DataConversionWarning: A column-vector y was passed when a 1d array was expected. Please change the shape of y to (n_samples,), for example using ravel().\n",
      "  estimator.fit(X_train, y_train, **fit_params)\n"
     ]
    },
    {
     "name": "stdout",
     "output_type": "stream",
     "text": [
      "[CV]  bootstrap=True, criterion=gini, max_depth=9, max_features=sqrt, n_estimators=10, score=0.957, total=   0.1s\n",
      "[CV] bootstrap=True, criterion=gini, max_depth=9, max_features=sqrt, n_estimators=10 \n",
      "[CV]  bootstrap=True, criterion=gini, max_depth=9, max_features=sqrt, n_estimators=10, score=0.958, total=   0.2s\n",
      "[CV] bootstrap=True, criterion=gini, max_depth=9, max_features=sqrt, n_estimators=50 \n"
     ]
    },
    {
     "name": "stderr",
     "output_type": "stream",
     "text": [
      "/usr/local/lib/python3.7/site-packages/sklearn/model_selection/_validation.py:514: DataConversionWarning: A column-vector y was passed when a 1d array was expected. Please change the shape of y to (n_samples,), for example using ravel().\n",
      "  estimator.fit(X_train, y_train, **fit_params)\n",
      "/usr/local/lib/python3.7/site-packages/sklearn/model_selection/_validation.py:514: DataConversionWarning: A column-vector y was passed when a 1d array was expected. Please change the shape of y to (n_samples,), for example using ravel().\n",
      "  estimator.fit(X_train, y_train, **fit_params)\n"
     ]
    },
    {
     "name": "stdout",
     "output_type": "stream",
     "text": [
      "[CV]  bootstrap=True, criterion=gini, max_depth=9, max_features=sqrt, n_estimators=50, score=0.957, total=   0.7s\n",
      "[CV] bootstrap=True, criterion=gini, max_depth=9, max_features=sqrt, n_estimators=50 \n"
     ]
    },
    {
     "name": "stderr",
     "output_type": "stream",
     "text": [
      "/usr/local/lib/python3.7/site-packages/sklearn/model_selection/_validation.py:514: DataConversionWarning: A column-vector y was passed when a 1d array was expected. Please change the shape of y to (n_samples,), for example using ravel().\n",
      "  estimator.fit(X_train, y_train, **fit_params)\n"
     ]
    },
    {
     "name": "stdout",
     "output_type": "stream",
     "text": [
      "[CV]  bootstrap=True, criterion=gini, max_depth=9, max_features=sqrt, n_estimators=50, score=0.961, total=   0.6s\n",
      "[CV] bootstrap=True, criterion=gini, max_depth=9, max_features=sqrt, n_estimators=50 \n"
     ]
    },
    {
     "name": "stderr",
     "output_type": "stream",
     "text": [
      "/usr/local/lib/python3.7/site-packages/sklearn/model_selection/_validation.py:514: DataConversionWarning: A column-vector y was passed when a 1d array was expected. Please change the shape of y to (n_samples,), for example using ravel().\n",
      "  estimator.fit(X_train, y_train, **fit_params)\n"
     ]
    },
    {
     "name": "stdout",
     "output_type": "stream",
     "text": [
      "[CV]  bootstrap=True, criterion=gini, max_depth=9, max_features=sqrt, n_estimators=50, score=0.957, total=   0.5s\n",
      "[CV] bootstrap=True, criterion=gini, max_depth=9, max_features=sqrt, n_estimators=50 \n"
     ]
    },
    {
     "name": "stderr",
     "output_type": "stream",
     "text": [
      "/usr/local/lib/python3.7/site-packages/sklearn/model_selection/_validation.py:514: DataConversionWarning: A column-vector y was passed when a 1d array was expected. Please change the shape of y to (n_samples,), for example using ravel().\n",
      "  estimator.fit(X_train, y_train, **fit_params)\n"
     ]
    },
    {
     "name": "stdout",
     "output_type": "stream",
     "text": [
      "[CV]  bootstrap=True, criterion=gini, max_depth=9, max_features=sqrt, n_estimators=50, score=0.957, total=   0.6s\n",
      "[CV] bootstrap=True, criterion=gini, max_depth=9, max_features=sqrt, n_estimators=50 \n"
     ]
    },
    {
     "name": "stderr",
     "output_type": "stream",
     "text": [
      "/usr/local/lib/python3.7/site-packages/sklearn/model_selection/_validation.py:514: DataConversionWarning: A column-vector y was passed when a 1d array was expected. Please change the shape of y to (n_samples,), for example using ravel().\n",
      "  estimator.fit(X_train, y_train, **fit_params)\n"
     ]
    },
    {
     "name": "stdout",
     "output_type": "stream",
     "text": [
      "[CV]  bootstrap=True, criterion=gini, max_depth=9, max_features=sqrt, n_estimators=50, score=0.960, total=   0.5s\n",
      "[CV] bootstrap=True, criterion=gini, max_depth=9, max_features=sqrt, n_estimators=100 \n"
     ]
    },
    {
     "name": "stderr",
     "output_type": "stream",
     "text": [
      "/usr/local/lib/python3.7/site-packages/sklearn/model_selection/_validation.py:514: DataConversionWarning: A column-vector y was passed when a 1d array was expected. Please change the shape of y to (n_samples,), for example using ravel().\n",
      "  estimator.fit(X_train, y_train, **fit_params)\n"
     ]
    },
    {
     "name": "stdout",
     "output_type": "stream",
     "text": [
      "[CV]  bootstrap=True, criterion=gini, max_depth=9, max_features=sqrt, n_estimators=100, score=0.956, total=   1.3s\n",
      "[CV] bootstrap=True, criterion=gini, max_depth=9, max_features=sqrt, n_estimators=100 \n"
     ]
    },
    {
     "name": "stderr",
     "output_type": "stream",
     "text": [
      "/usr/local/lib/python3.7/site-packages/sklearn/model_selection/_validation.py:514: DataConversionWarning: A column-vector y was passed when a 1d array was expected. Please change the shape of y to (n_samples,), for example using ravel().\n",
      "  estimator.fit(X_train, y_train, **fit_params)\n"
     ]
    },
    {
     "name": "stdout",
     "output_type": "stream",
     "text": [
      "[CV]  bootstrap=True, criterion=gini, max_depth=9, max_features=sqrt, n_estimators=100, score=0.961, total=   1.3s\n",
      "[CV] bootstrap=True, criterion=gini, max_depth=9, max_features=sqrt, n_estimators=100 \n"
     ]
    },
    {
     "name": "stderr",
     "output_type": "stream",
     "text": [
      "/usr/local/lib/python3.7/site-packages/sklearn/model_selection/_validation.py:514: DataConversionWarning: A column-vector y was passed when a 1d array was expected. Please change the shape of y to (n_samples,), for example using ravel().\n",
      "  estimator.fit(X_train, y_train, **fit_params)\n"
     ]
    },
    {
     "name": "stdout",
     "output_type": "stream",
     "text": [
      "[CV]  bootstrap=True, criterion=gini, max_depth=9, max_features=sqrt, n_estimators=100, score=0.956, total=   1.0s\n",
      "[CV] bootstrap=True, criterion=gini, max_depth=9, max_features=sqrt, n_estimators=100 \n"
     ]
    },
    {
     "name": "stderr",
     "output_type": "stream",
     "text": [
      "/usr/local/lib/python3.7/site-packages/sklearn/model_selection/_validation.py:514: DataConversionWarning: A column-vector y was passed when a 1d array was expected. Please change the shape of y to (n_samples,), for example using ravel().\n",
      "  estimator.fit(X_train, y_train, **fit_params)\n"
     ]
    },
    {
     "name": "stdout",
     "output_type": "stream",
     "text": [
      "[CV]  bootstrap=True, criterion=gini, max_depth=9, max_features=sqrt, n_estimators=100, score=0.957, total=   1.1s\n",
      "[CV] bootstrap=True, criterion=gini, max_depth=9, max_features=sqrt, n_estimators=100 \n"
     ]
    },
    {
     "name": "stderr",
     "output_type": "stream",
     "text": [
      "/usr/local/lib/python3.7/site-packages/sklearn/model_selection/_validation.py:514: DataConversionWarning: A column-vector y was passed when a 1d array was expected. Please change the shape of y to (n_samples,), for example using ravel().\n",
      "  estimator.fit(X_train, y_train, **fit_params)\n"
     ]
    },
    {
     "name": "stdout",
     "output_type": "stream",
     "text": [
      "[CV]  bootstrap=True, criterion=gini, max_depth=9, max_features=sqrt, n_estimators=100, score=0.959, total=   1.0s\n",
      "[CV] bootstrap=True, criterion=gini, max_depth=9, max_features=log2, n_estimators=10 \n",
      "[CV]  bootstrap=True, criterion=gini, max_depth=9, max_features=log2, n_estimators=10, score=0.950, total=   0.2s\n",
      "[CV] bootstrap=True, criterion=gini, max_depth=9, max_features=log2, n_estimators=10 \n"
     ]
    },
    {
     "name": "stderr",
     "output_type": "stream",
     "text": [
      "/usr/local/lib/python3.7/site-packages/sklearn/model_selection/_validation.py:514: DataConversionWarning: A column-vector y was passed when a 1d array was expected. Please change the shape of y to (n_samples,), for example using ravel().\n",
      "  estimator.fit(X_train, y_train, **fit_params)\n",
      "/usr/local/lib/python3.7/site-packages/sklearn/model_selection/_validation.py:514: DataConversionWarning: A column-vector y was passed when a 1d array was expected. Please change the shape of y to (n_samples,), for example using ravel().\n",
      "  estimator.fit(X_train, y_train, **fit_params)\n"
     ]
    },
    {
     "name": "stdout",
     "output_type": "stream",
     "text": [
      "[CV]  bootstrap=True, criterion=gini, max_depth=9, max_features=log2, n_estimators=10, score=0.948, total=   0.1s\n",
      "[CV] bootstrap=True, criterion=gini, max_depth=9, max_features=log2, n_estimators=10 \n",
      "[CV]  bootstrap=True, criterion=gini, max_depth=9, max_features=log2, n_estimators=10, score=0.958, total=   0.1s\n",
      "[CV] bootstrap=True, criterion=gini, max_depth=9, max_features=log2, n_estimators=10 \n"
     ]
    },
    {
     "name": "stderr",
     "output_type": "stream",
     "text": [
      "/usr/local/lib/python3.7/site-packages/sklearn/model_selection/_validation.py:514: DataConversionWarning: A column-vector y was passed when a 1d array was expected. Please change the shape of y to (n_samples,), for example using ravel().\n",
      "  estimator.fit(X_train, y_train, **fit_params)\n",
      "/usr/local/lib/python3.7/site-packages/sklearn/model_selection/_validation.py:514: DataConversionWarning: A column-vector y was passed when a 1d array was expected. Please change the shape of y to (n_samples,), for example using ravel().\n",
      "  estimator.fit(X_train, y_train, **fit_params)\n"
     ]
    },
    {
     "name": "stdout",
     "output_type": "stream",
     "text": [
      "[CV]  bootstrap=True, criterion=gini, max_depth=9, max_features=log2, n_estimators=10, score=0.953, total=   0.1s\n",
      "[CV] bootstrap=True, criterion=gini, max_depth=9, max_features=log2, n_estimators=10 \n",
      "[CV]  bootstrap=True, criterion=gini, max_depth=9, max_features=log2, n_estimators=10, score=0.956, total=   0.1s\n",
      "[CV] bootstrap=True, criterion=gini, max_depth=9, max_features=log2, n_estimators=50 \n"
     ]
    },
    {
     "name": "stderr",
     "output_type": "stream",
     "text": [
      "/usr/local/lib/python3.7/site-packages/sklearn/model_selection/_validation.py:514: DataConversionWarning: A column-vector y was passed when a 1d array was expected. Please change the shape of y to (n_samples,), for example using ravel().\n",
      "  estimator.fit(X_train, y_train, **fit_params)\n",
      "/usr/local/lib/python3.7/site-packages/sklearn/model_selection/_validation.py:514: DataConversionWarning: A column-vector y was passed when a 1d array was expected. Please change the shape of y to (n_samples,), for example using ravel().\n",
      "  estimator.fit(X_train, y_train, **fit_params)\n"
     ]
    },
    {
     "name": "stdout",
     "output_type": "stream",
     "text": [
      "[CV]  bootstrap=True, criterion=gini, max_depth=9, max_features=log2, n_estimators=50, score=0.957, total=   0.7s\n",
      "[CV] bootstrap=True, criterion=gini, max_depth=9, max_features=log2, n_estimators=50 \n"
     ]
    },
    {
     "name": "stderr",
     "output_type": "stream",
     "text": [
      "/usr/local/lib/python3.7/site-packages/sklearn/model_selection/_validation.py:514: DataConversionWarning: A column-vector y was passed when a 1d array was expected. Please change the shape of y to (n_samples,), for example using ravel().\n",
      "  estimator.fit(X_train, y_train, **fit_params)\n"
     ]
    },
    {
     "name": "stdout",
     "output_type": "stream",
     "text": [
      "[CV]  bootstrap=True, criterion=gini, max_depth=9, max_features=log2, n_estimators=50, score=0.962, total=   0.5s\n",
      "[CV] bootstrap=True, criterion=gini, max_depth=9, max_features=log2, n_estimators=50 \n"
     ]
    },
    {
     "name": "stderr",
     "output_type": "stream",
     "text": [
      "/usr/local/lib/python3.7/site-packages/sklearn/model_selection/_validation.py:514: DataConversionWarning: A column-vector y was passed when a 1d array was expected. Please change the shape of y to (n_samples,), for example using ravel().\n",
      "  estimator.fit(X_train, y_train, **fit_params)\n"
     ]
    },
    {
     "name": "stdout",
     "output_type": "stream",
     "text": [
      "[CV]  bootstrap=True, criterion=gini, max_depth=9, max_features=log2, n_estimators=50, score=0.957, total=   0.5s\n",
      "[CV] bootstrap=True, criterion=gini, max_depth=9, max_features=log2, n_estimators=50 \n"
     ]
    },
    {
     "name": "stderr",
     "output_type": "stream",
     "text": [
      "/usr/local/lib/python3.7/site-packages/sklearn/model_selection/_validation.py:514: DataConversionWarning: A column-vector y was passed when a 1d array was expected. Please change the shape of y to (n_samples,), for example using ravel().\n",
      "  estimator.fit(X_train, y_train, **fit_params)\n"
     ]
    },
    {
     "name": "stdout",
     "output_type": "stream",
     "text": [
      "[CV]  bootstrap=True, criterion=gini, max_depth=9, max_features=log2, n_estimators=50, score=0.956, total=   0.4s\n",
      "[CV] bootstrap=True, criterion=gini, max_depth=9, max_features=log2, n_estimators=50 \n"
     ]
    },
    {
     "name": "stderr",
     "output_type": "stream",
     "text": [
      "/usr/local/lib/python3.7/site-packages/sklearn/model_selection/_validation.py:514: DataConversionWarning: A column-vector y was passed when a 1d array was expected. Please change the shape of y to (n_samples,), for example using ravel().\n",
      "  estimator.fit(X_train, y_train, **fit_params)\n"
     ]
    },
    {
     "name": "stdout",
     "output_type": "stream",
     "text": [
      "[CV]  bootstrap=True, criterion=gini, max_depth=9, max_features=log2, n_estimators=50, score=0.960, total=   0.4s\n",
      "[CV] bootstrap=True, criterion=gini, max_depth=9, max_features=log2, n_estimators=100 \n"
     ]
    },
    {
     "name": "stderr",
     "output_type": "stream",
     "text": [
      "/usr/local/lib/python3.7/site-packages/sklearn/model_selection/_validation.py:514: DataConversionWarning: A column-vector y was passed when a 1d array was expected. Please change the shape of y to (n_samples,), for example using ravel().\n",
      "  estimator.fit(X_train, y_train, **fit_params)\n"
     ]
    },
    {
     "name": "stdout",
     "output_type": "stream",
     "text": [
      "[CV]  bootstrap=True, criterion=gini, max_depth=9, max_features=log2, n_estimators=100, score=0.957, total=   0.8s\n",
      "[CV] bootstrap=True, criterion=gini, max_depth=9, max_features=log2, n_estimators=100 \n"
     ]
    },
    {
     "name": "stderr",
     "output_type": "stream",
     "text": [
      "/usr/local/lib/python3.7/site-packages/sklearn/model_selection/_validation.py:514: DataConversionWarning: A column-vector y was passed when a 1d array was expected. Please change the shape of y to (n_samples,), for example using ravel().\n",
      "  estimator.fit(X_train, y_train, **fit_params)\n"
     ]
    },
    {
     "name": "stdout",
     "output_type": "stream",
     "text": [
      "[CV]  bootstrap=True, criterion=gini, max_depth=9, max_features=log2, n_estimators=100, score=0.961, total=   0.8s\n",
      "[CV] bootstrap=True, criterion=gini, max_depth=9, max_features=log2, n_estimators=100 \n"
     ]
    },
    {
     "name": "stderr",
     "output_type": "stream",
     "text": [
      "/usr/local/lib/python3.7/site-packages/sklearn/model_selection/_validation.py:514: DataConversionWarning: A column-vector y was passed when a 1d array was expected. Please change the shape of y to (n_samples,), for example using ravel().\n",
      "  estimator.fit(X_train, y_train, **fit_params)\n"
     ]
    },
    {
     "name": "stdout",
     "output_type": "stream",
     "text": [
      "[CV]  bootstrap=True, criterion=gini, max_depth=9, max_features=log2, n_estimators=100, score=0.956, total=   0.9s\n",
      "[CV] bootstrap=True, criterion=gini, max_depth=9, max_features=log2, n_estimators=100 \n"
     ]
    },
    {
     "name": "stderr",
     "output_type": "stream",
     "text": [
      "/usr/local/lib/python3.7/site-packages/sklearn/model_selection/_validation.py:514: DataConversionWarning: A column-vector y was passed when a 1d array was expected. Please change the shape of y to (n_samples,), for example using ravel().\n",
      "  estimator.fit(X_train, y_train, **fit_params)\n"
     ]
    },
    {
     "name": "stdout",
     "output_type": "stream",
     "text": [
      "[CV]  bootstrap=True, criterion=gini, max_depth=9, max_features=log2, n_estimators=100, score=0.957, total=   0.9s\n",
      "[CV] bootstrap=True, criterion=gini, max_depth=9, max_features=log2, n_estimators=100 \n"
     ]
    },
    {
     "name": "stderr",
     "output_type": "stream",
     "text": [
      "/usr/local/lib/python3.7/site-packages/sklearn/model_selection/_validation.py:514: DataConversionWarning: A column-vector y was passed when a 1d array was expected. Please change the shape of y to (n_samples,), for example using ravel().\n",
      "  estimator.fit(X_train, y_train, **fit_params)\n"
     ]
    },
    {
     "name": "stdout",
     "output_type": "stream",
     "text": [
      "[CV]  bootstrap=True, criterion=gini, max_depth=9, max_features=log2, n_estimators=100, score=0.959, total=   0.8s\n",
      "[CV] bootstrap=True, criterion=entropy, max_depth=3, max_features=auto, n_estimators=10 \n",
      "[CV]  bootstrap=True, criterion=entropy, max_depth=3, max_features=auto, n_estimators=10, score=0.956, total=   0.1s\n",
      "[CV] bootstrap=True, criterion=entropy, max_depth=3, max_features=auto, n_estimators=10 \n",
      "[CV]  bootstrap=True, criterion=entropy, max_depth=3, max_features=auto, n_estimators=10, score=0.957, total=   0.1s\n",
      "[CV] bootstrap=True, criterion=entropy, max_depth=3, max_features=auto, n_estimators=10 \n"
     ]
    },
    {
     "name": "stderr",
     "output_type": "stream",
     "text": [
      "/usr/local/lib/python3.7/site-packages/sklearn/model_selection/_validation.py:514: DataConversionWarning: A column-vector y was passed when a 1d array was expected. Please change the shape of y to (n_samples,), for example using ravel().\n",
      "  estimator.fit(X_train, y_train, **fit_params)\n",
      "/usr/local/lib/python3.7/site-packages/sklearn/model_selection/_validation.py:514: DataConversionWarning: A column-vector y was passed when a 1d array was expected. Please change the shape of y to (n_samples,), for example using ravel().\n",
      "  estimator.fit(X_train, y_train, **fit_params)\n",
      "/usr/local/lib/python3.7/site-packages/sklearn/model_selection/_validation.py:514: DataConversionWarning: A column-vector y was passed when a 1d array was expected. Please change the shape of y to (n_samples,), for example using ravel().\n",
      "  estimator.fit(X_train, y_train, **fit_params)\n"
     ]
    },
    {
     "name": "stdout",
     "output_type": "stream",
     "text": [
      "[CV]  bootstrap=True, criterion=entropy, max_depth=3, max_features=auto, n_estimators=10, score=0.954, total=   0.1s\n",
      "[CV] bootstrap=True, criterion=entropy, max_depth=3, max_features=auto, n_estimators=10 \n",
      "[CV]  bootstrap=True, criterion=entropy, max_depth=3, max_features=auto, n_estimators=10, score=0.953, total=   0.1s\n",
      "[CV] bootstrap=True, criterion=entropy, max_depth=3, max_features=auto, n_estimators=10 \n",
      "[CV]  bootstrap=True, criterion=entropy, max_depth=3, max_features=auto, n_estimators=10, score=0.956, total=   0.1s\n",
      "[CV] bootstrap=True, criterion=entropy, max_depth=3, max_features=auto, n_estimators=50 \n"
     ]
    },
    {
     "name": "stderr",
     "output_type": "stream",
     "text": [
      "/usr/local/lib/python3.7/site-packages/sklearn/model_selection/_validation.py:514: DataConversionWarning: A column-vector y was passed when a 1d array was expected. Please change the shape of y to (n_samples,), for example using ravel().\n",
      "  estimator.fit(X_train, y_train, **fit_params)\n",
      "/usr/local/lib/python3.7/site-packages/sklearn/model_selection/_validation.py:514: DataConversionWarning: A column-vector y was passed when a 1d array was expected. Please change the shape of y to (n_samples,), for example using ravel().\n",
      "  estimator.fit(X_train, y_train, **fit_params)\n",
      "/usr/local/lib/python3.7/site-packages/sklearn/model_selection/_validation.py:514: DataConversionWarning: A column-vector y was passed when a 1d array was expected. Please change the shape of y to (n_samples,), for example using ravel().\n",
      "  estimator.fit(X_train, y_train, **fit_params)\n"
     ]
    },
    {
     "name": "stdout",
     "output_type": "stream",
     "text": [
      "[CV]  bootstrap=True, criterion=entropy, max_depth=3, max_features=auto, n_estimators=50, score=0.956, total=   0.3s\n",
      "[CV] bootstrap=True, criterion=entropy, max_depth=3, max_features=auto, n_estimators=50 \n"
     ]
    },
    {
     "name": "stderr",
     "output_type": "stream",
     "text": [
      "/usr/local/lib/python3.7/site-packages/sklearn/model_selection/_validation.py:514: DataConversionWarning: A column-vector y was passed when a 1d array was expected. Please change the shape of y to (n_samples,), for example using ravel().\n",
      "  estimator.fit(X_train, y_train, **fit_params)\n"
     ]
    },
    {
     "name": "stdout",
     "output_type": "stream",
     "text": [
      "[CV]  bootstrap=True, criterion=entropy, max_depth=3, max_features=auto, n_estimators=50, score=0.956, total=   0.3s\n",
      "[CV] bootstrap=True, criterion=entropy, max_depth=3, max_features=auto, n_estimators=50 \n"
     ]
    },
    {
     "name": "stderr",
     "output_type": "stream",
     "text": [
      "/usr/local/lib/python3.7/site-packages/sklearn/model_selection/_validation.py:514: DataConversionWarning: A column-vector y was passed when a 1d array was expected. Please change the shape of y to (n_samples,), for example using ravel().\n",
      "  estimator.fit(X_train, y_train, **fit_params)\n"
     ]
    },
    {
     "name": "stdout",
     "output_type": "stream",
     "text": [
      "[CV]  bootstrap=True, criterion=entropy, max_depth=3, max_features=auto, n_estimators=50, score=0.952, total=   0.3s\n",
      "[CV] bootstrap=True, criterion=entropy, max_depth=3, max_features=auto, n_estimators=50 \n"
     ]
    },
    {
     "name": "stderr",
     "output_type": "stream",
     "text": [
      "/usr/local/lib/python3.7/site-packages/sklearn/model_selection/_validation.py:514: DataConversionWarning: A column-vector y was passed when a 1d array was expected. Please change the shape of y to (n_samples,), for example using ravel().\n",
      "  estimator.fit(X_train, y_train, **fit_params)\n"
     ]
    },
    {
     "name": "stdout",
     "output_type": "stream",
     "text": [
      "[CV]  bootstrap=True, criterion=entropy, max_depth=3, max_features=auto, n_estimators=50, score=0.952, total=   0.3s\n",
      "[CV] bootstrap=True, criterion=entropy, max_depth=3, max_features=auto, n_estimators=50 \n"
     ]
    },
    {
     "name": "stderr",
     "output_type": "stream",
     "text": [
      "/usr/local/lib/python3.7/site-packages/sklearn/model_selection/_validation.py:514: DataConversionWarning: A column-vector y was passed when a 1d array was expected. Please change the shape of y to (n_samples,), for example using ravel().\n",
      "  estimator.fit(X_train, y_train, **fit_params)\n"
     ]
    },
    {
     "name": "stdout",
     "output_type": "stream",
     "text": [
      "[CV]  bootstrap=True, criterion=entropy, max_depth=3, max_features=auto, n_estimators=50, score=0.947, total=   0.3s\n",
      "[CV] bootstrap=True, criterion=entropy, max_depth=3, max_features=auto, n_estimators=100 \n"
     ]
    },
    {
     "name": "stderr",
     "output_type": "stream",
     "text": [
      "/usr/local/lib/python3.7/site-packages/sklearn/model_selection/_validation.py:514: DataConversionWarning: A column-vector y was passed when a 1d array was expected. Please change the shape of y to (n_samples,), for example using ravel().\n",
      "  estimator.fit(X_train, y_train, **fit_params)\n"
     ]
    },
    {
     "name": "stdout",
     "output_type": "stream",
     "text": [
      "[CV]  bootstrap=True, criterion=entropy, max_depth=3, max_features=auto, n_estimators=100, score=0.946, total=   0.7s\n",
      "[CV] bootstrap=True, criterion=entropy, max_depth=3, max_features=auto, n_estimators=100 \n"
     ]
    },
    {
     "name": "stderr",
     "output_type": "stream",
     "text": [
      "/usr/local/lib/python3.7/site-packages/sklearn/model_selection/_validation.py:514: DataConversionWarning: A column-vector y was passed when a 1d array was expected. Please change the shape of y to (n_samples,), for example using ravel().\n",
      "  estimator.fit(X_train, y_train, **fit_params)\n"
     ]
    },
    {
     "name": "stdout",
     "output_type": "stream",
     "text": [
      "[CV]  bootstrap=True, criterion=entropy, max_depth=3, max_features=auto, n_estimators=100, score=0.950, total=   0.6s\n",
      "[CV] bootstrap=True, criterion=entropy, max_depth=3, max_features=auto, n_estimators=100 \n"
     ]
    },
    {
     "name": "stderr",
     "output_type": "stream",
     "text": [
      "/usr/local/lib/python3.7/site-packages/sklearn/model_selection/_validation.py:514: DataConversionWarning: A column-vector y was passed when a 1d array was expected. Please change the shape of y to (n_samples,), for example using ravel().\n",
      "  estimator.fit(X_train, y_train, **fit_params)\n"
     ]
    },
    {
     "name": "stdout",
     "output_type": "stream",
     "text": [
      "[CV]  bootstrap=True, criterion=entropy, max_depth=3, max_features=auto, n_estimators=100, score=0.946, total=   0.6s\n",
      "[CV] bootstrap=True, criterion=entropy, max_depth=3, max_features=auto, n_estimators=100 \n"
     ]
    },
    {
     "name": "stderr",
     "output_type": "stream",
     "text": [
      "/usr/local/lib/python3.7/site-packages/sklearn/model_selection/_validation.py:514: DataConversionWarning: A column-vector y was passed when a 1d array was expected. Please change the shape of y to (n_samples,), for example using ravel().\n",
      "  estimator.fit(X_train, y_train, **fit_params)\n"
     ]
    },
    {
     "name": "stdout",
     "output_type": "stream",
     "text": [
      "[CV]  bootstrap=True, criterion=entropy, max_depth=3, max_features=auto, n_estimators=100, score=0.941, total=   0.9s\n",
      "[CV] bootstrap=True, criterion=entropy, max_depth=3, max_features=auto, n_estimators=100 \n"
     ]
    },
    {
     "name": "stderr",
     "output_type": "stream",
     "text": [
      "/usr/local/lib/python3.7/site-packages/sklearn/model_selection/_validation.py:514: DataConversionWarning: A column-vector y was passed when a 1d array was expected. Please change the shape of y to (n_samples,), for example using ravel().\n",
      "  estimator.fit(X_train, y_train, **fit_params)\n"
     ]
    },
    {
     "name": "stdout",
     "output_type": "stream",
     "text": [
      "[CV]  bootstrap=True, criterion=entropy, max_depth=3, max_features=auto, n_estimators=100, score=0.946, total=   0.6s\n",
      "[CV] bootstrap=True, criterion=entropy, max_depth=3, max_features=sqrt, n_estimators=10 \n",
      "[CV]  bootstrap=True, criterion=entropy, max_depth=3, max_features=sqrt, n_estimators=10, score=0.956, total=   0.1s\n",
      "[CV] bootstrap=True, criterion=entropy, max_depth=3, max_features=sqrt, n_estimators=10 \n",
      "[CV]  bootstrap=True, criterion=entropy, max_depth=3, max_features=sqrt, n_estimators=10, score=0.957, total=   0.1s\n",
      "[CV] bootstrap=True, criterion=entropy, max_depth=3, max_features=sqrt, n_estimators=10 \n"
     ]
    },
    {
     "name": "stderr",
     "output_type": "stream",
     "text": [
      "/usr/local/lib/python3.7/site-packages/sklearn/model_selection/_validation.py:514: DataConversionWarning: A column-vector y was passed when a 1d array was expected. Please change the shape of y to (n_samples,), for example using ravel().\n",
      "  estimator.fit(X_train, y_train, **fit_params)\n",
      "/usr/local/lib/python3.7/site-packages/sklearn/model_selection/_validation.py:514: DataConversionWarning: A column-vector y was passed when a 1d array was expected. Please change the shape of y to (n_samples,), for example using ravel().\n",
      "  estimator.fit(X_train, y_train, **fit_params)\n",
      "/usr/local/lib/python3.7/site-packages/sklearn/model_selection/_validation.py:514: DataConversionWarning: A column-vector y was passed when a 1d array was expected. Please change the shape of y to (n_samples,), for example using ravel().\n",
      "  estimator.fit(X_train, y_train, **fit_params)\n"
     ]
    },
    {
     "name": "stdout",
     "output_type": "stream",
     "text": [
      "[CV]  bootstrap=True, criterion=entropy, max_depth=3, max_features=sqrt, n_estimators=10, score=0.954, total=   0.1s\n",
      "[CV] bootstrap=True, criterion=entropy, max_depth=3, max_features=sqrt, n_estimators=10 \n",
      "[CV]  bootstrap=True, criterion=entropy, max_depth=3, max_features=sqrt, n_estimators=10, score=0.953, total=   0.1s\n",
      "[CV] bootstrap=True, criterion=entropy, max_depth=3, max_features=sqrt, n_estimators=10 \n",
      "[CV]  bootstrap=True, criterion=entropy, max_depth=3, max_features=sqrt, n_estimators=10, score=0.956, total=   0.1s\n",
      "[CV] bootstrap=True, criterion=entropy, max_depth=3, max_features=sqrt, n_estimators=50 \n"
     ]
    },
    {
     "name": "stderr",
     "output_type": "stream",
     "text": [
      "/usr/local/lib/python3.7/site-packages/sklearn/model_selection/_validation.py:514: DataConversionWarning: A column-vector y was passed when a 1d array was expected. Please change the shape of y to (n_samples,), for example using ravel().\n",
      "  estimator.fit(X_train, y_train, **fit_params)\n",
      "/usr/local/lib/python3.7/site-packages/sklearn/model_selection/_validation.py:514: DataConversionWarning: A column-vector y was passed when a 1d array was expected. Please change the shape of y to (n_samples,), for example using ravel().\n",
      "  estimator.fit(X_train, y_train, **fit_params)\n",
      "/usr/local/lib/python3.7/site-packages/sklearn/model_selection/_validation.py:514: DataConversionWarning: A column-vector y was passed when a 1d array was expected. Please change the shape of y to (n_samples,), for example using ravel().\n",
      "  estimator.fit(X_train, y_train, **fit_params)\n"
     ]
    },
    {
     "name": "stdout",
     "output_type": "stream",
     "text": [
      "[CV]  bootstrap=True, criterion=entropy, max_depth=3, max_features=sqrt, n_estimators=50, score=0.956, total=   0.3s\n",
      "[CV] bootstrap=True, criterion=entropy, max_depth=3, max_features=sqrt, n_estimators=50 \n"
     ]
    },
    {
     "name": "stderr",
     "output_type": "stream",
     "text": [
      "/usr/local/lib/python3.7/site-packages/sklearn/model_selection/_validation.py:514: DataConversionWarning: A column-vector y was passed when a 1d array was expected. Please change the shape of y to (n_samples,), for example using ravel().\n",
      "  estimator.fit(X_train, y_train, **fit_params)\n"
     ]
    },
    {
     "name": "stdout",
     "output_type": "stream",
     "text": [
      "[CV]  bootstrap=True, criterion=entropy, max_depth=3, max_features=sqrt, n_estimators=50, score=0.956, total=   0.3s\n",
      "[CV] bootstrap=True, criterion=entropy, max_depth=3, max_features=sqrt, n_estimators=50 \n"
     ]
    },
    {
     "name": "stderr",
     "output_type": "stream",
     "text": [
      "/usr/local/lib/python3.7/site-packages/sklearn/model_selection/_validation.py:514: DataConversionWarning: A column-vector y was passed when a 1d array was expected. Please change the shape of y to (n_samples,), for example using ravel().\n",
      "  estimator.fit(X_train, y_train, **fit_params)\n"
     ]
    },
    {
     "name": "stdout",
     "output_type": "stream",
     "text": [
      "[CV]  bootstrap=True, criterion=entropy, max_depth=3, max_features=sqrt, n_estimators=50, score=0.952, total=   0.3s\n",
      "[CV] bootstrap=True, criterion=entropy, max_depth=3, max_features=sqrt, n_estimators=50 \n"
     ]
    },
    {
     "name": "stderr",
     "output_type": "stream",
     "text": [
      "/usr/local/lib/python3.7/site-packages/sklearn/model_selection/_validation.py:514: DataConversionWarning: A column-vector y was passed when a 1d array was expected. Please change the shape of y to (n_samples,), for example using ravel().\n",
      "  estimator.fit(X_train, y_train, **fit_params)\n"
     ]
    },
    {
     "name": "stdout",
     "output_type": "stream",
     "text": [
      "[CV]  bootstrap=True, criterion=entropy, max_depth=3, max_features=sqrt, n_estimators=50, score=0.952, total=   0.3s\n",
      "[CV] bootstrap=True, criterion=entropy, max_depth=3, max_features=sqrt, n_estimators=50 \n"
     ]
    },
    {
     "name": "stderr",
     "output_type": "stream",
     "text": [
      "/usr/local/lib/python3.7/site-packages/sklearn/model_selection/_validation.py:514: DataConversionWarning: A column-vector y was passed when a 1d array was expected. Please change the shape of y to (n_samples,), for example using ravel().\n",
      "  estimator.fit(X_train, y_train, **fit_params)\n"
     ]
    },
    {
     "name": "stdout",
     "output_type": "stream",
     "text": [
      "[CV]  bootstrap=True, criterion=entropy, max_depth=3, max_features=sqrt, n_estimators=50, score=0.947, total=   0.3s\n",
      "[CV] bootstrap=True, criterion=entropy, max_depth=3, max_features=sqrt, n_estimators=100 \n"
     ]
    },
    {
     "name": "stderr",
     "output_type": "stream",
     "text": [
      "/usr/local/lib/python3.7/site-packages/sklearn/model_selection/_validation.py:514: DataConversionWarning: A column-vector y was passed when a 1d array was expected. Please change the shape of y to (n_samples,), for example using ravel().\n",
      "  estimator.fit(X_train, y_train, **fit_params)\n"
     ]
    },
    {
     "name": "stdout",
     "output_type": "stream",
     "text": [
      "[CV]  bootstrap=True, criterion=entropy, max_depth=3, max_features=sqrt, n_estimators=100, score=0.946, total=   0.6s\n",
      "[CV] bootstrap=True, criterion=entropy, max_depth=3, max_features=sqrt, n_estimators=100 \n"
     ]
    },
    {
     "name": "stderr",
     "output_type": "stream",
     "text": [
      "/usr/local/lib/python3.7/site-packages/sklearn/model_selection/_validation.py:514: DataConversionWarning: A column-vector y was passed when a 1d array was expected. Please change the shape of y to (n_samples,), for example using ravel().\n",
      "  estimator.fit(X_train, y_train, **fit_params)\n"
     ]
    },
    {
     "name": "stdout",
     "output_type": "stream",
     "text": [
      "[CV]  bootstrap=True, criterion=entropy, max_depth=3, max_features=sqrt, n_estimators=100, score=0.950, total=   0.9s\n",
      "[CV] bootstrap=True, criterion=entropy, max_depth=3, max_features=sqrt, n_estimators=100 \n"
     ]
    },
    {
     "name": "stderr",
     "output_type": "stream",
     "text": [
      "/usr/local/lib/python3.7/site-packages/sklearn/model_selection/_validation.py:514: DataConversionWarning: A column-vector y was passed when a 1d array was expected. Please change the shape of y to (n_samples,), for example using ravel().\n",
      "  estimator.fit(X_train, y_train, **fit_params)\n"
     ]
    },
    {
     "name": "stdout",
     "output_type": "stream",
     "text": [
      "[CV]  bootstrap=True, criterion=entropy, max_depth=3, max_features=sqrt, n_estimators=100, score=0.946, total=   0.7s\n",
      "[CV] bootstrap=True, criterion=entropy, max_depth=3, max_features=sqrt, n_estimators=100 \n"
     ]
    },
    {
     "name": "stderr",
     "output_type": "stream",
     "text": [
      "/usr/local/lib/python3.7/site-packages/sklearn/model_selection/_validation.py:514: DataConversionWarning: A column-vector y was passed when a 1d array was expected. Please change the shape of y to (n_samples,), for example using ravel().\n",
      "  estimator.fit(X_train, y_train, **fit_params)\n"
     ]
    },
    {
     "name": "stdout",
     "output_type": "stream",
     "text": [
      "[CV]  bootstrap=True, criterion=entropy, max_depth=3, max_features=sqrt, n_estimators=100, score=0.941, total=   0.7s\n",
      "[CV] bootstrap=True, criterion=entropy, max_depth=3, max_features=sqrt, n_estimators=100 \n"
     ]
    },
    {
     "name": "stderr",
     "output_type": "stream",
     "text": [
      "/usr/local/lib/python3.7/site-packages/sklearn/model_selection/_validation.py:514: DataConversionWarning: A column-vector y was passed when a 1d array was expected. Please change the shape of y to (n_samples,), for example using ravel().\n",
      "  estimator.fit(X_train, y_train, **fit_params)\n"
     ]
    },
    {
     "name": "stdout",
     "output_type": "stream",
     "text": [
      "[CV]  bootstrap=True, criterion=entropy, max_depth=3, max_features=sqrt, n_estimators=100, score=0.946, total=   1.3s\n",
      "[CV] bootstrap=True, criterion=entropy, max_depth=3, max_features=log2, n_estimators=10 \n",
      "[CV]  bootstrap=True, criterion=entropy, max_depth=3, max_features=log2, n_estimators=10, score=0.903, total=   0.1s\n",
      "[CV] bootstrap=True, criterion=entropy, max_depth=3, max_features=log2, n_estimators=10 \n"
     ]
    },
    {
     "name": "stderr",
     "output_type": "stream",
     "text": [
      "/usr/local/lib/python3.7/site-packages/sklearn/model_selection/_validation.py:514: DataConversionWarning: A column-vector y was passed when a 1d array was expected. Please change the shape of y to (n_samples,), for example using ravel().\n",
      "  estimator.fit(X_train, y_train, **fit_params)\n",
      "/usr/local/lib/python3.7/site-packages/sklearn/model_selection/_validation.py:514: DataConversionWarning: A column-vector y was passed when a 1d array was expected. Please change the shape of y to (n_samples,), for example using ravel().\n",
      "  estimator.fit(X_train, y_train, **fit_params)\n"
     ]
    },
    {
     "name": "stdout",
     "output_type": "stream",
     "text": [
      "[CV]  bootstrap=True, criterion=entropy, max_depth=3, max_features=log2, n_estimators=10, score=0.908, total=   0.1s\n",
      "[CV] bootstrap=True, criterion=entropy, max_depth=3, max_features=log2, n_estimators=10 \n",
      "[CV]  bootstrap=True, criterion=entropy, max_depth=3, max_features=log2, n_estimators=10, score=0.915, total=   0.1s\n",
      "[CV] bootstrap=True, criterion=entropy, max_depth=3, max_features=log2, n_estimators=10 \n"
     ]
    },
    {
     "name": "stderr",
     "output_type": "stream",
     "text": [
      "/usr/local/lib/python3.7/site-packages/sklearn/model_selection/_validation.py:514: DataConversionWarning: A column-vector y was passed when a 1d array was expected. Please change the shape of y to (n_samples,), for example using ravel().\n",
      "  estimator.fit(X_train, y_train, **fit_params)\n",
      "/usr/local/lib/python3.7/site-packages/sklearn/model_selection/_validation.py:514: DataConversionWarning: A column-vector y was passed when a 1d array was expected. Please change the shape of y to (n_samples,), for example using ravel().\n",
      "  estimator.fit(X_train, y_train, **fit_params)\n"
     ]
    },
    {
     "name": "stdout",
     "output_type": "stream",
     "text": [
      "[CV]  bootstrap=True, criterion=entropy, max_depth=3, max_features=log2, n_estimators=10, score=0.892, total=   0.1s\n",
      "[CV] bootstrap=True, criterion=entropy, max_depth=3, max_features=log2, n_estimators=10 \n",
      "[CV]  bootstrap=True, criterion=entropy, max_depth=3, max_features=log2, n_estimators=10, score=0.910, total=   0.2s\n",
      "[CV] bootstrap=True, criterion=entropy, max_depth=3, max_features=log2, n_estimators=50 \n"
     ]
    },
    {
     "name": "stderr",
     "output_type": "stream",
     "text": [
      "/usr/local/lib/python3.7/site-packages/sklearn/model_selection/_validation.py:514: DataConversionWarning: A column-vector y was passed when a 1d array was expected. Please change the shape of y to (n_samples,), for example using ravel().\n",
      "  estimator.fit(X_train, y_train, **fit_params)\n",
      "/usr/local/lib/python3.7/site-packages/sklearn/model_selection/_validation.py:514: DataConversionWarning: A column-vector y was passed when a 1d array was expected. Please change the shape of y to (n_samples,), for example using ravel().\n",
      "  estimator.fit(X_train, y_train, **fit_params)\n"
     ]
    },
    {
     "name": "stdout",
     "output_type": "stream",
     "text": [
      "[CV]  bootstrap=True, criterion=entropy, max_depth=3, max_features=log2, n_estimators=50, score=0.933, total=   0.6s\n",
      "[CV] bootstrap=True, criterion=entropy, max_depth=3, max_features=log2, n_estimators=50 \n"
     ]
    },
    {
     "name": "stderr",
     "output_type": "stream",
     "text": [
      "/usr/local/lib/python3.7/site-packages/sklearn/model_selection/_validation.py:514: DataConversionWarning: A column-vector y was passed when a 1d array was expected. Please change the shape of y to (n_samples,), for example using ravel().\n",
      "  estimator.fit(X_train, y_train, **fit_params)\n"
     ]
    },
    {
     "name": "stdout",
     "output_type": "stream",
     "text": [
      "[CV]  bootstrap=True, criterion=entropy, max_depth=3, max_features=log2, n_estimators=50, score=0.939, total=   0.8s\n",
      "[CV] bootstrap=True, criterion=entropy, max_depth=3, max_features=log2, n_estimators=50 \n"
     ]
    },
    {
     "name": "stderr",
     "output_type": "stream",
     "text": [
      "/usr/local/lib/python3.7/site-packages/sklearn/model_selection/_validation.py:514: DataConversionWarning: A column-vector y was passed when a 1d array was expected. Please change the shape of y to (n_samples,), for example using ravel().\n",
      "  estimator.fit(X_train, y_train, **fit_params)\n"
     ]
    },
    {
     "name": "stdout",
     "output_type": "stream",
     "text": [
      "[CV]  bootstrap=True, criterion=entropy, max_depth=3, max_features=log2, n_estimators=50, score=0.939, total=   0.3s\n",
      "[CV] bootstrap=True, criterion=entropy, max_depth=3, max_features=log2, n_estimators=50 \n"
     ]
    },
    {
     "name": "stderr",
     "output_type": "stream",
     "text": [
      "/usr/local/lib/python3.7/site-packages/sklearn/model_selection/_validation.py:514: DataConversionWarning: A column-vector y was passed when a 1d array was expected. Please change the shape of y to (n_samples,), for example using ravel().\n",
      "  estimator.fit(X_train, y_train, **fit_params)\n"
     ]
    },
    {
     "name": "stdout",
     "output_type": "stream",
     "text": [
      "[CV]  bootstrap=True, criterion=entropy, max_depth=3, max_features=log2, n_estimators=50, score=0.932, total=   0.3s\n",
      "[CV] bootstrap=True, criterion=entropy, max_depth=3, max_features=log2, n_estimators=50 \n"
     ]
    },
    {
     "name": "stderr",
     "output_type": "stream",
     "text": [
      "/usr/local/lib/python3.7/site-packages/sklearn/model_selection/_validation.py:514: DataConversionWarning: A column-vector y was passed when a 1d array was expected. Please change the shape of y to (n_samples,), for example using ravel().\n",
      "  estimator.fit(X_train, y_train, **fit_params)\n"
     ]
    },
    {
     "name": "stdout",
     "output_type": "stream",
     "text": [
      "[CV]  bootstrap=True, criterion=entropy, max_depth=3, max_features=log2, n_estimators=50, score=0.935, total=   0.3s\n",
      "[CV] bootstrap=True, criterion=entropy, max_depth=3, max_features=log2, n_estimators=100 \n"
     ]
    },
    {
     "name": "stderr",
     "output_type": "stream",
     "text": [
      "/usr/local/lib/python3.7/site-packages/sklearn/model_selection/_validation.py:514: DataConversionWarning: A column-vector y was passed when a 1d array was expected. Please change the shape of y to (n_samples,), for example using ravel().\n",
      "  estimator.fit(X_train, y_train, **fit_params)\n"
     ]
    },
    {
     "name": "stdout",
     "output_type": "stream",
     "text": [
      "[CV]  bootstrap=True, criterion=entropy, max_depth=3, max_features=log2, n_estimators=100, score=0.930, total=   0.6s\n",
      "[CV] bootstrap=True, criterion=entropy, max_depth=3, max_features=log2, n_estimators=100 \n"
     ]
    },
    {
     "name": "stderr",
     "output_type": "stream",
     "text": [
      "/usr/local/lib/python3.7/site-packages/sklearn/model_selection/_validation.py:514: DataConversionWarning: A column-vector y was passed when a 1d array was expected. Please change the shape of y to (n_samples,), for example using ravel().\n",
      "  estimator.fit(X_train, y_train, **fit_params)\n"
     ]
    },
    {
     "name": "stdout",
     "output_type": "stream",
     "text": [
      "[CV]  bootstrap=True, criterion=entropy, max_depth=3, max_features=log2, n_estimators=100, score=0.936, total=   0.6s\n",
      "[CV] bootstrap=True, criterion=entropy, max_depth=3, max_features=log2, n_estimators=100 \n"
     ]
    },
    {
     "name": "stderr",
     "output_type": "stream",
     "text": [
      "/usr/local/lib/python3.7/site-packages/sklearn/model_selection/_validation.py:514: DataConversionWarning: A column-vector y was passed when a 1d array was expected. Please change the shape of y to (n_samples,), for example using ravel().\n",
      "  estimator.fit(X_train, y_train, **fit_params)\n"
     ]
    },
    {
     "name": "stdout",
     "output_type": "stream",
     "text": [
      "[CV]  bootstrap=True, criterion=entropy, max_depth=3, max_features=log2, n_estimators=100, score=0.938, total=   0.6s\n",
      "[CV] bootstrap=True, criterion=entropy, max_depth=3, max_features=log2, n_estimators=100 \n"
     ]
    },
    {
     "name": "stderr",
     "output_type": "stream",
     "text": [
      "/usr/local/lib/python3.7/site-packages/sklearn/model_selection/_validation.py:514: DataConversionWarning: A column-vector y was passed when a 1d array was expected. Please change the shape of y to (n_samples,), for example using ravel().\n",
      "  estimator.fit(X_train, y_train, **fit_params)\n"
     ]
    },
    {
     "name": "stdout",
     "output_type": "stream",
     "text": [
      "[CV]  bootstrap=True, criterion=entropy, max_depth=3, max_features=log2, n_estimators=100, score=0.929, total=   0.7s\n",
      "[CV] bootstrap=True, criterion=entropy, max_depth=3, max_features=log2, n_estimators=100 \n"
     ]
    },
    {
     "name": "stderr",
     "output_type": "stream",
     "text": [
      "/usr/local/lib/python3.7/site-packages/sklearn/model_selection/_validation.py:514: DataConversionWarning: A column-vector y was passed when a 1d array was expected. Please change the shape of y to (n_samples,), for example using ravel().\n",
      "  estimator.fit(X_train, y_train, **fit_params)\n"
     ]
    },
    {
     "name": "stdout",
     "output_type": "stream",
     "text": [
      "[CV]  bootstrap=True, criterion=entropy, max_depth=3, max_features=log2, n_estimators=100, score=0.935, total=   0.6s\n",
      "[CV] bootstrap=True, criterion=entropy, max_depth=5, max_features=auto, n_estimators=10 \n",
      "[CV]  bootstrap=True, criterion=entropy, max_depth=5, max_features=auto, n_estimators=10, score=0.956, total=   0.1s\n",
      "[CV] bootstrap=True, criterion=entropy, max_depth=5, max_features=auto, n_estimators=10 \n",
      "[CV]  bootstrap=True, criterion=entropy, max_depth=5, max_features=auto, n_estimators=10, score=0.955, total=   0.1s\n",
      "[CV] bootstrap=True, criterion=entropy, max_depth=5, max_features=auto, n_estimators=10 \n"
     ]
    },
    {
     "name": "stderr",
     "output_type": "stream",
     "text": [
      "/usr/local/lib/python3.7/site-packages/sklearn/model_selection/_validation.py:514: DataConversionWarning: A column-vector y was passed when a 1d array was expected. Please change the shape of y to (n_samples,), for example using ravel().\n",
      "  estimator.fit(X_train, y_train, **fit_params)\n",
      "/usr/local/lib/python3.7/site-packages/sklearn/model_selection/_validation.py:514: DataConversionWarning: A column-vector y was passed when a 1d array was expected. Please change the shape of y to (n_samples,), for example using ravel().\n",
      "  estimator.fit(X_train, y_train, **fit_params)\n",
      "/usr/local/lib/python3.7/site-packages/sklearn/model_selection/_validation.py:514: DataConversionWarning: A column-vector y was passed when a 1d array was expected. Please change the shape of y to (n_samples,), for example using ravel().\n",
      "  estimator.fit(X_train, y_train, **fit_params)\n"
     ]
    },
    {
     "name": "stdout",
     "output_type": "stream",
     "text": [
      "[CV]  bootstrap=True, criterion=entropy, max_depth=5, max_features=auto, n_estimators=10, score=0.955, total=   0.1s\n",
      "[CV] bootstrap=True, criterion=entropy, max_depth=5, max_features=auto, n_estimators=10 \n",
      "[CV]  bootstrap=True, criterion=entropy, max_depth=5, max_features=auto, n_estimators=10, score=0.941, total=   0.1s\n",
      "[CV] bootstrap=True, criterion=entropy, max_depth=5, max_features=auto, n_estimators=10 \n",
      "[CV]  bootstrap=True, criterion=entropy, max_depth=5, max_features=auto, n_estimators=10, score=0.944, total=   0.1s\n",
      "[CV] bootstrap=True, criterion=entropy, max_depth=5, max_features=auto, n_estimators=50 \n"
     ]
    },
    {
     "name": "stderr",
     "output_type": "stream",
     "text": [
      "/usr/local/lib/python3.7/site-packages/sklearn/model_selection/_validation.py:514: DataConversionWarning: A column-vector y was passed when a 1d array was expected. Please change the shape of y to (n_samples,), for example using ravel().\n",
      "  estimator.fit(X_train, y_train, **fit_params)\n",
      "/usr/local/lib/python3.7/site-packages/sklearn/model_selection/_validation.py:514: DataConversionWarning: A column-vector y was passed when a 1d array was expected. Please change the shape of y to (n_samples,), for example using ravel().\n",
      "  estimator.fit(X_train, y_train, **fit_params)\n",
      "/usr/local/lib/python3.7/site-packages/sklearn/model_selection/_validation.py:514: DataConversionWarning: A column-vector y was passed when a 1d array was expected. Please change the shape of y to (n_samples,), for example using ravel().\n",
      "  estimator.fit(X_train, y_train, **fit_params)\n"
     ]
    },
    {
     "name": "stdout",
     "output_type": "stream",
     "text": [
      "[CV]  bootstrap=True, criterion=entropy, max_depth=5, max_features=auto, n_estimators=50, score=0.958, total=   0.4s\n",
      "[CV] bootstrap=True, criterion=entropy, max_depth=5, max_features=auto, n_estimators=50 \n"
     ]
    },
    {
     "name": "stderr",
     "output_type": "stream",
     "text": [
      "/usr/local/lib/python3.7/site-packages/sklearn/model_selection/_validation.py:514: DataConversionWarning: A column-vector y was passed when a 1d array was expected. Please change the shape of y to (n_samples,), for example using ravel().\n",
      "  estimator.fit(X_train, y_train, **fit_params)\n"
     ]
    },
    {
     "name": "stdout",
     "output_type": "stream",
     "text": [
      "[CV]  bootstrap=True, criterion=entropy, max_depth=5, max_features=auto, n_estimators=50, score=0.959, total=   0.4s\n",
      "[CV] bootstrap=True, criterion=entropy, max_depth=5, max_features=auto, n_estimators=50 \n"
     ]
    },
    {
     "name": "stderr",
     "output_type": "stream",
     "text": [
      "/usr/local/lib/python3.7/site-packages/sklearn/model_selection/_validation.py:514: DataConversionWarning: A column-vector y was passed when a 1d array was expected. Please change the shape of y to (n_samples,), for example using ravel().\n",
      "  estimator.fit(X_train, y_train, **fit_params)\n"
     ]
    },
    {
     "name": "stdout",
     "output_type": "stream",
     "text": [
      "[CV]  bootstrap=True, criterion=entropy, max_depth=5, max_features=auto, n_estimators=50, score=0.954, total=   0.4s\n",
      "[CV] bootstrap=True, criterion=entropy, max_depth=5, max_features=auto, n_estimators=50 \n"
     ]
    },
    {
     "name": "stderr",
     "output_type": "stream",
     "text": [
      "/usr/local/lib/python3.7/site-packages/sklearn/model_selection/_validation.py:514: DataConversionWarning: A column-vector y was passed when a 1d array was expected. Please change the shape of y to (n_samples,), for example using ravel().\n",
      "  estimator.fit(X_train, y_train, **fit_params)\n"
     ]
    },
    {
     "name": "stdout",
     "output_type": "stream",
     "text": [
      "[CV]  bootstrap=True, criterion=entropy, max_depth=5, max_features=auto, n_estimators=50, score=0.954, total=   0.4s\n",
      "[CV] bootstrap=True, criterion=entropy, max_depth=5, max_features=auto, n_estimators=50 \n"
     ]
    },
    {
     "name": "stderr",
     "output_type": "stream",
     "text": [
      "/usr/local/lib/python3.7/site-packages/sklearn/model_selection/_validation.py:514: DataConversionWarning: A column-vector y was passed when a 1d array was expected. Please change the shape of y to (n_samples,), for example using ravel().\n",
      "  estimator.fit(X_train, y_train, **fit_params)\n"
     ]
    },
    {
     "name": "stdout",
     "output_type": "stream",
     "text": [
      "[CV]  bootstrap=True, criterion=entropy, max_depth=5, max_features=auto, n_estimators=50, score=0.954, total=   0.4s\n",
      "[CV] bootstrap=True, criterion=entropy, max_depth=5, max_features=auto, n_estimators=100 \n"
     ]
    },
    {
     "name": "stderr",
     "output_type": "stream",
     "text": [
      "/usr/local/lib/python3.7/site-packages/sklearn/model_selection/_validation.py:514: DataConversionWarning: A column-vector y was passed when a 1d array was expected. Please change the shape of y to (n_samples,), for example using ravel().\n",
      "  estimator.fit(X_train, y_train, **fit_params)\n"
     ]
    },
    {
     "name": "stdout",
     "output_type": "stream",
     "text": [
      "[CV]  bootstrap=True, criterion=entropy, max_depth=5, max_features=auto, n_estimators=100, score=0.957, total=   0.8s\n",
      "[CV] bootstrap=True, criterion=entropy, max_depth=5, max_features=auto, n_estimators=100 \n"
     ]
    },
    {
     "name": "stderr",
     "output_type": "stream",
     "text": [
      "/usr/local/lib/python3.7/site-packages/sklearn/model_selection/_validation.py:514: DataConversionWarning: A column-vector y was passed when a 1d array was expected. Please change the shape of y to (n_samples,), for example using ravel().\n",
      "  estimator.fit(X_train, y_train, **fit_params)\n"
     ]
    },
    {
     "name": "stdout",
     "output_type": "stream",
     "text": [
      "[CV]  bootstrap=True, criterion=entropy, max_depth=5, max_features=auto, n_estimators=100, score=0.958, total=   0.9s\n",
      "[CV] bootstrap=True, criterion=entropy, max_depth=5, max_features=auto, n_estimators=100 \n"
     ]
    },
    {
     "name": "stderr",
     "output_type": "stream",
     "text": [
      "/usr/local/lib/python3.7/site-packages/sklearn/model_selection/_validation.py:514: DataConversionWarning: A column-vector y was passed when a 1d array was expected. Please change the shape of y to (n_samples,), for example using ravel().\n",
      "  estimator.fit(X_train, y_train, **fit_params)\n"
     ]
    },
    {
     "name": "stdout",
     "output_type": "stream",
     "text": [
      "[CV]  bootstrap=True, criterion=entropy, max_depth=5, max_features=auto, n_estimators=100, score=0.955, total=   0.9s\n",
      "[CV] bootstrap=True, criterion=entropy, max_depth=5, max_features=auto, n_estimators=100 \n"
     ]
    },
    {
     "name": "stderr",
     "output_type": "stream",
     "text": [
      "/usr/local/lib/python3.7/site-packages/sklearn/model_selection/_validation.py:514: DataConversionWarning: A column-vector y was passed when a 1d array was expected. Please change the shape of y to (n_samples,), for example using ravel().\n",
      "  estimator.fit(X_train, y_train, **fit_params)\n"
     ]
    },
    {
     "name": "stdout",
     "output_type": "stream",
     "text": [
      "[CV]  bootstrap=True, criterion=entropy, max_depth=5, max_features=auto, n_estimators=100, score=0.954, total=   1.4s\n",
      "[CV] bootstrap=True, criterion=entropy, max_depth=5, max_features=auto, n_estimators=100 \n"
     ]
    },
    {
     "name": "stderr",
     "output_type": "stream",
     "text": [
      "/usr/local/lib/python3.7/site-packages/sklearn/model_selection/_validation.py:514: DataConversionWarning: A column-vector y was passed when a 1d array was expected. Please change the shape of y to (n_samples,), for example using ravel().\n",
      "  estimator.fit(X_train, y_train, **fit_params)\n"
     ]
    },
    {
     "name": "stdout",
     "output_type": "stream",
     "text": [
      "[CV]  bootstrap=True, criterion=entropy, max_depth=5, max_features=auto, n_estimators=100, score=0.957, total=   0.7s\n",
      "[CV] bootstrap=True, criterion=entropy, max_depth=5, max_features=sqrt, n_estimators=10 \n",
      "[CV]  bootstrap=True, criterion=entropy, max_depth=5, max_features=sqrt, n_estimators=10, score=0.956, total=   0.1s\n",
      "[CV] bootstrap=True, criterion=entropy, max_depth=5, max_features=sqrt, n_estimators=10 \n",
      "[CV]  bootstrap=True, criterion=entropy, max_depth=5, max_features=sqrt, n_estimators=10, score=0.955, total=   0.1s\n",
      "[CV] bootstrap=True, criterion=entropy, max_depth=5, max_features=sqrt, n_estimators=10 \n"
     ]
    },
    {
     "name": "stderr",
     "output_type": "stream",
     "text": [
      "/usr/local/lib/python3.7/site-packages/sklearn/model_selection/_validation.py:514: DataConversionWarning: A column-vector y was passed when a 1d array was expected. Please change the shape of y to (n_samples,), for example using ravel().\n",
      "  estimator.fit(X_train, y_train, **fit_params)\n",
      "/usr/local/lib/python3.7/site-packages/sklearn/model_selection/_validation.py:514: DataConversionWarning: A column-vector y was passed when a 1d array was expected. Please change the shape of y to (n_samples,), for example using ravel().\n",
      "  estimator.fit(X_train, y_train, **fit_params)\n",
      "/usr/local/lib/python3.7/site-packages/sklearn/model_selection/_validation.py:514: DataConversionWarning: A column-vector y was passed when a 1d array was expected. Please change the shape of y to (n_samples,), for example using ravel().\n",
      "  estimator.fit(X_train, y_train, **fit_params)\n"
     ]
    },
    {
     "name": "stdout",
     "output_type": "stream",
     "text": [
      "[CV]  bootstrap=True, criterion=entropy, max_depth=5, max_features=sqrt, n_estimators=10, score=0.955, total=   0.1s\n",
      "[CV] bootstrap=True, criterion=entropy, max_depth=5, max_features=sqrt, n_estimators=10 \n",
      "[CV]  bootstrap=True, criterion=entropy, max_depth=5, max_features=sqrt, n_estimators=10, score=0.941, total=   0.1s\n",
      "[CV] bootstrap=True, criterion=entropy, max_depth=5, max_features=sqrt, n_estimators=10 \n",
      "[CV]  bootstrap=True, criterion=entropy, max_depth=5, max_features=sqrt, n_estimators=10, score=0.944, total=   0.1s\n",
      "[CV] bootstrap=True, criterion=entropy, max_depth=5, max_features=sqrt, n_estimators=50 \n"
     ]
    },
    {
     "name": "stderr",
     "output_type": "stream",
     "text": [
      "/usr/local/lib/python3.7/site-packages/sklearn/model_selection/_validation.py:514: DataConversionWarning: A column-vector y was passed when a 1d array was expected. Please change the shape of y to (n_samples,), for example using ravel().\n",
      "  estimator.fit(X_train, y_train, **fit_params)\n",
      "/usr/local/lib/python3.7/site-packages/sklearn/model_selection/_validation.py:514: DataConversionWarning: A column-vector y was passed when a 1d array was expected. Please change the shape of y to (n_samples,), for example using ravel().\n",
      "  estimator.fit(X_train, y_train, **fit_params)\n",
      "/usr/local/lib/python3.7/site-packages/sklearn/model_selection/_validation.py:514: DataConversionWarning: A column-vector y was passed when a 1d array was expected. Please change the shape of y to (n_samples,), for example using ravel().\n",
      "  estimator.fit(X_train, y_train, **fit_params)\n"
     ]
    },
    {
     "name": "stdout",
     "output_type": "stream",
     "text": [
      "[CV]  bootstrap=True, criterion=entropy, max_depth=5, max_features=sqrt, n_estimators=50, score=0.958, total=   0.4s\n",
      "[CV] bootstrap=True, criterion=entropy, max_depth=5, max_features=sqrt, n_estimators=50 \n"
     ]
    },
    {
     "name": "stderr",
     "output_type": "stream",
     "text": [
      "/usr/local/lib/python3.7/site-packages/sklearn/model_selection/_validation.py:514: DataConversionWarning: A column-vector y was passed when a 1d array was expected. Please change the shape of y to (n_samples,), for example using ravel().\n",
      "  estimator.fit(X_train, y_train, **fit_params)\n"
     ]
    },
    {
     "name": "stdout",
     "output_type": "stream",
     "text": [
      "[CV]  bootstrap=True, criterion=entropy, max_depth=5, max_features=sqrt, n_estimators=50, score=0.959, total=   0.4s\n",
      "[CV] bootstrap=True, criterion=entropy, max_depth=5, max_features=sqrt, n_estimators=50 \n"
     ]
    },
    {
     "name": "stderr",
     "output_type": "stream",
     "text": [
      "/usr/local/lib/python3.7/site-packages/sklearn/model_selection/_validation.py:514: DataConversionWarning: A column-vector y was passed when a 1d array was expected. Please change the shape of y to (n_samples,), for example using ravel().\n",
      "  estimator.fit(X_train, y_train, **fit_params)\n"
     ]
    },
    {
     "name": "stdout",
     "output_type": "stream",
     "text": [
      "[CV]  bootstrap=True, criterion=entropy, max_depth=5, max_features=sqrt, n_estimators=50, score=0.954, total=   0.4s\n",
      "[CV] bootstrap=True, criterion=entropy, max_depth=5, max_features=sqrt, n_estimators=50 \n"
     ]
    },
    {
     "name": "stderr",
     "output_type": "stream",
     "text": [
      "/usr/local/lib/python3.7/site-packages/sklearn/model_selection/_validation.py:514: DataConversionWarning: A column-vector y was passed when a 1d array was expected. Please change the shape of y to (n_samples,), for example using ravel().\n",
      "  estimator.fit(X_train, y_train, **fit_params)\n"
     ]
    },
    {
     "name": "stdout",
     "output_type": "stream",
     "text": [
      "[CV]  bootstrap=True, criterion=entropy, max_depth=5, max_features=sqrt, n_estimators=50, score=0.954, total=   0.5s\n",
      "[CV] bootstrap=True, criterion=entropy, max_depth=5, max_features=sqrt, n_estimators=50 \n"
     ]
    },
    {
     "name": "stderr",
     "output_type": "stream",
     "text": [
      "/usr/local/lib/python3.7/site-packages/sklearn/model_selection/_validation.py:514: DataConversionWarning: A column-vector y was passed when a 1d array was expected. Please change the shape of y to (n_samples,), for example using ravel().\n",
      "  estimator.fit(X_train, y_train, **fit_params)\n"
     ]
    },
    {
     "name": "stdout",
     "output_type": "stream",
     "text": [
      "[CV]  bootstrap=True, criterion=entropy, max_depth=5, max_features=sqrt, n_estimators=50, score=0.954, total=   0.5s\n",
      "[CV] bootstrap=True, criterion=entropy, max_depth=5, max_features=sqrt, n_estimators=100 \n"
     ]
    },
    {
     "name": "stderr",
     "output_type": "stream",
     "text": [
      "/usr/local/lib/python3.7/site-packages/sklearn/model_selection/_validation.py:514: DataConversionWarning: A column-vector y was passed when a 1d array was expected. Please change the shape of y to (n_samples,), for example using ravel().\n",
      "  estimator.fit(X_train, y_train, **fit_params)\n"
     ]
    },
    {
     "name": "stdout",
     "output_type": "stream",
     "text": [
      "[CV]  bootstrap=True, criterion=entropy, max_depth=5, max_features=sqrt, n_estimators=100, score=0.957, total=   1.1s\n",
      "[CV] bootstrap=True, criterion=entropy, max_depth=5, max_features=sqrt, n_estimators=100 \n"
     ]
    },
    {
     "name": "stderr",
     "output_type": "stream",
     "text": [
      "/usr/local/lib/python3.7/site-packages/sklearn/model_selection/_validation.py:514: DataConversionWarning: A column-vector y was passed when a 1d array was expected. Please change the shape of y to (n_samples,), for example using ravel().\n",
      "  estimator.fit(X_train, y_train, **fit_params)\n"
     ]
    },
    {
     "name": "stdout",
     "output_type": "stream",
     "text": [
      "[CV]  bootstrap=True, criterion=entropy, max_depth=5, max_features=sqrt, n_estimators=100, score=0.958, total=   1.1s\n",
      "[CV] bootstrap=True, criterion=entropy, max_depth=5, max_features=sqrt, n_estimators=100 \n"
     ]
    },
    {
     "name": "stderr",
     "output_type": "stream",
     "text": [
      "/usr/local/lib/python3.7/site-packages/sklearn/model_selection/_validation.py:514: DataConversionWarning: A column-vector y was passed when a 1d array was expected. Please change the shape of y to (n_samples,), for example using ravel().\n",
      "  estimator.fit(X_train, y_train, **fit_params)\n"
     ]
    },
    {
     "name": "stdout",
     "output_type": "stream",
     "text": [
      "[CV]  bootstrap=True, criterion=entropy, max_depth=5, max_features=sqrt, n_estimators=100, score=0.955, total=   0.9s\n",
      "[CV] bootstrap=True, criterion=entropy, max_depth=5, max_features=sqrt, n_estimators=100 \n"
     ]
    },
    {
     "name": "stderr",
     "output_type": "stream",
     "text": [
      "/usr/local/lib/python3.7/site-packages/sklearn/model_selection/_validation.py:514: DataConversionWarning: A column-vector y was passed when a 1d array was expected. Please change the shape of y to (n_samples,), for example using ravel().\n",
      "  estimator.fit(X_train, y_train, **fit_params)\n"
     ]
    },
    {
     "name": "stdout",
     "output_type": "stream",
     "text": [
      "[CV]  bootstrap=True, criterion=entropy, max_depth=5, max_features=sqrt, n_estimators=100, score=0.954, total=   0.9s\n",
      "[CV] bootstrap=True, criterion=entropy, max_depth=5, max_features=sqrt, n_estimators=100 \n"
     ]
    },
    {
     "name": "stderr",
     "output_type": "stream",
     "text": [
      "/usr/local/lib/python3.7/site-packages/sklearn/model_selection/_validation.py:514: DataConversionWarning: A column-vector y was passed when a 1d array was expected. Please change the shape of y to (n_samples,), for example using ravel().\n",
      "  estimator.fit(X_train, y_train, **fit_params)\n"
     ]
    },
    {
     "name": "stdout",
     "output_type": "stream",
     "text": [
      "[CV]  bootstrap=True, criterion=entropy, max_depth=5, max_features=sqrt, n_estimators=100, score=0.957, total=   0.9s\n",
      "[CV] bootstrap=True, criterion=entropy, max_depth=5, max_features=log2, n_estimators=10 \n",
      "[CV]  bootstrap=True, criterion=entropy, max_depth=5, max_features=log2, n_estimators=10, score=0.938, total=   0.1s\n",
      "[CV] bootstrap=True, criterion=entropy, max_depth=5, max_features=log2, n_estimators=10 \n",
      "[CV]  bootstrap=True, criterion=entropy, max_depth=5, max_features=log2, n_estimators=10, score=0.934, total=   0.1s\n",
      "[CV] bootstrap=True, criterion=entropy, max_depth=5, max_features=log2, n_estimators=10 \n"
     ]
    },
    {
     "name": "stderr",
     "output_type": "stream",
     "text": [
      "/usr/local/lib/python3.7/site-packages/sklearn/model_selection/_validation.py:514: DataConversionWarning: A column-vector y was passed when a 1d array was expected. Please change the shape of y to (n_samples,), for example using ravel().\n",
      "  estimator.fit(X_train, y_train, **fit_params)\n",
      "/usr/local/lib/python3.7/site-packages/sklearn/model_selection/_validation.py:514: DataConversionWarning: A column-vector y was passed when a 1d array was expected. Please change the shape of y to (n_samples,), for example using ravel().\n",
      "  estimator.fit(X_train, y_train, **fit_params)\n",
      "/usr/local/lib/python3.7/site-packages/sklearn/model_selection/_validation.py:514: DataConversionWarning: A column-vector y was passed when a 1d array was expected. Please change the shape of y to (n_samples,), for example using ravel().\n",
      "  estimator.fit(X_train, y_train, **fit_params)\n"
     ]
    },
    {
     "name": "stdout",
     "output_type": "stream",
     "text": [
      "[CV]  bootstrap=True, criterion=entropy, max_depth=5, max_features=log2, n_estimators=10, score=0.949, total=   0.1s\n",
      "[CV] bootstrap=True, criterion=entropy, max_depth=5, max_features=log2, n_estimators=10 \n",
      "[CV]  bootstrap=True, criterion=entropy, max_depth=5, max_features=log2, n_estimators=10, score=0.939, total=   0.1s\n",
      "[CV] bootstrap=True, criterion=entropy, max_depth=5, max_features=log2, n_estimators=10 \n"
     ]
    },
    {
     "name": "stderr",
     "output_type": "stream",
     "text": [
      "/usr/local/lib/python3.7/site-packages/sklearn/model_selection/_validation.py:514: DataConversionWarning: A column-vector y was passed when a 1d array was expected. Please change the shape of y to (n_samples,), for example using ravel().\n",
      "  estimator.fit(X_train, y_train, **fit_params)\n",
      "/usr/local/lib/python3.7/site-packages/sklearn/model_selection/_validation.py:514: DataConversionWarning: A column-vector y was passed when a 1d array was expected. Please change the shape of y to (n_samples,), for example using ravel().\n",
      "  estimator.fit(X_train, y_train, **fit_params)\n"
     ]
    },
    {
     "name": "stdout",
     "output_type": "stream",
     "text": [
      "[CV]  bootstrap=True, criterion=entropy, max_depth=5, max_features=log2, n_estimators=10, score=0.942, total=   0.1s\n",
      "[CV] bootstrap=True, criterion=entropy, max_depth=5, max_features=log2, n_estimators=50 \n"
     ]
    },
    {
     "name": "stderr",
     "output_type": "stream",
     "text": [
      "/usr/local/lib/python3.7/site-packages/sklearn/model_selection/_validation.py:514: DataConversionWarning: A column-vector y was passed when a 1d array was expected. Please change the shape of y to (n_samples,), for example using ravel().\n",
      "  estimator.fit(X_train, y_train, **fit_params)\n"
     ]
    },
    {
     "name": "stdout",
     "output_type": "stream",
     "text": [
      "[CV]  bootstrap=True, criterion=entropy, max_depth=5, max_features=log2, n_estimators=50, score=0.955, total=   0.4s\n",
      "[CV] bootstrap=True, criterion=entropy, max_depth=5, max_features=log2, n_estimators=50 \n"
     ]
    },
    {
     "name": "stderr",
     "output_type": "stream",
     "text": [
      "/usr/local/lib/python3.7/site-packages/sklearn/model_selection/_validation.py:514: DataConversionWarning: A column-vector y was passed when a 1d array was expected. Please change the shape of y to (n_samples,), for example using ravel().\n",
      "  estimator.fit(X_train, y_train, **fit_params)\n"
     ]
    },
    {
     "name": "stdout",
     "output_type": "stream",
     "text": [
      "[CV]  bootstrap=True, criterion=entropy, max_depth=5, max_features=log2, n_estimators=50, score=0.953, total=   0.4s\n",
      "[CV] bootstrap=True, criterion=entropy, max_depth=5, max_features=log2, n_estimators=50 \n"
     ]
    },
    {
     "name": "stderr",
     "output_type": "stream",
     "text": [
      "/usr/local/lib/python3.7/site-packages/sklearn/model_selection/_validation.py:514: DataConversionWarning: A column-vector y was passed when a 1d array was expected. Please change the shape of y to (n_samples,), for example using ravel().\n",
      "  estimator.fit(X_train, y_train, **fit_params)\n"
     ]
    },
    {
     "name": "stdout",
     "output_type": "stream",
     "text": [
      "[CV]  bootstrap=True, criterion=entropy, max_depth=5, max_features=log2, n_estimators=50, score=0.955, total=   0.3s\n",
      "[CV] bootstrap=True, criterion=entropy, max_depth=5, max_features=log2, n_estimators=50 \n"
     ]
    },
    {
     "name": "stderr",
     "output_type": "stream",
     "text": [
      "/usr/local/lib/python3.7/site-packages/sklearn/model_selection/_validation.py:514: DataConversionWarning: A column-vector y was passed when a 1d array was expected. Please change the shape of y to (n_samples,), for example using ravel().\n",
      "  estimator.fit(X_train, y_train, **fit_params)\n"
     ]
    },
    {
     "name": "stdout",
     "output_type": "stream",
     "text": [
      "[CV]  bootstrap=True, criterion=entropy, max_depth=5, max_features=log2, n_estimators=50, score=0.952, total=   0.4s\n",
      "[CV] bootstrap=True, criterion=entropy, max_depth=5, max_features=log2, n_estimators=50 \n"
     ]
    },
    {
     "name": "stderr",
     "output_type": "stream",
     "text": [
      "/usr/local/lib/python3.7/site-packages/sklearn/model_selection/_validation.py:514: DataConversionWarning: A column-vector y was passed when a 1d array was expected. Please change the shape of y to (n_samples,), for example using ravel().\n",
      "  estimator.fit(X_train, y_train, **fit_params)\n"
     ]
    },
    {
     "name": "stdout",
     "output_type": "stream",
     "text": [
      "[CV]  bootstrap=True, criterion=entropy, max_depth=5, max_features=log2, n_estimators=50, score=0.956, total=   0.4s\n",
      "[CV] bootstrap=True, criterion=entropy, max_depth=5, max_features=log2, n_estimators=100 \n"
     ]
    },
    {
     "name": "stderr",
     "output_type": "stream",
     "text": [
      "/usr/local/lib/python3.7/site-packages/sklearn/model_selection/_validation.py:514: DataConversionWarning: A column-vector y was passed when a 1d array was expected. Please change the shape of y to (n_samples,), for example using ravel().\n",
      "  estimator.fit(X_train, y_train, **fit_params)\n"
     ]
    },
    {
     "name": "stdout",
     "output_type": "stream",
     "text": [
      "[CV]  bootstrap=True, criterion=entropy, max_depth=5, max_features=log2, n_estimators=100, score=0.947, total=   0.8s\n",
      "[CV] bootstrap=True, criterion=entropy, max_depth=5, max_features=log2, n_estimators=100 \n"
     ]
    },
    {
     "name": "stderr",
     "output_type": "stream",
     "text": [
      "/usr/local/lib/python3.7/site-packages/sklearn/model_selection/_validation.py:514: DataConversionWarning: A column-vector y was passed when a 1d array was expected. Please change the shape of y to (n_samples,), for example using ravel().\n",
      "  estimator.fit(X_train, y_train, **fit_params)\n"
     ]
    },
    {
     "name": "stdout",
     "output_type": "stream",
     "text": [
      "[CV]  bootstrap=True, criterion=entropy, max_depth=5, max_features=log2, n_estimators=100, score=0.950, total=   0.8s\n",
      "[CV] bootstrap=True, criterion=entropy, max_depth=5, max_features=log2, n_estimators=100 \n"
     ]
    },
    {
     "name": "stderr",
     "output_type": "stream",
     "text": [
      "/usr/local/lib/python3.7/site-packages/sklearn/model_selection/_validation.py:514: DataConversionWarning: A column-vector y was passed when a 1d array was expected. Please change the shape of y to (n_samples,), for example using ravel().\n",
      "  estimator.fit(X_train, y_train, **fit_params)\n"
     ]
    },
    {
     "name": "stdout",
     "output_type": "stream",
     "text": [
      "[CV]  bootstrap=True, criterion=entropy, max_depth=5, max_features=log2, n_estimators=100, score=0.951, total=   0.8s\n",
      "[CV] bootstrap=True, criterion=entropy, max_depth=5, max_features=log2, n_estimators=100 \n"
     ]
    },
    {
     "name": "stderr",
     "output_type": "stream",
     "text": [
      "/usr/local/lib/python3.7/site-packages/sklearn/model_selection/_validation.py:514: DataConversionWarning: A column-vector y was passed when a 1d array was expected. Please change the shape of y to (n_samples,), for example using ravel().\n",
      "  estimator.fit(X_train, y_train, **fit_params)\n"
     ]
    },
    {
     "name": "stdout",
     "output_type": "stream",
     "text": [
      "[CV]  bootstrap=True, criterion=entropy, max_depth=5, max_features=log2, n_estimators=100, score=0.941, total=   0.6s\n",
      "[CV] bootstrap=True, criterion=entropy, max_depth=5, max_features=log2, n_estimators=100 \n"
     ]
    },
    {
     "name": "stderr",
     "output_type": "stream",
     "text": [
      "/usr/local/lib/python3.7/site-packages/sklearn/model_selection/_validation.py:514: DataConversionWarning: A column-vector y was passed when a 1d array was expected. Please change the shape of y to (n_samples,), for example using ravel().\n",
      "  estimator.fit(X_train, y_train, **fit_params)\n"
     ]
    },
    {
     "name": "stdout",
     "output_type": "stream",
     "text": [
      "[CV]  bootstrap=True, criterion=entropy, max_depth=5, max_features=log2, n_estimators=100, score=0.955, total=   0.7s\n",
      "[CV] bootstrap=True, criterion=entropy, max_depth=7, max_features=auto, n_estimators=10 \n",
      "[CV]  bootstrap=True, criterion=entropy, max_depth=7, max_features=auto, n_estimators=10, score=0.954, total=   0.1s\n",
      "[CV] bootstrap=True, criterion=entropy, max_depth=7, max_features=auto, n_estimators=10 \n"
     ]
    },
    {
     "name": "stderr",
     "output_type": "stream",
     "text": [
      "/usr/local/lib/python3.7/site-packages/sklearn/model_selection/_validation.py:514: DataConversionWarning: A column-vector y was passed when a 1d array was expected. Please change the shape of y to (n_samples,), for example using ravel().\n",
      "  estimator.fit(X_train, y_train, **fit_params)\n",
      "/usr/local/lib/python3.7/site-packages/sklearn/model_selection/_validation.py:514: DataConversionWarning: A column-vector y was passed when a 1d array was expected. Please change the shape of y to (n_samples,), for example using ravel().\n",
      "  estimator.fit(X_train, y_train, **fit_params)\n"
     ]
    },
    {
     "name": "stdout",
     "output_type": "stream",
     "text": [
      "[CV]  bootstrap=True, criterion=entropy, max_depth=7, max_features=auto, n_estimators=10, score=0.958, total=   0.1s\n",
      "[CV] bootstrap=True, criterion=entropy, max_depth=7, max_features=auto, n_estimators=10 \n",
      "[CV]  bootstrap=True, criterion=entropy, max_depth=7, max_features=auto, n_estimators=10, score=0.954, total=   0.1s\n",
      "[CV] bootstrap=True, criterion=entropy, max_depth=7, max_features=auto, n_estimators=10 \n"
     ]
    },
    {
     "name": "stderr",
     "output_type": "stream",
     "text": [
      "/usr/local/lib/python3.7/site-packages/sklearn/model_selection/_validation.py:514: DataConversionWarning: A column-vector y was passed when a 1d array was expected. Please change the shape of y to (n_samples,), for example using ravel().\n",
      "  estimator.fit(X_train, y_train, **fit_params)\n",
      "/usr/local/lib/python3.7/site-packages/sklearn/model_selection/_validation.py:514: DataConversionWarning: A column-vector y was passed when a 1d array was expected. Please change the shape of y to (n_samples,), for example using ravel().\n",
      "  estimator.fit(X_train, y_train, **fit_params)\n"
     ]
    },
    {
     "name": "stdout",
     "output_type": "stream",
     "text": [
      "[CV]  bootstrap=True, criterion=entropy, max_depth=7, max_features=auto, n_estimators=10, score=0.957, total=   0.1s\n",
      "[CV] bootstrap=True, criterion=entropy, max_depth=7, max_features=auto, n_estimators=10 \n",
      "[CV]  bootstrap=True, criterion=entropy, max_depth=7, max_features=auto, n_estimators=10, score=0.955, total=   0.1s\n",
      "[CV] bootstrap=True, criterion=entropy, max_depth=7, max_features=auto, n_estimators=50 \n"
     ]
    },
    {
     "name": "stderr",
     "output_type": "stream",
     "text": [
      "/usr/local/lib/python3.7/site-packages/sklearn/model_selection/_validation.py:514: DataConversionWarning: A column-vector y was passed when a 1d array was expected. Please change the shape of y to (n_samples,), for example using ravel().\n",
      "  estimator.fit(X_train, y_train, **fit_params)\n",
      "/usr/local/lib/python3.7/site-packages/sklearn/model_selection/_validation.py:514: DataConversionWarning: A column-vector y was passed when a 1d array was expected. Please change the shape of y to (n_samples,), for example using ravel().\n",
      "  estimator.fit(X_train, y_train, **fit_params)\n"
     ]
    },
    {
     "name": "stdout",
     "output_type": "stream",
     "text": [
      "[CV]  bootstrap=True, criterion=entropy, max_depth=7, max_features=auto, n_estimators=50, score=0.960, total=   0.5s\n",
      "[CV] bootstrap=True, criterion=entropy, max_depth=7, max_features=auto, n_estimators=50 \n"
     ]
    },
    {
     "name": "stderr",
     "output_type": "stream",
     "text": [
      "/usr/local/lib/python3.7/site-packages/sklearn/model_selection/_validation.py:514: DataConversionWarning: A column-vector y was passed when a 1d array was expected. Please change the shape of y to (n_samples,), for example using ravel().\n",
      "  estimator.fit(X_train, y_train, **fit_params)\n"
     ]
    },
    {
     "name": "stdout",
     "output_type": "stream",
     "text": [
      "[CV]  bootstrap=True, criterion=entropy, max_depth=7, max_features=auto, n_estimators=50, score=0.957, total=   0.5s\n",
      "[CV] bootstrap=True, criterion=entropy, max_depth=7, max_features=auto, n_estimators=50 \n"
     ]
    },
    {
     "name": "stderr",
     "output_type": "stream",
     "text": [
      "/usr/local/lib/python3.7/site-packages/sklearn/model_selection/_validation.py:514: DataConversionWarning: A column-vector y was passed when a 1d array was expected. Please change the shape of y to (n_samples,), for example using ravel().\n",
      "  estimator.fit(X_train, y_train, **fit_params)\n"
     ]
    },
    {
     "name": "stdout",
     "output_type": "stream",
     "text": [
      "[CV]  bootstrap=True, criterion=entropy, max_depth=7, max_features=auto, n_estimators=50, score=0.957, total=   0.4s\n",
      "[CV] bootstrap=True, criterion=entropy, max_depth=7, max_features=auto, n_estimators=50 \n"
     ]
    },
    {
     "name": "stderr",
     "output_type": "stream",
     "text": [
      "/usr/local/lib/python3.7/site-packages/sklearn/model_selection/_validation.py:514: DataConversionWarning: A column-vector y was passed when a 1d array was expected. Please change the shape of y to (n_samples,), for example using ravel().\n",
      "  estimator.fit(X_train, y_train, **fit_params)\n"
     ]
    },
    {
     "name": "stdout",
     "output_type": "stream",
     "text": [
      "[CV]  bootstrap=True, criterion=entropy, max_depth=7, max_features=auto, n_estimators=50, score=0.956, total=   0.5s\n",
      "[CV] bootstrap=True, criterion=entropy, max_depth=7, max_features=auto, n_estimators=50 \n"
     ]
    },
    {
     "name": "stderr",
     "output_type": "stream",
     "text": [
      "/usr/local/lib/python3.7/site-packages/sklearn/model_selection/_validation.py:514: DataConversionWarning: A column-vector y was passed when a 1d array was expected. Please change the shape of y to (n_samples,), for example using ravel().\n",
      "  estimator.fit(X_train, y_train, **fit_params)\n"
     ]
    },
    {
     "name": "stdout",
     "output_type": "stream",
     "text": [
      "[CV]  bootstrap=True, criterion=entropy, max_depth=7, max_features=auto, n_estimators=50, score=0.957, total=   0.5s\n",
      "[CV] bootstrap=True, criterion=entropy, max_depth=7, max_features=auto, n_estimators=100 \n"
     ]
    },
    {
     "name": "stderr",
     "output_type": "stream",
     "text": [
      "/usr/local/lib/python3.7/site-packages/sklearn/model_selection/_validation.py:514: DataConversionWarning: A column-vector y was passed when a 1d array was expected. Please change the shape of y to (n_samples,), for example using ravel().\n",
      "  estimator.fit(X_train, y_train, **fit_params)\n"
     ]
    },
    {
     "name": "stdout",
     "output_type": "stream",
     "text": [
      "[CV]  bootstrap=True, criterion=entropy, max_depth=7, max_features=auto, n_estimators=100, score=0.957, total=   1.1s\n",
      "[CV] bootstrap=True, criterion=entropy, max_depth=7, max_features=auto, n_estimators=100 \n"
     ]
    },
    {
     "name": "stderr",
     "output_type": "stream",
     "text": [
      "/usr/local/lib/python3.7/site-packages/sklearn/model_selection/_validation.py:514: DataConversionWarning: A column-vector y was passed when a 1d array was expected. Please change the shape of y to (n_samples,), for example using ravel().\n",
      "  estimator.fit(X_train, y_train, **fit_params)\n"
     ]
    },
    {
     "name": "stdout",
     "output_type": "stream",
     "text": [
      "[CV]  bootstrap=True, criterion=entropy, max_depth=7, max_features=auto, n_estimators=100, score=0.958, total=   0.9s\n",
      "[CV] bootstrap=True, criterion=entropy, max_depth=7, max_features=auto, n_estimators=100 \n"
     ]
    },
    {
     "name": "stderr",
     "output_type": "stream",
     "text": [
      "/usr/local/lib/python3.7/site-packages/sklearn/model_selection/_validation.py:514: DataConversionWarning: A column-vector y was passed when a 1d array was expected. Please change the shape of y to (n_samples,), for example using ravel().\n",
      "  estimator.fit(X_train, y_train, **fit_params)\n"
     ]
    },
    {
     "name": "stdout",
     "output_type": "stream",
     "text": [
      "[CV]  bootstrap=True, criterion=entropy, max_depth=7, max_features=auto, n_estimators=100, score=0.957, total=   0.9s\n",
      "[CV] bootstrap=True, criterion=entropy, max_depth=7, max_features=auto, n_estimators=100 \n"
     ]
    },
    {
     "name": "stderr",
     "output_type": "stream",
     "text": [
      "/usr/local/lib/python3.7/site-packages/sklearn/model_selection/_validation.py:514: DataConversionWarning: A column-vector y was passed when a 1d array was expected. Please change the shape of y to (n_samples,), for example using ravel().\n",
      "  estimator.fit(X_train, y_train, **fit_params)\n"
     ]
    },
    {
     "name": "stdout",
     "output_type": "stream",
     "text": [
      "[CV]  bootstrap=True, criterion=entropy, max_depth=7, max_features=auto, n_estimators=100, score=0.956, total=   1.0s\n",
      "[CV] bootstrap=True, criterion=entropy, max_depth=7, max_features=auto, n_estimators=100 \n"
     ]
    },
    {
     "name": "stderr",
     "output_type": "stream",
     "text": [
      "/usr/local/lib/python3.7/site-packages/sklearn/model_selection/_validation.py:514: DataConversionWarning: A column-vector y was passed when a 1d array was expected. Please change the shape of y to (n_samples,), for example using ravel().\n",
      "  estimator.fit(X_train, y_train, **fit_params)\n"
     ]
    },
    {
     "name": "stdout",
     "output_type": "stream",
     "text": [
      "[CV]  bootstrap=True, criterion=entropy, max_depth=7, max_features=auto, n_estimators=100, score=0.958, total=   1.2s\n",
      "[CV] bootstrap=True, criterion=entropy, max_depth=7, max_features=sqrt, n_estimators=10 \n",
      "[CV]  bootstrap=True, criterion=entropy, max_depth=7, max_features=sqrt, n_estimators=10, score=0.954, total=   0.1s\n",
      "[CV] bootstrap=True, criterion=entropy, max_depth=7, max_features=sqrt, n_estimators=10 \n"
     ]
    },
    {
     "name": "stderr",
     "output_type": "stream",
     "text": [
      "/usr/local/lib/python3.7/site-packages/sklearn/model_selection/_validation.py:514: DataConversionWarning: A column-vector y was passed when a 1d array was expected. Please change the shape of y to (n_samples,), for example using ravel().\n",
      "  estimator.fit(X_train, y_train, **fit_params)\n",
      "/usr/local/lib/python3.7/site-packages/sklearn/model_selection/_validation.py:514: DataConversionWarning: A column-vector y was passed when a 1d array was expected. Please change the shape of y to (n_samples,), for example using ravel().\n",
      "  estimator.fit(X_train, y_train, **fit_params)\n"
     ]
    },
    {
     "name": "stdout",
     "output_type": "stream",
     "text": [
      "[CV]  bootstrap=True, criterion=entropy, max_depth=7, max_features=sqrt, n_estimators=10, score=0.958, total=   0.1s\n",
      "[CV] bootstrap=True, criterion=entropy, max_depth=7, max_features=sqrt, n_estimators=10 \n",
      "[CV]  bootstrap=True, criterion=entropy, max_depth=7, max_features=sqrt, n_estimators=10, score=0.954, total=   0.1s\n",
      "[CV] bootstrap=True, criterion=entropy, max_depth=7, max_features=sqrt, n_estimators=10 \n"
     ]
    },
    {
     "name": "stderr",
     "output_type": "stream",
     "text": [
      "/usr/local/lib/python3.7/site-packages/sklearn/model_selection/_validation.py:514: DataConversionWarning: A column-vector y was passed when a 1d array was expected. Please change the shape of y to (n_samples,), for example using ravel().\n",
      "  estimator.fit(X_train, y_train, **fit_params)\n",
      "/usr/local/lib/python3.7/site-packages/sklearn/model_selection/_validation.py:514: DataConversionWarning: A column-vector y was passed when a 1d array was expected. Please change the shape of y to (n_samples,), for example using ravel().\n",
      "  estimator.fit(X_train, y_train, **fit_params)\n"
     ]
    },
    {
     "name": "stdout",
     "output_type": "stream",
     "text": [
      "[CV]  bootstrap=True, criterion=entropy, max_depth=7, max_features=sqrt, n_estimators=10, score=0.957, total=   0.1s\n",
      "[CV] bootstrap=True, criterion=entropy, max_depth=7, max_features=sqrt, n_estimators=10 \n",
      "[CV]  bootstrap=True, criterion=entropy, max_depth=7, max_features=sqrt, n_estimators=10, score=0.955, total=   0.1s\n",
      "[CV] bootstrap=True, criterion=entropy, max_depth=7, max_features=sqrt, n_estimators=50 \n"
     ]
    },
    {
     "name": "stderr",
     "output_type": "stream",
     "text": [
      "/usr/local/lib/python3.7/site-packages/sklearn/model_selection/_validation.py:514: DataConversionWarning: A column-vector y was passed when a 1d array was expected. Please change the shape of y to (n_samples,), for example using ravel().\n",
      "  estimator.fit(X_train, y_train, **fit_params)\n",
      "/usr/local/lib/python3.7/site-packages/sklearn/model_selection/_validation.py:514: DataConversionWarning: A column-vector y was passed when a 1d array was expected. Please change the shape of y to (n_samples,), for example using ravel().\n",
      "  estimator.fit(X_train, y_train, **fit_params)\n"
     ]
    },
    {
     "name": "stdout",
     "output_type": "stream",
     "text": [
      "[CV]  bootstrap=True, criterion=entropy, max_depth=7, max_features=sqrt, n_estimators=50, score=0.960, total=   0.5s\n",
      "[CV] bootstrap=True, criterion=entropy, max_depth=7, max_features=sqrt, n_estimators=50 \n"
     ]
    },
    {
     "name": "stderr",
     "output_type": "stream",
     "text": [
      "/usr/local/lib/python3.7/site-packages/sklearn/model_selection/_validation.py:514: DataConversionWarning: A column-vector y was passed when a 1d array was expected. Please change the shape of y to (n_samples,), for example using ravel().\n",
      "  estimator.fit(X_train, y_train, **fit_params)\n"
     ]
    },
    {
     "name": "stdout",
     "output_type": "stream",
     "text": [
      "[CV]  bootstrap=True, criterion=entropy, max_depth=7, max_features=sqrt, n_estimators=50, score=0.957, total=   0.5s\n",
      "[CV] bootstrap=True, criterion=entropy, max_depth=7, max_features=sqrt, n_estimators=50 \n"
     ]
    },
    {
     "name": "stderr",
     "output_type": "stream",
     "text": [
      "/usr/local/lib/python3.7/site-packages/sklearn/model_selection/_validation.py:514: DataConversionWarning: A column-vector y was passed when a 1d array was expected. Please change the shape of y to (n_samples,), for example using ravel().\n",
      "  estimator.fit(X_train, y_train, **fit_params)\n"
     ]
    },
    {
     "name": "stdout",
     "output_type": "stream",
     "text": [
      "[CV]  bootstrap=True, criterion=entropy, max_depth=7, max_features=sqrt, n_estimators=50, score=0.957, total=   0.5s\n",
      "[CV] bootstrap=True, criterion=entropy, max_depth=7, max_features=sqrt, n_estimators=50 \n"
     ]
    },
    {
     "name": "stderr",
     "output_type": "stream",
     "text": [
      "/usr/local/lib/python3.7/site-packages/sklearn/model_selection/_validation.py:514: DataConversionWarning: A column-vector y was passed when a 1d array was expected. Please change the shape of y to (n_samples,), for example using ravel().\n",
      "  estimator.fit(X_train, y_train, **fit_params)\n"
     ]
    },
    {
     "name": "stdout",
     "output_type": "stream",
     "text": [
      "[CV]  bootstrap=True, criterion=entropy, max_depth=7, max_features=sqrt, n_estimators=50, score=0.956, total=   0.6s\n",
      "[CV] bootstrap=True, criterion=entropy, max_depth=7, max_features=sqrt, n_estimators=50 \n"
     ]
    },
    {
     "name": "stderr",
     "output_type": "stream",
     "text": [
      "/usr/local/lib/python3.7/site-packages/sklearn/model_selection/_validation.py:514: DataConversionWarning: A column-vector y was passed when a 1d array was expected. Please change the shape of y to (n_samples,), for example using ravel().\n",
      "  estimator.fit(X_train, y_train, **fit_params)\n"
     ]
    },
    {
     "name": "stdout",
     "output_type": "stream",
     "text": [
      "[CV]  bootstrap=True, criterion=entropy, max_depth=7, max_features=sqrt, n_estimators=50, score=0.957, total=   0.6s\n",
      "[CV] bootstrap=True, criterion=entropy, max_depth=7, max_features=sqrt, n_estimators=100 \n"
     ]
    },
    {
     "name": "stderr",
     "output_type": "stream",
     "text": [
      "/usr/local/lib/python3.7/site-packages/sklearn/model_selection/_validation.py:514: DataConversionWarning: A column-vector y was passed when a 1d array was expected. Please change the shape of y to (n_samples,), for example using ravel().\n",
      "  estimator.fit(X_train, y_train, **fit_params)\n"
     ]
    },
    {
     "name": "stdout",
     "output_type": "stream",
     "text": [
      "[CV]  bootstrap=True, criterion=entropy, max_depth=7, max_features=sqrt, n_estimators=100, score=0.957, total=   1.5s\n",
      "[CV] bootstrap=True, criterion=entropy, max_depth=7, max_features=sqrt, n_estimators=100 \n"
     ]
    },
    {
     "name": "stderr",
     "output_type": "stream",
     "text": [
      "/usr/local/lib/python3.7/site-packages/sklearn/model_selection/_validation.py:514: DataConversionWarning: A column-vector y was passed when a 1d array was expected. Please change the shape of y to (n_samples,), for example using ravel().\n",
      "  estimator.fit(X_train, y_train, **fit_params)\n"
     ]
    },
    {
     "name": "stdout",
     "output_type": "stream",
     "text": [
      "[CV]  bootstrap=True, criterion=entropy, max_depth=7, max_features=sqrt, n_estimators=100, score=0.958, total=   1.2s\n",
      "[CV] bootstrap=True, criterion=entropy, max_depth=7, max_features=sqrt, n_estimators=100 \n"
     ]
    },
    {
     "name": "stderr",
     "output_type": "stream",
     "text": [
      "/usr/local/lib/python3.7/site-packages/sklearn/model_selection/_validation.py:514: DataConversionWarning: A column-vector y was passed when a 1d array was expected. Please change the shape of y to (n_samples,), for example using ravel().\n",
      "  estimator.fit(X_train, y_train, **fit_params)\n"
     ]
    },
    {
     "name": "stdout",
     "output_type": "stream",
     "text": [
      "[CV]  bootstrap=True, criterion=entropy, max_depth=7, max_features=sqrt, n_estimators=100, score=0.957, total=   1.2s\n",
      "[CV] bootstrap=True, criterion=entropy, max_depth=7, max_features=sqrt, n_estimators=100 \n"
     ]
    },
    {
     "name": "stderr",
     "output_type": "stream",
     "text": [
      "/usr/local/lib/python3.7/site-packages/sklearn/model_selection/_validation.py:514: DataConversionWarning: A column-vector y was passed when a 1d array was expected. Please change the shape of y to (n_samples,), for example using ravel().\n",
      "  estimator.fit(X_train, y_train, **fit_params)\n"
     ]
    },
    {
     "name": "stdout",
     "output_type": "stream",
     "text": [
      "[CV]  bootstrap=True, criterion=entropy, max_depth=7, max_features=sqrt, n_estimators=100, score=0.956, total=   1.2s\n",
      "[CV] bootstrap=True, criterion=entropy, max_depth=7, max_features=sqrt, n_estimators=100 \n"
     ]
    },
    {
     "name": "stderr",
     "output_type": "stream",
     "text": [
      "/usr/local/lib/python3.7/site-packages/sklearn/model_selection/_validation.py:514: DataConversionWarning: A column-vector y was passed when a 1d array was expected. Please change the shape of y to (n_samples,), for example using ravel().\n",
      "  estimator.fit(X_train, y_train, **fit_params)\n"
     ]
    },
    {
     "name": "stdout",
     "output_type": "stream",
     "text": [
      "[CV]  bootstrap=True, criterion=entropy, max_depth=7, max_features=sqrt, n_estimators=100, score=0.958, total=   1.1s\n",
      "[CV] bootstrap=True, criterion=entropy, max_depth=7, max_features=log2, n_estimators=10 \n",
      "[CV]  bootstrap=True, criterion=entropy, max_depth=7, max_features=log2, n_estimators=10, score=0.950, total=   0.1s\n",
      "[CV] bootstrap=True, criterion=entropy, max_depth=7, max_features=log2, n_estimators=10 \n",
      "[CV]  bootstrap=True, criterion=entropy, max_depth=7, max_features=log2, n_estimators=10, score=0.934, total=   0.1s\n",
      "[CV] bootstrap=True, criterion=entropy, max_depth=7, max_features=log2, n_estimators=10 \n"
     ]
    },
    {
     "name": "stderr",
     "output_type": "stream",
     "text": [
      "/usr/local/lib/python3.7/site-packages/sklearn/model_selection/_validation.py:514: DataConversionWarning: A column-vector y was passed when a 1d array was expected. Please change the shape of y to (n_samples,), for example using ravel().\n",
      "  estimator.fit(X_train, y_train, **fit_params)\n",
      "/usr/local/lib/python3.7/site-packages/sklearn/model_selection/_validation.py:514: DataConversionWarning: A column-vector y was passed when a 1d array was expected. Please change the shape of y to (n_samples,), for example using ravel().\n",
      "  estimator.fit(X_train, y_train, **fit_params)\n",
      "/usr/local/lib/python3.7/site-packages/sklearn/model_selection/_validation.py:514: DataConversionWarning: A column-vector y was passed when a 1d array was expected. Please change the shape of y to (n_samples,), for example using ravel().\n",
      "  estimator.fit(X_train, y_train, **fit_params)\n"
     ]
    },
    {
     "name": "stdout",
     "output_type": "stream",
     "text": [
      "[CV]  bootstrap=True, criterion=entropy, max_depth=7, max_features=log2, n_estimators=10, score=0.954, total=   0.1s\n",
      "[CV] bootstrap=True, criterion=entropy, max_depth=7, max_features=log2, n_estimators=10 \n",
      "[CV]  bootstrap=True, criterion=entropy, max_depth=7, max_features=log2, n_estimators=10, score=0.943, total=   0.1s\n",
      "[CV] bootstrap=True, criterion=entropy, max_depth=7, max_features=log2, n_estimators=10 \n"
     ]
    },
    {
     "name": "stderr",
     "output_type": "stream",
     "text": [
      "/usr/local/lib/python3.7/site-packages/sklearn/model_selection/_validation.py:514: DataConversionWarning: A column-vector y was passed when a 1d array was expected. Please change the shape of y to (n_samples,), for example using ravel().\n",
      "  estimator.fit(X_train, y_train, **fit_params)\n",
      "/usr/local/lib/python3.7/site-packages/sklearn/model_selection/_validation.py:514: DataConversionWarning: A column-vector y was passed when a 1d array was expected. Please change the shape of y to (n_samples,), for example using ravel().\n",
      "  estimator.fit(X_train, y_train, **fit_params)\n"
     ]
    },
    {
     "name": "stdout",
     "output_type": "stream",
     "text": [
      "[CV]  bootstrap=True, criterion=entropy, max_depth=7, max_features=log2, n_estimators=10, score=0.948, total=   0.1s\n",
      "[CV] bootstrap=True, criterion=entropy, max_depth=7, max_features=log2, n_estimators=50 \n"
     ]
    },
    {
     "name": "stderr",
     "output_type": "stream",
     "text": [
      "/usr/local/lib/python3.7/site-packages/sklearn/model_selection/_validation.py:514: DataConversionWarning: A column-vector y was passed when a 1d array was expected. Please change the shape of y to (n_samples,), for example using ravel().\n",
      "  estimator.fit(X_train, y_train, **fit_params)\n"
     ]
    },
    {
     "name": "stdout",
     "output_type": "stream",
     "text": [
      "[CV]  bootstrap=True, criterion=entropy, max_depth=7, max_features=log2, n_estimators=50, score=0.958, total=   0.5s\n",
      "[CV] bootstrap=True, criterion=entropy, max_depth=7, max_features=log2, n_estimators=50 \n"
     ]
    },
    {
     "name": "stderr",
     "output_type": "stream",
     "text": [
      "/usr/local/lib/python3.7/site-packages/sklearn/model_selection/_validation.py:514: DataConversionWarning: A column-vector y was passed when a 1d array was expected. Please change the shape of y to (n_samples,), for example using ravel().\n",
      "  estimator.fit(X_train, y_train, **fit_params)\n"
     ]
    },
    {
     "name": "stdout",
     "output_type": "stream",
     "text": [
      "[CV]  bootstrap=True, criterion=entropy, max_depth=7, max_features=log2, n_estimators=50, score=0.958, total=   0.5s\n",
      "[CV] bootstrap=True, criterion=entropy, max_depth=7, max_features=log2, n_estimators=50 \n"
     ]
    },
    {
     "name": "stderr",
     "output_type": "stream",
     "text": [
      "/usr/local/lib/python3.7/site-packages/sklearn/model_selection/_validation.py:514: DataConversionWarning: A column-vector y was passed when a 1d array was expected. Please change the shape of y to (n_samples,), for example using ravel().\n",
      "  estimator.fit(X_train, y_train, **fit_params)\n"
     ]
    },
    {
     "name": "stdout",
     "output_type": "stream",
     "text": [
      "[CV]  bootstrap=True, criterion=entropy, max_depth=7, max_features=log2, n_estimators=50, score=0.957, total=   0.5s\n",
      "[CV] bootstrap=True, criterion=entropy, max_depth=7, max_features=log2, n_estimators=50 \n"
     ]
    },
    {
     "name": "stderr",
     "output_type": "stream",
     "text": [
      "/usr/local/lib/python3.7/site-packages/sklearn/model_selection/_validation.py:514: DataConversionWarning: A column-vector y was passed when a 1d array was expected. Please change the shape of y to (n_samples,), for example using ravel().\n",
      "  estimator.fit(X_train, y_train, **fit_params)\n"
     ]
    },
    {
     "name": "stdout",
     "output_type": "stream",
     "text": [
      "[CV]  bootstrap=True, criterion=entropy, max_depth=7, max_features=log2, n_estimators=50, score=0.952, total=   0.5s\n",
      "[CV] bootstrap=True, criterion=entropy, max_depth=7, max_features=log2, n_estimators=50 \n"
     ]
    },
    {
     "name": "stderr",
     "output_type": "stream",
     "text": [
      "/usr/local/lib/python3.7/site-packages/sklearn/model_selection/_validation.py:514: DataConversionWarning: A column-vector y was passed when a 1d array was expected. Please change the shape of y to (n_samples,), for example using ravel().\n",
      "  estimator.fit(X_train, y_train, **fit_params)\n"
     ]
    },
    {
     "name": "stdout",
     "output_type": "stream",
     "text": [
      "[CV]  bootstrap=True, criterion=entropy, max_depth=7, max_features=log2, n_estimators=50, score=0.956, total=   0.5s\n",
      "[CV] bootstrap=True, criterion=entropy, max_depth=7, max_features=log2, n_estimators=100 \n"
     ]
    },
    {
     "name": "stderr",
     "output_type": "stream",
     "text": [
      "/usr/local/lib/python3.7/site-packages/sklearn/model_selection/_validation.py:514: DataConversionWarning: A column-vector y was passed when a 1d array was expected. Please change the shape of y to (n_samples,), for example using ravel().\n",
      "  estimator.fit(X_train, y_train, **fit_params)\n"
     ]
    },
    {
     "name": "stdout",
     "output_type": "stream",
     "text": [
      "[CV]  bootstrap=True, criterion=entropy, max_depth=7, max_features=log2, n_estimators=100, score=0.957, total=   0.9s\n",
      "[CV] bootstrap=True, criterion=entropy, max_depth=7, max_features=log2, n_estimators=100 \n"
     ]
    },
    {
     "name": "stderr",
     "output_type": "stream",
     "text": [
      "/usr/local/lib/python3.7/site-packages/sklearn/model_selection/_validation.py:514: DataConversionWarning: A column-vector y was passed when a 1d array was expected. Please change the shape of y to (n_samples,), for example using ravel().\n",
      "  estimator.fit(X_train, y_train, **fit_params)\n"
     ]
    },
    {
     "name": "stdout",
     "output_type": "stream",
     "text": [
      "[CV]  bootstrap=True, criterion=entropy, max_depth=7, max_features=log2, n_estimators=100, score=0.960, total=   0.9s\n",
      "[CV] bootstrap=True, criterion=entropy, max_depth=7, max_features=log2, n_estimators=100 \n"
     ]
    },
    {
     "name": "stderr",
     "output_type": "stream",
     "text": [
      "/usr/local/lib/python3.7/site-packages/sklearn/model_selection/_validation.py:514: DataConversionWarning: A column-vector y was passed when a 1d array was expected. Please change the shape of y to (n_samples,), for example using ravel().\n",
      "  estimator.fit(X_train, y_train, **fit_params)\n"
     ]
    },
    {
     "name": "stdout",
     "output_type": "stream",
     "text": [
      "[CV]  bootstrap=True, criterion=entropy, max_depth=7, max_features=log2, n_estimators=100, score=0.953, total=   0.8s\n",
      "[CV] bootstrap=True, criterion=entropy, max_depth=7, max_features=log2, n_estimators=100 \n"
     ]
    },
    {
     "name": "stderr",
     "output_type": "stream",
     "text": [
      "/usr/local/lib/python3.7/site-packages/sklearn/model_selection/_validation.py:514: DataConversionWarning: A column-vector y was passed when a 1d array was expected. Please change the shape of y to (n_samples,), for example using ravel().\n",
      "  estimator.fit(X_train, y_train, **fit_params)\n"
     ]
    },
    {
     "name": "stdout",
     "output_type": "stream",
     "text": [
      "[CV]  bootstrap=True, criterion=entropy, max_depth=7, max_features=log2, n_estimators=100, score=0.955, total=   0.8s\n",
      "[CV] bootstrap=True, criterion=entropy, max_depth=7, max_features=log2, n_estimators=100 \n"
     ]
    },
    {
     "name": "stderr",
     "output_type": "stream",
     "text": [
      "/usr/local/lib/python3.7/site-packages/sklearn/model_selection/_validation.py:514: DataConversionWarning: A column-vector y was passed when a 1d array was expected. Please change the shape of y to (n_samples,), for example using ravel().\n",
      "  estimator.fit(X_train, y_train, **fit_params)\n"
     ]
    },
    {
     "name": "stdout",
     "output_type": "stream",
     "text": [
      "[CV]  bootstrap=True, criterion=entropy, max_depth=7, max_features=log2, n_estimators=100, score=0.958, total=   0.9s\n",
      "[CV] bootstrap=True, criterion=entropy, max_depth=9, max_features=auto, n_estimators=10 \n"
     ]
    },
    {
     "name": "stderr",
     "output_type": "stream",
     "text": [
      "/usr/local/lib/python3.7/site-packages/sklearn/model_selection/_validation.py:514: DataConversionWarning: A column-vector y was passed when a 1d array was expected. Please change the shape of y to (n_samples,), for example using ravel().\n",
      "  estimator.fit(X_train, y_train, **fit_params)\n"
     ]
    },
    {
     "name": "stdout",
     "output_type": "stream",
     "text": [
      "[CV]  bootstrap=True, criterion=entropy, max_depth=9, max_features=auto, n_estimators=10, score=0.956, total=   0.2s\n",
      "[CV] bootstrap=True, criterion=entropy, max_depth=9, max_features=auto, n_estimators=10 \n",
      "[CV]  bootstrap=True, criterion=entropy, max_depth=9, max_features=auto, n_estimators=10, score=0.961, total=   0.2s\n",
      "[CV] bootstrap=True, criterion=entropy, max_depth=9, max_features=auto, n_estimators=10 \n"
     ]
    },
    {
     "name": "stderr",
     "output_type": "stream",
     "text": [
      "/usr/local/lib/python3.7/site-packages/sklearn/model_selection/_validation.py:514: DataConversionWarning: A column-vector y was passed when a 1d array was expected. Please change the shape of y to (n_samples,), for example using ravel().\n",
      "  estimator.fit(X_train, y_train, **fit_params)\n",
      "/usr/local/lib/python3.7/site-packages/sklearn/model_selection/_validation.py:514: DataConversionWarning: A column-vector y was passed when a 1d array was expected. Please change the shape of y to (n_samples,), for example using ravel().\n",
      "  estimator.fit(X_train, y_train, **fit_params)\n"
     ]
    },
    {
     "name": "stdout",
     "output_type": "stream",
     "text": [
      "[CV]  bootstrap=True, criterion=entropy, max_depth=9, max_features=auto, n_estimators=10, score=0.957, total=   0.2s\n",
      "[CV] bootstrap=True, criterion=entropy, max_depth=9, max_features=auto, n_estimators=10 \n"
     ]
    },
    {
     "name": "stderr",
     "output_type": "stream",
     "text": [
      "/usr/local/lib/python3.7/site-packages/sklearn/model_selection/_validation.py:514: DataConversionWarning: A column-vector y was passed when a 1d array was expected. Please change the shape of y to (n_samples,), for example using ravel().\n",
      "  estimator.fit(X_train, y_train, **fit_params)\n"
     ]
    },
    {
     "name": "stdout",
     "output_type": "stream",
     "text": [
      "[CV]  bootstrap=True, criterion=entropy, max_depth=9, max_features=auto, n_estimators=10, score=0.954, total=   0.2s\n",
      "[CV] bootstrap=True, criterion=entropy, max_depth=9, max_features=auto, n_estimators=10 \n",
      "[CV]  bootstrap=True, criterion=entropy, max_depth=9, max_features=auto, n_estimators=10, score=0.954, total=   0.2s\n",
      "[CV] bootstrap=True, criterion=entropy, max_depth=9, max_features=auto, n_estimators=50 \n"
     ]
    },
    {
     "name": "stderr",
     "output_type": "stream",
     "text": [
      "/usr/local/lib/python3.7/site-packages/sklearn/model_selection/_validation.py:514: DataConversionWarning: A column-vector y was passed when a 1d array was expected. Please change the shape of y to (n_samples,), for example using ravel().\n",
      "  estimator.fit(X_train, y_train, **fit_params)\n",
      "/usr/local/lib/python3.7/site-packages/sklearn/model_selection/_validation.py:514: DataConversionWarning: A column-vector y was passed when a 1d array was expected. Please change the shape of y to (n_samples,), for example using ravel().\n",
      "  estimator.fit(X_train, y_train, **fit_params)\n"
     ]
    },
    {
     "name": "stdout",
     "output_type": "stream",
     "text": [
      "[CV]  bootstrap=True, criterion=entropy, max_depth=9, max_features=auto, n_estimators=50, score=0.958, total=   0.6s\n",
      "[CV] bootstrap=True, criterion=entropy, max_depth=9, max_features=auto, n_estimators=50 \n"
     ]
    },
    {
     "name": "stderr",
     "output_type": "stream",
     "text": [
      "/usr/local/lib/python3.7/site-packages/sklearn/model_selection/_validation.py:514: DataConversionWarning: A column-vector y was passed when a 1d array was expected. Please change the shape of y to (n_samples,), for example using ravel().\n",
      "  estimator.fit(X_train, y_train, **fit_params)\n"
     ]
    },
    {
     "name": "stdout",
     "output_type": "stream",
     "text": [
      "[CV]  bootstrap=True, criterion=entropy, max_depth=9, max_features=auto, n_estimators=50, score=0.959, total=   0.5s\n",
      "[CV] bootstrap=True, criterion=entropy, max_depth=9, max_features=auto, n_estimators=50 \n"
     ]
    },
    {
     "name": "stderr",
     "output_type": "stream",
     "text": [
      "/usr/local/lib/python3.7/site-packages/sklearn/model_selection/_validation.py:514: DataConversionWarning: A column-vector y was passed when a 1d array was expected. Please change the shape of y to (n_samples,), for example using ravel().\n",
      "  estimator.fit(X_train, y_train, **fit_params)\n"
     ]
    },
    {
     "name": "stdout",
     "output_type": "stream",
     "text": [
      "[CV]  bootstrap=True, criterion=entropy, max_depth=9, max_features=auto, n_estimators=50, score=0.957, total=   0.5s\n",
      "[CV] bootstrap=True, criterion=entropy, max_depth=9, max_features=auto, n_estimators=50 \n"
     ]
    },
    {
     "name": "stderr",
     "output_type": "stream",
     "text": [
      "/usr/local/lib/python3.7/site-packages/sklearn/model_selection/_validation.py:514: DataConversionWarning: A column-vector y was passed when a 1d array was expected. Please change the shape of y to (n_samples,), for example using ravel().\n",
      "  estimator.fit(X_train, y_train, **fit_params)\n"
     ]
    },
    {
     "name": "stdout",
     "output_type": "stream",
     "text": [
      "[CV]  bootstrap=True, criterion=entropy, max_depth=9, max_features=auto, n_estimators=50, score=0.957, total=   0.5s\n",
      "[CV] bootstrap=True, criterion=entropy, max_depth=9, max_features=auto, n_estimators=50 \n"
     ]
    },
    {
     "name": "stderr",
     "output_type": "stream",
     "text": [
      "/usr/local/lib/python3.7/site-packages/sklearn/model_selection/_validation.py:514: DataConversionWarning: A column-vector y was passed when a 1d array was expected. Please change the shape of y to (n_samples,), for example using ravel().\n",
      "  estimator.fit(X_train, y_train, **fit_params)\n"
     ]
    },
    {
     "name": "stdout",
     "output_type": "stream",
     "text": [
      "[CV]  bootstrap=True, criterion=entropy, max_depth=9, max_features=auto, n_estimators=50, score=0.959, total=   0.6s\n",
      "[CV] bootstrap=True, criterion=entropy, max_depth=9, max_features=auto, n_estimators=100 \n"
     ]
    },
    {
     "name": "stderr",
     "output_type": "stream",
     "text": [
      "/usr/local/lib/python3.7/site-packages/sklearn/model_selection/_validation.py:514: DataConversionWarning: A column-vector y was passed when a 1d array was expected. Please change the shape of y to (n_samples,), for example using ravel().\n",
      "  estimator.fit(X_train, y_train, **fit_params)\n"
     ]
    },
    {
     "name": "stdout",
     "output_type": "stream",
     "text": [
      "[CV]  bootstrap=True, criterion=entropy, max_depth=9, max_features=auto, n_estimators=100, score=0.958, total=   1.1s\n",
      "[CV] bootstrap=True, criterion=entropy, max_depth=9, max_features=auto, n_estimators=100 \n"
     ]
    },
    {
     "name": "stderr",
     "output_type": "stream",
     "text": [
      "/usr/local/lib/python3.7/site-packages/sklearn/model_selection/_validation.py:514: DataConversionWarning: A column-vector y was passed when a 1d array was expected. Please change the shape of y to (n_samples,), for example using ravel().\n",
      "  estimator.fit(X_train, y_train, **fit_params)\n"
     ]
    },
    {
     "name": "stdout",
     "output_type": "stream",
     "text": [
      "[CV]  bootstrap=True, criterion=entropy, max_depth=9, max_features=auto, n_estimators=100, score=0.959, total=   1.0s\n",
      "[CV] bootstrap=True, criterion=entropy, max_depth=9, max_features=auto, n_estimators=100 \n"
     ]
    },
    {
     "name": "stderr",
     "output_type": "stream",
     "text": [
      "/usr/local/lib/python3.7/site-packages/sklearn/model_selection/_validation.py:514: DataConversionWarning: A column-vector y was passed when a 1d array was expected. Please change the shape of y to (n_samples,), for example using ravel().\n",
      "  estimator.fit(X_train, y_train, **fit_params)\n"
     ]
    },
    {
     "name": "stdout",
     "output_type": "stream",
     "text": [
      "[CV]  bootstrap=True, criterion=entropy, max_depth=9, max_features=auto, n_estimators=100, score=0.958, total=   1.0s\n",
      "[CV] bootstrap=True, criterion=entropy, max_depth=9, max_features=auto, n_estimators=100 \n"
     ]
    },
    {
     "name": "stderr",
     "output_type": "stream",
     "text": [
      "/usr/local/lib/python3.7/site-packages/sklearn/model_selection/_validation.py:514: DataConversionWarning: A column-vector y was passed when a 1d array was expected. Please change the shape of y to (n_samples,), for example using ravel().\n",
      "  estimator.fit(X_train, y_train, **fit_params)\n"
     ]
    },
    {
     "name": "stdout",
     "output_type": "stream",
     "text": [
      "[CV]  bootstrap=True, criterion=entropy, max_depth=9, max_features=auto, n_estimators=100, score=0.957, total=   1.0s\n",
      "[CV] bootstrap=True, criterion=entropy, max_depth=9, max_features=auto, n_estimators=100 \n"
     ]
    },
    {
     "name": "stderr",
     "output_type": "stream",
     "text": [
      "/usr/local/lib/python3.7/site-packages/sklearn/model_selection/_validation.py:514: DataConversionWarning: A column-vector y was passed when a 1d array was expected. Please change the shape of y to (n_samples,), for example using ravel().\n",
      "  estimator.fit(X_train, y_train, **fit_params)\n"
     ]
    },
    {
     "name": "stdout",
     "output_type": "stream",
     "text": [
      "[CV]  bootstrap=True, criterion=entropy, max_depth=9, max_features=auto, n_estimators=100, score=0.959, total=   1.6s\n",
      "[CV] bootstrap=True, criterion=entropy, max_depth=9, max_features=sqrt, n_estimators=10 \n",
      "[CV]  bootstrap=True, criterion=entropy, max_depth=9, max_features=sqrt, n_estimators=10, score=0.956, total=   0.1s\n",
      "[CV] bootstrap=True, criterion=entropy, max_depth=9, max_features=sqrt, n_estimators=10 \n"
     ]
    },
    {
     "name": "stderr",
     "output_type": "stream",
     "text": [
      "/usr/local/lib/python3.7/site-packages/sklearn/model_selection/_validation.py:514: DataConversionWarning: A column-vector y was passed when a 1d array was expected. Please change the shape of y to (n_samples,), for example using ravel().\n",
      "  estimator.fit(X_train, y_train, **fit_params)\n",
      "/usr/local/lib/python3.7/site-packages/sklearn/model_selection/_validation.py:514: DataConversionWarning: A column-vector y was passed when a 1d array was expected. Please change the shape of y to (n_samples,), for example using ravel().\n",
      "  estimator.fit(X_train, y_train, **fit_params)\n"
     ]
    },
    {
     "name": "stdout",
     "output_type": "stream",
     "text": [
      "[CV]  bootstrap=True, criterion=entropy, max_depth=9, max_features=sqrt, n_estimators=10, score=0.961, total=   0.1s\n",
      "[CV] bootstrap=True, criterion=entropy, max_depth=9, max_features=sqrt, n_estimators=10 \n",
      "[CV]  bootstrap=True, criterion=entropy, max_depth=9, max_features=sqrt, n_estimators=10, score=0.957, total=   0.1s\n",
      "[CV] bootstrap=True, criterion=entropy, max_depth=9, max_features=sqrt, n_estimators=10 \n"
     ]
    },
    {
     "name": "stderr",
     "output_type": "stream",
     "text": [
      "/usr/local/lib/python3.7/site-packages/sklearn/model_selection/_validation.py:514: DataConversionWarning: A column-vector y was passed when a 1d array was expected. Please change the shape of y to (n_samples,), for example using ravel().\n",
      "  estimator.fit(X_train, y_train, **fit_params)\n",
      "/usr/local/lib/python3.7/site-packages/sklearn/model_selection/_validation.py:514: DataConversionWarning: A column-vector y was passed when a 1d array was expected. Please change the shape of y to (n_samples,), for example using ravel().\n",
      "  estimator.fit(X_train, y_train, **fit_params)\n"
     ]
    },
    {
     "name": "stdout",
     "output_type": "stream",
     "text": [
      "[CV]  bootstrap=True, criterion=entropy, max_depth=9, max_features=sqrt, n_estimators=10, score=0.954, total=   0.1s\n",
      "[CV] bootstrap=True, criterion=entropy, max_depth=9, max_features=sqrt, n_estimators=10 \n",
      "[CV]  bootstrap=True, criterion=entropy, max_depth=9, max_features=sqrt, n_estimators=10, score=0.954, total=   0.1s\n",
      "[CV] bootstrap=True, criterion=entropy, max_depth=9, max_features=sqrt, n_estimators=50 \n"
     ]
    },
    {
     "name": "stderr",
     "output_type": "stream",
     "text": [
      "/usr/local/lib/python3.7/site-packages/sklearn/model_selection/_validation.py:514: DataConversionWarning: A column-vector y was passed when a 1d array was expected. Please change the shape of y to (n_samples,), for example using ravel().\n",
      "  estimator.fit(X_train, y_train, **fit_params)\n",
      "/usr/local/lib/python3.7/site-packages/sklearn/model_selection/_validation.py:514: DataConversionWarning: A column-vector y was passed when a 1d array was expected. Please change the shape of y to (n_samples,), for example using ravel().\n",
      "  estimator.fit(X_train, y_train, **fit_params)\n"
     ]
    },
    {
     "name": "stdout",
     "output_type": "stream",
     "text": [
      "[CV]  bootstrap=True, criterion=entropy, max_depth=9, max_features=sqrt, n_estimators=50, score=0.958, total=   0.6s\n",
      "[CV] bootstrap=True, criterion=entropy, max_depth=9, max_features=sqrt, n_estimators=50 \n"
     ]
    },
    {
     "name": "stderr",
     "output_type": "stream",
     "text": [
      "/usr/local/lib/python3.7/site-packages/sklearn/model_selection/_validation.py:514: DataConversionWarning: A column-vector y was passed when a 1d array was expected. Please change the shape of y to (n_samples,), for example using ravel().\n",
      "  estimator.fit(X_train, y_train, **fit_params)\n"
     ]
    },
    {
     "name": "stdout",
     "output_type": "stream",
     "text": [
      "[CV]  bootstrap=True, criterion=entropy, max_depth=9, max_features=sqrt, n_estimators=50, score=0.959, total=   0.6s\n",
      "[CV] bootstrap=True, criterion=entropy, max_depth=9, max_features=sqrt, n_estimators=50 \n"
     ]
    },
    {
     "name": "stderr",
     "output_type": "stream",
     "text": [
      "/usr/local/lib/python3.7/site-packages/sklearn/model_selection/_validation.py:514: DataConversionWarning: A column-vector y was passed when a 1d array was expected. Please change the shape of y to (n_samples,), for example using ravel().\n",
      "  estimator.fit(X_train, y_train, **fit_params)\n"
     ]
    },
    {
     "name": "stdout",
     "output_type": "stream",
     "text": [
      "[CV]  bootstrap=True, criterion=entropy, max_depth=9, max_features=sqrt, n_estimators=50, score=0.957, total=   0.6s\n",
      "[CV] bootstrap=True, criterion=entropy, max_depth=9, max_features=sqrt, n_estimators=50 \n"
     ]
    },
    {
     "name": "stderr",
     "output_type": "stream",
     "text": [
      "/usr/local/lib/python3.7/site-packages/sklearn/model_selection/_validation.py:514: DataConversionWarning: A column-vector y was passed when a 1d array was expected. Please change the shape of y to (n_samples,), for example using ravel().\n",
      "  estimator.fit(X_train, y_train, **fit_params)\n"
     ]
    },
    {
     "name": "stdout",
     "output_type": "stream",
     "text": [
      "[CV]  bootstrap=True, criterion=entropy, max_depth=9, max_features=sqrt, n_estimators=50, score=0.957, total=   0.5s\n",
      "[CV] bootstrap=True, criterion=entropy, max_depth=9, max_features=sqrt, n_estimators=50 \n"
     ]
    },
    {
     "name": "stderr",
     "output_type": "stream",
     "text": [
      "/usr/local/lib/python3.7/site-packages/sklearn/model_selection/_validation.py:514: DataConversionWarning: A column-vector y was passed when a 1d array was expected. Please change the shape of y to (n_samples,), for example using ravel().\n",
      "  estimator.fit(X_train, y_train, **fit_params)\n"
     ]
    },
    {
     "name": "stdout",
     "output_type": "stream",
     "text": [
      "[CV]  bootstrap=True, criterion=entropy, max_depth=9, max_features=sqrt, n_estimators=50, score=0.959, total=   0.5s\n",
      "[CV] bootstrap=True, criterion=entropy, max_depth=9, max_features=sqrt, n_estimators=100 \n"
     ]
    },
    {
     "name": "stderr",
     "output_type": "stream",
     "text": [
      "/usr/local/lib/python3.7/site-packages/sklearn/model_selection/_validation.py:514: DataConversionWarning: A column-vector y was passed when a 1d array was expected. Please change the shape of y to (n_samples,), for example using ravel().\n",
      "  estimator.fit(X_train, y_train, **fit_params)\n"
     ]
    },
    {
     "name": "stdout",
     "output_type": "stream",
     "text": [
      "[CV]  bootstrap=True, criterion=entropy, max_depth=9, max_features=sqrt, n_estimators=100, score=0.958, total=   1.1s\n",
      "[CV] bootstrap=True, criterion=entropy, max_depth=9, max_features=sqrt, n_estimators=100 \n"
     ]
    },
    {
     "name": "stderr",
     "output_type": "stream",
     "text": [
      "/usr/local/lib/python3.7/site-packages/sklearn/model_selection/_validation.py:514: DataConversionWarning: A column-vector y was passed when a 1d array was expected. Please change the shape of y to (n_samples,), for example using ravel().\n",
      "  estimator.fit(X_train, y_train, **fit_params)\n"
     ]
    },
    {
     "name": "stdout",
     "output_type": "stream",
     "text": [
      "[CV]  bootstrap=True, criterion=entropy, max_depth=9, max_features=sqrt, n_estimators=100, score=0.959, total=   1.1s\n",
      "[CV] bootstrap=True, criterion=entropy, max_depth=9, max_features=sqrt, n_estimators=100 \n"
     ]
    },
    {
     "name": "stderr",
     "output_type": "stream",
     "text": [
      "/usr/local/lib/python3.7/site-packages/sklearn/model_selection/_validation.py:514: DataConversionWarning: A column-vector y was passed when a 1d array was expected. Please change the shape of y to (n_samples,), for example using ravel().\n",
      "  estimator.fit(X_train, y_train, **fit_params)\n"
     ]
    },
    {
     "name": "stdout",
     "output_type": "stream",
     "text": [
      "[CV]  bootstrap=True, criterion=entropy, max_depth=9, max_features=sqrt, n_estimators=100, score=0.958, total=   1.1s\n",
      "[CV] bootstrap=True, criterion=entropy, max_depth=9, max_features=sqrt, n_estimators=100 \n"
     ]
    },
    {
     "name": "stderr",
     "output_type": "stream",
     "text": [
      "/usr/local/lib/python3.7/site-packages/sklearn/model_selection/_validation.py:514: DataConversionWarning: A column-vector y was passed when a 1d array was expected. Please change the shape of y to (n_samples,), for example using ravel().\n",
      "  estimator.fit(X_train, y_train, **fit_params)\n"
     ]
    },
    {
     "name": "stdout",
     "output_type": "stream",
     "text": [
      "[CV]  bootstrap=True, criterion=entropy, max_depth=9, max_features=sqrt, n_estimators=100, score=0.957, total=   1.2s\n",
      "[CV] bootstrap=True, criterion=entropy, max_depth=9, max_features=sqrt, n_estimators=100 \n"
     ]
    },
    {
     "name": "stderr",
     "output_type": "stream",
     "text": [
      "/usr/local/lib/python3.7/site-packages/sklearn/model_selection/_validation.py:514: DataConversionWarning: A column-vector y was passed when a 1d array was expected. Please change the shape of y to (n_samples,), for example using ravel().\n",
      "  estimator.fit(X_train, y_train, **fit_params)\n"
     ]
    },
    {
     "name": "stdout",
     "output_type": "stream",
     "text": [
      "[CV]  bootstrap=True, criterion=entropy, max_depth=9, max_features=sqrt, n_estimators=100, score=0.959, total=   1.2s\n",
      "[CV] bootstrap=True, criterion=entropy, max_depth=9, max_features=log2, n_estimators=10 \n",
      "[CV]  bootstrap=True, criterion=entropy, max_depth=9, max_features=log2, n_estimators=10, score=0.950, total=   0.1s\n",
      "[CV] bootstrap=True, criterion=entropy, max_depth=9, max_features=log2, n_estimators=10 \n"
     ]
    },
    {
     "name": "stderr",
     "output_type": "stream",
     "text": [
      "/usr/local/lib/python3.7/site-packages/sklearn/model_selection/_validation.py:514: DataConversionWarning: A column-vector y was passed when a 1d array was expected. Please change the shape of y to (n_samples,), for example using ravel().\n",
      "  estimator.fit(X_train, y_train, **fit_params)\n",
      "/usr/local/lib/python3.7/site-packages/sklearn/model_selection/_validation.py:514: DataConversionWarning: A column-vector y was passed when a 1d array was expected. Please change the shape of y to (n_samples,), for example using ravel().\n",
      "  estimator.fit(X_train, y_train, **fit_params)\n"
     ]
    },
    {
     "name": "stdout",
     "output_type": "stream",
     "text": [
      "[CV]  bootstrap=True, criterion=entropy, max_depth=9, max_features=log2, n_estimators=10, score=0.960, total=   0.1s\n",
      "[CV] bootstrap=True, criterion=entropy, max_depth=9, max_features=log2, n_estimators=10 \n",
      "[CV]  bootstrap=True, criterion=entropy, max_depth=9, max_features=log2, n_estimators=10, score=0.956, total=   0.1s\n",
      "[CV] bootstrap=True, criterion=entropy, max_depth=9, max_features=log2, n_estimators=10 \n"
     ]
    },
    {
     "name": "stderr",
     "output_type": "stream",
     "text": [
      "/usr/local/lib/python3.7/site-packages/sklearn/model_selection/_validation.py:514: DataConversionWarning: A column-vector y was passed when a 1d array was expected. Please change the shape of y to (n_samples,), for example using ravel().\n",
      "  estimator.fit(X_train, y_train, **fit_params)\n",
      "/usr/local/lib/python3.7/site-packages/sklearn/model_selection/_validation.py:514: DataConversionWarning: A column-vector y was passed when a 1d array was expected. Please change the shape of y to (n_samples,), for example using ravel().\n",
      "  estimator.fit(X_train, y_train, **fit_params)\n"
     ]
    },
    {
     "name": "stdout",
     "output_type": "stream",
     "text": [
      "[CV]  bootstrap=True, criterion=entropy, max_depth=9, max_features=log2, n_estimators=10, score=0.955, total=   0.1s\n",
      "[CV] bootstrap=True, criterion=entropy, max_depth=9, max_features=log2, n_estimators=10 \n",
      "[CV]  bootstrap=True, criterion=entropy, max_depth=9, max_features=log2, n_estimators=10, score=0.955, total=   0.1s\n",
      "[CV] bootstrap=True, criterion=entropy, max_depth=9, max_features=log2, n_estimators=50 \n"
     ]
    },
    {
     "name": "stderr",
     "output_type": "stream",
     "text": [
      "/usr/local/lib/python3.7/site-packages/sklearn/model_selection/_validation.py:514: DataConversionWarning: A column-vector y was passed when a 1d array was expected. Please change the shape of y to (n_samples,), for example using ravel().\n",
      "  estimator.fit(X_train, y_train, **fit_params)\n",
      "/usr/local/lib/python3.7/site-packages/sklearn/model_selection/_validation.py:514: DataConversionWarning: A column-vector y was passed when a 1d array was expected. Please change the shape of y to (n_samples,), for example using ravel().\n",
      "  estimator.fit(X_train, y_train, **fit_params)\n"
     ]
    },
    {
     "name": "stdout",
     "output_type": "stream",
     "text": [
      "[CV]  bootstrap=True, criterion=entropy, max_depth=9, max_features=log2, n_estimators=50, score=0.958, total=   0.5s\n",
      "[CV] bootstrap=True, criterion=entropy, max_depth=9, max_features=log2, n_estimators=50 \n"
     ]
    },
    {
     "name": "stderr",
     "output_type": "stream",
     "text": [
      "/usr/local/lib/python3.7/site-packages/sklearn/model_selection/_validation.py:514: DataConversionWarning: A column-vector y was passed when a 1d array was expected. Please change the shape of y to (n_samples,), for example using ravel().\n",
      "  estimator.fit(X_train, y_train, **fit_params)\n"
     ]
    },
    {
     "name": "stdout",
     "output_type": "stream",
     "text": [
      "[CV]  bootstrap=True, criterion=entropy, max_depth=9, max_features=log2, n_estimators=50, score=0.961, total=   0.5s\n",
      "[CV] bootstrap=True, criterion=entropy, max_depth=9, max_features=log2, n_estimators=50 \n"
     ]
    },
    {
     "name": "stderr",
     "output_type": "stream",
     "text": [
      "/usr/local/lib/python3.7/site-packages/sklearn/model_selection/_validation.py:514: DataConversionWarning: A column-vector y was passed when a 1d array was expected. Please change the shape of y to (n_samples,), for example using ravel().\n",
      "  estimator.fit(X_train, y_train, **fit_params)\n"
     ]
    },
    {
     "name": "stdout",
     "output_type": "stream",
     "text": [
      "[CV]  bootstrap=True, criterion=entropy, max_depth=9, max_features=log2, n_estimators=50, score=0.957, total=   0.4s\n",
      "[CV] bootstrap=True, criterion=entropy, max_depth=9, max_features=log2, n_estimators=50 \n"
     ]
    },
    {
     "name": "stderr",
     "output_type": "stream",
     "text": [
      "/usr/local/lib/python3.7/site-packages/sklearn/model_selection/_validation.py:514: DataConversionWarning: A column-vector y was passed when a 1d array was expected. Please change the shape of y to (n_samples,), for example using ravel().\n",
      "  estimator.fit(X_train, y_train, **fit_params)\n"
     ]
    },
    {
     "name": "stdout",
     "output_type": "stream",
     "text": [
      "[CV]  bootstrap=True, criterion=entropy, max_depth=9, max_features=log2, n_estimators=50, score=0.957, total=   0.6s\n",
      "[CV] bootstrap=True, criterion=entropy, max_depth=9, max_features=log2, n_estimators=50 \n"
     ]
    },
    {
     "name": "stderr",
     "output_type": "stream",
     "text": [
      "/usr/local/lib/python3.7/site-packages/sklearn/model_selection/_validation.py:514: DataConversionWarning: A column-vector y was passed when a 1d array was expected. Please change the shape of y to (n_samples,), for example using ravel().\n",
      "  estimator.fit(X_train, y_train, **fit_params)\n"
     ]
    },
    {
     "name": "stdout",
     "output_type": "stream",
     "text": [
      "[CV]  bootstrap=True, criterion=entropy, max_depth=9, max_features=log2, n_estimators=50, score=0.960, total=   0.5s\n",
      "[CV] bootstrap=True, criterion=entropy, max_depth=9, max_features=log2, n_estimators=100 \n"
     ]
    },
    {
     "name": "stderr",
     "output_type": "stream",
     "text": [
      "/usr/local/lib/python3.7/site-packages/sklearn/model_selection/_validation.py:514: DataConversionWarning: A column-vector y was passed when a 1d array was expected. Please change the shape of y to (n_samples,), for example using ravel().\n",
      "  estimator.fit(X_train, y_train, **fit_params)\n"
     ]
    },
    {
     "name": "stdout",
     "output_type": "stream",
     "text": [
      "[CV]  bootstrap=True, criterion=entropy, max_depth=9, max_features=log2, n_estimators=100, score=0.959, total=   1.0s\n",
      "[CV] bootstrap=True, criterion=entropy, max_depth=9, max_features=log2, n_estimators=100 \n"
     ]
    },
    {
     "name": "stderr",
     "output_type": "stream",
     "text": [
      "/usr/local/lib/python3.7/site-packages/sklearn/model_selection/_validation.py:514: DataConversionWarning: A column-vector y was passed when a 1d array was expected. Please change the shape of y to (n_samples,), for example using ravel().\n",
      "  estimator.fit(X_train, y_train, **fit_params)\n"
     ]
    },
    {
     "name": "stdout",
     "output_type": "stream",
     "text": [
      "[CV]  bootstrap=True, criterion=entropy, max_depth=9, max_features=log2, n_estimators=100, score=0.960, total=   1.2s\n",
      "[CV] bootstrap=True, criterion=entropy, max_depth=9, max_features=log2, n_estimators=100 \n"
     ]
    },
    {
     "name": "stderr",
     "output_type": "stream",
     "text": [
      "/usr/local/lib/python3.7/site-packages/sklearn/model_selection/_validation.py:514: DataConversionWarning: A column-vector y was passed when a 1d array was expected. Please change the shape of y to (n_samples,), for example using ravel().\n",
      "  estimator.fit(X_train, y_train, **fit_params)\n"
     ]
    },
    {
     "name": "stdout",
     "output_type": "stream",
     "text": [
      "[CV]  bootstrap=True, criterion=entropy, max_depth=9, max_features=log2, n_estimators=100, score=0.957, total=   1.0s\n",
      "[CV] bootstrap=True, criterion=entropy, max_depth=9, max_features=log2, n_estimators=100 \n"
     ]
    },
    {
     "name": "stderr",
     "output_type": "stream",
     "text": [
      "/usr/local/lib/python3.7/site-packages/sklearn/model_selection/_validation.py:514: DataConversionWarning: A column-vector y was passed when a 1d array was expected. Please change the shape of y to (n_samples,), for example using ravel().\n",
      "  estimator.fit(X_train, y_train, **fit_params)\n"
     ]
    },
    {
     "name": "stdout",
     "output_type": "stream",
     "text": [
      "[CV]  bootstrap=True, criterion=entropy, max_depth=9, max_features=log2, n_estimators=100, score=0.957, total=   1.1s\n",
      "[CV] bootstrap=True, criterion=entropy, max_depth=9, max_features=log2, n_estimators=100 \n"
     ]
    },
    {
     "name": "stderr",
     "output_type": "stream",
     "text": [
      "/usr/local/lib/python3.7/site-packages/sklearn/model_selection/_validation.py:514: DataConversionWarning: A column-vector y was passed when a 1d array was expected. Please change the shape of y to (n_samples,), for example using ravel().\n",
      "  estimator.fit(X_train, y_train, **fit_params)\n"
     ]
    },
    {
     "name": "stdout",
     "output_type": "stream",
     "text": [
      "[CV]  bootstrap=True, criterion=entropy, max_depth=9, max_features=log2, n_estimators=100, score=0.960, total=   1.1s\n",
      "[CV] bootstrap=False, criterion=gini, max_depth=3, max_features=auto, n_estimators=10 \n",
      "[CV]  bootstrap=False, criterion=gini, max_depth=3, max_features=auto, n_estimators=10, score=0.958, total=   0.1s\n",
      "[CV] bootstrap=False, criterion=gini, max_depth=3, max_features=auto, n_estimators=10 \n",
      "[CV]  bootstrap=False, criterion=gini, max_depth=3, max_features=auto, n_estimators=10, score=0.935, total=   0.1s\n",
      "[CV] bootstrap=False, criterion=gini, max_depth=3, max_features=auto, n_estimators=10 \n"
     ]
    },
    {
     "name": "stderr",
     "output_type": "stream",
     "text": [
      "/usr/local/lib/python3.7/site-packages/sklearn/model_selection/_validation.py:514: DataConversionWarning: A column-vector y was passed when a 1d array was expected. Please change the shape of y to (n_samples,), for example using ravel().\n",
      "  estimator.fit(X_train, y_train, **fit_params)\n",
      "/usr/local/lib/python3.7/site-packages/sklearn/model_selection/_validation.py:514: DataConversionWarning: A column-vector y was passed when a 1d array was expected. Please change the shape of y to (n_samples,), for example using ravel().\n",
      "  estimator.fit(X_train, y_train, **fit_params)\n",
      "/usr/local/lib/python3.7/site-packages/sklearn/model_selection/_validation.py:514: DataConversionWarning: A column-vector y was passed when a 1d array was expected. Please change the shape of y to (n_samples,), for example using ravel().\n",
      "  estimator.fit(X_train, y_train, **fit_params)\n"
     ]
    },
    {
     "name": "stdout",
     "output_type": "stream",
     "text": [
      "[CV]  bootstrap=False, criterion=gini, max_depth=3, max_features=auto, n_estimators=10, score=0.958, total=   0.1s\n",
      "[CV] bootstrap=False, criterion=gini, max_depth=3, max_features=auto, n_estimators=10 \n",
      "[CV]  bootstrap=False, criterion=gini, max_depth=3, max_features=auto, n_estimators=10, score=0.956, total=   0.1s\n",
      "[CV] bootstrap=False, criterion=gini, max_depth=3, max_features=auto, n_estimators=10 \n",
      "[CV]  bootstrap=False, criterion=gini, max_depth=3, max_features=auto, n_estimators=10, score=0.959, total=   0.1s\n",
      "[CV] bootstrap=False, criterion=gini, max_depth=3, max_features=auto, n_estimators=50 \n"
     ]
    },
    {
     "name": "stderr",
     "output_type": "stream",
     "text": [
      "/usr/local/lib/python3.7/site-packages/sklearn/model_selection/_validation.py:514: DataConversionWarning: A column-vector y was passed when a 1d array was expected. Please change the shape of y to (n_samples,), for example using ravel().\n",
      "  estimator.fit(X_train, y_train, **fit_params)\n",
      "/usr/local/lib/python3.7/site-packages/sklearn/model_selection/_validation.py:514: DataConversionWarning: A column-vector y was passed when a 1d array was expected. Please change the shape of y to (n_samples,), for example using ravel().\n",
      "  estimator.fit(X_train, y_train, **fit_params)\n",
      "/usr/local/lib/python3.7/site-packages/sklearn/model_selection/_validation.py:514: DataConversionWarning: A column-vector y was passed when a 1d array was expected. Please change the shape of y to (n_samples,), for example using ravel().\n",
      "  estimator.fit(X_train, y_train, **fit_params)\n"
     ]
    },
    {
     "name": "stdout",
     "output_type": "stream",
     "text": [
      "[CV]  bootstrap=False, criterion=gini, max_depth=3, max_features=auto, n_estimators=50, score=0.958, total=   0.3s\n",
      "[CV] bootstrap=False, criterion=gini, max_depth=3, max_features=auto, n_estimators=50 \n"
     ]
    },
    {
     "name": "stderr",
     "output_type": "stream",
     "text": [
      "/usr/local/lib/python3.7/site-packages/sklearn/model_selection/_validation.py:514: DataConversionWarning: A column-vector y was passed when a 1d array was expected. Please change the shape of y to (n_samples,), for example using ravel().\n",
      "  estimator.fit(X_train, y_train, **fit_params)\n"
     ]
    },
    {
     "name": "stdout",
     "output_type": "stream",
     "text": [
      "[CV]  bootstrap=False, criterion=gini, max_depth=3, max_features=auto, n_estimators=50, score=0.958, total=   0.3s\n",
      "[CV] bootstrap=False, criterion=gini, max_depth=3, max_features=auto, n_estimators=50 \n"
     ]
    },
    {
     "name": "stderr",
     "output_type": "stream",
     "text": [
      "/usr/local/lib/python3.7/site-packages/sklearn/model_selection/_validation.py:514: DataConversionWarning: A column-vector y was passed when a 1d array was expected. Please change the shape of y to (n_samples,), for example using ravel().\n",
      "  estimator.fit(X_train, y_train, **fit_params)\n"
     ]
    },
    {
     "name": "stdout",
     "output_type": "stream",
     "text": [
      "[CV]  bootstrap=False, criterion=gini, max_depth=3, max_features=auto, n_estimators=50, score=0.955, total=   0.4s\n",
      "[CV] bootstrap=False, criterion=gini, max_depth=3, max_features=auto, n_estimators=50 \n"
     ]
    },
    {
     "name": "stderr",
     "output_type": "stream",
     "text": [
      "/usr/local/lib/python3.7/site-packages/sklearn/model_selection/_validation.py:514: DataConversionWarning: A column-vector y was passed when a 1d array was expected. Please change the shape of y to (n_samples,), for example using ravel().\n",
      "  estimator.fit(X_train, y_train, **fit_params)\n"
     ]
    },
    {
     "name": "stdout",
     "output_type": "stream",
     "text": [
      "[CV]  bootstrap=False, criterion=gini, max_depth=3, max_features=auto, n_estimators=50, score=0.954, total=   0.4s\n",
      "[CV] bootstrap=False, criterion=gini, max_depth=3, max_features=auto, n_estimators=50 \n"
     ]
    },
    {
     "name": "stderr",
     "output_type": "stream",
     "text": [
      "/usr/local/lib/python3.7/site-packages/sklearn/model_selection/_validation.py:514: DataConversionWarning: A column-vector y was passed when a 1d array was expected. Please change the shape of y to (n_samples,), for example using ravel().\n",
      "  estimator.fit(X_train, y_train, **fit_params)\n"
     ]
    },
    {
     "name": "stdout",
     "output_type": "stream",
     "text": [
      "[CV]  bootstrap=False, criterion=gini, max_depth=3, max_features=auto, n_estimators=50, score=0.951, total=   0.3s\n",
      "[CV] bootstrap=False, criterion=gini, max_depth=3, max_features=auto, n_estimators=100 \n"
     ]
    },
    {
     "name": "stderr",
     "output_type": "stream",
     "text": [
      "/usr/local/lib/python3.7/site-packages/sklearn/model_selection/_validation.py:514: DataConversionWarning: A column-vector y was passed when a 1d array was expected. Please change the shape of y to (n_samples,), for example using ravel().\n",
      "  estimator.fit(X_train, y_train, **fit_params)\n"
     ]
    },
    {
     "name": "stdout",
     "output_type": "stream",
     "text": [
      "[CV]  bootstrap=False, criterion=gini, max_depth=3, max_features=auto, n_estimators=100, score=0.948, total=   0.6s\n",
      "[CV] bootstrap=False, criterion=gini, max_depth=3, max_features=auto, n_estimators=100 \n"
     ]
    },
    {
     "name": "stderr",
     "output_type": "stream",
     "text": [
      "/usr/local/lib/python3.7/site-packages/sklearn/model_selection/_validation.py:514: DataConversionWarning: A column-vector y was passed when a 1d array was expected. Please change the shape of y to (n_samples,), for example using ravel().\n",
      "  estimator.fit(X_train, y_train, **fit_params)\n"
     ]
    },
    {
     "name": "stdout",
     "output_type": "stream",
     "text": [
      "[CV]  bootstrap=False, criterion=gini, max_depth=3, max_features=auto, n_estimators=100, score=0.952, total=   0.8s\n",
      "[CV] bootstrap=False, criterion=gini, max_depth=3, max_features=auto, n_estimators=100 \n"
     ]
    },
    {
     "name": "stderr",
     "output_type": "stream",
     "text": [
      "/usr/local/lib/python3.7/site-packages/sklearn/model_selection/_validation.py:514: DataConversionWarning: A column-vector y was passed when a 1d array was expected. Please change the shape of y to (n_samples,), for example using ravel().\n",
      "  estimator.fit(X_train, y_train, **fit_params)\n"
     ]
    },
    {
     "name": "stdout",
     "output_type": "stream",
     "text": [
      "[CV]  bootstrap=False, criterion=gini, max_depth=3, max_features=auto, n_estimators=100, score=0.948, total=   0.7s\n",
      "[CV] bootstrap=False, criterion=gini, max_depth=3, max_features=auto, n_estimators=100 \n"
     ]
    },
    {
     "name": "stderr",
     "output_type": "stream",
     "text": [
      "/usr/local/lib/python3.7/site-packages/sklearn/model_selection/_validation.py:514: DataConversionWarning: A column-vector y was passed when a 1d array was expected. Please change the shape of y to (n_samples,), for example using ravel().\n",
      "  estimator.fit(X_train, y_train, **fit_params)\n"
     ]
    },
    {
     "name": "stdout",
     "output_type": "stream",
     "text": [
      "[CV]  bootstrap=False, criterion=gini, max_depth=3, max_features=auto, n_estimators=100, score=0.942, total=   0.7s\n",
      "[CV] bootstrap=False, criterion=gini, max_depth=3, max_features=auto, n_estimators=100 \n"
     ]
    },
    {
     "name": "stderr",
     "output_type": "stream",
     "text": [
      "/usr/local/lib/python3.7/site-packages/sklearn/model_selection/_validation.py:514: DataConversionWarning: A column-vector y was passed when a 1d array was expected. Please change the shape of y to (n_samples,), for example using ravel().\n",
      "  estimator.fit(X_train, y_train, **fit_params)\n"
     ]
    },
    {
     "name": "stdout",
     "output_type": "stream",
     "text": [
      "[CV]  bootstrap=False, criterion=gini, max_depth=3, max_features=auto, n_estimators=100, score=0.946, total=   1.0s\n",
      "[CV] bootstrap=False, criterion=gini, max_depth=3, max_features=sqrt, n_estimators=10 \n",
      "[CV]  bootstrap=False, criterion=gini, max_depth=3, max_features=sqrt, n_estimators=10, score=0.958, total=   0.1s\n",
      "[CV] bootstrap=False, criterion=gini, max_depth=3, max_features=sqrt, n_estimators=10 \n",
      "[CV]  bootstrap=False, criterion=gini, max_depth=3, max_features=sqrt, n_estimators=10, score=0.935, total=   0.1s\n",
      "[CV] bootstrap=False, criterion=gini, max_depth=3, max_features=sqrt, n_estimators=10 \n"
     ]
    },
    {
     "name": "stderr",
     "output_type": "stream",
     "text": [
      "/usr/local/lib/python3.7/site-packages/sklearn/model_selection/_validation.py:514: DataConversionWarning: A column-vector y was passed when a 1d array was expected. Please change the shape of y to (n_samples,), for example using ravel().\n",
      "  estimator.fit(X_train, y_train, **fit_params)\n",
      "/usr/local/lib/python3.7/site-packages/sklearn/model_selection/_validation.py:514: DataConversionWarning: A column-vector y was passed when a 1d array was expected. Please change the shape of y to (n_samples,), for example using ravel().\n",
      "  estimator.fit(X_train, y_train, **fit_params)\n",
      "/usr/local/lib/python3.7/site-packages/sklearn/model_selection/_validation.py:514: DataConversionWarning: A column-vector y was passed when a 1d array was expected. Please change the shape of y to (n_samples,), for example using ravel().\n",
      "  estimator.fit(X_train, y_train, **fit_params)\n"
     ]
    },
    {
     "name": "stdout",
     "output_type": "stream",
     "text": [
      "[CV]  bootstrap=False, criterion=gini, max_depth=3, max_features=sqrt, n_estimators=10, score=0.958, total=   0.1s\n",
      "[CV] bootstrap=False, criterion=gini, max_depth=3, max_features=sqrt, n_estimators=10 \n",
      "[CV]  bootstrap=False, criterion=gini, max_depth=3, max_features=sqrt, n_estimators=10, score=0.956, total=   0.1s\n",
      "[CV] bootstrap=False, criterion=gini, max_depth=3, max_features=sqrt, n_estimators=10 \n",
      "[CV]  bootstrap=False, criterion=gini, max_depth=3, max_features=sqrt, n_estimators=10, score=0.959, total=   0.1s\n",
      "[CV] bootstrap=False, criterion=gini, max_depth=3, max_features=sqrt, n_estimators=50 \n"
     ]
    },
    {
     "name": "stderr",
     "output_type": "stream",
     "text": [
      "/usr/local/lib/python3.7/site-packages/sklearn/model_selection/_validation.py:514: DataConversionWarning: A column-vector y was passed when a 1d array was expected. Please change the shape of y to (n_samples,), for example using ravel().\n",
      "  estimator.fit(X_train, y_train, **fit_params)\n",
      "/usr/local/lib/python3.7/site-packages/sklearn/model_selection/_validation.py:514: DataConversionWarning: A column-vector y was passed when a 1d array was expected. Please change the shape of y to (n_samples,), for example using ravel().\n",
      "  estimator.fit(X_train, y_train, **fit_params)\n",
      "/usr/local/lib/python3.7/site-packages/sklearn/model_selection/_validation.py:514: DataConversionWarning: A column-vector y was passed when a 1d array was expected. Please change the shape of y to (n_samples,), for example using ravel().\n",
      "  estimator.fit(X_train, y_train, **fit_params)\n"
     ]
    },
    {
     "name": "stdout",
     "output_type": "stream",
     "text": [
      "[CV]  bootstrap=False, criterion=gini, max_depth=3, max_features=sqrt, n_estimators=50, score=0.958, total=   0.3s\n",
      "[CV] bootstrap=False, criterion=gini, max_depth=3, max_features=sqrt, n_estimators=50 \n"
     ]
    },
    {
     "name": "stderr",
     "output_type": "stream",
     "text": [
      "/usr/local/lib/python3.7/site-packages/sklearn/model_selection/_validation.py:514: DataConversionWarning: A column-vector y was passed when a 1d array was expected. Please change the shape of y to (n_samples,), for example using ravel().\n",
      "  estimator.fit(X_train, y_train, **fit_params)\n"
     ]
    },
    {
     "name": "stdout",
     "output_type": "stream",
     "text": [
      "[CV]  bootstrap=False, criterion=gini, max_depth=3, max_features=sqrt, n_estimators=50, score=0.958, total=   0.3s\n",
      "[CV] bootstrap=False, criterion=gini, max_depth=3, max_features=sqrt, n_estimators=50 \n"
     ]
    },
    {
     "name": "stderr",
     "output_type": "stream",
     "text": [
      "/usr/local/lib/python3.7/site-packages/sklearn/model_selection/_validation.py:514: DataConversionWarning: A column-vector y was passed when a 1d array was expected. Please change the shape of y to (n_samples,), for example using ravel().\n",
      "  estimator.fit(X_train, y_train, **fit_params)\n"
     ]
    },
    {
     "name": "stdout",
     "output_type": "stream",
     "text": [
      "[CV]  bootstrap=False, criterion=gini, max_depth=3, max_features=sqrt, n_estimators=50, score=0.955, total=   0.4s\n",
      "[CV] bootstrap=False, criterion=gini, max_depth=3, max_features=sqrt, n_estimators=50 \n"
     ]
    },
    {
     "name": "stderr",
     "output_type": "stream",
     "text": [
      "/usr/local/lib/python3.7/site-packages/sklearn/model_selection/_validation.py:514: DataConversionWarning: A column-vector y was passed when a 1d array was expected. Please change the shape of y to (n_samples,), for example using ravel().\n",
      "  estimator.fit(X_train, y_train, **fit_params)\n"
     ]
    },
    {
     "name": "stdout",
     "output_type": "stream",
     "text": [
      "[CV]  bootstrap=False, criterion=gini, max_depth=3, max_features=sqrt, n_estimators=50, score=0.954, total=   0.5s\n",
      "[CV] bootstrap=False, criterion=gini, max_depth=3, max_features=sqrt, n_estimators=50 \n"
     ]
    },
    {
     "name": "stderr",
     "output_type": "stream",
     "text": [
      "/usr/local/lib/python3.7/site-packages/sklearn/model_selection/_validation.py:514: DataConversionWarning: A column-vector y was passed when a 1d array was expected. Please change the shape of y to (n_samples,), for example using ravel().\n",
      "  estimator.fit(X_train, y_train, **fit_params)\n"
     ]
    },
    {
     "name": "stdout",
     "output_type": "stream",
     "text": [
      "[CV]  bootstrap=False, criterion=gini, max_depth=3, max_features=sqrt, n_estimators=50, score=0.951, total=   0.4s\n",
      "[CV] bootstrap=False, criterion=gini, max_depth=3, max_features=sqrt, n_estimators=100 \n"
     ]
    },
    {
     "name": "stderr",
     "output_type": "stream",
     "text": [
      "/usr/local/lib/python3.7/site-packages/sklearn/model_selection/_validation.py:514: DataConversionWarning: A column-vector y was passed when a 1d array was expected. Please change the shape of y to (n_samples,), for example using ravel().\n",
      "  estimator.fit(X_train, y_train, **fit_params)\n"
     ]
    },
    {
     "name": "stdout",
     "output_type": "stream",
     "text": [
      "[CV]  bootstrap=False, criterion=gini, max_depth=3, max_features=sqrt, n_estimators=100, score=0.948, total=   0.9s\n",
      "[CV] bootstrap=False, criterion=gini, max_depth=3, max_features=sqrt, n_estimators=100 \n"
     ]
    },
    {
     "name": "stderr",
     "output_type": "stream",
     "text": [
      "/usr/local/lib/python3.7/site-packages/sklearn/model_selection/_validation.py:514: DataConversionWarning: A column-vector y was passed when a 1d array was expected. Please change the shape of y to (n_samples,), for example using ravel().\n",
      "  estimator.fit(X_train, y_train, **fit_params)\n"
     ]
    },
    {
     "name": "stdout",
     "output_type": "stream",
     "text": [
      "[CV]  bootstrap=False, criterion=gini, max_depth=3, max_features=sqrt, n_estimators=100, score=0.952, total=   0.7s\n",
      "[CV] bootstrap=False, criterion=gini, max_depth=3, max_features=sqrt, n_estimators=100 \n"
     ]
    },
    {
     "name": "stderr",
     "output_type": "stream",
     "text": [
      "/usr/local/lib/python3.7/site-packages/sklearn/model_selection/_validation.py:514: DataConversionWarning: A column-vector y was passed when a 1d array was expected. Please change the shape of y to (n_samples,), for example using ravel().\n",
      "  estimator.fit(X_train, y_train, **fit_params)\n"
     ]
    },
    {
     "name": "stdout",
     "output_type": "stream",
     "text": [
      "[CV]  bootstrap=False, criterion=gini, max_depth=3, max_features=sqrt, n_estimators=100, score=0.948, total=   0.7s\n",
      "[CV] bootstrap=False, criterion=gini, max_depth=3, max_features=sqrt, n_estimators=100 \n"
     ]
    },
    {
     "name": "stderr",
     "output_type": "stream",
     "text": [
      "/usr/local/lib/python3.7/site-packages/sklearn/model_selection/_validation.py:514: DataConversionWarning: A column-vector y was passed when a 1d array was expected. Please change the shape of y to (n_samples,), for example using ravel().\n",
      "  estimator.fit(X_train, y_train, **fit_params)\n"
     ]
    },
    {
     "name": "stdout",
     "output_type": "stream",
     "text": [
      "[CV]  bootstrap=False, criterion=gini, max_depth=3, max_features=sqrt, n_estimators=100, score=0.942, total=   0.6s\n",
      "[CV] bootstrap=False, criterion=gini, max_depth=3, max_features=sqrt, n_estimators=100 \n"
     ]
    },
    {
     "name": "stderr",
     "output_type": "stream",
     "text": [
      "/usr/local/lib/python3.7/site-packages/sklearn/model_selection/_validation.py:514: DataConversionWarning: A column-vector y was passed when a 1d array was expected. Please change the shape of y to (n_samples,), for example using ravel().\n",
      "  estimator.fit(X_train, y_train, **fit_params)\n"
     ]
    },
    {
     "name": "stdout",
     "output_type": "stream",
     "text": [
      "[CV]  bootstrap=False, criterion=gini, max_depth=3, max_features=sqrt, n_estimators=100, score=0.946, total=   0.6s\n",
      "[CV] bootstrap=False, criterion=gini, max_depth=3, max_features=log2, n_estimators=10 \n",
      "[CV]  bootstrap=False, criterion=gini, max_depth=3, max_features=log2, n_estimators=10, score=0.900, total=   0.1s\n",
      "[CV] bootstrap=False, criterion=gini, max_depth=3, max_features=log2, n_estimators=10 \n",
      "[CV]  bootstrap=False, criterion=gini, max_depth=3, max_features=log2, n_estimators=10, score=0.900, total=   0.1s\n",
      "[CV] bootstrap=False, criterion=gini, max_depth=3, max_features=log2, n_estimators=10 \n"
     ]
    },
    {
     "name": "stderr",
     "output_type": "stream",
     "text": [
      "/usr/local/lib/python3.7/site-packages/sklearn/model_selection/_validation.py:514: DataConversionWarning: A column-vector y was passed when a 1d array was expected. Please change the shape of y to (n_samples,), for example using ravel().\n",
      "  estimator.fit(X_train, y_train, **fit_params)\n",
      "/usr/local/lib/python3.7/site-packages/sklearn/model_selection/_validation.py:514: DataConversionWarning: A column-vector y was passed when a 1d array was expected. Please change the shape of y to (n_samples,), for example using ravel().\n",
      "  estimator.fit(X_train, y_train, **fit_params)\n",
      "/usr/local/lib/python3.7/site-packages/sklearn/model_selection/_validation.py:514: DataConversionWarning: A column-vector y was passed when a 1d array was expected. Please change the shape of y to (n_samples,), for example using ravel().\n",
      "  estimator.fit(X_train, y_train, **fit_params)\n"
     ]
    },
    {
     "name": "stdout",
     "output_type": "stream",
     "text": [
      "[CV]  bootstrap=False, criterion=gini, max_depth=3, max_features=log2, n_estimators=10, score=0.904, total=   0.1s\n",
      "[CV] bootstrap=False, criterion=gini, max_depth=3, max_features=log2, n_estimators=10 \n",
      "[CV]  bootstrap=False, criterion=gini, max_depth=3, max_features=log2, n_estimators=10, score=0.906, total=   0.1s\n",
      "[CV] bootstrap=False, criterion=gini, max_depth=3, max_features=log2, n_estimators=10 \n",
      "[CV]  bootstrap=False, criterion=gini, max_depth=3, max_features=log2, n_estimators=10, score=0.898, total=   0.1s\n",
      "[CV] bootstrap=False, criterion=gini, max_depth=3, max_features=log2, n_estimators=50 \n"
     ]
    },
    {
     "name": "stderr",
     "output_type": "stream",
     "text": [
      "/usr/local/lib/python3.7/site-packages/sklearn/model_selection/_validation.py:514: DataConversionWarning: A column-vector y was passed when a 1d array was expected. Please change the shape of y to (n_samples,), for example using ravel().\n",
      "  estimator.fit(X_train, y_train, **fit_params)\n",
      "/usr/local/lib/python3.7/site-packages/sklearn/model_selection/_validation.py:514: DataConversionWarning: A column-vector y was passed when a 1d array was expected. Please change the shape of y to (n_samples,), for example using ravel().\n",
      "  estimator.fit(X_train, y_train, **fit_params)\n",
      "/usr/local/lib/python3.7/site-packages/sklearn/model_selection/_validation.py:514: DataConversionWarning: A column-vector y was passed when a 1d array was expected. Please change the shape of y to (n_samples,), for example using ravel().\n",
      "  estimator.fit(X_train, y_train, **fit_params)\n"
     ]
    },
    {
     "name": "stdout",
     "output_type": "stream",
     "text": [
      "[CV]  bootstrap=False, criterion=gini, max_depth=3, max_features=log2, n_estimators=50, score=0.927, total=   0.3s\n",
      "[CV] bootstrap=False, criterion=gini, max_depth=3, max_features=log2, n_estimators=50 \n"
     ]
    },
    {
     "name": "stderr",
     "output_type": "stream",
     "text": [
      "/usr/local/lib/python3.7/site-packages/sklearn/model_selection/_validation.py:514: DataConversionWarning: A column-vector y was passed when a 1d array was expected. Please change the shape of y to (n_samples,), for example using ravel().\n",
      "  estimator.fit(X_train, y_train, **fit_params)\n"
     ]
    },
    {
     "name": "stdout",
     "output_type": "stream",
     "text": [
      "[CV]  bootstrap=False, criterion=gini, max_depth=3, max_features=log2, n_estimators=50, score=0.931, total=   0.3s\n",
      "[CV] bootstrap=False, criterion=gini, max_depth=3, max_features=log2, n_estimators=50 \n"
     ]
    },
    {
     "name": "stderr",
     "output_type": "stream",
     "text": [
      "/usr/local/lib/python3.7/site-packages/sklearn/model_selection/_validation.py:514: DataConversionWarning: A column-vector y was passed when a 1d array was expected. Please change the shape of y to (n_samples,), for example using ravel().\n",
      "  estimator.fit(X_train, y_train, **fit_params)\n"
     ]
    },
    {
     "name": "stdout",
     "output_type": "stream",
     "text": [
      "[CV]  bootstrap=False, criterion=gini, max_depth=3, max_features=log2, n_estimators=50, score=0.931, total=   0.3s\n",
      "[CV] bootstrap=False, criterion=gini, max_depth=3, max_features=log2, n_estimators=50 \n"
     ]
    },
    {
     "name": "stderr",
     "output_type": "stream",
     "text": [
      "/usr/local/lib/python3.7/site-packages/sklearn/model_selection/_validation.py:514: DataConversionWarning: A column-vector y was passed when a 1d array was expected. Please change the shape of y to (n_samples,), for example using ravel().\n",
      "  estimator.fit(X_train, y_train, **fit_params)\n"
     ]
    },
    {
     "name": "stdout",
     "output_type": "stream",
     "text": [
      "[CV]  bootstrap=False, criterion=gini, max_depth=3, max_features=log2, n_estimators=50, score=0.921, total=   0.3s\n",
      "[CV] bootstrap=False, criterion=gini, max_depth=3, max_features=log2, n_estimators=50 \n"
     ]
    },
    {
     "name": "stderr",
     "output_type": "stream",
     "text": [
      "/usr/local/lib/python3.7/site-packages/sklearn/model_selection/_validation.py:514: DataConversionWarning: A column-vector y was passed when a 1d array was expected. Please change the shape of y to (n_samples,), for example using ravel().\n",
      "  estimator.fit(X_train, y_train, **fit_params)\n"
     ]
    },
    {
     "name": "stdout",
     "output_type": "stream",
     "text": [
      "[CV]  bootstrap=False, criterion=gini, max_depth=3, max_features=log2, n_estimators=50, score=0.923, total=   0.4s\n",
      "[CV] bootstrap=False, criterion=gini, max_depth=3, max_features=log2, n_estimators=100 \n"
     ]
    },
    {
     "name": "stderr",
     "output_type": "stream",
     "text": [
      "/usr/local/lib/python3.7/site-packages/sklearn/model_selection/_validation.py:514: DataConversionWarning: A column-vector y was passed when a 1d array was expected. Please change the shape of y to (n_samples,), for example using ravel().\n",
      "  estimator.fit(X_train, y_train, **fit_params)\n"
     ]
    },
    {
     "name": "stdout",
     "output_type": "stream",
     "text": [
      "[CV]  bootstrap=False, criterion=gini, max_depth=3, max_features=log2, n_estimators=100, score=0.925, total=   0.6s\n",
      "[CV] bootstrap=False, criterion=gini, max_depth=3, max_features=log2, n_estimators=100 \n"
     ]
    },
    {
     "name": "stderr",
     "output_type": "stream",
     "text": [
      "/usr/local/lib/python3.7/site-packages/sklearn/model_selection/_validation.py:514: DataConversionWarning: A column-vector y was passed when a 1d array was expected. Please change the shape of y to (n_samples,), for example using ravel().\n",
      "  estimator.fit(X_train, y_train, **fit_params)\n"
     ]
    },
    {
     "name": "stdout",
     "output_type": "stream",
     "text": [
      "[CV]  bootstrap=False, criterion=gini, max_depth=3, max_features=log2, n_estimators=100, score=0.932, total=   0.7s\n",
      "[CV] bootstrap=False, criterion=gini, max_depth=3, max_features=log2, n_estimators=100 \n"
     ]
    },
    {
     "name": "stderr",
     "output_type": "stream",
     "text": [
      "/usr/local/lib/python3.7/site-packages/sklearn/model_selection/_validation.py:514: DataConversionWarning: A column-vector y was passed when a 1d array was expected. Please change the shape of y to (n_samples,), for example using ravel().\n",
      "  estimator.fit(X_train, y_train, **fit_params)\n"
     ]
    },
    {
     "name": "stdout",
     "output_type": "stream",
     "text": [
      "[CV]  bootstrap=False, criterion=gini, max_depth=3, max_features=log2, n_estimators=100, score=0.930, total=   0.5s\n",
      "[CV] bootstrap=False, criterion=gini, max_depth=3, max_features=log2, n_estimators=100 \n"
     ]
    },
    {
     "name": "stderr",
     "output_type": "stream",
     "text": [
      "/usr/local/lib/python3.7/site-packages/sklearn/model_selection/_validation.py:514: DataConversionWarning: A column-vector y was passed when a 1d array was expected. Please change the shape of y to (n_samples,), for example using ravel().\n",
      "  estimator.fit(X_train, y_train, **fit_params)\n"
     ]
    },
    {
     "name": "stdout",
     "output_type": "stream",
     "text": [
      "[CV]  bootstrap=False, criterion=gini, max_depth=3, max_features=log2, n_estimators=100, score=0.920, total=   0.6s\n",
      "[CV] bootstrap=False, criterion=gini, max_depth=3, max_features=log2, n_estimators=100 \n"
     ]
    },
    {
     "name": "stderr",
     "output_type": "stream",
     "text": [
      "/usr/local/lib/python3.7/site-packages/sklearn/model_selection/_validation.py:514: DataConversionWarning: A column-vector y was passed when a 1d array was expected. Please change the shape of y to (n_samples,), for example using ravel().\n",
      "  estimator.fit(X_train, y_train, **fit_params)\n"
     ]
    },
    {
     "name": "stdout",
     "output_type": "stream",
     "text": [
      "[CV]  bootstrap=False, criterion=gini, max_depth=3, max_features=log2, n_estimators=100, score=0.921, total=   0.6s\n",
      "[CV] bootstrap=False, criterion=gini, max_depth=5, max_features=auto, n_estimators=10 \n",
      "[CV]  bootstrap=False, criterion=gini, max_depth=5, max_features=auto, n_estimators=10, score=0.954, total=   0.1s\n",
      "[CV] bootstrap=False, criterion=gini, max_depth=5, max_features=auto, n_estimators=10 \n"
     ]
    },
    {
     "name": "stderr",
     "output_type": "stream",
     "text": [
      "/usr/local/lib/python3.7/site-packages/sklearn/model_selection/_validation.py:514: DataConversionWarning: A column-vector y was passed when a 1d array was expected. Please change the shape of y to (n_samples,), for example using ravel().\n",
      "  estimator.fit(X_train, y_train, **fit_params)\n",
      "/usr/local/lib/python3.7/site-packages/sklearn/model_selection/_validation.py:514: DataConversionWarning: A column-vector y was passed when a 1d array was expected. Please change the shape of y to (n_samples,), for example using ravel().\n",
      "  estimator.fit(X_train, y_train, **fit_params)\n"
     ]
    },
    {
     "name": "stdout",
     "output_type": "stream",
     "text": [
      "[CV]  bootstrap=False, criterion=gini, max_depth=5, max_features=auto, n_estimators=10, score=0.936, total=   0.1s\n",
      "[CV] bootstrap=False, criterion=gini, max_depth=5, max_features=auto, n_estimators=10 \n",
      "[CV]  bootstrap=False, criterion=gini, max_depth=5, max_features=auto, n_estimators=10, score=0.947, total=   0.1s\n",
      "[CV] bootstrap=False, criterion=gini, max_depth=5, max_features=auto, n_estimators=10 \n"
     ]
    },
    {
     "name": "stderr",
     "output_type": "stream",
     "text": [
      "/usr/local/lib/python3.7/site-packages/sklearn/model_selection/_validation.py:514: DataConversionWarning: A column-vector y was passed when a 1d array was expected. Please change the shape of y to (n_samples,), for example using ravel().\n",
      "  estimator.fit(X_train, y_train, **fit_params)\n",
      "/usr/local/lib/python3.7/site-packages/sklearn/model_selection/_validation.py:514: DataConversionWarning: A column-vector y was passed when a 1d array was expected. Please change the shape of y to (n_samples,), for example using ravel().\n",
      "  estimator.fit(X_train, y_train, **fit_params)\n"
     ]
    },
    {
     "name": "stdout",
     "output_type": "stream",
     "text": [
      "[CV]  bootstrap=False, criterion=gini, max_depth=5, max_features=auto, n_estimators=10, score=0.953, total=   0.1s\n",
      "[CV] bootstrap=False, criterion=gini, max_depth=5, max_features=auto, n_estimators=10 \n",
      "[CV]  bootstrap=False, criterion=gini, max_depth=5, max_features=auto, n_estimators=10, score=0.939, total=   0.1s\n",
      "[CV] bootstrap=False, criterion=gini, max_depth=5, max_features=auto, n_estimators=50 \n"
     ]
    },
    {
     "name": "stderr",
     "output_type": "stream",
     "text": [
      "/usr/local/lib/python3.7/site-packages/sklearn/model_selection/_validation.py:514: DataConversionWarning: A column-vector y was passed when a 1d array was expected. Please change the shape of y to (n_samples,), for example using ravel().\n",
      "  estimator.fit(X_train, y_train, **fit_params)\n",
      "/usr/local/lib/python3.7/site-packages/sklearn/model_selection/_validation.py:514: DataConversionWarning: A column-vector y was passed when a 1d array was expected. Please change the shape of y to (n_samples,), for example using ravel().\n",
      "  estimator.fit(X_train, y_train, **fit_params)\n"
     ]
    },
    {
     "name": "stdout",
     "output_type": "stream",
     "text": [
      "[CV]  bootstrap=False, criterion=gini, max_depth=5, max_features=auto, n_estimators=50, score=0.958, total=   0.5s\n",
      "[CV] bootstrap=False, criterion=gini, max_depth=5, max_features=auto, n_estimators=50 \n"
     ]
    },
    {
     "name": "stderr",
     "output_type": "stream",
     "text": [
      "/usr/local/lib/python3.7/site-packages/sklearn/model_selection/_validation.py:514: DataConversionWarning: A column-vector y was passed when a 1d array was expected. Please change the shape of y to (n_samples,), for example using ravel().\n",
      "  estimator.fit(X_train, y_train, **fit_params)\n"
     ]
    },
    {
     "name": "stdout",
     "output_type": "stream",
     "text": [
      "[CV]  bootstrap=False, criterion=gini, max_depth=5, max_features=auto, n_estimators=50, score=0.954, total=   0.5s\n",
      "[CV] bootstrap=False, criterion=gini, max_depth=5, max_features=auto, n_estimators=50 \n"
     ]
    },
    {
     "name": "stderr",
     "output_type": "stream",
     "text": [
      "/usr/local/lib/python3.7/site-packages/sklearn/model_selection/_validation.py:514: DataConversionWarning: A column-vector y was passed when a 1d array was expected. Please change the shape of y to (n_samples,), for example using ravel().\n",
      "  estimator.fit(X_train, y_train, **fit_params)\n"
     ]
    },
    {
     "name": "stdout",
     "output_type": "stream",
     "text": [
      "[CV]  bootstrap=False, criterion=gini, max_depth=5, max_features=auto, n_estimators=50, score=0.955, total=   0.4s\n",
      "[CV] bootstrap=False, criterion=gini, max_depth=5, max_features=auto, n_estimators=50 \n"
     ]
    },
    {
     "name": "stderr",
     "output_type": "stream",
     "text": [
      "/usr/local/lib/python3.7/site-packages/sklearn/model_selection/_validation.py:514: DataConversionWarning: A column-vector y was passed when a 1d array was expected. Please change the shape of y to (n_samples,), for example using ravel().\n",
      "  estimator.fit(X_train, y_train, **fit_params)\n"
     ]
    },
    {
     "name": "stdout",
     "output_type": "stream",
     "text": [
      "[CV]  bootstrap=False, criterion=gini, max_depth=5, max_features=auto, n_estimators=50, score=0.955, total=   0.5s\n",
      "[CV] bootstrap=False, criterion=gini, max_depth=5, max_features=auto, n_estimators=50 \n"
     ]
    },
    {
     "name": "stderr",
     "output_type": "stream",
     "text": [
      "/usr/local/lib/python3.7/site-packages/sklearn/model_selection/_validation.py:514: DataConversionWarning: A column-vector y was passed when a 1d array was expected. Please change the shape of y to (n_samples,), for example using ravel().\n",
      "  estimator.fit(X_train, y_train, **fit_params)\n"
     ]
    },
    {
     "name": "stdout",
     "output_type": "stream",
     "text": [
      "[CV]  bootstrap=False, criterion=gini, max_depth=5, max_features=auto, n_estimators=50, score=0.960, total=   0.5s\n",
      "[CV] bootstrap=False, criterion=gini, max_depth=5, max_features=auto, n_estimators=100 \n"
     ]
    },
    {
     "name": "stderr",
     "output_type": "stream",
     "text": [
      "/usr/local/lib/python3.7/site-packages/sklearn/model_selection/_validation.py:514: DataConversionWarning: A column-vector y was passed when a 1d array was expected. Please change the shape of y to (n_samples,), for example using ravel().\n",
      "  estimator.fit(X_train, y_train, **fit_params)\n"
     ]
    },
    {
     "name": "stdout",
     "output_type": "stream",
     "text": [
      "[CV]  bootstrap=False, criterion=gini, max_depth=5, max_features=auto, n_estimators=100, score=0.957, total=   1.0s\n",
      "[CV] bootstrap=False, criterion=gini, max_depth=5, max_features=auto, n_estimators=100 \n"
     ]
    },
    {
     "name": "stderr",
     "output_type": "stream",
     "text": [
      "/usr/local/lib/python3.7/site-packages/sklearn/model_selection/_validation.py:514: DataConversionWarning: A column-vector y was passed when a 1d array was expected. Please change the shape of y to (n_samples,), for example using ravel().\n",
      "  estimator.fit(X_train, y_train, **fit_params)\n"
     ]
    },
    {
     "name": "stdout",
     "output_type": "stream",
     "text": [
      "[CV]  bootstrap=False, criterion=gini, max_depth=5, max_features=auto, n_estimators=100, score=0.961, total=   1.0s\n",
      "[CV] bootstrap=False, criterion=gini, max_depth=5, max_features=auto, n_estimators=100 \n"
     ]
    },
    {
     "name": "stderr",
     "output_type": "stream",
     "text": [
      "/usr/local/lib/python3.7/site-packages/sklearn/model_selection/_validation.py:514: DataConversionWarning: A column-vector y was passed when a 1d array was expected. Please change the shape of y to (n_samples,), for example using ravel().\n",
      "  estimator.fit(X_train, y_train, **fit_params)\n"
     ]
    },
    {
     "name": "stdout",
     "output_type": "stream",
     "text": [
      "[CV]  bootstrap=False, criterion=gini, max_depth=5, max_features=auto, n_estimators=100, score=0.956, total=   1.2s\n",
      "[CV] bootstrap=False, criterion=gini, max_depth=5, max_features=auto, n_estimators=100 \n"
     ]
    },
    {
     "name": "stderr",
     "output_type": "stream",
     "text": [
      "/usr/local/lib/python3.7/site-packages/sklearn/model_selection/_validation.py:514: DataConversionWarning: A column-vector y was passed when a 1d array was expected. Please change the shape of y to (n_samples,), for example using ravel().\n",
      "  estimator.fit(X_train, y_train, **fit_params)\n"
     ]
    },
    {
     "name": "stdout",
     "output_type": "stream",
     "text": [
      "[CV]  bootstrap=False, criterion=gini, max_depth=5, max_features=auto, n_estimators=100, score=0.954, total=   1.2s\n",
      "[CV] bootstrap=False, criterion=gini, max_depth=5, max_features=auto, n_estimators=100 \n"
     ]
    },
    {
     "name": "stderr",
     "output_type": "stream",
     "text": [
      "/usr/local/lib/python3.7/site-packages/sklearn/model_selection/_validation.py:514: DataConversionWarning: A column-vector y was passed when a 1d array was expected. Please change the shape of y to (n_samples,), for example using ravel().\n",
      "  estimator.fit(X_train, y_train, **fit_params)\n"
     ]
    },
    {
     "name": "stdout",
     "output_type": "stream",
     "text": [
      "[CV]  bootstrap=False, criterion=gini, max_depth=5, max_features=auto, n_estimators=100, score=0.960, total=   1.0s\n",
      "[CV] bootstrap=False, criterion=gini, max_depth=5, max_features=sqrt, n_estimators=10 \n",
      "[CV]  bootstrap=False, criterion=gini, max_depth=5, max_features=sqrt, n_estimators=10, score=0.954, total=   0.1s\n",
      "[CV] bootstrap=False, criterion=gini, max_depth=5, max_features=sqrt, n_estimators=10 \n"
     ]
    },
    {
     "name": "stderr",
     "output_type": "stream",
     "text": [
      "/usr/local/lib/python3.7/site-packages/sklearn/model_selection/_validation.py:514: DataConversionWarning: A column-vector y was passed when a 1d array was expected. Please change the shape of y to (n_samples,), for example using ravel().\n",
      "  estimator.fit(X_train, y_train, **fit_params)\n",
      "/usr/local/lib/python3.7/site-packages/sklearn/model_selection/_validation.py:514: DataConversionWarning: A column-vector y was passed when a 1d array was expected. Please change the shape of y to (n_samples,), for example using ravel().\n",
      "  estimator.fit(X_train, y_train, **fit_params)\n"
     ]
    },
    {
     "name": "stdout",
     "output_type": "stream",
     "text": [
      "[CV]  bootstrap=False, criterion=gini, max_depth=5, max_features=sqrt, n_estimators=10, score=0.936, total=   0.1s\n",
      "[CV] bootstrap=False, criterion=gini, max_depth=5, max_features=sqrt, n_estimators=10 \n",
      "[CV]  bootstrap=False, criterion=gini, max_depth=5, max_features=sqrt, n_estimators=10, score=0.947, total=   0.1s\n",
      "[CV] bootstrap=False, criterion=gini, max_depth=5, max_features=sqrt, n_estimators=10 \n"
     ]
    },
    {
     "name": "stderr",
     "output_type": "stream",
     "text": [
      "/usr/local/lib/python3.7/site-packages/sklearn/model_selection/_validation.py:514: DataConversionWarning: A column-vector y was passed when a 1d array was expected. Please change the shape of y to (n_samples,), for example using ravel().\n",
      "  estimator.fit(X_train, y_train, **fit_params)\n",
      "/usr/local/lib/python3.7/site-packages/sklearn/model_selection/_validation.py:514: DataConversionWarning: A column-vector y was passed when a 1d array was expected. Please change the shape of y to (n_samples,), for example using ravel().\n",
      "  estimator.fit(X_train, y_train, **fit_params)\n"
     ]
    },
    {
     "name": "stdout",
     "output_type": "stream",
     "text": [
      "[CV]  bootstrap=False, criterion=gini, max_depth=5, max_features=sqrt, n_estimators=10, score=0.953, total=   0.1s\n",
      "[CV] bootstrap=False, criterion=gini, max_depth=5, max_features=sqrt, n_estimators=10 \n",
      "[CV]  bootstrap=False, criterion=gini, max_depth=5, max_features=sqrt, n_estimators=10, score=0.939, total=   0.1s\n",
      "[CV] bootstrap=False, criterion=gini, max_depth=5, max_features=sqrt, n_estimators=50 \n"
     ]
    },
    {
     "name": "stderr",
     "output_type": "stream",
     "text": [
      "/usr/local/lib/python3.7/site-packages/sklearn/model_selection/_validation.py:514: DataConversionWarning: A column-vector y was passed when a 1d array was expected. Please change the shape of y to (n_samples,), for example using ravel().\n",
      "  estimator.fit(X_train, y_train, **fit_params)\n",
      "/usr/local/lib/python3.7/site-packages/sklearn/model_selection/_validation.py:514: DataConversionWarning: A column-vector y was passed when a 1d array was expected. Please change the shape of y to (n_samples,), for example using ravel().\n",
      "  estimator.fit(X_train, y_train, **fit_params)\n"
     ]
    },
    {
     "name": "stdout",
     "output_type": "stream",
     "text": [
      "[CV]  bootstrap=False, criterion=gini, max_depth=5, max_features=sqrt, n_estimators=50, score=0.958, total=   0.5s\n",
      "[CV] bootstrap=False, criterion=gini, max_depth=5, max_features=sqrt, n_estimators=50 \n"
     ]
    },
    {
     "name": "stderr",
     "output_type": "stream",
     "text": [
      "/usr/local/lib/python3.7/site-packages/sklearn/model_selection/_validation.py:514: DataConversionWarning: A column-vector y was passed when a 1d array was expected. Please change the shape of y to (n_samples,), for example using ravel().\n",
      "  estimator.fit(X_train, y_train, **fit_params)\n"
     ]
    },
    {
     "name": "stdout",
     "output_type": "stream",
     "text": [
      "[CV]  bootstrap=False, criterion=gini, max_depth=5, max_features=sqrt, n_estimators=50, score=0.954, total=   0.5s\n",
      "[CV] bootstrap=False, criterion=gini, max_depth=5, max_features=sqrt, n_estimators=50 \n"
     ]
    },
    {
     "name": "stderr",
     "output_type": "stream",
     "text": [
      "/usr/local/lib/python3.7/site-packages/sklearn/model_selection/_validation.py:514: DataConversionWarning: A column-vector y was passed when a 1d array was expected. Please change the shape of y to (n_samples,), for example using ravel().\n",
      "  estimator.fit(X_train, y_train, **fit_params)\n"
     ]
    },
    {
     "name": "stdout",
     "output_type": "stream",
     "text": [
      "[CV]  bootstrap=False, criterion=gini, max_depth=5, max_features=sqrt, n_estimators=50, score=0.955, total=   0.7s\n",
      "[CV] bootstrap=False, criterion=gini, max_depth=5, max_features=sqrt, n_estimators=50 \n"
     ]
    },
    {
     "name": "stderr",
     "output_type": "stream",
     "text": [
      "/usr/local/lib/python3.7/site-packages/sklearn/model_selection/_validation.py:514: DataConversionWarning: A column-vector y was passed when a 1d array was expected. Please change the shape of y to (n_samples,), for example using ravel().\n",
      "  estimator.fit(X_train, y_train, **fit_params)\n"
     ]
    },
    {
     "name": "stdout",
     "output_type": "stream",
     "text": [
      "[CV]  bootstrap=False, criterion=gini, max_depth=5, max_features=sqrt, n_estimators=50, score=0.955, total=   0.7s\n",
      "[CV] bootstrap=False, criterion=gini, max_depth=5, max_features=sqrt, n_estimators=50 \n"
     ]
    },
    {
     "name": "stderr",
     "output_type": "stream",
     "text": [
      "/usr/local/lib/python3.7/site-packages/sklearn/model_selection/_validation.py:514: DataConversionWarning: A column-vector y was passed when a 1d array was expected. Please change the shape of y to (n_samples,), for example using ravel().\n",
      "  estimator.fit(X_train, y_train, **fit_params)\n"
     ]
    },
    {
     "name": "stdout",
     "output_type": "stream",
     "text": [
      "[CV]  bootstrap=False, criterion=gini, max_depth=5, max_features=sqrt, n_estimators=50, score=0.960, total=   0.4s\n",
      "[CV] bootstrap=False, criterion=gini, max_depth=5, max_features=sqrt, n_estimators=100 \n"
     ]
    },
    {
     "name": "stderr",
     "output_type": "stream",
     "text": [
      "/usr/local/lib/python3.7/site-packages/sklearn/model_selection/_validation.py:514: DataConversionWarning: A column-vector y was passed when a 1d array was expected. Please change the shape of y to (n_samples,), for example using ravel().\n",
      "  estimator.fit(X_train, y_train, **fit_params)\n"
     ]
    },
    {
     "name": "stdout",
     "output_type": "stream",
     "text": [
      "[CV]  bootstrap=False, criterion=gini, max_depth=5, max_features=sqrt, n_estimators=100, score=0.957, total=   0.8s\n",
      "[CV] bootstrap=False, criterion=gini, max_depth=5, max_features=sqrt, n_estimators=100 \n"
     ]
    },
    {
     "name": "stderr",
     "output_type": "stream",
     "text": [
      "/usr/local/lib/python3.7/site-packages/sklearn/model_selection/_validation.py:514: DataConversionWarning: A column-vector y was passed when a 1d array was expected. Please change the shape of y to (n_samples,), for example using ravel().\n",
      "  estimator.fit(X_train, y_train, **fit_params)\n"
     ]
    },
    {
     "name": "stdout",
     "output_type": "stream",
     "text": [
      "[CV]  bootstrap=False, criterion=gini, max_depth=5, max_features=sqrt, n_estimators=100, score=0.961, total=   0.8s\n",
      "[CV] bootstrap=False, criterion=gini, max_depth=5, max_features=sqrt, n_estimators=100 \n"
     ]
    },
    {
     "name": "stderr",
     "output_type": "stream",
     "text": [
      "/usr/local/lib/python3.7/site-packages/sklearn/model_selection/_validation.py:514: DataConversionWarning: A column-vector y was passed when a 1d array was expected. Please change the shape of y to (n_samples,), for example using ravel().\n",
      "  estimator.fit(X_train, y_train, **fit_params)\n"
     ]
    },
    {
     "name": "stdout",
     "output_type": "stream",
     "text": [
      "[CV]  bootstrap=False, criterion=gini, max_depth=5, max_features=sqrt, n_estimators=100, score=0.956, total=   0.8s\n",
      "[CV] bootstrap=False, criterion=gini, max_depth=5, max_features=sqrt, n_estimators=100 \n"
     ]
    },
    {
     "name": "stderr",
     "output_type": "stream",
     "text": [
      "/usr/local/lib/python3.7/site-packages/sklearn/model_selection/_validation.py:514: DataConversionWarning: A column-vector y was passed when a 1d array was expected. Please change the shape of y to (n_samples,), for example using ravel().\n",
      "  estimator.fit(X_train, y_train, **fit_params)\n"
     ]
    },
    {
     "name": "stdout",
     "output_type": "stream",
     "text": [
      "[CV]  bootstrap=False, criterion=gini, max_depth=5, max_features=sqrt, n_estimators=100, score=0.954, total=   0.8s\n",
      "[CV] bootstrap=False, criterion=gini, max_depth=5, max_features=sqrt, n_estimators=100 \n"
     ]
    },
    {
     "name": "stderr",
     "output_type": "stream",
     "text": [
      "/usr/local/lib/python3.7/site-packages/sklearn/model_selection/_validation.py:514: DataConversionWarning: A column-vector y was passed when a 1d array was expected. Please change the shape of y to (n_samples,), for example using ravel().\n",
      "  estimator.fit(X_train, y_train, **fit_params)\n"
     ]
    },
    {
     "name": "stdout",
     "output_type": "stream",
     "text": [
      "[CV]  bootstrap=False, criterion=gini, max_depth=5, max_features=sqrt, n_estimators=100, score=0.960, total=   0.8s\n",
      "[CV] bootstrap=False, criterion=gini, max_depth=5, max_features=log2, n_estimators=10 \n",
      "[CV]  bootstrap=False, criterion=gini, max_depth=5, max_features=log2, n_estimators=10, score=0.928, total=   0.1s\n",
      "[CV] bootstrap=False, criterion=gini, max_depth=5, max_features=log2, n_estimators=10 \n",
      "[CV]  bootstrap=False, criterion=gini, max_depth=5, max_features=log2, n_estimators=10, score=0.940, total=   0.1s\n",
      "[CV] bootstrap=False, criterion=gini, max_depth=5, max_features=log2, n_estimators=10 \n"
     ]
    },
    {
     "name": "stderr",
     "output_type": "stream",
     "text": [
      "/usr/local/lib/python3.7/site-packages/sklearn/model_selection/_validation.py:514: DataConversionWarning: A column-vector y was passed when a 1d array was expected. Please change the shape of y to (n_samples,), for example using ravel().\n",
      "  estimator.fit(X_train, y_train, **fit_params)\n",
      "/usr/local/lib/python3.7/site-packages/sklearn/model_selection/_validation.py:514: DataConversionWarning: A column-vector y was passed when a 1d array was expected. Please change the shape of y to (n_samples,), for example using ravel().\n",
      "  estimator.fit(X_train, y_train, **fit_params)\n",
      "/usr/local/lib/python3.7/site-packages/sklearn/model_selection/_validation.py:514: DataConversionWarning: A column-vector y was passed when a 1d array was expected. Please change the shape of y to (n_samples,), for example using ravel().\n",
      "  estimator.fit(X_train, y_train, **fit_params)\n"
     ]
    },
    {
     "name": "stdout",
     "output_type": "stream",
     "text": [
      "[CV]  bootstrap=False, criterion=gini, max_depth=5, max_features=log2, n_estimators=10, score=0.936, total=   0.1s\n",
      "[CV] bootstrap=False, criterion=gini, max_depth=5, max_features=log2, n_estimators=10 \n",
      "[CV]  bootstrap=False, criterion=gini, max_depth=5, max_features=log2, n_estimators=10, score=0.942, total=   0.1s\n",
      "[CV] bootstrap=False, criterion=gini, max_depth=5, max_features=log2, n_estimators=10 \n",
      "[CV]  bootstrap=False, criterion=gini, max_depth=5, max_features=log2, n_estimators=10, score=0.932, total=   0.1s\n",
      "[CV] bootstrap=False, criterion=gini, max_depth=5, max_features=log2, n_estimators=50 \n"
     ]
    },
    {
     "name": "stderr",
     "output_type": "stream",
     "text": [
      "/usr/local/lib/python3.7/site-packages/sklearn/model_selection/_validation.py:514: DataConversionWarning: A column-vector y was passed when a 1d array was expected. Please change the shape of y to (n_samples,), for example using ravel().\n",
      "  estimator.fit(X_train, y_train, **fit_params)\n",
      "/usr/local/lib/python3.7/site-packages/sklearn/model_selection/_validation.py:514: DataConversionWarning: A column-vector y was passed when a 1d array was expected. Please change the shape of y to (n_samples,), for example using ravel().\n",
      "  estimator.fit(X_train, y_train, **fit_params)\n",
      "/usr/local/lib/python3.7/site-packages/sklearn/model_selection/_validation.py:514: DataConversionWarning: A column-vector y was passed when a 1d array was expected. Please change the shape of y to (n_samples,), for example using ravel().\n",
      "  estimator.fit(X_train, y_train, **fit_params)\n"
     ]
    },
    {
     "name": "stdout",
     "output_type": "stream",
     "text": [
      "[CV]  bootstrap=False, criterion=gini, max_depth=5, max_features=log2, n_estimators=50, score=0.949, total=   0.3s\n",
      "[CV] bootstrap=False, criterion=gini, max_depth=5, max_features=log2, n_estimators=50 \n"
     ]
    },
    {
     "name": "stderr",
     "output_type": "stream",
     "text": [
      "/usr/local/lib/python3.7/site-packages/sklearn/model_selection/_validation.py:514: DataConversionWarning: A column-vector y was passed when a 1d array was expected. Please change the shape of y to (n_samples,), for example using ravel().\n",
      "  estimator.fit(X_train, y_train, **fit_params)\n"
     ]
    },
    {
     "name": "stdout",
     "output_type": "stream",
     "text": [
      "[CV]  bootstrap=False, criterion=gini, max_depth=5, max_features=log2, n_estimators=50, score=0.953, total=   0.3s\n",
      "[CV] bootstrap=False, criterion=gini, max_depth=5, max_features=log2, n_estimators=50 \n"
     ]
    },
    {
     "name": "stderr",
     "output_type": "stream",
     "text": [
      "/usr/local/lib/python3.7/site-packages/sklearn/model_selection/_validation.py:514: DataConversionWarning: A column-vector y was passed when a 1d array was expected. Please change the shape of y to (n_samples,), for example using ravel().\n",
      "  estimator.fit(X_train, y_train, **fit_params)\n"
     ]
    },
    {
     "name": "stdout",
     "output_type": "stream",
     "text": [
      "[CV]  bootstrap=False, criterion=gini, max_depth=5, max_features=log2, n_estimators=50, score=0.950, total=   0.3s\n",
      "[CV] bootstrap=False, criterion=gini, max_depth=5, max_features=log2, n_estimators=50 \n"
     ]
    },
    {
     "name": "stderr",
     "output_type": "stream",
     "text": [
      "/usr/local/lib/python3.7/site-packages/sklearn/model_selection/_validation.py:514: DataConversionWarning: A column-vector y was passed when a 1d array was expected. Please change the shape of y to (n_samples,), for example using ravel().\n",
      "  estimator.fit(X_train, y_train, **fit_params)\n"
     ]
    },
    {
     "name": "stdout",
     "output_type": "stream",
     "text": [
      "[CV]  bootstrap=False, criterion=gini, max_depth=5, max_features=log2, n_estimators=50, score=0.951, total=   0.3s\n",
      "[CV] bootstrap=False, criterion=gini, max_depth=5, max_features=log2, n_estimators=50 \n"
     ]
    },
    {
     "name": "stderr",
     "output_type": "stream",
     "text": [
      "/usr/local/lib/python3.7/site-packages/sklearn/model_selection/_validation.py:514: DataConversionWarning: A column-vector y was passed when a 1d array was expected. Please change the shape of y to (n_samples,), for example using ravel().\n",
      "  estimator.fit(X_train, y_train, **fit_params)\n"
     ]
    },
    {
     "name": "stdout",
     "output_type": "stream",
     "text": [
      "[CV]  bootstrap=False, criterion=gini, max_depth=5, max_features=log2, n_estimators=50, score=0.955, total=   0.3s\n",
      "[CV] bootstrap=False, criterion=gini, max_depth=5, max_features=log2, n_estimators=100 \n"
     ]
    },
    {
     "name": "stderr",
     "output_type": "stream",
     "text": [
      "/usr/local/lib/python3.7/site-packages/sklearn/model_selection/_validation.py:514: DataConversionWarning: A column-vector y was passed when a 1d array was expected. Please change the shape of y to (n_samples,), for example using ravel().\n",
      "  estimator.fit(X_train, y_train, **fit_params)\n"
     ]
    },
    {
     "name": "stdout",
     "output_type": "stream",
     "text": [
      "[CV]  bootstrap=False, criterion=gini, max_depth=5, max_features=log2, n_estimators=100, score=0.950, total=   0.7s\n",
      "[CV] bootstrap=False, criterion=gini, max_depth=5, max_features=log2, n_estimators=100 \n"
     ]
    },
    {
     "name": "stderr",
     "output_type": "stream",
     "text": [
      "/usr/local/lib/python3.7/site-packages/sklearn/model_selection/_validation.py:514: DataConversionWarning: A column-vector y was passed when a 1d array was expected. Please change the shape of y to (n_samples,), for example using ravel().\n",
      "  estimator.fit(X_train, y_train, **fit_params)\n"
     ]
    },
    {
     "name": "stdout",
     "output_type": "stream",
     "text": [
      "[CV]  bootstrap=False, criterion=gini, max_depth=5, max_features=log2, n_estimators=100, score=0.953, total=   0.8s\n",
      "[CV] bootstrap=False, criterion=gini, max_depth=5, max_features=log2, n_estimators=100 \n"
     ]
    },
    {
     "name": "stderr",
     "output_type": "stream",
     "text": [
      "/usr/local/lib/python3.7/site-packages/sklearn/model_selection/_validation.py:514: DataConversionWarning: A column-vector y was passed when a 1d array was expected. Please change the shape of y to (n_samples,), for example using ravel().\n",
      "  estimator.fit(X_train, y_train, **fit_params)\n"
     ]
    },
    {
     "name": "stdout",
     "output_type": "stream",
     "text": [
      "[CV]  bootstrap=False, criterion=gini, max_depth=5, max_features=log2, n_estimators=100, score=0.951, total=   0.7s\n",
      "[CV] bootstrap=False, criterion=gini, max_depth=5, max_features=log2, n_estimators=100 \n"
     ]
    },
    {
     "name": "stderr",
     "output_type": "stream",
     "text": [
      "/usr/local/lib/python3.7/site-packages/sklearn/model_selection/_validation.py:514: DataConversionWarning: A column-vector y was passed when a 1d array was expected. Please change the shape of y to (n_samples,), for example using ravel().\n",
      "  estimator.fit(X_train, y_train, **fit_params)\n"
     ]
    },
    {
     "name": "stdout",
     "output_type": "stream",
     "text": [
      "[CV]  bootstrap=False, criterion=gini, max_depth=5, max_features=log2, n_estimators=100, score=0.950, total=   0.7s\n",
      "[CV] bootstrap=False, criterion=gini, max_depth=5, max_features=log2, n_estimators=100 \n"
     ]
    },
    {
     "name": "stderr",
     "output_type": "stream",
     "text": [
      "/usr/local/lib/python3.7/site-packages/sklearn/model_selection/_validation.py:514: DataConversionWarning: A column-vector y was passed when a 1d array was expected. Please change the shape of y to (n_samples,), for example using ravel().\n",
      "  estimator.fit(X_train, y_train, **fit_params)\n"
     ]
    },
    {
     "name": "stdout",
     "output_type": "stream",
     "text": [
      "[CV]  bootstrap=False, criterion=gini, max_depth=5, max_features=log2, n_estimators=100, score=0.957, total=   0.7s\n",
      "[CV] bootstrap=False, criterion=gini, max_depth=7, max_features=auto, n_estimators=10 \n",
      "[CV]  bootstrap=False, criterion=gini, max_depth=7, max_features=auto, n_estimators=10, score=0.959, total=   0.1s\n",
      "[CV] bootstrap=False, criterion=gini, max_depth=7, max_features=auto, n_estimators=10 \n"
     ]
    },
    {
     "name": "stderr",
     "output_type": "stream",
     "text": [
      "/usr/local/lib/python3.7/site-packages/sklearn/model_selection/_validation.py:514: DataConversionWarning: A column-vector y was passed when a 1d array was expected. Please change the shape of y to (n_samples,), for example using ravel().\n",
      "  estimator.fit(X_train, y_train, **fit_params)\n",
      "/usr/local/lib/python3.7/site-packages/sklearn/model_selection/_validation.py:514: DataConversionWarning: A column-vector y was passed when a 1d array was expected. Please change the shape of y to (n_samples,), for example using ravel().\n",
      "  estimator.fit(X_train, y_train, **fit_params)\n"
     ]
    },
    {
     "name": "stdout",
     "output_type": "stream",
     "text": [
      "[CV]  bootstrap=False, criterion=gini, max_depth=7, max_features=auto, n_estimators=10, score=0.961, total=   0.1s\n",
      "[CV] bootstrap=False, criterion=gini, max_depth=7, max_features=auto, n_estimators=10 \n",
      "[CV]  bootstrap=False, criterion=gini, max_depth=7, max_features=auto, n_estimators=10, score=0.957, total=   0.1s\n",
      "[CV] bootstrap=False, criterion=gini, max_depth=7, max_features=auto, n_estimators=10 \n"
     ]
    },
    {
     "name": "stderr",
     "output_type": "stream",
     "text": [
      "/usr/local/lib/python3.7/site-packages/sklearn/model_selection/_validation.py:514: DataConversionWarning: A column-vector y was passed when a 1d array was expected. Please change the shape of y to (n_samples,), for example using ravel().\n",
      "  estimator.fit(X_train, y_train, **fit_params)\n",
      "/usr/local/lib/python3.7/site-packages/sklearn/model_selection/_validation.py:514: DataConversionWarning: A column-vector y was passed when a 1d array was expected. Please change the shape of y to (n_samples,), for example using ravel().\n",
      "  estimator.fit(X_train, y_train, **fit_params)\n"
     ]
    },
    {
     "name": "stdout",
     "output_type": "stream",
     "text": [
      "[CV]  bootstrap=False, criterion=gini, max_depth=7, max_features=auto, n_estimators=10, score=0.957, total=   0.1s\n",
      "[CV] bootstrap=False, criterion=gini, max_depth=7, max_features=auto, n_estimators=10 \n",
      "[CV]  bootstrap=False, criterion=gini, max_depth=7, max_features=auto, n_estimators=10, score=0.960, total=   0.1s\n",
      "[CV] bootstrap=False, criterion=gini, max_depth=7, max_features=auto, n_estimators=50 \n"
     ]
    },
    {
     "name": "stderr",
     "output_type": "stream",
     "text": [
      "/usr/local/lib/python3.7/site-packages/sklearn/model_selection/_validation.py:514: DataConversionWarning: A column-vector y was passed when a 1d array was expected. Please change the shape of y to (n_samples,), for example using ravel().\n",
      "  estimator.fit(X_train, y_train, **fit_params)\n",
      "/usr/local/lib/python3.7/site-packages/sklearn/model_selection/_validation.py:514: DataConversionWarning: A column-vector y was passed when a 1d array was expected. Please change the shape of y to (n_samples,), for example using ravel().\n",
      "  estimator.fit(X_train, y_train, **fit_params)\n"
     ]
    },
    {
     "name": "stdout",
     "output_type": "stream",
     "text": [
      "[CV]  bootstrap=False, criterion=gini, max_depth=7, max_features=auto, n_estimators=50, score=0.959, total=   0.9s\n",
      "[CV] bootstrap=False, criterion=gini, max_depth=7, max_features=auto, n_estimators=50 \n"
     ]
    },
    {
     "name": "stderr",
     "output_type": "stream",
     "text": [
      "/usr/local/lib/python3.7/site-packages/sklearn/model_selection/_validation.py:514: DataConversionWarning: A column-vector y was passed when a 1d array was expected. Please change the shape of y to (n_samples,), for example using ravel().\n",
      "  estimator.fit(X_train, y_train, **fit_params)\n"
     ]
    },
    {
     "name": "stdout",
     "output_type": "stream",
     "text": [
      "[CV]  bootstrap=False, criterion=gini, max_depth=7, max_features=auto, n_estimators=50, score=0.960, total=   1.1s\n",
      "[CV] bootstrap=False, criterion=gini, max_depth=7, max_features=auto, n_estimators=50 \n"
     ]
    },
    {
     "name": "stderr",
     "output_type": "stream",
     "text": [
      "/usr/local/lib/python3.7/site-packages/sklearn/model_selection/_validation.py:514: DataConversionWarning: A column-vector y was passed when a 1d array was expected. Please change the shape of y to (n_samples,), for example using ravel().\n",
      "  estimator.fit(X_train, y_train, **fit_params)\n"
     ]
    },
    {
     "name": "stdout",
     "output_type": "stream",
     "text": [
      "[CV]  bootstrap=False, criterion=gini, max_depth=7, max_features=auto, n_estimators=50, score=0.955, total=   1.2s\n",
      "[CV] bootstrap=False, criterion=gini, max_depth=7, max_features=auto, n_estimators=50 \n"
     ]
    },
    {
     "name": "stderr",
     "output_type": "stream",
     "text": [
      "/usr/local/lib/python3.7/site-packages/sklearn/model_selection/_validation.py:514: DataConversionWarning: A column-vector y was passed when a 1d array was expected. Please change the shape of y to (n_samples,), for example using ravel().\n",
      "  estimator.fit(X_train, y_train, **fit_params)\n"
     ]
    },
    {
     "name": "stdout",
     "output_type": "stream",
     "text": [
      "[CV]  bootstrap=False, criterion=gini, max_depth=7, max_features=auto, n_estimators=50, score=0.956, total=   1.1s\n",
      "[CV] bootstrap=False, criterion=gini, max_depth=7, max_features=auto, n_estimators=50 \n"
     ]
    },
    {
     "name": "stderr",
     "output_type": "stream",
     "text": [
      "/usr/local/lib/python3.7/site-packages/sklearn/model_selection/_validation.py:514: DataConversionWarning: A column-vector y was passed when a 1d array was expected. Please change the shape of y to (n_samples,), for example using ravel().\n",
      "  estimator.fit(X_train, y_train, **fit_params)\n"
     ]
    },
    {
     "name": "stdout",
     "output_type": "stream",
     "text": [
      "[CV]  bootstrap=False, criterion=gini, max_depth=7, max_features=auto, n_estimators=50, score=0.960, total=   0.8s\n",
      "[CV] bootstrap=False, criterion=gini, max_depth=7, max_features=auto, n_estimators=100 \n"
     ]
    },
    {
     "name": "stderr",
     "output_type": "stream",
     "text": [
      "/usr/local/lib/python3.7/site-packages/sklearn/model_selection/_validation.py:514: DataConversionWarning: A column-vector y was passed when a 1d array was expected. Please change the shape of y to (n_samples,), for example using ravel().\n",
      "  estimator.fit(X_train, y_train, **fit_params)\n"
     ]
    },
    {
     "name": "stdout",
     "output_type": "stream",
     "text": [
      "[CV]  bootstrap=False, criterion=gini, max_depth=7, max_features=auto, n_estimators=100, score=0.958, total=   1.1s\n",
      "[CV] bootstrap=False, criterion=gini, max_depth=7, max_features=auto, n_estimators=100 \n"
     ]
    },
    {
     "name": "stderr",
     "output_type": "stream",
     "text": [
      "/usr/local/lib/python3.7/site-packages/sklearn/model_selection/_validation.py:514: DataConversionWarning: A column-vector y was passed when a 1d array was expected. Please change the shape of y to (n_samples,), for example using ravel().\n",
      "  estimator.fit(X_train, y_train, **fit_params)\n"
     ]
    },
    {
     "name": "stdout",
     "output_type": "stream",
     "text": [
      "[CV]  bootstrap=False, criterion=gini, max_depth=7, max_features=auto, n_estimators=100, score=0.959, total=   1.2s\n",
      "[CV] bootstrap=False, criterion=gini, max_depth=7, max_features=auto, n_estimators=100 \n"
     ]
    },
    {
     "name": "stderr",
     "output_type": "stream",
     "text": [
      "/usr/local/lib/python3.7/site-packages/sklearn/model_selection/_validation.py:514: DataConversionWarning: A column-vector y was passed when a 1d array was expected. Please change the shape of y to (n_samples,), for example using ravel().\n",
      "  estimator.fit(X_train, y_train, **fit_params)\n"
     ]
    },
    {
     "name": "stdout",
     "output_type": "stream",
     "text": [
      "[CV]  bootstrap=False, criterion=gini, max_depth=7, max_features=auto, n_estimators=100, score=0.956, total=   1.2s\n",
      "[CV] bootstrap=False, criterion=gini, max_depth=7, max_features=auto, n_estimators=100 \n"
     ]
    },
    {
     "name": "stderr",
     "output_type": "stream",
     "text": [
      "/usr/local/lib/python3.7/site-packages/sklearn/model_selection/_validation.py:514: DataConversionWarning: A column-vector y was passed when a 1d array was expected. Please change the shape of y to (n_samples,), for example using ravel().\n",
      "  estimator.fit(X_train, y_train, **fit_params)\n"
     ]
    },
    {
     "name": "stdout",
     "output_type": "stream",
     "text": [
      "[CV]  bootstrap=False, criterion=gini, max_depth=7, max_features=auto, n_estimators=100, score=0.956, total=   1.6s\n",
      "[CV] bootstrap=False, criterion=gini, max_depth=7, max_features=auto, n_estimators=100 \n"
     ]
    },
    {
     "name": "stderr",
     "output_type": "stream",
     "text": [
      "/usr/local/lib/python3.7/site-packages/sklearn/model_selection/_validation.py:514: DataConversionWarning: A column-vector y was passed when a 1d array was expected. Please change the shape of y to (n_samples,), for example using ravel().\n",
      "  estimator.fit(X_train, y_train, **fit_params)\n"
     ]
    },
    {
     "name": "stdout",
     "output_type": "stream",
     "text": [
      "[CV]  bootstrap=False, criterion=gini, max_depth=7, max_features=auto, n_estimators=100, score=0.960, total=   1.1s\n",
      "[CV] bootstrap=False, criterion=gini, max_depth=7, max_features=sqrt, n_estimators=10 \n",
      "[CV]  bootstrap=False, criterion=gini, max_depth=7, max_features=sqrt, n_estimators=10, score=0.959, total=   0.1s\n",
      "[CV] bootstrap=False, criterion=gini, max_depth=7, max_features=sqrt, n_estimators=10 \n"
     ]
    },
    {
     "name": "stderr",
     "output_type": "stream",
     "text": [
      "/usr/local/lib/python3.7/site-packages/sklearn/model_selection/_validation.py:514: DataConversionWarning: A column-vector y was passed when a 1d array was expected. Please change the shape of y to (n_samples,), for example using ravel().\n",
      "  estimator.fit(X_train, y_train, **fit_params)\n",
      "/usr/local/lib/python3.7/site-packages/sklearn/model_selection/_validation.py:514: DataConversionWarning: A column-vector y was passed when a 1d array was expected. Please change the shape of y to (n_samples,), for example using ravel().\n",
      "  estimator.fit(X_train, y_train, **fit_params)\n"
     ]
    },
    {
     "name": "stdout",
     "output_type": "stream",
     "text": [
      "[CV]  bootstrap=False, criterion=gini, max_depth=7, max_features=sqrt, n_estimators=10, score=0.961, total=   0.2s\n",
      "[CV] bootstrap=False, criterion=gini, max_depth=7, max_features=sqrt, n_estimators=10 \n",
      "[CV]  bootstrap=False, criterion=gini, max_depth=7, max_features=sqrt, n_estimators=10, score=0.957, total=   0.1s\n",
      "[CV] bootstrap=False, criterion=gini, max_depth=7, max_features=sqrt, n_estimators=10 \n"
     ]
    },
    {
     "name": "stderr",
     "output_type": "stream",
     "text": [
      "/usr/local/lib/python3.7/site-packages/sklearn/model_selection/_validation.py:514: DataConversionWarning: A column-vector y was passed when a 1d array was expected. Please change the shape of y to (n_samples,), for example using ravel().\n",
      "  estimator.fit(X_train, y_train, **fit_params)\n",
      "/usr/local/lib/python3.7/site-packages/sklearn/model_selection/_validation.py:514: DataConversionWarning: A column-vector y was passed when a 1d array was expected. Please change the shape of y to (n_samples,), for example using ravel().\n",
      "  estimator.fit(X_train, y_train, **fit_params)\n"
     ]
    },
    {
     "name": "stdout",
     "output_type": "stream",
     "text": [
      "[CV]  bootstrap=False, criterion=gini, max_depth=7, max_features=sqrt, n_estimators=10, score=0.957, total=   0.1s\n",
      "[CV] bootstrap=False, criterion=gini, max_depth=7, max_features=sqrt, n_estimators=10 \n",
      "[CV]  bootstrap=False, criterion=gini, max_depth=7, max_features=sqrt, n_estimators=10, score=0.960, total=   0.1s\n",
      "[CV] bootstrap=False, criterion=gini, max_depth=7, max_features=sqrt, n_estimators=50 \n"
     ]
    },
    {
     "name": "stderr",
     "output_type": "stream",
     "text": [
      "/usr/local/lib/python3.7/site-packages/sklearn/model_selection/_validation.py:514: DataConversionWarning: A column-vector y was passed when a 1d array was expected. Please change the shape of y to (n_samples,), for example using ravel().\n",
      "  estimator.fit(X_train, y_train, **fit_params)\n",
      "/usr/local/lib/python3.7/site-packages/sklearn/model_selection/_validation.py:514: DataConversionWarning: A column-vector y was passed when a 1d array was expected. Please change the shape of y to (n_samples,), for example using ravel().\n",
      "  estimator.fit(X_train, y_train, **fit_params)\n"
     ]
    },
    {
     "name": "stdout",
     "output_type": "stream",
     "text": [
      "[CV]  bootstrap=False, criterion=gini, max_depth=7, max_features=sqrt, n_estimators=50, score=0.959, total=   0.6s\n",
      "[CV] bootstrap=False, criterion=gini, max_depth=7, max_features=sqrt, n_estimators=50 \n"
     ]
    },
    {
     "name": "stderr",
     "output_type": "stream",
     "text": [
      "/usr/local/lib/python3.7/site-packages/sklearn/model_selection/_validation.py:514: DataConversionWarning: A column-vector y was passed when a 1d array was expected. Please change the shape of y to (n_samples,), for example using ravel().\n",
      "  estimator.fit(X_train, y_train, **fit_params)\n"
     ]
    },
    {
     "name": "stdout",
     "output_type": "stream",
     "text": [
      "[CV]  bootstrap=False, criterion=gini, max_depth=7, max_features=sqrt, n_estimators=50, score=0.960, total=   0.6s\n",
      "[CV] bootstrap=False, criterion=gini, max_depth=7, max_features=sqrt, n_estimators=50 \n"
     ]
    },
    {
     "name": "stderr",
     "output_type": "stream",
     "text": [
      "/usr/local/lib/python3.7/site-packages/sklearn/model_selection/_validation.py:514: DataConversionWarning: A column-vector y was passed when a 1d array was expected. Please change the shape of y to (n_samples,), for example using ravel().\n",
      "  estimator.fit(X_train, y_train, **fit_params)\n"
     ]
    },
    {
     "name": "stdout",
     "output_type": "stream",
     "text": [
      "[CV]  bootstrap=False, criterion=gini, max_depth=7, max_features=sqrt, n_estimators=50, score=0.955, total=   0.6s\n",
      "[CV] bootstrap=False, criterion=gini, max_depth=7, max_features=sqrt, n_estimators=50 \n"
     ]
    },
    {
     "name": "stderr",
     "output_type": "stream",
     "text": [
      "/usr/local/lib/python3.7/site-packages/sklearn/model_selection/_validation.py:514: DataConversionWarning: A column-vector y was passed when a 1d array was expected. Please change the shape of y to (n_samples,), for example using ravel().\n",
      "  estimator.fit(X_train, y_train, **fit_params)\n"
     ]
    },
    {
     "name": "stdout",
     "output_type": "stream",
     "text": [
      "[CV]  bootstrap=False, criterion=gini, max_depth=7, max_features=sqrt, n_estimators=50, score=0.956, total=   0.6s\n",
      "[CV] bootstrap=False, criterion=gini, max_depth=7, max_features=sqrt, n_estimators=50 \n"
     ]
    },
    {
     "name": "stderr",
     "output_type": "stream",
     "text": [
      "/usr/local/lib/python3.7/site-packages/sklearn/model_selection/_validation.py:514: DataConversionWarning: A column-vector y was passed when a 1d array was expected. Please change the shape of y to (n_samples,), for example using ravel().\n",
      "  estimator.fit(X_train, y_train, **fit_params)\n"
     ]
    },
    {
     "name": "stdout",
     "output_type": "stream",
     "text": [
      "[CV]  bootstrap=False, criterion=gini, max_depth=7, max_features=sqrt, n_estimators=50, score=0.960, total=   0.6s\n",
      "[CV] bootstrap=False, criterion=gini, max_depth=7, max_features=sqrt, n_estimators=100 \n"
     ]
    },
    {
     "name": "stderr",
     "output_type": "stream",
     "text": [
      "/usr/local/lib/python3.7/site-packages/sklearn/model_selection/_validation.py:514: DataConversionWarning: A column-vector y was passed when a 1d array was expected. Please change the shape of y to (n_samples,), for example using ravel().\n",
      "  estimator.fit(X_train, y_train, **fit_params)\n"
     ]
    },
    {
     "name": "stdout",
     "output_type": "stream",
     "text": [
      "[CV]  bootstrap=False, criterion=gini, max_depth=7, max_features=sqrt, n_estimators=100, score=0.958, total=   1.2s\n",
      "[CV] bootstrap=False, criterion=gini, max_depth=7, max_features=sqrt, n_estimators=100 \n"
     ]
    },
    {
     "name": "stderr",
     "output_type": "stream",
     "text": [
      "/usr/local/lib/python3.7/site-packages/sklearn/model_selection/_validation.py:514: DataConversionWarning: A column-vector y was passed when a 1d array was expected. Please change the shape of y to (n_samples,), for example using ravel().\n",
      "  estimator.fit(X_train, y_train, **fit_params)\n"
     ]
    },
    {
     "name": "stdout",
     "output_type": "stream",
     "text": [
      "[CV]  bootstrap=False, criterion=gini, max_depth=7, max_features=sqrt, n_estimators=100, score=0.959, total=   1.1s\n",
      "[CV] bootstrap=False, criterion=gini, max_depth=7, max_features=sqrt, n_estimators=100 \n"
     ]
    },
    {
     "name": "stderr",
     "output_type": "stream",
     "text": [
      "/usr/local/lib/python3.7/site-packages/sklearn/model_selection/_validation.py:514: DataConversionWarning: A column-vector y was passed when a 1d array was expected. Please change the shape of y to (n_samples,), for example using ravel().\n",
      "  estimator.fit(X_train, y_train, **fit_params)\n"
     ]
    },
    {
     "name": "stdout",
     "output_type": "stream",
     "text": [
      "[CV]  bootstrap=False, criterion=gini, max_depth=7, max_features=sqrt, n_estimators=100, score=0.956, total=   1.1s\n",
      "[CV] bootstrap=False, criterion=gini, max_depth=7, max_features=sqrt, n_estimators=100 \n"
     ]
    },
    {
     "name": "stderr",
     "output_type": "stream",
     "text": [
      "/usr/local/lib/python3.7/site-packages/sklearn/model_selection/_validation.py:514: DataConversionWarning: A column-vector y was passed when a 1d array was expected. Please change the shape of y to (n_samples,), for example using ravel().\n",
      "  estimator.fit(X_train, y_train, **fit_params)\n"
     ]
    },
    {
     "name": "stdout",
     "output_type": "stream",
     "text": [
      "[CV]  bootstrap=False, criterion=gini, max_depth=7, max_features=sqrt, n_estimators=100, score=0.956, total=   1.1s\n",
      "[CV] bootstrap=False, criterion=gini, max_depth=7, max_features=sqrt, n_estimators=100 \n"
     ]
    },
    {
     "name": "stderr",
     "output_type": "stream",
     "text": [
      "/usr/local/lib/python3.7/site-packages/sklearn/model_selection/_validation.py:514: DataConversionWarning: A column-vector y was passed when a 1d array was expected. Please change the shape of y to (n_samples,), for example using ravel().\n",
      "  estimator.fit(X_train, y_train, **fit_params)\n"
     ]
    },
    {
     "name": "stdout",
     "output_type": "stream",
     "text": [
      "[CV]  bootstrap=False, criterion=gini, max_depth=7, max_features=sqrt, n_estimators=100, score=0.960, total=   1.3s\n",
      "[CV] bootstrap=False, criterion=gini, max_depth=7, max_features=log2, n_estimators=10 \n",
      "[CV]  bootstrap=False, criterion=gini, max_depth=7, max_features=log2, n_estimators=10, score=0.944, total=   0.1s\n",
      "[CV] bootstrap=False, criterion=gini, max_depth=7, max_features=log2, n_estimators=10 \n"
     ]
    },
    {
     "name": "stderr",
     "output_type": "stream",
     "text": [
      "/usr/local/lib/python3.7/site-packages/sklearn/model_selection/_validation.py:514: DataConversionWarning: A column-vector y was passed when a 1d array was expected. Please change the shape of y to (n_samples,), for example using ravel().\n",
      "  estimator.fit(X_train, y_train, **fit_params)\n",
      "/usr/local/lib/python3.7/site-packages/sklearn/model_selection/_validation.py:514: DataConversionWarning: A column-vector y was passed when a 1d array was expected. Please change the shape of y to (n_samples,), for example using ravel().\n",
      "  estimator.fit(X_train, y_train, **fit_params)\n"
     ]
    },
    {
     "name": "stdout",
     "output_type": "stream",
     "text": [
      "[CV]  bootstrap=False, criterion=gini, max_depth=7, max_features=log2, n_estimators=10, score=0.958, total=   0.1s\n",
      "[CV] bootstrap=False, criterion=gini, max_depth=7, max_features=log2, n_estimators=10 \n",
      "[CV]  bootstrap=False, criterion=gini, max_depth=7, max_features=log2, n_estimators=10, score=0.948, total=   0.1s\n",
      "[CV] bootstrap=False, criterion=gini, max_depth=7, max_features=log2, n_estimators=10 \n"
     ]
    },
    {
     "name": "stderr",
     "output_type": "stream",
     "text": [
      "/usr/local/lib/python3.7/site-packages/sklearn/model_selection/_validation.py:514: DataConversionWarning: A column-vector y was passed when a 1d array was expected. Please change the shape of y to (n_samples,), for example using ravel().\n",
      "  estimator.fit(X_train, y_train, **fit_params)\n",
      "/usr/local/lib/python3.7/site-packages/sklearn/model_selection/_validation.py:514: DataConversionWarning: A column-vector y was passed when a 1d array was expected. Please change the shape of y to (n_samples,), for example using ravel().\n",
      "  estimator.fit(X_train, y_train, **fit_params)\n"
     ]
    },
    {
     "name": "stdout",
     "output_type": "stream",
     "text": [
      "[CV]  bootstrap=False, criterion=gini, max_depth=7, max_features=log2, n_estimators=10, score=0.936, total=   0.1s\n",
      "[CV] bootstrap=False, criterion=gini, max_depth=7, max_features=log2, n_estimators=10 \n",
      "[CV]  bootstrap=False, criterion=gini, max_depth=7, max_features=log2, n_estimators=10, score=0.952, total=   0.1s\n",
      "[CV] bootstrap=False, criterion=gini, max_depth=7, max_features=log2, n_estimators=50 \n"
     ]
    },
    {
     "name": "stderr",
     "output_type": "stream",
     "text": [
      "/usr/local/lib/python3.7/site-packages/sklearn/model_selection/_validation.py:514: DataConversionWarning: A column-vector y was passed when a 1d array was expected. Please change the shape of y to (n_samples,), for example using ravel().\n",
      "  estimator.fit(X_train, y_train, **fit_params)\n",
      "/usr/local/lib/python3.7/site-packages/sklearn/model_selection/_validation.py:514: DataConversionWarning: A column-vector y was passed when a 1d array was expected. Please change the shape of y to (n_samples,), for example using ravel().\n",
      "  estimator.fit(X_train, y_train, **fit_params)\n"
     ]
    },
    {
     "name": "stdout",
     "output_type": "stream",
     "text": [
      "[CV]  bootstrap=False, criterion=gini, max_depth=7, max_features=log2, n_estimators=50, score=0.957, total=   0.5s\n",
      "[CV] bootstrap=False, criterion=gini, max_depth=7, max_features=log2, n_estimators=50 \n"
     ]
    },
    {
     "name": "stderr",
     "output_type": "stream",
     "text": [
      "/usr/local/lib/python3.7/site-packages/sklearn/model_selection/_validation.py:514: DataConversionWarning: A column-vector y was passed when a 1d array was expected. Please change the shape of y to (n_samples,), for example using ravel().\n",
      "  estimator.fit(X_train, y_train, **fit_params)\n"
     ]
    },
    {
     "name": "stdout",
     "output_type": "stream",
     "text": [
      "[CV]  bootstrap=False, criterion=gini, max_depth=7, max_features=log2, n_estimators=50, score=0.960, total=   0.5s\n",
      "[CV] bootstrap=False, criterion=gini, max_depth=7, max_features=log2, n_estimators=50 \n"
     ]
    },
    {
     "name": "stderr",
     "output_type": "stream",
     "text": [
      "/usr/local/lib/python3.7/site-packages/sklearn/model_selection/_validation.py:514: DataConversionWarning: A column-vector y was passed when a 1d array was expected. Please change the shape of y to (n_samples,), for example using ravel().\n",
      "  estimator.fit(X_train, y_train, **fit_params)\n"
     ]
    },
    {
     "name": "stdout",
     "output_type": "stream",
     "text": [
      "[CV]  bootstrap=False, criterion=gini, max_depth=7, max_features=log2, n_estimators=50, score=0.956, total=   0.4s\n",
      "[CV] bootstrap=False, criterion=gini, max_depth=7, max_features=log2, n_estimators=50 \n"
     ]
    },
    {
     "name": "stderr",
     "output_type": "stream",
     "text": [
      "/usr/local/lib/python3.7/site-packages/sklearn/model_selection/_validation.py:514: DataConversionWarning: A column-vector y was passed when a 1d array was expected. Please change the shape of y to (n_samples,), for example using ravel().\n",
      "  estimator.fit(X_train, y_train, **fit_params)\n"
     ]
    },
    {
     "name": "stdout",
     "output_type": "stream",
     "text": [
      "[CV]  bootstrap=False, criterion=gini, max_depth=7, max_features=log2, n_estimators=50, score=0.955, total=   0.5s\n",
      "[CV] bootstrap=False, criterion=gini, max_depth=7, max_features=log2, n_estimators=50 \n"
     ]
    },
    {
     "name": "stderr",
     "output_type": "stream",
     "text": [
      "/usr/local/lib/python3.7/site-packages/sklearn/model_selection/_validation.py:514: DataConversionWarning: A column-vector y was passed when a 1d array was expected. Please change the shape of y to (n_samples,), for example using ravel().\n",
      "  estimator.fit(X_train, y_train, **fit_params)\n"
     ]
    },
    {
     "name": "stdout",
     "output_type": "stream",
     "text": [
      "[CV]  bootstrap=False, criterion=gini, max_depth=7, max_features=log2, n_estimators=50, score=0.960, total=   0.5s\n",
      "[CV] bootstrap=False, criterion=gini, max_depth=7, max_features=log2, n_estimators=100 \n"
     ]
    },
    {
     "name": "stderr",
     "output_type": "stream",
     "text": [
      "/usr/local/lib/python3.7/site-packages/sklearn/model_selection/_validation.py:514: DataConversionWarning: A column-vector y was passed when a 1d array was expected. Please change the shape of y to (n_samples,), for example using ravel().\n",
      "  estimator.fit(X_train, y_train, **fit_params)\n"
     ]
    },
    {
     "name": "stdout",
     "output_type": "stream",
     "text": [
      "[CV]  bootstrap=False, criterion=gini, max_depth=7, max_features=log2, n_estimators=100, score=0.957, total=   1.2s\n",
      "[CV] bootstrap=False, criterion=gini, max_depth=7, max_features=log2, n_estimators=100 \n"
     ]
    },
    {
     "name": "stderr",
     "output_type": "stream",
     "text": [
      "/usr/local/lib/python3.7/site-packages/sklearn/model_selection/_validation.py:514: DataConversionWarning: A column-vector y was passed when a 1d array was expected. Please change the shape of y to (n_samples,), for example using ravel().\n",
      "  estimator.fit(X_train, y_train, **fit_params)\n"
     ]
    },
    {
     "name": "stdout",
     "output_type": "stream",
     "text": [
      "[CV]  bootstrap=False, criterion=gini, max_depth=7, max_features=log2, n_estimators=100, score=0.960, total=   1.1s\n",
      "[CV] bootstrap=False, criterion=gini, max_depth=7, max_features=log2, n_estimators=100 \n"
     ]
    },
    {
     "name": "stderr",
     "output_type": "stream",
     "text": [
      "/usr/local/lib/python3.7/site-packages/sklearn/model_selection/_validation.py:514: DataConversionWarning: A column-vector y was passed when a 1d array was expected. Please change the shape of y to (n_samples,), for example using ravel().\n",
      "  estimator.fit(X_train, y_train, **fit_params)\n"
     ]
    },
    {
     "name": "stdout",
     "output_type": "stream",
     "text": [
      "[CV]  bootstrap=False, criterion=gini, max_depth=7, max_features=log2, n_estimators=100, score=0.956, total=   0.9s\n",
      "[CV] bootstrap=False, criterion=gini, max_depth=7, max_features=log2, n_estimators=100 \n"
     ]
    },
    {
     "name": "stderr",
     "output_type": "stream",
     "text": [
      "/usr/local/lib/python3.7/site-packages/sklearn/model_selection/_validation.py:514: DataConversionWarning: A column-vector y was passed when a 1d array was expected. Please change the shape of y to (n_samples,), for example using ravel().\n",
      "  estimator.fit(X_train, y_train, **fit_params)\n"
     ]
    },
    {
     "name": "stdout",
     "output_type": "stream",
     "text": [
      "[CV]  bootstrap=False, criterion=gini, max_depth=7, max_features=log2, n_estimators=100, score=0.955, total=   0.9s\n",
      "[CV] bootstrap=False, criterion=gini, max_depth=7, max_features=log2, n_estimators=100 \n"
     ]
    },
    {
     "name": "stderr",
     "output_type": "stream",
     "text": [
      "/usr/local/lib/python3.7/site-packages/sklearn/model_selection/_validation.py:514: DataConversionWarning: A column-vector y was passed when a 1d array was expected. Please change the shape of y to (n_samples,), for example using ravel().\n",
      "  estimator.fit(X_train, y_train, **fit_params)\n"
     ]
    },
    {
     "name": "stdout",
     "output_type": "stream",
     "text": [
      "[CV]  bootstrap=False, criterion=gini, max_depth=7, max_features=log2, n_estimators=100, score=0.960, total=   1.0s\n",
      "[CV] bootstrap=False, criterion=gini, max_depth=9, max_features=auto, n_estimators=10 \n",
      "[CV]  bootstrap=False, criterion=gini, max_depth=9, max_features=auto, n_estimators=10, score=0.955, total=   0.1s\n",
      "[CV] bootstrap=False, criterion=gini, max_depth=9, max_features=auto, n_estimators=10 \n"
     ]
    },
    {
     "name": "stderr",
     "output_type": "stream",
     "text": [
      "/usr/local/lib/python3.7/site-packages/sklearn/model_selection/_validation.py:514: DataConversionWarning: A column-vector y was passed when a 1d array was expected. Please change the shape of y to (n_samples,), for example using ravel().\n",
      "  estimator.fit(X_train, y_train, **fit_params)\n",
      "/usr/local/lib/python3.7/site-packages/sklearn/model_selection/_validation.py:514: DataConversionWarning: A column-vector y was passed when a 1d array was expected. Please change the shape of y to (n_samples,), for example using ravel().\n",
      "  estimator.fit(X_train, y_train, **fit_params)\n"
     ]
    },
    {
     "name": "stdout",
     "output_type": "stream",
     "text": [
      "[CV]  bootstrap=False, criterion=gini, max_depth=9, max_features=auto, n_estimators=10, score=0.959, total=   0.1s\n",
      "[CV] bootstrap=False, criterion=gini, max_depth=9, max_features=auto, n_estimators=10 \n",
      "[CV]  bootstrap=False, criterion=gini, max_depth=9, max_features=auto, n_estimators=10, score=0.956, total=   0.2s\n",
      "[CV] bootstrap=False, criterion=gini, max_depth=9, max_features=auto, n_estimators=10 \n"
     ]
    },
    {
     "name": "stderr",
     "output_type": "stream",
     "text": [
      "/usr/local/lib/python3.7/site-packages/sklearn/model_selection/_validation.py:514: DataConversionWarning: A column-vector y was passed when a 1d array was expected. Please change the shape of y to (n_samples,), for example using ravel().\n",
      "  estimator.fit(X_train, y_train, **fit_params)\n",
      "/usr/local/lib/python3.7/site-packages/sklearn/model_selection/_validation.py:514: DataConversionWarning: A column-vector y was passed when a 1d array was expected. Please change the shape of y to (n_samples,), for example using ravel().\n",
      "  estimator.fit(X_train, y_train, **fit_params)\n"
     ]
    },
    {
     "name": "stdout",
     "output_type": "stream",
     "text": [
      "[CV]  bootstrap=False, criterion=gini, max_depth=9, max_features=auto, n_estimators=10, score=0.957, total=   0.2s\n",
      "[CV] bootstrap=False, criterion=gini, max_depth=9, max_features=auto, n_estimators=10 \n",
      "[CV]  bootstrap=False, criterion=gini, max_depth=9, max_features=auto, n_estimators=10, score=0.960, total=   0.1s\n",
      "[CV] bootstrap=False, criterion=gini, max_depth=9, max_features=auto, n_estimators=50 \n"
     ]
    },
    {
     "name": "stderr",
     "output_type": "stream",
     "text": [
      "/usr/local/lib/python3.7/site-packages/sklearn/model_selection/_validation.py:514: DataConversionWarning: A column-vector y was passed when a 1d array was expected. Please change the shape of y to (n_samples,), for example using ravel().\n",
      "  estimator.fit(X_train, y_train, **fit_params)\n",
      "/usr/local/lib/python3.7/site-packages/sklearn/model_selection/_validation.py:514: DataConversionWarning: A column-vector y was passed when a 1d array was expected. Please change the shape of y to (n_samples,), for example using ravel().\n",
      "  estimator.fit(X_train, y_train, **fit_params)\n"
     ]
    },
    {
     "name": "stdout",
     "output_type": "stream",
     "text": [
      "[CV]  bootstrap=False, criterion=gini, max_depth=9, max_features=auto, n_estimators=50, score=0.957, total=   0.9s\n",
      "[CV] bootstrap=False, criterion=gini, max_depth=9, max_features=auto, n_estimators=50 \n"
     ]
    },
    {
     "name": "stderr",
     "output_type": "stream",
     "text": [
      "/usr/local/lib/python3.7/site-packages/sklearn/model_selection/_validation.py:514: DataConversionWarning: A column-vector y was passed when a 1d array was expected. Please change the shape of y to (n_samples,), for example using ravel().\n",
      "  estimator.fit(X_train, y_train, **fit_params)\n"
     ]
    },
    {
     "name": "stdout",
     "output_type": "stream",
     "text": [
      "[CV]  bootstrap=False, criterion=gini, max_depth=9, max_features=auto, n_estimators=50, score=0.960, total=   0.9s\n",
      "[CV] bootstrap=False, criterion=gini, max_depth=9, max_features=auto, n_estimators=50 \n"
     ]
    },
    {
     "name": "stderr",
     "output_type": "stream",
     "text": [
      "/usr/local/lib/python3.7/site-packages/sklearn/model_selection/_validation.py:514: DataConversionWarning: A column-vector y was passed when a 1d array was expected. Please change the shape of y to (n_samples,), for example using ravel().\n",
      "  estimator.fit(X_train, y_train, **fit_params)\n"
     ]
    },
    {
     "name": "stdout",
     "output_type": "stream",
     "text": [
      "[CV]  bootstrap=False, criterion=gini, max_depth=9, max_features=auto, n_estimators=50, score=0.957, total=   1.9s\n",
      "[CV] bootstrap=False, criterion=gini, max_depth=9, max_features=auto, n_estimators=50 \n"
     ]
    },
    {
     "name": "stderr",
     "output_type": "stream",
     "text": [
      "/usr/local/lib/python3.7/site-packages/sklearn/model_selection/_validation.py:514: DataConversionWarning: A column-vector y was passed when a 1d array was expected. Please change the shape of y to (n_samples,), for example using ravel().\n",
      "  estimator.fit(X_train, y_train, **fit_params)\n"
     ]
    },
    {
     "name": "stdout",
     "output_type": "stream",
     "text": [
      "[CV]  bootstrap=False, criterion=gini, max_depth=9, max_features=auto, n_estimators=50, score=0.957, total=   1.4s\n",
      "[CV] bootstrap=False, criterion=gini, max_depth=9, max_features=auto, n_estimators=50 \n"
     ]
    },
    {
     "name": "stderr",
     "output_type": "stream",
     "text": [
      "/usr/local/lib/python3.7/site-packages/sklearn/model_selection/_validation.py:514: DataConversionWarning: A column-vector y was passed when a 1d array was expected. Please change the shape of y to (n_samples,), for example using ravel().\n",
      "  estimator.fit(X_train, y_train, **fit_params)\n"
     ]
    },
    {
     "name": "stdout",
     "output_type": "stream",
     "text": [
      "[CV]  bootstrap=False, criterion=gini, max_depth=9, max_features=auto, n_estimators=50, score=0.958, total=   0.8s\n",
      "[CV] bootstrap=False, criterion=gini, max_depth=9, max_features=auto, n_estimators=100 \n"
     ]
    },
    {
     "name": "stderr",
     "output_type": "stream",
     "text": [
      "/usr/local/lib/python3.7/site-packages/sklearn/model_selection/_validation.py:514: DataConversionWarning: A column-vector y was passed when a 1d array was expected. Please change the shape of y to (n_samples,), for example using ravel().\n",
      "  estimator.fit(X_train, y_train, **fit_params)\n"
     ]
    },
    {
     "name": "stdout",
     "output_type": "stream",
     "text": [
      "[CV]  bootstrap=False, criterion=gini, max_depth=9, max_features=auto, n_estimators=100, score=0.957, total=   1.4s\n",
      "[CV] bootstrap=False, criterion=gini, max_depth=9, max_features=auto, n_estimators=100 \n"
     ]
    },
    {
     "name": "stderr",
     "output_type": "stream",
     "text": [
      "/usr/local/lib/python3.7/site-packages/sklearn/model_selection/_validation.py:514: DataConversionWarning: A column-vector y was passed when a 1d array was expected. Please change the shape of y to (n_samples,), for example using ravel().\n",
      "  estimator.fit(X_train, y_train, **fit_params)\n"
     ]
    },
    {
     "name": "stdout",
     "output_type": "stream",
     "text": [
      "[CV]  bootstrap=False, criterion=gini, max_depth=9, max_features=auto, n_estimators=100, score=0.960, total=   1.4s\n",
      "[CV] bootstrap=False, criterion=gini, max_depth=9, max_features=auto, n_estimators=100 \n"
     ]
    },
    {
     "name": "stderr",
     "output_type": "stream",
     "text": [
      "/usr/local/lib/python3.7/site-packages/sklearn/model_selection/_validation.py:514: DataConversionWarning: A column-vector y was passed when a 1d array was expected. Please change the shape of y to (n_samples,), for example using ravel().\n",
      "  estimator.fit(X_train, y_train, **fit_params)\n"
     ]
    },
    {
     "name": "stdout",
     "output_type": "stream",
     "text": [
      "[CV]  bootstrap=False, criterion=gini, max_depth=9, max_features=auto, n_estimators=100, score=0.956, total=   1.3s\n",
      "[CV] bootstrap=False, criterion=gini, max_depth=9, max_features=auto, n_estimators=100 \n"
     ]
    },
    {
     "name": "stderr",
     "output_type": "stream",
     "text": [
      "/usr/local/lib/python3.7/site-packages/sklearn/model_selection/_validation.py:514: DataConversionWarning: A column-vector y was passed when a 1d array was expected. Please change the shape of y to (n_samples,), for example using ravel().\n",
      "  estimator.fit(X_train, y_train, **fit_params)\n"
     ]
    },
    {
     "name": "stdout",
     "output_type": "stream",
     "text": [
      "[CV]  bootstrap=False, criterion=gini, max_depth=9, max_features=auto, n_estimators=100, score=0.955, total=   1.3s\n",
      "[CV] bootstrap=False, criterion=gini, max_depth=9, max_features=auto, n_estimators=100 \n"
     ]
    },
    {
     "name": "stderr",
     "output_type": "stream",
     "text": [
      "/usr/local/lib/python3.7/site-packages/sklearn/model_selection/_validation.py:514: DataConversionWarning: A column-vector y was passed when a 1d array was expected. Please change the shape of y to (n_samples,), for example using ravel().\n",
      "  estimator.fit(X_train, y_train, **fit_params)\n"
     ]
    },
    {
     "name": "stdout",
     "output_type": "stream",
     "text": [
      "[CV]  bootstrap=False, criterion=gini, max_depth=9, max_features=auto, n_estimators=100, score=0.959, total=   1.5s\n",
      "[CV] bootstrap=False, criterion=gini, max_depth=9, max_features=sqrt, n_estimators=10 \n",
      "[CV]  bootstrap=False, criterion=gini, max_depth=9, max_features=sqrt, n_estimators=10, score=0.955, total=   0.1s\n",
      "[CV] bootstrap=False, criterion=gini, max_depth=9, max_features=sqrt, n_estimators=10 \n"
     ]
    },
    {
     "name": "stderr",
     "output_type": "stream",
     "text": [
      "/usr/local/lib/python3.7/site-packages/sklearn/model_selection/_validation.py:514: DataConversionWarning: A column-vector y was passed when a 1d array was expected. Please change the shape of y to (n_samples,), for example using ravel().\n",
      "  estimator.fit(X_train, y_train, **fit_params)\n",
      "/usr/local/lib/python3.7/site-packages/sklearn/model_selection/_validation.py:514: DataConversionWarning: A column-vector y was passed when a 1d array was expected. Please change the shape of y to (n_samples,), for example using ravel().\n",
      "  estimator.fit(X_train, y_train, **fit_params)\n"
     ]
    },
    {
     "name": "stdout",
     "output_type": "stream",
     "text": [
      "[CV]  bootstrap=False, criterion=gini, max_depth=9, max_features=sqrt, n_estimators=10, score=0.959, total=   0.3s\n",
      "[CV] bootstrap=False, criterion=gini, max_depth=9, max_features=sqrt, n_estimators=10 \n"
     ]
    },
    {
     "name": "stderr",
     "output_type": "stream",
     "text": [
      "/usr/local/lib/python3.7/site-packages/sklearn/model_selection/_validation.py:514: DataConversionWarning: A column-vector y was passed when a 1d array was expected. Please change the shape of y to (n_samples,), for example using ravel().\n",
      "  estimator.fit(X_train, y_train, **fit_params)\n"
     ]
    },
    {
     "name": "stdout",
     "output_type": "stream",
     "text": [
      "[CV]  bootstrap=False, criterion=gini, max_depth=9, max_features=sqrt, n_estimators=10, score=0.956, total=   0.4s\n",
      "[CV] bootstrap=False, criterion=gini, max_depth=9, max_features=sqrt, n_estimators=10 \n"
     ]
    },
    {
     "name": "stderr",
     "output_type": "stream",
     "text": [
      "/usr/local/lib/python3.7/site-packages/sklearn/model_selection/_validation.py:514: DataConversionWarning: A column-vector y was passed when a 1d array was expected. Please change the shape of y to (n_samples,), for example using ravel().\n",
      "  estimator.fit(X_train, y_train, **fit_params)\n"
     ]
    },
    {
     "name": "stdout",
     "output_type": "stream",
     "text": [
      "[CV]  bootstrap=False, criterion=gini, max_depth=9, max_features=sqrt, n_estimators=10, score=0.957, total=   0.2s\n",
      "[CV] bootstrap=False, criterion=gini, max_depth=9, max_features=sqrt, n_estimators=10 \n",
      "[CV]  bootstrap=False, criterion=gini, max_depth=9, max_features=sqrt, n_estimators=10, score=0.960, total=   0.1s\n",
      "[CV] bootstrap=False, criterion=gini, max_depth=9, max_features=sqrt, n_estimators=50 \n"
     ]
    },
    {
     "name": "stderr",
     "output_type": "stream",
     "text": [
      "/usr/local/lib/python3.7/site-packages/sklearn/model_selection/_validation.py:514: DataConversionWarning: A column-vector y was passed when a 1d array was expected. Please change the shape of y to (n_samples,), for example using ravel().\n",
      "  estimator.fit(X_train, y_train, **fit_params)\n",
      "/usr/local/lib/python3.7/site-packages/sklearn/model_selection/_validation.py:514: DataConversionWarning: A column-vector y was passed when a 1d array was expected. Please change the shape of y to (n_samples,), for example using ravel().\n",
      "  estimator.fit(X_train, y_train, **fit_params)\n"
     ]
    },
    {
     "name": "stdout",
     "output_type": "stream",
     "text": [
      "[CV]  bootstrap=False, criterion=gini, max_depth=9, max_features=sqrt, n_estimators=50, score=0.957, total=   0.8s\n",
      "[CV] bootstrap=False, criterion=gini, max_depth=9, max_features=sqrt, n_estimators=50 \n"
     ]
    },
    {
     "name": "stderr",
     "output_type": "stream",
     "text": [
      "/usr/local/lib/python3.7/site-packages/sklearn/model_selection/_validation.py:514: DataConversionWarning: A column-vector y was passed when a 1d array was expected. Please change the shape of y to (n_samples,), for example using ravel().\n",
      "  estimator.fit(X_train, y_train, **fit_params)\n"
     ]
    },
    {
     "name": "stdout",
     "output_type": "stream",
     "text": [
      "[CV]  bootstrap=False, criterion=gini, max_depth=9, max_features=sqrt, n_estimators=50, score=0.960, total=   0.7s\n",
      "[CV] bootstrap=False, criterion=gini, max_depth=9, max_features=sqrt, n_estimators=50 \n"
     ]
    },
    {
     "name": "stderr",
     "output_type": "stream",
     "text": [
      "/usr/local/lib/python3.7/site-packages/sklearn/model_selection/_validation.py:514: DataConversionWarning: A column-vector y was passed when a 1d array was expected. Please change the shape of y to (n_samples,), for example using ravel().\n",
      "  estimator.fit(X_train, y_train, **fit_params)\n"
     ]
    },
    {
     "name": "stdout",
     "output_type": "stream",
     "text": [
      "[CV]  bootstrap=False, criterion=gini, max_depth=9, max_features=sqrt, n_estimators=50, score=0.957, total=   0.8s\n",
      "[CV] bootstrap=False, criterion=gini, max_depth=9, max_features=sqrt, n_estimators=50 \n"
     ]
    },
    {
     "name": "stderr",
     "output_type": "stream",
     "text": [
      "/usr/local/lib/python3.7/site-packages/sklearn/model_selection/_validation.py:514: DataConversionWarning: A column-vector y was passed when a 1d array was expected. Please change the shape of y to (n_samples,), for example using ravel().\n",
      "  estimator.fit(X_train, y_train, **fit_params)\n"
     ]
    },
    {
     "name": "stdout",
     "output_type": "stream",
     "text": [
      "[CV]  bootstrap=False, criterion=gini, max_depth=9, max_features=sqrt, n_estimators=50, score=0.957, total=   0.7s\n",
      "[CV] bootstrap=False, criterion=gini, max_depth=9, max_features=sqrt, n_estimators=50 \n"
     ]
    },
    {
     "name": "stderr",
     "output_type": "stream",
     "text": [
      "/usr/local/lib/python3.7/site-packages/sklearn/model_selection/_validation.py:514: DataConversionWarning: A column-vector y was passed when a 1d array was expected. Please change the shape of y to (n_samples,), for example using ravel().\n",
      "  estimator.fit(X_train, y_train, **fit_params)\n"
     ]
    },
    {
     "name": "stdout",
     "output_type": "stream",
     "text": [
      "[CV]  bootstrap=False, criterion=gini, max_depth=9, max_features=sqrt, n_estimators=50, score=0.958, total=   0.9s\n",
      "[CV] bootstrap=False, criterion=gini, max_depth=9, max_features=sqrt, n_estimators=100 \n"
     ]
    },
    {
     "name": "stderr",
     "output_type": "stream",
     "text": [
      "/usr/local/lib/python3.7/site-packages/sklearn/model_selection/_validation.py:514: DataConversionWarning: A column-vector y was passed when a 1d array was expected. Please change the shape of y to (n_samples,), for example using ravel().\n",
      "  estimator.fit(X_train, y_train, **fit_params)\n"
     ]
    },
    {
     "name": "stdout",
     "output_type": "stream",
     "text": [
      "[CV]  bootstrap=False, criterion=gini, max_depth=9, max_features=sqrt, n_estimators=100, score=0.957, total=   1.5s\n",
      "[CV] bootstrap=False, criterion=gini, max_depth=9, max_features=sqrt, n_estimators=100 \n"
     ]
    },
    {
     "name": "stderr",
     "output_type": "stream",
     "text": [
      "/usr/local/lib/python3.7/site-packages/sklearn/model_selection/_validation.py:514: DataConversionWarning: A column-vector y was passed when a 1d array was expected. Please change the shape of y to (n_samples,), for example using ravel().\n",
      "  estimator.fit(X_train, y_train, **fit_params)\n"
     ]
    },
    {
     "name": "stdout",
     "output_type": "stream",
     "text": [
      "[CV]  bootstrap=False, criterion=gini, max_depth=9, max_features=sqrt, n_estimators=100, score=0.960, total=   1.2s\n",
      "[CV] bootstrap=False, criterion=gini, max_depth=9, max_features=sqrt, n_estimators=100 \n"
     ]
    },
    {
     "name": "stderr",
     "output_type": "stream",
     "text": [
      "/usr/local/lib/python3.7/site-packages/sklearn/model_selection/_validation.py:514: DataConversionWarning: A column-vector y was passed when a 1d array was expected. Please change the shape of y to (n_samples,), for example using ravel().\n",
      "  estimator.fit(X_train, y_train, **fit_params)\n"
     ]
    },
    {
     "name": "stdout",
     "output_type": "stream",
     "text": [
      "[CV]  bootstrap=False, criterion=gini, max_depth=9, max_features=sqrt, n_estimators=100, score=0.956, total=   1.5s\n",
      "[CV] bootstrap=False, criterion=gini, max_depth=9, max_features=sqrt, n_estimators=100 \n"
     ]
    },
    {
     "name": "stderr",
     "output_type": "stream",
     "text": [
      "/usr/local/lib/python3.7/site-packages/sklearn/model_selection/_validation.py:514: DataConversionWarning: A column-vector y was passed when a 1d array was expected. Please change the shape of y to (n_samples,), for example using ravel().\n",
      "  estimator.fit(X_train, y_train, **fit_params)\n"
     ]
    },
    {
     "name": "stdout",
     "output_type": "stream",
     "text": [
      "[CV]  bootstrap=False, criterion=gini, max_depth=9, max_features=sqrt, n_estimators=100, score=0.955, total=   1.7s\n",
      "[CV] bootstrap=False, criterion=gini, max_depth=9, max_features=sqrt, n_estimators=100 \n"
     ]
    },
    {
     "name": "stderr",
     "output_type": "stream",
     "text": [
      "/usr/local/lib/python3.7/site-packages/sklearn/model_selection/_validation.py:514: DataConversionWarning: A column-vector y was passed when a 1d array was expected. Please change the shape of y to (n_samples,), for example using ravel().\n",
      "  estimator.fit(X_train, y_train, **fit_params)\n"
     ]
    },
    {
     "name": "stdout",
     "output_type": "stream",
     "text": [
      "[CV]  bootstrap=False, criterion=gini, max_depth=9, max_features=sqrt, n_estimators=100, score=0.959, total=   1.2s\n",
      "[CV] bootstrap=False, criterion=gini, max_depth=9, max_features=log2, n_estimators=10 \n",
      "[CV]  bootstrap=False, criterion=gini, max_depth=9, max_features=log2, n_estimators=10, score=0.949, total=   0.1s\n",
      "[CV] bootstrap=False, criterion=gini, max_depth=9, max_features=log2, n_estimators=10 \n"
     ]
    },
    {
     "name": "stderr",
     "output_type": "stream",
     "text": [
      "/usr/local/lib/python3.7/site-packages/sklearn/model_selection/_validation.py:514: DataConversionWarning: A column-vector y was passed when a 1d array was expected. Please change the shape of y to (n_samples,), for example using ravel().\n",
      "  estimator.fit(X_train, y_train, **fit_params)\n",
      "/usr/local/lib/python3.7/site-packages/sklearn/model_selection/_validation.py:514: DataConversionWarning: A column-vector y was passed when a 1d array was expected. Please change the shape of y to (n_samples,), for example using ravel().\n",
      "  estimator.fit(X_train, y_train, **fit_params)\n"
     ]
    },
    {
     "name": "stdout",
     "output_type": "stream",
     "text": [
      "[CV]  bootstrap=False, criterion=gini, max_depth=9, max_features=log2, n_estimators=10, score=0.961, total=   0.1s\n",
      "[CV] bootstrap=False, criterion=gini, max_depth=9, max_features=log2, n_estimators=10 \n",
      "[CV]  bootstrap=False, criterion=gini, max_depth=9, max_features=log2, n_estimators=10, score=0.954, total=   0.1s\n",
      "[CV] bootstrap=False, criterion=gini, max_depth=9, max_features=log2, n_estimators=10 \n"
     ]
    },
    {
     "name": "stderr",
     "output_type": "stream",
     "text": [
      "/usr/local/lib/python3.7/site-packages/sklearn/model_selection/_validation.py:514: DataConversionWarning: A column-vector y was passed when a 1d array was expected. Please change the shape of y to (n_samples,), for example using ravel().\n",
      "  estimator.fit(X_train, y_train, **fit_params)\n",
      "/usr/local/lib/python3.7/site-packages/sklearn/model_selection/_validation.py:514: DataConversionWarning: A column-vector y was passed when a 1d array was expected. Please change the shape of y to (n_samples,), for example using ravel().\n",
      "  estimator.fit(X_train, y_train, **fit_params)\n"
     ]
    },
    {
     "name": "stdout",
     "output_type": "stream",
     "text": [
      "[CV]  bootstrap=False, criterion=gini, max_depth=9, max_features=log2, n_estimators=10, score=0.955, total=   0.1s\n",
      "[CV] bootstrap=False, criterion=gini, max_depth=9, max_features=log2, n_estimators=10 \n",
      "[CV]  bootstrap=False, criterion=gini, max_depth=9, max_features=log2, n_estimators=10, score=0.958, total=   0.1s\n",
      "[CV] bootstrap=False, criterion=gini, max_depth=9, max_features=log2, n_estimators=50 \n"
     ]
    },
    {
     "name": "stderr",
     "output_type": "stream",
     "text": [
      "/usr/local/lib/python3.7/site-packages/sklearn/model_selection/_validation.py:514: DataConversionWarning: A column-vector y was passed when a 1d array was expected. Please change the shape of y to (n_samples,), for example using ravel().\n",
      "  estimator.fit(X_train, y_train, **fit_params)\n",
      "/usr/local/lib/python3.7/site-packages/sklearn/model_selection/_validation.py:514: DataConversionWarning: A column-vector y was passed when a 1d array was expected. Please change the shape of y to (n_samples,), for example using ravel().\n",
      "  estimator.fit(X_train, y_train, **fit_params)\n"
     ]
    },
    {
     "name": "stdout",
     "output_type": "stream",
     "text": [
      "[CV]  bootstrap=False, criterion=gini, max_depth=9, max_features=log2, n_estimators=50, score=0.956, total=   0.6s\n",
      "[CV] bootstrap=False, criterion=gini, max_depth=9, max_features=log2, n_estimators=50 \n"
     ]
    },
    {
     "name": "stderr",
     "output_type": "stream",
     "text": [
      "/usr/local/lib/python3.7/site-packages/sklearn/model_selection/_validation.py:514: DataConversionWarning: A column-vector y was passed when a 1d array was expected. Please change the shape of y to (n_samples,), for example using ravel().\n",
      "  estimator.fit(X_train, y_train, **fit_params)\n"
     ]
    },
    {
     "name": "stdout",
     "output_type": "stream",
     "text": [
      "[CV]  bootstrap=False, criterion=gini, max_depth=9, max_features=log2, n_estimators=50, score=0.960, total=   0.6s\n",
      "[CV] bootstrap=False, criterion=gini, max_depth=9, max_features=log2, n_estimators=50 \n"
     ]
    },
    {
     "name": "stderr",
     "output_type": "stream",
     "text": [
      "/usr/local/lib/python3.7/site-packages/sklearn/model_selection/_validation.py:514: DataConversionWarning: A column-vector y was passed when a 1d array was expected. Please change the shape of y to (n_samples,), for example using ravel().\n",
      "  estimator.fit(X_train, y_train, **fit_params)\n"
     ]
    },
    {
     "name": "stdout",
     "output_type": "stream",
     "text": [
      "[CV]  bootstrap=False, criterion=gini, max_depth=9, max_features=log2, n_estimators=50, score=0.957, total=   0.6s\n",
      "[CV] bootstrap=False, criterion=gini, max_depth=9, max_features=log2, n_estimators=50 \n"
     ]
    },
    {
     "name": "stderr",
     "output_type": "stream",
     "text": [
      "/usr/local/lib/python3.7/site-packages/sklearn/model_selection/_validation.py:514: DataConversionWarning: A column-vector y was passed when a 1d array was expected. Please change the shape of y to (n_samples,), for example using ravel().\n",
      "  estimator.fit(X_train, y_train, **fit_params)\n"
     ]
    },
    {
     "name": "stdout",
     "output_type": "stream",
     "text": [
      "[CV]  bootstrap=False, criterion=gini, max_depth=9, max_features=log2, n_estimators=50, score=0.957, total=   1.3s\n",
      "[CV] bootstrap=False, criterion=gini, max_depth=9, max_features=log2, n_estimators=50 \n"
     ]
    },
    {
     "name": "stderr",
     "output_type": "stream",
     "text": [
      "/usr/local/lib/python3.7/site-packages/sklearn/model_selection/_validation.py:514: DataConversionWarning: A column-vector y was passed when a 1d array was expected. Please change the shape of y to (n_samples,), for example using ravel().\n",
      "  estimator.fit(X_train, y_train, **fit_params)\n"
     ]
    },
    {
     "name": "stdout",
     "output_type": "stream",
     "text": [
      "[CV]  bootstrap=False, criterion=gini, max_depth=9, max_features=log2, n_estimators=50, score=0.960, total=   0.8s\n",
      "[CV] bootstrap=False, criterion=gini, max_depth=9, max_features=log2, n_estimators=100 \n"
     ]
    },
    {
     "name": "stderr",
     "output_type": "stream",
     "text": [
      "/usr/local/lib/python3.7/site-packages/sklearn/model_selection/_validation.py:514: DataConversionWarning: A column-vector y was passed when a 1d array was expected. Please change the shape of y to (n_samples,), for example using ravel().\n",
      "  estimator.fit(X_train, y_train, **fit_params)\n"
     ]
    },
    {
     "name": "stdout",
     "output_type": "stream",
     "text": [
      "[CV]  bootstrap=False, criterion=gini, max_depth=9, max_features=log2, n_estimators=100, score=0.958, total=   1.1s\n",
      "[CV] bootstrap=False, criterion=gini, max_depth=9, max_features=log2, n_estimators=100 \n"
     ]
    },
    {
     "name": "stderr",
     "output_type": "stream",
     "text": [
      "/usr/local/lib/python3.7/site-packages/sklearn/model_selection/_validation.py:514: DataConversionWarning: A column-vector y was passed when a 1d array was expected. Please change the shape of y to (n_samples,), for example using ravel().\n",
      "  estimator.fit(X_train, y_train, **fit_params)\n"
     ]
    },
    {
     "name": "stdout",
     "output_type": "stream",
     "text": [
      "[CV]  bootstrap=False, criterion=gini, max_depth=9, max_features=log2, n_estimators=100, score=0.961, total=   1.2s\n",
      "[CV] bootstrap=False, criterion=gini, max_depth=9, max_features=log2, n_estimators=100 \n"
     ]
    },
    {
     "name": "stderr",
     "output_type": "stream",
     "text": [
      "/usr/local/lib/python3.7/site-packages/sklearn/model_selection/_validation.py:514: DataConversionWarning: A column-vector y was passed when a 1d array was expected. Please change the shape of y to (n_samples,), for example using ravel().\n",
      "  estimator.fit(X_train, y_train, **fit_params)\n"
     ]
    },
    {
     "name": "stdout",
     "output_type": "stream",
     "text": [
      "[CV]  bootstrap=False, criterion=gini, max_depth=9, max_features=log2, n_estimators=100, score=0.957, total=   1.3s\n",
      "[CV] bootstrap=False, criterion=gini, max_depth=9, max_features=log2, n_estimators=100 \n"
     ]
    },
    {
     "name": "stderr",
     "output_type": "stream",
     "text": [
      "/usr/local/lib/python3.7/site-packages/sklearn/model_selection/_validation.py:514: DataConversionWarning: A column-vector y was passed when a 1d array was expected. Please change the shape of y to (n_samples,), for example using ravel().\n",
      "  estimator.fit(X_train, y_train, **fit_params)\n"
     ]
    },
    {
     "name": "stdout",
     "output_type": "stream",
     "text": [
      "[CV]  bootstrap=False, criterion=gini, max_depth=9, max_features=log2, n_estimators=100, score=0.956, total=   1.1s\n",
      "[CV] bootstrap=False, criterion=gini, max_depth=9, max_features=log2, n_estimators=100 \n"
     ]
    },
    {
     "name": "stderr",
     "output_type": "stream",
     "text": [
      "/usr/local/lib/python3.7/site-packages/sklearn/model_selection/_validation.py:514: DataConversionWarning: A column-vector y was passed when a 1d array was expected. Please change the shape of y to (n_samples,), for example using ravel().\n",
      "  estimator.fit(X_train, y_train, **fit_params)\n"
     ]
    },
    {
     "name": "stdout",
     "output_type": "stream",
     "text": [
      "[CV]  bootstrap=False, criterion=gini, max_depth=9, max_features=log2, n_estimators=100, score=0.960, total=   1.1s\n",
      "[CV] bootstrap=False, criterion=entropy, max_depth=3, max_features=auto, n_estimators=10 \n",
      "[CV]  bootstrap=False, criterion=entropy, max_depth=3, max_features=auto, n_estimators=10, score=0.957, total=   0.1s\n",
      "[CV] bootstrap=False, criterion=entropy, max_depth=3, max_features=auto, n_estimators=10 \n"
     ]
    },
    {
     "name": "stderr",
     "output_type": "stream",
     "text": [
      "/usr/local/lib/python3.7/site-packages/sklearn/model_selection/_validation.py:514: DataConversionWarning: A column-vector y was passed when a 1d array was expected. Please change the shape of y to (n_samples,), for example using ravel().\n",
      "  estimator.fit(X_train, y_train, **fit_params)\n",
      "/usr/local/lib/python3.7/site-packages/sklearn/model_selection/_validation.py:514: DataConversionWarning: A column-vector y was passed when a 1d array was expected. Please change the shape of y to (n_samples,), for example using ravel().\n",
      "  estimator.fit(X_train, y_train, **fit_params)\n"
     ]
    },
    {
     "name": "stdout",
     "output_type": "stream",
     "text": [
      "[CV]  bootstrap=False, criterion=entropy, max_depth=3, max_features=auto, n_estimators=10, score=0.956, total=   0.1s\n",
      "[CV] bootstrap=False, criterion=entropy, max_depth=3, max_features=auto, n_estimators=10 \n",
      "[CV]  bootstrap=False, criterion=entropy, max_depth=3, max_features=auto, n_estimators=10, score=0.955, total=   0.1s\n",
      "[CV] bootstrap=False, criterion=entropy, max_depth=3, max_features=auto, n_estimators=10 \n",
      "[CV]  bootstrap=False, criterion=entropy, max_depth=3, max_features=auto, n_estimators=10, score=0.954, total=   0.1s\n",
      "[CV] bootstrap=False, criterion=entropy, max_depth=3, max_features=auto, n_estimators=10 \n"
     ]
    },
    {
     "name": "stderr",
     "output_type": "stream",
     "text": [
      "/usr/local/lib/python3.7/site-packages/sklearn/model_selection/_validation.py:514: DataConversionWarning: A column-vector y was passed when a 1d array was expected. Please change the shape of y to (n_samples,), for example using ravel().\n",
      "  estimator.fit(X_train, y_train, **fit_params)\n",
      "/usr/local/lib/python3.7/site-packages/sklearn/model_selection/_validation.py:514: DataConversionWarning: A column-vector y was passed when a 1d array was expected. Please change the shape of y to (n_samples,), for example using ravel().\n",
      "  estimator.fit(X_train, y_train, **fit_params)\n",
      "/usr/local/lib/python3.7/site-packages/sklearn/model_selection/_validation.py:514: DataConversionWarning: A column-vector y was passed when a 1d array was expected. Please change the shape of y to (n_samples,), for example using ravel().\n",
      "  estimator.fit(X_train, y_train, **fit_params)\n"
     ]
    },
    {
     "name": "stdout",
     "output_type": "stream",
     "text": [
      "[CV]  bootstrap=False, criterion=entropy, max_depth=3, max_features=auto, n_estimators=10, score=0.955, total=   0.1s\n",
      "[CV] bootstrap=False, criterion=entropy, max_depth=3, max_features=auto, n_estimators=50 \n"
     ]
    },
    {
     "name": "stderr",
     "output_type": "stream",
     "text": [
      "/usr/local/lib/python3.7/site-packages/sklearn/model_selection/_validation.py:514: DataConversionWarning: A column-vector y was passed when a 1d array was expected. Please change the shape of y to (n_samples,), for example using ravel().\n",
      "  estimator.fit(X_train, y_train, **fit_params)\n"
     ]
    },
    {
     "name": "stdout",
     "output_type": "stream",
     "text": [
      "[CV]  bootstrap=False, criterion=entropy, max_depth=3, max_features=auto, n_estimators=50, score=0.957, total=   0.4s\n",
      "[CV] bootstrap=False, criterion=entropy, max_depth=3, max_features=auto, n_estimators=50 \n"
     ]
    },
    {
     "name": "stderr",
     "output_type": "stream",
     "text": [
      "/usr/local/lib/python3.7/site-packages/sklearn/model_selection/_validation.py:514: DataConversionWarning: A column-vector y was passed when a 1d array was expected. Please change the shape of y to (n_samples,), for example using ravel().\n",
      "  estimator.fit(X_train, y_train, **fit_params)\n"
     ]
    },
    {
     "name": "stdout",
     "output_type": "stream",
     "text": [
      "[CV]  bootstrap=False, criterion=entropy, max_depth=3, max_features=auto, n_estimators=50, score=0.955, total=   0.4s\n",
      "[CV] bootstrap=False, criterion=entropy, max_depth=3, max_features=auto, n_estimators=50 \n"
     ]
    },
    {
     "name": "stderr",
     "output_type": "stream",
     "text": [
      "/usr/local/lib/python3.7/site-packages/sklearn/model_selection/_validation.py:514: DataConversionWarning: A column-vector y was passed when a 1d array was expected. Please change the shape of y to (n_samples,), for example using ravel().\n",
      "  estimator.fit(X_train, y_train, **fit_params)\n"
     ]
    },
    {
     "name": "stdout",
     "output_type": "stream",
     "text": [
      "[CV]  bootstrap=False, criterion=entropy, max_depth=3, max_features=auto, n_estimators=50, score=0.951, total=   0.5s\n",
      "[CV] bootstrap=False, criterion=entropy, max_depth=3, max_features=auto, n_estimators=50 \n"
     ]
    },
    {
     "name": "stderr",
     "output_type": "stream",
     "text": [
      "/usr/local/lib/python3.7/site-packages/sklearn/model_selection/_validation.py:514: DataConversionWarning: A column-vector y was passed when a 1d array was expected. Please change the shape of y to (n_samples,), for example using ravel().\n",
      "  estimator.fit(X_train, y_train, **fit_params)\n"
     ]
    },
    {
     "name": "stdout",
     "output_type": "stream",
     "text": [
      "[CV]  bootstrap=False, criterion=entropy, max_depth=3, max_features=auto, n_estimators=50, score=0.955, total=   0.5s\n",
      "[CV] bootstrap=False, criterion=entropy, max_depth=3, max_features=auto, n_estimators=50 \n"
     ]
    },
    {
     "name": "stderr",
     "output_type": "stream",
     "text": [
      "/usr/local/lib/python3.7/site-packages/sklearn/model_selection/_validation.py:514: DataConversionWarning: A column-vector y was passed when a 1d array was expected. Please change the shape of y to (n_samples,), for example using ravel().\n",
      "  estimator.fit(X_train, y_train, **fit_params)\n"
     ]
    },
    {
     "name": "stdout",
     "output_type": "stream",
     "text": [
      "[CV]  bootstrap=False, criterion=entropy, max_depth=3, max_features=auto, n_estimators=50, score=0.946, total=   0.4s\n",
      "[CV] bootstrap=False, criterion=entropy, max_depth=3, max_features=auto, n_estimators=100 \n"
     ]
    },
    {
     "name": "stderr",
     "output_type": "stream",
     "text": [
      "/usr/local/lib/python3.7/site-packages/sklearn/model_selection/_validation.py:514: DataConversionWarning: A column-vector y was passed when a 1d array was expected. Please change the shape of y to (n_samples,), for example using ravel().\n",
      "  estimator.fit(X_train, y_train, **fit_params)\n"
     ]
    },
    {
     "name": "stdout",
     "output_type": "stream",
     "text": [
      "[CV]  bootstrap=False, criterion=entropy, max_depth=3, max_features=auto, n_estimators=100, score=0.947, total=   1.0s\n",
      "[CV] bootstrap=False, criterion=entropy, max_depth=3, max_features=auto, n_estimators=100 \n"
     ]
    },
    {
     "name": "stderr",
     "output_type": "stream",
     "text": [
      "/usr/local/lib/python3.7/site-packages/sklearn/model_selection/_validation.py:514: DataConversionWarning: A column-vector y was passed when a 1d array was expected. Please change the shape of y to (n_samples,), for example using ravel().\n",
      "  estimator.fit(X_train, y_train, **fit_params)\n"
     ]
    },
    {
     "name": "stdout",
     "output_type": "stream",
     "text": [
      "[CV]  bootstrap=False, criterion=entropy, max_depth=3, max_features=auto, n_estimators=100, score=0.950, total=   0.8s\n",
      "[CV] bootstrap=False, criterion=entropy, max_depth=3, max_features=auto, n_estimators=100 \n"
     ]
    },
    {
     "name": "stderr",
     "output_type": "stream",
     "text": [
      "/usr/local/lib/python3.7/site-packages/sklearn/model_selection/_validation.py:514: DataConversionWarning: A column-vector y was passed when a 1d array was expected. Please change the shape of y to (n_samples,), for example using ravel().\n",
      "  estimator.fit(X_train, y_train, **fit_params)\n"
     ]
    },
    {
     "name": "stdout",
     "output_type": "stream",
     "text": [
      "[CV]  bootstrap=False, criterion=entropy, max_depth=3, max_features=auto, n_estimators=100, score=0.945, total=   0.9s\n",
      "[CV] bootstrap=False, criterion=entropy, max_depth=3, max_features=auto, n_estimators=100 \n"
     ]
    },
    {
     "name": "stderr",
     "output_type": "stream",
     "text": [
      "/usr/local/lib/python3.7/site-packages/sklearn/model_selection/_validation.py:514: DataConversionWarning: A column-vector y was passed when a 1d array was expected. Please change the shape of y to (n_samples,), for example using ravel().\n",
      "  estimator.fit(X_train, y_train, **fit_params)\n"
     ]
    },
    {
     "name": "stdout",
     "output_type": "stream",
     "text": [
      "[CV]  bootstrap=False, criterion=entropy, max_depth=3, max_features=auto, n_estimators=100, score=0.944, total=   0.7s\n",
      "[CV] bootstrap=False, criterion=entropy, max_depth=3, max_features=auto, n_estimators=100 \n"
     ]
    },
    {
     "name": "stderr",
     "output_type": "stream",
     "text": [
      "/usr/local/lib/python3.7/site-packages/sklearn/model_selection/_validation.py:514: DataConversionWarning: A column-vector y was passed when a 1d array was expected. Please change the shape of y to (n_samples,), for example using ravel().\n",
      "  estimator.fit(X_train, y_train, **fit_params)\n"
     ]
    },
    {
     "name": "stdout",
     "output_type": "stream",
     "text": [
      "[CV]  bootstrap=False, criterion=entropy, max_depth=3, max_features=auto, n_estimators=100, score=0.945, total=   0.8s\n",
      "[CV] bootstrap=False, criterion=entropy, max_depth=3, max_features=sqrt, n_estimators=10 \n"
     ]
    },
    {
     "name": "stderr",
     "output_type": "stream",
     "text": [
      "/usr/local/lib/python3.7/site-packages/sklearn/model_selection/_validation.py:514: DataConversionWarning: A column-vector y was passed when a 1d array was expected. Please change the shape of y to (n_samples,), for example using ravel().\n",
      "  estimator.fit(X_train, y_train, **fit_params)\n"
     ]
    },
    {
     "name": "stdout",
     "output_type": "stream",
     "text": [
      "[CV]  bootstrap=False, criterion=entropy, max_depth=3, max_features=sqrt, n_estimators=10, score=0.957, total=   0.2s\n",
      "[CV] bootstrap=False, criterion=entropy, max_depth=3, max_features=sqrt, n_estimators=10 \n",
      "[CV]  bootstrap=False, criterion=entropy, max_depth=3, max_features=sqrt, n_estimators=10, score=0.956, total=   0.2s\n",
      "[CV] bootstrap=False, criterion=entropy, max_depth=3, max_features=sqrt, n_estimators=10 \n"
     ]
    },
    {
     "name": "stderr",
     "output_type": "stream",
     "text": [
      "/usr/local/lib/python3.7/site-packages/sklearn/model_selection/_validation.py:514: DataConversionWarning: A column-vector y was passed when a 1d array was expected. Please change the shape of y to (n_samples,), for example using ravel().\n",
      "  estimator.fit(X_train, y_train, **fit_params)\n",
      "/usr/local/lib/python3.7/site-packages/sklearn/model_selection/_validation.py:514: DataConversionWarning: A column-vector y was passed when a 1d array was expected. Please change the shape of y to (n_samples,), for example using ravel().\n",
      "  estimator.fit(X_train, y_train, **fit_params)\n"
     ]
    },
    {
     "name": "stdout",
     "output_type": "stream",
     "text": [
      "[CV]  bootstrap=False, criterion=entropy, max_depth=3, max_features=sqrt, n_estimators=10, score=0.955, total=   0.1s\n",
      "[CV] bootstrap=False, criterion=entropy, max_depth=3, max_features=sqrt, n_estimators=10 \n",
      "[CV]  bootstrap=False, criterion=entropy, max_depth=3, max_features=sqrt, n_estimators=10, score=0.954, total=   0.1s\n",
      "[CV] bootstrap=False, criterion=entropy, max_depth=3, max_features=sqrt, n_estimators=10 \n",
      "[CV]  bootstrap=False, criterion=entropy, max_depth=3, max_features=sqrt, n_estimators=10, score=0.955, total=   0.1s\n",
      "[CV] bootstrap=False, criterion=entropy, max_depth=3, max_features=sqrt, n_estimators=50 \n"
     ]
    },
    {
     "name": "stderr",
     "output_type": "stream",
     "text": [
      "/usr/local/lib/python3.7/site-packages/sklearn/model_selection/_validation.py:514: DataConversionWarning: A column-vector y was passed when a 1d array was expected. Please change the shape of y to (n_samples,), for example using ravel().\n",
      "  estimator.fit(X_train, y_train, **fit_params)\n",
      "/usr/local/lib/python3.7/site-packages/sklearn/model_selection/_validation.py:514: DataConversionWarning: A column-vector y was passed when a 1d array was expected. Please change the shape of y to (n_samples,), for example using ravel().\n",
      "  estimator.fit(X_train, y_train, **fit_params)\n",
      "/usr/local/lib/python3.7/site-packages/sklearn/model_selection/_validation.py:514: DataConversionWarning: A column-vector y was passed when a 1d array was expected. Please change the shape of y to (n_samples,), for example using ravel().\n",
      "  estimator.fit(X_train, y_train, **fit_params)\n"
     ]
    },
    {
     "name": "stdout",
     "output_type": "stream",
     "text": [
      "[CV]  bootstrap=False, criterion=entropy, max_depth=3, max_features=sqrt, n_estimators=50, score=0.957, total=   0.4s\n",
      "[CV] bootstrap=False, criterion=entropy, max_depth=3, max_features=sqrt, n_estimators=50 \n"
     ]
    },
    {
     "name": "stderr",
     "output_type": "stream",
     "text": [
      "/usr/local/lib/python3.7/site-packages/sklearn/model_selection/_validation.py:514: DataConversionWarning: A column-vector y was passed when a 1d array was expected. Please change the shape of y to (n_samples,), for example using ravel().\n",
      "  estimator.fit(X_train, y_train, **fit_params)\n"
     ]
    },
    {
     "name": "stdout",
     "output_type": "stream",
     "text": [
      "[CV]  bootstrap=False, criterion=entropy, max_depth=3, max_features=sqrt, n_estimators=50, score=0.955, total=   0.4s\n",
      "[CV] bootstrap=False, criterion=entropy, max_depth=3, max_features=sqrt, n_estimators=50 \n"
     ]
    },
    {
     "name": "stderr",
     "output_type": "stream",
     "text": [
      "/usr/local/lib/python3.7/site-packages/sklearn/model_selection/_validation.py:514: DataConversionWarning: A column-vector y was passed when a 1d array was expected. Please change the shape of y to (n_samples,), for example using ravel().\n",
      "  estimator.fit(X_train, y_train, **fit_params)\n"
     ]
    },
    {
     "name": "stdout",
     "output_type": "stream",
     "text": [
      "[CV]  bootstrap=False, criterion=entropy, max_depth=3, max_features=sqrt, n_estimators=50, score=0.951, total=   0.4s\n",
      "[CV] bootstrap=False, criterion=entropy, max_depth=3, max_features=sqrt, n_estimators=50 \n"
     ]
    },
    {
     "name": "stderr",
     "output_type": "stream",
     "text": [
      "/usr/local/lib/python3.7/site-packages/sklearn/model_selection/_validation.py:514: DataConversionWarning: A column-vector y was passed when a 1d array was expected. Please change the shape of y to (n_samples,), for example using ravel().\n",
      "  estimator.fit(X_train, y_train, **fit_params)\n"
     ]
    },
    {
     "name": "stdout",
     "output_type": "stream",
     "text": [
      "[CV]  bootstrap=False, criterion=entropy, max_depth=3, max_features=sqrt, n_estimators=50, score=0.955, total=   0.4s\n",
      "[CV] bootstrap=False, criterion=entropy, max_depth=3, max_features=sqrt, n_estimators=50 \n"
     ]
    },
    {
     "name": "stderr",
     "output_type": "stream",
     "text": [
      "/usr/local/lib/python3.7/site-packages/sklearn/model_selection/_validation.py:514: DataConversionWarning: A column-vector y was passed when a 1d array was expected. Please change the shape of y to (n_samples,), for example using ravel().\n",
      "  estimator.fit(X_train, y_train, **fit_params)\n"
     ]
    },
    {
     "name": "stdout",
     "output_type": "stream",
     "text": [
      "[CV]  bootstrap=False, criterion=entropy, max_depth=3, max_features=sqrt, n_estimators=50, score=0.946, total=   0.4s\n",
      "[CV] bootstrap=False, criterion=entropy, max_depth=3, max_features=sqrt, n_estimators=100 \n"
     ]
    },
    {
     "name": "stderr",
     "output_type": "stream",
     "text": [
      "/usr/local/lib/python3.7/site-packages/sklearn/model_selection/_validation.py:514: DataConversionWarning: A column-vector y was passed when a 1d array was expected. Please change the shape of y to (n_samples,), for example using ravel().\n",
      "  estimator.fit(X_train, y_train, **fit_params)\n"
     ]
    },
    {
     "name": "stdout",
     "output_type": "stream",
     "text": [
      "[CV]  bootstrap=False, criterion=entropy, max_depth=3, max_features=sqrt, n_estimators=100, score=0.947, total=   0.7s\n",
      "[CV] bootstrap=False, criterion=entropy, max_depth=3, max_features=sqrt, n_estimators=100 \n"
     ]
    },
    {
     "name": "stderr",
     "output_type": "stream",
     "text": [
      "/usr/local/lib/python3.7/site-packages/sklearn/model_selection/_validation.py:514: DataConversionWarning: A column-vector y was passed when a 1d array was expected. Please change the shape of y to (n_samples,), for example using ravel().\n",
      "  estimator.fit(X_train, y_train, **fit_params)\n"
     ]
    },
    {
     "name": "stdout",
     "output_type": "stream",
     "text": [
      "[CV]  bootstrap=False, criterion=entropy, max_depth=3, max_features=sqrt, n_estimators=100, score=0.950, total=   0.7s\n",
      "[CV] bootstrap=False, criterion=entropy, max_depth=3, max_features=sqrt, n_estimators=100 \n"
     ]
    },
    {
     "name": "stderr",
     "output_type": "stream",
     "text": [
      "/usr/local/lib/python3.7/site-packages/sklearn/model_selection/_validation.py:514: DataConversionWarning: A column-vector y was passed when a 1d array was expected. Please change the shape of y to (n_samples,), for example using ravel().\n",
      "  estimator.fit(X_train, y_train, **fit_params)\n"
     ]
    },
    {
     "name": "stdout",
     "output_type": "stream",
     "text": [
      "[CV]  bootstrap=False, criterion=entropy, max_depth=3, max_features=sqrt, n_estimators=100, score=0.945, total=   0.7s\n",
      "[CV] bootstrap=False, criterion=entropy, max_depth=3, max_features=sqrt, n_estimators=100 \n"
     ]
    },
    {
     "name": "stderr",
     "output_type": "stream",
     "text": [
      "/usr/local/lib/python3.7/site-packages/sklearn/model_selection/_validation.py:514: DataConversionWarning: A column-vector y was passed when a 1d array was expected. Please change the shape of y to (n_samples,), for example using ravel().\n",
      "  estimator.fit(X_train, y_train, **fit_params)\n"
     ]
    },
    {
     "name": "stdout",
     "output_type": "stream",
     "text": [
      "[CV]  bootstrap=False, criterion=entropy, max_depth=3, max_features=sqrt, n_estimators=100, score=0.944, total=   1.1s\n",
      "[CV] bootstrap=False, criterion=entropy, max_depth=3, max_features=sqrt, n_estimators=100 \n"
     ]
    },
    {
     "name": "stderr",
     "output_type": "stream",
     "text": [
      "/usr/local/lib/python3.7/site-packages/sklearn/model_selection/_validation.py:514: DataConversionWarning: A column-vector y was passed when a 1d array was expected. Please change the shape of y to (n_samples,), for example using ravel().\n",
      "  estimator.fit(X_train, y_train, **fit_params)\n"
     ]
    },
    {
     "name": "stdout",
     "output_type": "stream",
     "text": [
      "[CV]  bootstrap=False, criterion=entropy, max_depth=3, max_features=sqrt, n_estimators=100, score=0.945, total=   0.7s\n",
      "[CV] bootstrap=False, criterion=entropy, max_depth=3, max_features=log2, n_estimators=10 \n",
      "[CV]  bootstrap=False, criterion=entropy, max_depth=3, max_features=log2, n_estimators=10, score=0.917, total=   0.1s\n",
      "[CV] bootstrap=False, criterion=entropy, max_depth=3, max_features=log2, n_estimators=10 \n",
      "[CV]  bootstrap=False, criterion=entropy, max_depth=3, max_features=log2, n_estimators=10, score=0.925, total=   0.1s\n",
      "[CV] bootstrap=False, criterion=entropy, max_depth=3, max_features=log2, n_estimators=10 \n"
     ]
    },
    {
     "name": "stderr",
     "output_type": "stream",
     "text": [
      "/usr/local/lib/python3.7/site-packages/sklearn/model_selection/_validation.py:514: DataConversionWarning: A column-vector y was passed when a 1d array was expected. Please change the shape of y to (n_samples,), for example using ravel().\n",
      "  estimator.fit(X_train, y_train, **fit_params)\n",
      "/usr/local/lib/python3.7/site-packages/sklearn/model_selection/_validation.py:514: DataConversionWarning: A column-vector y was passed when a 1d array was expected. Please change the shape of y to (n_samples,), for example using ravel().\n",
      "  estimator.fit(X_train, y_train, **fit_params)\n",
      "/usr/local/lib/python3.7/site-packages/sklearn/model_selection/_validation.py:514: DataConversionWarning: A column-vector y was passed when a 1d array was expected. Please change the shape of y to (n_samples,), for example using ravel().\n",
      "  estimator.fit(X_train, y_train, **fit_params)\n"
     ]
    },
    {
     "name": "stdout",
     "output_type": "stream",
     "text": [
      "[CV]  bootstrap=False, criterion=entropy, max_depth=3, max_features=log2, n_estimators=10, score=0.920, total=   0.1s\n",
      "[CV] bootstrap=False, criterion=entropy, max_depth=3, max_features=log2, n_estimators=10 \n",
      "[CV]  bootstrap=False, criterion=entropy, max_depth=3, max_features=log2, n_estimators=10, score=0.896, total=   0.1s\n",
      "[CV] bootstrap=False, criterion=entropy, max_depth=3, max_features=log2, n_estimators=10 \n",
      "[CV]  bootstrap=False, criterion=entropy, max_depth=3, max_features=log2, n_estimators=10, score=0.907, total=   0.1s\n",
      "[CV] bootstrap=False, criterion=entropy, max_depth=3, max_features=log2, n_estimators=50 \n"
     ]
    },
    {
     "name": "stderr",
     "output_type": "stream",
     "text": [
      "/usr/local/lib/python3.7/site-packages/sklearn/model_selection/_validation.py:514: DataConversionWarning: A column-vector y was passed when a 1d array was expected. Please change the shape of y to (n_samples,), for example using ravel().\n",
      "  estimator.fit(X_train, y_train, **fit_params)\n",
      "/usr/local/lib/python3.7/site-packages/sklearn/model_selection/_validation.py:514: DataConversionWarning: A column-vector y was passed when a 1d array was expected. Please change the shape of y to (n_samples,), for example using ravel().\n",
      "  estimator.fit(X_train, y_train, **fit_params)\n",
      "/usr/local/lib/python3.7/site-packages/sklearn/model_selection/_validation.py:514: DataConversionWarning: A column-vector y was passed when a 1d array was expected. Please change the shape of y to (n_samples,), for example using ravel().\n",
      "  estimator.fit(X_train, y_train, **fit_params)\n"
     ]
    },
    {
     "name": "stdout",
     "output_type": "stream",
     "text": [
      "[CV]  bootstrap=False, criterion=entropy, max_depth=3, max_features=log2, n_estimators=50, score=0.932, total=   0.3s\n",
      "[CV] bootstrap=False, criterion=entropy, max_depth=3, max_features=log2, n_estimators=50 \n"
     ]
    },
    {
     "name": "stderr",
     "output_type": "stream",
     "text": [
      "/usr/local/lib/python3.7/site-packages/sklearn/model_selection/_validation.py:514: DataConversionWarning: A column-vector y was passed when a 1d array was expected. Please change the shape of y to (n_samples,), for example using ravel().\n",
      "  estimator.fit(X_train, y_train, **fit_params)\n"
     ]
    },
    {
     "name": "stdout",
     "output_type": "stream",
     "text": [
      "[CV]  bootstrap=False, criterion=entropy, max_depth=3, max_features=log2, n_estimators=50, score=0.936, total=   0.3s\n",
      "[CV] bootstrap=False, criterion=entropy, max_depth=3, max_features=log2, n_estimators=50 \n"
     ]
    },
    {
     "name": "stderr",
     "output_type": "stream",
     "text": [
      "/usr/local/lib/python3.7/site-packages/sklearn/model_selection/_validation.py:514: DataConversionWarning: A column-vector y was passed when a 1d array was expected. Please change the shape of y to (n_samples,), for example using ravel().\n",
      "  estimator.fit(X_train, y_train, **fit_params)\n"
     ]
    },
    {
     "name": "stdout",
     "output_type": "stream",
     "text": [
      "[CV]  bootstrap=False, criterion=entropy, max_depth=3, max_features=log2, n_estimators=50, score=0.935, total=   0.3s\n",
      "[CV] bootstrap=False, criterion=entropy, max_depth=3, max_features=log2, n_estimators=50 \n"
     ]
    },
    {
     "name": "stderr",
     "output_type": "stream",
     "text": [
      "/usr/local/lib/python3.7/site-packages/sklearn/model_selection/_validation.py:514: DataConversionWarning: A column-vector y was passed when a 1d array was expected. Please change the shape of y to (n_samples,), for example using ravel().\n",
      "  estimator.fit(X_train, y_train, **fit_params)\n"
     ]
    },
    {
     "name": "stdout",
     "output_type": "stream",
     "text": [
      "[CV]  bootstrap=False, criterion=entropy, max_depth=3, max_features=log2, n_estimators=50, score=0.921, total=   0.3s\n",
      "[CV] bootstrap=False, criterion=entropy, max_depth=3, max_features=log2, n_estimators=50 \n"
     ]
    },
    {
     "name": "stderr",
     "output_type": "stream",
     "text": [
      "/usr/local/lib/python3.7/site-packages/sklearn/model_selection/_validation.py:514: DataConversionWarning: A column-vector y was passed when a 1d array was expected. Please change the shape of y to (n_samples,), for example using ravel().\n",
      "  estimator.fit(X_train, y_train, **fit_params)\n"
     ]
    },
    {
     "name": "stdout",
     "output_type": "stream",
     "text": [
      "[CV]  bootstrap=False, criterion=entropy, max_depth=3, max_features=log2, n_estimators=50, score=0.925, total=   0.4s\n",
      "[CV] bootstrap=False, criterion=entropy, max_depth=3, max_features=log2, n_estimators=100 \n"
     ]
    },
    {
     "name": "stderr",
     "output_type": "stream",
     "text": [
      "/usr/local/lib/python3.7/site-packages/sklearn/model_selection/_validation.py:514: DataConversionWarning: A column-vector y was passed when a 1d array was expected. Please change the shape of y to (n_samples,), for example using ravel().\n",
      "  estimator.fit(X_train, y_train, **fit_params)\n"
     ]
    },
    {
     "name": "stdout",
     "output_type": "stream",
     "text": [
      "[CV]  bootstrap=False, criterion=entropy, max_depth=3, max_features=log2, n_estimators=100, score=0.930, total=   0.6s\n",
      "[CV] bootstrap=False, criterion=entropy, max_depth=3, max_features=log2, n_estimators=100 \n"
     ]
    },
    {
     "name": "stderr",
     "output_type": "stream",
     "text": [
      "/usr/local/lib/python3.7/site-packages/sklearn/model_selection/_validation.py:514: DataConversionWarning: A column-vector y was passed when a 1d array was expected. Please change the shape of y to (n_samples,), for example using ravel().\n",
      "  estimator.fit(X_train, y_train, **fit_params)\n"
     ]
    },
    {
     "name": "stdout",
     "output_type": "stream",
     "text": [
      "[CV]  bootstrap=False, criterion=entropy, max_depth=3, max_features=log2, n_estimators=100, score=0.937, total=   0.5s\n",
      "[CV] bootstrap=False, criterion=entropy, max_depth=3, max_features=log2, n_estimators=100 \n"
     ]
    },
    {
     "name": "stderr",
     "output_type": "stream",
     "text": [
      "/usr/local/lib/python3.7/site-packages/sklearn/model_selection/_validation.py:514: DataConversionWarning: A column-vector y was passed when a 1d array was expected. Please change the shape of y to (n_samples,), for example using ravel().\n",
      "  estimator.fit(X_train, y_train, **fit_params)\n"
     ]
    },
    {
     "name": "stdout",
     "output_type": "stream",
     "text": [
      "[CV]  bootstrap=False, criterion=entropy, max_depth=3, max_features=log2, n_estimators=100, score=0.935, total=   0.6s\n",
      "[CV] bootstrap=False, criterion=entropy, max_depth=3, max_features=log2, n_estimators=100 \n"
     ]
    },
    {
     "name": "stderr",
     "output_type": "stream",
     "text": [
      "/usr/local/lib/python3.7/site-packages/sklearn/model_selection/_validation.py:514: DataConversionWarning: A column-vector y was passed when a 1d array was expected. Please change the shape of y to (n_samples,), for example using ravel().\n",
      "  estimator.fit(X_train, y_train, **fit_params)\n"
     ]
    },
    {
     "name": "stdout",
     "output_type": "stream",
     "text": [
      "[CV]  bootstrap=False, criterion=entropy, max_depth=3, max_features=log2, n_estimators=100, score=0.919, total=   0.5s\n",
      "[CV] bootstrap=False, criterion=entropy, max_depth=3, max_features=log2, n_estimators=100 \n"
     ]
    },
    {
     "name": "stderr",
     "output_type": "stream",
     "text": [
      "/usr/local/lib/python3.7/site-packages/sklearn/model_selection/_validation.py:514: DataConversionWarning: A column-vector y was passed when a 1d array was expected. Please change the shape of y to (n_samples,), for example using ravel().\n",
      "  estimator.fit(X_train, y_train, **fit_params)\n"
     ]
    },
    {
     "name": "stdout",
     "output_type": "stream",
     "text": [
      "[CV]  bootstrap=False, criterion=entropy, max_depth=3, max_features=log2, n_estimators=100, score=0.926, total=   0.5s\n",
      "[CV] bootstrap=False, criterion=entropy, max_depth=5, max_features=auto, n_estimators=10 \n",
      "[CV]  bootstrap=False, criterion=entropy, max_depth=5, max_features=auto, n_estimators=10, score=0.947, total=   0.1s\n",
      "[CV] bootstrap=False, criterion=entropy, max_depth=5, max_features=auto, n_estimators=10 \n",
      "[CV]  bootstrap=False, criterion=entropy, max_depth=5, max_features=auto, n_estimators=10, score=0.953, total=   0.1s\n",
      "[CV] bootstrap=False, criterion=entropy, max_depth=5, max_features=auto, n_estimators=10 \n"
     ]
    },
    {
     "name": "stderr",
     "output_type": "stream",
     "text": [
      "/usr/local/lib/python3.7/site-packages/sklearn/model_selection/_validation.py:514: DataConversionWarning: A column-vector y was passed when a 1d array was expected. Please change the shape of y to (n_samples,), for example using ravel().\n",
      "  estimator.fit(X_train, y_train, **fit_params)\n",
      "/usr/local/lib/python3.7/site-packages/sklearn/model_selection/_validation.py:514: DataConversionWarning: A column-vector y was passed when a 1d array was expected. Please change the shape of y to (n_samples,), for example using ravel().\n",
      "  estimator.fit(X_train, y_train, **fit_params)\n",
      "/usr/local/lib/python3.7/site-packages/sklearn/model_selection/_validation.py:514: DataConversionWarning: A column-vector y was passed when a 1d array was expected. Please change the shape of y to (n_samples,), for example using ravel().\n",
      "  estimator.fit(X_train, y_train, **fit_params)\n"
     ]
    },
    {
     "name": "stdout",
     "output_type": "stream",
     "text": [
      "[CV]  bootstrap=False, criterion=entropy, max_depth=5, max_features=auto, n_estimators=10, score=0.957, total=   0.1s\n",
      "[CV] bootstrap=False, criterion=entropy, max_depth=5, max_features=auto, n_estimators=10 \n",
      "[CV]  bootstrap=False, criterion=entropy, max_depth=5, max_features=auto, n_estimators=10, score=0.952, total=   0.1s\n",
      "[CV] bootstrap=False, criterion=entropy, max_depth=5, max_features=auto, n_estimators=10 \n",
      "[CV]  bootstrap=False, criterion=entropy, max_depth=5, max_features=auto, n_estimators=10, score=0.946, total=   0.1s\n",
      "[CV] bootstrap=False, criterion=entropy, max_depth=5, max_features=auto, n_estimators=50 \n"
     ]
    },
    {
     "name": "stderr",
     "output_type": "stream",
     "text": [
      "/usr/local/lib/python3.7/site-packages/sklearn/model_selection/_validation.py:514: DataConversionWarning: A column-vector y was passed when a 1d array was expected. Please change the shape of y to (n_samples,), for example using ravel().\n",
      "  estimator.fit(X_train, y_train, **fit_params)\n",
      "/usr/local/lib/python3.7/site-packages/sklearn/model_selection/_validation.py:514: DataConversionWarning: A column-vector y was passed when a 1d array was expected. Please change the shape of y to (n_samples,), for example using ravel().\n",
      "  estimator.fit(X_train, y_train, **fit_params)\n",
      "/usr/local/lib/python3.7/site-packages/sklearn/model_selection/_validation.py:514: DataConversionWarning: A column-vector y was passed when a 1d array was expected. Please change the shape of y to (n_samples,), for example using ravel().\n",
      "  estimator.fit(X_train, y_train, **fit_params)\n"
     ]
    },
    {
     "name": "stdout",
     "output_type": "stream",
     "text": [
      "[CV]  bootstrap=False, criterion=entropy, max_depth=5, max_features=auto, n_estimators=50, score=0.953, total=   0.4s\n",
      "[CV] bootstrap=False, criterion=entropy, max_depth=5, max_features=auto, n_estimators=50 \n"
     ]
    },
    {
     "name": "stderr",
     "output_type": "stream",
     "text": [
      "/usr/local/lib/python3.7/site-packages/sklearn/model_selection/_validation.py:514: DataConversionWarning: A column-vector y was passed when a 1d array was expected. Please change the shape of y to (n_samples,), for example using ravel().\n",
      "  estimator.fit(X_train, y_train, **fit_params)\n"
     ]
    },
    {
     "name": "stdout",
     "output_type": "stream",
     "text": [
      "[CV]  bootstrap=False, criterion=entropy, max_depth=5, max_features=auto, n_estimators=50, score=0.957, total=   0.4s\n",
      "[CV] bootstrap=False, criterion=entropy, max_depth=5, max_features=auto, n_estimators=50 \n"
     ]
    },
    {
     "name": "stderr",
     "output_type": "stream",
     "text": [
      "/usr/local/lib/python3.7/site-packages/sklearn/model_selection/_validation.py:514: DataConversionWarning: A column-vector y was passed when a 1d array was expected. Please change the shape of y to (n_samples,), for example using ravel().\n",
      "  estimator.fit(X_train, y_train, **fit_params)\n"
     ]
    },
    {
     "name": "stdout",
     "output_type": "stream",
     "text": [
      "[CV]  bootstrap=False, criterion=entropy, max_depth=5, max_features=auto, n_estimators=50, score=0.957, total=   0.4s\n",
      "[CV] bootstrap=False, criterion=entropy, max_depth=5, max_features=auto, n_estimators=50 \n"
     ]
    },
    {
     "name": "stderr",
     "output_type": "stream",
     "text": [
      "/usr/local/lib/python3.7/site-packages/sklearn/model_selection/_validation.py:514: DataConversionWarning: A column-vector y was passed when a 1d array was expected. Please change the shape of y to (n_samples,), for example using ravel().\n",
      "  estimator.fit(X_train, y_train, **fit_params)\n"
     ]
    },
    {
     "name": "stdout",
     "output_type": "stream",
     "text": [
      "[CV]  bootstrap=False, criterion=entropy, max_depth=5, max_features=auto, n_estimators=50, score=0.955, total=   0.4s\n",
      "[CV] bootstrap=False, criterion=entropy, max_depth=5, max_features=auto, n_estimators=50 \n"
     ]
    },
    {
     "name": "stderr",
     "output_type": "stream",
     "text": [
      "/usr/local/lib/python3.7/site-packages/sklearn/model_selection/_validation.py:514: DataConversionWarning: A column-vector y was passed when a 1d array was expected. Please change the shape of y to (n_samples,), for example using ravel().\n",
      "  estimator.fit(X_train, y_train, **fit_params)\n"
     ]
    },
    {
     "name": "stdout",
     "output_type": "stream",
     "text": [
      "[CV]  bootstrap=False, criterion=entropy, max_depth=5, max_features=auto, n_estimators=50, score=0.956, total=   0.5s\n",
      "[CV] bootstrap=False, criterion=entropy, max_depth=5, max_features=auto, n_estimators=100 \n"
     ]
    },
    {
     "name": "stderr",
     "output_type": "stream",
     "text": [
      "/usr/local/lib/python3.7/site-packages/sklearn/model_selection/_validation.py:514: DataConversionWarning: A column-vector y was passed when a 1d array was expected. Please change the shape of y to (n_samples,), for example using ravel().\n",
      "  estimator.fit(X_train, y_train, **fit_params)\n"
     ]
    },
    {
     "name": "stdout",
     "output_type": "stream",
     "text": [
      "[CV]  bootstrap=False, criterion=entropy, max_depth=5, max_features=auto, n_estimators=100, score=0.957, total=   1.0s\n",
      "[CV] bootstrap=False, criterion=entropy, max_depth=5, max_features=auto, n_estimators=100 \n"
     ]
    },
    {
     "name": "stderr",
     "output_type": "stream",
     "text": [
      "/usr/local/lib/python3.7/site-packages/sklearn/model_selection/_validation.py:514: DataConversionWarning: A column-vector y was passed when a 1d array was expected. Please change the shape of y to (n_samples,), for example using ravel().\n",
      "  estimator.fit(X_train, y_train, **fit_params)\n"
     ]
    },
    {
     "name": "stdout",
     "output_type": "stream",
     "text": [
      "[CV]  bootstrap=False, criterion=entropy, max_depth=5, max_features=auto, n_estimators=100, score=0.958, total=   1.0s\n",
      "[CV] bootstrap=False, criterion=entropy, max_depth=5, max_features=auto, n_estimators=100 \n"
     ]
    },
    {
     "name": "stderr",
     "output_type": "stream",
     "text": [
      "/usr/local/lib/python3.7/site-packages/sklearn/model_selection/_validation.py:514: DataConversionWarning: A column-vector y was passed when a 1d array was expected. Please change the shape of y to (n_samples,), for example using ravel().\n",
      "  estimator.fit(X_train, y_train, **fit_params)\n"
     ]
    },
    {
     "name": "stdout",
     "output_type": "stream",
     "text": [
      "[CV]  bootstrap=False, criterion=entropy, max_depth=5, max_features=auto, n_estimators=100, score=0.957, total=   1.1s\n",
      "[CV] bootstrap=False, criterion=entropy, max_depth=5, max_features=auto, n_estimators=100 \n"
     ]
    },
    {
     "name": "stderr",
     "output_type": "stream",
     "text": [
      "/usr/local/lib/python3.7/site-packages/sklearn/model_selection/_validation.py:514: DataConversionWarning: A column-vector y was passed when a 1d array was expected. Please change the shape of y to (n_samples,), for example using ravel().\n",
      "  estimator.fit(X_train, y_train, **fit_params)\n"
     ]
    },
    {
     "name": "stdout",
     "output_type": "stream",
     "text": [
      "[CV]  bootstrap=False, criterion=entropy, max_depth=5, max_features=auto, n_estimators=100, score=0.954, total=   0.9s\n",
      "[CV] bootstrap=False, criterion=entropy, max_depth=5, max_features=auto, n_estimators=100 \n"
     ]
    },
    {
     "name": "stderr",
     "output_type": "stream",
     "text": [
      "/usr/local/lib/python3.7/site-packages/sklearn/model_selection/_validation.py:514: DataConversionWarning: A column-vector y was passed when a 1d array was expected. Please change the shape of y to (n_samples,), for example using ravel().\n",
      "  estimator.fit(X_train, y_train, **fit_params)\n"
     ]
    },
    {
     "name": "stdout",
     "output_type": "stream",
     "text": [
      "[CV]  bootstrap=False, criterion=entropy, max_depth=5, max_features=auto, n_estimators=100, score=0.956, total=   1.0s\n",
      "[CV] bootstrap=False, criterion=entropy, max_depth=5, max_features=sqrt, n_estimators=10 \n",
      "[CV]  bootstrap=False, criterion=entropy, max_depth=5, max_features=sqrt, n_estimators=10, score=0.947, total=   0.1s\n",
      "[CV] bootstrap=False, criterion=entropy, max_depth=5, max_features=sqrt, n_estimators=10 \n"
     ]
    },
    {
     "name": "stderr",
     "output_type": "stream",
     "text": [
      "/usr/local/lib/python3.7/site-packages/sklearn/model_selection/_validation.py:514: DataConversionWarning: A column-vector y was passed when a 1d array was expected. Please change the shape of y to (n_samples,), for example using ravel().\n",
      "  estimator.fit(X_train, y_train, **fit_params)\n",
      "/usr/local/lib/python3.7/site-packages/sklearn/model_selection/_validation.py:514: DataConversionWarning: A column-vector y was passed when a 1d array was expected. Please change the shape of y to (n_samples,), for example using ravel().\n",
      "  estimator.fit(X_train, y_train, **fit_params)\n"
     ]
    },
    {
     "name": "stdout",
     "output_type": "stream",
     "text": [
      "[CV]  bootstrap=False, criterion=entropy, max_depth=5, max_features=sqrt, n_estimators=10, score=0.953, total=   0.1s\n",
      "[CV] bootstrap=False, criterion=entropy, max_depth=5, max_features=sqrt, n_estimators=10 \n",
      "[CV]  bootstrap=False, criterion=entropy, max_depth=5, max_features=sqrt, n_estimators=10, score=0.957, total=   0.1s\n",
      "[CV] bootstrap=False, criterion=entropy, max_depth=5, max_features=sqrt, n_estimators=10 \n"
     ]
    },
    {
     "name": "stderr",
     "output_type": "stream",
     "text": [
      "/usr/local/lib/python3.7/site-packages/sklearn/model_selection/_validation.py:514: DataConversionWarning: A column-vector y was passed when a 1d array was expected. Please change the shape of y to (n_samples,), for example using ravel().\n",
      "  estimator.fit(X_train, y_train, **fit_params)\n",
      "/usr/local/lib/python3.7/site-packages/sklearn/model_selection/_validation.py:514: DataConversionWarning: A column-vector y was passed when a 1d array was expected. Please change the shape of y to (n_samples,), for example using ravel().\n",
      "  estimator.fit(X_train, y_train, **fit_params)\n"
     ]
    },
    {
     "name": "stdout",
     "output_type": "stream",
     "text": [
      "[CV]  bootstrap=False, criterion=entropy, max_depth=5, max_features=sqrt, n_estimators=10, score=0.952, total=   0.1s\n",
      "[CV] bootstrap=False, criterion=entropy, max_depth=5, max_features=sqrt, n_estimators=10 \n",
      "[CV]  bootstrap=False, criterion=entropy, max_depth=5, max_features=sqrt, n_estimators=10, score=0.946, total=   0.1s\n",
      "[CV] bootstrap=False, criterion=entropy, max_depth=5, max_features=sqrt, n_estimators=50 \n"
     ]
    },
    {
     "name": "stderr",
     "output_type": "stream",
     "text": [
      "/usr/local/lib/python3.7/site-packages/sklearn/model_selection/_validation.py:514: DataConversionWarning: A column-vector y was passed when a 1d array was expected. Please change the shape of y to (n_samples,), for example using ravel().\n",
      "  estimator.fit(X_train, y_train, **fit_params)\n",
      "/usr/local/lib/python3.7/site-packages/sklearn/model_selection/_validation.py:514: DataConversionWarning: A column-vector y was passed when a 1d array was expected. Please change the shape of y to (n_samples,), for example using ravel().\n",
      "  estimator.fit(X_train, y_train, **fit_params)\n"
     ]
    },
    {
     "name": "stdout",
     "output_type": "stream",
     "text": [
      "[CV]  bootstrap=False, criterion=entropy, max_depth=5, max_features=sqrt, n_estimators=50, score=0.953, total=   0.6s\n",
      "[CV] bootstrap=False, criterion=entropy, max_depth=5, max_features=sqrt, n_estimators=50 \n"
     ]
    },
    {
     "name": "stderr",
     "output_type": "stream",
     "text": [
      "/usr/local/lib/python3.7/site-packages/sklearn/model_selection/_validation.py:514: DataConversionWarning: A column-vector y was passed when a 1d array was expected. Please change the shape of y to (n_samples,), for example using ravel().\n",
      "  estimator.fit(X_train, y_train, **fit_params)\n"
     ]
    },
    {
     "name": "stdout",
     "output_type": "stream",
     "text": [
      "[CV]  bootstrap=False, criterion=entropy, max_depth=5, max_features=sqrt, n_estimators=50, score=0.957, total=   0.7s\n",
      "[CV] bootstrap=False, criterion=entropy, max_depth=5, max_features=sqrt, n_estimators=50 \n"
     ]
    },
    {
     "name": "stderr",
     "output_type": "stream",
     "text": [
      "/usr/local/lib/python3.7/site-packages/sklearn/model_selection/_validation.py:514: DataConversionWarning: A column-vector y was passed when a 1d array was expected. Please change the shape of y to (n_samples,), for example using ravel().\n",
      "  estimator.fit(X_train, y_train, **fit_params)\n"
     ]
    },
    {
     "name": "stdout",
     "output_type": "stream",
     "text": [
      "[CV]  bootstrap=False, criterion=entropy, max_depth=5, max_features=sqrt, n_estimators=50, score=0.957, total=   0.6s\n",
      "[CV] bootstrap=False, criterion=entropy, max_depth=5, max_features=sqrt, n_estimators=50 \n"
     ]
    },
    {
     "name": "stderr",
     "output_type": "stream",
     "text": [
      "/usr/local/lib/python3.7/site-packages/sklearn/model_selection/_validation.py:514: DataConversionWarning: A column-vector y was passed when a 1d array was expected. Please change the shape of y to (n_samples,), for example using ravel().\n",
      "  estimator.fit(X_train, y_train, **fit_params)\n"
     ]
    },
    {
     "name": "stdout",
     "output_type": "stream",
     "text": [
      "[CV]  bootstrap=False, criterion=entropy, max_depth=5, max_features=sqrt, n_estimators=50, score=0.955, total=   0.5s\n",
      "[CV] bootstrap=False, criterion=entropy, max_depth=5, max_features=sqrt, n_estimators=50 \n"
     ]
    },
    {
     "name": "stderr",
     "output_type": "stream",
     "text": [
      "/usr/local/lib/python3.7/site-packages/sklearn/model_selection/_validation.py:514: DataConversionWarning: A column-vector y was passed when a 1d array was expected. Please change the shape of y to (n_samples,), for example using ravel().\n",
      "  estimator.fit(X_train, y_train, **fit_params)\n"
     ]
    },
    {
     "name": "stdout",
     "output_type": "stream",
     "text": [
      "[CV]  bootstrap=False, criterion=entropy, max_depth=5, max_features=sqrt, n_estimators=50, score=0.956, total=   0.6s\n",
      "[CV] bootstrap=False, criterion=entropy, max_depth=5, max_features=sqrt, n_estimators=100 \n"
     ]
    },
    {
     "name": "stderr",
     "output_type": "stream",
     "text": [
      "/usr/local/lib/python3.7/site-packages/sklearn/model_selection/_validation.py:514: DataConversionWarning: A column-vector y was passed when a 1d array was expected. Please change the shape of y to (n_samples,), for example using ravel().\n",
      "  estimator.fit(X_train, y_train, **fit_params)\n"
     ]
    },
    {
     "name": "stdout",
     "output_type": "stream",
     "text": [
      "[CV]  bootstrap=False, criterion=entropy, max_depth=5, max_features=sqrt, n_estimators=100, score=0.957, total=   1.1s\n",
      "[CV] bootstrap=False, criterion=entropy, max_depth=5, max_features=sqrt, n_estimators=100 \n"
     ]
    },
    {
     "name": "stderr",
     "output_type": "stream",
     "text": [
      "/usr/local/lib/python3.7/site-packages/sklearn/model_selection/_validation.py:514: DataConversionWarning: A column-vector y was passed when a 1d array was expected. Please change the shape of y to (n_samples,), for example using ravel().\n",
      "  estimator.fit(X_train, y_train, **fit_params)\n"
     ]
    },
    {
     "name": "stdout",
     "output_type": "stream",
     "text": [
      "[CV]  bootstrap=False, criterion=entropy, max_depth=5, max_features=sqrt, n_estimators=100, score=0.958, total=   1.0s\n",
      "[CV] bootstrap=False, criterion=entropy, max_depth=5, max_features=sqrt, n_estimators=100 \n"
     ]
    },
    {
     "name": "stderr",
     "output_type": "stream",
     "text": [
      "/usr/local/lib/python3.7/site-packages/sklearn/model_selection/_validation.py:514: DataConversionWarning: A column-vector y was passed when a 1d array was expected. Please change the shape of y to (n_samples,), for example using ravel().\n",
      "  estimator.fit(X_train, y_train, **fit_params)\n"
     ]
    },
    {
     "name": "stdout",
     "output_type": "stream",
     "text": [
      "[CV]  bootstrap=False, criterion=entropy, max_depth=5, max_features=sqrt, n_estimators=100, score=0.957, total=   1.4s\n",
      "[CV] bootstrap=False, criterion=entropy, max_depth=5, max_features=sqrt, n_estimators=100 \n"
     ]
    },
    {
     "name": "stderr",
     "output_type": "stream",
     "text": [
      "/usr/local/lib/python3.7/site-packages/sklearn/model_selection/_validation.py:514: DataConversionWarning: A column-vector y was passed when a 1d array was expected. Please change the shape of y to (n_samples,), for example using ravel().\n",
      "  estimator.fit(X_train, y_train, **fit_params)\n"
     ]
    },
    {
     "name": "stdout",
     "output_type": "stream",
     "text": [
      "[CV]  bootstrap=False, criterion=entropy, max_depth=5, max_features=sqrt, n_estimators=100, score=0.954, total=   1.1s\n",
      "[CV] bootstrap=False, criterion=entropy, max_depth=5, max_features=sqrt, n_estimators=100 \n"
     ]
    },
    {
     "name": "stderr",
     "output_type": "stream",
     "text": [
      "/usr/local/lib/python3.7/site-packages/sklearn/model_selection/_validation.py:514: DataConversionWarning: A column-vector y was passed when a 1d array was expected. Please change the shape of y to (n_samples,), for example using ravel().\n",
      "  estimator.fit(X_train, y_train, **fit_params)\n"
     ]
    },
    {
     "name": "stdout",
     "output_type": "stream",
     "text": [
      "[CV]  bootstrap=False, criterion=entropy, max_depth=5, max_features=sqrt, n_estimators=100, score=0.956, total=   1.0s\n",
      "[CV] bootstrap=False, criterion=entropy, max_depth=5, max_features=log2, n_estimators=10 \n",
      "[CV]  bootstrap=False, criterion=entropy, max_depth=5, max_features=log2, n_estimators=10, score=0.933, total=   0.1s\n",
      "[CV] bootstrap=False, criterion=entropy, max_depth=5, max_features=log2, n_estimators=10 \n",
      "[CV]  bootstrap=False, criterion=entropy, max_depth=5, max_features=log2, n_estimators=10, score=0.934, total=   0.1s\n",
      "[CV] bootstrap=False, criterion=entropy, max_depth=5, max_features=log2, n_estimators=10 \n"
     ]
    },
    {
     "name": "stderr",
     "output_type": "stream",
     "text": [
      "/usr/local/lib/python3.7/site-packages/sklearn/model_selection/_validation.py:514: DataConversionWarning: A column-vector y was passed when a 1d array was expected. Please change the shape of y to (n_samples,), for example using ravel().\n",
      "  estimator.fit(X_train, y_train, **fit_params)\n",
      "/usr/local/lib/python3.7/site-packages/sklearn/model_selection/_validation.py:514: DataConversionWarning: A column-vector y was passed when a 1d array was expected. Please change the shape of y to (n_samples,), for example using ravel().\n",
      "  estimator.fit(X_train, y_train, **fit_params)\n",
      "/usr/local/lib/python3.7/site-packages/sklearn/model_selection/_validation.py:514: DataConversionWarning: A column-vector y was passed when a 1d array was expected. Please change the shape of y to (n_samples,), for example using ravel().\n",
      "  estimator.fit(X_train, y_train, **fit_params)\n"
     ]
    },
    {
     "name": "stdout",
     "output_type": "stream",
     "text": [
      "[CV]  bootstrap=False, criterion=entropy, max_depth=5, max_features=log2, n_estimators=10, score=0.941, total=   0.1s\n",
      "[CV] bootstrap=False, criterion=entropy, max_depth=5, max_features=log2, n_estimators=10 \n",
      "[CV]  bootstrap=False, criterion=entropy, max_depth=5, max_features=log2, n_estimators=10, score=0.942, total=   0.1s\n",
      "[CV] bootstrap=False, criterion=entropy, max_depth=5, max_features=log2, n_estimators=10 \n",
      "[CV]  bootstrap=False, criterion=entropy, max_depth=5, max_features=log2, n_estimators=10, score=0.933, total=   0.1s\n",
      "[CV] bootstrap=False, criterion=entropy, max_depth=5, max_features=log2, n_estimators=50 \n"
     ]
    },
    {
     "name": "stderr",
     "output_type": "stream",
     "text": [
      "/usr/local/lib/python3.7/site-packages/sklearn/model_selection/_validation.py:514: DataConversionWarning: A column-vector y was passed when a 1d array was expected. Please change the shape of y to (n_samples,), for example using ravel().\n",
      "  estimator.fit(X_train, y_train, **fit_params)\n",
      "/usr/local/lib/python3.7/site-packages/sklearn/model_selection/_validation.py:514: DataConversionWarning: A column-vector y was passed when a 1d array was expected. Please change the shape of y to (n_samples,), for example using ravel().\n",
      "  estimator.fit(X_train, y_train, **fit_params)\n",
      "/usr/local/lib/python3.7/site-packages/sklearn/model_selection/_validation.py:514: DataConversionWarning: A column-vector y was passed when a 1d array was expected. Please change the shape of y to (n_samples,), for example using ravel().\n",
      "  estimator.fit(X_train, y_train, **fit_params)\n"
     ]
    },
    {
     "name": "stdout",
     "output_type": "stream",
     "text": [
      "[CV]  bootstrap=False, criterion=entropy, max_depth=5, max_features=log2, n_estimators=50, score=0.949, total=   0.5s\n",
      "[CV] bootstrap=False, criterion=entropy, max_depth=5, max_features=log2, n_estimators=50 \n"
     ]
    },
    {
     "name": "stderr",
     "output_type": "stream",
     "text": [
      "/usr/local/lib/python3.7/site-packages/sklearn/model_selection/_validation.py:514: DataConversionWarning: A column-vector y was passed when a 1d array was expected. Please change the shape of y to (n_samples,), for example using ravel().\n",
      "  estimator.fit(X_train, y_train, **fit_params)\n"
     ]
    },
    {
     "name": "stdout",
     "output_type": "stream",
     "text": [
      "[CV]  bootstrap=False, criterion=entropy, max_depth=5, max_features=log2, n_estimators=50, score=0.958, total=   0.5s\n",
      "[CV] bootstrap=False, criterion=entropy, max_depth=5, max_features=log2, n_estimators=50 \n"
     ]
    },
    {
     "name": "stderr",
     "output_type": "stream",
     "text": [
      "/usr/local/lib/python3.7/site-packages/sklearn/model_selection/_validation.py:514: DataConversionWarning: A column-vector y was passed when a 1d array was expected. Please change the shape of y to (n_samples,), for example using ravel().\n",
      "  estimator.fit(X_train, y_train, **fit_params)\n"
     ]
    },
    {
     "name": "stdout",
     "output_type": "stream",
     "text": [
      "[CV]  bootstrap=False, criterion=entropy, max_depth=5, max_features=log2, n_estimators=50, score=0.956, total=   0.5s\n",
      "[CV] bootstrap=False, criterion=entropy, max_depth=5, max_features=log2, n_estimators=50 \n"
     ]
    },
    {
     "name": "stderr",
     "output_type": "stream",
     "text": [
      "/usr/local/lib/python3.7/site-packages/sklearn/model_selection/_validation.py:514: DataConversionWarning: A column-vector y was passed when a 1d array was expected. Please change the shape of y to (n_samples,), for example using ravel().\n",
      "  estimator.fit(X_train, y_train, **fit_params)\n"
     ]
    },
    {
     "name": "stdout",
     "output_type": "stream",
     "text": [
      "[CV]  bootstrap=False, criterion=entropy, max_depth=5, max_features=log2, n_estimators=50, score=0.950, total=   0.4s\n",
      "[CV] bootstrap=False, criterion=entropy, max_depth=5, max_features=log2, n_estimators=50 \n"
     ]
    },
    {
     "name": "stderr",
     "output_type": "stream",
     "text": [
      "/usr/local/lib/python3.7/site-packages/sklearn/model_selection/_validation.py:514: DataConversionWarning: A column-vector y was passed when a 1d array was expected. Please change the shape of y to (n_samples,), for example using ravel().\n",
      "  estimator.fit(X_train, y_train, **fit_params)\n"
     ]
    },
    {
     "name": "stdout",
     "output_type": "stream",
     "text": [
      "[CV]  bootstrap=False, criterion=entropy, max_depth=5, max_features=log2, n_estimators=50, score=0.955, total=   0.6s\n",
      "[CV] bootstrap=False, criterion=entropy, max_depth=5, max_features=log2, n_estimators=100 \n"
     ]
    },
    {
     "name": "stderr",
     "output_type": "stream",
     "text": [
      "/usr/local/lib/python3.7/site-packages/sklearn/model_selection/_validation.py:514: DataConversionWarning: A column-vector y was passed when a 1d array was expected. Please change the shape of y to (n_samples,), for example using ravel().\n",
      "  estimator.fit(X_train, y_train, **fit_params)\n"
     ]
    },
    {
     "name": "stdout",
     "output_type": "stream",
     "text": [
      "[CV]  bootstrap=False, criterion=entropy, max_depth=5, max_features=log2, n_estimators=100, score=0.947, total=   0.8s\n",
      "[CV] bootstrap=False, criterion=entropy, max_depth=5, max_features=log2, n_estimators=100 \n"
     ]
    },
    {
     "name": "stderr",
     "output_type": "stream",
     "text": [
      "/usr/local/lib/python3.7/site-packages/sklearn/model_selection/_validation.py:514: DataConversionWarning: A column-vector y was passed when a 1d array was expected. Please change the shape of y to (n_samples,), for example using ravel().\n",
      "  estimator.fit(X_train, y_train, **fit_params)\n"
     ]
    },
    {
     "name": "stdout",
     "output_type": "stream",
     "text": [
      "[CV]  bootstrap=False, criterion=entropy, max_depth=5, max_features=log2, n_estimators=100, score=0.959, total=   0.9s\n",
      "[CV] bootstrap=False, criterion=entropy, max_depth=5, max_features=log2, n_estimators=100 \n"
     ]
    },
    {
     "name": "stderr",
     "output_type": "stream",
     "text": [
      "/usr/local/lib/python3.7/site-packages/sklearn/model_selection/_validation.py:514: DataConversionWarning: A column-vector y was passed when a 1d array was expected. Please change the shape of y to (n_samples,), for example using ravel().\n",
      "  estimator.fit(X_train, y_train, **fit_params)\n"
     ]
    },
    {
     "name": "stdout",
     "output_type": "stream",
     "text": [
      "[CV]  bootstrap=False, criterion=entropy, max_depth=5, max_features=log2, n_estimators=100, score=0.952, total=   0.9s\n",
      "[CV] bootstrap=False, criterion=entropy, max_depth=5, max_features=log2, n_estimators=100 \n"
     ]
    },
    {
     "name": "stderr",
     "output_type": "stream",
     "text": [
      "/usr/local/lib/python3.7/site-packages/sklearn/model_selection/_validation.py:514: DataConversionWarning: A column-vector y was passed when a 1d array was expected. Please change the shape of y to (n_samples,), for example using ravel().\n",
      "  estimator.fit(X_train, y_train, **fit_params)\n"
     ]
    },
    {
     "name": "stdout",
     "output_type": "stream",
     "text": [
      "[CV]  bootstrap=False, criterion=entropy, max_depth=5, max_features=log2, n_estimators=100, score=0.948, total=   1.0s\n",
      "[CV] bootstrap=False, criterion=entropy, max_depth=5, max_features=log2, n_estimators=100 \n"
     ]
    },
    {
     "name": "stderr",
     "output_type": "stream",
     "text": [
      "/usr/local/lib/python3.7/site-packages/sklearn/model_selection/_validation.py:514: DataConversionWarning: A column-vector y was passed when a 1d array was expected. Please change the shape of y to (n_samples,), for example using ravel().\n",
      "  estimator.fit(X_train, y_train, **fit_params)\n"
     ]
    },
    {
     "name": "stdout",
     "output_type": "stream",
     "text": [
      "[CV]  bootstrap=False, criterion=entropy, max_depth=5, max_features=log2, n_estimators=100, score=0.955, total=   1.0s\n",
      "[CV] bootstrap=False, criterion=entropy, max_depth=7, max_features=auto, n_estimators=10 \n",
      "[CV]  bootstrap=False, criterion=entropy, max_depth=7, max_features=auto, n_estimators=10, score=0.959, total=   0.1s\n",
      "[CV] bootstrap=False, criterion=entropy, max_depth=7, max_features=auto, n_estimators=10 \n"
     ]
    },
    {
     "name": "stderr",
     "output_type": "stream",
     "text": [
      "/usr/local/lib/python3.7/site-packages/sklearn/model_selection/_validation.py:514: DataConversionWarning: A column-vector y was passed when a 1d array was expected. Please change the shape of y to (n_samples,), for example using ravel().\n",
      "  estimator.fit(X_train, y_train, **fit_params)\n",
      "/usr/local/lib/python3.7/site-packages/sklearn/model_selection/_validation.py:514: DataConversionWarning: A column-vector y was passed when a 1d array was expected. Please change the shape of y to (n_samples,), for example using ravel().\n",
      "  estimator.fit(X_train, y_train, **fit_params)\n"
     ]
    },
    {
     "name": "stdout",
     "output_type": "stream",
     "text": [
      "[CV]  bootstrap=False, criterion=entropy, max_depth=7, max_features=auto, n_estimators=10, score=0.958, total=   0.1s\n",
      "[CV] bootstrap=False, criterion=entropy, max_depth=7, max_features=auto, n_estimators=10 \n",
      "[CV]  bootstrap=False, criterion=entropy, max_depth=7, max_features=auto, n_estimators=10, score=0.956, total=   0.1s\n",
      "[CV] bootstrap=False, criterion=entropy, max_depth=7, max_features=auto, n_estimators=10 \n"
     ]
    },
    {
     "name": "stderr",
     "output_type": "stream",
     "text": [
      "/usr/local/lib/python3.7/site-packages/sklearn/model_selection/_validation.py:514: DataConversionWarning: A column-vector y was passed when a 1d array was expected. Please change the shape of y to (n_samples,), for example using ravel().\n",
      "  estimator.fit(X_train, y_train, **fit_params)\n",
      "/usr/local/lib/python3.7/site-packages/sklearn/model_selection/_validation.py:514: DataConversionWarning: A column-vector y was passed when a 1d array was expected. Please change the shape of y to (n_samples,), for example using ravel().\n",
      "  estimator.fit(X_train, y_train, **fit_params)\n"
     ]
    },
    {
     "name": "stdout",
     "output_type": "stream",
     "text": [
      "[CV]  bootstrap=False, criterion=entropy, max_depth=7, max_features=auto, n_estimators=10, score=0.956, total=   0.1s\n",
      "[CV] bootstrap=False, criterion=entropy, max_depth=7, max_features=auto, n_estimators=10 \n",
      "[CV]  bootstrap=False, criterion=entropy, max_depth=7, max_features=auto, n_estimators=10, score=0.958, total=   0.1s\n",
      "[CV] bootstrap=False, criterion=entropy, max_depth=7, max_features=auto, n_estimators=50 \n"
     ]
    },
    {
     "name": "stderr",
     "output_type": "stream",
     "text": [
      "/usr/local/lib/python3.7/site-packages/sklearn/model_selection/_validation.py:514: DataConversionWarning: A column-vector y was passed when a 1d array was expected. Please change the shape of y to (n_samples,), for example using ravel().\n",
      "  estimator.fit(X_train, y_train, **fit_params)\n",
      "/usr/local/lib/python3.7/site-packages/sklearn/model_selection/_validation.py:514: DataConversionWarning: A column-vector y was passed when a 1d array was expected. Please change the shape of y to (n_samples,), for example using ravel().\n",
      "  estimator.fit(X_train, y_train, **fit_params)\n"
     ]
    },
    {
     "name": "stdout",
     "output_type": "stream",
     "text": [
      "[CV]  bootstrap=False, criterion=entropy, max_depth=7, max_features=auto, n_estimators=50, score=0.958, total=   0.6s\n",
      "[CV] bootstrap=False, criterion=entropy, max_depth=7, max_features=auto, n_estimators=50 \n"
     ]
    },
    {
     "name": "stderr",
     "output_type": "stream",
     "text": [
      "/usr/local/lib/python3.7/site-packages/sklearn/model_selection/_validation.py:514: DataConversionWarning: A column-vector y was passed when a 1d array was expected. Please change the shape of y to (n_samples,), for example using ravel().\n",
      "  estimator.fit(X_train, y_train, **fit_params)\n"
     ]
    },
    {
     "name": "stdout",
     "output_type": "stream",
     "text": [
      "[CV]  bootstrap=False, criterion=entropy, max_depth=7, max_features=auto, n_estimators=50, score=0.958, total=   0.6s\n",
      "[CV] bootstrap=False, criterion=entropy, max_depth=7, max_features=auto, n_estimators=50 \n"
     ]
    },
    {
     "name": "stderr",
     "output_type": "stream",
     "text": [
      "/usr/local/lib/python3.7/site-packages/sklearn/model_selection/_validation.py:514: DataConversionWarning: A column-vector y was passed when a 1d array was expected. Please change the shape of y to (n_samples,), for example using ravel().\n",
      "  estimator.fit(X_train, y_train, **fit_params)\n"
     ]
    },
    {
     "name": "stdout",
     "output_type": "stream",
     "text": [
      "[CV]  bootstrap=False, criterion=entropy, max_depth=7, max_features=auto, n_estimators=50, score=0.957, total=   0.6s\n",
      "[CV] bootstrap=False, criterion=entropy, max_depth=7, max_features=auto, n_estimators=50 \n"
     ]
    },
    {
     "name": "stderr",
     "output_type": "stream",
     "text": [
      "/usr/local/lib/python3.7/site-packages/sklearn/model_selection/_validation.py:514: DataConversionWarning: A column-vector y was passed when a 1d array was expected. Please change the shape of y to (n_samples,), for example using ravel().\n",
      "  estimator.fit(X_train, y_train, **fit_params)\n"
     ]
    },
    {
     "name": "stdout",
     "output_type": "stream",
     "text": [
      "[CV]  bootstrap=False, criterion=entropy, max_depth=7, max_features=auto, n_estimators=50, score=0.957, total=   0.6s\n",
      "[CV] bootstrap=False, criterion=entropy, max_depth=7, max_features=auto, n_estimators=50 \n"
     ]
    },
    {
     "name": "stderr",
     "output_type": "stream",
     "text": [
      "/usr/local/lib/python3.7/site-packages/sklearn/model_selection/_validation.py:514: DataConversionWarning: A column-vector y was passed when a 1d array was expected. Please change the shape of y to (n_samples,), for example using ravel().\n",
      "  estimator.fit(X_train, y_train, **fit_params)\n"
     ]
    },
    {
     "name": "stdout",
     "output_type": "stream",
     "text": [
      "[CV]  bootstrap=False, criterion=entropy, max_depth=7, max_features=auto, n_estimators=50, score=0.958, total=   0.7s\n",
      "[CV] bootstrap=False, criterion=entropy, max_depth=7, max_features=auto, n_estimators=100 \n"
     ]
    },
    {
     "name": "stderr",
     "output_type": "stream",
     "text": [
      "/usr/local/lib/python3.7/site-packages/sklearn/model_selection/_validation.py:514: DataConversionWarning: A column-vector y was passed when a 1d array was expected. Please change the shape of y to (n_samples,), for example using ravel().\n",
      "  estimator.fit(X_train, y_train, **fit_params)\n"
     ]
    },
    {
     "name": "stdout",
     "output_type": "stream",
     "text": [
      "[CV]  bootstrap=False, criterion=entropy, max_depth=7, max_features=auto, n_estimators=100, score=0.958, total=   1.5s\n",
      "[CV] bootstrap=False, criterion=entropy, max_depth=7, max_features=auto, n_estimators=100 \n"
     ]
    },
    {
     "name": "stderr",
     "output_type": "stream",
     "text": [
      "/usr/local/lib/python3.7/site-packages/sklearn/model_selection/_validation.py:514: DataConversionWarning: A column-vector y was passed when a 1d array was expected. Please change the shape of y to (n_samples,), for example using ravel().\n",
      "  estimator.fit(X_train, y_train, **fit_params)\n"
     ]
    },
    {
     "name": "stdout",
     "output_type": "stream",
     "text": [
      "[CV]  bootstrap=False, criterion=entropy, max_depth=7, max_features=auto, n_estimators=100, score=0.958, total=   1.5s\n",
      "[CV] bootstrap=False, criterion=entropy, max_depth=7, max_features=auto, n_estimators=100 \n"
     ]
    },
    {
     "name": "stderr",
     "output_type": "stream",
     "text": [
      "/usr/local/lib/python3.7/site-packages/sklearn/model_selection/_validation.py:514: DataConversionWarning: A column-vector y was passed when a 1d array was expected. Please change the shape of y to (n_samples,), for example using ravel().\n",
      "  estimator.fit(X_train, y_train, **fit_params)\n"
     ]
    },
    {
     "name": "stdout",
     "output_type": "stream",
     "text": [
      "[CV]  bootstrap=False, criterion=entropy, max_depth=7, max_features=auto, n_estimators=100, score=0.957, total=   1.3s\n",
      "[CV] bootstrap=False, criterion=entropy, max_depth=7, max_features=auto, n_estimators=100 \n"
     ]
    },
    {
     "name": "stderr",
     "output_type": "stream",
     "text": [
      "/usr/local/lib/python3.7/site-packages/sklearn/model_selection/_validation.py:514: DataConversionWarning: A column-vector y was passed when a 1d array was expected. Please change the shape of y to (n_samples,), for example using ravel().\n",
      "  estimator.fit(X_train, y_train, **fit_params)\n"
     ]
    },
    {
     "name": "stdout",
     "output_type": "stream",
     "text": [
      "[CV]  bootstrap=False, criterion=entropy, max_depth=7, max_features=auto, n_estimators=100, score=0.957, total=   1.5s\n",
      "[CV] bootstrap=False, criterion=entropy, max_depth=7, max_features=auto, n_estimators=100 \n"
     ]
    },
    {
     "name": "stderr",
     "output_type": "stream",
     "text": [
      "/usr/local/lib/python3.7/site-packages/sklearn/model_selection/_validation.py:514: DataConversionWarning: A column-vector y was passed when a 1d array was expected. Please change the shape of y to (n_samples,), for example using ravel().\n",
      "  estimator.fit(X_train, y_train, **fit_params)\n"
     ]
    },
    {
     "name": "stdout",
     "output_type": "stream",
     "text": [
      "[CV]  bootstrap=False, criterion=entropy, max_depth=7, max_features=auto, n_estimators=100, score=0.959, total=   1.3s\n",
      "[CV] bootstrap=False, criterion=entropy, max_depth=7, max_features=sqrt, n_estimators=10 \n",
      "[CV]  bootstrap=False, criterion=entropy, max_depth=7, max_features=sqrt, n_estimators=10, score=0.959, total=   0.1s\n",
      "[CV] bootstrap=False, criterion=entropy, max_depth=7, max_features=sqrt, n_estimators=10 \n"
     ]
    },
    {
     "name": "stderr",
     "output_type": "stream",
     "text": [
      "/usr/local/lib/python3.7/site-packages/sklearn/model_selection/_validation.py:514: DataConversionWarning: A column-vector y was passed when a 1d array was expected. Please change the shape of y to (n_samples,), for example using ravel().\n",
      "  estimator.fit(X_train, y_train, **fit_params)\n",
      "/usr/local/lib/python3.7/site-packages/sklearn/model_selection/_validation.py:514: DataConversionWarning: A column-vector y was passed when a 1d array was expected. Please change the shape of y to (n_samples,), for example using ravel().\n",
      "  estimator.fit(X_train, y_train, **fit_params)\n"
     ]
    },
    {
     "name": "stdout",
     "output_type": "stream",
     "text": [
      "[CV]  bootstrap=False, criterion=entropy, max_depth=7, max_features=sqrt, n_estimators=10, score=0.958, total=   0.2s\n",
      "[CV] bootstrap=False, criterion=entropy, max_depth=7, max_features=sqrt, n_estimators=10 \n",
      "[CV]  bootstrap=False, criterion=entropy, max_depth=7, max_features=sqrt, n_estimators=10, score=0.956, total=   0.1s\n",
      "[CV] bootstrap=False, criterion=entropy, max_depth=7, max_features=sqrt, n_estimators=10 \n"
     ]
    },
    {
     "name": "stderr",
     "output_type": "stream",
     "text": [
      "/usr/local/lib/python3.7/site-packages/sklearn/model_selection/_validation.py:514: DataConversionWarning: A column-vector y was passed when a 1d array was expected. Please change the shape of y to (n_samples,), for example using ravel().\n",
      "  estimator.fit(X_train, y_train, **fit_params)\n",
      "/usr/local/lib/python3.7/site-packages/sklearn/model_selection/_validation.py:514: DataConversionWarning: A column-vector y was passed when a 1d array was expected. Please change the shape of y to (n_samples,), for example using ravel().\n",
      "  estimator.fit(X_train, y_train, **fit_params)\n"
     ]
    },
    {
     "name": "stdout",
     "output_type": "stream",
     "text": [
      "[CV]  bootstrap=False, criterion=entropy, max_depth=7, max_features=sqrt, n_estimators=10, score=0.956, total=   0.1s\n",
      "[CV] bootstrap=False, criterion=entropy, max_depth=7, max_features=sqrt, n_estimators=10 \n",
      "[CV]  bootstrap=False, criterion=entropy, max_depth=7, max_features=sqrt, n_estimators=10, score=0.958, total=   0.1s\n",
      "[CV] bootstrap=False, criterion=entropy, max_depth=7, max_features=sqrt, n_estimators=50 \n"
     ]
    },
    {
     "name": "stderr",
     "output_type": "stream",
     "text": [
      "/usr/local/lib/python3.7/site-packages/sklearn/model_selection/_validation.py:514: DataConversionWarning: A column-vector y was passed when a 1d array was expected. Please change the shape of y to (n_samples,), for example using ravel().\n",
      "  estimator.fit(X_train, y_train, **fit_params)\n",
      "/usr/local/lib/python3.7/site-packages/sklearn/model_selection/_validation.py:514: DataConversionWarning: A column-vector y was passed when a 1d array was expected. Please change the shape of y to (n_samples,), for example using ravel().\n",
      "  estimator.fit(X_train, y_train, **fit_params)\n"
     ]
    },
    {
     "name": "stdout",
     "output_type": "stream",
     "text": [
      "[CV]  bootstrap=False, criterion=entropy, max_depth=7, max_features=sqrt, n_estimators=50, score=0.958, total=   0.6s\n",
      "[CV] bootstrap=False, criterion=entropy, max_depth=7, max_features=sqrt, n_estimators=50 \n"
     ]
    },
    {
     "name": "stderr",
     "output_type": "stream",
     "text": [
      "/usr/local/lib/python3.7/site-packages/sklearn/model_selection/_validation.py:514: DataConversionWarning: A column-vector y was passed when a 1d array was expected. Please change the shape of y to (n_samples,), for example using ravel().\n",
      "  estimator.fit(X_train, y_train, **fit_params)\n"
     ]
    },
    {
     "name": "stdout",
     "output_type": "stream",
     "text": [
      "[CV]  bootstrap=False, criterion=entropy, max_depth=7, max_features=sqrt, n_estimators=50, score=0.958, total=   0.8s\n",
      "[CV] bootstrap=False, criterion=entropy, max_depth=7, max_features=sqrt, n_estimators=50 \n"
     ]
    },
    {
     "name": "stderr",
     "output_type": "stream",
     "text": [
      "/usr/local/lib/python3.7/site-packages/sklearn/model_selection/_validation.py:514: DataConversionWarning: A column-vector y was passed when a 1d array was expected. Please change the shape of y to (n_samples,), for example using ravel().\n",
      "  estimator.fit(X_train, y_train, **fit_params)\n"
     ]
    },
    {
     "name": "stdout",
     "output_type": "stream",
     "text": [
      "[CV]  bootstrap=False, criterion=entropy, max_depth=7, max_features=sqrt, n_estimators=50, score=0.957, total=   0.6s\n",
      "[CV] bootstrap=False, criterion=entropy, max_depth=7, max_features=sqrt, n_estimators=50 \n"
     ]
    },
    {
     "name": "stderr",
     "output_type": "stream",
     "text": [
      "/usr/local/lib/python3.7/site-packages/sklearn/model_selection/_validation.py:514: DataConversionWarning: A column-vector y was passed when a 1d array was expected. Please change the shape of y to (n_samples,), for example using ravel().\n",
      "  estimator.fit(X_train, y_train, **fit_params)\n"
     ]
    },
    {
     "name": "stdout",
     "output_type": "stream",
     "text": [
      "[CV]  bootstrap=False, criterion=entropy, max_depth=7, max_features=sqrt, n_estimators=50, score=0.957, total=   0.7s\n",
      "[CV] bootstrap=False, criterion=entropy, max_depth=7, max_features=sqrt, n_estimators=50 \n"
     ]
    },
    {
     "name": "stderr",
     "output_type": "stream",
     "text": [
      "/usr/local/lib/python3.7/site-packages/sklearn/model_selection/_validation.py:514: DataConversionWarning: A column-vector y was passed when a 1d array was expected. Please change the shape of y to (n_samples,), for example using ravel().\n",
      "  estimator.fit(X_train, y_train, **fit_params)\n"
     ]
    },
    {
     "name": "stdout",
     "output_type": "stream",
     "text": [
      "[CV]  bootstrap=False, criterion=entropy, max_depth=7, max_features=sqrt, n_estimators=50, score=0.958, total=   0.6s\n",
      "[CV] bootstrap=False, criterion=entropy, max_depth=7, max_features=sqrt, n_estimators=100 \n"
     ]
    },
    {
     "name": "stderr",
     "output_type": "stream",
     "text": [
      "/usr/local/lib/python3.7/site-packages/sklearn/model_selection/_validation.py:514: DataConversionWarning: A column-vector y was passed when a 1d array was expected. Please change the shape of y to (n_samples,), for example using ravel().\n",
      "  estimator.fit(X_train, y_train, **fit_params)\n"
     ]
    },
    {
     "name": "stdout",
     "output_type": "stream",
     "text": [
      "[CV]  bootstrap=False, criterion=entropy, max_depth=7, max_features=sqrt, n_estimators=100, score=0.958, total=   1.1s\n",
      "[CV] bootstrap=False, criterion=entropy, max_depth=7, max_features=sqrt, n_estimators=100 \n"
     ]
    },
    {
     "name": "stderr",
     "output_type": "stream",
     "text": [
      "/usr/local/lib/python3.7/site-packages/sklearn/model_selection/_validation.py:514: DataConversionWarning: A column-vector y was passed when a 1d array was expected. Please change the shape of y to (n_samples,), for example using ravel().\n",
      "  estimator.fit(X_train, y_train, **fit_params)\n"
     ]
    },
    {
     "name": "stdout",
     "output_type": "stream",
     "text": [
      "[CV]  bootstrap=False, criterion=entropy, max_depth=7, max_features=sqrt, n_estimators=100, score=0.958, total=   1.1s\n",
      "[CV] bootstrap=False, criterion=entropy, max_depth=7, max_features=sqrt, n_estimators=100 \n"
     ]
    },
    {
     "name": "stderr",
     "output_type": "stream",
     "text": [
      "/usr/local/lib/python3.7/site-packages/sklearn/model_selection/_validation.py:514: DataConversionWarning: A column-vector y was passed when a 1d array was expected. Please change the shape of y to (n_samples,), for example using ravel().\n",
      "  estimator.fit(X_train, y_train, **fit_params)\n"
     ]
    },
    {
     "name": "stdout",
     "output_type": "stream",
     "text": [
      "[CV]  bootstrap=False, criterion=entropy, max_depth=7, max_features=sqrt, n_estimators=100, score=0.957, total=   1.2s\n",
      "[CV] bootstrap=False, criterion=entropy, max_depth=7, max_features=sqrt, n_estimators=100 \n"
     ]
    },
    {
     "name": "stderr",
     "output_type": "stream",
     "text": [
      "/usr/local/lib/python3.7/site-packages/sklearn/model_selection/_validation.py:514: DataConversionWarning: A column-vector y was passed when a 1d array was expected. Please change the shape of y to (n_samples,), for example using ravel().\n",
      "  estimator.fit(X_train, y_train, **fit_params)\n"
     ]
    },
    {
     "name": "stdout",
     "output_type": "stream",
     "text": [
      "[CV]  bootstrap=False, criterion=entropy, max_depth=7, max_features=sqrt, n_estimators=100, score=0.957, total=   1.1s\n",
      "[CV] bootstrap=False, criterion=entropy, max_depth=7, max_features=sqrt, n_estimators=100 \n"
     ]
    },
    {
     "name": "stderr",
     "output_type": "stream",
     "text": [
      "/usr/local/lib/python3.7/site-packages/sklearn/model_selection/_validation.py:514: DataConversionWarning: A column-vector y was passed when a 1d array was expected. Please change the shape of y to (n_samples,), for example using ravel().\n",
      "  estimator.fit(X_train, y_train, **fit_params)\n"
     ]
    },
    {
     "name": "stdout",
     "output_type": "stream",
     "text": [
      "[CV]  bootstrap=False, criterion=entropy, max_depth=7, max_features=sqrt, n_estimators=100, score=0.959, total=   1.1s\n",
      "[CV] bootstrap=False, criterion=entropy, max_depth=7, max_features=log2, n_estimators=10 \n",
      "[CV]  bootstrap=False, criterion=entropy, max_depth=7, max_features=log2, n_estimators=10, score=0.951, total=   0.1s\n",
      "[CV] bootstrap=False, criterion=entropy, max_depth=7, max_features=log2, n_estimators=10 \n",
      "[CV]  bootstrap=False, criterion=entropy, max_depth=7, max_features=log2, n_estimators=10, score=0.956, total=   0.1s\n",
      "[CV] bootstrap=False, criterion=entropy, max_depth=7, max_features=log2, n_estimators=10 \n"
     ]
    },
    {
     "name": "stderr",
     "output_type": "stream",
     "text": [
      "/usr/local/lib/python3.7/site-packages/sklearn/model_selection/_validation.py:514: DataConversionWarning: A column-vector y was passed when a 1d array was expected. Please change the shape of y to (n_samples,), for example using ravel().\n",
      "  estimator.fit(X_train, y_train, **fit_params)\n",
      "/usr/local/lib/python3.7/site-packages/sklearn/model_selection/_validation.py:514: DataConversionWarning: A column-vector y was passed when a 1d array was expected. Please change the shape of y to (n_samples,), for example using ravel().\n",
      "  estimator.fit(X_train, y_train, **fit_params)\n",
      "/usr/local/lib/python3.7/site-packages/sklearn/model_selection/_validation.py:514: DataConversionWarning: A column-vector y was passed when a 1d array was expected. Please change the shape of y to (n_samples,), for example using ravel().\n",
      "  estimator.fit(X_train, y_train, **fit_params)\n"
     ]
    },
    {
     "name": "stdout",
     "output_type": "stream",
     "text": [
      "[CV]  bootstrap=False, criterion=entropy, max_depth=7, max_features=log2, n_estimators=10, score=0.941, total=   0.1s\n",
      "[CV] bootstrap=False, criterion=entropy, max_depth=7, max_features=log2, n_estimators=10 \n",
      "[CV]  bootstrap=False, criterion=entropy, max_depth=7, max_features=log2, n_estimators=10, score=0.938, total=   0.1s\n",
      "[CV] bootstrap=False, criterion=entropy, max_depth=7, max_features=log2, n_estimators=10 \n"
     ]
    },
    {
     "name": "stderr",
     "output_type": "stream",
     "text": [
      "/usr/local/lib/python3.7/site-packages/sklearn/model_selection/_validation.py:514: DataConversionWarning: A column-vector y was passed when a 1d array was expected. Please change the shape of y to (n_samples,), for example using ravel().\n",
      "  estimator.fit(X_train, y_train, **fit_params)\n",
      "/usr/local/lib/python3.7/site-packages/sklearn/model_selection/_validation.py:514: DataConversionWarning: A column-vector y was passed when a 1d array was expected. Please change the shape of y to (n_samples,), for example using ravel().\n",
      "  estimator.fit(X_train, y_train, **fit_params)\n"
     ]
    },
    {
     "name": "stdout",
     "output_type": "stream",
     "text": [
      "[CV]  bootstrap=False, criterion=entropy, max_depth=7, max_features=log2, n_estimators=10, score=0.955, total=   0.1s\n",
      "[CV] bootstrap=False, criterion=entropy, max_depth=7, max_features=log2, n_estimators=50 \n"
     ]
    },
    {
     "name": "stderr",
     "output_type": "stream",
     "text": [
      "/usr/local/lib/python3.7/site-packages/sklearn/model_selection/_validation.py:514: DataConversionWarning: A column-vector y was passed when a 1d array was expected. Please change the shape of y to (n_samples,), for example using ravel().\n",
      "  estimator.fit(X_train, y_train, **fit_params)\n"
     ]
    },
    {
     "name": "stdout",
     "output_type": "stream",
     "text": [
      "[CV]  bootstrap=False, criterion=entropy, max_depth=7, max_features=log2, n_estimators=50, score=0.957, total=   0.5s\n",
      "[CV] bootstrap=False, criterion=entropy, max_depth=7, max_features=log2, n_estimators=50 \n"
     ]
    },
    {
     "name": "stderr",
     "output_type": "stream",
     "text": [
      "/usr/local/lib/python3.7/site-packages/sklearn/model_selection/_validation.py:514: DataConversionWarning: A column-vector y was passed when a 1d array was expected. Please change the shape of y to (n_samples,), for example using ravel().\n",
      "  estimator.fit(X_train, y_train, **fit_params)\n"
     ]
    },
    {
     "name": "stdout",
     "output_type": "stream",
     "text": [
      "[CV]  bootstrap=False, criterion=entropy, max_depth=7, max_features=log2, n_estimators=50, score=0.956, total=   0.6s\n",
      "[CV] bootstrap=False, criterion=entropy, max_depth=7, max_features=log2, n_estimators=50 \n"
     ]
    },
    {
     "name": "stderr",
     "output_type": "stream",
     "text": [
      "/usr/local/lib/python3.7/site-packages/sklearn/model_selection/_validation.py:514: DataConversionWarning: A column-vector y was passed when a 1d array was expected. Please change the shape of y to (n_samples,), for example using ravel().\n",
      "  estimator.fit(X_train, y_train, **fit_params)\n"
     ]
    },
    {
     "name": "stdout",
     "output_type": "stream",
     "text": [
      "[CV]  bootstrap=False, criterion=entropy, max_depth=7, max_features=log2, n_estimators=50, score=0.958, total=   0.5s\n",
      "[CV] bootstrap=False, criterion=entropy, max_depth=7, max_features=log2, n_estimators=50 \n"
     ]
    },
    {
     "name": "stderr",
     "output_type": "stream",
     "text": [
      "/usr/local/lib/python3.7/site-packages/sklearn/model_selection/_validation.py:514: DataConversionWarning: A column-vector y was passed when a 1d array was expected. Please change the shape of y to (n_samples,), for example using ravel().\n",
      "  estimator.fit(X_train, y_train, **fit_params)\n"
     ]
    },
    {
     "name": "stdout",
     "output_type": "stream",
     "text": [
      "[CV]  bootstrap=False, criterion=entropy, max_depth=7, max_features=log2, n_estimators=50, score=0.954, total=   0.5s\n",
      "[CV] bootstrap=False, criterion=entropy, max_depth=7, max_features=log2, n_estimators=50 \n"
     ]
    },
    {
     "name": "stderr",
     "output_type": "stream",
     "text": [
      "/usr/local/lib/python3.7/site-packages/sklearn/model_selection/_validation.py:514: DataConversionWarning: A column-vector y was passed when a 1d array was expected. Please change the shape of y to (n_samples,), for example using ravel().\n",
      "  estimator.fit(X_train, y_train, **fit_params)\n"
     ]
    },
    {
     "name": "stdout",
     "output_type": "stream",
     "text": [
      "[CV]  bootstrap=False, criterion=entropy, max_depth=7, max_features=log2, n_estimators=50, score=0.958, total=   0.5s\n",
      "[CV] bootstrap=False, criterion=entropy, max_depth=7, max_features=log2, n_estimators=100 \n"
     ]
    },
    {
     "name": "stderr",
     "output_type": "stream",
     "text": [
      "/usr/local/lib/python3.7/site-packages/sklearn/model_selection/_validation.py:514: DataConversionWarning: A column-vector y was passed when a 1d array was expected. Please change the shape of y to (n_samples,), for example using ravel().\n",
      "  estimator.fit(X_train, y_train, **fit_params)\n"
     ]
    },
    {
     "name": "stdout",
     "output_type": "stream",
     "text": [
      "[CV]  bootstrap=False, criterion=entropy, max_depth=7, max_features=log2, n_estimators=100, score=0.957, total=   1.1s\n",
      "[CV] bootstrap=False, criterion=entropy, max_depth=7, max_features=log2, n_estimators=100 \n"
     ]
    },
    {
     "name": "stderr",
     "output_type": "stream",
     "text": [
      "/usr/local/lib/python3.7/site-packages/sklearn/model_selection/_validation.py:514: DataConversionWarning: A column-vector y was passed when a 1d array was expected. Please change the shape of y to (n_samples,), for example using ravel().\n",
      "  estimator.fit(X_train, y_train, **fit_params)\n"
     ]
    },
    {
     "name": "stdout",
     "output_type": "stream",
     "text": [
      "[CV]  bootstrap=False, criterion=entropy, max_depth=7, max_features=log2, n_estimators=100, score=0.959, total=   1.4s\n",
      "[CV] bootstrap=False, criterion=entropy, max_depth=7, max_features=log2, n_estimators=100 \n"
     ]
    },
    {
     "name": "stderr",
     "output_type": "stream",
     "text": [
      "/usr/local/lib/python3.7/site-packages/sklearn/model_selection/_validation.py:514: DataConversionWarning: A column-vector y was passed when a 1d array was expected. Please change the shape of y to (n_samples,), for example using ravel().\n",
      "  estimator.fit(X_train, y_train, **fit_params)\n"
     ]
    },
    {
     "name": "stdout",
     "output_type": "stream",
     "text": [
      "[CV]  bootstrap=False, criterion=entropy, max_depth=7, max_features=log2, n_estimators=100, score=0.957, total=   1.0s\n",
      "[CV] bootstrap=False, criterion=entropy, max_depth=7, max_features=log2, n_estimators=100 \n"
     ]
    },
    {
     "name": "stderr",
     "output_type": "stream",
     "text": [
      "/usr/local/lib/python3.7/site-packages/sklearn/model_selection/_validation.py:514: DataConversionWarning: A column-vector y was passed when a 1d array was expected. Please change the shape of y to (n_samples,), for example using ravel().\n",
      "  estimator.fit(X_train, y_train, **fit_params)\n"
     ]
    },
    {
     "name": "stdout",
     "output_type": "stream",
     "text": [
      "[CV]  bootstrap=False, criterion=entropy, max_depth=7, max_features=log2, n_estimators=100, score=0.955, total=   1.1s\n",
      "[CV] bootstrap=False, criterion=entropy, max_depth=7, max_features=log2, n_estimators=100 \n"
     ]
    },
    {
     "name": "stderr",
     "output_type": "stream",
     "text": [
      "/usr/local/lib/python3.7/site-packages/sklearn/model_selection/_validation.py:514: DataConversionWarning: A column-vector y was passed when a 1d array was expected. Please change the shape of y to (n_samples,), for example using ravel().\n",
      "  estimator.fit(X_train, y_train, **fit_params)\n"
     ]
    },
    {
     "name": "stdout",
     "output_type": "stream",
     "text": [
      "[CV]  bootstrap=False, criterion=entropy, max_depth=7, max_features=log2, n_estimators=100, score=0.960, total=   1.0s\n",
      "[CV] bootstrap=False, criterion=entropy, max_depth=9, max_features=auto, n_estimators=10 \n",
      "[CV]  bootstrap=False, criterion=entropy, max_depth=9, max_features=auto, n_estimators=10, score=0.958, total=   0.1s\n",
      "[CV] bootstrap=False, criterion=entropy, max_depth=9, max_features=auto, n_estimators=10 \n"
     ]
    },
    {
     "name": "stderr",
     "output_type": "stream",
     "text": [
      "/usr/local/lib/python3.7/site-packages/sklearn/model_selection/_validation.py:514: DataConversionWarning: A column-vector y was passed when a 1d array was expected. Please change the shape of y to (n_samples,), for example using ravel().\n",
      "  estimator.fit(X_train, y_train, **fit_params)\n",
      "/usr/local/lib/python3.7/site-packages/sklearn/model_selection/_validation.py:514: DataConversionWarning: A column-vector y was passed when a 1d array was expected. Please change the shape of y to (n_samples,), for example using ravel().\n",
      "  estimator.fit(X_train, y_train, **fit_params)\n"
     ]
    },
    {
     "name": "stdout",
     "output_type": "stream",
     "text": [
      "[CV]  bootstrap=False, criterion=entropy, max_depth=9, max_features=auto, n_estimators=10, score=0.959, total=   0.2s\n",
      "[CV] bootstrap=False, criterion=entropy, max_depth=9, max_features=auto, n_estimators=10 \n",
      "[CV]  bootstrap=False, criterion=entropy, max_depth=9, max_features=auto, n_estimators=10, score=0.957, total=   0.2s\n",
      "[CV] bootstrap=False, criterion=entropy, max_depth=9, max_features=auto, n_estimators=10 \n"
     ]
    },
    {
     "name": "stderr",
     "output_type": "stream",
     "text": [
      "/usr/local/lib/python3.7/site-packages/sklearn/model_selection/_validation.py:514: DataConversionWarning: A column-vector y was passed when a 1d array was expected. Please change the shape of y to (n_samples,), for example using ravel().\n",
      "  estimator.fit(X_train, y_train, **fit_params)\n",
      "/usr/local/lib/python3.7/site-packages/sklearn/model_selection/_validation.py:514: DataConversionWarning: A column-vector y was passed when a 1d array was expected. Please change the shape of y to (n_samples,), for example using ravel().\n",
      "  estimator.fit(X_train, y_train, **fit_params)\n"
     ]
    },
    {
     "name": "stdout",
     "output_type": "stream",
     "text": [
      "[CV]  bootstrap=False, criterion=entropy, max_depth=9, max_features=auto, n_estimators=10, score=0.957, total=   0.2s\n",
      "[CV] bootstrap=False, criterion=entropy, max_depth=9, max_features=auto, n_estimators=10 \n"
     ]
    },
    {
     "name": "stderr",
     "output_type": "stream",
     "text": [
      "/usr/local/lib/python3.7/site-packages/sklearn/model_selection/_validation.py:514: DataConversionWarning: A column-vector y was passed when a 1d array was expected. Please change the shape of y to (n_samples,), for example using ravel().\n",
      "  estimator.fit(X_train, y_train, **fit_params)\n"
     ]
    },
    {
     "name": "stdout",
     "output_type": "stream",
     "text": [
      "[CV]  bootstrap=False, criterion=entropy, max_depth=9, max_features=auto, n_estimators=10, score=0.958, total=   0.3s\n",
      "[CV] bootstrap=False, criterion=entropy, max_depth=9, max_features=auto, n_estimators=50 \n"
     ]
    },
    {
     "name": "stderr",
     "output_type": "stream",
     "text": [
      "/usr/local/lib/python3.7/site-packages/sklearn/model_selection/_validation.py:514: DataConversionWarning: A column-vector y was passed when a 1d array was expected. Please change the shape of y to (n_samples,), for example using ravel().\n",
      "  estimator.fit(X_train, y_train, **fit_params)\n"
     ]
    },
    {
     "name": "stdout",
     "output_type": "stream",
     "text": [
      "[CV]  bootstrap=False, criterion=entropy, max_depth=9, max_features=auto, n_estimators=50, score=0.956, total=   1.0s\n",
      "[CV] bootstrap=False, criterion=entropy, max_depth=9, max_features=auto, n_estimators=50 \n"
     ]
    },
    {
     "name": "stderr",
     "output_type": "stream",
     "text": [
      "/usr/local/lib/python3.7/site-packages/sklearn/model_selection/_validation.py:514: DataConversionWarning: A column-vector y was passed when a 1d array was expected. Please change the shape of y to (n_samples,), for example using ravel().\n",
      "  estimator.fit(X_train, y_train, **fit_params)\n"
     ]
    },
    {
     "name": "stdout",
     "output_type": "stream",
     "text": [
      "[CV]  bootstrap=False, criterion=entropy, max_depth=9, max_features=auto, n_estimators=50, score=0.959, total=   0.8s\n",
      "[CV] bootstrap=False, criterion=entropy, max_depth=9, max_features=auto, n_estimators=50 \n"
     ]
    },
    {
     "name": "stderr",
     "output_type": "stream",
     "text": [
      "/usr/local/lib/python3.7/site-packages/sklearn/model_selection/_validation.py:514: DataConversionWarning: A column-vector y was passed when a 1d array was expected. Please change the shape of y to (n_samples,), for example using ravel().\n",
      "  estimator.fit(X_train, y_train, **fit_params)\n"
     ]
    },
    {
     "name": "stdout",
     "output_type": "stream",
     "text": [
      "[CV]  bootstrap=False, criterion=entropy, max_depth=9, max_features=auto, n_estimators=50, score=0.957, total=   0.7s\n",
      "[CV] bootstrap=False, criterion=entropy, max_depth=9, max_features=auto, n_estimators=50 \n"
     ]
    },
    {
     "name": "stderr",
     "output_type": "stream",
     "text": [
      "/usr/local/lib/python3.7/site-packages/sklearn/model_selection/_validation.py:514: DataConversionWarning: A column-vector y was passed when a 1d array was expected. Please change the shape of y to (n_samples,), for example using ravel().\n",
      "  estimator.fit(X_train, y_train, **fit_params)\n"
     ]
    },
    {
     "name": "stdout",
     "output_type": "stream",
     "text": [
      "[CV]  bootstrap=False, criterion=entropy, max_depth=9, max_features=auto, n_estimators=50, score=0.957, total=   0.7s\n",
      "[CV] bootstrap=False, criterion=entropy, max_depth=9, max_features=auto, n_estimators=50 \n"
     ]
    },
    {
     "name": "stderr",
     "output_type": "stream",
     "text": [
      "/usr/local/lib/python3.7/site-packages/sklearn/model_selection/_validation.py:514: DataConversionWarning: A column-vector y was passed when a 1d array was expected. Please change the shape of y to (n_samples,), for example using ravel().\n",
      "  estimator.fit(X_train, y_train, **fit_params)\n"
     ]
    },
    {
     "name": "stdout",
     "output_type": "stream",
     "text": [
      "[CV]  bootstrap=False, criterion=entropy, max_depth=9, max_features=auto, n_estimators=50, score=0.958, total=   1.0s\n",
      "[CV] bootstrap=False, criterion=entropy, max_depth=9, max_features=auto, n_estimators=100 \n"
     ]
    },
    {
     "name": "stderr",
     "output_type": "stream",
     "text": [
      "/usr/local/lib/python3.7/site-packages/sklearn/model_selection/_validation.py:514: DataConversionWarning: A column-vector y was passed when a 1d array was expected. Please change the shape of y to (n_samples,), for example using ravel().\n",
      "  estimator.fit(X_train, y_train, **fit_params)\n"
     ]
    },
    {
     "name": "stdout",
     "output_type": "stream",
     "text": [
      "[CV]  bootstrap=False, criterion=entropy, max_depth=9, max_features=auto, n_estimators=100, score=0.958, total=   1.5s\n",
      "[CV] bootstrap=False, criterion=entropy, max_depth=9, max_features=auto, n_estimators=100 \n"
     ]
    },
    {
     "name": "stderr",
     "output_type": "stream",
     "text": [
      "/usr/local/lib/python3.7/site-packages/sklearn/model_selection/_validation.py:514: DataConversionWarning: A column-vector y was passed when a 1d array was expected. Please change the shape of y to (n_samples,), for example using ravel().\n",
      "  estimator.fit(X_train, y_train, **fit_params)\n"
     ]
    },
    {
     "name": "stdout",
     "output_type": "stream",
     "text": [
      "[CV]  bootstrap=False, criterion=entropy, max_depth=9, max_features=auto, n_estimators=100, score=0.959, total=   1.4s\n",
      "[CV] bootstrap=False, criterion=entropy, max_depth=9, max_features=auto, n_estimators=100 \n"
     ]
    },
    {
     "name": "stderr",
     "output_type": "stream",
     "text": [
      "/usr/local/lib/python3.7/site-packages/sklearn/model_selection/_validation.py:514: DataConversionWarning: A column-vector y was passed when a 1d array was expected. Please change the shape of y to (n_samples,), for example using ravel().\n",
      "  estimator.fit(X_train, y_train, **fit_params)\n"
     ]
    },
    {
     "name": "stdout",
     "output_type": "stream",
     "text": [
      "[CV]  bootstrap=False, criterion=entropy, max_depth=9, max_features=auto, n_estimators=100, score=0.957, total=   1.4s\n",
      "[CV] bootstrap=False, criterion=entropy, max_depth=9, max_features=auto, n_estimators=100 \n"
     ]
    },
    {
     "name": "stderr",
     "output_type": "stream",
     "text": [
      "/usr/local/lib/python3.7/site-packages/sklearn/model_selection/_validation.py:514: DataConversionWarning: A column-vector y was passed when a 1d array was expected. Please change the shape of y to (n_samples,), for example using ravel().\n",
      "  estimator.fit(X_train, y_train, **fit_params)\n"
     ]
    },
    {
     "name": "stdout",
     "output_type": "stream",
     "text": [
      "[CV]  bootstrap=False, criterion=entropy, max_depth=9, max_features=auto, n_estimators=100, score=0.957, total=   1.4s\n",
      "[CV] bootstrap=False, criterion=entropy, max_depth=9, max_features=auto, n_estimators=100 \n"
     ]
    },
    {
     "name": "stderr",
     "output_type": "stream",
     "text": [
      "/usr/local/lib/python3.7/site-packages/sklearn/model_selection/_validation.py:514: DataConversionWarning: A column-vector y was passed when a 1d array was expected. Please change the shape of y to (n_samples,), for example using ravel().\n",
      "  estimator.fit(X_train, y_train, **fit_params)\n"
     ]
    },
    {
     "name": "stdout",
     "output_type": "stream",
     "text": [
      "[CV]  bootstrap=False, criterion=entropy, max_depth=9, max_features=auto, n_estimators=100, score=0.959, total=   1.4s\n",
      "[CV] bootstrap=False, criterion=entropy, max_depth=9, max_features=sqrt, n_estimators=10 \n",
      "[CV]  bootstrap=False, criterion=entropy, max_depth=9, max_features=sqrt, n_estimators=10, score=0.958, total=   0.2s\n",
      "[CV] bootstrap=False, criterion=entropy, max_depth=9, max_features=sqrt, n_estimators=10 \n"
     ]
    },
    {
     "name": "stderr",
     "output_type": "stream",
     "text": [
      "/usr/local/lib/python3.7/site-packages/sklearn/model_selection/_validation.py:514: DataConversionWarning: A column-vector y was passed when a 1d array was expected. Please change the shape of y to (n_samples,), for example using ravel().\n",
      "  estimator.fit(X_train, y_train, **fit_params)\n",
      "/usr/local/lib/python3.7/site-packages/sklearn/model_selection/_validation.py:514: DataConversionWarning: A column-vector y was passed when a 1d array was expected. Please change the shape of y to (n_samples,), for example using ravel().\n",
      "  estimator.fit(X_train, y_train, **fit_params)\n"
     ]
    },
    {
     "name": "stdout",
     "output_type": "stream",
     "text": [
      "[CV]  bootstrap=False, criterion=entropy, max_depth=9, max_features=sqrt, n_estimators=10, score=0.959, total=   0.2s\n",
      "[CV] bootstrap=False, criterion=entropy, max_depth=9, max_features=sqrt, n_estimators=10 \n"
     ]
    },
    {
     "name": "stderr",
     "output_type": "stream",
     "text": [
      "/usr/local/lib/python3.7/site-packages/sklearn/model_selection/_validation.py:514: DataConversionWarning: A column-vector y was passed when a 1d array was expected. Please change the shape of y to (n_samples,), for example using ravel().\n",
      "  estimator.fit(X_train, y_train, **fit_params)\n"
     ]
    },
    {
     "name": "stdout",
     "output_type": "stream",
     "text": [
      "[CV]  bootstrap=False, criterion=entropy, max_depth=9, max_features=sqrt, n_estimators=10, score=0.957, total=   0.2s\n",
      "[CV] bootstrap=False, criterion=entropy, max_depth=9, max_features=sqrt, n_estimators=10 \n"
     ]
    },
    {
     "name": "stderr",
     "output_type": "stream",
     "text": [
      "/usr/local/lib/python3.7/site-packages/sklearn/model_selection/_validation.py:514: DataConversionWarning: A column-vector y was passed when a 1d array was expected. Please change the shape of y to (n_samples,), for example using ravel().\n",
      "  estimator.fit(X_train, y_train, **fit_params)\n"
     ]
    },
    {
     "name": "stdout",
     "output_type": "stream",
     "text": [
      "[CV]  bootstrap=False, criterion=entropy, max_depth=9, max_features=sqrt, n_estimators=10, score=0.957, total=   0.4s\n",
      "[CV] bootstrap=False, criterion=entropy, max_depth=9, max_features=sqrt, n_estimators=10 \n",
      "[CV]  bootstrap=False, criterion=entropy, max_depth=9, max_features=sqrt, n_estimators=10, score=0.958, total=   0.2s\n",
      "[CV] bootstrap=False, criterion=entropy, max_depth=9, max_features=sqrt, n_estimators=50 \n"
     ]
    },
    {
     "name": "stderr",
     "output_type": "stream",
     "text": [
      "/usr/local/lib/python3.7/site-packages/sklearn/model_selection/_validation.py:514: DataConversionWarning: A column-vector y was passed when a 1d array was expected. Please change the shape of y to (n_samples,), for example using ravel().\n",
      "  estimator.fit(X_train, y_train, **fit_params)\n",
      "/usr/local/lib/python3.7/site-packages/sklearn/model_selection/_validation.py:514: DataConversionWarning: A column-vector y was passed when a 1d array was expected. Please change the shape of y to (n_samples,), for example using ravel().\n",
      "  estimator.fit(X_train, y_train, **fit_params)\n"
     ]
    },
    {
     "name": "stdout",
     "output_type": "stream",
     "text": [
      "[CV]  bootstrap=False, criterion=entropy, max_depth=9, max_features=sqrt, n_estimators=50, score=0.956, total=   0.8s\n",
      "[CV] bootstrap=False, criterion=entropy, max_depth=9, max_features=sqrt, n_estimators=50 \n"
     ]
    },
    {
     "name": "stderr",
     "output_type": "stream",
     "text": [
      "/usr/local/lib/python3.7/site-packages/sklearn/model_selection/_validation.py:514: DataConversionWarning: A column-vector y was passed when a 1d array was expected. Please change the shape of y to (n_samples,), for example using ravel().\n",
      "  estimator.fit(X_train, y_train, **fit_params)\n"
     ]
    },
    {
     "name": "stdout",
     "output_type": "stream",
     "text": [
      "[CV]  bootstrap=False, criterion=entropy, max_depth=9, max_features=sqrt, n_estimators=50, score=0.959, total=   0.7s\n",
      "[CV] bootstrap=False, criterion=entropy, max_depth=9, max_features=sqrt, n_estimators=50 \n"
     ]
    },
    {
     "name": "stderr",
     "output_type": "stream",
     "text": [
      "/usr/local/lib/python3.7/site-packages/sklearn/model_selection/_validation.py:514: DataConversionWarning: A column-vector y was passed when a 1d array was expected. Please change the shape of y to (n_samples,), for example using ravel().\n",
      "  estimator.fit(X_train, y_train, **fit_params)\n"
     ]
    },
    {
     "name": "stdout",
     "output_type": "stream",
     "text": [
      "[CV]  bootstrap=False, criterion=entropy, max_depth=9, max_features=sqrt, n_estimators=50, score=0.957, total=   0.8s\n",
      "[CV] bootstrap=False, criterion=entropy, max_depth=9, max_features=sqrt, n_estimators=50 \n"
     ]
    },
    {
     "name": "stderr",
     "output_type": "stream",
     "text": [
      "/usr/local/lib/python3.7/site-packages/sklearn/model_selection/_validation.py:514: DataConversionWarning: A column-vector y was passed when a 1d array was expected. Please change the shape of y to (n_samples,), for example using ravel().\n",
      "  estimator.fit(X_train, y_train, **fit_params)\n"
     ]
    },
    {
     "name": "stdout",
     "output_type": "stream",
     "text": [
      "[CV]  bootstrap=False, criterion=entropy, max_depth=9, max_features=sqrt, n_estimators=50, score=0.957, total=   0.7s\n",
      "[CV] bootstrap=False, criterion=entropy, max_depth=9, max_features=sqrt, n_estimators=50 \n"
     ]
    },
    {
     "name": "stderr",
     "output_type": "stream",
     "text": [
      "/usr/local/lib/python3.7/site-packages/sklearn/model_selection/_validation.py:514: DataConversionWarning: A column-vector y was passed when a 1d array was expected. Please change the shape of y to (n_samples,), for example using ravel().\n",
      "  estimator.fit(X_train, y_train, **fit_params)\n"
     ]
    },
    {
     "name": "stdout",
     "output_type": "stream",
     "text": [
      "[CV]  bootstrap=False, criterion=entropy, max_depth=9, max_features=sqrt, n_estimators=50, score=0.958, total=   0.7s\n",
      "[CV] bootstrap=False, criterion=entropy, max_depth=9, max_features=sqrt, n_estimators=100 \n"
     ]
    },
    {
     "name": "stderr",
     "output_type": "stream",
     "text": [
      "/usr/local/lib/python3.7/site-packages/sklearn/model_selection/_validation.py:514: DataConversionWarning: A column-vector y was passed when a 1d array was expected. Please change the shape of y to (n_samples,), for example using ravel().\n",
      "  estimator.fit(X_train, y_train, **fit_params)\n"
     ]
    },
    {
     "name": "stdout",
     "output_type": "stream",
     "text": [
      "[CV]  bootstrap=False, criterion=entropy, max_depth=9, max_features=sqrt, n_estimators=100, score=0.958, total=   1.5s\n",
      "[CV] bootstrap=False, criterion=entropy, max_depth=9, max_features=sqrt, n_estimators=100 \n"
     ]
    },
    {
     "name": "stderr",
     "output_type": "stream",
     "text": [
      "/usr/local/lib/python3.7/site-packages/sklearn/model_selection/_validation.py:514: DataConversionWarning: A column-vector y was passed when a 1d array was expected. Please change the shape of y to (n_samples,), for example using ravel().\n",
      "  estimator.fit(X_train, y_train, **fit_params)\n"
     ]
    },
    {
     "name": "stdout",
     "output_type": "stream",
     "text": [
      "[CV]  bootstrap=False, criterion=entropy, max_depth=9, max_features=sqrt, n_estimators=100, score=0.959, total=   1.7s\n",
      "[CV] bootstrap=False, criterion=entropy, max_depth=9, max_features=sqrt, n_estimators=100 \n"
     ]
    },
    {
     "name": "stderr",
     "output_type": "stream",
     "text": [
      "/usr/local/lib/python3.7/site-packages/sklearn/model_selection/_validation.py:514: DataConversionWarning: A column-vector y was passed when a 1d array was expected. Please change the shape of y to (n_samples,), for example using ravel().\n",
      "  estimator.fit(X_train, y_train, **fit_params)\n"
     ]
    },
    {
     "name": "stdout",
     "output_type": "stream",
     "text": [
      "[CV]  bootstrap=False, criterion=entropy, max_depth=9, max_features=sqrt, n_estimators=100, score=0.957, total=   1.4s\n",
      "[CV] bootstrap=False, criterion=entropy, max_depth=9, max_features=sqrt, n_estimators=100 \n"
     ]
    },
    {
     "name": "stderr",
     "output_type": "stream",
     "text": [
      "/usr/local/lib/python3.7/site-packages/sklearn/model_selection/_validation.py:514: DataConversionWarning: A column-vector y was passed when a 1d array was expected. Please change the shape of y to (n_samples,), for example using ravel().\n",
      "  estimator.fit(X_train, y_train, **fit_params)\n"
     ]
    },
    {
     "name": "stdout",
     "output_type": "stream",
     "text": [
      "[CV]  bootstrap=False, criterion=entropy, max_depth=9, max_features=sqrt, n_estimators=100, score=0.957, total=   1.4s\n",
      "[CV] bootstrap=False, criterion=entropy, max_depth=9, max_features=sqrt, n_estimators=100 \n"
     ]
    },
    {
     "name": "stderr",
     "output_type": "stream",
     "text": [
      "/usr/local/lib/python3.7/site-packages/sklearn/model_selection/_validation.py:514: DataConversionWarning: A column-vector y was passed when a 1d array was expected. Please change the shape of y to (n_samples,), for example using ravel().\n",
      "  estimator.fit(X_train, y_train, **fit_params)\n"
     ]
    },
    {
     "name": "stdout",
     "output_type": "stream",
     "text": [
      "[CV]  bootstrap=False, criterion=entropy, max_depth=9, max_features=sqrt, n_estimators=100, score=0.959, total=   1.3s\n",
      "[CV] bootstrap=False, criterion=entropy, max_depth=9, max_features=log2, n_estimators=10 \n",
      "[CV]  bootstrap=False, criterion=entropy, max_depth=9, max_features=log2, n_estimators=10, score=0.957, total=   0.1s\n",
      "[CV] bootstrap=False, criterion=entropy, max_depth=9, max_features=log2, n_estimators=10 \n"
     ]
    },
    {
     "name": "stderr",
     "output_type": "stream",
     "text": [
      "/usr/local/lib/python3.7/site-packages/sklearn/model_selection/_validation.py:514: DataConversionWarning: A column-vector y was passed when a 1d array was expected. Please change the shape of y to (n_samples,), for example using ravel().\n",
      "  estimator.fit(X_train, y_train, **fit_params)\n",
      "/usr/local/lib/python3.7/site-packages/sklearn/model_selection/_validation.py:514: DataConversionWarning: A column-vector y was passed when a 1d array was expected. Please change the shape of y to (n_samples,), for example using ravel().\n",
      "  estimator.fit(X_train, y_train, **fit_params)\n"
     ]
    },
    {
     "name": "stdout",
     "output_type": "stream",
     "text": [
      "[CV]  bootstrap=False, criterion=entropy, max_depth=9, max_features=log2, n_estimators=10, score=0.960, total=   0.1s\n",
      "[CV] bootstrap=False, criterion=entropy, max_depth=9, max_features=log2, n_estimators=10 \n",
      "[CV]  bootstrap=False, criterion=entropy, max_depth=9, max_features=log2, n_estimators=10, score=0.953, total=   0.1s\n",
      "[CV] bootstrap=False, criterion=entropy, max_depth=9, max_features=log2, n_estimators=10 \n"
     ]
    },
    {
     "name": "stderr",
     "output_type": "stream",
     "text": [
      "/usr/local/lib/python3.7/site-packages/sklearn/model_selection/_validation.py:514: DataConversionWarning: A column-vector y was passed when a 1d array was expected. Please change the shape of y to (n_samples,), for example using ravel().\n",
      "  estimator.fit(X_train, y_train, **fit_params)\n",
      "/usr/local/lib/python3.7/site-packages/sklearn/model_selection/_validation.py:514: DataConversionWarning: A column-vector y was passed when a 1d array was expected. Please change the shape of y to (n_samples,), for example using ravel().\n",
      "  estimator.fit(X_train, y_train, **fit_params)\n"
     ]
    },
    {
     "name": "stdout",
     "output_type": "stream",
     "text": [
      "[CV]  bootstrap=False, criterion=entropy, max_depth=9, max_features=log2, n_estimators=10, score=0.955, total=   0.1s\n",
      "[CV] bootstrap=False, criterion=entropy, max_depth=9, max_features=log2, n_estimators=10 \n",
      "[CV]  bootstrap=False, criterion=entropy, max_depth=9, max_features=log2, n_estimators=10, score=0.958, total=   0.1s\n",
      "[CV] bootstrap=False, criterion=entropy, max_depth=9, max_features=log2, n_estimators=50 \n"
     ]
    },
    {
     "name": "stderr",
     "output_type": "stream",
     "text": [
      "/usr/local/lib/python3.7/site-packages/sklearn/model_selection/_validation.py:514: DataConversionWarning: A column-vector y was passed when a 1d array was expected. Please change the shape of y to (n_samples,), for example using ravel().\n",
      "  estimator.fit(X_train, y_train, **fit_params)\n",
      "/usr/local/lib/python3.7/site-packages/sklearn/model_selection/_validation.py:514: DataConversionWarning: A column-vector y was passed when a 1d array was expected. Please change the shape of y to (n_samples,), for example using ravel().\n",
      "  estimator.fit(X_train, y_train, **fit_params)\n"
     ]
    },
    {
     "name": "stdout",
     "output_type": "stream",
     "text": [
      "[CV]  bootstrap=False, criterion=entropy, max_depth=9, max_features=log2, n_estimators=50, score=0.958, total=   0.6s\n",
      "[CV] bootstrap=False, criterion=entropy, max_depth=9, max_features=log2, n_estimators=50 \n"
     ]
    },
    {
     "name": "stderr",
     "output_type": "stream",
     "text": [
      "/usr/local/lib/python3.7/site-packages/sklearn/model_selection/_validation.py:514: DataConversionWarning: A column-vector y was passed when a 1d array was expected. Please change the shape of y to (n_samples,), for example using ravel().\n",
      "  estimator.fit(X_train, y_train, **fit_params)\n"
     ]
    },
    {
     "name": "stdout",
     "output_type": "stream",
     "text": [
      "[CV]  bootstrap=False, criterion=entropy, max_depth=9, max_features=log2, n_estimators=50, score=0.960, total=   0.7s\n",
      "[CV] bootstrap=False, criterion=entropy, max_depth=9, max_features=log2, n_estimators=50 \n"
     ]
    },
    {
     "name": "stderr",
     "output_type": "stream",
     "text": [
      "/usr/local/lib/python3.7/site-packages/sklearn/model_selection/_validation.py:514: DataConversionWarning: A column-vector y was passed when a 1d array was expected. Please change the shape of y to (n_samples,), for example using ravel().\n",
      "  estimator.fit(X_train, y_train, **fit_params)\n"
     ]
    },
    {
     "name": "stdout",
     "output_type": "stream",
     "text": [
      "[CV]  bootstrap=False, criterion=entropy, max_depth=9, max_features=log2, n_estimators=50, score=0.957, total=   0.7s\n",
      "[CV] bootstrap=False, criterion=entropy, max_depth=9, max_features=log2, n_estimators=50 \n"
     ]
    },
    {
     "name": "stderr",
     "output_type": "stream",
     "text": [
      "/usr/local/lib/python3.7/site-packages/sklearn/model_selection/_validation.py:514: DataConversionWarning: A column-vector y was passed when a 1d array was expected. Please change the shape of y to (n_samples,), for example using ravel().\n",
      "  estimator.fit(X_train, y_train, **fit_params)\n"
     ]
    },
    {
     "name": "stdout",
     "output_type": "stream",
     "text": [
      "[CV]  bootstrap=False, criterion=entropy, max_depth=9, max_features=log2, n_estimators=50, score=0.957, total=   0.7s\n",
      "[CV] bootstrap=False, criterion=entropy, max_depth=9, max_features=log2, n_estimators=50 \n"
     ]
    },
    {
     "name": "stderr",
     "output_type": "stream",
     "text": [
      "/usr/local/lib/python3.7/site-packages/sklearn/model_selection/_validation.py:514: DataConversionWarning: A column-vector y was passed when a 1d array was expected. Please change the shape of y to (n_samples,), for example using ravel().\n",
      "  estimator.fit(X_train, y_train, **fit_params)\n"
     ]
    },
    {
     "name": "stdout",
     "output_type": "stream",
     "text": [
      "[CV]  bootstrap=False, criterion=entropy, max_depth=9, max_features=log2, n_estimators=50, score=0.958, total=   0.9s\n",
      "[CV] bootstrap=False, criterion=entropy, max_depth=9, max_features=log2, n_estimators=100 \n"
     ]
    },
    {
     "name": "stderr",
     "output_type": "stream",
     "text": [
      "/usr/local/lib/python3.7/site-packages/sklearn/model_selection/_validation.py:514: DataConversionWarning: A column-vector y was passed when a 1d array was expected. Please change the shape of y to (n_samples,), for example using ravel().\n",
      "  estimator.fit(X_train, y_train, **fit_params)\n"
     ]
    },
    {
     "name": "stdout",
     "output_type": "stream",
     "text": [
      "[CV]  bootstrap=False, criterion=entropy, max_depth=9, max_features=log2, n_estimators=100, score=0.958, total=   1.4s\n",
      "[CV] bootstrap=False, criterion=entropy, max_depth=9, max_features=log2, n_estimators=100 \n"
     ]
    },
    {
     "name": "stderr",
     "output_type": "stream",
     "text": [
      "/usr/local/lib/python3.7/site-packages/sklearn/model_selection/_validation.py:514: DataConversionWarning: A column-vector y was passed when a 1d array was expected. Please change the shape of y to (n_samples,), for example using ravel().\n",
      "  estimator.fit(X_train, y_train, **fit_params)\n"
     ]
    },
    {
     "name": "stdout",
     "output_type": "stream",
     "text": [
      "[CV]  bootstrap=False, criterion=entropy, max_depth=9, max_features=log2, n_estimators=100, score=0.960, total=   1.3s\n",
      "[CV] bootstrap=False, criterion=entropy, max_depth=9, max_features=log2, n_estimators=100 \n"
     ]
    },
    {
     "name": "stderr",
     "output_type": "stream",
     "text": [
      "/usr/local/lib/python3.7/site-packages/sklearn/model_selection/_validation.py:514: DataConversionWarning: A column-vector y was passed when a 1d array was expected. Please change the shape of y to (n_samples,), for example using ravel().\n",
      "  estimator.fit(X_train, y_train, **fit_params)\n"
     ]
    },
    {
     "name": "stdout",
     "output_type": "stream",
     "text": [
      "[CV]  bootstrap=False, criterion=entropy, max_depth=9, max_features=log2, n_estimators=100, score=0.957, total=   1.5s\n",
      "[CV] bootstrap=False, criterion=entropy, max_depth=9, max_features=log2, n_estimators=100 \n"
     ]
    },
    {
     "name": "stderr",
     "output_type": "stream",
     "text": [
      "/usr/local/lib/python3.7/site-packages/sklearn/model_selection/_validation.py:514: DataConversionWarning: A column-vector y was passed when a 1d array was expected. Please change the shape of y to (n_samples,), for example using ravel().\n",
      "  estimator.fit(X_train, y_train, **fit_params)\n"
     ]
    },
    {
     "name": "stdout",
     "output_type": "stream",
     "text": [
      "[CV]  bootstrap=False, criterion=entropy, max_depth=9, max_features=log2, n_estimators=100, score=0.956, total=   2.2s\n",
      "[CV] bootstrap=False, criterion=entropy, max_depth=9, max_features=log2, n_estimators=100 \n"
     ]
    },
    {
     "name": "stderr",
     "output_type": "stream",
     "text": [
      "/usr/local/lib/python3.7/site-packages/sklearn/model_selection/_validation.py:514: DataConversionWarning: A column-vector y was passed when a 1d array was expected. Please change the shape of y to (n_samples,), for example using ravel().\n",
      "  estimator.fit(X_train, y_train, **fit_params)\n"
     ]
    },
    {
     "name": "stdout",
     "output_type": "stream",
     "text": [
      "[CV]  bootstrap=False, criterion=entropy, max_depth=9, max_features=log2, n_estimators=100, score=0.958, total=   1.5s\n"
     ]
    },
    {
     "name": "stderr",
     "output_type": "stream",
     "text": [
      "[Parallel(n_jobs=1)]: Done 720 out of 720 | elapsed:  6.6min finished\n",
      "/usr/local/lib/python3.7/site-packages/sklearn/model_selection/_search.py:714: DataConversionWarning: A column-vector y was passed when a 1d array was expected. Please change the shape of y to (n_samples,), for example using ravel().\n",
      "  self.best_estimator_.fit(X, y, **fit_params)\n"
     ]
    },
    {
     "data": {
      "text/plain": [
       "GridSearchCV(cv=5, error_score='raise-deprecating',\n",
       "             estimator=RandomForestClassifier(bootstrap=True, class_weight=None,\n",
       "                                              criterion='gini', max_depth=None,\n",
       "                                              max_features='auto',\n",
       "                                              max_leaf_nodes=None,\n",
       "                                              min_impurity_decrease=0.0,\n",
       "                                              min_impurity_split=None,\n",
       "                                              min_samples_leaf=1,\n",
       "                                              min_samples_split=2,\n",
       "                                              min_weight_fraction_leaf=0.0,\n",
       "                                              n_estimators='warn', n_jobs=None,\n",
       "                                              oob_score=False, random_state=10,\n",
       "                                              verbose=0, warm_start=False),\n",
       "             iid='warn', n_jobs=None,\n",
       "             param_grid={'bootstrap': [True, False],\n",
       "                         'criterion': ['gini', 'entropy'],\n",
       "                         'max_depth': [3, 5, 7, 9],\n",
       "                         'max_features': ['auto', 'sqrt', 'log2'],\n",
       "                         'n_estimators': [10, 50, 100]},\n",
       "             pre_dispatch='2*n_jobs', refit=True, return_train_score=False,\n",
       "             scoring=None, verbose=8)"
      ]
     },
     "execution_count": 22,
     "metadata": {},
     "output_type": "execute_result"
    }
   ],
   "source": [
    "CV_rfc.fit(X_train, y_train)"
   ]
  },
  {
   "cell_type": "code",
   "execution_count": 23,
   "metadata": {},
   "outputs": [
    {
     "data": {
      "text/plain": [
       "{'bootstrap': False,\n",
       " 'criterion': 'gini',\n",
       " 'max_depth': 7,\n",
       " 'max_features': 'auto',\n",
       " 'n_estimators': 10}"
      ]
     },
     "execution_count": 23,
     "metadata": {},
     "output_type": "execute_result"
    }
   ],
   "source": [
    "CV_rfc.best_params_"
   ]
  },
  {
   "cell_type": "code",
   "execution_count": 24,
   "metadata": {},
   "outputs": [],
   "source": [
    "rfc_best=RandomForestClassifier(random_state=10, max_features=CV_rfc.best_params_['max_features'], n_estimators=CV_rfc.best_params_['n_estimators'], max_depth=CV_rfc.best_params_['max_depth'], criterion=CV_rfc.best_params_['criterion'], bootstrap=CV_rfc.best_params_['bootstrap'])\n"
   ]
  },
  {
   "cell_type": "code",
   "execution_count": 25,
   "metadata": {},
   "outputs": [
    {
     "name": "stderr",
     "output_type": "stream",
     "text": [
      "/usr/local/lib/python3.7/site-packages/ipykernel_launcher.py:1: DataConversionWarning: A column-vector y was passed when a 1d array was expected. Please change the shape of y to (n_samples,), for example using ravel().\n",
      "  \"\"\"Entry point for launching an IPython kernel.\n"
     ]
    },
    {
     "data": {
      "text/plain": [
       "RandomForestClassifier(bootstrap=False, class_weight=None, criterion='gini',\n",
       "                       max_depth=7, max_features='auto', max_leaf_nodes=None,\n",
       "                       min_impurity_decrease=0.0, min_impurity_split=None,\n",
       "                       min_samples_leaf=1, min_samples_split=2,\n",
       "                       min_weight_fraction_leaf=0.0, n_estimators=10,\n",
       "                       n_jobs=None, oob_score=False, random_state=10, verbose=0,\n",
       "                       warm_start=False)"
      ]
     },
     "execution_count": 25,
     "metadata": {},
     "output_type": "execute_result"
    }
   ],
   "source": [
    "rfc_best.fit(X_train, y_train)"
   ]
  },
  {
   "cell_type": "code",
   "execution_count": 26,
   "metadata": {},
   "outputs": [],
   "source": [
    "y_pred_train=rfc_best.predict(X_train)"
   ]
  },
  {
   "cell_type": "code",
   "execution_count": 27,
   "metadata": {},
   "outputs": [],
   "source": [
    "y_pred=rfc_best.predict(X_test)"
   ]
  },
  {
   "cell_type": "code",
   "execution_count": 28,
   "metadata": {},
   "outputs": [
    {
     "data": {
      "text/plain": [
       "0.9602634934126647"
      ]
     },
     "execution_count": 28,
     "metadata": {},
     "output_type": "execute_result"
    }
   ],
   "source": [
    "f1_score(y_train, y_pred_train)"
   ]
  },
  {
   "cell_type": "code",
   "execution_count": 29,
   "metadata": {},
   "outputs": [
    {
     "data": {
      "text/plain": [
       "0.9606968345018058"
      ]
     },
     "execution_count": 29,
     "metadata": {},
     "output_type": "execute_result"
    }
   ],
   "source": [
    "f1_score(y_test, y_pred)"
   ]
  },
  {
   "cell_type": "code",
   "execution_count": 30,
   "metadata": {},
   "outputs": [
    {
     "data": {
      "text/plain": [
       "array([[8638,  574],\n",
       "       [ 174, 9038]])"
      ]
     },
     "execution_count": 30,
     "metadata": {},
     "output_type": "execute_result"
    }
   ],
   "source": [
    "cm = confusion_matrix(y_train, y_pred_train)\n",
    "cm"
   ]
  },
  {
   "cell_type": "code",
   "execution_count": 31,
   "metadata": {},
   "outputs": [
    {
     "data": {
      "text/plain": [
       "array([[2160,  143],\n",
       "       [  42, 2261]])"
      ]
     },
     "execution_count": 31,
     "metadata": {},
     "output_type": "execute_result"
    }
   ],
   "source": [
    "cm = confusion_matrix(y_test, y_pred)\n",
    "cm"
   ]
  },
  {
   "cell_type": "code",
   "execution_count": 32,
   "metadata": {},
   "outputs": [
    {
     "data": {
      "image/png": "[encoded data removed]",
      "text/plain": [
       "<Figure size 576x432 with 2 Axes>"
      ]
     },
     "metadata": {
      "needs_background": "light"
     },
     "output_type": "display_data"
    }
   ],
   "source": [
    "data = confusion_matrix(y_train, y_pred_train)\n",
    "df_cm = pd.DataFrame(data, columns=np.unique(y_test), index = np.unique(y_test))\n",
    "df_cm.index.name = 'y Train'\n",
    "df_cm.columns.name = 'y Train Predicted'\n",
    "plt.figure(figsize = (8,6))\n",
    "sns.set(font_scale=1.4)#for label size\n",
    "sns.heatmap(df_cm, cmap=\"Oranges\", annot=True,annot_kws={\"size\": 14},fmt='d')# font size\n",
    "plt.title(\"Confusion Matrix Y Train vs Y Train Predict\")\n",
    "plt.show()"
   ]
  },
  {
   "cell_type": "code",
   "execution_count": 33,
   "metadata": {},
   "outputs": [
    {
     "data": {
      "image/png": "[encoded data removed]",
      "text/plain": [
       "<Figure size 576x432 with 2 Axes>"
      ]
     },
     "metadata": {},
     "output_type": "display_data"
    }
   ],
   "source": [
    "data = confusion_matrix(y_test, y_pred)\n",
    "df_cm = pd.DataFrame(data, columns=np.unique(y_test), index = np.unique(y_test))\n",
    "df_cm.index.name = 'y Test'\n",
    "df_cm.columns.name = 'y Predicted'\n",
    "plt.figure(figsize = (8,6))\n",
    "sns.set(font_scale=1.4)#for label size\n",
    "sns.heatmap(df_cm, cmap=\"Oranges\", annot=True,annot_kws={\"size\": 14},fmt='d')# font size\n",
    "plt.title(\"Confusion Matrix Y Test vs Y Predict\")\n",
    "plt.show()"
   ]
  },
  {
   "cell_type": "code",
   "execution_count": 34,
   "metadata": {},
   "outputs": [
    {
     "data": {
      "text/plain": [
       "0.9598349978289188"
      ]
     },
     "execution_count": 34,
     "metadata": {},
     "output_type": "execute_result"
    }
   ],
   "source": [
    "roc_auc_score(y_test, y_pred)"
   ]
  },
  {
   "cell_type": "code",
   "execution_count": 35,
   "metadata": {},
   "outputs": [
    {
     "data": {
      "image/png": "[encoded data removed]",
      "text/plain": [
       "<Figure size 576x432 with 1 Axes>"
      ]
     },
     "metadata": {},
     "output_type": "display_data"
    }
   ],
   "source": [
    "logit_roc_auc = roc_auc_score(y_test, y_pred)\n",
    "fpr, tpr, thresholds = roc_curve(y_test, y_pred)\n",
    "plt.figure(figsize=(8,6))\n",
    "\n",
    "plt.plot(fpr, tpr, label='Logistic Regression (area = %0.2f)' % logit_roc_auc)\n",
    "plt.plot([0, 1], [0, 1],'r--')\n",
    "plt.xlim([0.0, 1.0])\n",
    "plt.ylim([0.0, 1.05])\n",
    "plt.xlabel('False Positive Rate')\n",
    "plt.ylabel('True Positive Rate')\n",
    "plt.title('Receiver operating characteristic')\n",
    "plt.legend(loc=\"lower right\")\n",
    "plt.show()"
   ]
  },
  {
   "cell_type": "markdown",
   "metadata": {},
   "source": [
    "#### Feature Importance"
   ]
  },
  {
   "cell_type": "code",
   "execution_count": 36,
   "metadata": {},
   "outputs": [
    {
     "data": {
      "text/plain": [
       "array([9.37847998e-04, 2.64257454e-04, 1.35399016e-04, 1.33361750e-04,\n",
       "       1.98904377e-05, 2.48778984e-04, 6.74422974e-05, 9.08218672e-06,\n",
       "       3.62053225e-05, 8.72012862e-03, 7.26648791e-03, 1.66038342e-03,\n",
       "       5.26642689e-03, 8.11743531e-04, 3.71460742e-04, 2.80404651e-05,\n",
       "       1.01865622e-01, 6.47864047e-03, 2.36899444e-02, 1.73643975e-04,\n",
       "       2.06071492e-06, 3.64066960e-06, 4.40383170e-05, 0.00000000e+00,\n",
       "       4.17213376e-05, 0.00000000e+00, 4.88997354e-05, 5.13069792e-04,\n",
       "       1.28659801e-06, 1.23595440e-05, 2.29166607e-04, 2.42017795e-04,\n",
       "       0.00000000e+00, 1.45958148e-04, 6.30659885e-02, 7.18038511e-03,\n",
       "       1.56888430e-02, 1.32890196e-04, 5.63234193e-02, 3.65307228e-02,\n",
       "       5.11202672e-05, 3.52166047e-02, 1.46239942e-04, 9.47751713e-02,\n",
       "       8.08546893e-02, 4.34347156e-01, 1.91584553e-04, 1.51400953e-02,\n",
       "       8.86083353e-04])"
      ]
     },
     "execution_count": 36,
     "metadata": {},
     "output_type": "execute_result"
    }
   ],
   "source": [
    "rfc_best.feature_importances_"
   ]
  },
  {
   "cell_type": "code",
   "execution_count": 37,
   "metadata": {},
   "outputs": [
    {
     "data": {
      "image/png": "[encoded data removed]",
      "text/plain": [
       "<Figure size 432x288 with 1 Axes>"
      ]
     },
     "metadata": {},
     "output_type": "display_data"
    }
   ],
   "source": [
    "plot_feat_imp(rfc_best,20,df_downsampled.columns)"
   ]
  },
  {
   "cell_type": "code",
   "execution_count": 38,
   "metadata": {},
   "outputs": [
    {
     "data": {
      "text/html": [
       "<div>\n",
       "<style scoped>\n",
       "    .dataframe tbody tr th:only-of-type {\n",
       "        vertical-align: middle;\n",
       "    }\n",
       "\n",
       "    .dataframe tbody tr th {\n",
       "        vertical-align: top;\n",
       "    }\n",
       "\n",
       "    .dataframe thead th {\n",
       "        text-align: right;\n",
       "    }\n",
       "</style>\n",
       "<table border=\"1\" class=\"dataframe\">\n",
       "  <thead>\n",
       "    <tr style=\"text-align: right;\">\n",
       "      <th></th>\n",
       "      <th>Importance</th>\n",
       "      <th>Feature</th>\n",
       "    </tr>\n",
       "  </thead>\n",
       "  <tbody>\n",
       "    <tr>\n",
       "      <th>0</th>\n",
       "      <td>0.4343</td>\n",
       "      <td>totalsPageviews</td>\n",
       "    </tr>\n",
       "    <tr>\n",
       "      <th>1</th>\n",
       "      <td>0.1019</td>\n",
       "      <td>continet_Americas</td>\n",
       "    </tr>\n",
       "    <tr>\n",
       "      <th>2</th>\n",
       "      <td>0.0948</td>\n",
       "      <td>totalsBounces</td>\n",
       "    </tr>\n",
       "    <tr>\n",
       "      <th>3</th>\n",
       "      <td>0.0809</td>\n",
       "      <td>totalsNewVisits</td>\n",
       "    </tr>\n",
       "    <tr>\n",
       "      <th>4</th>\n",
       "      <td>0.0631</td>\n",
       "      <td>referral_Home</td>\n",
       "    </tr>\n",
       "    <tr>\n",
       "      <th>5</th>\n",
       "      <td>0.0563</td>\n",
       "      <td>source_Googleplex</td>\n",
       "    </tr>\n",
       "    <tr>\n",
       "      <th>6</th>\n",
       "      <td>0.0365</td>\n",
       "      <td>source_Youtube</td>\n",
       "    </tr>\n",
       "    <tr>\n",
       "      <th>7</th>\n",
       "      <td>0.0352</td>\n",
       "      <td>visitNumber</td>\n",
       "    </tr>\n",
       "    <tr>\n",
       "      <th>8</th>\n",
       "      <td>0.0237</td>\n",
       "      <td>continet_Europe</td>\n",
       "    </tr>\n",
       "    <tr>\n",
       "      <th>9</th>\n",
       "      <td>0.0157</td>\n",
       "      <td>referral_Youtube</td>\n",
       "    </tr>\n",
       "    <tr>\n",
       "      <th>10</th>\n",
       "      <td>0.0151</td>\n",
       "      <td>trafficSourceIsTrueDirect</td>\n",
       "    </tr>\n",
       "    <tr>\n",
       "      <th>11</th>\n",
       "      <td>0.0087</td>\n",
       "      <td>cat_desktop</td>\n",
       "    </tr>\n",
       "    <tr>\n",
       "      <th>12</th>\n",
       "      <td>0.0073</td>\n",
       "      <td>cat_mobile</td>\n",
       "    </tr>\n",
       "    <tr>\n",
       "      <th>13</th>\n",
       "      <td>0.0072</td>\n",
       "      <td>referral_NoReferral</td>\n",
       "    </tr>\n",
       "    <tr>\n",
       "      <th>14</th>\n",
       "      <td>0.0065</td>\n",
       "      <td>continet_Asia</td>\n",
       "    </tr>\n",
       "    <tr>\n",
       "      <th>15</th>\n",
       "      <td>0.0053</td>\n",
       "      <td>os_Macintosh</td>\n",
       "    </tr>\n",
       "    <tr>\n",
       "      <th>16</th>\n",
       "      <td>0.0017</td>\n",
       "      <td>os_Android</td>\n",
       "    </tr>\n",
       "    <tr>\n",
       "      <th>17</th>\n",
       "      <td>0.0009</td>\n",
       "      <td>newRandom</td>\n",
       "    </tr>\n",
       "    <tr>\n",
       "      <th>18</th>\n",
       "      <td>0.0009</td>\n",
       "      <td>channel_direct</td>\n",
       "    </tr>\n",
       "    <tr>\n",
       "      <th>19</th>\n",
       "      <td>0.0008</td>\n",
       "      <td>os_Windows</td>\n",
       "    </tr>\n",
       "    <tr>\n",
       "      <th>20</th>\n",
       "      <td>0.0005</td>\n",
       "      <td>medium_affiliate</td>\n",
       "    </tr>\n",
       "    <tr>\n",
       "      <th>21</th>\n",
       "      <td>0.0004</td>\n",
       "      <td>os_iOS</td>\n",
       "    </tr>\n",
       "    <tr>\n",
       "      <th>22</th>\n",
       "      <td>0.0003</td>\n",
       "      <td>channel_organic</td>\n",
       "    </tr>\n",
       "    <tr>\n",
       "      <th>23</th>\n",
       "      <td>0.0002</td>\n",
       "      <td>medium_organic</td>\n",
       "    </tr>\n",
       "    <tr>\n",
       "      <th>24</th>\n",
       "      <td>0.0002</td>\n",
       "      <td>medium_none</td>\n",
       "    </tr>\n",
       "    <tr>\n",
       "      <th>25</th>\n",
       "      <td>0.0002</td>\n",
       "      <td>continet_Oceania</td>\n",
       "    </tr>\n",
       "    <tr>\n",
       "      <th>26</th>\n",
       "      <td>0.0002</td>\n",
       "      <td>browser_chrome</td>\n",
       "    </tr>\n",
       "    <tr>\n",
       "      <th>27</th>\n",
       "      <td>0.0002</td>\n",
       "      <td>adwordsClickGclId</td>\n",
       "    </tr>\n",
       "    <tr>\n",
       "      <th>28</th>\n",
       "      <td>0.0001</td>\n",
       "      <td>source_direct</td>\n",
       "    </tr>\n",
       "    <tr>\n",
       "      <th>29</th>\n",
       "      <td>0.0001</td>\n",
       "      <td>source_Google</td>\n",
       "    </tr>\n",
       "    <tr>\n",
       "      <th>30</th>\n",
       "      <td>0.0001</td>\n",
       "      <td>referral_Google</td>\n",
       "    </tr>\n",
       "    <tr>\n",
       "      <th>31</th>\n",
       "      <td>0.0001</td>\n",
       "      <td>deviceIsMobile</td>\n",
       "    </tr>\n",
       "    <tr>\n",
       "      <th>32</th>\n",
       "      <td>0.0001</td>\n",
       "      <td>channel_paid</td>\n",
       "    </tr>\n",
       "    <tr>\n",
       "      <th>33</th>\n",
       "      <td>0.0001</td>\n",
       "      <td>channel_other</td>\n",
       "    </tr>\n",
       "    <tr>\n",
       "      <th>34</th>\n",
       "      <td>0.0001</td>\n",
       "      <td>browser_firefox</td>\n",
       "    </tr>\n",
       "    <tr>\n",
       "      <th>35</th>\n",
       "      <td>0.0000</td>\n",
       "      <td>network_NoAdWords</td>\n",
       "    </tr>\n",
       "    <tr>\n",
       "      <th>36</th>\n",
       "      <td>0.0000</td>\n",
       "      <td>network_Google Search</td>\n",
       "    </tr>\n",
       "    <tr>\n",
       "      <th>37</th>\n",
       "      <td>0.0000</td>\n",
       "      <td>medium_other</td>\n",
       "    </tr>\n",
       "    <tr>\n",
       "      <th>38</th>\n",
       "      <td>0.0000</td>\n",
       "      <td>medium_cpm</td>\n",
       "    </tr>\n",
       "    <tr>\n",
       "      <th>39</th>\n",
       "      <td>0.0000</td>\n",
       "      <td>medium_cpc</td>\n",
       "    </tr>\n",
       "    <tr>\n",
       "      <th>40</th>\n",
       "      <td>0.0000</td>\n",
       "      <td>continet_Africa</td>\n",
       "    </tr>\n",
       "    <tr>\n",
       "      <th>41</th>\n",
       "      <td>0.0000</td>\n",
       "      <td>campaign_NoCampaign</td>\n",
       "    </tr>\n",
       "    <tr>\n",
       "      <th>42</th>\n",
       "      <td>0.0000</td>\n",
       "      <td>campaign_Data Share</td>\n",
       "    </tr>\n",
       "    <tr>\n",
       "      <th>43</th>\n",
       "      <td>0.0000</td>\n",
       "      <td>campaign_AW</td>\n",
       "    </tr>\n",
       "    <tr>\n",
       "      <th>44</th>\n",
       "      <td>0.0000</td>\n",
       "      <td>browser_other</td>\n",
       "    </tr>\n",
       "    <tr>\n",
       "      <th>45</th>\n",
       "      <td>0.0000</td>\n",
       "      <td>browser_microsoft</td>\n",
       "    </tr>\n",
       "    <tr>\n",
       "      <th>46</th>\n",
       "      <td>0.0000</td>\n",
       "      <td>browser_android</td>\n",
       "    </tr>\n",
       "    <tr>\n",
       "      <th>47</th>\n",
       "      <td>0.0000</td>\n",
       "      <td>ad_NoAd</td>\n",
       "    </tr>\n",
       "    <tr>\n",
       "      <th>48</th>\n",
       "      <td>0.0000</td>\n",
       "      <td>ad_GoogleMerchandiseCollection</td>\n",
       "    </tr>\n",
       "  </tbody>\n",
       "</table>\n",
       "</div>"
      ],
      "text/plain": [
       "    Importance                         Feature\n",
       "0       0.4343                 totalsPageviews\n",
       "1       0.1019               continet_Americas\n",
       "2       0.0948                   totalsBounces\n",
       "3       0.0809                 totalsNewVisits\n",
       "4       0.0631                   referral_Home\n",
       "5       0.0563               source_Googleplex\n",
       "6       0.0365                  source_Youtube\n",
       "7       0.0352                     visitNumber\n",
       "8       0.0237                 continet_Europe\n",
       "9       0.0157                referral_Youtube\n",
       "10      0.0151       trafficSourceIsTrueDirect\n",
       "11      0.0087                     cat_desktop\n",
       "12      0.0073                      cat_mobile\n",
       "13      0.0072             referral_NoReferral\n",
       "14      0.0065                   continet_Asia\n",
       "15      0.0053                    os_Macintosh\n",
       "16      0.0017                      os_Android\n",
       "17      0.0009                       newRandom\n",
       "18      0.0009                  channel_direct\n",
       "19      0.0008                      os_Windows\n",
       "20      0.0005                medium_affiliate\n",
       "21      0.0004                          os_iOS\n",
       "22      0.0003                 channel_organic\n",
       "23      0.0002                  medium_organic\n",
       "24      0.0002                     medium_none\n",
       "25      0.0002                continet_Oceania\n",
       "26      0.0002                  browser_chrome\n",
       "27      0.0002               adwordsClickGclId\n",
       "28      0.0001                   source_direct\n",
       "29      0.0001                   source_Google\n",
       "30      0.0001                 referral_Google\n",
       "31      0.0001                  deviceIsMobile\n",
       "32      0.0001                    channel_paid\n",
       "33      0.0001                   channel_other\n",
       "34      0.0001                 browser_firefox\n",
       "35      0.0000               network_NoAdWords\n",
       "36      0.0000           network_Google Search\n",
       "37      0.0000                    medium_other\n",
       "38      0.0000                      medium_cpm\n",
       "39      0.0000                      medium_cpc\n",
       "40      0.0000                 continet_Africa\n",
       "41      0.0000             campaign_NoCampaign\n",
       "42      0.0000             campaign_Data Share\n",
       "43      0.0000                     campaign_AW\n",
       "44      0.0000                   browser_other\n",
       "45      0.0000               browser_microsoft\n",
       "46      0.0000                 browser_android\n",
       "47      0.0000                         ad_NoAd\n",
       "48      0.0000  ad_GoogleMerchandiseCollection"
      ]
     },
     "execution_count": 38,
     "metadata": {},
     "output_type": "execute_result"
    }
   ],
   "source": [
    "print_feat_imp(rfc_best,df_downsampled)"
   ]
  },
  {
   "cell_type": "markdown",
   "metadata": {},
   "source": [
    "#### Permutation Importance"
   ]
  },
  {
   "cell_type": "code",
   "execution_count": 39,
   "metadata": {},
   "outputs": [],
   "source": [
    "cols = ['channel_direct', 'channel_organic', 'channel_other', 'channel_paid',\n",
    "       'browser_android', 'browser_chrome', 'browser_firefox',\n",
    "       'browser_microsoft', 'browser_other', 'cat_desktop', 'cat_mobile',\n",
    "       'os_Android', 'os_Macintosh', 'os_Windows', 'os_iOS', 'continet_Africa',\n",
    "       'continet_Americas', 'continet_Asia', 'continet_Europe',\n",
    "       'continet_Oceania', 'ad_GoogleMerchandiseCollection', 'ad_NoAd',\n",
    "       'network_Google Search', 'network_NoAdWords', 'campaign_AW',\n",
    "       'campaign_Data Share', 'campaign_NoCampaign', 'medium_affiliate',\n",
    "       'medium_cpc', 'medium_cpm', 'medium_none', 'medium_organic',\n",
    "       'medium_other', 'referral_Google', 'referral_Home',\n",
    "       'referral_NoReferral', 'referral_Youtube', 'source_Google',\n",
    "       'source_Googleplex', 'source_Youtube', 'source_direct', 'visitNumber',\n",
    "       'deviceIsMobile', 'totalsBounces', 'totalsNewVisits', 'totalsPageviews',\n",
    "       'adwordsClickGclId', 'trafficSourceIsTrueDirect', 'newRandom']"
   ]
  },
  {
   "cell_type": "code",
   "execution_count": 40,
   "metadata": {},
   "outputs": [],
   "source": [
    "df_pi = eli5.formatters.as_dataframe.explain_weights_df(rfc_best, top=10, feature_names = cols)"
   ]
  },
  {
   "cell_type": "code",
   "execution_count": 41,
   "metadata": {},
   "outputs": [
    {
     "data": {
      "text/html": [
       "<div>\n",
       "<style scoped>\n",
       "    .dataframe tbody tr th:only-of-type {\n",
       "        vertical-align: middle;\n",
       "    }\n",
       "\n",
       "    .dataframe tbody tr th {\n",
       "        vertical-align: top;\n",
       "    }\n",
       "\n",
       "    .dataframe thead th {\n",
       "        text-align: right;\n",
       "    }\n",
       "</style>\n",
       "<table border=\"1\" class=\"dataframe\">\n",
       "  <thead>\n",
       "    <tr style=\"text-align: right;\">\n",
       "      <th></th>\n",
       "      <th>feature</th>\n",
       "      <th>weight</th>\n",
       "      <th>std</th>\n",
       "    </tr>\n",
       "  </thead>\n",
       "  <tbody>\n",
       "    <tr>\n",
       "      <th>0</th>\n",
       "      <td>totalsPageviews</td>\n",
       "      <td>0.434347</td>\n",
       "      <td>0.250381</td>\n",
       "    </tr>\n",
       "    <tr>\n",
       "      <th>1</th>\n",
       "      <td>continet_Americas</td>\n",
       "      <td>0.101866</td>\n",
       "      <td>0.120105</td>\n",
       "    </tr>\n",
       "    <tr>\n",
       "      <th>2</th>\n",
       "      <td>totalsBounces</td>\n",
       "      <td>0.094775</td>\n",
       "      <td>0.120832</td>\n",
       "    </tr>\n",
       "    <tr>\n",
       "      <th>3</th>\n",
       "      <td>totalsNewVisits</td>\n",
       "      <td>0.080855</td>\n",
       "      <td>0.104062</td>\n",
       "    </tr>\n",
       "    <tr>\n",
       "      <th>4</th>\n",
       "      <td>referral_Home</td>\n",
       "      <td>0.063066</td>\n",
       "      <td>0.095775</td>\n",
       "    </tr>\n",
       "    <tr>\n",
       "      <th>5</th>\n",
       "      <td>source_Googleplex</td>\n",
       "      <td>0.056323</td>\n",
       "      <td>0.093211</td>\n",
       "    </tr>\n",
       "    <tr>\n",
       "      <th>6</th>\n",
       "      <td>source_Youtube</td>\n",
       "      <td>0.036531</td>\n",
       "      <td>0.044059</td>\n",
       "    </tr>\n",
       "    <tr>\n",
       "      <th>7</th>\n",
       "      <td>visitNumber</td>\n",
       "      <td>0.035217</td>\n",
       "      <td>0.082557</td>\n",
       "    </tr>\n",
       "    <tr>\n",
       "      <th>8</th>\n",
       "      <td>continet_Europe</td>\n",
       "      <td>0.023690</td>\n",
       "      <td>0.028009</td>\n",
       "    </tr>\n",
       "    <tr>\n",
       "      <th>9</th>\n",
       "      <td>referral_Youtube</td>\n",
       "      <td>0.015689</td>\n",
       "      <td>0.038207</td>\n",
       "    </tr>\n",
       "  </tbody>\n",
       "</table>\n",
       "</div>"
      ],
      "text/plain": [
       "             feature    weight       std\n",
       "0    totalsPageviews  0.434347  0.250381\n",
       "1  continet_Americas  0.101866  0.120105\n",
       "2      totalsBounces  0.094775  0.120832\n",
       "3    totalsNewVisits  0.080855  0.104062\n",
       "4      referral_Home  0.063066  0.095775\n",
       "5  source_Googleplex  0.056323  0.093211\n",
       "6     source_Youtube  0.036531  0.044059\n",
       "7        visitNumber  0.035217  0.082557\n",
       "8    continet_Europe  0.023690  0.028009\n",
       "9   referral_Youtube  0.015689  0.038207"
      ]
     },
     "execution_count": 41,
     "metadata": {},
     "output_type": "execute_result"
    }
   ],
   "source": [
    "df_pi"
   ]
  },
  {
   "cell_type": "markdown",
   "metadata": {},
   "source": [
    "**CONCLUSIONS:**<br>\n",
    "* The AUC, CM and F1 have given very good results.<br>\n",
    "* The Pageviews, Bounces and the continent to be America have a 70% of importance in the model.<br>\n",
    "* The column random is the 18th feature in importance, the rest of the columns can be avoided."
   ]
  },
  {
   "cell_type": "markdown",
   "metadata": {},
   "source": [
    "**IMPROVEMENTS:**<br>\n",
    "* Improve the hyperparameter optimization of the model.\n",
    "* Standarize the df to equal the vars range\n",
    "* Take out the columns that perform under the random var"
   ]
  }
 ],
 "metadata": {
  "kernelspec": {
   "display_name": "Python 3",
   "language": "python",
   "name": "python3"
  },
  "language_info": {
   "codemirror_mode": {
    "name": "ipython",
    "version": 3
   },
   "file_extension": ".py",
   "mimetype": "text/x-python",
   "name": "python",
   "nbconvert_exporter": "python",
   "pygments_lexer": "ipython3",
   "version": "3.7.5"
  },
  "toc": {
   "base_numbering": "5",
   "nav_menu": {},
   "number_sections": true,
   "sideBar": true,
   "skip_h1_title": true,
   "title_cell": "Table of Contents",
   "title_sidebar": "Contents",
   "toc_cell": false,
   "toc_position": {},
   "toc_section_display": true,
   "toc_window_display": false
  },
  "varInspector": {
   "cols": {
    "lenName": 16,
    "lenType": 16,
    "lenVar": 40
   },
   "kernels_config": {
    "python": {
     "delete_cmd_postfix": "",
     "delete_cmd_prefix": "del ",
     "library": "var_list.py",
     "varRefreshCmd": "print(var_dic_list())"
    },
    "r": {
     "delete_cmd_postfix": ") ",
     "delete_cmd_prefix": "rm(",
     "library": "var_list.r",
     "varRefreshCmd": "cat(var_dic_list()) "
    }
   },
   "types_to_exclude": [
    "module",
    "function",
    "builtin_function_or_method",
    "instance",
    "_Feature"
   ],
   "window_display": false
  }
 },
 "nbformat": 4,
 "nbformat_minor": 2
}
