{
 "cells": [
  {
   "cell_type": "markdown",
   "metadata": {},
   "source": [
    "# Google Analytics Revenue Prediction"
   ]
  },
  {
   "cell_type": "markdown",
   "metadata": {},
   "source": [
    "## Preprocessing"
   ]
  },
  {
   "cell_type": "markdown",
   "metadata": {},
   "source": [
    "**Environment**"
   ]
  },
  {
   "cell_type": "code",
   "execution_count": 1,
   "metadata": {},
   "outputs": [
    {
     "data": {
      "text/html": [
       "<style>.container { width:100% !important; }</style>"
      ],
      "text/plain": [
       "<IPython.core.display.HTML object>"
      ]
     },
     "metadata": {},
     "output_type": "display_data"
    }
   ],
   "source": [
    "import pandas as pd\n",
    "import numpy as np\n",
    "from datetime import datetime\n",
    "\n",
    "# Pandas defaults\n",
    "pd.options.display.max_columns = 500\n",
    "pd.options.display.max_rows = 500\n",
    " \n",
    "# Make jupyter bigger\n",
    "from IPython.core.display import display, HTML\n",
    "display(HTML('<style>.container { width:100% !important; }</style>'))"
   ]
  },
  {
   "cell_type": "code",
   "execution_count": 2,
   "metadata": {},
   "outputs": [],
   "source": [
    "from myfunctions import *"
   ]
  },
  {
   "cell_type": "markdown",
   "metadata": {},
   "source": [
    "**Import Dataframe**"
   ]
  },
  {
   "cell_type": "code",
   "execution_count": 3,
   "metadata": {},
   "outputs": [],
   "source": [
    "df = pd.read_csv(\"data/df2.csv\", low_memory=False)"
   ]
  },
  {
   "cell_type": "markdown",
   "metadata": {},
   "source": [
    "### Dataset Analysis"
   ]
  },
  {
   "cell_type": "code",
   "execution_count": 4,
   "metadata": {},
   "outputs": [
    {
     "data": {
      "text/plain": [
       "(903653, 38)"
      ]
     },
     "execution_count": 4,
     "metadata": {},
     "output_type": "execute_result"
    }
   ],
   "source": [
    "df.shape"
   ]
  },
  {
   "cell_type": "markdown",
   "metadata": {},
   "source": [
    "There are 38 columns and 903653 rows"
   ]
  },
  {
   "cell_type": "code",
   "execution_count": 5,
   "metadata": {},
   "outputs": [
    {
     "data": {
      "text/plain": [
       "Index(['channelGrouping', 'date', 'fullVisitorId', 'sessionId',\n",
       "       'socialEngagementType', 'visitId', 'visitNumber', 'visitStartTime',\n",
       "       'device.browser', 'device.deviceCategory', 'device.isMobile',\n",
       "       'device.operatingSystem', 'geoNetwork.city', 'geoNetwork.continent',\n",
       "       'geoNetwork.country', 'geoNetwork.metro', 'geoNetwork.networkDomain',\n",
       "       'geoNetwork.region', 'geoNetwork.subContinent', 'totals.bounces',\n",
       "       'totals.hits', 'totals.newVisits', 'totals.pageviews',\n",
       "       'totals.transactionRevenue', 'totals.visits', 'trafficSource.adContent',\n",
       "       'trafficSource.adwordsClickInfo.adNetworkType',\n",
       "       'trafficSource.adwordsClickInfo.gclId',\n",
       "       'trafficSource.adwordsClickInfo.isVideoAd',\n",
       "       'trafficSource.adwordsClickInfo.page',\n",
       "       'trafficSource.adwordsClickInfo.slot', 'trafficSource.campaign',\n",
       "       'trafficSource.campaignCode', 'trafficSource.isTrueDirect',\n",
       "       'trafficSource.keyword', 'trafficSource.medium',\n",
       "       'trafficSource.referralPath', 'trafficSource.source'],\n",
       "      dtype='object')"
      ]
     },
     "execution_count": 5,
     "metadata": {},
     "output_type": "execute_result"
    }
   ],
   "source": [
    "df.columns"
   ]
  },
  {
   "cell_type": "markdown",
   "metadata": {},
   "source": [
    "Rename the columns with more friendly names"
   ]
  },
  {
   "cell_type": "code",
   "execution_count": 6,
   "metadata": {},
   "outputs": [],
   "source": [
    "df.columns = ['channelGrouping', 'date', 'fullVisitorId', 'sessionId',\n",
    "       'socialEngagementType', 'visitId', 'visitNumber', 'visitStartTime',\n",
    "       'deviceBrowser', 'deviceCategory', 'deviceIsMobile',\n",
    "       'deviceOS', 'geoCity', 'geoContinent',\n",
    "       'geoCountry', 'geoMetro', 'geoDomain',\n",
    "       'geoRegion', 'geoSubContinent', 'totalsBounces',\n",
    "       'totalsHits', 'totalsNewVisits', 'totalsPageviews',\n",
    "       'totalsTransactionRevenue', 'totalsVisits', 'trafficSourceAdContent',\n",
    "       'adwordsClickAdNetworkType',\n",
    "       'adwordsClickGclId',\n",
    "       'adwordsClickIsVideoAd',\n",
    "       'adwordsClickInfoPage',\n",
    "       'adwordsClickInfoSlot', 'trafficSourceCampaign',\n",
    "       'trafficSourceCampaignCode', 'trafficSourceIsTrueDirect',\n",
    "       'trafficSourceKeyword', 'trafficSourceMedium',\n",
    "       'trafficSourceReferralPath', 'trafficSourceSource']"
   ]
  },
  {
   "cell_type": "code",
   "execution_count": 7,
   "metadata": {},
   "outputs": [
    {
     "data": {
      "text/html": [
       "<div>\n",
       "<style scoped>\n",
       "    .dataframe tbody tr th:only-of-type {\n",
       "        vertical-align: middle;\n",
       "    }\n",
       "\n",
       "    .dataframe tbody tr th {\n",
       "        vertical-align: top;\n",
       "    }\n",
       "\n",
       "    .dataframe thead th {\n",
       "        text-align: right;\n",
       "    }\n",
       "</style>\n",
       "<table border=\"1\" class=\"dataframe\">\n",
       "  <thead>\n",
       "    <tr style=\"text-align: right;\">\n",
       "      <th></th>\n",
       "      <th>channelGrouping</th>\n",
       "      <th>date</th>\n",
       "      <th>fullVisitorId</th>\n",
       "      <th>sessionId</th>\n",
       "      <th>socialEngagementType</th>\n",
       "      <th>visitId</th>\n",
       "      <th>visitNumber</th>\n",
       "      <th>visitStartTime</th>\n",
       "      <th>deviceBrowser</th>\n",
       "      <th>deviceCategory</th>\n",
       "      <th>deviceIsMobile</th>\n",
       "      <th>deviceOS</th>\n",
       "      <th>geoCity</th>\n",
       "      <th>geoContinent</th>\n",
       "      <th>geoCountry</th>\n",
       "      <th>geoMetro</th>\n",
       "      <th>geoDomain</th>\n",
       "      <th>geoRegion</th>\n",
       "      <th>geoSubContinent</th>\n",
       "      <th>totalsBounces</th>\n",
       "      <th>totalsHits</th>\n",
       "      <th>totalsNewVisits</th>\n",
       "      <th>totalsPageviews</th>\n",
       "      <th>totalsTransactionRevenue</th>\n",
       "      <th>totalsVisits</th>\n",
       "      <th>trafficSourceAdContent</th>\n",
       "      <th>adwordsClickAdNetworkType</th>\n",
       "      <th>adwordsClickGclId</th>\n",
       "      <th>adwordsClickIsVideoAd</th>\n",
       "      <th>adwordsClickInfoPage</th>\n",
       "      <th>adwordsClickInfoSlot</th>\n",
       "      <th>trafficSourceCampaign</th>\n",
       "      <th>trafficSourceCampaignCode</th>\n",
       "      <th>trafficSourceIsTrueDirect</th>\n",
       "      <th>trafficSourceKeyword</th>\n",
       "      <th>trafficSourceMedium</th>\n",
       "      <th>trafficSourceReferralPath</th>\n",
       "      <th>trafficSourceSource</th>\n",
       "    </tr>\n",
       "  </thead>\n",
       "  <tbody>\n",
       "    <tr>\n",
       "      <th>0</th>\n",
       "      <td>Organic Search</td>\n",
       "      <td>20160902</td>\n",
       "      <td>1131660440785968503</td>\n",
       "      <td>1131660440785968503_1472830385</td>\n",
       "      <td>Not Socially Engaged</td>\n",
       "      <td>1472830385</td>\n",
       "      <td>1</td>\n",
       "      <td>1472830385</td>\n",
       "      <td>Chrome</td>\n",
       "      <td>desktop</td>\n",
       "      <td>False</td>\n",
       "      <td>Windows</td>\n",
       "      <td>Izmir</td>\n",
       "      <td>Asia</td>\n",
       "      <td>Turkey</td>\n",
       "      <td>NaN</td>\n",
       "      <td>ttnet.com.tr</td>\n",
       "      <td>Izmir</td>\n",
       "      <td>Western Asia</td>\n",
       "      <td>1.0</td>\n",
       "      <td>1</td>\n",
       "      <td>1.0</td>\n",
       "      <td>1.0</td>\n",
       "      <td>NaN</td>\n",
       "      <td>1</td>\n",
       "      <td>NaN</td>\n",
       "      <td>NaN</td>\n",
       "      <td>NaN</td>\n",
       "      <td>NaN</td>\n",
       "      <td>NaN</td>\n",
       "      <td>NaN</td>\n",
       "      <td>NaN</td>\n",
       "      <td>NaN</td>\n",
       "      <td>NaN</td>\n",
       "      <td>NaN</td>\n",
       "      <td>organic</td>\n",
       "      <td>NaN</td>\n",
       "      <td>google</td>\n",
       "    </tr>\n",
       "    <tr>\n",
       "      <th>1</th>\n",
       "      <td>Organic Search</td>\n",
       "      <td>20160902</td>\n",
       "      <td>377306020877927890</td>\n",
       "      <td>377306020877927890_1472880147</td>\n",
       "      <td>Not Socially Engaged</td>\n",
       "      <td>1472880147</td>\n",
       "      <td>1</td>\n",
       "      <td>1472880147</td>\n",
       "      <td>Firefox</td>\n",
       "      <td>desktop</td>\n",
       "      <td>False</td>\n",
       "      <td>Macintosh</td>\n",
       "      <td>NaN</td>\n",
       "      <td>Oceania</td>\n",
       "      <td>Australia</td>\n",
       "      <td>NaN</td>\n",
       "      <td>dodo.net.au</td>\n",
       "      <td>NaN</td>\n",
       "      <td>Australasia</td>\n",
       "      <td>1.0</td>\n",
       "      <td>1</td>\n",
       "      <td>1.0</td>\n",
       "      <td>1.0</td>\n",
       "      <td>NaN</td>\n",
       "      <td>1</td>\n",
       "      <td>NaN</td>\n",
       "      <td>NaN</td>\n",
       "      <td>NaN</td>\n",
       "      <td>NaN</td>\n",
       "      <td>NaN</td>\n",
       "      <td>NaN</td>\n",
       "      <td>NaN</td>\n",
       "      <td>NaN</td>\n",
       "      <td>NaN</td>\n",
       "      <td>NaN</td>\n",
       "      <td>organic</td>\n",
       "      <td>NaN</td>\n",
       "      <td>google</td>\n",
       "    </tr>\n",
       "    <tr>\n",
       "      <th>2</th>\n",
       "      <td>Organic Search</td>\n",
       "      <td>20160902</td>\n",
       "      <td>3895546263509774583</td>\n",
       "      <td>3895546263509774583_1472865386</td>\n",
       "      <td>Not Socially Engaged</td>\n",
       "      <td>1472865386</td>\n",
       "      <td>1</td>\n",
       "      <td>1472865386</td>\n",
       "      <td>Chrome</td>\n",
       "      <td>desktop</td>\n",
       "      <td>False</td>\n",
       "      <td>Windows</td>\n",
       "      <td>Madrid</td>\n",
       "      <td>Europe</td>\n",
       "      <td>Spain</td>\n",
       "      <td>NaN</td>\n",
       "      <td>unknown.unknown</td>\n",
       "      <td>Community of Madrid</td>\n",
       "      <td>Southern Europe</td>\n",
       "      <td>1.0</td>\n",
       "      <td>1</td>\n",
       "      <td>1.0</td>\n",
       "      <td>1.0</td>\n",
       "      <td>NaN</td>\n",
       "      <td>1</td>\n",
       "      <td>NaN</td>\n",
       "      <td>NaN</td>\n",
       "      <td>NaN</td>\n",
       "      <td>NaN</td>\n",
       "      <td>NaN</td>\n",
       "      <td>NaN</td>\n",
       "      <td>NaN</td>\n",
       "      <td>NaN</td>\n",
       "      <td>NaN</td>\n",
       "      <td>NaN</td>\n",
       "      <td>organic</td>\n",
       "      <td>NaN</td>\n",
       "      <td>google</td>\n",
       "    </tr>\n",
       "    <tr>\n",
       "      <th>3</th>\n",
       "      <td>Organic Search</td>\n",
       "      <td>20160902</td>\n",
       "      <td>4763447161404445595</td>\n",
       "      <td>4763447161404445595_1472881213</td>\n",
       "      <td>Not Socially Engaged</td>\n",
       "      <td>1472881213</td>\n",
       "      <td>1</td>\n",
       "      <td>1472881213</td>\n",
       "      <td>UC Browser</td>\n",
       "      <td>desktop</td>\n",
       "      <td>False</td>\n",
       "      <td>Linux</td>\n",
       "      <td>NaN</td>\n",
       "      <td>Asia</td>\n",
       "      <td>Indonesia</td>\n",
       "      <td>NaN</td>\n",
       "      <td>unknown.unknown</td>\n",
       "      <td>NaN</td>\n",
       "      <td>Southeast Asia</td>\n",
       "      <td>1.0</td>\n",
       "      <td>1</td>\n",
       "      <td>1.0</td>\n",
       "      <td>1.0</td>\n",
       "      <td>NaN</td>\n",
       "      <td>1</td>\n",
       "      <td>NaN</td>\n",
       "      <td>NaN</td>\n",
       "      <td>NaN</td>\n",
       "      <td>NaN</td>\n",
       "      <td>NaN</td>\n",
       "      <td>NaN</td>\n",
       "      <td>NaN</td>\n",
       "      <td>NaN</td>\n",
       "      <td>NaN</td>\n",
       "      <td>google + online</td>\n",
       "      <td>organic</td>\n",
       "      <td>NaN</td>\n",
       "      <td>google</td>\n",
       "    </tr>\n",
       "    <tr>\n",
       "      <th>4</th>\n",
       "      <td>Organic Search</td>\n",
       "      <td>20160902</td>\n",
       "      <td>27294437909732085</td>\n",
       "      <td>27294437909732085_1472822600</td>\n",
       "      <td>Not Socially Engaged</td>\n",
       "      <td>1472822600</td>\n",
       "      <td>2</td>\n",
       "      <td>1472822600</td>\n",
       "      <td>Chrome</td>\n",
       "      <td>mobile</td>\n",
       "      <td>True</td>\n",
       "      <td>Android</td>\n",
       "      <td>NaN</td>\n",
       "      <td>Europe</td>\n",
       "      <td>United Kingdom</td>\n",
       "      <td>NaN</td>\n",
       "      <td>unknown.unknown</td>\n",
       "      <td>NaN</td>\n",
       "      <td>Northern Europe</td>\n",
       "      <td>1.0</td>\n",
       "      <td>1</td>\n",
       "      <td>NaN</td>\n",
       "      <td>1.0</td>\n",
       "      <td>NaN</td>\n",
       "      <td>1</td>\n",
       "      <td>NaN</td>\n",
       "      <td>NaN</td>\n",
       "      <td>NaN</td>\n",
       "      <td>NaN</td>\n",
       "      <td>NaN</td>\n",
       "      <td>NaN</td>\n",
       "      <td>NaN</td>\n",
       "      <td>NaN</td>\n",
       "      <td>True</td>\n",
       "      <td>NaN</td>\n",
       "      <td>organic</td>\n",
       "      <td>NaN</td>\n",
       "      <td>google</td>\n",
       "    </tr>\n",
       "  </tbody>\n",
       "</table>\n",
       "</div>"
      ],
      "text/plain": [
       "  channelGrouping      date        fullVisitorId  \\\n",
       "0  Organic Search  20160902  1131660440785968503   \n",
       "1  Organic Search  20160902   377306020877927890   \n",
       "2  Organic Search  20160902  3895546263509774583   \n",
       "3  Organic Search  20160902  4763447161404445595   \n",
       "4  Organic Search  20160902    27294437909732085   \n",
       "\n",
       "                        sessionId  socialEngagementType     visitId  \\\n",
       "0  1131660440785968503_1472830385  Not Socially Engaged  1472830385   \n",
       "1   377306020877927890_1472880147  Not Socially Engaged  1472880147   \n",
       "2  3895546263509774583_1472865386  Not Socially Engaged  1472865386   \n",
       "3  4763447161404445595_1472881213  Not Socially Engaged  1472881213   \n",
       "4    27294437909732085_1472822600  Not Socially Engaged  1472822600   \n",
       "\n",
       "   visitNumber  visitStartTime deviceBrowser deviceCategory  deviceIsMobile  \\\n",
       "0            1      1472830385        Chrome        desktop           False   \n",
       "1            1      1472880147       Firefox        desktop           False   \n",
       "2            1      1472865386        Chrome        desktop           False   \n",
       "3            1      1472881213    UC Browser        desktop           False   \n",
       "4            2      1472822600        Chrome         mobile            True   \n",
       "\n",
       "    deviceOS geoCity geoContinent      geoCountry geoMetro        geoDomain  \\\n",
       "0    Windows   Izmir         Asia          Turkey      NaN     ttnet.com.tr   \n",
       "1  Macintosh     NaN      Oceania       Australia      NaN      dodo.net.au   \n",
       "2    Windows  Madrid       Europe           Spain      NaN  unknown.unknown   \n",
       "3      Linux     NaN         Asia       Indonesia      NaN  unknown.unknown   \n",
       "4    Android     NaN       Europe  United Kingdom      NaN  unknown.unknown   \n",
       "\n",
       "             geoRegion  geoSubContinent  totalsBounces  totalsHits  \\\n",
       "0                Izmir     Western Asia            1.0           1   \n",
       "1                  NaN      Australasia            1.0           1   \n",
       "2  Community of Madrid  Southern Europe            1.0           1   \n",
       "3                  NaN   Southeast Asia            1.0           1   \n",
       "4                  NaN  Northern Europe            1.0           1   \n",
       "\n",
       "   totalsNewVisits  totalsPageviews  totalsTransactionRevenue  totalsVisits  \\\n",
       "0              1.0              1.0                       NaN             1   \n",
       "1              1.0              1.0                       NaN             1   \n",
       "2              1.0              1.0                       NaN             1   \n",
       "3              1.0              1.0                       NaN             1   \n",
       "4              NaN              1.0                       NaN             1   \n",
       "\n",
       "  trafficSourceAdContent adwordsClickAdNetworkType adwordsClickGclId  \\\n",
       "0                    NaN                       NaN               NaN   \n",
       "1                    NaN                       NaN               NaN   \n",
       "2                    NaN                       NaN               NaN   \n",
       "3                    NaN                       NaN               NaN   \n",
       "4                    NaN                       NaN               NaN   \n",
       "\n",
       "  adwordsClickIsVideoAd  adwordsClickInfoPage adwordsClickInfoSlot  \\\n",
       "0                   NaN                   NaN                  NaN   \n",
       "1                   NaN                   NaN                  NaN   \n",
       "2                   NaN                   NaN                  NaN   \n",
       "3                   NaN                   NaN                  NaN   \n",
       "4                   NaN                   NaN                  NaN   \n",
       "\n",
       "  trafficSourceCampaign trafficSourceCampaignCode trafficSourceIsTrueDirect  \\\n",
       "0                   NaN                       NaN                       NaN   \n",
       "1                   NaN                       NaN                       NaN   \n",
       "2                   NaN                       NaN                       NaN   \n",
       "3                   NaN                       NaN                       NaN   \n",
       "4                   NaN                       NaN                      True   \n",
       "\n",
       "  trafficSourceKeyword trafficSourceMedium trafficSourceReferralPath  \\\n",
       "0                  NaN             organic                       NaN   \n",
       "1                  NaN             organic                       NaN   \n",
       "2                  NaN             organic                       NaN   \n",
       "3      google + online             organic                       NaN   \n",
       "4                  NaN             organic                       NaN   \n",
       "\n",
       "  trafficSourceSource  \n",
       "0              google  \n",
       "1              google  \n",
       "2              google  \n",
       "3              google  \n",
       "4              google  "
      ]
     },
     "execution_count": 7,
     "metadata": {},
     "output_type": "execute_result"
    }
   ],
   "source": [
    "df.head()"
   ]
  },
  {
   "cell_type": "markdown",
   "metadata": {},
   "source": [
    "### Type of vars"
   ]
  },
  {
   "cell_type": "code",
   "execution_count": 8,
   "metadata": {},
   "outputs": [
    {
     "data": {
      "text/plain": [
       "channelGrouping               object\n",
       "date                           int64\n",
       "fullVisitorId                 object\n",
       "sessionId                     object\n",
       "socialEngagementType          object\n",
       "visitId                        int64\n",
       "visitNumber                    int64\n",
       "visitStartTime                 int64\n",
       "deviceBrowser                 object\n",
       "deviceCategory                object\n",
       "deviceIsMobile                  bool\n",
       "deviceOS                      object\n",
       "geoCity                       object\n",
       "geoContinent                  object\n",
       "geoCountry                    object\n",
       "geoMetro                      object\n",
       "geoDomain                     object\n",
       "geoRegion                     object\n",
       "geoSubContinent               object\n",
       "totalsBounces                float64\n",
       "totalsHits                     int64\n",
       "totalsNewVisits              float64\n",
       "totalsPageviews              float64\n",
       "totalsTransactionRevenue     float64\n",
       "totalsVisits                   int64\n",
       "trafficSourceAdContent        object\n",
       "adwordsClickAdNetworkType     object\n",
       "adwordsClickGclId             object\n",
       "adwordsClickIsVideoAd         object\n",
       "adwordsClickInfoPage         float64\n",
       "adwordsClickInfoSlot          object\n",
       "trafficSourceCampaign         object\n",
       "trafficSourceCampaignCode     object\n",
       "trafficSourceIsTrueDirect     object\n",
       "trafficSourceKeyword          object\n",
       "trafficSourceMedium           object\n",
       "trafficSourceReferralPath     object\n",
       "trafficSourceSource           object\n",
       "dtype: object"
      ]
     },
     "execution_count": 8,
     "metadata": {},
     "output_type": "execute_result"
    }
   ],
   "source": [
    "df.dtypes"
   ]
  },
  {
   "cell_type": "markdown",
   "metadata": {},
   "source": [
    "The categories of the diferent vars are:"
   ]
  },
  {
   "cell_type": "markdown",
   "metadata": {},
   "source": [
    "**CATEGORICAL:**\n",
    "\n",
    "* channelGrouping: Channel of arrival of the visit\n",
    "* fullVisitorId: Visitor ID\n",
    "* sessionId: Session ID (contains Visitor ID)\n",
    "* socialEngagementType: Type of engagement\n",
    "* deviceBrowser: Name of the Browser\n",
    "* deviceCategory: Name of the device category \n",
    "* deviceOS: The OS of the device\n",
    "* geoCity: City of the visit\n",
    "* geoContinent: Continent of the visit\n",
    "* geoCountry: Country of the visit\n",
    "* geoMetro: Metro of the visit\n",
    "* geoDomain: Domain of the visit\n",
    "* geoRegion: Region of the visit\n",
    "* geoSubContinent: Subcontinent of the visit   \n",
    "* trafficSourceAdContent: Source of the Ads\n",
    "* adwordsClickAdNetworkType: Ad Source\n",
    "* adwordsClickGclId: Ad Click ID\n",
    "* adwordsClickInfo.slot: Place of the ad\n",
    "* trafficSourceCampaign: Name of the souce campaign\n",
    "* trafficSourceKeyword: Name of the source Keyword\n",
    "* trafficSourceMedium: Name of the source Medium\n",
    "* trafficSourceReferralPath: Referral Path\n",
    "* trafficSourceSource: Name of the source\n",
    "    \n",
    "    \n",
    "**BOOLEAN:**\n",
    "* deviceIsMobile: is the device mobile\n",
    "* totalsBounces: Is bounce \n",
    "* totalsNewVisits: Is new visit \n",
    "* adwordsClickIsVideoAd: Is from ad video \n",
    "* trafficSourceIsTrueDirect: Is it a true direct visit\n",
    "\n",
    "**ORDINAL:**\n",
    "* visitId: Visit ID integer (is the date in unix time)   \n",
    "* visitNumber: The number of visit of one user\n",
    "\n",
    "**NUMERICAL:**\n",
    "\n",
    "**INTEGER:**\n",
    "* totalsHits: number of hits\n",
    "* totalsPageviews: number of pageviews\n",
    "* totalsTransactionRevenue: (TARGET) logaritm if the revenue\n",
    "* totalsVisits: Number of visits\n",
    "* adwordsClickInfoPage: click from ad in page\n",
    "   \n",
    "**DATE:**\n",
    "* date: Date of the visit\n",
    "* visitStartTime: unix time of the visit\n"
   ]
  },
  {
   "cell_type": "markdown",
   "metadata": {},
   "source": [
    "### NaN"
   ]
  },
  {
   "cell_type": "code",
   "execution_count": 9,
   "metadata": {},
   "outputs": [
    {
     "data": {
      "text/plain": [
       "channelGrouping                   0\n",
       "date                              0\n",
       "fullVisitorId                     0\n",
       "sessionId                         0\n",
       "socialEngagementType              0\n",
       "visitId                           0\n",
       "visitNumber                       0\n",
       "visitStartTime                    0\n",
       "deviceBrowser                     8\n",
       "deviceCategory                    0\n",
       "deviceIsMobile                    0\n",
       "deviceOS                       4695\n",
       "geoCity                      542491\n",
       "geoContinent                   1468\n",
       "geoCountry                     1468\n",
       "geoMetro                     709995\n",
       "geoDomain                    244881\n",
       "geoRegion                    536056\n",
       "geoSubContinent                1468\n",
       "totalsBounces                453023\n",
       "totalsHits                        0\n",
       "totalsNewVisits              200593\n",
       "totalsPageviews                 100\n",
       "totalsTransactionRevenue     892138\n",
       "totalsVisits                      0\n",
       "trafficSourceAdContent       892707\n",
       "adwordsClickAdNetworkType    882193\n",
       "adwordsClickGclId            882092\n",
       "adwordsClickIsVideoAd        882193\n",
       "adwordsClickInfoPage         882193\n",
       "adwordsClickInfoSlot         882193\n",
       "trafficSourceCampaign        865347\n",
       "trafficSourceCampaignCode    903652\n",
       "trafficSourceIsTrueDirect    629648\n",
       "trafficSourceKeyword         869292\n",
       "trafficSourceMedium             120\n",
       "trafficSourceReferralPath    572712\n",
       "trafficSourceSource              69\n",
       "dtype: int64"
      ]
     },
     "execution_count": 9,
     "metadata": {},
     "output_type": "execute_result"
    }
   ],
   "source": [
    "df.isnull().sum()"
   ]
  },
  {
   "cell_type": "code",
   "execution_count": 10,
   "metadata": {},
   "outputs": [
    {
     "name": "stdout",
     "output_type": "stream",
     "text": [
      "**geoCity** % Nulls is 60.03\n",
      "**geoMetro** % Nulls is 78.57\n",
      "**geoDomain** % Nulls is 27.1\n",
      "**geoRegion** % Nulls is 59.32\n",
      "**totalsBounces** % Nulls is 50.13\n",
      "**totalsNewVisits** % Nulls is 22.2\n",
      "**totalsTransactionRevenue** % Nulls is 98.73\n",
      "**trafficSourceAdContent** % Nulls is 98.79\n",
      "**adwordsClickAdNetworkType** % Nulls is 97.63\n",
      "**adwordsClickGclId** % Nulls is 97.61\n",
      "**adwordsClickIsVideoAd** % Nulls is 97.63\n",
      "**adwordsClickInfoPage** % Nulls is 97.63\n",
      "**adwordsClickInfoSlot** % Nulls is 97.63\n",
      "**trafficSourceCampaign** % Nulls is 95.76\n",
      "**trafficSourceCampaignCode** % Nulls is 100.0\n",
      "**trafficSourceIsTrueDirect** % Nulls is 69.68\n",
      "**trafficSourceKeyword** % Nulls is 96.2\n",
      "**trafficSourceReferralPath** % Nulls is 63.38\n"
     ]
    }
   ],
   "source": [
    "#Show the columns percentage of nulls higher that 10% with a function\n",
    "percentNulls(df)"
   ]
  },
  {
   "cell_type": "markdown",
   "metadata": {},
   "source": [
    "The column **Traffic Source Campaign** code is almost empty (has only one value that seems an error). I drop the column."
   ]
  },
  {
   "cell_type": "code",
   "execution_count": 11,
   "metadata": {},
   "outputs": [
    {
     "data": {
      "text/html": [
       "<div>\n",
       "<style scoped>\n",
       "    .dataframe tbody tr th:only-of-type {\n",
       "        vertical-align: middle;\n",
       "    }\n",
       "\n",
       "    .dataframe tbody tr th {\n",
       "        vertical-align: top;\n",
       "    }\n",
       "\n",
       "    .dataframe thead th {\n",
       "        text-align: right;\n",
       "    }\n",
       "</style>\n",
       "<table border=\"1\" class=\"dataframe\">\n",
       "  <thead>\n",
       "    <tr style=\"text-align: right;\">\n",
       "      <th></th>\n",
       "      <th>channelGrouping</th>\n",
       "      <th>date</th>\n",
       "      <th>fullVisitorId</th>\n",
       "      <th>sessionId</th>\n",
       "      <th>socialEngagementType</th>\n",
       "      <th>visitId</th>\n",
       "      <th>visitNumber</th>\n",
       "      <th>visitStartTime</th>\n",
       "      <th>deviceBrowser</th>\n",
       "      <th>deviceCategory</th>\n",
       "      <th>deviceIsMobile</th>\n",
       "      <th>deviceOS</th>\n",
       "      <th>geoCity</th>\n",
       "      <th>geoContinent</th>\n",
       "      <th>geoCountry</th>\n",
       "      <th>geoMetro</th>\n",
       "      <th>geoDomain</th>\n",
       "      <th>geoRegion</th>\n",
       "      <th>geoSubContinent</th>\n",
       "      <th>totalsBounces</th>\n",
       "      <th>totalsHits</th>\n",
       "      <th>totalsNewVisits</th>\n",
       "      <th>totalsPageviews</th>\n",
       "      <th>totalsTransactionRevenue</th>\n",
       "      <th>totalsVisits</th>\n",
       "      <th>trafficSourceAdContent</th>\n",
       "      <th>adwordsClickAdNetworkType</th>\n",
       "      <th>adwordsClickGclId</th>\n",
       "      <th>adwordsClickIsVideoAd</th>\n",
       "      <th>adwordsClickInfoPage</th>\n",
       "      <th>adwordsClickInfoSlot</th>\n",
       "      <th>trafficSourceCampaign</th>\n",
       "      <th>trafficSourceCampaignCode</th>\n",
       "      <th>trafficSourceIsTrueDirect</th>\n",
       "      <th>trafficSourceKeyword</th>\n",
       "      <th>trafficSourceMedium</th>\n",
       "      <th>trafficSourceReferralPath</th>\n",
       "      <th>trafficSourceSource</th>\n",
       "    </tr>\n",
       "  </thead>\n",
       "  <tbody>\n",
       "    <tr>\n",
       "      <th>61493</th>\n",
       "      <td>(Other)</td>\n",
       "      <td>20160831</td>\n",
       "      <td>546985073727768157</td>\n",
       "      <td>546985073727768157_1472658560</td>\n",
       "      <td>Not Socially Engaged</td>\n",
       "      <td>1472658560</td>\n",
       "      <td>3</td>\n",
       "      <td>1472658560</td>\n",
       "      <td>Chrome</td>\n",
       "      <td>desktop</td>\n",
       "      <td>False</td>\n",
       "      <td>Macintosh</td>\n",
       "      <td>NaN</td>\n",
       "      <td>Asia</td>\n",
       "      <td>Philippines</td>\n",
       "      <td>NaN</td>\n",
       "      <td>NaN</td>\n",
       "      <td>NaN</td>\n",
       "      <td>Southeast Asia</td>\n",
       "      <td>1.0</td>\n",
       "      <td>1</td>\n",
       "      <td>NaN</td>\n",
       "      <td>1.0</td>\n",
       "      <td>NaN</td>\n",
       "      <td>1</td>\n",
       "      <td>NaN</td>\n",
       "      <td>NaN</td>\n",
       "      <td>NaN</td>\n",
       "      <td>NaN</td>\n",
       "      <td>NaN</td>\n",
       "      <td>NaN</td>\n",
       "      <td>NaN</td>\n",
       "      <td>11251kjhkvahf</td>\n",
       "      <td>NaN</td>\n",
       "      <td>NaN</td>\n",
       "      <td>NaN</td>\n",
       "      <td>NaN</td>\n",
       "      <td>NaN</td>\n",
       "    </tr>\n",
       "  </tbody>\n",
       "</table>\n",
       "</div>"
      ],
      "text/plain": [
       "      channelGrouping      date       fullVisitorId  \\\n",
       "61493         (Other)  20160831  546985073727768157   \n",
       "\n",
       "                           sessionId  socialEngagementType     visitId  \\\n",
       "61493  546985073727768157_1472658560  Not Socially Engaged  1472658560   \n",
       "\n",
       "       visitNumber  visitStartTime deviceBrowser deviceCategory  \\\n",
       "61493            3      1472658560        Chrome        desktop   \n",
       "\n",
       "       deviceIsMobile   deviceOS geoCity geoContinent   geoCountry geoMetro  \\\n",
       "61493           False  Macintosh     NaN         Asia  Philippines      NaN   \n",
       "\n",
       "      geoDomain geoRegion geoSubContinent  totalsBounces  totalsHits  \\\n",
       "61493       NaN       NaN  Southeast Asia            1.0           1   \n",
       "\n",
       "       totalsNewVisits  totalsPageviews  totalsTransactionRevenue  \\\n",
       "61493              NaN              1.0                       NaN   \n",
       "\n",
       "       totalsVisits trafficSourceAdContent adwordsClickAdNetworkType  \\\n",
       "61493             1                    NaN                       NaN   \n",
       "\n",
       "      adwordsClickGclId adwordsClickIsVideoAd  adwordsClickInfoPage  \\\n",
       "61493               NaN                   NaN                   NaN   \n",
       "\n",
       "      adwordsClickInfoSlot trafficSourceCampaign trafficSourceCampaignCode  \\\n",
       "61493                  NaN                   NaN             11251kjhkvahf   \n",
       "\n",
       "      trafficSourceIsTrueDirect trafficSourceKeyword trafficSourceMedium  \\\n",
       "61493                       NaN                  NaN                 NaN   \n",
       "\n",
       "      trafficSourceReferralPath trafficSourceSource  \n",
       "61493                       NaN                 NaN  "
      ]
     },
     "execution_count": 11,
     "metadata": {},
     "output_type": "execute_result"
    }
   ],
   "source": [
    "df.loc[df['trafficSourceCampaignCode'] == df['trafficSourceCampaignCode']]"
   ]
  },
  {
   "cell_type": "code",
   "execution_count": 12,
   "metadata": {},
   "outputs": [],
   "source": [
    "df.drop(columns='trafficSourceCampaignCode', inplace=True)"
   ]
  },
  {
   "cell_type": "code",
   "execution_count": 13,
   "metadata": {},
   "outputs": [
    {
     "data": {
      "text/html": [
       "<div>\n",
       "<style scoped>\n",
       "    .dataframe tbody tr th:only-of-type {\n",
       "        vertical-align: middle;\n",
       "    }\n",
       "\n",
       "    .dataframe tbody tr th {\n",
       "        vertical-align: top;\n",
       "    }\n",
       "\n",
       "    .dataframe thead th {\n",
       "        text-align: right;\n",
       "    }\n",
       "</style>\n",
       "<table border=\"1\" class=\"dataframe\">\n",
       "  <thead>\n",
       "    <tr style=\"text-align: right;\">\n",
       "      <th></th>\n",
       "      <th>channelGrouping</th>\n",
       "      <th>date</th>\n",
       "      <th>fullVisitorId</th>\n",
       "      <th>sessionId</th>\n",
       "      <th>socialEngagementType</th>\n",
       "      <th>visitId</th>\n",
       "      <th>visitNumber</th>\n",
       "      <th>visitStartTime</th>\n",
       "      <th>deviceBrowser</th>\n",
       "      <th>deviceCategory</th>\n",
       "      <th>deviceIsMobile</th>\n",
       "      <th>deviceOS</th>\n",
       "      <th>geoCity</th>\n",
       "      <th>geoContinent</th>\n",
       "      <th>geoCountry</th>\n",
       "      <th>geoMetro</th>\n",
       "      <th>geoDomain</th>\n",
       "      <th>geoRegion</th>\n",
       "      <th>geoSubContinent</th>\n",
       "      <th>totalsBounces</th>\n",
       "      <th>totalsHits</th>\n",
       "      <th>totalsNewVisits</th>\n",
       "      <th>totalsPageviews</th>\n",
       "      <th>totalsTransactionRevenue</th>\n",
       "      <th>totalsVisits</th>\n",
       "      <th>trafficSourceAdContent</th>\n",
       "      <th>adwordsClickAdNetworkType</th>\n",
       "      <th>adwordsClickGclId</th>\n",
       "      <th>adwordsClickIsVideoAd</th>\n",
       "      <th>adwordsClickInfoPage</th>\n",
       "      <th>adwordsClickInfoSlot</th>\n",
       "      <th>trafficSourceCampaign</th>\n",
       "      <th>trafficSourceIsTrueDirect</th>\n",
       "      <th>trafficSourceKeyword</th>\n",
       "      <th>trafficSourceMedium</th>\n",
       "      <th>trafficSourceReferralPath</th>\n",
       "      <th>trafficSourceSource</th>\n",
       "    </tr>\n",
       "  </thead>\n",
       "  <tbody>\n",
       "    <tr>\n",
       "      <th>0</th>\n",
       "      <td>Organic Search</td>\n",
       "      <td>20160902</td>\n",
       "      <td>1131660440785968503</td>\n",
       "      <td>1131660440785968503_1472830385</td>\n",
       "      <td>Not Socially Engaged</td>\n",
       "      <td>1472830385</td>\n",
       "      <td>1</td>\n",
       "      <td>1472830385</td>\n",
       "      <td>Chrome</td>\n",
       "      <td>desktop</td>\n",
       "      <td>False</td>\n",
       "      <td>Windows</td>\n",
       "      <td>Izmir</td>\n",
       "      <td>Asia</td>\n",
       "      <td>Turkey</td>\n",
       "      <td>NaN</td>\n",
       "      <td>ttnet.com.tr</td>\n",
       "      <td>Izmir</td>\n",
       "      <td>Western Asia</td>\n",
       "      <td>1.0</td>\n",
       "      <td>1</td>\n",
       "      <td>1.0</td>\n",
       "      <td>1.0</td>\n",
       "      <td>NaN</td>\n",
       "      <td>1</td>\n",
       "      <td>NaN</td>\n",
       "      <td>NaN</td>\n",
       "      <td>NaN</td>\n",
       "      <td>NaN</td>\n",
       "      <td>NaN</td>\n",
       "      <td>NaN</td>\n",
       "      <td>NaN</td>\n",
       "      <td>NaN</td>\n",
       "      <td>NaN</td>\n",
       "      <td>organic</td>\n",
       "      <td>NaN</td>\n",
       "      <td>google</td>\n",
       "    </tr>\n",
       "    <tr>\n",
       "      <th>1</th>\n",
       "      <td>Organic Search</td>\n",
       "      <td>20160902</td>\n",
       "      <td>377306020877927890</td>\n",
       "      <td>377306020877927890_1472880147</td>\n",
       "      <td>Not Socially Engaged</td>\n",
       "      <td>1472880147</td>\n",
       "      <td>1</td>\n",
       "      <td>1472880147</td>\n",
       "      <td>Firefox</td>\n",
       "      <td>desktop</td>\n",
       "      <td>False</td>\n",
       "      <td>Macintosh</td>\n",
       "      <td>NaN</td>\n",
       "      <td>Oceania</td>\n",
       "      <td>Australia</td>\n",
       "      <td>NaN</td>\n",
       "      <td>dodo.net.au</td>\n",
       "      <td>NaN</td>\n",
       "      <td>Australasia</td>\n",
       "      <td>1.0</td>\n",
       "      <td>1</td>\n",
       "      <td>1.0</td>\n",
       "      <td>1.0</td>\n",
       "      <td>NaN</td>\n",
       "      <td>1</td>\n",
       "      <td>NaN</td>\n",
       "      <td>NaN</td>\n",
       "      <td>NaN</td>\n",
       "      <td>NaN</td>\n",
       "      <td>NaN</td>\n",
       "      <td>NaN</td>\n",
       "      <td>NaN</td>\n",
       "      <td>NaN</td>\n",
       "      <td>NaN</td>\n",
       "      <td>organic</td>\n",
       "      <td>NaN</td>\n",
       "      <td>google</td>\n",
       "    </tr>\n",
       "    <tr>\n",
       "      <th>2</th>\n",
       "      <td>Organic Search</td>\n",
       "      <td>20160902</td>\n",
       "      <td>3895546263509774583</td>\n",
       "      <td>3895546263509774583_1472865386</td>\n",
       "      <td>Not Socially Engaged</td>\n",
       "      <td>1472865386</td>\n",
       "      <td>1</td>\n",
       "      <td>1472865386</td>\n",
       "      <td>Chrome</td>\n",
       "      <td>desktop</td>\n",
       "      <td>False</td>\n",
       "      <td>Windows</td>\n",
       "      <td>Madrid</td>\n",
       "      <td>Europe</td>\n",
       "      <td>Spain</td>\n",
       "      <td>NaN</td>\n",
       "      <td>unknown.unknown</td>\n",
       "      <td>Community of Madrid</td>\n",
       "      <td>Southern Europe</td>\n",
       "      <td>1.0</td>\n",
       "      <td>1</td>\n",
       "      <td>1.0</td>\n",
       "      <td>1.0</td>\n",
       "      <td>NaN</td>\n",
       "      <td>1</td>\n",
       "      <td>NaN</td>\n",
       "      <td>NaN</td>\n",
       "      <td>NaN</td>\n",
       "      <td>NaN</td>\n",
       "      <td>NaN</td>\n",
       "      <td>NaN</td>\n",
       "      <td>NaN</td>\n",
       "      <td>NaN</td>\n",
       "      <td>NaN</td>\n",
       "      <td>organic</td>\n",
       "      <td>NaN</td>\n",
       "      <td>google</td>\n",
       "    </tr>\n",
       "    <tr>\n",
       "      <th>3</th>\n",
       "      <td>Organic Search</td>\n",
       "      <td>20160902</td>\n",
       "      <td>4763447161404445595</td>\n",
       "      <td>4763447161404445595_1472881213</td>\n",
       "      <td>Not Socially Engaged</td>\n",
       "      <td>1472881213</td>\n",
       "      <td>1</td>\n",
       "      <td>1472881213</td>\n",
       "      <td>UC Browser</td>\n",
       "      <td>desktop</td>\n",
       "      <td>False</td>\n",
       "      <td>Linux</td>\n",
       "      <td>NaN</td>\n",
       "      <td>Asia</td>\n",
       "      <td>Indonesia</td>\n",
       "      <td>NaN</td>\n",
       "      <td>unknown.unknown</td>\n",
       "      <td>NaN</td>\n",
       "      <td>Southeast Asia</td>\n",
       "      <td>1.0</td>\n",
       "      <td>1</td>\n",
       "      <td>1.0</td>\n",
       "      <td>1.0</td>\n",
       "      <td>NaN</td>\n",
       "      <td>1</td>\n",
       "      <td>NaN</td>\n",
       "      <td>NaN</td>\n",
       "      <td>NaN</td>\n",
       "      <td>NaN</td>\n",
       "      <td>NaN</td>\n",
       "      <td>NaN</td>\n",
       "      <td>NaN</td>\n",
       "      <td>NaN</td>\n",
       "      <td>google + online</td>\n",
       "      <td>organic</td>\n",
       "      <td>NaN</td>\n",
       "      <td>google</td>\n",
       "    </tr>\n",
       "    <tr>\n",
       "      <th>4</th>\n",
       "      <td>Organic Search</td>\n",
       "      <td>20160902</td>\n",
       "      <td>27294437909732085</td>\n",
       "      <td>27294437909732085_1472822600</td>\n",
       "      <td>Not Socially Engaged</td>\n",
       "      <td>1472822600</td>\n",
       "      <td>2</td>\n",
       "      <td>1472822600</td>\n",
       "      <td>Chrome</td>\n",
       "      <td>mobile</td>\n",
       "      <td>True</td>\n",
       "      <td>Android</td>\n",
       "      <td>NaN</td>\n",
       "      <td>Europe</td>\n",
       "      <td>United Kingdom</td>\n",
       "      <td>NaN</td>\n",
       "      <td>unknown.unknown</td>\n",
       "      <td>NaN</td>\n",
       "      <td>Northern Europe</td>\n",
       "      <td>1.0</td>\n",
       "      <td>1</td>\n",
       "      <td>NaN</td>\n",
       "      <td>1.0</td>\n",
       "      <td>NaN</td>\n",
       "      <td>1</td>\n",
       "      <td>NaN</td>\n",
       "      <td>NaN</td>\n",
       "      <td>NaN</td>\n",
       "      <td>NaN</td>\n",
       "      <td>NaN</td>\n",
       "      <td>NaN</td>\n",
       "      <td>NaN</td>\n",
       "      <td>True</td>\n",
       "      <td>NaN</td>\n",
       "      <td>organic</td>\n",
       "      <td>NaN</td>\n",
       "      <td>google</td>\n",
       "    </tr>\n",
       "  </tbody>\n",
       "</table>\n",
       "</div>"
      ],
      "text/plain": [
       "  channelGrouping      date        fullVisitorId  \\\n",
       "0  Organic Search  20160902  1131660440785968503   \n",
       "1  Organic Search  20160902   377306020877927890   \n",
       "2  Organic Search  20160902  3895546263509774583   \n",
       "3  Organic Search  20160902  4763447161404445595   \n",
       "4  Organic Search  20160902    27294437909732085   \n",
       "\n",
       "                        sessionId  socialEngagementType     visitId  \\\n",
       "0  1131660440785968503_1472830385  Not Socially Engaged  1472830385   \n",
       "1   377306020877927890_1472880147  Not Socially Engaged  1472880147   \n",
       "2  3895546263509774583_1472865386  Not Socially Engaged  1472865386   \n",
       "3  4763447161404445595_1472881213  Not Socially Engaged  1472881213   \n",
       "4    27294437909732085_1472822600  Not Socially Engaged  1472822600   \n",
       "\n",
       "   visitNumber  visitStartTime deviceBrowser deviceCategory  deviceIsMobile  \\\n",
       "0            1      1472830385        Chrome        desktop           False   \n",
       "1            1      1472880147       Firefox        desktop           False   \n",
       "2            1      1472865386        Chrome        desktop           False   \n",
       "3            1      1472881213    UC Browser        desktop           False   \n",
       "4            2      1472822600        Chrome         mobile            True   \n",
       "\n",
       "    deviceOS geoCity geoContinent      geoCountry geoMetro        geoDomain  \\\n",
       "0    Windows   Izmir         Asia          Turkey      NaN     ttnet.com.tr   \n",
       "1  Macintosh     NaN      Oceania       Australia      NaN      dodo.net.au   \n",
       "2    Windows  Madrid       Europe           Spain      NaN  unknown.unknown   \n",
       "3      Linux     NaN         Asia       Indonesia      NaN  unknown.unknown   \n",
       "4    Android     NaN       Europe  United Kingdom      NaN  unknown.unknown   \n",
       "\n",
       "             geoRegion  geoSubContinent  totalsBounces  totalsHits  \\\n",
       "0                Izmir     Western Asia            1.0           1   \n",
       "1                  NaN      Australasia            1.0           1   \n",
       "2  Community of Madrid  Southern Europe            1.0           1   \n",
       "3                  NaN   Southeast Asia            1.0           1   \n",
       "4                  NaN  Northern Europe            1.0           1   \n",
       "\n",
       "   totalsNewVisits  totalsPageviews  totalsTransactionRevenue  totalsVisits  \\\n",
       "0              1.0              1.0                       NaN             1   \n",
       "1              1.0              1.0                       NaN             1   \n",
       "2              1.0              1.0                       NaN             1   \n",
       "3              1.0              1.0                       NaN             1   \n",
       "4              NaN              1.0                       NaN             1   \n",
       "\n",
       "  trafficSourceAdContent adwordsClickAdNetworkType adwordsClickGclId  \\\n",
       "0                    NaN                       NaN               NaN   \n",
       "1                    NaN                       NaN               NaN   \n",
       "2                    NaN                       NaN               NaN   \n",
       "3                    NaN                       NaN               NaN   \n",
       "4                    NaN                       NaN               NaN   \n",
       "\n",
       "  adwordsClickIsVideoAd  adwordsClickInfoPage adwordsClickInfoSlot  \\\n",
       "0                   NaN                   NaN                  NaN   \n",
       "1                   NaN                   NaN                  NaN   \n",
       "2                   NaN                   NaN                  NaN   \n",
       "3                   NaN                   NaN                  NaN   \n",
       "4                   NaN                   NaN                  NaN   \n",
       "\n",
       "  trafficSourceCampaign trafficSourceIsTrueDirect trafficSourceKeyword  \\\n",
       "0                   NaN                       NaN                  NaN   \n",
       "1                   NaN                       NaN                  NaN   \n",
       "2                   NaN                       NaN                  NaN   \n",
       "3                   NaN                       NaN      google + online   \n",
       "4                   NaN                      True                  NaN   \n",
       "\n",
       "  trafficSourceMedium trafficSourceReferralPath trafficSourceSource  \n",
       "0             organic                       NaN              google  \n",
       "1             organic                       NaN              google  \n",
       "2             organic                       NaN              google  \n",
       "3             organic                       NaN              google  \n",
       "4             organic                       NaN              google  "
      ]
     },
     "execution_count": 13,
     "metadata": {},
     "output_type": "execute_result"
    }
   ],
   "source": [
    "df.head()"
   ]
  },
  {
   "cell_type": "markdown",
   "metadata": {},
   "source": [
    "The rest of the columns seems to be valuable eventhough to keep them. If they have many Nans so I will treat it when I study each var."
   ]
  },
  {
   "cell_type": "markdown",
   "metadata": {},
   "source": [
    "### No variance"
   ]
  },
  {
   "cell_type": "markdown",
   "metadata": {},
   "source": [
    "The column **socialEngagementType** only has one value. So it doen't give us any information about the visit. I drop the column."
   ]
  },
  {
   "cell_type": "code",
   "execution_count": 14,
   "metadata": {},
   "outputs": [
    {
     "data": {
      "text/plain": [
       "Not Socially Engaged    903653\n",
       "Name: socialEngagementType, dtype: int64"
      ]
     },
     "execution_count": 14,
     "metadata": {},
     "output_type": "execute_result"
    }
   ],
   "source": [
    "df.socialEngagementType.value_counts()"
   ]
  },
  {
   "cell_type": "code",
   "execution_count": 15,
   "metadata": {},
   "outputs": [],
   "source": [
    "df.drop(columns='socialEngagementType', inplace=True)"
   ]
  },
  {
   "cell_type": "markdown",
   "metadata": {},
   "source": [
    "The column **totalsVisits** only has one value. So it doesn't give us any information about the visit. I drop the column."
   ]
  },
  {
   "cell_type": "code",
   "execution_count": 16,
   "metadata": {},
   "outputs": [
    {
     "data": {
      "text/plain": [
       "1    903653\n",
       "Name: totalsVisits, dtype: int64"
      ]
     },
     "execution_count": 16,
     "metadata": {},
     "output_type": "execute_result"
    }
   ],
   "source": [
    "df.totalsVisits.value_counts()"
   ]
  },
  {
   "cell_type": "code",
   "execution_count": 17,
   "metadata": {},
   "outputs": [],
   "source": [
    "df.drop(columns='totalsVisits', inplace=True)"
   ]
  },
  {
   "cell_type": "code",
   "execution_count": 18,
   "metadata": {},
   "outputs": [
    {
     "data": {
      "text/html": [
       "<div>\n",
       "<style scoped>\n",
       "    .dataframe tbody tr th:only-of-type {\n",
       "        vertical-align: middle;\n",
       "    }\n",
       "\n",
       "    .dataframe tbody tr th {\n",
       "        vertical-align: top;\n",
       "    }\n",
       "\n",
       "    .dataframe thead th {\n",
       "        text-align: right;\n",
       "    }\n",
       "</style>\n",
       "<table border=\"1\" class=\"dataframe\">\n",
       "  <thead>\n",
       "    <tr style=\"text-align: right;\">\n",
       "      <th></th>\n",
       "      <th>channelGrouping</th>\n",
       "      <th>date</th>\n",
       "      <th>fullVisitorId</th>\n",
       "      <th>sessionId</th>\n",
       "      <th>visitId</th>\n",
       "      <th>visitNumber</th>\n",
       "      <th>visitStartTime</th>\n",
       "      <th>deviceBrowser</th>\n",
       "      <th>deviceCategory</th>\n",
       "      <th>deviceIsMobile</th>\n",
       "      <th>deviceOS</th>\n",
       "      <th>geoCity</th>\n",
       "      <th>geoContinent</th>\n",
       "      <th>geoCountry</th>\n",
       "      <th>geoMetro</th>\n",
       "      <th>geoDomain</th>\n",
       "      <th>geoRegion</th>\n",
       "      <th>geoSubContinent</th>\n",
       "      <th>totalsBounces</th>\n",
       "      <th>totalsHits</th>\n",
       "      <th>totalsNewVisits</th>\n",
       "      <th>totalsPageviews</th>\n",
       "      <th>totalsTransactionRevenue</th>\n",
       "      <th>trafficSourceAdContent</th>\n",
       "      <th>adwordsClickAdNetworkType</th>\n",
       "      <th>adwordsClickGclId</th>\n",
       "      <th>adwordsClickIsVideoAd</th>\n",
       "      <th>adwordsClickInfoPage</th>\n",
       "      <th>adwordsClickInfoSlot</th>\n",
       "      <th>trafficSourceCampaign</th>\n",
       "      <th>trafficSourceIsTrueDirect</th>\n",
       "      <th>trafficSourceKeyword</th>\n",
       "      <th>trafficSourceMedium</th>\n",
       "      <th>trafficSourceReferralPath</th>\n",
       "      <th>trafficSourceSource</th>\n",
       "    </tr>\n",
       "  </thead>\n",
       "  <tbody>\n",
       "    <tr>\n",
       "      <th>0</th>\n",
       "      <td>Organic Search</td>\n",
       "      <td>20160902</td>\n",
       "      <td>1131660440785968503</td>\n",
       "      <td>1131660440785968503_1472830385</td>\n",
       "      <td>1472830385</td>\n",
       "      <td>1</td>\n",
       "      <td>1472830385</td>\n",
       "      <td>Chrome</td>\n",
       "      <td>desktop</td>\n",
       "      <td>False</td>\n",
       "      <td>Windows</td>\n",
       "      <td>Izmir</td>\n",
       "      <td>Asia</td>\n",
       "      <td>Turkey</td>\n",
       "      <td>NaN</td>\n",
       "      <td>ttnet.com.tr</td>\n",
       "      <td>Izmir</td>\n",
       "      <td>Western Asia</td>\n",
       "      <td>1.0</td>\n",
       "      <td>1</td>\n",
       "      <td>1.0</td>\n",
       "      <td>1.0</td>\n",
       "      <td>NaN</td>\n",
       "      <td>NaN</td>\n",
       "      <td>NaN</td>\n",
       "      <td>NaN</td>\n",
       "      <td>NaN</td>\n",
       "      <td>NaN</td>\n",
       "      <td>NaN</td>\n",
       "      <td>NaN</td>\n",
       "      <td>NaN</td>\n",
       "      <td>NaN</td>\n",
       "      <td>organic</td>\n",
       "      <td>NaN</td>\n",
       "      <td>google</td>\n",
       "    </tr>\n",
       "    <tr>\n",
       "      <th>1</th>\n",
       "      <td>Organic Search</td>\n",
       "      <td>20160902</td>\n",
       "      <td>377306020877927890</td>\n",
       "      <td>377306020877927890_1472880147</td>\n",
       "      <td>1472880147</td>\n",
       "      <td>1</td>\n",
       "      <td>1472880147</td>\n",
       "      <td>Firefox</td>\n",
       "      <td>desktop</td>\n",
       "      <td>False</td>\n",
       "      <td>Macintosh</td>\n",
       "      <td>NaN</td>\n",
       "      <td>Oceania</td>\n",
       "      <td>Australia</td>\n",
       "      <td>NaN</td>\n",
       "      <td>dodo.net.au</td>\n",
       "      <td>NaN</td>\n",
       "      <td>Australasia</td>\n",
       "      <td>1.0</td>\n",
       "      <td>1</td>\n",
       "      <td>1.0</td>\n",
       "      <td>1.0</td>\n",
       "      <td>NaN</td>\n",
       "      <td>NaN</td>\n",
       "      <td>NaN</td>\n",
       "      <td>NaN</td>\n",
       "      <td>NaN</td>\n",
       "      <td>NaN</td>\n",
       "      <td>NaN</td>\n",
       "      <td>NaN</td>\n",
       "      <td>NaN</td>\n",
       "      <td>NaN</td>\n",
       "      <td>organic</td>\n",
       "      <td>NaN</td>\n",
       "      <td>google</td>\n",
       "    </tr>\n",
       "    <tr>\n",
       "      <th>2</th>\n",
       "      <td>Organic Search</td>\n",
       "      <td>20160902</td>\n",
       "      <td>3895546263509774583</td>\n",
       "      <td>3895546263509774583_1472865386</td>\n",
       "      <td>1472865386</td>\n",
       "      <td>1</td>\n",
       "      <td>1472865386</td>\n",
       "      <td>Chrome</td>\n",
       "      <td>desktop</td>\n",
       "      <td>False</td>\n",
       "      <td>Windows</td>\n",
       "      <td>Madrid</td>\n",
       "      <td>Europe</td>\n",
       "      <td>Spain</td>\n",
       "      <td>NaN</td>\n",
       "      <td>unknown.unknown</td>\n",
       "      <td>Community of Madrid</td>\n",
       "      <td>Southern Europe</td>\n",
       "      <td>1.0</td>\n",
       "      <td>1</td>\n",
       "      <td>1.0</td>\n",
       "      <td>1.0</td>\n",
       "      <td>NaN</td>\n",
       "      <td>NaN</td>\n",
       "      <td>NaN</td>\n",
       "      <td>NaN</td>\n",
       "      <td>NaN</td>\n",
       "      <td>NaN</td>\n",
       "      <td>NaN</td>\n",
       "      <td>NaN</td>\n",
       "      <td>NaN</td>\n",
       "      <td>NaN</td>\n",
       "      <td>organic</td>\n",
       "      <td>NaN</td>\n",
       "      <td>google</td>\n",
       "    </tr>\n",
       "    <tr>\n",
       "      <th>3</th>\n",
       "      <td>Organic Search</td>\n",
       "      <td>20160902</td>\n",
       "      <td>4763447161404445595</td>\n",
       "      <td>4763447161404445595_1472881213</td>\n",
       "      <td>1472881213</td>\n",
       "      <td>1</td>\n",
       "      <td>1472881213</td>\n",
       "      <td>UC Browser</td>\n",
       "      <td>desktop</td>\n",
       "      <td>False</td>\n",
       "      <td>Linux</td>\n",
       "      <td>NaN</td>\n",
       "      <td>Asia</td>\n",
       "      <td>Indonesia</td>\n",
       "      <td>NaN</td>\n",
       "      <td>unknown.unknown</td>\n",
       "      <td>NaN</td>\n",
       "      <td>Southeast Asia</td>\n",
       "      <td>1.0</td>\n",
       "      <td>1</td>\n",
       "      <td>1.0</td>\n",
       "      <td>1.0</td>\n",
       "      <td>NaN</td>\n",
       "      <td>NaN</td>\n",
       "      <td>NaN</td>\n",
       "      <td>NaN</td>\n",
       "      <td>NaN</td>\n",
       "      <td>NaN</td>\n",
       "      <td>NaN</td>\n",
       "      <td>NaN</td>\n",
       "      <td>NaN</td>\n",
       "      <td>google + online</td>\n",
       "      <td>organic</td>\n",
       "      <td>NaN</td>\n",
       "      <td>google</td>\n",
       "    </tr>\n",
       "    <tr>\n",
       "      <th>4</th>\n",
       "      <td>Organic Search</td>\n",
       "      <td>20160902</td>\n",
       "      <td>27294437909732085</td>\n",
       "      <td>27294437909732085_1472822600</td>\n",
       "      <td>1472822600</td>\n",
       "      <td>2</td>\n",
       "      <td>1472822600</td>\n",
       "      <td>Chrome</td>\n",
       "      <td>mobile</td>\n",
       "      <td>True</td>\n",
       "      <td>Android</td>\n",
       "      <td>NaN</td>\n",
       "      <td>Europe</td>\n",
       "      <td>United Kingdom</td>\n",
       "      <td>NaN</td>\n",
       "      <td>unknown.unknown</td>\n",
       "      <td>NaN</td>\n",
       "      <td>Northern Europe</td>\n",
       "      <td>1.0</td>\n",
       "      <td>1</td>\n",
       "      <td>NaN</td>\n",
       "      <td>1.0</td>\n",
       "      <td>NaN</td>\n",
       "      <td>NaN</td>\n",
       "      <td>NaN</td>\n",
       "      <td>NaN</td>\n",
       "      <td>NaN</td>\n",
       "      <td>NaN</td>\n",
       "      <td>NaN</td>\n",
       "      <td>NaN</td>\n",
       "      <td>True</td>\n",
       "      <td>NaN</td>\n",
       "      <td>organic</td>\n",
       "      <td>NaN</td>\n",
       "      <td>google</td>\n",
       "    </tr>\n",
       "  </tbody>\n",
       "</table>\n",
       "</div>"
      ],
      "text/plain": [
       "  channelGrouping      date        fullVisitorId  \\\n",
       "0  Organic Search  20160902  1131660440785968503   \n",
       "1  Organic Search  20160902   377306020877927890   \n",
       "2  Organic Search  20160902  3895546263509774583   \n",
       "3  Organic Search  20160902  4763447161404445595   \n",
       "4  Organic Search  20160902    27294437909732085   \n",
       "\n",
       "                        sessionId     visitId  visitNumber  visitStartTime  \\\n",
       "0  1131660440785968503_1472830385  1472830385            1      1472830385   \n",
       "1   377306020877927890_1472880147  1472880147            1      1472880147   \n",
       "2  3895546263509774583_1472865386  1472865386            1      1472865386   \n",
       "3  4763447161404445595_1472881213  1472881213            1      1472881213   \n",
       "4    27294437909732085_1472822600  1472822600            2      1472822600   \n",
       "\n",
       "  deviceBrowser deviceCategory  deviceIsMobile   deviceOS geoCity  \\\n",
       "0        Chrome        desktop           False    Windows   Izmir   \n",
       "1       Firefox        desktop           False  Macintosh     NaN   \n",
       "2        Chrome        desktop           False    Windows  Madrid   \n",
       "3    UC Browser        desktop           False      Linux     NaN   \n",
       "4        Chrome         mobile            True    Android     NaN   \n",
       "\n",
       "  geoContinent      geoCountry geoMetro        geoDomain            geoRegion  \\\n",
       "0         Asia          Turkey      NaN     ttnet.com.tr                Izmir   \n",
       "1      Oceania       Australia      NaN      dodo.net.au                  NaN   \n",
       "2       Europe           Spain      NaN  unknown.unknown  Community of Madrid   \n",
       "3         Asia       Indonesia      NaN  unknown.unknown                  NaN   \n",
       "4       Europe  United Kingdom      NaN  unknown.unknown                  NaN   \n",
       "\n",
       "   geoSubContinent  totalsBounces  totalsHits  totalsNewVisits  \\\n",
       "0     Western Asia            1.0           1              1.0   \n",
       "1      Australasia            1.0           1              1.0   \n",
       "2  Southern Europe            1.0           1              1.0   \n",
       "3   Southeast Asia            1.0           1              1.0   \n",
       "4  Northern Europe            1.0           1              NaN   \n",
       "\n",
       "   totalsPageviews  totalsTransactionRevenue trafficSourceAdContent  \\\n",
       "0              1.0                       NaN                    NaN   \n",
       "1              1.0                       NaN                    NaN   \n",
       "2              1.0                       NaN                    NaN   \n",
       "3              1.0                       NaN                    NaN   \n",
       "4              1.0                       NaN                    NaN   \n",
       "\n",
       "  adwordsClickAdNetworkType adwordsClickGclId adwordsClickIsVideoAd  \\\n",
       "0                       NaN               NaN                   NaN   \n",
       "1                       NaN               NaN                   NaN   \n",
       "2                       NaN               NaN                   NaN   \n",
       "3                       NaN               NaN                   NaN   \n",
       "4                       NaN               NaN                   NaN   \n",
       "\n",
       "   adwordsClickInfoPage adwordsClickInfoSlot trafficSourceCampaign  \\\n",
       "0                   NaN                  NaN                   NaN   \n",
       "1                   NaN                  NaN                   NaN   \n",
       "2                   NaN                  NaN                   NaN   \n",
       "3                   NaN                  NaN                   NaN   \n",
       "4                   NaN                  NaN                   NaN   \n",
       "\n",
       "  trafficSourceIsTrueDirect trafficSourceKeyword trafficSourceMedium  \\\n",
       "0                       NaN                  NaN             organic   \n",
       "1                       NaN                  NaN             organic   \n",
       "2                       NaN                  NaN             organic   \n",
       "3                       NaN      google + online             organic   \n",
       "4                      True                  NaN             organic   \n",
       "\n",
       "  trafficSourceReferralPath trafficSourceSource  \n",
       "0                       NaN              google  \n",
       "1                       NaN              google  \n",
       "2                       NaN              google  \n",
       "3                       NaN              google  \n",
       "4                       NaN              google  "
      ]
     },
     "execution_count": 18,
     "metadata": {},
     "output_type": "execute_result"
    }
   ],
   "source": [
    "df.head()"
   ]
  },
  {
   "cell_type": "markdown",
   "metadata": {},
   "source": [
    "### Vars Preprocessing"
   ]
  },
  {
   "cell_type": "code",
   "execution_count": 19,
   "metadata": {},
   "outputs": [
    {
     "data": {
      "text/plain": [
       "Index(['channelGrouping', 'date', 'fullVisitorId', 'sessionId', 'visitId',\n",
       "       'visitNumber', 'visitStartTime', 'deviceBrowser', 'deviceCategory',\n",
       "       'deviceIsMobile', 'deviceOS', 'geoCity', 'geoContinent', 'geoCountry',\n",
       "       'geoMetro', 'geoDomain', 'geoRegion', 'geoSubContinent',\n",
       "       'totalsBounces', 'totalsHits', 'totalsNewVisits', 'totalsPageviews',\n",
       "       'totalsTransactionRevenue', 'trafficSourceAdContent',\n",
       "       'adwordsClickAdNetworkType', 'adwordsClickGclId',\n",
       "       'adwordsClickIsVideoAd', 'adwordsClickInfoPage', 'adwordsClickInfoSlot',\n",
       "       'trafficSourceCampaign', 'trafficSourceIsTrueDirect',\n",
       "       'trafficSourceKeyword', 'trafficSourceMedium',\n",
       "       'trafficSourceReferralPath', 'trafficSourceSource'],\n",
       "      dtype='object')"
      ]
     },
     "execution_count": 19,
     "metadata": {},
     "output_type": "execute_result"
    }
   ],
   "source": [
    "df.columns"
   ]
  },
  {
   "cell_type": "markdown",
   "metadata": {},
   "source": [
    "#### channelGrouping"
   ]
  },
  {
   "cell_type": "markdown",
   "metadata": {},
   "source": [
    "This var has no nulls and no strange values. But we will change ('Other') for a simpler value"
   ]
  },
  {
   "cell_type": "code",
   "execution_count": 20,
   "metadata": {},
   "outputs": [
    {
     "data": {
      "text/plain": [
       "0"
      ]
     },
     "execution_count": 20,
     "metadata": {},
     "output_type": "execute_result"
    }
   ],
   "source": [
    "df.channelGrouping.isnull().sum()"
   ]
  },
  {
   "cell_type": "code",
   "execution_count": 21,
   "metadata": {},
   "outputs": [
    {
     "data": {
      "text/plain": [
       "array(['Organic Search', 'Referral', 'Paid Search', 'Affiliates',\n",
       "       'Direct', 'Display', 'Social', '(Other)'], dtype=object)"
      ]
     },
     "execution_count": 21,
     "metadata": {},
     "output_type": "execute_result"
    }
   ],
   "source": [
    "df.channelGrouping.unique()"
   ]
  },
  {
   "cell_type": "code",
   "execution_count": 22,
   "metadata": {
    "scrolled": true
   },
   "outputs": [
    {
     "data": {
      "text/plain": [
       "Organic Search    381561\n",
       "Social            226117\n",
       "Direct            143026\n",
       "Referral          104838\n",
       "Paid Search        25326\n",
       "Affiliates         16403\n",
       "Display             6262\n",
       "(Other)              120\n",
       "Name: channelGrouping, dtype: int64"
      ]
     },
     "execution_count": 22,
     "metadata": {},
     "output_type": "execute_result"
    }
   ],
   "source": [
    "df.channelGrouping.value_counts()"
   ]
  },
  {
   "cell_type": "code",
   "execution_count": 23,
   "metadata": {},
   "outputs": [],
   "source": [
    "df.channelGrouping.replace('(Other)', 'Other', inplace=True)"
   ]
  },
  {
   "cell_type": "code",
   "execution_count": 24,
   "metadata": {},
   "outputs": [
    {
     "data": {
      "text/plain": [
       "array(['Organic Search', 'Referral', 'Paid Search', 'Affiliates',\n",
       "       'Direct', 'Display', 'Social', 'Other'], dtype=object)"
      ]
     },
     "execution_count": 24,
     "metadata": {},
     "output_type": "execute_result"
    }
   ],
   "source": [
    "df.channelGrouping.unique()"
   ]
  },
  {
   "cell_type": "markdown",
   "metadata": {},
   "source": [
    "#### date"
   ]
  },
  {
   "cell_type": "markdown",
   "metadata": {},
   "source": [
    "The var date has one year of data. We will transform the column into a datetime"
   ]
  },
  {
   "cell_type": "code",
   "execution_count": 25,
   "metadata": {},
   "outputs": [
    {
     "data": {
      "text/plain": [
       "0"
      ]
     },
     "execution_count": 25,
     "metadata": {},
     "output_type": "execute_result"
    }
   ],
   "source": [
    "df.date.isnull().sum()"
   ]
  },
  {
   "cell_type": "code",
   "execution_count": 26,
   "metadata": {},
   "outputs": [
    {
     "data": {
      "text/plain": [
       "366"
      ]
     },
     "execution_count": 26,
     "metadata": {},
     "output_type": "execute_result"
    }
   ],
   "source": [
    "len(df.date.unique())"
   ]
  },
  {
   "cell_type": "code",
   "execution_count": 27,
   "metadata": {},
   "outputs": [],
   "source": [
    "df.date = df.date.apply(lambda x: datetime.strptime(str(x), '%Y%m%d').strftime('%Y-%m-%d'))"
   ]
  },
  {
   "cell_type": "code",
   "execution_count": 28,
   "metadata": {},
   "outputs": [
    {
     "data": {
      "text/plain": [
       "dtype('O')"
      ]
     },
     "execution_count": 28,
     "metadata": {},
     "output_type": "execute_result"
    }
   ],
   "source": [
    "df.date.dtype"
   ]
  },
  {
   "cell_type": "markdown",
   "metadata": {},
   "source": [
    "#### 'fullVisitorId'"
   ]
  },
  {
   "cell_type": "markdown",
   "metadata": {},
   "source": [
    "The fullvisitor ID might not be usefull for the ML problem, but I keep the column dor the moment as a referce of the user."
   ]
  },
  {
   "cell_type": "code",
   "execution_count": 29,
   "metadata": {},
   "outputs": [
    {
     "data": {
      "text/plain": [
       "0"
      ]
     },
     "execution_count": 29,
     "metadata": {},
     "output_type": "execute_result"
    }
   ],
   "source": [
    "df.fullVisitorId.isnull().sum()"
   ]
  },
  {
   "cell_type": "code",
   "execution_count": 30,
   "metadata": {},
   "outputs": [
    {
     "data": {
      "text/plain": [
       "array(['1131660440785968503', '377306020877927890', '3895546263509774583',\n",
       "       ..., '5123779100307500332', '7231728964973959842',\n",
       "       '5744576632396406899'], dtype=object)"
      ]
     },
     "execution_count": 30,
     "metadata": {},
     "output_type": "execute_result"
    }
   ],
   "source": [
    "df.fullVisitorId.unique()"
   ]
  },
  {
   "cell_type": "code",
   "execution_count": 31,
   "metadata": {},
   "outputs": [
    {
     "data": {
      "text/plain": [
       "1957458976293878100    278\n",
       "3608475193341679870    201\n",
       "1856749147915772585    199\n",
       "0824839726118485274    177\n",
       "3269834865385146569    155\n",
       "Name: fullVisitorId, dtype: int64"
      ]
     },
     "execution_count": 31,
     "metadata": {},
     "output_type": "execute_result"
    }
   ],
   "source": [
    "df.fullVisitorId.value_counts().head()"
   ]
  },
  {
   "cell_type": "markdown",
   "metadata": {},
   "source": [
    "#### sessionId"
   ]
  },
  {
   "cell_type": "markdown",
   "metadata": {},
   "source": [
    "The var sessionID is extremely variable so I wont keep the column"
   ]
  },
  {
   "cell_type": "code",
   "execution_count": 32,
   "metadata": {},
   "outputs": [
    {
     "data": {
      "text/plain": [
       "0"
      ]
     },
     "execution_count": 32,
     "metadata": {},
     "output_type": "execute_result"
    }
   ],
   "source": [
    "df.sessionId.isnull().sum()"
   ]
  },
  {
   "cell_type": "code",
   "execution_count": 33,
   "metadata": {},
   "outputs": [
    {
     "data": {
      "text/plain": [
       "array(['1131660440785968503_1472830385', '377306020877927890_1472880147',\n",
       "       '3895546263509774583_1472865386', ...,\n",
       "       '5744576632396406899_1483526434', '2709355455991750775_1483592857',\n",
       "       '0814900163617805053_1483574474'], dtype=object)"
      ]
     },
     "execution_count": 33,
     "metadata": {},
     "output_type": "execute_result"
    }
   ],
   "source": [
    "df.sessionId.unique()"
   ]
  },
  {
   "cell_type": "code",
   "execution_count": 34,
   "metadata": {},
   "outputs": [
    {
     "data": {
      "text/plain": [
       "6175566964540854873_1489560724    2\n",
       "3582515949623937277_1494744426    2\n",
       "4259892450612050951_1486972634    2\n",
       "0757525465947006821_1500619889    2\n",
       "8348371514013904251_1485416956    2\n",
       "Name: sessionId, dtype: int64"
      ]
     },
     "execution_count": 34,
     "metadata": {},
     "output_type": "execute_result"
    }
   ],
   "source": [
    "df.sessionId.value_counts().head()"
   ]
  },
  {
   "cell_type": "code",
   "execution_count": 35,
   "metadata": {},
   "outputs": [],
   "source": [
    "df.drop(columns='sessionId', inplace=True)"
   ]
  },
  {
   "cell_type": "markdown",
   "metadata": {},
   "source": [
    "#### visitId"
   ]
  },
  {
   "cell_type": "code",
   "execution_count": 36,
   "metadata": {},
   "outputs": [
    {
     "data": {
      "text/plain": [
       "0"
      ]
     },
     "execution_count": 36,
     "metadata": {},
     "output_type": "execute_result"
    }
   ],
   "source": [
    "df.visitId.isnull().sum()"
   ]
  },
  {
   "cell_type": "code",
   "execution_count": 37,
   "metadata": {},
   "outputs": [
    {
     "data": {
      "text/plain": [
       "886303"
      ]
     },
     "execution_count": 37,
     "metadata": {},
     "output_type": "execute_result"
    }
   ],
   "source": [
    "len(df.visitId.unique())"
   ]
  },
  {
   "cell_type": "code",
   "execution_count": 38,
   "metadata": {},
   "outputs": [
    {
     "data": {
      "text/plain": [
       "1493146175    8\n",
       "1484649802    6\n",
       "1478345904    6\n",
       "1481369525    6\n",
       "1494374199    5\n",
       "Name: visitId, dtype: int64"
      ]
     },
     "execution_count": 38,
     "metadata": {},
     "output_type": "execute_result"
    }
   ],
   "source": [
    "df.visitId.value_counts().head()"
   ]
  },
  {
   "cell_type": "code",
   "execution_count": 39,
   "metadata": {},
   "outputs": [],
   "source": [
    "df.drop(columns='visitId', inplace=True)"
   ]
  },
  {
   "cell_type": "markdown",
   "metadata": {},
   "source": [
    "#### visitNumber"
   ]
  },
  {
   "cell_type": "markdown",
   "metadata": {},
   "source": [
    "We will keep wisit number as it is"
   ]
  },
  {
   "cell_type": "code",
   "execution_count": 40,
   "metadata": {},
   "outputs": [
    {
     "data": {
      "text/plain": [
       "0"
      ]
     },
     "execution_count": 40,
     "metadata": {},
     "output_type": "execute_result"
    }
   ],
   "source": [
    "df.visitNumber.isnull().sum()"
   ]
  },
  {
   "cell_type": "code",
   "execution_count": 41,
   "metadata": {},
   "outputs": [
    {
     "data": {
      "text/plain": [
       "array([  1,   2,   3,   5,  11,   4,  57,   6,  56,   7,  20,   8,  15,\n",
       "         9,  25,  24,  14,  89, 136,  13,  85,  10, 105,  22,  21,  48,\n",
       "        18,  26,  17,  83,  38,  84,  27,  42, 100,  31,  16,  30,  59,\n",
       "        50,  19,  51,  29, 160,  52,  12,  63,  23,  47,  49,  28,  34,\n",
       "       178,  88,  33, 317,  93, 140,  35,  41,  91,  92,  74, 309,  43,\n",
       "        61,  46,  45,  32, 108,  86, 195,  36, 236,  72, 162, 235,  90,\n",
       "        76,  77,  94,  96,  73,  78,  97,  87, 304, 106, 107, 389,  68,\n",
       "        98, 132,  58, 266, 267, 221,  39, 121, 143, 142, 174, 175, 189,\n",
       "       191,  55, 190, 104, 245, 204,  37,  82, 137, 206, 101,  62, 110,\n",
       "       156, 158, 157, 159, 138, 109, 194, 193, 147, 254,  71,  53, 144,\n",
       "       145, 146,  80, 253,  99, 134, 135, 102,  44, 130,  95,  75, 103,\n",
       "       315,  70,  69, 117, 163, 154, 153, 283,  65, 262, 263, 295, 297,\n",
       "       298, 219,  64, 296, 155, 141, 169, 170,  60, 207,  54, 187, 133,\n",
       "       118, 264,  67,  66, 126,  40, 122, 325, 326, 197, 167, 196, 188,\n",
       "       279, 185, 230, 161, 186, 278, 139, 234, 233, 168, 115, 114, 119,\n",
       "       150, 149, 148,  79, 306, 123, 131, 171, 124, 129, 258, 112, 218,\n",
       "       183, 199, 261, 259, 260, 200, 220, 152, 151, 111, 202, 203, 205,\n",
       "       173, 125, 198, 280, 281, 177, 182, 127, 120, 116,  81, 373, 113,\n",
       "       212, 213, 226, 225, 348, 224, 128, 176, 269, 250, 355, 370, 285,\n",
       "       369, 286, 287, 247, 248, 288, 308, 165, 166, 164, 362, 214, 346,\n",
       "       345, 215, 216, 179, 244, 184, 329, 243, 255, 257, 217, 256, 181,\n",
       "       192, 252, 251, 180, 359, 356, 358, 357, 277, 229, 223, 271, 273,\n",
       "       272, 172, 208, 292, 291, 265, 232, 228, 227, 341, 340, 339, 338,\n",
       "       209, 210, 211, 301, 299, 300, 303, 302, 307, 324, 238, 239, 222,\n",
       "       268, 270, 395, 231, 284, 363, 364, 328, 319, 320, 201, 322, 323,\n",
       "       375, 276, 241, 242, 289, 240, 388, 282, 274, 390, 391, 249, 275,\n",
       "       294, 293, 316, 246, 321, 354, 349, 350, 353, 352, 351, 347, 343,\n",
       "       342, 344, 383, 290, 385, 384, 374, 327, 318, 393, 335, 334, 333,\n",
       "       237, 371, 372, 312, 313, 314, 336, 337, 386, 310, 311, 394, 360,\n",
       "       361, 305, 376, 379, 378, 377, 387])"
      ]
     },
     "execution_count": 41,
     "metadata": {},
     "output_type": "execute_result"
    }
   ],
   "source": [
    "df.visitNumber.unique()"
   ]
  },
  {
   "cell_type": "code",
   "execution_count": 42,
   "metadata": {},
   "outputs": [
    {
     "data": {
      "text/plain": [
       "1    703060\n",
       "2     92548\n",
       "3     35843\n",
       "4     19157\n",
       "5     11615\n",
       "Name: visitNumber, dtype: int64"
      ]
     },
     "execution_count": 42,
     "metadata": {},
     "output_type": "execute_result"
    }
   ],
   "source": [
    "df.visitNumber.value_counts().head()"
   ]
  },
  {
   "cell_type": "code",
   "execution_count": 43,
   "metadata": {},
   "outputs": [
    {
     "data": {
      "text/plain": [
       "dtype('int64')"
      ]
     },
     "execution_count": 43,
     "metadata": {},
     "output_type": "execute_result"
    }
   ],
   "source": [
    "df.visitNumber.dtype #check the type of the var"
   ]
  },
  {
   "cell_type": "markdown",
   "metadata": {},
   "source": [
    "#### visitStartTime"
   ]
  },
  {
   "cell_type": "markdown",
   "metadata": {},
   "source": [
    "This var is the visitStartTime in unix, I will keep the column by the moment"
   ]
  },
  {
   "cell_type": "code",
   "execution_count": 44,
   "metadata": {},
   "outputs": [
    {
     "data": {
      "text/plain": [
       "0"
      ]
     },
     "execution_count": 44,
     "metadata": {},
     "output_type": "execute_result"
    }
   ],
   "source": [
    "df.visitStartTime.isnull().sum()"
   ]
  },
  {
   "cell_type": "code",
   "execution_count": 45,
   "metadata": {},
   "outputs": [
    {
     "data": {
      "text/plain": [
       "array([1472830385, 1472880147, 1472865386, ..., 1483526434, 1483592864,\n",
       "       1483574474])"
      ]
     },
     "execution_count": 45,
     "metadata": {},
     "output_type": "execute_result"
    }
   ],
   "source": [
    "df.visitStartTime.unique()"
   ]
  },
  {
   "cell_type": "code",
   "execution_count": 46,
   "metadata": {
    "scrolled": true
   },
   "outputs": [
    {
     "data": {
      "text/plain": [
       "1493146175    8\n",
       "1478345904    6\n",
       "1484649802    6\n",
       "1481369525    6\n",
       "1494374199    5\n",
       "Name: visitStartTime, dtype: int64"
      ]
     },
     "execution_count": 46,
     "metadata": {},
     "output_type": "execute_result"
    }
   ],
   "source": [
    "df.visitStartTime.value_counts().head()"
   ]
  },
  {
   "cell_type": "code",
   "execution_count": 47,
   "metadata": {},
   "outputs": [
    {
     "data": {
      "text/plain": [
       "array([1472830385, 1472880147, 1472865386, ..., 1483526434, 1483592864,\n",
       "       1483574474])"
      ]
     },
     "execution_count": 47,
     "metadata": {},
     "output_type": "execute_result"
    }
   ],
   "source": [
    "df.visitStartTime.unique()"
   ]
  },
  {
   "cell_type": "markdown",
   "metadata": {},
   "source": [
    "#### deviceBrowser"
   ]
  },
  {
   "cell_type": "markdown",
   "metadata": {},
   "source": [
    "This var has a few nulls, that we will fill with Unknown."
   ]
  },
  {
   "cell_type": "code",
   "execution_count": 48,
   "metadata": {},
   "outputs": [
    {
     "data": {
      "text/plain": [
       "8"
      ]
     },
     "execution_count": 48,
     "metadata": {},
     "output_type": "execute_result"
    }
   ],
   "source": [
    "df.deviceBrowser.isnull().sum()"
   ]
  },
  {
   "cell_type": "code",
   "execution_count": 49,
   "metadata": {},
   "outputs": [
    {
     "data": {
      "text/plain": [
       "array(['Chrome', 'Firefox', 'UC Browser', 'Internet Explorer', 'Safari',\n",
       "       'Edge', 'Opera Mini', 'Opera', 'BlackBerry', 'Safari (in-app)',\n",
       "       'Coc Coc', 'Mozilla Compatible Agent', 'ADM', 'MRCHROME',\n",
       "       'Amazon Silk', 'YaBrowser', 'Android Webview', 'Puffin',\n",
       "       'Nokia Browser', 'Maxthon', 'Nintendo Browser', 'Android Browser',\n",
       "       'Lunascape', 'IE with Chrome Frame', 'ThumbSniper',\n",
       "       'LYF_LS_4002_12', 'Mozilla', 'osee2unifiedRelease', 'NokiaE52-1',\n",
       "       'Iron', '[Use default User-agent string] LIVRENPOCHE', nan,\n",
       "       'LYF_LS_4002_11', 'M5', 'Android Runtime', 'Apple-iPhone7C2',\n",
       "       'SeaMonkey', 'Konqueror', 'Seznam', 'Changa 99695759', 'no-ua',\n",
       "       'MQQBrowser', 'Nichrome', 'HTC802t_TD', 'DASH_JR_3G', 'DoCoMo',\n",
       "       'subjectAgent: NoticiasBoom', 'YE', 'User Agent', '0',\n",
       "       'Hisense M20-M_LTE', 'Reddit', 'TCL P500M', 'CSM Click'],\n",
       "      dtype=object)"
      ]
     },
     "execution_count": 49,
     "metadata": {},
     "output_type": "execute_result"
    }
   ],
   "source": [
    "df.deviceBrowser.unique()"
   ]
  },
  {
   "cell_type": "code",
   "execution_count": 50,
   "metadata": {
    "scrolled": true
   },
   "outputs": [
    {
     "data": {
      "text/plain": [
       "Chrome               620364\n",
       "Safari               182245\n",
       "Firefox               37069\n",
       "Internet Explorer     19375\n",
       "Edge                  10205\n",
       "Name: deviceBrowser, dtype: int64"
      ]
     },
     "execution_count": 50,
     "metadata": {},
     "output_type": "execute_result"
    }
   ],
   "source": [
    "df.deviceBrowser.value_counts().head()"
   ]
  },
  {
   "cell_type": "code",
   "execution_count": 51,
   "metadata": {},
   "outputs": [],
   "source": [
    "df.deviceBrowser.fillna('Unknown', inplace=True)"
   ]
  },
  {
   "cell_type": "code",
   "execution_count": 52,
   "metadata": {},
   "outputs": [
    {
     "data": {
      "text/plain": [
       "0"
      ]
     },
     "execution_count": 52,
     "metadata": {},
     "output_type": "execute_result"
    }
   ],
   "source": [
    "df.deviceBrowser.isnull().sum()"
   ]
  },
  {
   "cell_type": "markdown",
   "metadata": {},
   "source": [
    "#### deviceCategory"
   ]
  },
  {
   "cell_type": "code",
   "execution_count": 53,
   "metadata": {},
   "outputs": [
    {
     "data": {
      "text/plain": [
       "0"
      ]
     },
     "execution_count": 53,
     "metadata": {},
     "output_type": "execute_result"
    }
   ],
   "source": [
    "df.deviceCategory.isnull().sum()"
   ]
  },
  {
   "cell_type": "code",
   "execution_count": 54,
   "metadata": {},
   "outputs": [
    {
     "data": {
      "text/plain": [
       "array(['desktop', 'mobile', 'tablet'], dtype=object)"
      ]
     },
     "execution_count": 54,
     "metadata": {},
     "output_type": "execute_result"
    }
   ],
   "source": [
    "df.deviceCategory.unique()"
   ]
  },
  {
   "cell_type": "code",
   "execution_count": 55,
   "metadata": {},
   "outputs": [
    {
     "data": {
      "text/plain": [
       "desktop    664479\n",
       "mobile     208725\n",
       "tablet      30449\n",
       "Name: deviceCategory, dtype: int64"
      ]
     },
     "execution_count": 55,
     "metadata": {},
     "output_type": "execute_result"
    }
   ],
   "source": [
    "df.deviceCategory.value_counts()"
   ]
  },
  {
   "cell_type": "markdown",
   "metadata": {},
   "source": [
    "#### deviceIsMobile"
   ]
  },
  {
   "cell_type": "code",
   "execution_count": 56,
   "metadata": {},
   "outputs": [
    {
     "data": {
      "text/plain": [
       "0"
      ]
     },
     "execution_count": 56,
     "metadata": {},
     "output_type": "execute_result"
    }
   ],
   "source": [
    "df.deviceIsMobile.isnull().sum()"
   ]
  },
  {
   "cell_type": "code",
   "execution_count": 57,
   "metadata": {},
   "outputs": [
    {
     "data": {
      "text/plain": [
       "array([False,  True])"
      ]
     },
     "execution_count": 57,
     "metadata": {},
     "output_type": "execute_result"
    }
   ],
   "source": [
    "df.deviceIsMobile.unique()"
   ]
  },
  {
   "cell_type": "code",
   "execution_count": 58,
   "metadata": {},
   "outputs": [
    {
     "data": {
      "text/plain": [
       "False    664530\n",
       "True     239123\n",
       "Name: deviceIsMobile, dtype: int64"
      ]
     },
     "execution_count": 58,
     "metadata": {},
     "output_type": "execute_result"
    }
   ],
   "source": [
    "df.deviceIsMobile.value_counts()"
   ]
  },
  {
   "cell_type": "markdown",
   "metadata": {},
   "source": [
    "#### deviceOS"
   ]
  },
  {
   "cell_type": "markdown",
   "metadata": {},
   "source": [
    "The column **deviceOS** has many valuable data, so we will keep the column and change the NaN for Unknown."
   ]
  },
  {
   "cell_type": "code",
   "execution_count": 59,
   "metadata": {},
   "outputs": [
    {
     "data": {
      "text/plain": [
       "4695"
      ]
     },
     "execution_count": 59,
     "metadata": {},
     "output_type": "execute_result"
    }
   ],
   "source": [
    "df.deviceOS.isnull().sum()"
   ]
  },
  {
   "cell_type": "code",
   "execution_count": 60,
   "metadata": {},
   "outputs": [
    {
     "data": {
      "text/plain": [
       "array(['Windows', 'Macintosh', 'Linux', 'Android', 'iOS', 'Chrome OS',\n",
       "       'BlackBerry', nan, 'Samsung', 'Windows Phone', 'Xbox',\n",
       "       'Nintendo Wii', 'Firefox OS', 'Nintendo WiiU', 'FreeBSD', 'Nokia',\n",
       "       'NTT DoCoMo', 'Nintendo 3DS', 'SunOS', 'OpenBSD'], dtype=object)"
      ]
     },
     "execution_count": 60,
     "metadata": {},
     "output_type": "execute_result"
    }
   ],
   "source": [
    "df.deviceOS.unique()"
   ]
  },
  {
   "cell_type": "code",
   "execution_count": 61,
   "metadata": {},
   "outputs": [],
   "source": [
    "df.deviceOS.fillna('Unknown', inplace=True)"
   ]
  },
  {
   "cell_type": "code",
   "execution_count": 62,
   "metadata": {},
   "outputs": [
    {
     "data": {
      "text/plain": [
       "0"
      ]
     },
     "execution_count": 62,
     "metadata": {},
     "output_type": "execute_result"
    }
   ],
   "source": [
    "df.deviceOS.isnull().sum()"
   ]
  },
  {
   "cell_type": "markdown",
   "metadata": {},
   "source": [
    "#### geoCity"
   ]
  },
  {
   "cell_type": "markdown",
   "metadata": {},
   "source": [
    "The column **geoCity** has many valuable data, so we will keep the column and change the NaN for Unknown."
   ]
  },
  {
   "cell_type": "code",
   "execution_count": 63,
   "metadata": {},
   "outputs": [
    {
     "data": {
      "text/plain": [
       "542491"
      ]
     },
     "execution_count": 63,
     "metadata": {},
     "output_type": "execute_result"
    }
   ],
   "source": [
    "df.geoCity.isnull().sum()"
   ]
  },
  {
   "cell_type": "code",
   "execution_count": 64,
   "metadata": {},
   "outputs": [
    {
     "data": {
      "text/plain": [
       "array(['Izmir', nan, 'Madrid', 'Brisbane', 'Karachi', 'Paris',\n",
       "       'Singapore', 'Buenos Aires', 'Bangkok', 'Jakarta'], dtype=object)"
      ]
     },
     "execution_count": 64,
     "metadata": {},
     "output_type": "execute_result"
    }
   ],
   "source": [
    "df.geoCity.unique()[0:10]"
   ]
  },
  {
   "cell_type": "code",
   "execution_count": 65,
   "metadata": {},
   "outputs": [],
   "source": [
    "df.geoCity.fillna('Unknown', inplace=True)"
   ]
  },
  {
   "cell_type": "code",
   "execution_count": 66,
   "metadata": {},
   "outputs": [
    {
     "data": {
      "text/plain": [
       "0"
      ]
     },
     "execution_count": 66,
     "metadata": {},
     "output_type": "execute_result"
    }
   ],
   "source": [
    "df.geoCity.isnull().sum()"
   ]
  },
  {
   "cell_type": "markdown",
   "metadata": {},
   "source": [
    "#### geoMetro"
   ]
  },
  {
   "cell_type": "markdown",
   "metadata": {},
   "source": [
    "The column **geoMetro** has data that can be used to complete other geo colums, so we will keep the column and change the NaN for Unknown."
   ]
  },
  {
   "cell_type": "code",
   "execution_count": 67,
   "metadata": {},
   "outputs": [
    {
     "data": {
      "text/plain": [
       "709995"
      ]
     },
     "execution_count": 67,
     "metadata": {},
     "output_type": "execute_result"
    }
   ],
   "source": [
    "df.geoMetro.isnull().sum()"
   ]
  },
  {
   "cell_type": "code",
   "execution_count": 68,
   "metadata": {},
   "outputs": [
    {
     "data": {
      "text/plain": [
       "array([nan, 'London', 'San Francisco-Oakland-San Jose CA', 'New York NY',\n",
       "       'Washington DC (Hagerstown MD)', 'Los Angeles CA',\n",
       "       'Seattle-Tacoma WA', 'Chicago IL', 'Boston MA-Manchester NH',\n",
       "       'Detroit MI'], dtype=object)"
      ]
     },
     "execution_count": 68,
     "metadata": {},
     "output_type": "execute_result"
    }
   ],
   "source": [
    "df.geoMetro.unique()[0:10]"
   ]
  },
  {
   "cell_type": "code",
   "execution_count": 69,
   "metadata": {},
   "outputs": [],
   "source": [
    "df.geoMetro.fillna('Unknown', inplace=True)"
   ]
  },
  {
   "cell_type": "code",
   "execution_count": 70,
   "metadata": {},
   "outputs": [
    {
     "data": {
      "text/plain": [
       "0"
      ]
     },
     "execution_count": 70,
     "metadata": {},
     "output_type": "execute_result"
    }
   ],
   "source": [
    "df.geoMetro.isnull().sum()"
   ]
  },
  {
   "cell_type": "markdown",
   "metadata": {},
   "source": [
    "#### geoDomain"
   ]
  },
  {
   "cell_type": "markdown",
   "metadata": {},
   "source": [
    "The column **geoDomain** has data that can be used to complete other geo colums, so we will keep the column and change the NaN and unknown.unknown for Unknown."
   ]
  },
  {
   "cell_type": "code",
   "execution_count": 71,
   "metadata": {},
   "outputs": [
    {
     "data": {
      "text/plain": [
       "244881"
      ]
     },
     "execution_count": 71,
     "metadata": {},
     "output_type": "execute_result"
    }
   ],
   "source": [
    "df.geoDomain.isnull().sum()"
   ]
  },
  {
   "cell_type": "code",
   "execution_count": 72,
   "metadata": {},
   "outputs": [
    {
     "data": {
      "text/plain": [
       "array(['ttnet.com.tr', 'dodo.net.au', 'unknown.unknown', 'fastwebnet.it',\n",
       "       'bigpond.net.au', 'spar.at', 'chello.nl', 'airtelbroadband.in',\n",
       "       'wanadoo.fr', 'cabotelecom.com.br'], dtype=object)"
      ]
     },
     "execution_count": 72,
     "metadata": {},
     "output_type": "execute_result"
    }
   ],
   "source": [
    "df.geoDomain.unique()[0:10]"
   ]
  },
  {
   "cell_type": "code",
   "execution_count": 73,
   "metadata": {},
   "outputs": [
    {
     "data": {
      "text/plain": [
       "unknown.unknown          146034\n",
       "comcast.net               28743\n",
       "rr.com                    14827\n",
       "verizon.net               13637\n",
       "ttnet.com.tr              13228\n",
       "comcastbusiness.net        9985\n",
       "hinet.net                  7919\n",
       "virginm.net                6414\n",
       "3bb.co.th                  6046\n",
       "prod-infinitum.com.mx      5960\n",
       "Name: geoDomain, dtype: int64"
      ]
     },
     "execution_count": 73,
     "metadata": {},
     "output_type": "execute_result"
    }
   ],
   "source": [
    "df.geoDomain.value_counts().head(10)"
   ]
  },
  {
   "cell_type": "code",
   "execution_count": 74,
   "metadata": {},
   "outputs": [],
   "source": [
    "df.geoDomain.fillna('Unknown', inplace=True)"
   ]
  },
  {
   "cell_type": "code",
   "execution_count": 75,
   "metadata": {},
   "outputs": [],
   "source": [
    "df.geoDomain.replace('unknown.unknown', 'Unknown', inplace=True)"
   ]
  },
  {
   "cell_type": "code",
   "execution_count": 76,
   "metadata": {},
   "outputs": [
    {
     "data": {
      "text/plain": [
       "Unknown                  390915\n",
       "comcast.net               28743\n",
       "rr.com                    14827\n",
       "verizon.net               13637\n",
       "ttnet.com.tr              13228\n",
       "comcastbusiness.net        9985\n",
       "hinet.net                  7919\n",
       "virginm.net                6414\n",
       "3bb.co.th                  6046\n",
       "prod-infinitum.com.mx      5960\n",
       "Name: geoDomain, dtype: int64"
      ]
     },
     "execution_count": 76,
     "metadata": {},
     "output_type": "execute_result"
    }
   ],
   "source": [
    "df.geoDomain.value_counts().head(10)"
   ]
  },
  {
   "cell_type": "code",
   "execution_count": 77,
   "metadata": {},
   "outputs": [
    {
     "data": {
      "text/plain": [
       "0"
      ]
     },
     "execution_count": 77,
     "metadata": {},
     "output_type": "execute_result"
    }
   ],
   "source": [
    "df.geoDomain.isnull().sum()"
   ]
  },
  {
   "cell_type": "markdown",
   "metadata": {},
   "source": [
    "#### geoRegion"
   ]
  },
  {
   "cell_type": "markdown",
   "metadata": {},
   "source": [
    "The column **geoRegion** also can be used to fill info from the other geo columns."
   ]
  },
  {
   "cell_type": "code",
   "execution_count": 78,
   "metadata": {},
   "outputs": [
    {
     "data": {
      "text/plain": [
       "536056"
      ]
     },
     "execution_count": 78,
     "metadata": {},
     "output_type": "execute_result"
    }
   ],
   "source": [
    "df.geoRegion.isnull().sum()"
   ]
  },
  {
   "cell_type": "code",
   "execution_count": 79,
   "metadata": {},
   "outputs": [
    {
     "data": {
      "text/plain": [
       "array(['Izmir', nan, 'Community of Madrid', 'Queensland', 'Sindh',\n",
       "       'Ile-de-France', 'Buenos Aires', 'Bangkok', 'Jakarta', 'Karnataka'],\n",
       "      dtype=object)"
      ]
     },
     "execution_count": 79,
     "metadata": {},
     "output_type": "execute_result"
    }
   ],
   "source": [
    "df.geoRegion.unique()[0:10]"
   ]
  },
  {
   "cell_type": "code",
   "execution_count": 80,
   "metadata": {},
   "outputs": [
    {
     "data": {
      "text/plain": [
       "California     107495\n",
       "New York        26433\n",
       "England         13198\n",
       "Texas            8749\n",
       "Bangkok          7709\n",
       "Washington       7642\n",
       "Illinois         7585\n",
       "Ho Chi Minh      7250\n",
       "Istanbul         6330\n",
       "Maharashtra      6184\n",
       "Name: geoRegion, dtype: int64"
      ]
     },
     "execution_count": 80,
     "metadata": {},
     "output_type": "execute_result"
    }
   ],
   "source": [
    "df.geoRegion.value_counts().head(10)"
   ]
  },
  {
   "cell_type": "code",
   "execution_count": 81,
   "metadata": {},
   "outputs": [],
   "source": [
    "df.geoRegion.fillna('Unknown', inplace=True)"
   ]
  },
  {
   "cell_type": "code",
   "execution_count": 82,
   "metadata": {},
   "outputs": [
    {
     "data": {
      "text/plain": [
       "0"
      ]
     },
     "execution_count": 82,
     "metadata": {},
     "output_type": "execute_result"
    }
   ],
   "source": [
    "df.geoRegion.isnull().sum()"
   ]
  },
  {
   "cell_type": "markdown",
   "metadata": {},
   "source": [
    "#### geoSubContinent"
   ]
  },
  {
   "cell_type": "code",
   "execution_count": 83,
   "metadata": {},
   "outputs": [
    {
     "data": {
      "text/plain": [
       "1468"
      ]
     },
     "execution_count": 83,
     "metadata": {},
     "output_type": "execute_result"
    }
   ],
   "source": [
    "df.geoSubContinent.isnull().sum()"
   ]
  },
  {
   "cell_type": "code",
   "execution_count": 84,
   "metadata": {},
   "outputs": [
    {
     "data": {
      "text/plain": [
       "array(['Western Asia', 'Australasia', 'Southern Europe', 'Southeast Asia',\n",
       "       'Northern Europe', 'Southern Asia', 'Western Europe',\n",
       "       'South America', 'Eastern Asia', 'Eastern Europe',\n",
       "       'Northern America', 'Western Africa', 'Central America',\n",
       "       'Eastern Africa', nan, 'Caribbean', 'Southern Africa',\n",
       "       'Northern Africa', 'Central Asia', 'Middle Africa', 'Melanesia',\n",
       "       'Micronesian Region', 'Polynesia'], dtype=object)"
      ]
     },
     "execution_count": 84,
     "metadata": {},
     "output_type": "execute_result"
    }
   ],
   "source": [
    "df.geoSubContinent.unique()"
   ]
  },
  {
   "cell_type": "code",
   "execution_count": 85,
   "metadata": {},
   "outputs": [
    {
     "data": {
      "text/plain": [
       "Northern America    390657\n",
       "Southeast Asia       77800\n",
       "Southern Asia        59321\n",
       "Western Europe       59114\n",
       "Northern Europe      58168\n",
       "Eastern Asia         46919\n",
       "Eastern Europe       45249\n",
       "South America        41731\n",
       "Western Asia         38443\n",
       "Southern Europe      35780\n",
       "Name: geoSubContinent, dtype: int64"
      ]
     },
     "execution_count": 85,
     "metadata": {},
     "output_type": "execute_result"
    }
   ],
   "source": [
    "df.geoSubContinent.value_counts().head(10)"
   ]
  },
  {
   "cell_type": "code",
   "execution_count": 86,
   "metadata": {},
   "outputs": [],
   "source": [
    "df.geoSubContinent.fillna('Unknown', inplace=True)"
   ]
  },
  {
   "cell_type": "code",
   "execution_count": 87,
   "metadata": {},
   "outputs": [
    {
     "data": {
      "text/plain": [
       "0"
      ]
     },
     "execution_count": 87,
     "metadata": {},
     "output_type": "execute_result"
    }
   ],
   "source": [
    "df.geoSubContinent.isnull().sum()"
   ]
  },
  {
   "cell_type": "markdown",
   "metadata": {},
   "source": [
    "#### totalsBounces"
   ]
  },
  {
   "cell_type": "markdown",
   "metadata": {},
   "source": [
    "The var **totalsBounces** has many \"False Nans\". As a Boolean, 1 is True and nan is False. I will replace nan with 0."
   ]
  },
  {
   "cell_type": "code",
   "execution_count": 88,
   "metadata": {},
   "outputs": [
    {
     "data": {
      "text/plain": [
       "453023"
      ]
     },
     "execution_count": 88,
     "metadata": {},
     "output_type": "execute_result"
    }
   ],
   "source": [
    "df.totalsBounces.isnull().sum()"
   ]
  },
  {
   "cell_type": "code",
   "execution_count": 89,
   "metadata": {},
   "outputs": [
    {
     "data": {
      "text/plain": [
       "array([ 1., nan])"
      ]
     },
     "execution_count": 89,
     "metadata": {},
     "output_type": "execute_result"
    }
   ],
   "source": [
    "df.totalsBounces.unique()"
   ]
  },
  {
   "cell_type": "code",
   "execution_count": 90,
   "metadata": {},
   "outputs": [],
   "source": [
    "df.totalsBounces.fillna(0, inplace=True)"
   ]
  },
  {
   "cell_type": "code",
   "execution_count": 91,
   "metadata": {},
   "outputs": [
    {
     "data": {
      "text/plain": [
       "0.0    453023\n",
       "1.0    450630\n",
       "Name: totalsBounces, dtype: int64"
      ]
     },
     "execution_count": 91,
     "metadata": {},
     "output_type": "execute_result"
    }
   ],
   "source": [
    "df.totalsBounces.value_counts()"
   ]
  },
  {
   "cell_type": "code",
   "execution_count": 92,
   "metadata": {},
   "outputs": [
    {
     "data": {
      "text/plain": [
       "0"
      ]
     },
     "execution_count": 92,
     "metadata": {},
     "output_type": "execute_result"
    }
   ],
   "source": [
    "df.totalsBounces.isnull().sum()"
   ]
  },
  {
   "cell_type": "markdown",
   "metadata": {},
   "source": [
    "#### totalsHits"
   ]
  },
  {
   "cell_type": "markdown",
   "metadata": {},
   "source": [
    "The var **totalsHits** has no nulls, and has the correct dtype."
   ]
  },
  {
   "cell_type": "code",
   "execution_count": 93,
   "metadata": {},
   "outputs": [
    {
     "data": {
      "text/plain": [
       "0"
      ]
     },
     "execution_count": 93,
     "metadata": {},
     "output_type": "execute_result"
    }
   ],
   "source": [
    "df.totalsHits.isnull().sum()"
   ]
  },
  {
   "cell_type": "code",
   "execution_count": 94,
   "metadata": {},
   "outputs": [
    {
     "data": {
      "text/plain": [
       "array([ 1,  2,  3,  4,  5,  6,  7,  8,  9, 10, 11, 12, 13, 14, 15, 16, 17,\n",
       "       18, 19, 20, 21, 22, 23, 24, 25, 26, 27, 28, 29, 30, 31, 32, 33, 34,\n",
       "       35, 36, 37, 38, 39, 41, 42, 43, 44, 45, 46, 47, 48, 49, 50, 51])"
      ]
     },
     "execution_count": 94,
     "metadata": {},
     "output_type": "execute_result"
    }
   ],
   "source": [
    "df.totalsHits.unique()[0:50]"
   ]
  },
  {
   "cell_type": "code",
   "execution_count": 95,
   "metadata": {},
   "outputs": [
    {
     "data": {
      "text/plain": [
       "1    446754\n",
       "2    137952\n",
       "3     70402\n",
       "4     42444\n",
       "5     30939\n",
       "Name: totalsHits, dtype: int64"
      ]
     },
     "execution_count": 95,
     "metadata": {},
     "output_type": "execute_result"
    }
   ],
   "source": [
    "df.totalsHits.value_counts().head()"
   ]
  },
  {
   "cell_type": "code",
   "execution_count": 96,
   "metadata": {},
   "outputs": [
    {
     "data": {
      "text/plain": [
       "0"
      ]
     },
     "execution_count": 96,
     "metadata": {},
     "output_type": "execute_result"
    }
   ],
   "source": [
    "df.totalsHits.isnull().sum()"
   ]
  },
  {
   "cell_type": "markdown",
   "metadata": {},
   "source": [
    "#### totalsNewVisits"
   ]
  },
  {
   "cell_type": "markdown",
   "metadata": {},
   "source": [
    "The var **totalsNewVisits** has many False Nans. As a Boolean, 1 is True and nan is False. I will replace nan with 0."
   ]
  },
  {
   "cell_type": "code",
   "execution_count": 97,
   "metadata": {},
   "outputs": [
    {
     "data": {
      "text/plain": [
       "200593"
      ]
     },
     "execution_count": 97,
     "metadata": {},
     "output_type": "execute_result"
    }
   ],
   "source": [
    "df.totalsNewVisits.isnull().sum()"
   ]
  },
  {
   "cell_type": "code",
   "execution_count": 98,
   "metadata": {},
   "outputs": [
    {
     "data": {
      "text/plain": [
       "array([ 1., nan])"
      ]
     },
     "execution_count": 98,
     "metadata": {},
     "output_type": "execute_result"
    }
   ],
   "source": [
    "df.totalsNewVisits.unique()"
   ]
  },
  {
   "cell_type": "code",
   "execution_count": 99,
   "metadata": {},
   "outputs": [],
   "source": [
    "df.totalsNewVisits.fillna(0, inplace=True)"
   ]
  },
  {
   "cell_type": "code",
   "execution_count": 100,
   "metadata": {},
   "outputs": [
    {
     "data": {
      "text/plain": [
       "1.0    703060\n",
       "0.0    200593\n",
       "Name: totalsNewVisits, dtype: int64"
      ]
     },
     "execution_count": 100,
     "metadata": {},
     "output_type": "execute_result"
    }
   ],
   "source": [
    "df.totalsNewVisits.value_counts().head()"
   ]
  },
  {
   "cell_type": "code",
   "execution_count": 101,
   "metadata": {},
   "outputs": [
    {
     "data": {
      "text/plain": [
       "0"
      ]
     },
     "execution_count": 101,
     "metadata": {},
     "output_type": "execute_result"
    }
   ],
   "source": [
    "df.totalsNewVisits.isnull().sum()"
   ]
  },
  {
   "cell_type": "markdown",
   "metadata": {},
   "source": [
    "#### totalsPageviews"
   ]
  },
  {
   "cell_type": "markdown",
   "metadata": {},
   "source": [
    "The column **totalsPageviews** has 100 null values that I cannot infere from other columns, as the percentage is so small, I drop the rows."
   ]
  },
  {
   "cell_type": "code",
   "execution_count": 102,
   "metadata": {},
   "outputs": [
    {
     "data": {
      "text/plain": [
       "100"
      ]
     },
     "execution_count": 102,
     "metadata": {},
     "output_type": "execute_result"
    }
   ],
   "source": [
    "df.totalsPageviews.isnull().sum()"
   ]
  },
  {
   "cell_type": "code",
   "execution_count": 103,
   "metadata": {},
   "outputs": [
    {
     "data": {
      "text/plain": [
       "array([  1.,   2.,   3.,   4.,   5.,   6.,   7.,   8.,   9.,  10.,  11.,\n",
       "        12.,  13.,  14.,  15.,  16.,  17.,  18.,  20.,  19.,  21.,  25.,\n",
       "        22.,  26.,  23.,  24.,  30.,  27.,  29.,  28.,  32.,  31.,  34.,\n",
       "        33.,  38.,  35.,  40.,  36.,  37.,  39.,  43.,  45.,  47.,  52.,\n",
       "        44.,  50.,  46.,  49.,  51.,  56.,  59.,  71.,  57.,  82.,  84.,\n",
       "        92.,  90.,  41.,  79., 138.,  48.,  69., 112.,  42.,  65.,  60.,\n",
       "        63.,  68.,  58.,  74., 165.,  53.,  54.,  55.,  61.,  70.,  80.,\n",
       "        78.,  72., 188.,  73.,  62.,  75.,  86., 197., 148.,  67., 102.,\n",
       "        64., 103., 144.,  nan,  81., 119., 104., 128.,  87., 111.,  66.,\n",
       "        83., 135.,  94.,  91.,  99.,  77., 118., 202., 127.,  93., 106.,\n",
       "       155., 117.,  76.,  89.,  85., 143., 105., 115.,  95., 110., 137.,\n",
       "       120., 116., 208., 126., 400., 101., 108., 333.,  97.,  96.,  98.,\n",
       "       125., 113., 327., 154., 121., 183., 123., 141., 224.,  88., 195.,\n",
       "       343., 156., 193., 100., 150., 122., 145., 174., 147., 131., 169.,\n",
       "       164., 249., 114., 189., 223., 124., 139., 341., 469., 309., 162.,\n",
       "       146., 270., 107., 153., 233., 161., 179., 129., 220., 191., 323.,\n",
       "       431., 351., 132., 305., 175., 130., 166., 185., 245., 219., 167.,\n",
       "       173., 109., 133., 149., 136., 168., 358., 466., 182., 340., 215.,\n",
       "       142., 275., 134., 196., 324., 300., 190., 176., 210., 201., 232.,\n",
       "       140., 199., 429., 151., 186.])"
      ]
     },
     "execution_count": 103,
     "metadata": {},
     "output_type": "execute_result"
    }
   ],
   "source": [
    "df.totalsPageviews.unique()"
   ]
  },
  {
   "cell_type": "code",
   "execution_count": 104,
   "metadata": {},
   "outputs": [],
   "source": [
    "df.dropna(subset=['totalsPageviews'],inplace=True)"
   ]
  },
  {
   "cell_type": "code",
   "execution_count": 105,
   "metadata": {},
   "outputs": [
    {
     "data": {
      "text/plain": [
       "0"
      ]
     },
     "execution_count": 105,
     "metadata": {},
     "output_type": "execute_result"
    }
   ],
   "source": [
    "df.totalsPageviews.isnull().sum()"
   ]
  },
  {
   "cell_type": "code",
   "execution_count": 106,
   "metadata": {},
   "outputs": [
    {
     "data": {
      "text/plain": [
       "1.0     452522\n",
       "2.0     143770\n",
       "3.0      73835\n",
       "4.0      45192\n",
       "5.0      33411\n",
       "6.0      24688\n",
       "7.0      19476\n",
       "8.0      15272\n",
       "9.0      12585\n",
       "10.0     10104\n",
       "Name: totalsPageviews, dtype: int64"
      ]
     },
     "execution_count": 106,
     "metadata": {},
     "output_type": "execute_result"
    }
   ],
   "source": [
    "df.totalsPageviews.value_counts().head(10)"
   ]
  },
  {
   "cell_type": "code",
   "execution_count": 107,
   "metadata": {},
   "outputs": [
    {
     "data": {
      "text/plain": [
       "0"
      ]
     },
     "execution_count": 107,
     "metadata": {},
     "output_type": "execute_result"
    }
   ],
   "source": [
    "df.totalsPageviews.isnull().sum()"
   ]
  },
  {
   "cell_type": "markdown",
   "metadata": {},
   "source": [
    "#### trafficSourceAdContent"
   ]
  },
  {
   "cell_type": "markdown",
   "metadata": {},
   "source": [
    "There are many nans in the **adwordsClickAdNetworkType** column, for all the visits that do not come from an Ad. I change the Nan value for a NoAd."
   ]
  },
  {
   "cell_type": "code",
   "execution_count": 108,
   "metadata": {},
   "outputs": [
    {
     "data": {
      "text/plain": [
       "892608"
      ]
     },
     "execution_count": 108,
     "metadata": {},
     "output_type": "execute_result"
    }
   ],
   "source": [
    "df.trafficSourceAdContent.isnull().sum()"
   ]
  },
  {
   "cell_type": "code",
   "execution_count": 109,
   "metadata": {},
   "outputs": [
    {
     "data": {
      "text/plain": [
       "array([nan, 'Full auto ad IMAGE ONLY', 'First Full Auto Template Test Ad',\n",
       "       '{KeyWord:Google Brand Items}', 'Display Ad created 3/11/14',\n",
       "       'Ad from 11/7/16', 'Display Ad created 3/11/15',\n",
       "       'Ad from 12/13/16', 'Ad from 11/3/16', 'Google Online Store',\n",
       "       'Google Merchandise Collection', '{KeyWord:Want Google Stickers?}',\n",
       "       '{KeyWord:Google Merchandise}', 'Display Ad created 11/17/14',\n",
       "       '{KeyWord:Google Drinkware}', \"{KeyWord:Google Men's T-Shirts}\",\n",
       "       '{KeyWord:Google Branded Gear}',\n",
       "       '{KeyWord:Google Branded Apparel}', 'Google Paraphernalia',\n",
       "       'Swag with Google Logos', '{KeyWord:Google Branded Kit}',\n",
       "       'Want Google Sunglasses', '{KeyWord:Looking for Google Bags?}',\n",
       "       'Full auto ad TEXT ONLY', 'Google Merchandise', 'google store',\n",
       "       'LeEco_1a', 'Full auto ad TEXT/NATIVE',\n",
       "       '{KeyWord:Want Google Pet Toys?}', 'Google Store',\n",
       "       \"Men's-Outerwear Google Apparel\", '20% discount',\n",
       "       'Full auto ad with Primary Color', 'JD_5a_v1',\n",
       "       '{KeyWord:Google Branded Outerwear}', 'Full auto ad NATIVE ONLY',\n",
       "       'url_builder', 'Google store', 'free shipping',\n",
       "       'Official Google Merchandise - Fast Shipping', 'GA Help Center',\n",
       "       'Free Shipping!', 'Swag w/ Google Logos', 'visit us again',\n",
       "       'Ad from 2/17/17'], dtype=object)"
      ]
     },
     "execution_count": 109,
     "metadata": {},
     "output_type": "execute_result"
    }
   ],
   "source": [
    "df.trafficSourceAdContent.unique()"
   ]
  },
  {
   "cell_type": "code",
   "execution_count": 110,
   "metadata": {},
   "outputs": [],
   "source": [
    "df.trafficSourceAdContent.fillna('NoAd', inplace=True)"
   ]
  },
  {
   "cell_type": "code",
   "execution_count": 111,
   "metadata": {},
   "outputs": [
    {
     "data": {
      "text/plain": [
       "NoAd                             892608\n",
       "Google Merchandise Collection      5122\n",
       "Google Online Store                1245\n",
       "Display Ad created 3/11/14          966\n",
       "Full auto ad IMAGE ONLY             822\n",
       "Ad from 12/13/16                    610\n",
       "Ad from 11/3/16                     489\n",
       "Display Ad created 3/11/15          392\n",
       "{KeyWord:Google Brand Items}        251\n",
       "{KeyWord:Google Merchandise}        155\n",
       "Name: trafficSourceAdContent, dtype: int64"
      ]
     },
     "execution_count": 111,
     "metadata": {},
     "output_type": "execute_result"
    }
   ],
   "source": [
    "df.trafficSourceAdContent.value_counts().head(10)"
   ]
  },
  {
   "cell_type": "code",
   "execution_count": 112,
   "metadata": {},
   "outputs": [
    {
     "data": {
      "text/plain": [
       "0"
      ]
     },
     "execution_count": 112,
     "metadata": {},
     "output_type": "execute_result"
    }
   ],
   "source": [
    "df.trafficSourceAdContent.isnull().sum()"
   ]
  },
  {
   "cell_type": "markdown",
   "metadata": {},
   "source": [
    "#### adwordsClickAdNetworkType"
   ]
  },
  {
   "cell_type": "markdown",
   "metadata": {},
   "source": [
    "There are many nans in the **adwordsClickAdNetworkType** column, for all the visits that do not come from an AdWord Ad. I change the Nan value for a NoAdWords."
   ]
  },
  {
   "cell_type": "code",
   "execution_count": 113,
   "metadata": {},
   "outputs": [
    {
     "data": {
      "text/plain": [
       "882093"
      ]
     },
     "execution_count": 113,
     "metadata": {},
     "output_type": "execute_result"
    }
   ],
   "source": [
    "df.adwordsClickAdNetworkType.isnull().sum()"
   ]
  },
  {
   "cell_type": "code",
   "execution_count": 114,
   "metadata": {},
   "outputs": [
    {
     "data": {
      "text/plain": [
       "array([nan, 'Google Search', 'Search partners'], dtype=object)"
      ]
     },
     "execution_count": 114,
     "metadata": {},
     "output_type": "execute_result"
    }
   ],
   "source": [
    "df.adwordsClickAdNetworkType.unique()"
   ]
  },
  {
   "cell_type": "code",
   "execution_count": 115,
   "metadata": {},
   "outputs": [],
   "source": [
    "df.adwordsClickAdNetworkType.fillna('NoAdWords', inplace=True)"
   ]
  },
  {
   "cell_type": "code",
   "execution_count": 116,
   "metadata": {},
   "outputs": [
    {
     "data": {
      "text/plain": [
       "NoAdWords          882093\n",
       "Google Search       21453\n",
       "Search partners         7\n",
       "Name: adwordsClickAdNetworkType, dtype: int64"
      ]
     },
     "execution_count": 116,
     "metadata": {},
     "output_type": "execute_result"
    }
   ],
   "source": [
    "df.adwordsClickAdNetworkType.value_counts()"
   ]
  },
  {
   "cell_type": "code",
   "execution_count": 117,
   "metadata": {},
   "outputs": [
    {
     "data": {
      "text/plain": [
       "0"
      ]
     },
     "execution_count": 117,
     "metadata": {},
     "output_type": "execute_result"
    }
   ],
   "source": [
    "df.adwordsClickAdNetworkType.isnull().sum()"
   ]
  },
  {
   "cell_type": "markdown",
   "metadata": {},
   "source": [
    "#### adwordsClickGclId"
   ]
  },
  {
   "cell_type": "markdown",
   "metadata": {},
   "source": [
    "The **adwordsClickGclId** var is the unique ID for the Google Search clicks. As I cannot use the Ids I will modify the values for a boolean. Click, No Click.\n"
   ]
  },
  {
   "cell_type": "code",
   "execution_count": 118,
   "metadata": {},
   "outputs": [
    {
     "data": {
      "text/plain": [
       "881992"
      ]
     },
     "execution_count": 118,
     "metadata": {},
     "output_type": "execute_result"
    }
   ],
   "source": [
    "df.adwordsClickGclId.isnull().sum()"
   ]
  },
  {
   "cell_type": "code",
   "execution_count": 119,
   "metadata": {},
   "outputs": [
    {
     "data": {
      "text/html": [
       "<div>\n",
       "<style scoped>\n",
       "    .dataframe tbody tr th:only-of-type {\n",
       "        vertical-align: middle;\n",
       "    }\n",
       "\n",
       "    .dataframe tbody tr th {\n",
       "        vertical-align: top;\n",
       "    }\n",
       "\n",
       "    .dataframe thead th {\n",
       "        text-align: right;\n",
       "    }\n",
       "</style>\n",
       "<table border=\"1\" class=\"dataframe\">\n",
       "  <thead>\n",
       "    <tr style=\"text-align: right;\">\n",
       "      <th></th>\n",
       "      <th>adwordsClickGclId</th>\n",
       "      <th>adwordsClickAdNetworkType</th>\n",
       "      <th>trafficSourceAdContent</th>\n",
       "    </tr>\n",
       "  </thead>\n",
       "  <tbody>\n",
       "    <tr>\n",
       "      <th>102</th>\n",
       "      <td>Cj0KEQjwxqS-BRDRgPLp0q2t0IUBEiQAgfMXRBVDYwnFaw...</td>\n",
       "      <td>Google Search</td>\n",
       "      <td>NoAd</td>\n",
       "    </tr>\n",
       "    <tr>\n",
       "      <th>271</th>\n",
       "      <td>Cj0KEQjwxqS-BRDRgPLp0q2t0IUBEiQAgfMXRAq0D2zir1...</td>\n",
       "      <td>Google Search</td>\n",
       "      <td>NoAd</td>\n",
       "    </tr>\n",
       "    <tr>\n",
       "      <th>295</th>\n",
       "      <td>Cj0KEQjwxqS-BRDRgPLp0q2t0IUBEiQAgfMXRMbhgNCALe...</td>\n",
       "      <td>Google Search</td>\n",
       "      <td>NoAd</td>\n",
       "    </tr>\n",
       "    <tr>\n",
       "      <th>305</th>\n",
       "      <td>Cj0KEQjwxqS-BRDRgPLp0q2t0IUBEiQAgfMXRBRI7rtb79...</td>\n",
       "      <td>Google Search</td>\n",
       "      <td>NoAd</td>\n",
       "    </tr>\n",
       "    <tr>\n",
       "      <th>400</th>\n",
       "      <td>Cj0KEQjwxqS-BRDRgPLp0q2t0IUBEiQAgfMXRDKcQOTkfR...</td>\n",
       "      <td>Google Search</td>\n",
       "      <td>NoAd</td>\n",
       "    </tr>\n",
       "  </tbody>\n",
       "</table>\n",
       "</div>"
      ],
      "text/plain": [
       "                                     adwordsClickGclId  \\\n",
       "102  Cj0KEQjwxqS-BRDRgPLp0q2t0IUBEiQAgfMXRBVDYwnFaw...   \n",
       "271  Cj0KEQjwxqS-BRDRgPLp0q2t0IUBEiQAgfMXRAq0D2zir1...   \n",
       "295  Cj0KEQjwxqS-BRDRgPLp0q2t0IUBEiQAgfMXRMbhgNCALe...   \n",
       "305  Cj0KEQjwxqS-BRDRgPLp0q2t0IUBEiQAgfMXRBRI7rtb79...   \n",
       "400  Cj0KEQjwxqS-BRDRgPLp0q2t0IUBEiQAgfMXRDKcQOTkfR...   \n",
       "\n",
       "    adwordsClickAdNetworkType trafficSourceAdContent  \n",
       "102             Google Search                   NoAd  \n",
       "271             Google Search                   NoAd  \n",
       "295             Google Search                   NoAd  \n",
       "305             Google Search                   NoAd  \n",
       "400             Google Search                   NoAd  "
      ]
     },
     "execution_count": 119,
     "metadata": {},
     "output_type": "execute_result"
    }
   ],
   "source": [
    "df[['adwordsClickGclId','adwordsClickAdNetworkType','trafficSourceAdContent']].loc[df['adwordsClickGclId']==df['adwordsClickGclId']].head()\n"
   ]
  },
  {
   "cell_type": "code",
   "execution_count": 120,
   "metadata": {},
   "outputs": [],
   "source": [
    "df.adwordsClickGclId = df.adwordsClickGclId.apply(lambda x: 1 if x == x else 0)"
   ]
  },
  {
   "cell_type": "code",
   "execution_count": 121,
   "metadata": {},
   "outputs": [
    {
     "data": {
      "text/html": [
       "<div>\n",
       "<style scoped>\n",
       "    .dataframe tbody tr th:only-of-type {\n",
       "        vertical-align: middle;\n",
       "    }\n",
       "\n",
       "    .dataframe tbody tr th {\n",
       "        vertical-align: top;\n",
       "    }\n",
       "\n",
       "    .dataframe thead th {\n",
       "        text-align: right;\n",
       "    }\n",
       "</style>\n",
       "<table border=\"1\" class=\"dataframe\">\n",
       "  <thead>\n",
       "    <tr style=\"text-align: right;\">\n",
       "      <th></th>\n",
       "      <th>channelGrouping</th>\n",
       "      <th>date</th>\n",
       "      <th>fullVisitorId</th>\n",
       "      <th>visitNumber</th>\n",
       "      <th>visitStartTime</th>\n",
       "      <th>deviceBrowser</th>\n",
       "      <th>deviceCategory</th>\n",
       "      <th>deviceIsMobile</th>\n",
       "      <th>deviceOS</th>\n",
       "      <th>geoCity</th>\n",
       "      <th>geoContinent</th>\n",
       "      <th>geoCountry</th>\n",
       "      <th>geoMetro</th>\n",
       "      <th>geoDomain</th>\n",
       "      <th>geoRegion</th>\n",
       "      <th>geoSubContinent</th>\n",
       "      <th>totalsBounces</th>\n",
       "      <th>totalsHits</th>\n",
       "      <th>totalsNewVisits</th>\n",
       "      <th>totalsPageviews</th>\n",
       "      <th>totalsTransactionRevenue</th>\n",
       "      <th>trafficSourceAdContent</th>\n",
       "      <th>adwordsClickAdNetworkType</th>\n",
       "      <th>adwordsClickGclId</th>\n",
       "      <th>adwordsClickIsVideoAd</th>\n",
       "      <th>adwordsClickInfoPage</th>\n",
       "      <th>adwordsClickInfoSlot</th>\n",
       "      <th>trafficSourceCampaign</th>\n",
       "      <th>trafficSourceIsTrueDirect</th>\n",
       "      <th>trafficSourceKeyword</th>\n",
       "      <th>trafficSourceMedium</th>\n",
       "      <th>trafficSourceReferralPath</th>\n",
       "      <th>trafficSourceSource</th>\n",
       "    </tr>\n",
       "  </thead>\n",
       "  <tbody>\n",
       "    <tr>\n",
       "      <th>0</th>\n",
       "      <td>Organic Search</td>\n",
       "      <td>2016-09-02</td>\n",
       "      <td>1131660440785968503</td>\n",
       "      <td>1</td>\n",
       "      <td>1472830385</td>\n",
       "      <td>Chrome</td>\n",
       "      <td>desktop</td>\n",
       "      <td>False</td>\n",
       "      <td>Windows</td>\n",
       "      <td>Izmir</td>\n",
       "      <td>Asia</td>\n",
       "      <td>Turkey</td>\n",
       "      <td>Unknown</td>\n",
       "      <td>ttnet.com.tr</td>\n",
       "      <td>Izmir</td>\n",
       "      <td>Western Asia</td>\n",
       "      <td>1.0</td>\n",
       "      <td>1</td>\n",
       "      <td>1.0</td>\n",
       "      <td>1.0</td>\n",
       "      <td>NaN</td>\n",
       "      <td>NoAd</td>\n",
       "      <td>NoAdWords</td>\n",
       "      <td>0</td>\n",
       "      <td>NaN</td>\n",
       "      <td>NaN</td>\n",
       "      <td>NaN</td>\n",
       "      <td>NaN</td>\n",
       "      <td>NaN</td>\n",
       "      <td>NaN</td>\n",
       "      <td>organic</td>\n",
       "      <td>NaN</td>\n",
       "      <td>google</td>\n",
       "    </tr>\n",
       "    <tr>\n",
       "      <th>1</th>\n",
       "      <td>Organic Search</td>\n",
       "      <td>2016-09-02</td>\n",
       "      <td>377306020877927890</td>\n",
       "      <td>1</td>\n",
       "      <td>1472880147</td>\n",
       "      <td>Firefox</td>\n",
       "      <td>desktop</td>\n",
       "      <td>False</td>\n",
       "      <td>Macintosh</td>\n",
       "      <td>Unknown</td>\n",
       "      <td>Oceania</td>\n",
       "      <td>Australia</td>\n",
       "      <td>Unknown</td>\n",
       "      <td>dodo.net.au</td>\n",
       "      <td>Unknown</td>\n",
       "      <td>Australasia</td>\n",
       "      <td>1.0</td>\n",
       "      <td>1</td>\n",
       "      <td>1.0</td>\n",
       "      <td>1.0</td>\n",
       "      <td>NaN</td>\n",
       "      <td>NoAd</td>\n",
       "      <td>NoAdWords</td>\n",
       "      <td>0</td>\n",
       "      <td>NaN</td>\n",
       "      <td>NaN</td>\n",
       "      <td>NaN</td>\n",
       "      <td>NaN</td>\n",
       "      <td>NaN</td>\n",
       "      <td>NaN</td>\n",
       "      <td>organic</td>\n",
       "      <td>NaN</td>\n",
       "      <td>google</td>\n",
       "    </tr>\n",
       "    <tr>\n",
       "      <th>2</th>\n",
       "      <td>Organic Search</td>\n",
       "      <td>2016-09-02</td>\n",
       "      <td>3895546263509774583</td>\n",
       "      <td>1</td>\n",
       "      <td>1472865386</td>\n",
       "      <td>Chrome</td>\n",
       "      <td>desktop</td>\n",
       "      <td>False</td>\n",
       "      <td>Windows</td>\n",
       "      <td>Madrid</td>\n",
       "      <td>Europe</td>\n",
       "      <td>Spain</td>\n",
       "      <td>Unknown</td>\n",
       "      <td>Unknown</td>\n",
       "      <td>Community of Madrid</td>\n",
       "      <td>Southern Europe</td>\n",
       "      <td>1.0</td>\n",
       "      <td>1</td>\n",
       "      <td>1.0</td>\n",
       "      <td>1.0</td>\n",
       "      <td>NaN</td>\n",
       "      <td>NoAd</td>\n",
       "      <td>NoAdWords</td>\n",
       "      <td>0</td>\n",
       "      <td>NaN</td>\n",
       "      <td>NaN</td>\n",
       "      <td>NaN</td>\n",
       "      <td>NaN</td>\n",
       "      <td>NaN</td>\n",
       "      <td>NaN</td>\n",
       "      <td>organic</td>\n",
       "      <td>NaN</td>\n",
       "      <td>google</td>\n",
       "    </tr>\n",
       "    <tr>\n",
       "      <th>3</th>\n",
       "      <td>Organic Search</td>\n",
       "      <td>2016-09-02</td>\n",
       "      <td>4763447161404445595</td>\n",
       "      <td>1</td>\n",
       "      <td>1472881213</td>\n",
       "      <td>UC Browser</td>\n",
       "      <td>desktop</td>\n",
       "      <td>False</td>\n",
       "      <td>Linux</td>\n",
       "      <td>Unknown</td>\n",
       "      <td>Asia</td>\n",
       "      <td>Indonesia</td>\n",
       "      <td>Unknown</td>\n",
       "      <td>Unknown</td>\n",
       "      <td>Unknown</td>\n",
       "      <td>Southeast Asia</td>\n",
       "      <td>1.0</td>\n",
       "      <td>1</td>\n",
       "      <td>1.0</td>\n",
       "      <td>1.0</td>\n",
       "      <td>NaN</td>\n",
       "      <td>NoAd</td>\n",
       "      <td>NoAdWords</td>\n",
       "      <td>0</td>\n",
       "      <td>NaN</td>\n",
       "      <td>NaN</td>\n",
       "      <td>NaN</td>\n",
       "      <td>NaN</td>\n",
       "      <td>NaN</td>\n",
       "      <td>google + online</td>\n",
       "      <td>organic</td>\n",
       "      <td>NaN</td>\n",
       "      <td>google</td>\n",
       "    </tr>\n",
       "    <tr>\n",
       "      <th>4</th>\n",
       "      <td>Organic Search</td>\n",
       "      <td>2016-09-02</td>\n",
       "      <td>27294437909732085</td>\n",
       "      <td>2</td>\n",
       "      <td>1472822600</td>\n",
       "      <td>Chrome</td>\n",
       "      <td>mobile</td>\n",
       "      <td>True</td>\n",
       "      <td>Android</td>\n",
       "      <td>Unknown</td>\n",
       "      <td>Europe</td>\n",
       "      <td>United Kingdom</td>\n",
       "      <td>Unknown</td>\n",
       "      <td>Unknown</td>\n",
       "      <td>Unknown</td>\n",
       "      <td>Northern Europe</td>\n",
       "      <td>1.0</td>\n",
       "      <td>1</td>\n",
       "      <td>0.0</td>\n",
       "      <td>1.0</td>\n",
       "      <td>NaN</td>\n",
       "      <td>NoAd</td>\n",
       "      <td>NoAdWords</td>\n",
       "      <td>0</td>\n",
       "      <td>NaN</td>\n",
       "      <td>NaN</td>\n",
       "      <td>NaN</td>\n",
       "      <td>NaN</td>\n",
       "      <td>True</td>\n",
       "      <td>NaN</td>\n",
       "      <td>organic</td>\n",
       "      <td>NaN</td>\n",
       "      <td>google</td>\n",
       "    </tr>\n",
       "  </tbody>\n",
       "</table>\n",
       "</div>"
      ],
      "text/plain": [
       "  channelGrouping        date        fullVisitorId  visitNumber  \\\n",
       "0  Organic Search  2016-09-02  1131660440785968503            1   \n",
       "1  Organic Search  2016-09-02   377306020877927890            1   \n",
       "2  Organic Search  2016-09-02  3895546263509774583            1   \n",
       "3  Organic Search  2016-09-02  4763447161404445595            1   \n",
       "4  Organic Search  2016-09-02    27294437909732085            2   \n",
       "\n",
       "   visitStartTime deviceBrowser deviceCategory  deviceIsMobile   deviceOS  \\\n",
       "0      1472830385        Chrome        desktop           False    Windows   \n",
       "1      1472880147       Firefox        desktop           False  Macintosh   \n",
       "2      1472865386        Chrome        desktop           False    Windows   \n",
       "3      1472881213    UC Browser        desktop           False      Linux   \n",
       "4      1472822600        Chrome         mobile            True    Android   \n",
       "\n",
       "   geoCity geoContinent      geoCountry geoMetro     geoDomain  \\\n",
       "0    Izmir         Asia          Turkey  Unknown  ttnet.com.tr   \n",
       "1  Unknown      Oceania       Australia  Unknown   dodo.net.au   \n",
       "2   Madrid       Europe           Spain  Unknown       Unknown   \n",
       "3  Unknown         Asia       Indonesia  Unknown       Unknown   \n",
       "4  Unknown       Europe  United Kingdom  Unknown       Unknown   \n",
       "\n",
       "             geoRegion  geoSubContinent  totalsBounces  totalsHits  \\\n",
       "0                Izmir     Western Asia            1.0           1   \n",
       "1              Unknown      Australasia            1.0           1   \n",
       "2  Community of Madrid  Southern Europe            1.0           1   \n",
       "3              Unknown   Southeast Asia            1.0           1   \n",
       "4              Unknown  Northern Europe            1.0           1   \n",
       "\n",
       "   totalsNewVisits  totalsPageviews  totalsTransactionRevenue  \\\n",
       "0              1.0              1.0                       NaN   \n",
       "1              1.0              1.0                       NaN   \n",
       "2              1.0              1.0                       NaN   \n",
       "3              1.0              1.0                       NaN   \n",
       "4              0.0              1.0                       NaN   \n",
       "\n",
       "  trafficSourceAdContent adwordsClickAdNetworkType  adwordsClickGclId  \\\n",
       "0                   NoAd                 NoAdWords                  0   \n",
       "1                   NoAd                 NoAdWords                  0   \n",
       "2                   NoAd                 NoAdWords                  0   \n",
       "3                   NoAd                 NoAdWords                  0   \n",
       "4                   NoAd                 NoAdWords                  0   \n",
       "\n",
       "  adwordsClickIsVideoAd  adwordsClickInfoPage adwordsClickInfoSlot  \\\n",
       "0                   NaN                   NaN                  NaN   \n",
       "1                   NaN                   NaN                  NaN   \n",
       "2                   NaN                   NaN                  NaN   \n",
       "3                   NaN                   NaN                  NaN   \n",
       "4                   NaN                   NaN                  NaN   \n",
       "\n",
       "  trafficSourceCampaign trafficSourceIsTrueDirect trafficSourceKeyword  \\\n",
       "0                   NaN                       NaN                  NaN   \n",
       "1                   NaN                       NaN                  NaN   \n",
       "2                   NaN                       NaN                  NaN   \n",
       "3                   NaN                       NaN      google + online   \n",
       "4                   NaN                      True                  NaN   \n",
       "\n",
       "  trafficSourceMedium trafficSourceReferralPath trafficSourceSource  \n",
       "0             organic                       NaN              google  \n",
       "1             organic                       NaN              google  \n",
       "2             organic                       NaN              google  \n",
       "3             organic                       NaN              google  \n",
       "4             organic                       NaN              google  "
      ]
     },
     "execution_count": 121,
     "metadata": {},
     "output_type": "execute_result"
    }
   ],
   "source": [
    "df.head()"
   ]
  },
  {
   "cell_type": "code",
   "execution_count": 122,
   "metadata": {},
   "outputs": [
    {
     "data": {
      "text/plain": [
       "array([0, 1])"
      ]
     },
     "execution_count": 122,
     "metadata": {},
     "output_type": "execute_result"
    }
   ],
   "source": [
    "df.adwordsClickGclId.unique()"
   ]
  },
  {
   "cell_type": "code",
   "execution_count": 123,
   "metadata": {},
   "outputs": [
    {
     "data": {
      "text/plain": [
       "0    881992\n",
       "1     21561\n",
       "Name: adwordsClickGclId, dtype: int64"
      ]
     },
     "execution_count": 123,
     "metadata": {},
     "output_type": "execute_result"
    }
   ],
   "source": [
    "df.adwordsClickGclId.value_counts().head()"
   ]
  },
  {
   "cell_type": "code",
   "execution_count": 124,
   "metadata": {},
   "outputs": [
    {
     "data": {
      "text/plain": [
       "0"
      ]
     },
     "execution_count": 124,
     "metadata": {},
     "output_type": "execute_result"
    }
   ],
   "source": [
    "df.adwordsClickGclId.isnull().sum()"
   ]
  },
  {
   "cell_type": "markdown",
   "metadata": {},
   "source": [
    "#### adwordsClickIsVideoAd"
   ]
  },
  {
   "cell_type": "markdown",
   "metadata": {},
   "source": [
    "The **adwordsClickIsVideoAd** has a lot of nans, that really mean no Ad. And there are no Trues. So the column do not give me any information. I drop it."
   ]
  },
  {
   "cell_type": "code",
   "execution_count": 125,
   "metadata": {},
   "outputs": [
    {
     "data": {
      "text/plain": [
       "882093"
      ]
     },
     "execution_count": 125,
     "metadata": {},
     "output_type": "execute_result"
    }
   ],
   "source": [
    "df.adwordsClickIsVideoAd.isnull().sum()"
   ]
  },
  {
   "cell_type": "code",
   "execution_count": 126,
   "metadata": {},
   "outputs": [
    {
     "data": {
      "text/plain": [
       "array([nan, False], dtype=object)"
      ]
     },
     "execution_count": 126,
     "metadata": {},
     "output_type": "execute_result"
    }
   ],
   "source": [
    "df.adwordsClickIsVideoAd.unique()"
   ]
  },
  {
   "cell_type": "code",
   "execution_count": 127,
   "metadata": {},
   "outputs": [],
   "source": [
    "df.drop(columns='adwordsClickIsVideoAd', inplace=True)"
   ]
  },
  {
   "cell_type": "markdown",
   "metadata": {},
   "source": [
    "#### adwordsClickInfoPage"
   ]
  },
  {
   "cell_type": "markdown",
   "metadata": {},
   "source": [
    "The **adwordsClickInfoPage** has many nulls, that means the visit do not come from an add. I will change the Nan for a 0."
   ]
  },
  {
   "cell_type": "code",
   "execution_count": 128,
   "metadata": {},
   "outputs": [
    {
     "data": {
      "text/plain": [
       "882093"
      ]
     },
     "execution_count": 128,
     "metadata": {},
     "output_type": "execute_result"
    }
   ],
   "source": [
    "df.adwordsClickInfoPage.isnull().sum()"
   ]
  },
  {
   "cell_type": "code",
   "execution_count": 129,
   "metadata": {},
   "outputs": [
    {
     "data": {
      "text/plain": [
       "array([nan,  1.,  5.,  3.,  2., 14.,  7.,  9.,  4.])"
      ]
     },
     "execution_count": 129,
     "metadata": {},
     "output_type": "execute_result"
    }
   ],
   "source": [
    "df.adwordsClickInfoPage.unique()"
   ]
  },
  {
   "cell_type": "code",
   "execution_count": 130,
   "metadata": {},
   "outputs": [
    {
     "data": {
      "text/plain": [
       "1.0     21362\n",
       "2.0        73\n",
       "3.0        10\n",
       "5.0         7\n",
       "7.0         3\n",
       "4.0         2\n",
       "9.0         2\n",
       "14.0        1\n",
       "Name: adwordsClickInfoPage, dtype: int64"
      ]
     },
     "execution_count": 130,
     "metadata": {},
     "output_type": "execute_result"
    }
   ],
   "source": [
    "df.adwordsClickInfoPage.value_counts()"
   ]
  },
  {
   "cell_type": "code",
   "execution_count": 131,
   "metadata": {},
   "outputs": [],
   "source": [
    "df.adwordsClickInfoPage.fillna(0, inplace=True)"
   ]
  },
  {
   "cell_type": "code",
   "execution_count": 132,
   "metadata": {},
   "outputs": [
    {
     "data": {
      "text/plain": [
       "0.0     882093\n",
       "1.0      21362\n",
       "2.0         73\n",
       "3.0         10\n",
       "5.0          7\n",
       "7.0          3\n",
       "4.0          2\n",
       "9.0          2\n",
       "14.0         1\n",
       "Name: adwordsClickInfoPage, dtype: int64"
      ]
     },
     "execution_count": 132,
     "metadata": {},
     "output_type": "execute_result"
    }
   ],
   "source": [
    "df.adwordsClickInfoPage.value_counts()"
   ]
  },
  {
   "cell_type": "code",
   "execution_count": 133,
   "metadata": {},
   "outputs": [
    {
     "data": {
      "text/plain": [
       "0"
      ]
     },
     "execution_count": 133,
     "metadata": {},
     "output_type": "execute_result"
    }
   ],
   "source": [
    "df.adwordsClickInfoPage.isnull().sum()"
   ]
  },
  {
   "cell_type": "markdown",
   "metadata": {},
   "source": [
    "#### adwordsClickInfoSlot"
   ]
  },
  {
   "cell_type": "markdown",
   "metadata": {},
   "source": [
    "The var **adwordsClickInfoSlot** tell us if the Adword was on the Top or the Right Column in the Google Search ad."
   ]
  },
  {
   "cell_type": "code",
   "execution_count": 134,
   "metadata": {},
   "outputs": [
    {
     "data": {
      "text/plain": [
       "882093"
      ]
     },
     "execution_count": 134,
     "metadata": {},
     "output_type": "execute_result"
    }
   ],
   "source": [
    "df.adwordsClickInfoSlot.isnull().sum()"
   ]
  },
  {
   "cell_type": "code",
   "execution_count": 135,
   "metadata": {},
   "outputs": [
    {
     "data": {
      "text/plain": [
       "array([nan, 'Top', 'RHS'], dtype=object)"
      ]
     },
     "execution_count": 135,
     "metadata": {},
     "output_type": "execute_result"
    }
   ],
   "source": [
    "df.adwordsClickInfoSlot.unique()"
   ]
  },
  {
   "cell_type": "code",
   "execution_count": 136,
   "metadata": {},
   "outputs": [
    {
     "data": {
      "text/html": [
       "<div>\n",
       "<style scoped>\n",
       "    .dataframe tbody tr th:only-of-type {\n",
       "        vertical-align: middle;\n",
       "    }\n",
       "\n",
       "    .dataframe tbody tr th {\n",
       "        vertical-align: top;\n",
       "    }\n",
       "\n",
       "    .dataframe thead th {\n",
       "        text-align: right;\n",
       "    }\n",
       "</style>\n",
       "<table border=\"1\" class=\"dataframe\">\n",
       "  <thead>\n",
       "    <tr style=\"text-align: right;\">\n",
       "      <th></th>\n",
       "      <th>adwordsClickAdNetworkType</th>\n",
       "      <th>adwordsClickInfoSlot</th>\n",
       "    </tr>\n",
       "  </thead>\n",
       "  <tbody>\n",
       "    <tr>\n",
       "      <th>102</th>\n",
       "      <td>Google Search</td>\n",
       "      <td>Top</td>\n",
       "    </tr>\n",
       "    <tr>\n",
       "      <th>271</th>\n",
       "      <td>Google Search</td>\n",
       "      <td>Top</td>\n",
       "    </tr>\n",
       "    <tr>\n",
       "      <th>295</th>\n",
       "      <td>Google Search</td>\n",
       "      <td>Top</td>\n",
       "    </tr>\n",
       "    <tr>\n",
       "      <th>305</th>\n",
       "      <td>Google Search</td>\n",
       "      <td>Top</td>\n",
       "    </tr>\n",
       "    <tr>\n",
       "      <th>400</th>\n",
       "      <td>Google Search</td>\n",
       "      <td>Top</td>\n",
       "    </tr>\n",
       "  </tbody>\n",
       "</table>\n",
       "</div>"
      ],
      "text/plain": [
       "    adwordsClickAdNetworkType adwordsClickInfoSlot\n",
       "102             Google Search                  Top\n",
       "271             Google Search                  Top\n",
       "295             Google Search                  Top\n",
       "305             Google Search                  Top\n",
       "400             Google Search                  Top"
      ]
     },
     "execution_count": 136,
     "metadata": {},
     "output_type": "execute_result"
    }
   ],
   "source": [
    "df[['adwordsClickAdNetworkType','adwordsClickInfoSlot']].loc[df['adwordsClickAdNetworkType'] != 'NoAdWords'].head()\n"
   ]
  },
  {
   "cell_type": "code",
   "execution_count": 137,
   "metadata": {},
   "outputs": [],
   "source": [
    "df.adwordsClickInfoSlot.fillna('NoAdwords', inplace=True)"
   ]
  },
  {
   "cell_type": "code",
   "execution_count": 138,
   "metadata": {},
   "outputs": [
    {
     "data": {
      "text/plain": [
       "0"
      ]
     },
     "execution_count": 138,
     "metadata": {},
     "output_type": "execute_result"
    }
   ],
   "source": [
    "df.adwordsClickInfoSlot.isnull().sum()"
   ]
  },
  {
   "cell_type": "markdown",
   "metadata": {},
   "source": [
    "#### trafficSourceCampaign"
   ]
  },
  {
   "cell_type": "markdown",
   "metadata": {},
   "source": [
    "The **trafficSourceCampaign** has many Nans that mean there was no campaign behind the visit. I change the Nans for NoCampaign."
   ]
  },
  {
   "cell_type": "code",
   "execution_count": 139,
   "metadata": {},
   "outputs": [
    {
     "data": {
      "text/plain": [
       "865249"
      ]
     },
     "execution_count": 139,
     "metadata": {},
     "output_type": "execute_result"
    }
   ],
   "source": [
    "df.trafficSourceCampaign.isnull().sum()"
   ]
  },
  {
   "cell_type": "code",
   "execution_count": 140,
   "metadata": {},
   "outputs": [
    {
     "data": {
      "text/plain": [
       "array([nan, 'AW - Dynamic Search Ads Whole Site', 'Data Share Promo',\n",
       "       'AW - Electronics', 'test-liyuhz', 'AW - Accessories',\n",
       "       'Retail (DO NOT EDIT owners nophakun and tianyu)', 'AW - Apparel',\n",
       "       'All Products', 'Data Share'], dtype=object)"
      ]
     },
     "execution_count": 140,
     "metadata": {},
     "output_type": "execute_result"
    }
   ],
   "source": [
    "df.trafficSourceCampaign.unique()"
   ]
  },
  {
   "cell_type": "code",
   "execution_count": 141,
   "metadata": {},
   "outputs": [
    {
     "data": {
      "text/plain": [
       "Data Share Promo                                   16401\n",
       "AW - Dynamic Search Ads Whole Site                 14244\n",
       "AW - Accessories                                    7070\n",
       "test-liyuhz                                          392\n",
       "AW - Electronics                                      96\n",
       "Retail (DO NOT EDIT owners nophakun and tianyu)       50\n",
       "AW - Apparel                                          46\n",
       "All Products                                           4\n",
       "Data Share                                             1\n",
       "Name: trafficSourceCampaign, dtype: int64"
      ]
     },
     "execution_count": 141,
     "metadata": {},
     "output_type": "execute_result"
    }
   ],
   "source": [
    "df.trafficSourceCampaign.value_counts()"
   ]
  },
  {
   "cell_type": "code",
   "execution_count": 142,
   "metadata": {},
   "outputs": [],
   "source": [
    "df.trafficSourceCampaign.fillna('NoCampaign', inplace=True)"
   ]
  },
  {
   "cell_type": "code",
   "execution_count": 143,
   "metadata": {},
   "outputs": [
    {
     "data": {
      "text/plain": [
       "NoCampaign                                         865249\n",
       "Data Share Promo                                    16401\n",
       "AW - Dynamic Search Ads Whole Site                  14244\n",
       "AW - Accessories                                     7070\n",
       "test-liyuhz                                           392\n",
       "AW - Electronics                                       96\n",
       "Retail (DO NOT EDIT owners nophakun and tianyu)        50\n",
       "AW - Apparel                                           46\n",
       "All Products                                            4\n",
       "Data Share                                              1\n",
       "Name: trafficSourceCampaign, dtype: int64"
      ]
     },
     "execution_count": 143,
     "metadata": {},
     "output_type": "execute_result"
    }
   ],
   "source": [
    "df.trafficSourceCampaign.value_counts()"
   ]
  },
  {
   "cell_type": "code",
   "execution_count": 144,
   "metadata": {},
   "outputs": [
    {
     "data": {
      "text/plain": [
       "0"
      ]
     },
     "execution_count": 144,
     "metadata": {},
     "output_type": "execute_result"
    }
   ],
   "source": [
    "df.trafficSourceCampaign.isnull().sum()"
   ]
  },
  {
   "cell_type": "markdown",
   "metadata": {},
   "source": [
    "#### trafficSourceIsTrueDirect"
   ]
  },
  {
   "cell_type": "markdown",
   "metadata": {},
   "source": [
    "The **trafficSourceIsTrueDirec** var is a boolean weather the visit is Direct or No. I change the Nan for a False."
   ]
  },
  {
   "cell_type": "code",
   "execution_count": 145,
   "metadata": {},
   "outputs": [
    {
     "data": {
      "text/plain": [
       "629636"
      ]
     },
     "execution_count": 145,
     "metadata": {},
     "output_type": "execute_result"
    }
   ],
   "source": [
    "df.trafficSourceIsTrueDirect.isnull().sum()"
   ]
  },
  {
   "cell_type": "code",
   "execution_count": 146,
   "metadata": {},
   "outputs": [
    {
     "data": {
      "text/plain": [
       "array([nan, True], dtype=object)"
      ]
     },
     "execution_count": 146,
     "metadata": {},
     "output_type": "execute_result"
    }
   ],
   "source": [
    "df.trafficSourceIsTrueDirect.unique()"
   ]
  },
  {
   "cell_type": "code",
   "execution_count": 147,
   "metadata": {},
   "outputs": [
    {
     "data": {
      "text/html": [
       "<div>\n",
       "<style scoped>\n",
       "    .dataframe tbody tr th:only-of-type {\n",
       "        vertical-align: middle;\n",
       "    }\n",
       "\n",
       "    .dataframe tbody tr th {\n",
       "        vertical-align: top;\n",
       "    }\n",
       "\n",
       "    .dataframe thead th {\n",
       "        text-align: right;\n",
       "    }\n",
       "</style>\n",
       "<table border=\"1\" class=\"dataframe\">\n",
       "  <thead>\n",
       "    <tr style=\"text-align: right;\">\n",
       "      <th></th>\n",
       "      <th>trafficSourceIsTrueDirect</th>\n",
       "      <th>channelGrouping</th>\n",
       "    </tr>\n",
       "  </thead>\n",
       "  <tbody>\n",
       "    <tr>\n",
       "      <th>139</th>\n",
       "      <td>True</td>\n",
       "      <td>Direct</td>\n",
       "    </tr>\n",
       "    <tr>\n",
       "      <th>147</th>\n",
       "      <td>True</td>\n",
       "      <td>Direct</td>\n",
       "    </tr>\n",
       "    <tr>\n",
       "      <th>185</th>\n",
       "      <td>True</td>\n",
       "      <td>Direct</td>\n",
       "    </tr>\n",
       "    <tr>\n",
       "      <th>297</th>\n",
       "      <td>True</td>\n",
       "      <td>Direct</td>\n",
       "    </tr>\n",
       "    <tr>\n",
       "      <th>332</th>\n",
       "      <td>True</td>\n",
       "      <td>Direct</td>\n",
       "    </tr>\n",
       "  </tbody>\n",
       "</table>\n",
       "</div>"
      ],
      "text/plain": [
       "    trafficSourceIsTrueDirect channelGrouping\n",
       "139                      True          Direct\n",
       "147                      True          Direct\n",
       "185                      True          Direct\n",
       "297                      True          Direct\n",
       "332                      True          Direct"
      ]
     },
     "execution_count": 147,
     "metadata": {},
     "output_type": "execute_result"
    }
   ],
   "source": [
    "df[['trafficSourceIsTrueDirect', 'channelGrouping']].loc[df['channelGrouping'] == 'Direct'].head()"
   ]
  },
  {
   "cell_type": "code",
   "execution_count": 148,
   "metadata": {},
   "outputs": [],
   "source": [
    "df.trafficSourceIsTrueDirect.fillna(False, inplace=True)"
   ]
  },
  {
   "cell_type": "code",
   "execution_count": 149,
   "metadata": {},
   "outputs": [
    {
     "data": {
      "text/plain": [
       "False    629636\n",
       "True     273917\n",
       "Name: trafficSourceIsTrueDirect, dtype: int64"
      ]
     },
     "execution_count": 149,
     "metadata": {},
     "output_type": "execute_result"
    }
   ],
   "source": [
    "df.trafficSourceIsTrueDirect.value_counts()"
   ]
  },
  {
   "cell_type": "code",
   "execution_count": 150,
   "metadata": {},
   "outputs": [
    {
     "data": {
      "text/plain": [
       "0"
      ]
     },
     "execution_count": 150,
     "metadata": {},
     "output_type": "execute_result"
    }
   ],
   "source": [
    "df.trafficSourceIsTrueDirect.isnull().sum()"
   ]
  },
  {
   "cell_type": "markdown",
   "metadata": {},
   "source": [
    "#### trafficSourceKeyword"
   ]
  },
  {
   "cell_type": "markdown",
   "metadata": {},
   "source": [
    "The **Source Keyword** has many nans that I will change for NoKeyword"
   ]
  },
  {
   "cell_type": "code",
   "execution_count": 151,
   "metadata": {},
   "outputs": [
    {
     "data": {
      "text/plain": [
       "869193"
      ]
     },
     "execution_count": 151,
     "metadata": {},
     "output_type": "execute_result"
    }
   ],
   "source": [
    "df.trafficSourceKeyword.isnull().sum()"
   ]
  },
  {
   "cell_type": "code",
   "execution_count": 152,
   "metadata": {},
   "outputs": [
    {
     "data": {
      "text/plain": [
       "array([nan, 'google + online', 'www google store', ...,\n",
       "       'www.google.com bag', 'Google store usar',\n",
       "       'google shirt buy online'], dtype=object)"
      ]
     },
     "execution_count": 152,
     "metadata": {},
     "output_type": "execute_result"
    }
   ],
   "source": [
    "df.trafficSourceKeyword.unique()"
   ]
  },
  {
   "cell_type": "code",
   "execution_count": 153,
   "metadata": {},
   "outputs": [
    {
     "data": {
      "text/plain": [
       "6qEhsCssdK0z36ri                   11503\n",
       "(Remarketing/Content targeting)     2297\n",
       "1hZbAqLCbjwfgOH7                    2264\n",
       "google merchandise store            2209\n",
       "Google Merchandise                  1648\n",
       "google store                        1277\n",
       "youtube                              568\n",
       "(User vertical targeting)            489\n",
       "1X4Me6ZKNV0zg-jV                     467\n",
       "(automatic matching)                 427\n",
       "Name: trafficSourceKeyword, dtype: int64"
      ]
     },
     "execution_count": 153,
     "metadata": {},
     "output_type": "execute_result"
    }
   ],
   "source": [
    "df.trafficSourceKeyword.value_counts().head(10)"
   ]
  },
  {
   "cell_type": "code",
   "execution_count": 154,
   "metadata": {},
   "outputs": [],
   "source": [
    "df.trafficSourceKeyword.fillna('NoKeyword', inplace=True)"
   ]
  },
  {
   "cell_type": "code",
   "execution_count": 155,
   "metadata": {},
   "outputs": [
    {
     "data": {
      "text/plain": [
       "NoKeyword                          869193\n",
       "6qEhsCssdK0z36ri                    11503\n",
       "(Remarketing/Content targeting)      2297\n",
       "1hZbAqLCbjwfgOH7                     2264\n",
       "google merchandise store             2209\n",
       "Google Merchandise                   1648\n",
       "google store                         1277\n",
       "youtube                               568\n",
       "(User vertical targeting)             489\n",
       "1X4Me6ZKNV0zg-jV                      467\n",
       "Name: trafficSourceKeyword, dtype: int64"
      ]
     },
     "execution_count": 155,
     "metadata": {},
     "output_type": "execute_result"
    }
   ],
   "source": [
    "df.trafficSourceKeyword.value_counts().head(10)"
   ]
  },
  {
   "cell_type": "code",
   "execution_count": 156,
   "metadata": {},
   "outputs": [
    {
     "data": {
      "text/plain": [
       "0"
      ]
     },
     "execution_count": 156,
     "metadata": {},
     "output_type": "execute_result"
    }
   ],
   "source": [
    "df.trafficSourceKeyword.isnull().sum()"
   ]
  },
  {
   "cell_type": "markdown",
   "metadata": {},
   "source": [
    "#### trafficSourceMedium"
   ]
  },
  {
   "cell_type": "markdown",
   "metadata": {},
   "source": [
    "The Nans of the **trafficSourceMedium** correcpond to the value \"other\" in channel Grouping. So I will replace the nan for the 'other' value"
   ]
  },
  {
   "cell_type": "code",
   "execution_count": 157,
   "metadata": {},
   "outputs": [
    {
     "data": {
      "text/plain": [
       "120"
      ]
     },
     "execution_count": 157,
     "metadata": {},
     "output_type": "execute_result"
    }
   ],
   "source": [
    "df.trafficSourceMedium.isnull().sum()"
   ]
  },
  {
   "cell_type": "code",
   "execution_count": 158,
   "metadata": {},
   "outputs": [
    {
     "data": {
      "text/plain": [
       "array(['organic', 'referral', 'cpc', 'affiliate', '(none)', 'cpm', nan],\n",
       "      dtype=object)"
      ]
     },
     "execution_count": 158,
     "metadata": {},
     "output_type": "execute_result"
    }
   ],
   "source": [
    "df.trafficSourceMedium.unique()"
   ]
  },
  {
   "cell_type": "code",
   "execution_count": 159,
   "metadata": {},
   "outputs": [
    {
     "data": {
      "text/plain": [
       "organic      381530\n",
       "referral     330913\n",
       "(none)       143002\n",
       "cpc           25325\n",
       "affiliate     16401\n",
       "cpm            6262\n",
       "Name: trafficSourceMedium, dtype: int64"
      ]
     },
     "execution_count": 159,
     "metadata": {},
     "output_type": "execute_result"
    }
   ],
   "source": [
    "df.trafficSourceMedium.value_counts()"
   ]
  },
  {
   "cell_type": "code",
   "execution_count": 160,
   "metadata": {},
   "outputs": [
    {
     "data": {
      "text/plain": [
       "120"
      ]
     },
     "execution_count": 160,
     "metadata": {},
     "output_type": "execute_result"
    }
   ],
   "source": [
    "df.loc[df.channelGrouping == 'Other'].count()[0]"
   ]
  },
  {
   "cell_type": "code",
   "execution_count": 161,
   "metadata": {},
   "outputs": [],
   "source": [
    "df.trafficSourceMedium.replace('(none)', 'none', inplace=True)"
   ]
  },
  {
   "cell_type": "code",
   "execution_count": 162,
   "metadata": {},
   "outputs": [],
   "source": [
    "df.trafficSourceMedium.fillna('other', inplace=True)"
   ]
  },
  {
   "cell_type": "code",
   "execution_count": 163,
   "metadata": {},
   "outputs": [
    {
     "data": {
      "text/plain": [
       "organic      381530\n",
       "referral     330913\n",
       "none         143002\n",
       "cpc           25325\n",
       "affiliate     16401\n",
       "cpm            6262\n",
       "other           120\n",
       "Name: trafficSourceMedium, dtype: int64"
      ]
     },
     "execution_count": 163,
     "metadata": {},
     "output_type": "execute_result"
    }
   ],
   "source": [
    "df.trafficSourceMedium.value_counts()"
   ]
  },
  {
   "cell_type": "code",
   "execution_count": 164,
   "metadata": {},
   "outputs": [
    {
     "data": {
      "text/plain": [
       "0"
      ]
     },
     "execution_count": 164,
     "metadata": {},
     "output_type": "execute_result"
    }
   ],
   "source": [
    "df.trafficSourceMedium.isnull().sum()"
   ]
  },
  {
   "cell_type": "markdown",
   "metadata": {},
   "source": [
    "#### trafficSourceReferralPath"
   ]
  },
  {
   "cell_type": "markdown",
   "metadata": {},
   "source": [
    "The **trafficSourceReferralPath** nans are for visits that do not come from a Referral visit. I change the nans for 'NoReferral' label."
   ]
  },
  {
   "cell_type": "code",
   "execution_count": 165,
   "metadata": {},
   "outputs": [
    {
     "data": {
      "text/plain": [
       "572654"
      ]
     },
     "execution_count": 165,
     "metadata": {},
     "output_type": "execute_result"
    }
   ],
   "source": [
    "df.trafficSourceReferralPath.isnull().sum()"
   ]
  },
  {
   "cell_type": "code",
   "execution_count": 166,
   "metadata": {},
   "outputs": [
    {
     "data": {
      "text/plain": [
       "array([nan, '/', '/corp/google.com/study/incentives/working-with-perks',\n",
       "       ..., '/BB1QfReObs', '/mail/mu/mp/118/', '/mail/mu/mp/509/'],\n",
       "      dtype=object)"
      ]
     },
     "execution_count": 166,
     "metadata": {},
     "output_type": "execute_result"
    }
   ],
   "source": [
    "df.trafficSourceReferralPath.unique()"
   ]
  },
  {
   "cell_type": "code",
   "execution_count": 167,
   "metadata": {},
   "outputs": [
    {
     "data": {
      "text/plain": [
       "/                    75502\n",
       "/yt/about/           71029\n",
       "/analytics/web/      14618\n",
       "/yt/about/tr/        14599\n",
       "/yt/about/vi/        13753\n",
       "/yt/about/es-419/    12734\n",
       "/yt/about/pt-BR/     12003\n",
       "/yt/about/th/        11430\n",
       "/yt/about/ru/        11193\n",
       "/yt/about/es/         7090\n",
       "Name: trafficSourceReferralPath, dtype: int64"
      ]
     },
     "execution_count": 167,
     "metadata": {},
     "output_type": "execute_result"
    }
   ],
   "source": [
    "df.trafficSourceReferralPath.value_counts().head(10)"
   ]
  },
  {
   "cell_type": "code",
   "execution_count": 168,
   "metadata": {},
   "outputs": [],
   "source": [
    "df.trafficSourceReferralPath.fillna('NoReferral', inplace=True)"
   ]
  },
  {
   "cell_type": "code",
   "execution_count": 169,
   "metadata": {},
   "outputs": [
    {
     "data": {
      "text/plain": [
       "NoReferral           572654\n",
       "/                     75502\n",
       "/yt/about/            71029\n",
       "/analytics/web/       14618\n",
       "/yt/about/tr/         14599\n",
       "/yt/about/vi/         13753\n",
       "/yt/about/es-419/     12734\n",
       "/yt/about/pt-BR/      12003\n",
       "/yt/about/th/         11430\n",
       "/yt/about/ru/         11193\n",
       "Name: trafficSourceReferralPath, dtype: int64"
      ]
     },
     "execution_count": 169,
     "metadata": {},
     "output_type": "execute_result"
    }
   ],
   "source": [
    "df.trafficSourceReferralPath.value_counts().head(10)"
   ]
  },
  {
   "cell_type": "code",
   "execution_count": 170,
   "metadata": {},
   "outputs": [
    {
     "data": {
      "text/plain": [
       "0"
      ]
     },
     "execution_count": 170,
     "metadata": {},
     "output_type": "execute_result"
    }
   ],
   "source": [
    "df.trafficSourceReferralPath.isnull().sum()"
   ]
  },
  {
   "cell_type": "markdown",
   "metadata": {},
   "source": [
    "#### trafficSourceSource"
   ]
  },
  {
   "cell_type": "markdown",
   "metadata": {},
   "source": [
    "The **trafficSourceSource** Nans means the source is unknown, so I change the values for 'Unknowns'."
   ]
  },
  {
   "cell_type": "code",
   "execution_count": 171,
   "metadata": {},
   "outputs": [
    {
     "data": {
      "text/plain": [
       "69"
      ]
     },
     "execution_count": 171,
     "metadata": {},
     "output_type": "execute_result"
    }
   ],
   "source": [
    "df.trafficSourceSource.isnull().sum()"
   ]
  },
  {
   "cell_type": "code",
   "execution_count": 172,
   "metadata": {},
   "outputs": [
    {
     "data": {
      "text/plain": [
       "array(['google', 'baidu', 'googleweblight.com', 'sites.google.com',\n",
       "       'bing', 'siliconvalley.about.com', 'analytics.google.com',\n",
       "       'Partners', '(direct)', 'mall.googleplex.com'], dtype=object)"
      ]
     },
     "execution_count": 172,
     "metadata": {},
     "output_type": "execute_result"
    }
   ],
   "source": [
    "df.trafficSourceSource.unique()[0:10]"
   ]
  },
  {
   "cell_type": "code",
   "execution_count": 173,
   "metadata": {},
   "outputs": [
    {
     "data": {
      "text/plain": [
       "google                 400756\n",
       "youtube.com            212589\n",
       "(direct)               143004\n",
       "mall.googleplex.com     66397\n",
       "Partners                16409\n",
       "Name: trafficSourceSource, dtype: int64"
      ]
     },
     "execution_count": 173,
     "metadata": {},
     "output_type": "execute_result"
    }
   ],
   "source": [
    "df.trafficSourceSource.value_counts().head()"
   ]
  },
  {
   "cell_type": "code",
   "execution_count": 174,
   "metadata": {},
   "outputs": [],
   "source": [
    "df.trafficSourceSource.replace('(direct)', 'direct', inplace=True)"
   ]
  },
  {
   "cell_type": "code",
   "execution_count": 175,
   "metadata": {},
   "outputs": [],
   "source": [
    "df.trafficSourceSource.fillna('Unknown', inplace=True)"
   ]
  },
  {
   "cell_type": "code",
   "execution_count": 176,
   "metadata": {},
   "outputs": [
    {
     "data": {
      "text/plain": [
       "google                 400756\n",
       "youtube.com            212589\n",
       "direct                 143004\n",
       "mall.googleplex.com     66397\n",
       "Partners                16409\n",
       "Name: trafficSourceSource, dtype: int64"
      ]
     },
     "execution_count": 176,
     "metadata": {},
     "output_type": "execute_result"
    }
   ],
   "source": [
    "df.trafficSourceSource.value_counts().head()"
   ]
  },
  {
   "cell_type": "code",
   "execution_count": 177,
   "metadata": {},
   "outputs": [
    {
     "data": {
      "text/plain": [
       "0"
      ]
     },
     "execution_count": 177,
     "metadata": {},
     "output_type": "execute_result"
    }
   ],
   "source": [
    "df.trafficSourceSource.isnull().sum()"
   ]
  },
  {
   "cell_type": "markdown",
   "metadata": {},
   "source": [
    "#### totalsTransactionRevenue (TARGET)"
   ]
  },
  {
   "cell_type": "markdown",
   "metadata": {},
   "source": [
    "The **totalsTransactionRevenue** Nans mean the visit hasn't had a purchase. I change the Nans to a 0 value. The value of this var is the log of the amount in $."
   ]
  },
  {
   "cell_type": "code",
   "execution_count": 178,
   "metadata": {},
   "outputs": [
    {
     "data": {
      "text/plain": [
       "892038"
      ]
     },
     "execution_count": 178,
     "metadata": {},
     "output_type": "execute_result"
    }
   ],
   "source": [
    "df.totalsTransactionRevenue.isnull().sum()"
   ]
  },
  {
   "cell_type": "code",
   "execution_count": 179,
   "metadata": {},
   "outputs": [
    {
     "data": {
      "text/plain": [
       "array([       nan, 3.7860e+07, 3.0667e+08, ..., 3.3526e+08, 3.0750e+07,\n",
       "       6.9390e+07])"
      ]
     },
     "execution_count": 179,
     "metadata": {},
     "output_type": "execute_result"
    }
   ],
   "source": [
    "df.totalsTransactionRevenue.unique()"
   ]
  },
  {
   "cell_type": "code",
   "execution_count": 180,
   "metadata": {},
   "outputs": [
    {
     "data": {
      "text/plain": [
       "16990000.0    256\n",
       "18990000.0    189\n",
       "33590000.0    187\n",
       "44790000.0    170\n",
       "13590000.0    135\n",
       "Name: totalsTransactionRevenue, dtype: int64"
      ]
     },
     "execution_count": 180,
     "metadata": {},
     "output_type": "execute_result"
    }
   ],
   "source": [
    "df.totalsTransactionRevenue.value_counts().head()"
   ]
  },
  {
   "cell_type": "code",
   "execution_count": 181,
   "metadata": {},
   "outputs": [],
   "source": [
    "df.totalsTransactionRevenue.fillna(0, inplace=True)"
   ]
  },
  {
   "cell_type": "code",
   "execution_count": 182,
   "metadata": {},
   "outputs": [
    {
     "data": {
      "text/plain": [
       "0.0           892038\n",
       "16990000.0       256\n",
       "18990000.0       189\n",
       "33590000.0       187\n",
       "44790000.0       170\n",
       "Name: totalsTransactionRevenue, dtype: int64"
      ]
     },
     "execution_count": 182,
     "metadata": {},
     "output_type": "execute_result"
    }
   ],
   "source": [
    "df.totalsTransactionRevenue.value_counts().head()"
   ]
  },
  {
   "cell_type": "code",
   "execution_count": 183,
   "metadata": {},
   "outputs": [
    {
     "data": {
      "text/plain": [
       "0"
      ]
     },
     "execution_count": 183,
     "metadata": {},
     "output_type": "execute_result"
    }
   ],
   "source": [
    "df.totalsTransactionRevenue.isnull().sum()"
   ]
  },
  {
   "cell_type": "markdown",
   "metadata": {},
   "source": [
    "**Move the target to the end of the dataframe**"
   ]
  },
  {
   "cell_type": "code",
   "execution_count": 184,
   "metadata": {},
   "outputs": [
    {
     "data": {
      "text/plain": [
       "Index(['channelGrouping', 'date', 'fullVisitorId', 'visitNumber',\n",
       "       'visitStartTime', 'deviceBrowser', 'deviceCategory', 'deviceIsMobile',\n",
       "       'deviceOS', 'geoCity', 'geoContinent', 'geoCountry', 'geoMetro',\n",
       "       'geoDomain', 'geoRegion', 'geoSubContinent', 'totalsBounces',\n",
       "       'totalsHits', 'totalsNewVisits', 'totalsPageviews',\n",
       "       'totalsTransactionRevenue', 'trafficSourceAdContent',\n",
       "       'adwordsClickAdNetworkType', 'adwordsClickGclId',\n",
       "       'adwordsClickInfoPage', 'adwordsClickInfoSlot', 'trafficSourceCampaign',\n",
       "       'trafficSourceIsTrueDirect', 'trafficSourceKeyword',\n",
       "       'trafficSourceMedium', 'trafficSourceReferralPath',\n",
       "       'trafficSourceSource'],\n",
       "      dtype='object')"
      ]
     },
     "execution_count": 184,
     "metadata": {},
     "output_type": "execute_result"
    }
   ],
   "source": [
    "df.columns"
   ]
  },
  {
   "cell_type": "code",
   "execution_count": 185,
   "metadata": {},
   "outputs": [],
   "source": [
    "df = df[['channelGrouping', 'date', 'fullVisitorId', 'visitNumber',\n",
    "       'visitStartTime', 'deviceBrowser', 'deviceCategory', 'deviceIsMobile',\n",
    "       'deviceOS', 'geoCity', 'geoContinent', 'geoCountry', 'geoMetro',\n",
    "       'geoDomain', 'geoRegion', 'geoSubContinent', 'totalsBounces',\n",
    "       'totalsHits', 'totalsNewVisits', 'totalsPageviews','trafficSourceAdContent',\n",
    "       'adwordsClickAdNetworkType', 'adwordsClickGclId',\n",
    "       'adwordsClickInfoPage', 'adwordsClickInfoSlot', 'trafficSourceCampaign',\n",
    "       'trafficSourceIsTrueDirect', 'trafficSourceKeyword',\n",
    "       'trafficSourceMedium', 'trafficSourceReferralPath',\n",
    "       'trafficSourceSource','totalsTransactionRevenue']]"
   ]
  },
  {
   "cell_type": "markdown",
   "metadata": {},
   "source": [
    "### Describe "
   ]
  },
  {
   "cell_type": "code",
   "execution_count": 186,
   "metadata": {},
   "outputs": [
    {
     "data": {
      "text/plain": [
       "(903553, 32)"
      ]
     },
     "execution_count": 186,
     "metadata": {},
     "output_type": "execute_result"
    }
   ],
   "source": [
    "df.shape"
   ]
  },
  {
   "cell_type": "code",
   "execution_count": 187,
   "metadata": {},
   "outputs": [
    {
     "data": {
      "text/html": [
       "<div>\n",
       "<style scoped>\n",
       "    .dataframe tbody tr th:only-of-type {\n",
       "        vertical-align: middle;\n",
       "    }\n",
       "\n",
       "    .dataframe tbody tr th {\n",
       "        vertical-align: top;\n",
       "    }\n",
       "\n",
       "    .dataframe thead th {\n",
       "        text-align: right;\n",
       "    }\n",
       "</style>\n",
       "<table border=\"1\" class=\"dataframe\">\n",
       "  <thead>\n",
       "    <tr style=\"text-align: right;\">\n",
       "      <th></th>\n",
       "      <th>channelGrouping</th>\n",
       "      <th>date</th>\n",
       "      <th>fullVisitorId</th>\n",
       "      <th>visitNumber</th>\n",
       "      <th>visitStartTime</th>\n",
       "      <th>deviceBrowser</th>\n",
       "      <th>deviceCategory</th>\n",
       "      <th>deviceIsMobile</th>\n",
       "      <th>deviceOS</th>\n",
       "      <th>geoCity</th>\n",
       "      <th>geoContinent</th>\n",
       "      <th>geoCountry</th>\n",
       "      <th>geoMetro</th>\n",
       "      <th>geoDomain</th>\n",
       "      <th>geoRegion</th>\n",
       "      <th>geoSubContinent</th>\n",
       "      <th>totalsBounces</th>\n",
       "      <th>totalsHits</th>\n",
       "      <th>totalsNewVisits</th>\n",
       "      <th>totalsPageviews</th>\n",
       "      <th>trafficSourceAdContent</th>\n",
       "      <th>adwordsClickAdNetworkType</th>\n",
       "      <th>adwordsClickGclId</th>\n",
       "      <th>adwordsClickInfoPage</th>\n",
       "      <th>adwordsClickInfoSlot</th>\n",
       "      <th>trafficSourceCampaign</th>\n",
       "      <th>trafficSourceIsTrueDirect</th>\n",
       "      <th>trafficSourceKeyword</th>\n",
       "      <th>trafficSourceMedium</th>\n",
       "      <th>trafficSourceReferralPath</th>\n",
       "      <th>trafficSourceSource</th>\n",
       "      <th>totalsTransactionRevenue</th>\n",
       "    </tr>\n",
       "  </thead>\n",
       "  <tbody>\n",
       "    <tr>\n",
       "      <th>0</th>\n",
       "      <td>Organic Search</td>\n",
       "      <td>2016-09-02</td>\n",
       "      <td>1131660440785968503</td>\n",
       "      <td>1</td>\n",
       "      <td>1472830385</td>\n",
       "      <td>Chrome</td>\n",
       "      <td>desktop</td>\n",
       "      <td>False</td>\n",
       "      <td>Windows</td>\n",
       "      <td>Izmir</td>\n",
       "      <td>Asia</td>\n",
       "      <td>Turkey</td>\n",
       "      <td>Unknown</td>\n",
       "      <td>ttnet.com.tr</td>\n",
       "      <td>Izmir</td>\n",
       "      <td>Western Asia</td>\n",
       "      <td>1.0</td>\n",
       "      <td>1</td>\n",
       "      <td>1.0</td>\n",
       "      <td>1.0</td>\n",
       "      <td>NoAd</td>\n",
       "      <td>NoAdWords</td>\n",
       "      <td>0</td>\n",
       "      <td>0.0</td>\n",
       "      <td>NoAdwords</td>\n",
       "      <td>NoCampaign</td>\n",
       "      <td>False</td>\n",
       "      <td>NoKeyword</td>\n",
       "      <td>organic</td>\n",
       "      <td>NoReferral</td>\n",
       "      <td>google</td>\n",
       "      <td>0.0</td>\n",
       "    </tr>\n",
       "    <tr>\n",
       "      <th>1</th>\n",
       "      <td>Organic Search</td>\n",
       "      <td>2016-09-02</td>\n",
       "      <td>377306020877927890</td>\n",
       "      <td>1</td>\n",
       "      <td>1472880147</td>\n",
       "      <td>Firefox</td>\n",
       "      <td>desktop</td>\n",
       "      <td>False</td>\n",
       "      <td>Macintosh</td>\n",
       "      <td>Unknown</td>\n",
       "      <td>Oceania</td>\n",
       "      <td>Australia</td>\n",
       "      <td>Unknown</td>\n",
       "      <td>dodo.net.au</td>\n",
       "      <td>Unknown</td>\n",
       "      <td>Australasia</td>\n",
       "      <td>1.0</td>\n",
       "      <td>1</td>\n",
       "      <td>1.0</td>\n",
       "      <td>1.0</td>\n",
       "      <td>NoAd</td>\n",
       "      <td>NoAdWords</td>\n",
       "      <td>0</td>\n",
       "      <td>0.0</td>\n",
       "      <td>NoAdwords</td>\n",
       "      <td>NoCampaign</td>\n",
       "      <td>False</td>\n",
       "      <td>NoKeyword</td>\n",
       "      <td>organic</td>\n",
       "      <td>NoReferral</td>\n",
       "      <td>google</td>\n",
       "      <td>0.0</td>\n",
       "    </tr>\n",
       "    <tr>\n",
       "      <th>2</th>\n",
       "      <td>Organic Search</td>\n",
       "      <td>2016-09-02</td>\n",
       "      <td>3895546263509774583</td>\n",
       "      <td>1</td>\n",
       "      <td>1472865386</td>\n",
       "      <td>Chrome</td>\n",
       "      <td>desktop</td>\n",
       "      <td>False</td>\n",
       "      <td>Windows</td>\n",
       "      <td>Madrid</td>\n",
       "      <td>Europe</td>\n",
       "      <td>Spain</td>\n",
       "      <td>Unknown</td>\n",
       "      <td>Unknown</td>\n",
       "      <td>Community of Madrid</td>\n",
       "      <td>Southern Europe</td>\n",
       "      <td>1.0</td>\n",
       "      <td>1</td>\n",
       "      <td>1.0</td>\n",
       "      <td>1.0</td>\n",
       "      <td>NoAd</td>\n",
       "      <td>NoAdWords</td>\n",
       "      <td>0</td>\n",
       "      <td>0.0</td>\n",
       "      <td>NoAdwords</td>\n",
       "      <td>NoCampaign</td>\n",
       "      <td>False</td>\n",
       "      <td>NoKeyword</td>\n",
       "      <td>organic</td>\n",
       "      <td>NoReferral</td>\n",
       "      <td>google</td>\n",
       "      <td>0.0</td>\n",
       "    </tr>\n",
       "    <tr>\n",
       "      <th>3</th>\n",
       "      <td>Organic Search</td>\n",
       "      <td>2016-09-02</td>\n",
       "      <td>4763447161404445595</td>\n",
       "      <td>1</td>\n",
       "      <td>1472881213</td>\n",
       "      <td>UC Browser</td>\n",
       "      <td>desktop</td>\n",
       "      <td>False</td>\n",
       "      <td>Linux</td>\n",
       "      <td>Unknown</td>\n",
       "      <td>Asia</td>\n",
       "      <td>Indonesia</td>\n",
       "      <td>Unknown</td>\n",
       "      <td>Unknown</td>\n",
       "      <td>Unknown</td>\n",
       "      <td>Southeast Asia</td>\n",
       "      <td>1.0</td>\n",
       "      <td>1</td>\n",
       "      <td>1.0</td>\n",
       "      <td>1.0</td>\n",
       "      <td>NoAd</td>\n",
       "      <td>NoAdWords</td>\n",
       "      <td>0</td>\n",
       "      <td>0.0</td>\n",
       "      <td>NoAdwords</td>\n",
       "      <td>NoCampaign</td>\n",
       "      <td>False</td>\n",
       "      <td>google + online</td>\n",
       "      <td>organic</td>\n",
       "      <td>NoReferral</td>\n",
       "      <td>google</td>\n",
       "      <td>0.0</td>\n",
       "    </tr>\n",
       "    <tr>\n",
       "      <th>4</th>\n",
       "      <td>Organic Search</td>\n",
       "      <td>2016-09-02</td>\n",
       "      <td>27294437909732085</td>\n",
       "      <td>2</td>\n",
       "      <td>1472822600</td>\n",
       "      <td>Chrome</td>\n",
       "      <td>mobile</td>\n",
       "      <td>True</td>\n",
       "      <td>Android</td>\n",
       "      <td>Unknown</td>\n",
       "      <td>Europe</td>\n",
       "      <td>United Kingdom</td>\n",
       "      <td>Unknown</td>\n",
       "      <td>Unknown</td>\n",
       "      <td>Unknown</td>\n",
       "      <td>Northern Europe</td>\n",
       "      <td>1.0</td>\n",
       "      <td>1</td>\n",
       "      <td>0.0</td>\n",
       "      <td>1.0</td>\n",
       "      <td>NoAd</td>\n",
       "      <td>NoAdWords</td>\n",
       "      <td>0</td>\n",
       "      <td>0.0</td>\n",
       "      <td>NoAdwords</td>\n",
       "      <td>NoCampaign</td>\n",
       "      <td>True</td>\n",
       "      <td>NoKeyword</td>\n",
       "      <td>organic</td>\n",
       "      <td>NoReferral</td>\n",
       "      <td>google</td>\n",
       "      <td>0.0</td>\n",
       "    </tr>\n",
       "  </tbody>\n",
       "</table>\n",
       "</div>"
      ],
      "text/plain": [
       "  channelGrouping        date        fullVisitorId  visitNumber  \\\n",
       "0  Organic Search  2016-09-02  1131660440785968503            1   \n",
       "1  Organic Search  2016-09-02   377306020877927890            1   \n",
       "2  Organic Search  2016-09-02  3895546263509774583            1   \n",
       "3  Organic Search  2016-09-02  4763447161404445595            1   \n",
       "4  Organic Search  2016-09-02    27294437909732085            2   \n",
       "\n",
       "   visitStartTime deviceBrowser deviceCategory  deviceIsMobile   deviceOS  \\\n",
       "0      1472830385        Chrome        desktop           False    Windows   \n",
       "1      1472880147       Firefox        desktop           False  Macintosh   \n",
       "2      1472865386        Chrome        desktop           False    Windows   \n",
       "3      1472881213    UC Browser        desktop           False      Linux   \n",
       "4      1472822600        Chrome         mobile            True    Android   \n",
       "\n",
       "   geoCity geoContinent      geoCountry geoMetro     geoDomain  \\\n",
       "0    Izmir         Asia          Turkey  Unknown  ttnet.com.tr   \n",
       "1  Unknown      Oceania       Australia  Unknown   dodo.net.au   \n",
       "2   Madrid       Europe           Spain  Unknown       Unknown   \n",
       "3  Unknown         Asia       Indonesia  Unknown       Unknown   \n",
       "4  Unknown       Europe  United Kingdom  Unknown       Unknown   \n",
       "\n",
       "             geoRegion  geoSubContinent  totalsBounces  totalsHits  \\\n",
       "0                Izmir     Western Asia            1.0           1   \n",
       "1              Unknown      Australasia            1.0           1   \n",
       "2  Community of Madrid  Southern Europe            1.0           1   \n",
       "3              Unknown   Southeast Asia            1.0           1   \n",
       "4              Unknown  Northern Europe            1.0           1   \n",
       "\n",
       "   totalsNewVisits  totalsPageviews trafficSourceAdContent  \\\n",
       "0              1.0              1.0                   NoAd   \n",
       "1              1.0              1.0                   NoAd   \n",
       "2              1.0              1.0                   NoAd   \n",
       "3              1.0              1.0                   NoAd   \n",
       "4              0.0              1.0                   NoAd   \n",
       "\n",
       "  adwordsClickAdNetworkType  adwordsClickGclId  adwordsClickInfoPage  \\\n",
       "0                 NoAdWords                  0                   0.0   \n",
       "1                 NoAdWords                  0                   0.0   \n",
       "2                 NoAdWords                  0                   0.0   \n",
       "3                 NoAdWords                  0                   0.0   \n",
       "4                 NoAdWords                  0                   0.0   \n",
       "\n",
       "  adwordsClickInfoSlot trafficSourceCampaign  trafficSourceIsTrueDirect  \\\n",
       "0            NoAdwords            NoCampaign                      False   \n",
       "1            NoAdwords            NoCampaign                      False   \n",
       "2            NoAdwords            NoCampaign                      False   \n",
       "3            NoAdwords            NoCampaign                      False   \n",
       "4            NoAdwords            NoCampaign                       True   \n",
       "\n",
       "  trafficSourceKeyword trafficSourceMedium trafficSourceReferralPath  \\\n",
       "0            NoKeyword             organic                NoReferral   \n",
       "1            NoKeyword             organic                NoReferral   \n",
       "2            NoKeyword             organic                NoReferral   \n",
       "3      google + online             organic                NoReferral   \n",
       "4            NoKeyword             organic                NoReferral   \n",
       "\n",
       "  trafficSourceSource  totalsTransactionRevenue  \n",
       "0              google                       0.0  \n",
       "1              google                       0.0  \n",
       "2              google                       0.0  \n",
       "3              google                       0.0  \n",
       "4              google                       0.0  "
      ]
     },
     "execution_count": 187,
     "metadata": {},
     "output_type": "execute_result"
    }
   ],
   "source": [
    "df.head()"
   ]
  },
  {
   "cell_type": "code",
   "execution_count": 188,
   "metadata": {},
   "outputs": [
    {
     "data": {
      "text/html": [
       "<div>\n",
       "<style scoped>\n",
       "    .dataframe tbody tr th:only-of-type {\n",
       "        vertical-align: middle;\n",
       "    }\n",
       "\n",
       "    .dataframe tbody tr th {\n",
       "        vertical-align: top;\n",
       "    }\n",
       "\n",
       "    .dataframe thead th {\n",
       "        text-align: right;\n",
       "    }\n",
       "</style>\n",
       "<table border=\"1\" class=\"dataframe\">\n",
       "  <thead>\n",
       "    <tr style=\"text-align: right;\">\n",
       "      <th></th>\n",
       "      <th>count</th>\n",
       "      <th>mean</th>\n",
       "      <th>std</th>\n",
       "      <th>min</th>\n",
       "      <th>25%</th>\n",
       "      <th>50%</th>\n",
       "      <th>75%</th>\n",
       "      <th>max</th>\n",
       "    </tr>\n",
       "  </thead>\n",
       "  <tbody>\n",
       "    <tr>\n",
       "      <th>visitNumber</th>\n",
       "      <td>903553.0</td>\n",
       "      <td>2.264532e+00</td>\n",
       "      <td>9.282528e+00</td>\n",
       "      <td>1.000000e+00</td>\n",
       "      <td>1.000000e+00</td>\n",
       "      <td>1.000000e+00</td>\n",
       "      <td>1.000000e+00</td>\n",
       "      <td>3.950000e+02</td>\n",
       "    </tr>\n",
       "    <tr>\n",
       "      <th>visitStartTime</th>\n",
       "      <td>903553.0</td>\n",
       "      <td>1.485007e+09</td>\n",
       "      <td>9.021954e+06</td>\n",
       "      <td>1.470035e+09</td>\n",
       "      <td>1.477561e+09</td>\n",
       "      <td>1.483949e+09</td>\n",
       "      <td>1.492758e+09</td>\n",
       "      <td>1.501657e+09</td>\n",
       "    </tr>\n",
       "    <tr>\n",
       "      <th>totalsBounces</th>\n",
       "      <td>903553.0</td>\n",
       "      <td>4.987311e-01</td>\n",
       "      <td>4.999987e-01</td>\n",
       "      <td>0.000000e+00</td>\n",
       "      <td>0.000000e+00</td>\n",
       "      <td>0.000000e+00</td>\n",
       "      <td>1.000000e+00</td>\n",
       "      <td>1.000000e+00</td>\n",
       "    </tr>\n",
       "    <tr>\n",
       "      <th>totalsHits</th>\n",
       "      <td>903553.0</td>\n",
       "      <td>4.596866e+00</td>\n",
       "      <td>9.641905e+00</td>\n",
       "      <td>1.000000e+00</td>\n",
       "      <td>1.000000e+00</td>\n",
       "      <td>2.000000e+00</td>\n",
       "      <td>4.000000e+00</td>\n",
       "      <td>5.000000e+02</td>\n",
       "    </tr>\n",
       "    <tr>\n",
       "      <th>totalsNewVisits</th>\n",
       "      <td>903553.0</td>\n",
       "      <td>7.780894e-01</td>\n",
       "      <td>4.155316e-01</td>\n",
       "      <td>0.000000e+00</td>\n",
       "      <td>1.000000e+00</td>\n",
       "      <td>1.000000e+00</td>\n",
       "      <td>1.000000e+00</td>\n",
       "      <td>1.000000e+00</td>\n",
       "    </tr>\n",
       "    <tr>\n",
       "      <th>totalsPageviews</th>\n",
       "      <td>903553.0</td>\n",
       "      <td>3.849764e+00</td>\n",
       "      <td>7.025274e+00</td>\n",
       "      <td>1.000000e+00</td>\n",
       "      <td>1.000000e+00</td>\n",
       "      <td>1.000000e+00</td>\n",
       "      <td>4.000000e+00</td>\n",
       "      <td>4.690000e+02</td>\n",
       "    </tr>\n",
       "    <tr>\n",
       "      <th>adwordsClickGclId</th>\n",
       "      <td>903553.0</td>\n",
       "      <td>2.386246e-02</td>\n",
       "      <td>1.526207e-01</td>\n",
       "      <td>0.000000e+00</td>\n",
       "      <td>0.000000e+00</td>\n",
       "      <td>0.000000e+00</td>\n",
       "      <td>0.000000e+00</td>\n",
       "      <td>1.000000e+00</td>\n",
       "    </tr>\n",
       "    <tr>\n",
       "      <th>adwordsClickInfoPage</th>\n",
       "      <td>903553.0</td>\n",
       "      <td>2.394326e-02</td>\n",
       "      <td>1.558196e-01</td>\n",
       "      <td>0.000000e+00</td>\n",
       "      <td>0.000000e+00</td>\n",
       "      <td>0.000000e+00</td>\n",
       "      <td>0.000000e+00</td>\n",
       "      <td>1.400000e+01</td>\n",
       "    </tr>\n",
       "    <tr>\n",
       "      <th>totalsTransactionRevenue</th>\n",
       "      <td>903553.0</td>\n",
       "      <td>1.704461e+06</td>\n",
       "      <td>5.278158e+07</td>\n",
       "      <td>0.000000e+00</td>\n",
       "      <td>0.000000e+00</td>\n",
       "      <td>0.000000e+00</td>\n",
       "      <td>0.000000e+00</td>\n",
       "      <td>2.312950e+10</td>\n",
       "    </tr>\n",
       "  </tbody>\n",
       "</table>\n",
       "</div>"
      ],
      "text/plain": [
       "                             count          mean           std           min  \\\n",
       "visitNumber               903553.0  2.264532e+00  9.282528e+00  1.000000e+00   \n",
       "visitStartTime            903553.0  1.485007e+09  9.021954e+06  1.470035e+09   \n",
       "totalsBounces             903553.0  4.987311e-01  4.999987e-01  0.000000e+00   \n",
       "totalsHits                903553.0  4.596866e+00  9.641905e+00  1.000000e+00   \n",
       "totalsNewVisits           903553.0  7.780894e-01  4.155316e-01  0.000000e+00   \n",
       "totalsPageviews           903553.0  3.849764e+00  7.025274e+00  1.000000e+00   \n",
       "adwordsClickGclId         903553.0  2.386246e-02  1.526207e-01  0.000000e+00   \n",
       "adwordsClickInfoPage      903553.0  2.394326e-02  1.558196e-01  0.000000e+00   \n",
       "totalsTransactionRevenue  903553.0  1.704461e+06  5.278158e+07  0.000000e+00   \n",
       "\n",
       "                                   25%           50%           75%  \\\n",
       "visitNumber               1.000000e+00  1.000000e+00  1.000000e+00   \n",
       "visitStartTime            1.477561e+09  1.483949e+09  1.492758e+09   \n",
       "totalsBounces             0.000000e+00  0.000000e+00  1.000000e+00   \n",
       "totalsHits                1.000000e+00  2.000000e+00  4.000000e+00   \n",
       "totalsNewVisits           1.000000e+00  1.000000e+00  1.000000e+00   \n",
       "totalsPageviews           1.000000e+00  1.000000e+00  4.000000e+00   \n",
       "adwordsClickGclId         0.000000e+00  0.000000e+00  0.000000e+00   \n",
       "adwordsClickInfoPage      0.000000e+00  0.000000e+00  0.000000e+00   \n",
       "totalsTransactionRevenue  0.000000e+00  0.000000e+00  0.000000e+00   \n",
       "\n",
       "                                   max  \n",
       "visitNumber               3.950000e+02  \n",
       "visitStartTime            1.501657e+09  \n",
       "totalsBounces             1.000000e+00  \n",
       "totalsHits                5.000000e+02  \n",
       "totalsNewVisits           1.000000e+00  \n",
       "totalsPageviews           4.690000e+02  \n",
       "adwordsClickGclId         1.000000e+00  \n",
       "adwordsClickInfoPage      1.400000e+01  \n",
       "totalsTransactionRevenue  2.312950e+10  "
      ]
     },
     "execution_count": 188,
     "metadata": {},
     "output_type": "execute_result"
    }
   ],
   "source": [
    "df.describe().T"
   ]
  },
  {
   "cell_type": "markdown",
   "metadata": {},
   "source": [
    "### Export Preprocessed dataset"
   ]
  },
  {
   "cell_type": "code",
   "execution_count": 189,
   "metadata": {},
   "outputs": [],
   "source": [
    "df.to_csv(\"data/df3.csv\", index=False)"
   ]
  }
 ],
 "metadata": {
  "kernelspec": {
   "display_name": "Python 3",
   "language": "python",
   "name": "python3"
  },
  "language_info": {
   "codemirror_mode": {
    "name": "ipython",
    "version": 3
   },
   "file_extension": ".py",
   "mimetype": "text/x-python",
   "name": "python",
   "nbconvert_exporter": "python",
   "pygments_lexer": "ipython3",
   "version": "3.7.3"
  },
  "toc": {
   "base_numbering": "2",
   "nav_menu": {},
   "number_sections": true,
   "sideBar": true,
   "skip_h1_title": true,
   "title_cell": "Table of Contents",
   "title_sidebar": "Contents",
   "toc_cell": false,
   "toc_position": {},
   "toc_section_display": true,
   "toc_window_display": false
  },
  "varInspector": {
   "cols": {
    "lenName": 16,
    "lenType": 16,
    "lenVar": 40
   },
   "kernels_config": {
    "python": {
     "delete_cmd_postfix": "",
     "delete_cmd_prefix": "del ",
     "library": "var_list.py",
     "varRefreshCmd": "print(var_dic_list())"
    },
    "r": {
     "delete_cmd_postfix": ") ",
     "delete_cmd_prefix": "rm(",
     "library": "var_list.r",
     "varRefreshCmd": "cat(var_dic_list()) "
    }
   },
   "types_to_exclude": [
    "module",
    "function",
    "builtin_function_or_method",
    "instance",
    "_Feature"
   ],
   "window_display": false
  }
 },
 "nbformat": 4,
 "nbformat_minor": 2
}
